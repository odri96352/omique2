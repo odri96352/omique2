{
 "cells": [
  {
   "cell_type": "markdown",
   "id": "cdb689bb",
   "metadata": {},
   "source": [
    "# STEP 1 "
   ]
  },
  {
   "cell_type": "code",
   "execution_count": 1,
   "id": "7166cabb",
   "metadata": {},
   "outputs": [],
   "source": [
    "def asciiDC3 (seq) : \n",
    "    asc=[]\n",
    "    for i in seq : \n",
    "        asc.append(ord(i))\n",
    "    \n",
    "    return asc+[0,0,0]"
   ]
  },
  {
   "cell_type": "code",
   "execution_count": 2,
   "id": "c807cbc7",
   "metadata": {},
   "outputs": [],
   "source": [
    "def position1_2 (asc):\n",
    "    ind1=[]\n",
    "    ind2=[]\n",
    "    for k in range(len(asc)-2):  #attention on a peut etre fait de la merde ici, pas sure du -2\n",
    "        if k%3==1 :\n",
    "            ind1.append(k)\n",
    "        if k%3==2:\n",
    "            ind2.append(k)\n",
    "    return ind1+ind2"
   ]
  },
  {
   "cell_type": "code",
   "execution_count": 3,
   "id": "2071f6d0",
   "metadata": {},
   "outputs": [],
   "source": [
    "def radix (p, t):\n",
    "    r=[]\n",
    "    for i in range(len(p)):\n",
    "        index=p[i]\n",
    "        r.append([t[index],t[index+1], t[index+2]])\n",
    "    return r"
   ]
  },
  {
   "cell_type": "code",
   "execution_count": 64,
   "id": "862523e6",
   "metadata": {},
   "outputs": [],
   "source": [
    "def sort(array,index, alphabet, columnNumber):\n",
    "    if len(array) == 0:\n",
    "        return array\n",
    "\n",
    "  # Perform counting sort on each column, starting at the last\n",
    "\n",
    "    column = columnNumber\n",
    "    while column>=0: # nous on met \"tant que l'indice est supérieur à 3\"\n",
    "        array, index = countingSortByDigit(array,index, alphabet, column)\n",
    "        column-=1 #change de colonne dans ton tableau\n",
    "\n",
    "    return array, index\n",
    "\n",
    "def countingSortByDigit(array, index, alphabet, column):\n",
    "    \"\"\"\n",
    "    ici possibleNumbers= nombre de chiffres possibles. Nous n'avons que 4 nombres (0,97,98,99)\n",
    "    \"\"\"\n",
    "\n",
    "    countIndex = -1\n",
    "    count = [0] * len(alphabet)\n",
    "    output = [None] * len(array)\n",
    "    outputIndex= [0] * len(array)\n",
    "\n",
    "  # Count frequencies\n",
    "    for i in range(0, len(array)):\n",
    "        print(\"i \"+str(i))\n",
    "        print(\"array[i] \"+ str(array[i]))\n",
    "        print(\"column \"+str(column))\n",
    "        \n",
    "        countIndex = alphabet[array[i][column]]\n",
    "        count[countIndex] += 1\n",
    "\n",
    "  # Compute cumulates\n",
    "    for i in range(1, len(alphabet)):\n",
    "        count[i] += count[i - 1]\n",
    "\n",
    "  # Move records\n",
    "    for i in range(len(array) - 1, -1, -1):\n",
    "        countIndex = alphabet[array[i][column]]\n",
    "        count[countIndex] -= 1\n",
    "        output[count[countIndex]] = array[i]\n",
    "        outputIndex[count[countIndex]]=index[i]\n",
    "       \n",
    "    return output, outputIndex"
   ]
  },
  {
   "cell_type": "code",
   "execution_count": 5,
   "id": "d4ee7381",
   "metadata": {},
   "outputs": [],
   "source": [
    "def ordre(R):\n",
    "    index=1\n",
    "    ordre=[1]\n",
    "    for i in range(1, len(R)): \n",
    "        if R[i-1]==R[i] : \n",
    "            ordre.append(index)\n",
    "            index=index\n",
    "            \n",
    "        else : \n",
    "            index+=1\n",
    "            ordre.append(index)\n",
    "            \n",
    "    return ordre\n",
    "            "
   ]
  },
  {
   "cell_type": "code",
   "execution_count": 6,
   "id": "1e0182be",
   "metadata": {},
   "outputs": [],
   "source": [
    "def Tprime(ordre, p12, index):\n",
    "    t=[]\n",
    "    for p in p12:\n",
    "        for i in range(len(index)):\n",
    "            if index[i]==p : \n",
    "                t.append(ordre[i])\n",
    "    return t"
   ]
  },
  {
   "cell_type": "code",
   "execution_count": 7,
   "id": "3da39831",
   "metadata": {},
   "outputs": [],
   "source": [
    "def repeated(t):\n",
    "    dic={}\n",
    "    for i in t : \n",
    "        if i in dic : \n",
    "            return True\n",
    "        else :\n",
    "            dic[i]=0\n",
    "    return False"
   ]
  },
  {
   "cell_type": "code",
   "execution_count": 75,
   "id": "3ff79b30",
   "metadata": {},
   "outputs": [],
   "source": [
    "def alphabet(T, index=False):\n",
    "    ### à changer pcq c laid\n",
    "    dic={}\n",
    "    a=[]\n",
    "    for i in range(len(T)):\n",
    "        a.append(T[i])\n",
    "        if index:\n",
    "            if i%3==0:\n",
    "                if i+1<len(T):\n",
    "                    a.append(i+1+1)\n",
    "                else:\n",
    "                    a.append(1)\n",
    "    a.sort() ## MDR CE SORT EST A CHANGER SERGIO VA NOUS TUER\n",
    "    \n",
    "    for element in a:\n",
    "        if not (element in dic):\n",
    "            dic[element]=len(dic)\n",
    "    return dic"
   ]
  },
  {
   "cell_type": "code",
   "execution_count": 9,
   "id": "df2d7448",
   "metadata": {},
   "outputs": [],
   "source": [
    "def recursiveT(T, columnNumber):\n",
    "    order=[0,0,0,0]\n",
    "    T2=T\n",
    "    depth=0 #depth= variable qui compte combien de fois on a effectué la boucle de récursion\n",
    "    while repeated(order):\n",
    "        depth+=1\n",
    "        T=T2\n",
    "        alphabetT=alphabet(T)\n",
    "        print(\"alphabet\")\n",
    "        print(alphabetT)\n",
    "        p=position1_2(T)\n",
    "        print(\"position1_2\")\n",
    "        print(p)\n",
    "        print(\"T\")\n",
    "        print(T)\n",
    "        r=radix(p,T)\n",
    "        print(\"radix\")\n",
    "        print(r)\n",
    "        rs, index=sort(r, p, alphabetT, columnNumber)\n",
    "        print(\"sort rs\")\n",
    "        print(rs)\n",
    "        print(\"sort index\")\n",
    "        print(index)\n",
    "        order=ordre(rs)\n",
    "        print(\"ordre\")\n",
    "        print(order)\n",
    "        T2=Tprime(order, p, index)+[0,0,0]\n",
    "        \n",
    "    return T, order, rs, index, depth"
   ]
  },
  {
   "cell_type": "code",
   "execution_count": 36,
   "id": "98917445",
   "metadata": {},
   "outputs": [],
   "source": [
    "def recursiveListe(T, columnNumber):\n",
    "    # renvoie toutes les listes créées lors de chaque passage dans la boucle while, \n",
    "    # pour qu'on puisse \"remonter\" la récursion\n",
    "    \n",
    "    order=[0,0,0,0]\n",
    "    Tlist=[]\n",
    "    indexlist=[]\n",
    "    P12list=[]\n",
    "    T2=T\n",
    "    depth=0 #depth= variable qui compte combien de fois on a effectué la boucle de récursion\n",
    "    while repeated(order):\n",
    "        depth+=1\n",
    "        T=T2\n",
    "        Tlist.append(T)\n",
    "        alphabetT=alphabet(T)\n",
    "        p=position1_2(T)\n",
    "        P12list.append(p)\n",
    "        r=radix(p,T)\n",
    "        rs, index=sort(r, p, alphabetT, columnNumber)\n",
    "        indexlist.append(index)\n",
    "        order=ordre(rs)\n",
    "        T2=Tprime(order, p, index)+[0,0,0]\n",
    "        \n",
    "        \n",
    "    return Tlist, indexlist, P12list"
   ]
  },
  {
   "cell_type": "code",
   "execution_count": 11,
   "id": "668ef633",
   "metadata": {},
   "outputs": [
    {
     "name": "stdout",
     "output_type": "stream",
     "text": [
      "{10: 0, 11: 1, 24: 2, 45: 3, 47: 4, 61: 5}\n"
     ]
    }
   ],
   "source": [
    "print(alphabet([10,45,24,61,47,11,10,11]))"
   ]
  },
  {
   "cell_type": "code",
   "execution_count": 12,
   "id": "a0c3bfb7",
   "metadata": {},
   "outputs": [],
   "source": [
    "S=\"abcabcacab\""
   ]
  },
  {
   "cell_type": "code",
   "execution_count": 13,
   "id": "c148b266",
   "metadata": {},
   "outputs": [
    {
     "name": "stdout",
     "output_type": "stream",
     "text": [
      "[97, 98, 99, 97, 98, 99, 97, 99, 97, 98, 0, 0, 0]\n"
     ]
    }
   ],
   "source": [
    "T=asciiDC3(S)\n",
    "print(T)"
   ]
  },
  {
   "cell_type": "code",
   "execution_count": 14,
   "id": "e840971b",
   "metadata": {},
   "outputs": [
    {
     "name": "stdout",
     "output_type": "stream",
     "text": [
      "[1, 4, 7, 10, 2, 5, 8]\n"
     ]
    }
   ],
   "source": [
    "p12=position1_2(T)\n",
    "print(p12)"
   ]
  },
  {
   "cell_type": "code",
   "execution_count": 15,
   "id": "92a6e443",
   "metadata": {},
   "outputs": [
    {
     "name": "stdout",
     "output_type": "stream",
     "text": [
      "[[98, 99, 97], [98, 99, 97], [99, 97, 98], [0, 0, 0], [99, 97, 98], [99, 97, 99], [97, 98, 0]]\n"
     ]
    }
   ],
   "source": [
    "R12=radix(p12, T)\n",
    "print(R12)"
   ]
  },
  {
   "cell_type": "code",
   "execution_count": 16,
   "id": "1fe48a08",
   "metadata": {},
   "outputs": [],
   "source": [
    "alph ={0:0, 97: 1, 98: 2, 99:3}"
   ]
  },
  {
   "cell_type": "code",
   "execution_count": 17,
   "id": "55af202e",
   "metadata": {},
   "outputs": [
    {
     "name": "stdout",
     "output_type": "stream",
     "text": [
      "[[0, 0, 0], [97, 98, 0], [98, 99, 97], [98, 99, 97], [99, 97, 98], [99, 97, 98], [99, 97, 99]]\n",
      "[10, 8, 1, 4, 7, 2, 5]\n"
     ]
    }
   ],
   "source": [
    "Rs12, index12= sort(R12,p12, alph, 2)\n",
    "print(Rs12)\n",
    "print(index12)"
   ]
  },
  {
   "cell_type": "code",
   "execution_count": 18,
   "id": "a1730103",
   "metadata": {},
   "outputs": [
    {
     "name": "stdout",
     "output_type": "stream",
     "text": [
      "[1, 2, 3, 3, 4, 4, 5]\n"
     ]
    }
   ],
   "source": [
    "order12=ordre(Rs12)\n",
    "print(order12)"
   ]
  },
  {
   "cell_type": "code",
   "execution_count": 19,
   "id": "c8262ba3",
   "metadata": {},
   "outputs": [
    {
     "name": "stdout",
     "output_type": "stream",
     "text": [
      "[3, 3, 4, 1, 4, 5, 2]\n"
     ]
    }
   ],
   "source": [
    "tprime=Tprime(order12, p12, index12)\n",
    "print(tprime)"
   ]
  },
  {
   "cell_type": "code",
   "execution_count": 20,
   "id": "f78840d4",
   "metadata": {},
   "outputs": [
    {
     "name": "stdout",
     "output_type": "stream",
     "text": [
      "T\n",
      "[97, 98, 99, 97, 98, 99, 97, 99, 97, 98, 0, 0, 0]\n",
      "alphabet\n",
      "{0: 0, 97: 1, 98: 2, 99: 3}\n",
      "position1_2\n",
      "[1, 4, 7, 10, 2, 5, 8]\n",
      "T\n",
      "[97, 98, 99, 97, 98, 99, 97, 99, 97, 98, 0, 0, 0]\n",
      "radix\n",
      "[[98, 99, 97], [98, 99, 97], [99, 97, 98], [0, 0, 0], [99, 97, 98], [99, 97, 99], [97, 98, 0]]\n",
      "sort rs\n",
      "[[0, 0, 0], [97, 98, 0], [98, 99, 97], [98, 99, 97], [99, 97, 98], [99, 97, 98], [99, 97, 99]]\n",
      "sort index\n",
      "[10, 8, 1, 4, 7, 2, 5]\n",
      "ordre\n",
      "[1, 2, 3, 3, 4, 4, 5]\n",
      "alphabet\n",
      "{0: 0, 1: 1, 2: 2, 3: 3, 4: 4, 5: 5}\n",
      "position1_2\n",
      "[1, 4, 7, 2, 5]\n",
      "T\n",
      "[3, 3, 4, 1, 4, 5, 2, 0, 0, 0]\n",
      "radix\n",
      "[[3, 4, 1], [4, 5, 2], [0, 0, 0], [4, 1, 4], [5, 2, 0]]\n",
      "sort rs\n",
      "[[0, 0, 0], [3, 4, 1], [4, 1, 4], [4, 5, 2], [5, 2, 0]]\n",
      "sort index\n",
      "[7, 1, 2, 4, 5]\n",
      "ordre\n",
      "[1, 2, 3, 4, 5]\n",
      "Tfinal\n",
      "[3, 3, 4, 1, 4, 5, 2, 0, 0, 0]\n",
      "[1, 2, 3, 4, 5]\n",
      "[[0, 0, 0], [3, 4, 1], [4, 1, 4], [4, 5, 2], [5, 2, 0]]\n",
      "[7, 1, 2, 4, 5]\n",
      "depth\n",
      "2\n"
     ]
    }
   ],
   "source": [
    "T=[97, 98, 99, 97, 98, 99, 97, 99, 97, 98,0,0,0]\n",
    "print(\"T\")\n",
    "print(T)\n",
    "Tfinal, ordrestep2, rstep2, index12, depth=recursiveT(T, 2)\n",
    "print(\"Tfinal\")\n",
    "print(Tfinal)\n",
    "print(ordrestep2)\n",
    "print(rstep2)\n",
    "print(index12)\n",
    "print(\"depth\")\n",
    "print(depth)"
   ]
  },
  {
   "cell_type": "code",
   "execution_count": 37,
   "id": "d7731514",
   "metadata": {},
   "outputs": [
    {
     "name": "stdout",
     "output_type": "stream",
     "text": [
      "([[97, 98, 99, 97, 98, 99, 97, 99, 97, 98, 0, 0, 0], [3, 3, 4, 1, 4, 5, 2, 0, 0, 0]], [[10, 8, 1, 4, 7, 2, 5], [7, 1, 2, 4, 5]], [[1, 4, 7, 10, 2, 5, 8], [1, 4, 7, 2, 5]])\n"
     ]
    }
   ],
   "source": [
    "print(recursiveListe(T, 2))"
   ]
  },
  {
   "cell_type": "markdown",
   "id": "c1ab13fc",
   "metadata": {},
   "source": [
    "# STEP 2 "
   ]
  },
  {
   "cell_type": "code",
   "execution_count": 22,
   "id": "a0cf8c51",
   "metadata": {},
   "outputs": [],
   "source": [
    "import copy"
   ]
  },
  {
   "cell_type": "code",
   "execution_count": 61,
   "id": "68b62a22",
   "metadata": {},
   "outputs": [],
   "source": [
    "def position0_R0(t):\n",
    "    #attention T se finit avec trois 0\n",
    "    T=copy.deepcopy(t)\n",
    "    T.pop()\n",
    "    T.pop()\n",
    "    T.pop()\n",
    "    position=[]\n",
    "    R=[]\n",
    "    for i in range(len(T)):\n",
    "        if i%3==0:\n",
    "            position.append(i)\n",
    "            if i+1<len(T):\n",
    "                #append rank of next item\n",
    "                # i = position of item\n",
    "                # i+1 = position of next item\n",
    "                # i+2 = rank of next item\n",
    "                R.append([T[i],i+1+1])\n",
    "            else:\n",
    "                R.append([T[i],1]) # because item of position 0 is rank 1\n",
    "    return position, R\n",
    "            "
   ]
  },
  {
   "cell_type": "markdown",
   "id": "59467f64",
   "metadata": {},
   "source": [
    "test zone"
   ]
  },
  {
   "cell_type": "code",
   "execution_count": 24,
   "id": "c0dbd328",
   "metadata": {},
   "outputs": [
    {
     "name": "stdout",
     "output_type": "stream",
     "text": [
      "[0, 3, 6]\n",
      "[[3, 2], [1, 5], [2, 1]]\n"
     ]
    }
   ],
   "source": [
    "pos_0,R_0=position0_R0(Tfinal)\n",
    "print(pos_0)\n",
    "print(R_0)"
   ]
  },
  {
   "cell_type": "code",
   "execution_count": 25,
   "id": "86333b12",
   "metadata": {},
   "outputs": [
    {
     "name": "stdout",
     "output_type": "stream",
     "text": [
      "[[1, 5], [2, 1], [3, 2]]\n",
      "[3, 6, 0]\n"
     ]
    }
   ],
   "source": [
    "R_0sorted, index_0=sort(R_0,pos_0,alphabet(Tfinal) ,1)\n",
    "print(R_0sorted)\n",
    "print(index_0)"
   ]
  },
  {
   "cell_type": "markdown",
   "id": "8f9976b0",
   "metadata": {},
   "source": [
    "# STEP 3"
   ]
  },
  {
   "cell_type": "code",
   "execution_count": 26,
   "id": "590120c0",
   "metadata": {},
   "outputs": [],
   "source": [
    "def merge(Tfinal, index_0, index12) : \n",
    "    liste=[]\n",
    "    A=0\n",
    "    B=0\n",
    "    while A<len(index_0) and B<len(index12):\n",
    "        #print(\"rentre dans le while\")\n",
    "        a=index_0[A]\n",
    "        b=index12[B]\n",
    "        if Tfinal[a]!=Tfinal[b] :\n",
    "            minimum=min(Tfinal[a], Tfinal[b])\n",
    "            \n",
    "            if minimum == Tfinal[a]:\n",
    "                #print(\"a= \"+str(a)+\", b= \"+str(b)+\", on append le \"+str(a))\n",
    "                A+=1\n",
    "                liste.append(a)\n",
    "            else: \n",
    "                #print(\"a= \"+str(a)+\", b= \"+str(b)+\", on append le \"+str(b))\n",
    "                B+=1\n",
    "                liste.append(b)\n",
    "\n",
    "        else :\n",
    "            if b%3==1 : \n",
    "                #print(str(b)+\" est congru à 1 modulo 3\")\n",
    "                longueur=len(liste)\n",
    "                i=0\n",
    "                while longueur==len(liste):\n",
    "                    #print(\"index12\")\n",
    "                    #print(index12)\n",
    "                    #print(\"a= \"+str(a)+\", b= \"+str(b))    \n",
    "                    if a+1==index12[i]:\n",
    "                        #print(str(a+1)+\" apparait en premier dans index12\")\n",
    "                        liste.append(a)\n",
    "                        A+=1\n",
    "                    elif b+1==index12[i]:\n",
    "                        #print(str(b+1)+\" apparait en premier dans index12\")\n",
    "                        liste.append(b)\n",
    "\n",
    "                        B+=1\n",
    "                    else:\n",
    "                        i+=1\n",
    "                    \n",
    "                    \n",
    "            elif b%3==2 :\n",
    "                #print(str(b)+\"est congru à 2 modulo 3\")\n",
    "                if Tfinal[a+1]!=Tfinal[b+1] :\n",
    "                    minimum=min(Tfinal[a], Tfinal[b])\n",
    "                    if minimum == Tfinal[a]:\n",
    "                        A+=1\n",
    "                        liste.append(a)\n",
    "                    else: \n",
    "                        B+=1\n",
    "                        liste.append(b)\n",
    "\n",
    "                else:\n",
    "                    for element in index12:\n",
    "                        if a+2==element:\n",
    "                            liste.append(a)\n",
    "                            A+=1\n",
    "                        elif b+2==element:\n",
    "                            liste.append(b)\n",
    "                            B+=1\n",
    "\n",
    "        #print(\"A \"+str(A))\n",
    "        #print(\"B \"+str(B))\n",
    "        if A==len(index_0):\n",
    "            for i in range(B, len(index12)):\n",
    "                liste.append(index12[i])\n",
    "        if B==len(index12):\n",
    "            for i in range(A, len(index_0)):\n",
    "                liste.append(index_0[i])\n",
    "\n",
    "    return liste"
   ]
  },
  {
   "cell_type": "code",
   "execution_count": 27,
   "id": "524072a3",
   "metadata": {},
   "outputs": [],
   "source": [
    "def removesentinel(index):\n",
    "    return index[1:]"
   ]
  },
  {
   "cell_type": "code",
   "execution_count": 43,
   "id": "2ece5a17",
   "metadata": {},
   "outputs": [],
   "source": [
    "def resumeHigherOrder(index012prime, P12):\n",
    "    output=[]\n",
    "    for element in index012prime:\n",
    "        output.append(P12[element])\n",
    "        \n",
    "    return output"
   ]
  },
  {
   "cell_type": "code",
   "execution_count": 81,
   "id": "cab6625f",
   "metadata": {},
   "outputs": [],
   "source": [
    "def assembleSuffixAray(RecursionLists):\n",
    "    index12=RecursionLists[1][-1]\n",
    "    for i in range(len(RecursionLists)-1):\n",
    "        \n",
    "        T=RecursionLists[0][-1-i]\n",
    "        \n",
    "\n",
    "        \n",
    "# crée P0\n",
    "        pos_0,R_0=position0_R0(T)\n",
    "        print(\"i \"+str(i))\n",
    "        print(\"pos_0 \"+str(pos_0))\n",
    "        print(\"R_0 \"+str(R_0))\n",
    "        print(\"alphabet \")\n",
    "        print(alphabet(T, True))\n",
    "# trie P\n",
    "        R_0sorted, index_0=sort(R_0,pos_0,alphabet(T, True) ,1)\n",
    "# merge P0 et R0\n",
    "        index012=merge(T, index_0, index12)\n",
    "        index012rime=removesentinel(index012)\n",
    "# préparer la boucle suivante\n",
    "        if i<len(RecursionLists)-2:\n",
    "            p12=RecursionLists[2][-2-i] # on prend les positions d'un ordre +1\n",
    "            index12=resumeHigherOrder(index012prime,p12 )\n",
    "        \n",
    "    return index012rime"
   ]
  },
  {
   "cell_type": "markdown",
   "id": "b8970676",
   "metadata": {},
   "source": [
    "test zone"
   ]
  },
  {
   "cell_type": "code",
   "execution_count": 30,
   "id": "766ac4eb",
   "metadata": {},
   "outputs": [
    {
     "name": "stdout",
     "output_type": "stream",
     "text": [
      "[3, 6, 0]\n",
      "[7, 1, 2, 4, 5]\n",
      "output\n",
      "[7, 3, 6, 0, 1, 2, 4, 5]\n"
     ]
    }
   ],
   "source": [
    "index012=merge(Tfinal, index_0, index12)\n",
    "print(index_0)\n",
    "print(index12)\n",
    "print(\"output\")\n",
    "print(index012)"
   ]
  },
  {
   "cell_type": "code",
   "execution_count": 31,
   "id": "6059c6c3",
   "metadata": {},
   "outputs": [],
   "source": [
    "index012prime=removesentinel(index012)"
   ]
  },
  {
   "cell_type": "code",
   "execution_count": 82,
   "id": "35884f3d",
   "metadata": {},
   "outputs": [
    {
     "name": "stdout",
     "output_type": "stream",
     "text": [
      "i 0\n",
      "array[i] [98, 99, 97]\n",
      "column 2\n",
      "i 1\n",
      "array[i] [98, 99, 97]\n",
      "column 2\n",
      "i 2\n",
      "array[i] [99, 97, 98]\n",
      "column 2\n",
      "i 3\n",
      "array[i] [0, 0, 0]\n",
      "column 2\n",
      "i 4\n",
      "array[i] [99, 97, 98]\n",
      "column 2\n",
      "i 5\n",
      "array[i] [99, 97, 99]\n",
      "column 2\n",
      "i 6\n",
      "array[i] [97, 98, 0]\n",
      "column 2\n",
      "i 0\n",
      "array[i] [0, 0, 0]\n",
      "column 1\n",
      "i 1\n",
      "array[i] [97, 98, 0]\n",
      "column 1\n",
      "i 2\n",
      "array[i] [98, 99, 97]\n",
      "column 1\n",
      "i 3\n",
      "array[i] [98, 99, 97]\n",
      "column 1\n",
      "i 4\n",
      "array[i] [99, 97, 98]\n",
      "column 1\n",
      "i 5\n",
      "array[i] [99, 97, 98]\n",
      "column 1\n",
      "i 6\n",
      "array[i] [99, 97, 99]\n",
      "column 1\n",
      "i 0\n",
      "array[i] [0, 0, 0]\n",
      "column 0\n",
      "i 1\n",
      "array[i] [99, 97, 98]\n",
      "column 0\n",
      "i 2\n",
      "array[i] [99, 97, 98]\n",
      "column 0\n",
      "i 3\n",
      "array[i] [99, 97, 99]\n",
      "column 0\n",
      "i 4\n",
      "array[i] [97, 98, 0]\n",
      "column 0\n",
      "i 5\n",
      "array[i] [98, 99, 97]\n",
      "column 0\n",
      "i 6\n",
      "array[i] [98, 99, 97]\n",
      "column 0\n",
      "i 0\n",
      "array[i] [3, 4, 1]\n",
      "column 2\n",
      "i 1\n",
      "array[i] [4, 5, 2]\n",
      "column 2\n",
      "i 2\n",
      "array[i] [0, 0, 0]\n",
      "column 2\n",
      "i 3\n",
      "array[i] [4, 1, 4]\n",
      "column 2\n",
      "i 4\n",
      "array[i] [5, 2, 0]\n",
      "column 2\n",
      "i 0\n",
      "array[i] [0, 0, 0]\n",
      "column 1\n",
      "i 1\n",
      "array[i] [5, 2, 0]\n",
      "column 1\n",
      "i 2\n",
      "array[i] [3, 4, 1]\n",
      "column 1\n",
      "i 3\n",
      "array[i] [4, 5, 2]\n",
      "column 1\n",
      "i 4\n",
      "array[i] [4, 1, 4]\n",
      "column 1\n",
      "i 0\n",
      "array[i] [0, 0, 0]\n",
      "column 0\n",
      "i 1\n",
      "array[i] [4, 1, 4]\n",
      "column 0\n",
      "i 2\n",
      "array[i] [5, 2, 0]\n",
      "column 0\n",
      "i 3\n",
      "array[i] [3, 4, 1]\n",
      "column 0\n",
      "i 4\n",
      "array[i] [4, 5, 2]\n",
      "column 0\n",
      "i 0\n",
      "pos_0 [0, 3, 6]\n",
      "R_0 [[3, 2], [1, 5], [2, 1]]\n",
      "alphabet \n",
      "{0: 0, 1: 1, 2: 2, 3: 3, 4: 4, 5: 5, 8: 6}\n",
      "i 0\n",
      "array[i] [3, 2]\n",
      "column 1\n",
      "i 1\n",
      "array[i] [1, 5]\n",
      "column 1\n",
      "i 2\n",
      "array[i] [2, 1]\n",
      "column 1\n",
      "i 0\n",
      "array[i] [2, 1]\n",
      "column 0\n",
      "i 1\n",
      "array[i] [3, 2]\n",
      "column 0\n",
      "i 2\n",
      "array[i] [1, 5]\n",
      "column 0\n",
      "[3, 6, 0, 1, 2, 4, 5]\n",
      "[1, 4, 7, 10, 2, 5, 8]\n",
      "i 1\n",
      "pos_0 [0, 3, 6, 9]\n",
      "R_0 [[97, 2], [97, 5], [97, 8], [98, 1]]\n",
      "alphabet \n",
      "{0: 0, 1: 1, 2: 2, 5: 3, 8: 4, 11: 5, 97: 6, 98: 7, 99: 8}\n",
      "i 0\n",
      "array[i] [97, 2]\n",
      "column 1\n",
      "i 1\n",
      "array[i] [97, 5]\n",
      "column 1\n",
      "i 2\n",
      "array[i] [97, 8]\n",
      "column 1\n",
      "i 3\n",
      "array[i] [98, 1]\n",
      "column 1\n",
      "i 0\n",
      "array[i] [98, 1]\n",
      "column 0\n",
      "i 1\n",
      "array[i] [97, 2]\n",
      "column 0\n",
      "i 2\n",
      "array[i] [97, 5]\n",
      "column 0\n",
      "i 3\n",
      "array[i] [97, 8]\n",
      "column 0\n",
      "[8, 0, 3, 6, 9, 1, 4, 7, 2, 5]\n"
     ]
    }
   ],
   "source": [
    "print(assembleSuffixAray(recursiveListe(T,2)))"
   ]
  },
  {
   "cell_type": "code",
   "execution_count": null,
   "id": "cf3ec164",
   "metadata": {},
   "outputs": [],
   "source": []
  }
 ],
 "metadata": {
  "kernelspec": {
   "display_name": "Python 3 (ipykernel)",
   "language": "python",
   "name": "python3"
  },
  "language_info": {
   "codemirror_mode": {
    "name": "ipython",
    "version": 3
   },
   "file_extension": ".py",
   "mimetype": "text/x-python",
   "name": "python",
   "nbconvert_exporter": "python",
   "pygments_lexer": "ipython3",
   "version": "3.10.12"
  }
 },
 "nbformat": 4,
 "nbformat_minor": 5
}
