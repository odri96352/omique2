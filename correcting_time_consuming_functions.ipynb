{
 "cells": [
  {
   "cell_type": "markdown",
   "id": "cdb689bb",
   "metadata": {},
   "source": [
    "# STEP 1 "
   ]
  },
  {
   "cell_type": "code",
   "execution_count": 2,
   "id": "bf52a3d6",
   "metadata": {},
   "outputs": [
    {
     "name": "stderr",
     "output_type": "stream",
     "text": [
      "/usr/lib/python3/dist-packages/scipy/__init__.py:146: UserWarning: A NumPy version >=1.17.3 and <1.25.0 is required for this version of SciPy (detected version 1.26.1\n",
      "  warnings.warn(f\"A NumPy version >={np_minversion} and <{np_maxversion}\"\n"
     ]
    }
   ],
   "source": [
    "import time\n",
    "import matplotlib.pyplot as plt\n",
    "import pandas as pd\n",
    "import seaborn as sns"
   ]
  },
  {
   "cell_type": "code",
   "execution_count": 3,
   "id": "7166cabb",
   "metadata": {},
   "outputs": [],
   "source": [
    "def asciiDC3 (seq) : \n",
    "    asc=[]\n",
    "    for i in seq : \n",
    "        asc.append(ord(i))\n",
    "    \n",
    "    return asc+[0,0,0]"
   ]
  },
  {
   "cell_type": "code",
   "execution_count": 4,
   "id": "c807cbc7",
   "metadata": {},
   "outputs": [],
   "source": [
    "def position1_2 (asc):\n",
    "    ind1=[]\n",
    "    ind2=[]\n",
    "    for k in range(len(asc)-2):\n",
    "        #attention on a peut etre fait de la merde ici, pas sure du -2\n",
    "        if k%3==1 :\n",
    "            ind1.append(k)\n",
    "        if k%3==2:\n",
    "            ind2.append(k)\n",
    "    # dans le cas où T a un nombre d'élément multiple de 3, r12 ne contiendra pas le triplet [0,0,0].\n",
    "    # Or, la fonction, \"removesentinel\" retire 1 élément notre suffix table, pour justement se débarrasser de [0,0,0]\n",
    "    # J'ai donc décider de rajouter artificiellement [0,0,0] dans les cas où il n'est pas déjà là.\n",
    "    if len(asc)%3==0:\n",
    "        ind1.append(len(asc)-1-2)\n",
    "        \n",
    "    return ind1+ind2"
   ]
  },
  {
   "cell_type": "code",
   "execution_count": 5,
   "id": "19ad5e5c",
   "metadata": {},
   "outputs": [
    {
     "name": "stdout",
     "output_type": "stream",
     "text": [
      "18\n"
     ]
    }
   ],
   "source": [
    "print(len([2, 17, 7, 5, 4, 3, 12, 9, 6, 8, 10, 13, 14, 12, 11, 16, 15, 1, 0, 0, 0])-3)"
   ]
  },
  {
   "cell_type": "code",
   "execution_count": 6,
   "id": "e229e576",
   "metadata": {},
   "outputs": [
    {
     "name": "stdout",
     "output_type": "stream",
     "text": [
      "[1, 4, 7, 10, 13, 16, 18, 2, 5, 8, 11, 14, 17]\n"
     ]
    }
   ],
   "source": [
    "print(position1_2([2, 17, 7, 5, 4, 3, 12, 9, 6, 8, 10, 13, 14, 12, 11, 16, 15, 1, 0, 0, 0]))"
   ]
  },
  {
   "cell_type": "code",
   "execution_count": 7,
   "id": "2071f6d0",
   "metadata": {},
   "outputs": [],
   "source": [
    "def radix (p, t):\n",
    "    r=[]\n",
    "    for i in range(len(p)):\n",
    "        index=p[i]\n",
    "        r.append([t[index],t[index+1], t[index+2]])\n",
    "    return r"
   ]
  },
  {
   "cell_type": "code",
   "execution_count": 45,
   "id": "862523e6",
   "metadata": {},
   "outputs": [],
   "source": [
    "def sort(array,index, alphabet, columnNumber):\n",
    "    #print(\"array\")\n",
    "    #print(array)\n",
    "    #print(\"alphabet\")\n",
    "    #print(alphabet)\n",
    "    if len(array) == 0:\n",
    "        return array\n",
    "\n",
    "  # Perform counting sort on each column, starting at the last\n",
    "\n",
    "    column = columnNumber\n",
    "    while column>=0: # nous on met \"tant que l'indice est supérieur à 3\"\n",
    "        array, index = countingSortByDigit(array,index, alphabet, column)\n",
    "        column-=1 #change de colonne dans ton tableau\n",
    "\n",
    "    return array, index\n",
    "\n",
    "def countingSortByDigit(array, index, alphabet, column):\n",
    "    \"\"\"\n",
    "    ici possibleNumbers= nombre de chiffres possibles. Nous n'avons que 4 nombres (0,97,98,99)\n",
    "    \"\"\"\n",
    "\n",
    "    countIndex = -1\n",
    "    count = [0] * len(alphabet)\n",
    "    output = [None] * len(array)\n",
    "    outputIndex= [0] * len(array)\n",
    "\n",
    "  # Count frequencies\n",
    "    for i in range(0, len(array)):\n",
    "        #print(\"i \"+str(i))\n",
    "        #print(\"array[i] \"+ str(array[i]))\n",
    "        #print(\"column \"+str(column))\n",
    "        \n",
    "        countIndex = alphabet[array[i][column]]\n",
    "        count[countIndex] += 1\n",
    "\n",
    "  # Compute cumulates\n",
    "    for i in range(1, len(alphabet)):\n",
    "        count[i] += count[i - 1]\n",
    "\n",
    "  # Move records\n",
    "    for i in range(len(array) - 1, -1, -1):\n",
    "        countIndex = alphabet[array[i][column]]\n",
    "        count[countIndex] -= 1\n",
    "        output[count[countIndex]] = array[i]\n",
    "        outputIndex[count[countIndex]]=index[i]\n",
    "       \n",
    "    return output, outputIndex"
   ]
  },
  {
   "cell_type": "code",
   "execution_count": 180,
   "id": "55b65873",
   "metadata": {},
   "outputs": [],
   "source": [
    "def ordre(R, index12, use_index_12=False):\n",
    "    # nous renovie la liste order du genre (1,2,2,3,4,4,5)  et un booléen indiquant s'il y a répétition\n",
    "    index=1\n",
    "    repetition=False\n",
    "    order=[1]\n",
    "    \n",
    "    if use_index_12:\n",
    "        indexdict={index12[0]:1}\n",
    "        \n",
    "    for i in range(1, len(R)): \n",
    "        if R[i-1]==R[i] : \n",
    "            order.append(index)\n",
    "            repetition=True\n",
    "        else : \n",
    "            index+=1\n",
    "            order.append(index)\n",
    "            \n",
    "        if use_index_12:\n",
    "            indexdict[index12[i]]=i+1\n",
    "    if use_index_12:\n",
    "        return order, repetition, indexdict\n",
    "    else: \n",
    "        return order, repetition\n",
    "            "
   ]
  },
  {
   "cell_type": "code",
   "execution_count": 214,
   "id": "1e0182be",
   "metadata": {},
   "outputs": [],
   "source": [
    "def Tprime(ordre, p12, indexdict):\n",
    "    t=[]\n",
    "    for p in p12:\n",
    "        t.append(ordre[indexdict[p]-1])\n",
    "    return t"
   ]
  },
  {
   "cell_type": "code",
   "execution_count": 215,
   "id": "3ff79b30",
   "metadata": {},
   "outputs": [],
   "source": [
    "def alphabetT(T):\n",
    "    ### à changer pcq c laid\n",
    "    dic={}\n",
    "    a=[]\n",
    "    for i in range(len(T)):\n",
    "        a.append(T[i])\n",
    "    a.sort() ## MDR CE SORT EST A CHANGER SERGIO VA NOUS TUER\n",
    "    \n",
    "    for element in a:\n",
    "        if not (element in dic):\n",
    "            dic[element]=len(dic)\n",
    "    return dic"
   ]
  },
  {
   "cell_type": "code",
   "execution_count": 216,
   "id": "4c0cc3b4",
   "metadata": {},
   "outputs": [],
   "source": [
    "def alphabetR0(R0):\n",
    "    ### à changer pcq c laid\n",
    "    dic={}\n",
    "    a=[]\n",
    "    for column in range(2):\n",
    "        for i in range(len(R0)):\n",
    "            a.append(R0[i][column])\n",
    "    a.sort() ## MDR CE SORT EST A CHANGER SERGIO VA NOUS TUER\n",
    "    \n",
    "    for element in a:\n",
    "        if not (element in dic):\n",
    "            dic[element]=len(dic)\n",
    "    return dic"
   ]
  },
  {
   "cell_type": "markdown",
   "id": "d2b7826f",
   "metadata": {},
   "source": [
    "## Testons nos fonctions sur un string simple"
   ]
  },
  {
   "cell_type": "code",
   "execution_count": 245,
   "id": "a0c3bfb7",
   "metadata": {},
   "outputs": [
    {
     "name": "stdout",
     "output_type": "stream",
     "text": [
      "[97, 98, 99, 97, 98, 99, 97, 99, 97, 98, 0, 0, 0]\n"
     ]
    }
   ],
   "source": [
    "S=\"abcabcacab\"\n",
    "T=asciiDC3(S)\n",
    "columnnumber=2\n",
    "print(T)\n"
   ]
  },
  {
   "cell_type": "code",
   "execution_count": 246,
   "id": "c148b266",
   "metadata": {},
   "outputs": [
    {
     "name": "stdout",
     "output_type": "stream",
     "text": [
      "[1, 4, 7, 10, 2, 5, 8]\n"
     ]
    }
   ],
   "source": [
    "p12=position1_2(T)\n",
    "print(p12)"
   ]
  },
  {
   "cell_type": "code",
   "execution_count": 247,
   "id": "92a6e443",
   "metadata": {},
   "outputs": [
    {
     "name": "stdout",
     "output_type": "stream",
     "text": [
      "[[98, 99, 97], [98, 99, 97], [99, 97, 98], [0, 0, 0], [99, 97, 98], [99, 97, 99], [97, 98, 0]]\n"
     ]
    }
   ],
   "source": [
    "R12=radix(p12, T)\n",
    "print(R12)"
   ]
  },
  {
   "cell_type": "code",
   "execution_count": 248,
   "id": "668ef633",
   "metadata": {},
   "outputs": [
    {
     "data": {
      "text/plain": [
       "{0: 0, 97: 1, 98: 2, 99: 3}"
      ]
     },
     "execution_count": 248,
     "metadata": {},
     "output_type": "execute_result"
    }
   ],
   "source": [
    "alph=alphabetT(T)\n",
    "alph"
   ]
  },
  {
   "cell_type": "code",
   "execution_count": 249,
   "id": "55af202e",
   "metadata": {},
   "outputs": [
    {
     "name": "stdout",
     "output_type": "stream",
     "text": [
      "[[0, 0, 0], [97, 98, 0], [98, 99, 97], [98, 99, 97], [99, 97, 98], [99, 97, 98], [99, 97, 99]]\n",
      "[10, 8, 1, 4, 7, 2, 5]\n"
     ]
    }
   ],
   "source": [
    "Rs12, index12= sort(R12,p12, alph, columnnumber)\n",
    "print(Rs12)\n",
    "print(index12)"
   ]
  },
  {
   "cell_type": "code",
   "execution_count": 250,
   "id": "a1730103",
   "metadata": {},
   "outputs": [
    {
     "name": "stdout",
     "output_type": "stream",
     "text": [
      "[1, 2, 3, 3, 4, 4, 5]\n",
      "True\n",
      "{10: 1, 8: 2, 1: 3, 4: 4, 7: 5, 2: 6, 5: 7}\n"
     ]
    }
   ],
   "source": [
    "use_index12=True\n",
    "order12, boolean, index12dict =ordre(Rs12, index12,use_index12)\n",
    "print(order12)\n",
    "print(boolean)\n",
    "print(index12dict)"
   ]
  },
  {
   "cell_type": "code",
   "execution_count": 251,
   "id": "1fe48a08",
   "metadata": {},
   "outputs": [
    {
     "data": {
      "text/plain": [
       "{0: 0, 97: 1, 98: 2, 99: 3}"
      ]
     },
     "execution_count": 251,
     "metadata": {},
     "output_type": "execute_result"
    }
   ],
   "source": [
    "alph =alphabetT(T)\n",
    "alph"
   ]
  },
  {
   "cell_type": "code",
   "execution_count": 252,
   "id": "c8262ba3",
   "metadata": {},
   "outputs": [
    {
     "name": "stdout",
     "output_type": "stream",
     "text": [
      "[3, 3, 4, 1, 4, 5, 2]\n"
     ]
    }
   ],
   "source": [
    "tprime=Tprime(order12, p12, index12dict)\n",
    "print(tprime)"
   ]
  },
  {
   "cell_type": "code",
   "execution_count": 225,
   "id": "f4f7320e",
   "metadata": {},
   "outputs": [
    {
     "data": {
      "text/plain": [
       "[3, 3, 4, 1, 4, 5, 2, 0, 0, 0]"
      ]
     },
     "execution_count": 225,
     "metadata": {},
     "output_type": "execute_result"
    }
   ],
   "source": [
    "tprime=tprime+[0,0,0]\n",
    "tprime"
   ]
  },
  {
   "cell_type": "markdown",
   "id": "a669874f",
   "metadata": {},
   "source": [
    "### On répète les opérations jusqu'à avoir aucun charactère répété dans T⁽n⁾"
   ]
  },
  {
   "cell_type": "code",
   "execution_count": 227,
   "id": "40531a5c",
   "metadata": {},
   "outputs": [
    {
     "name": "stdout",
     "output_type": "stream",
     "text": [
      "[1, 4, 7, 2, 5]\n",
      "[[3, 4, 1], [4, 5, 2], [0, 0, 0], [4, 1, 4], [5, 2, 0]]\n",
      "{0: 0, 1: 1, 2: 2, 3: 3, 4: 4, 5: 5}\n",
      "[[0, 0, 0], [3, 4, 1], [4, 1, 4], [4, 5, 2], [5, 2, 0]]\n",
      "[7, 1, 2, 4, 5]\n",
      "[1, 2, 3, 4, 5]\n",
      "False\n",
      "{7: 1, 1: 2, 2: 3, 4: 4, 5: 5}\n"
     ]
    }
   ],
   "source": [
    "p12prime=position1_2(tprime)\n",
    "print(p12prime)\n",
    "R12prime=radix(p12prime, tprime)\n",
    "print(R12prime)\n",
    "alphprime=alphabetT(tprime)\n",
    "print(alphprime)\n",
    "Rs12prime, index12prime= sort(R12prime,p12prime, alphprime, columnnumber)\n",
    "print(Rs12prime)\n",
    "print(index12prime)\n",
    "order12prime, boolean, index12primedict =ordre(Rs12prime, index12prime, True)\n",
    "print(order12prime)\n",
    "print(boolean)\n",
    "print(index12primedict)"
   ]
  },
  {
   "cell_type": "markdown",
   "id": "c1ab13fc",
   "metadata": {},
   "source": [
    "# STEP 2 "
   ]
  },
  {
   "cell_type": "code",
   "execution_count": 228,
   "id": "a0cf8c51",
   "metadata": {},
   "outputs": [],
   "source": [
    "import copy"
   ]
  },
  {
   "cell_type": "code",
   "execution_count": 229,
   "id": "cfd8c139",
   "metadata": {},
   "outputs": [],
   "source": [
    "def position0_R0(T, index12dict):\n",
    "    #attention T se finit avec trois 0\n",
    "    position=[]\n",
    "    R=[]\n",
    "    for i in range(len(T)-3): #on ne prend pas en compte les trois 0 sentinelle\n",
    "        if i%3==0:\n",
    "            position.append(i)\n",
    "            if i+1<len(T)-3:\n",
    "                R.append([T[i],index12dict[i+1]])\n",
    "            else:\n",
    "                R.append([T[i],1]) # car les sentinelles sont forcément les 1ères dans l'ordre alphabétique\n",
    "    return position, R"
   ]
  },
  {
   "cell_type": "markdown",
   "id": "59467f64",
   "metadata": {},
   "source": [
    "# Testons notre fonction avec le string T"
   ]
  },
  {
   "cell_type": "code",
   "execution_count": 230,
   "id": "5a00ae34",
   "metadata": {},
   "outputs": [
    {
     "name": "stdout",
     "output_type": "stream",
     "text": [
      "[7, 1, 2, 4, 5]\n",
      "{7: 1, 1: 2, 2: 3, 4: 4, 5: 5}\n",
      "[3, 3, 4, 1, 4, 5, 2, 0, 0, 0]\n"
     ]
    }
   ],
   "source": [
    "print(index12prime)\n",
    "print(index12primedict)\n",
    "print(tprime)"
   ]
  },
  {
   "cell_type": "code",
   "execution_count": 231,
   "id": "cb54ba24",
   "metadata": {},
   "outputs": [
    {
     "name": "stdout",
     "output_type": "stream",
     "text": [
      "[0, 3, 6]\n",
      "[[3, 2], [1, 4], [2, 1]]\n"
     ]
    }
   ],
   "source": [
    "p0prime, r0prime=position0_R0(tprime, index12primedict)\n",
    "print(p0prime)\n",
    "print(r0prime)"
   ]
  },
  {
   "cell_type": "markdown",
   "id": "8f9976b0",
   "metadata": {},
   "source": [
    "# STEP 3"
   ]
  },
  {
   "cell_type": "code",
   "execution_count": 232,
   "id": "590120c0",
   "metadata": {},
   "outputs": [],
   "source": [
    "def merge(Tfinal, index_0, index12, index12dict) : \n",
    "    liste=[]\n",
    "    A=0\n",
    "    B=0\n",
    "    while A<len(index_0) and B<len(index12):\n",
    "        #print(\"rentre dans le while\")\n",
    "        a=index_0[A]\n",
    "        b=index12[B]\n",
    "        if Tfinal[a]!=Tfinal[b] :\n",
    "            minimum=min(Tfinal[a], Tfinal[b])\n",
    "            \n",
    "            if minimum == Tfinal[a]:\n",
    "                #print(\"a= \"+str(a)+\", b= \"+str(b)+\", on append le \"+str(a))\n",
    "                A+=1\n",
    "                liste.append(a)\n",
    "            else: \n",
    "                #print(\"a= \"+str(a)+\", b= \"+str(b)+\", on append le \"+str(b))\n",
    "                B+=1\n",
    "                liste.append(b)\n",
    "\n",
    "        else :\n",
    "            if b%3==1 : \n",
    "                #print(str(b)+\" est congru à 1 modulo 3\")\n",
    "                longueur=len(liste)\n",
    "                i=0\n",
    "                if index12dict[a+1]<index12dict[b+1]:\n",
    "                    liste.append(a)\n",
    "                    A+=1\n",
    "                else:\n",
    "                    liste.append(b)\n",
    "                    B+=1\n",
    "                    \n",
    "                    \n",
    "            elif b%3==2 :\n",
    "                #print(str(b)+\"est congru à 2 modulo 3\")\n",
    "                if Tfinal[a+1]!=Tfinal[b+1] :\n",
    "                    minimum=min(Tfinal[a], Tfinal[b])\n",
    "                    if minimum == Tfinal[a]:\n",
    "                        A+=1\n",
    "                        liste.append(a)\n",
    "                    else: \n",
    "                        B+=1\n",
    "                        liste.append(b)\n",
    "\n",
    "                else:\n",
    "                    if index12dict[a+2]<index12dict[b+2]:\n",
    "                        liste.append(a)\n",
    "                        A+=1\n",
    "                    else:\n",
    "                        liste.append(b)\n",
    "                        B+=1\n",
    "                        \n",
    "\n",
    "        #print(\"A \"+str(A))\n",
    "        #print(\"B \"+str(B))\n",
    "        if A==len(index_0):\n",
    "            liste+=index12[B:]\n",
    "                \n",
    "        if B==len(index12):\n",
    "            liste+=index_0[A:]\n",
    "\n",
    "    return liste"
   ]
  },
  {
   "cell_type": "code",
   "execution_count": 233,
   "id": "524072a3",
   "metadata": {},
   "outputs": [],
   "source": [
    "def removesentinel(index):\n",
    "    return index[1:]"
   ]
  },
  {
   "cell_type": "code",
   "execution_count": 234,
   "id": "2ece5a17",
   "metadata": {},
   "outputs": [],
   "source": [
    "def resumeHigherOrder(index012prime, P12):\n",
    "    output=[]\n",
    "    for element in index012prime:\n",
    "        output.append(P12[element])\n",
    "        \n",
    "    return output"
   ]
  },
  {
   "cell_type": "markdown",
   "id": "2f5e3a27",
   "metadata": {},
   "source": [
    "### Testons notre fonction avec le string T"
   ]
  },
  {
   "cell_type": "code",
   "execution_count": 235,
   "id": "c6f7f9a0",
   "metadata": {},
   "outputs": [
    {
     "name": "stdout",
     "output_type": "stream",
     "text": [
      "{1: 0, 2: 1, 3: 2, 4: 3}\n"
     ]
    }
   ],
   "source": [
    "alph0prime=alphabetR0(r0prime)\n",
    "print(alph0prime)"
   ]
  },
  {
   "cell_type": "code",
   "execution_count": 236,
   "id": "90da47af",
   "metadata": {},
   "outputs": [
    {
     "name": "stdout",
     "output_type": "stream",
     "text": [
      "[[1, 4], [2, 1], [3, 2]]\n",
      "[3, 6, 0]\n"
     ]
    }
   ],
   "source": [
    "r0sprime, index0prime= sort(r0prime,p0prime, alph0prime, columnnumber-1)\n",
    "print(r0sprime)\n",
    "print(index0prime)"
   ]
  },
  {
   "cell_type": "code",
   "execution_count": 237,
   "id": "89faa792",
   "metadata": {},
   "outputs": [
    {
     "name": "stdout",
     "output_type": "stream",
     "text": [
      "[3, 3, 4, 1, 4, 5, 2, 0, 0, 0]\n",
      "[3, 6, 0]\n",
      "[7, 1, 2, 4, 5]\n"
     ]
    }
   ],
   "source": [
    "print(tprime)\n",
    "print(index0prime)\n",
    "print(index12prime)"
   ]
  },
  {
   "cell_type": "code",
   "execution_count": 238,
   "id": "7403bd52",
   "metadata": {},
   "outputs": [
    {
     "data": {
      "text/plain": [
       "[7, 3, 6, 0, 1, 2, 4, 5]"
      ]
     },
     "execution_count": 238,
     "metadata": {},
     "output_type": "execute_result"
    }
   ],
   "source": [
    "index120prime=merge(tprime, index0prime, index12prime, index12primedict)\n",
    "index120prime"
   ]
  },
  {
   "cell_type": "markdown",
   "id": "337a7274",
   "metadata": {},
   "source": [
    "# Assemblage final"
   ]
  },
  {
   "cell_type": "code",
   "execution_count": 253,
   "id": "be736539",
   "metadata": {},
   "outputs": [],
   "source": [
    "def almost_dc3(T):\n",
    "    # T est une liste de int\n",
    "\n",
    "    \n",
    "    columnNumber=2\n",
    "    p12=position1_2(T)\n",
    "    \n",
    "\n",
    "    r12=radix(p12,T)\n",
    "\n",
    "\n",
    "    alphabet_T=alphabetT(T)\n",
    "    \n",
    "    \n",
    "    r12sorted, index12=sort(r12, p12, alphabet_T, columnNumber)\n",
    "    \n",
    "    use_index_12=True\n",
    "    order12,repetition, index12dict=ordre(r12sorted, index12, use_index_12)\n",
    "\n",
    "    \n",
    "\n",
    "    if repetition:\n",
    "\n",
    "        \n",
    "        Tprim=Tprime(order12, p12, index12dict)+[0,0,0]\n",
    "\n",
    "        index012=almost_dc3(Tprim)\n",
    "\n",
    "\n",
    "        index12=resumeHigherOrder(index012, p12)\n",
    "\n",
    "\n",
    "    p0,r0=position0_R0(T, index12dict)\n",
    "\n",
    "    alphabet_r0=alphabetR0(r0)\n",
    "\n",
    "    \n",
    "    r0sorted, index0=sort(r0,p0,alphabet_r0 ,columnNumber-1)\n",
    "\n",
    "\n",
    "    order0=ordre(r0sorted, index12)\n",
    "    \n",
    "\n",
    "    index012=removesentinel(merge(T, index0, index12, index12dict))\n",
    "\n",
    "\n",
    "    return index012\n",
    "   \n",
    "    \n",
    "    "
   ]
  },
  {
   "cell_type": "code",
   "execution_count": 254,
   "id": "3f84fb7e",
   "metadata": {},
   "outputs": [],
   "source": [
    "def almost_dc3_debugg(T):\n",
    "    # T est une liste de int\n",
    "\n",
    "    \n",
    "    columnNumber=2\n",
    "    p12=position1_2(T)\n",
    "    \n",
    "    print(\"p12\")\n",
    "    print(p12)\n",
    "    print(\"taille de p12 avant récursion\")\n",
    "    print(len(p12))\n",
    "    print(\"\\n\")\n",
    "    \n",
    "    r12=radix(p12,T)\n",
    "    print(\"r12\")\n",
    "    print(r12)\n",
    "    print(\"\\n\")\n",
    "\n",
    "    alphabet_T=alphabetT(T)\n",
    "\n",
    "    \n",
    "    r12sorted, index12=sort(r12, p12, alphabet_T, columnNumber)\n",
    "    print(\"index12\")\n",
    "    print(index12)\n",
    "    print(\"taille de index12 avant récursion\")\n",
    "    print(len(index12))\n",
    "    print(\"\\n\")\n",
    "    \n",
    "    order12,repetition, index12dict=ordre(r12sorted,index12, True)\n",
    "    print(\"order12\")\n",
    "    print(order12)\n",
    "    print(\"index12dict\")\n",
    "    print(index12dict)\n",
    "    print(\"entre-t-on dans la boucle de répétition?\")\n",
    "    print(repetition)\n",
    "    print(\"\\n\")\n",
    "    \n",
    "\n",
    "    if repetition:\n",
    "\n",
    "        \n",
    "        Tprim=Tprime(order12, p12, index12dict)+[0,0,0]\n",
    "        print(\"tprime\")\n",
    "        print(Tprim)\n",
    "        print(\"taille de tprime\")\n",
    "        print(len(Tprim))\n",
    "        print(\"\\n\")\n",
    "        \n",
    "        index012=almost_dc3(Tprim)\n",
    "        print(\"index012\")\n",
    "        print(index012)\n",
    "        print(\"taille de index012\")\n",
    "        print(len(index012))\n",
    "        print(\"\\n\")\n",
    "\n",
    "        index12=resumeHigherOrder(index012, p12)\n",
    "        print(\"resume higher order index12\")\n",
    "        print(index12)\n",
    "        print(\"taille de index12 après retour à taille initiale\")\n",
    "        print(len(index12))\n",
    "        print(\"\\n\")\n",
    "\n",
    "    p0,r0=position0_R0(T, index12dict)\n",
    "    print(\"p0\")\n",
    "    print(p0)\n",
    "    print(\"taille de p0\")\n",
    "    print(len(p0))\n",
    "    print(\"\\n\")\n",
    "    \n",
    "    print(\"r0\")\n",
    "    print(r0)\n",
    "    print(\"\\n\")\n",
    "    alphabet_r0=alphabetR0(r0)\n",
    "\n",
    "    \n",
    "    r0sorted, index0=sort(r0,p0,alphabet_r0 ,columnNumber-1)\n",
    "    print(\"index0\")\n",
    "    print(index0)\n",
    "    print(\"taille de index0\")\n",
    "    print(len(index0))\n",
    "    print(\"\\n\")\n",
    "\n",
    "    order0=ordre(r0sorted, index12)\n",
    "    \n",
    "    temp=merge(T, index0, index12, index12dict)\n",
    "    print(\"taille de temp\")\n",
    "    print(len(temp))\n",
    "    \n",
    "    index012=removesentinel(merge(T, index0, index12))\n",
    "    print(\"taille après la fonction removesentinel\")\n",
    "    print(len(index012))\n",
    "    print(\"index012\")\n",
    "    print(index012)\n",
    "    print(\"\\n\")\n",
    "\n",
    "    return index012\n",
    "   \n",
    "    \n",
    "    "
   ]
  },
  {
   "cell_type": "markdown",
   "id": "d8c6bbd0",
   "metadata": {},
   "source": [
    "### Testons notre fonction avec le string T"
   ]
  },
  {
   "cell_type": "code",
   "execution_count": 255,
   "id": "581d921b",
   "metadata": {},
   "outputs": [
    {
     "data": {
      "text/plain": [
       "[8, 0, 3, 6, 9, 1, 4, 7, 2, 5]"
      ]
     },
     "execution_count": 255,
     "metadata": {},
     "output_type": "execute_result"
    }
   ],
   "source": [
    "almost_dc3(T)"
   ]
  },
  {
   "cell_type": "markdown",
   "id": "4eaf1a2c",
   "metadata": {},
   "source": [
    "## Test avec biopython \n"
   ]
  },
  {
   "cell_type": "code",
   "execution_count": 256,
   "id": "63868023",
   "metadata": {},
   "outputs": [
    {
     "name": "stdout",
     "output_type": "stream",
     "text": [
      "Defaulting to user installation because normal site-packages is not writeable\n",
      "Requirement already satisfied: biopython in /home/azarkua/.local/lib/python3.10/site-packages (1.81)\n",
      "Requirement already satisfied: numpy in /home/azarkua/.local/lib/python3.10/site-packages (from biopython) (1.26.1)\n",
      "\n",
      "\u001b[1m[\u001b[0m\u001b[34;49mnotice\u001b[0m\u001b[1;39;49m]\u001b[0m\u001b[39;49m A new release of pip is available: \u001b[0m\u001b[31;49m23.2.1\u001b[0m\u001b[39;49m -> \u001b[0m\u001b[32;49m23.3.1\u001b[0m\n",
      "\u001b[1m[\u001b[0m\u001b[34;49mnotice\u001b[0m\u001b[1;39;49m]\u001b[0m\u001b[39;49m To update, run: \u001b[0m\u001b[32;49mpython3 -m pip install --upgrade pip\u001b[0m\n",
      "Note: you may need to restart the kernel to use updated packages.\n"
     ]
    }
   ],
   "source": [
    "pip install biopython"
   ]
  },
  {
   "cell_type": "code",
   "execution_count": 257,
   "id": "82f449fb",
   "metadata": {},
   "outputs": [
    {
     "name": "stdout",
     "output_type": "stream",
     "text": [
      "[SeqRecord(seq=Seq('tgaaccctaaaccctaaaccctaaaccctaaacccctaaaccctaaaccctgaa...gtt'), id='NC_037283.1', name='NC_037283.1', description='NC_037283.1 Plasmodium falciparum 3D7 genome assembly, chromosome: 14', dbxrefs=[]), SeqRecord(seq=Seq('ATGATAAAATTTTTAAAACCTAAAATAAAAATATTAAAAAAATTAAATATACCT...ATT'), id='NC_036769.1', name='NC_036769.1', description='NC_036769.1 Plasmodium falciparum strain 3D7, apicoplast', dbxrefs=[])]\n"
     ]
    }
   ],
   "source": [
    "from Bio import SeqIO\n",
    "genome=[]\n",
    "nucleotide_genome=0\n",
    "for seq_record in SeqIO.parse(\"/home/azarkua/Documents/2023-2024/omiques2/developement/omique2/genome.fna\", \"fasta\"):\n",
    "    genome.append(seq_record)\n",
    "    nucleotide_genome+=len(seq_record.seq)\n",
    "print(genome[13:])"
   ]
  },
  {
   "cell_type": "code",
   "execution_count": 258,
   "id": "6bb2b6a0",
   "metadata": {},
   "outputs": [
    {
     "name": "stdout",
     "output_type": "stream",
     "text": [
      "[SeqRecord(seq=Seq('TTTCCTTTTTAAGCGTTTTATTTTTTAATAAAAAAAATATAGTATTATATAGTA...TAA'), id='NC_004325.2-100000', name='NC_004325.2-100000', description='NC_004325.2-100000', dbxrefs=[])]\n"
     ]
    }
   ],
   "source": [
    "reads=[]\n",
    "nucleotide_reads=0\n",
    "for seq_record in SeqIO.parse(\"/home/azarkua/Documents/2023-2024/omiques2/developement/omique2/reads.fq\", \"fastq\"):\n",
    "    reads.append(seq_record)\n",
    "    nucleotide_reads+=len(seq_record.seq)\n",
    "    #if len(seq_record.seq)!= 100:\n",
    "    #    print(\"False\")\n",
    "print(reads[:1])"
   ]
  },
  {
   "cell_type": "code",
   "execution_count": 259,
   "id": "b8ec5679",
   "metadata": {},
   "outputs": [
    {
     "name": "stdout",
     "output_type": "stream",
     "text": [
      "236775\n"
     ]
    },
    {
     "data": {
      "text/plain": [
       "Seq('CCCTGAACCC')"
      ]
     },
     "execution_count": 259,
     "metadata": {},
     "output_type": "execute_result"
    }
   ],
   "source": [
    "temp=genome[1].seq.upper()\n",
    "print(len(temp)//4)\n",
    "temp[50:60]"
   ]
  },
  {
   "cell_type": "markdown",
   "id": "d589cce0",
   "metadata": {},
   "source": [
    "Pour l'instant, notre code met environ 2min d'attente pour faire la suffix table de 25 000 nucléotides."
   ]
  },
  {
   "cell_type": "code",
   "execution_count": 272,
   "id": "097a7edc",
   "metadata": {},
   "outputs": [],
   "source": [
    "T=asciiDC3(temp)\n",
    "#print(T)"
   ]
  },
  {
   "cell_type": "code",
   "execution_count": 273,
   "id": "e2b39d26",
   "metadata": {},
   "outputs": [
    {
     "name": "stdout",
     "output_type": "stream",
     "text": [
      "[947101, 129, 939, 5790, 5997, 6315, 6540, 6642, 6666, 6669, 6714, 6774, 6927, 6960, 7116, 7203, 7404, 7617, 7650, 7695, 7758, 7893, 8019, 8046, 8382, 8547, 8823, 8835, 8913, 8946, 8991, 9105, 9234, 19266, 22410, 22440, 22605, 22863, 23121, 23124, 23151, 23154, 23157, 23160, 23163, 23166, 23169, 23172, 23193, 23202, 23220, 23223, 23229, 23232, 23235, 23238, 23241, 23244, 23247, 23250, 23268, 23271, 23274, 23295, 23298, 23322, 23325, 23328, 23352, 23370, 23373, 23391, 23394, 23457, 23964, 23994, 24231, 24405, 24408, 24420, 24606, 24609, 24612, 24777, 24786, 24789, 24852, 24927, 25314, 25332, 25368, 25542, 25548, 25806, 25839, 25842, 25845, 25851, 25854, 25872]\n"
     ]
    }
   ],
   "source": [
    "suffix_array=almost_dc3(T)\n",
    "print(suffix_array[:100])\n",
    "#print(timemeasuring)"
   ]
  },
  {
   "cell_type": "markdown",
   "id": "bb10b263",
   "metadata": {},
   "source": [
    "## Mesurer le temps que prend notre fonction"
   ]
  },
  {
   "cell_type": "code",
   "execution_count": 274,
   "id": "a9e9e985",
   "metadata": {},
   "outputs": [],
   "source": [
    "import pstats\n",
    "import cProfile"
   ]
  },
  {
   "cell_type": "code",
   "execution_count": 275,
   "id": "a111f300",
   "metadata": {},
   "outputs": [
    {
     "name": "stdout",
     "output_type": "stream",
     "text": [
      "Tue Oct 31 17:35:11 2023    dc3_stats\n",
      "\n",
      "         32003816 function calls (32003811 primitive calls) in 22.993 seconds\n",
      "\n",
      "   Ordered by: cumulative time\n",
      "\n",
      "   ncalls  tottime  percall  cumtime  percall filename:lineno(function)\n",
      "        1    0.000    0.000   22.993   22.993 {built-in method builtins.exec}\n",
      "        1    0.237    0.237   22.993   22.993 <string>:1(<module>)\n",
      "      6/1    0.677    0.113   22.756   22.756 /tmp/ipykernel_41118/1646075479.py:1(almost_dc3)\n",
      "       12    0.182    0.015    7.773    0.648 /tmp/ipykernel_41118/1511205218.py:1(sort)\n",
      "       30    7.591    0.253    7.591    0.253 /tmp/ipykernel_41118/1511205218.py:18(countingSortByDigit)\n",
      "        6    3.157    0.526    4.067    0.678 /tmp/ipykernel_41118/3410804580.py:1(merge)\n",
      "        6    3.276    0.546    3.367    0.561 /tmp/ipykernel_41118/17099699.py:1(radix)\n",
      "       12    1.486    0.124    1.617    0.135 /tmp/ipykernel_41118/1085424926.py:1(ordre)\n",
      "        6    0.642    0.107    1.181    0.197 /tmp/ipykernel_41118/150808864.py:1(alphabetT)\n",
      "        6    0.941    0.157    1.074    0.179 /tmp/ipykernel_41118/937691433.py:1(position0_R0)\n",
      "        6    0.571    0.095    0.979    0.163 /tmp/ipykernel_41118/105602121.py:1(alphabetR0)\n",
      " 17748321    0.926    0.000    0.926    0.000 {method 'append' of 'list' objects}\n",
      "        5    0.602    0.120    0.690    0.138 /tmp/ipykernel_41118/3874466238.py:1(Tprime)\n",
      "        5    0.582    0.116    0.668    0.134 /tmp/ipykernel_41118/471862931.py:1(resumeHigherOrder)\n",
      " 12284529    0.659    0.000    0.659    0.000 {built-in method builtins.len}\n",
      "        6    0.529    0.088    0.621    0.104 /tmp/ipykernel_41118/3648738200.py:1(position1_2)\n",
      "       12    0.613    0.051    0.613    0.051 {method 'sort' of 'list' objects}\n",
      "  1970839    0.280    0.000    0.280    0.000 {built-in method builtins.min}\n",
      "        6    0.041    0.007    0.041    0.007 /tmp/ipykernel_41118/3946746901.py:1(removesentinel)\n",
      "        1    0.000    0.000    0.000    0.000 {method 'disable' of '_lsprof.Profiler' objects}\n",
      "\n",
      "\n"
     ]
    },
    {
     "data": {
      "text/plain": [
       "<pstats.Stats at 0x7fbc089a7700>"
      ]
     },
     "execution_count": 275,
     "metadata": {},
     "output_type": "execute_result"
    }
   ],
   "source": [
    "cProfile.run(\"almost_dc3(T)\", \"dc3_stats\")\n",
    "p = pstats.Stats(\"dc3_stats\")\n",
    "p.sort_stats(\"cumulative\").print_stats()"
   ]
  },
  {
   "cell_type": "markdown",
   "id": "1ba5e911",
   "metadata": {},
   "source": [
    "to do list:  \n",
    "-rendre position0_R0 plus efficace    \n",
    "-rendre Tprime plus efficace  \n",
    "-essayer d'utiliser moins de len  \n",
    "-rendre merge plus efficace  "
   ]
  },
  {
   "cell_type": "markdown",
   "id": "966c1775",
   "metadata": {},
   "source": [
    "### Première tentative de mesure du temps que prend dc3 (qui ne marche pas)"
   ]
  },
  {
   "cell_type": "markdown",
   "id": "7318d198",
   "metadata": {},
   "source": [
    "Mais j'y ai investi trop de temps pour le supprimer"
   ]
  },
  {
   "cell_type": "markdown",
   "id": "c5333689",
   "metadata": {},
   "source": [
    "i assume that when a function ends, an other function begins"
   ]
  },
  {
   "cell_type": "code",
   "execution_count": 34,
   "id": "320c7e15",
   "metadata": {},
   "outputs": [],
   "source": [
    "      #time variables\n",
    "t0=[] #starting times of every recursion of almost_dc3\n",
    "timep12=[] \n",
    "timer12=[]\n",
    "timealphabet=[]\n",
    "timesort=[]\n",
    "timeorder=[]\n",
    "trep=[]\n",
    "timeTprime=[]\n",
    "tBeforeHigherOrder=[]\n",
    "timeresumeHigherOrder=[]\n",
    "tBeforeP0=[]\n",
    "timeposition0_R0=[]\n",
    "timealphabetR0=[]\n",
    "    \n",
    "timelist=[t0,timep12,timer12,timealphabet,timesort,timeorder,trep,timeTprime,tBeforeHigherOrder,timeresumeHigherOrder,tBeforeP0,timeposition0_R0,timealphabetR0]\n"
   ]
  },
  {
   "cell_type": "code",
   "execution_count": 35,
   "id": "c77931cb",
   "metadata": {},
   "outputs": [],
   "source": [
    "def almost_dc3_time_measuring(T):\n",
    "    \n",
    "    t0.append(time.time())\n",
    "    # T est une liste de int\n",
    "    columnNumber=2\n",
    "    p12=position1_2(T)\n",
    "    \n",
    "    print(\"p12\")\n",
    "    print(p12)\n",
    "    print(\"taille de p12 avant récursion\")\n",
    "    print(len(p12))\n",
    "    \n",
    "    timep12.append(time.time()-t0[-1])\n",
    "    \n",
    "    r12=radix(p12,T)\n",
    "    timer12.append(time.time()-timep12[-1])\n",
    "    \n",
    "    alphabet_T=alphabetT(T)\n",
    "    timealphabet.append(time.time()-timer12[-1])\n",
    "    \n",
    "    r12sorted, index12=sort(r12, p12, alphabet_T, columnNumber)\n",
    "    timesort.append(time.time()-timealphabet[-1])\n",
    "    \n",
    "    order12,repetition=ordre(r12sorted)\n",
    "    timeorder.append(time.time()-timesort[-1])\n",
    "    \n",
    "    if repetition:\n",
    "        trep.append(time.time())\n",
    "        \n",
    "        Tprim=Tprime(order12, p12, index12)+[0,0,0]\n",
    "        timeTprime.append(time.time()-trep[-1])\n",
    "        \n",
    "        index012=almost_dc3(Tprim)\n",
    "        \n",
    "        tBeforeHigherOrder.append(time.time())\n",
    "        index12=resumeHigherOrder(index012, p12)\n",
    "        timeresumeHigherOrder.append(time.time()-tBeforeHigherOrder[-1])\n",
    "    \n",
    "    print(\"taille de p12 après récursion\")\n",
    "    print(len(p12))\n",
    "    \n",
    "    tBeforeP0.append(time.time())\n",
    "    p0,r0=position0_R0(T, index12)\n",
    "    timeposition0_R0.append(time.time()-tBeforeP0[-1])\n",
    "    \n",
    "    alphabet_r0=alphabetR0(r0)\n",
    "    timealphabetR0.append(time.time()-timeposition0_R0[-1])\n",
    "    \n",
    "    r0sorted, index0=sort(r0,p0,alphabet_r0 ,columnNumber-1)\n",
    "    #i dont measure time here\n",
    "    \n",
    "    order0=ordre(r0sorted)\n",
    "    #i dont measure time here\n",
    "    \n",
    "    index012=removesentinel(merge(T, index0, index12))\n",
    "    #i dont measure time here\n",
    "\n",
    "    return index012, timelist\n",
    "   \n",
    "    \n",
    "    "
   ]
  },
  {
   "cell_type": "code",
   "execution_count": 46,
   "id": "43ac63b3",
   "metadata": {},
   "outputs": [],
   "source": [
    "length_repeating_loop=len(timeTprime)\n",
    "timeTprime+=[0*i for i in range(len(t0)-length_repeating_loop)]\n",
    "timeresumeHigherOrder+=[0*i for i in range(len(t0)-length_repeating_loop)]"
   ]
  },
  {
   "cell_type": "code",
   "execution_count": 47,
   "id": "fa6456c5",
   "metadata": {},
   "outputs": [],
   "source": [
    "time_measuring=pd.DataFrame({'p12':timep12, \n",
    "                             'r12':timer12, \n",
    "                             'alphabet':timealphabet, \n",
    "                             'sort':timesort, \n",
    "                             'order':timeorder, \n",
    "                             'Tprime':timeTprime, \n",
    "                             'HigherOrder':timeresumeHigherOrder, \n",
    "                             'P0':timeposition0_R0, \n",
    "                             'alphabetRO':timealphabetR0})"
   ]
  },
  {
   "cell_type": "code",
   "execution_count": 48,
   "id": "47a655e8",
   "metadata": {},
   "outputs": [
    {
     "data": {
      "text/html": [
       "<div>\n",
       "<style scoped>\n",
       "    .dataframe tbody tr th:only-of-type {\n",
       "        vertical-align: middle;\n",
       "    }\n",
       "\n",
       "    .dataframe tbody tr th {\n",
       "        vertical-align: top;\n",
       "    }\n",
       "\n",
       "    .dataframe thead th {\n",
       "        text-align: right;\n",
       "    }\n",
       "</style>\n",
       "<table border=\"1\" class=\"dataframe\">\n",
       "  <thead>\n",
       "    <tr style=\"text-align: right;\">\n",
       "      <th></th>\n",
       "      <th>p12</th>\n",
       "      <th>r12</th>\n",
       "      <th>alphabet</th>\n",
       "      <th>sort</th>\n",
       "      <th>order</th>\n",
       "      <th>Tprime</th>\n",
       "      <th>HigherOrder</th>\n",
       "      <th>P0</th>\n",
       "      <th>alphabetRO</th>\n",
       "    </tr>\n",
       "  </thead>\n",
       "  <tbody>\n",
       "  </tbody>\n",
       "</table>\n",
       "</div>"
      ],
      "text/plain": [
       "Empty DataFrame\n",
       "Columns: [p12, r12, alphabet, sort, order, Tprime, HigherOrder, P0, alphabetRO]\n",
       "Index: []"
      ]
     },
     "execution_count": 48,
     "metadata": {},
     "output_type": "execute_result"
    }
   ],
   "source": [
    "time_measuring"
   ]
  },
  {
   "cell_type": "code",
   "execution_count": 49,
   "id": "975528cd",
   "metadata": {},
   "outputs": [],
   "source": [
    "time_measuring_melted = pd.melt(time_measuring)"
   ]
  },
  {
   "cell_type": "code",
   "execution_count": 50,
   "id": "8c610784",
   "metadata": {},
   "outputs": [
    {
     "data": {
      "text/plain": [
       "<AxesSubplot:>"
      ]
     },
     "execution_count": 50,
     "metadata": {},
     "output_type": "execute_result"
    },
    {
     "data": {
      "image/png": "[encoded data removed]",
      "text/plain": [
       "<Figure size 432x288 with 1 Axes>"
      ]
     },
     "metadata": {
      "needs_background": "light"
     },
     "output_type": "display_data"
    }
   ],
   "source": [
    "sns.boxplot(x='variable', y='value', data=time_measuring_melted)"
   ]
  }
 ],
 "metadata": {
  "kernelspec": {
   "display_name": "Python 3 (ipykernel)",
   "language": "python",
   "name": "python3"
  },
  "language_info": {
   "codemirror_mode": {
    "name": "ipython",
    "version": 3
   },
   "file_extension": ".py",
   "mimetype": "text/x-python",
   "name": "python",
   "nbconvert_exporter": "python",
   "pygments_lexer": "ipython3",
   "version": "3.10.12"
  }
 },
 "nbformat": 4,
 "nbformat_minor": 5
}
