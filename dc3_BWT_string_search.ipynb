{
 "cells": [
  {
   "cell_type": "markdown",
   "id": "cdb689bb",
   "metadata": {},
   "source": [
    "# STEP 1 "
   ]
  },
  {
   "cell_type": "code",
   "execution_count": 1,
   "id": "bf52a3d6",
   "metadata": {},
   "outputs": [
    {
     "name": "stderr",
     "output_type": "stream",
     "text": [
      "/usr/lib/python3/dist-packages/scipy/__init__.py:146: UserWarning: A NumPy version >=1.17.3 and <1.25.0 is required for this version of SciPy (detected version 1.26.1\n",
      "  warnings.warn(f\"A NumPy version >={np_minversion} and <{np_maxversion}\"\n"
     ]
    }
   ],
   "source": [
    "import time\n",
    "import matplotlib.pyplot as plt\n",
    "import pandas as pd\n",
    "import seaborn as sns"
   ]
  },
  {
   "cell_type": "code",
   "execution_count": 2,
   "id": "7166cabb",
   "metadata": {},
   "outputs": [],
   "source": [
    "def asciiDC3 (seq) : \n",
    "    asc=[]\n",
    "    for i in seq : \n",
    "        asc.append(ord(i))\n",
    "    \n",
    "    return asc+[0,0,0]"
   ]
  },
  {
   "cell_type": "code",
   "execution_count": 3,
   "id": "c807cbc7",
   "metadata": {},
   "outputs": [],
   "source": [
    "def position1_2 (asc):\n",
    "    ind1=[]\n",
    "    ind2=[]\n",
    "    for k in range(len(asc)-2):\n",
    "        #attention on a peut etre fait de la merde ici, pas sure du -2\n",
    "        if k%3==1 :\n",
    "            ind1.append(k)\n",
    "        if k%3==2:\n",
    "            ind2.append(k)\n",
    "    # dans le cas où T a un nombre d'élément multiple de 3, r12 ne contiendra pas le triplet [0,0,0].\n",
    "    # Or, la fonction, \"removesentinel\" retire 1 élément notre suffix table, pour justement se débarrasser de [0,0,0]\n",
    "    # J'ai donc décider de rajouter artificiellement [0,0,0] dans les cas où il n'est pas déjà là.\n",
    "    if len(asc)%3==0:\n",
    "        ind1.append(len(asc)-1-2)\n",
    "        \n",
    "    return ind1+ind2"
   ]
  },
  {
   "cell_type": "code",
   "execution_count": 4,
   "id": "983e5cfc",
   "metadata": {},
   "outputs": [],
   "source": [
    "def radix_with_p12(p,t):\n",
    "    r=[]\n",
    "    for i in range(len(p)):\n",
    "        index=p[i]\n",
    "        r.append([[t[index],t[index+1], t[index+2]],index])\n",
    "    return r"
   ]
  },
  {
   "cell_type": "code",
   "execution_count": 5,
   "id": "862523e6",
   "metadata": {},
   "outputs": [],
   "source": [
    "def sort_with_p12(array, alphabet, columnNumber):\n",
    "    #print(\"array\")\n",
    "    #print(array)\n",
    "    #print(\"alphabet\")\n",
    "    #print(alphabet)\n",
    "    if len(array) == 0:\n",
    "        return array\n",
    "\n",
    "  # Perform counting sort on each column, starting at the last\n",
    "\n",
    "    column = columnNumber\n",
    "    while column>=0: # nous on met \"tant que l'indice est supérieur à 3\"\n",
    "        array = countingSortByDigit_with_p12(array, alphabet, column)\n",
    "        column-=1 #change de colonne dans ton tableau\n",
    "\n",
    "    return array\n",
    "\n",
    "def countingSortByDigit_with_p12(array, alphabet, column):\n",
    "    \"\"\"\n",
    "    ici possibleNumbers= nombre de chiffres possibles. Nous n'avons que 4 nombres (0,97,98,99)\n",
    "    \"\"\"\n",
    "\n",
    "    countIndex = -1\n",
    "    count = [0] * len(alphabet)\n",
    "    output = [None] * len(array)\n",
    "\n",
    "  # Count frequencies\n",
    "    for i in range(0, len(array)):\n",
    "        #print(\"i \"+str(i))\n",
    "        #print(\"array[i] \"+ str(array[i]))\n",
    "        #print(\"column \"+str(column))\n",
    "        \n",
    "        countIndex = alphabet[array[i][0][column]]\n",
    "        count[countIndex] += 1\n",
    "\n",
    "  # Compute cumulates\n",
    "    for i in range(1, len(alphabet)):\n",
    "        count[i] += count[i - 1]\n",
    "\n",
    "  # Move records\n",
    "    for i in range(len(array) - 1, -1, -1):\n",
    "        countIndex = alphabet[array[i][0][column]]\n",
    "        count[countIndex] -= 1\n",
    "        output[count[countIndex]] = array[i]\n",
    "       \n",
    "    return output"
   ]
  },
  {
   "cell_type": "code",
   "execution_count": 6,
   "id": "b13f245e",
   "metadata": {},
   "outputs": [],
   "source": [
    "def triplets_are_equal(a,b):\n",
    "    for i in range(len(a)):\n",
    "        if a[i]!=b[i]:\n",
    "            return False\n",
    "    return True\n",
    "\n",
    "\n",
    "def ordre_with_p12(R12p12sorted, use_index_12=False):\n",
    "    # nous renovie la liste order du genre (1,2,2,3,4,4,5)  et un booléen indiquant s'il y a répétition\n",
    "    index=1\n",
    "    repetition=False\n",
    "    order=[1]\n",
    "    \n",
    "    if use_index_12:\n",
    "        indexdict={R12p12sorted[0][1]:1}\n",
    "        \n",
    "    for i in range(1, len(R12p12sorted)): \n",
    "        if triplets_are_equal(R12p12sorted[i-1][0], R12p12sorted[i][0]):\n",
    "            order.append(index)\n",
    "            repetition=True\n",
    "        else : \n",
    "            index+=1\n",
    "            order.append(index)\n",
    "            \n",
    "        if use_index_12:\n",
    "            indexdict[R12p12sorted[i][1]]=order[i]\n",
    "    if use_index_12:\n",
    "        return order, repetition, indexdict\n",
    "    else: \n",
    "        return order\n",
    "            "
   ]
  },
  {
   "cell_type": "code",
   "execution_count": 7,
   "id": "992507a1",
   "metadata": {},
   "outputs": [],
   "source": [
    "def alphabetT(T):\n",
    "    ### à changer pcq c laid\n",
    "    dic={}\n",
    "    a=[]\n",
    "    for i in range(len(T)):\n",
    "        a.append(T[i])\n",
    "    a.sort() ## MDR CE SORT EST A CHANGER SERGIO VA NOUS TUER\n",
    "    \n",
    "    for element in a:\n",
    "        if not (element in dic):\n",
    "            dic[element]=len(dic)\n",
    "    return dic"
   ]
  },
  {
   "cell_type": "code",
   "execution_count": 8,
   "id": "51c44263",
   "metadata": {},
   "outputs": [],
   "source": [
    "def alphabetR0_with_p12(R0p0):\n",
    "    ### à changer pcq c laid\n",
    "    dic={}\n",
    "    a=[]\n",
    "    for column in range(2):\n",
    "        for i in range(len(R0p0)):\n",
    "            a.append(R0p0[i][0][column])\n",
    "    a.sort() ## MDR CE SORT EST A CHANGER SERGIO VA NOUS TUER\n",
    "    \n",
    "    for element in a:\n",
    "        if not (element in dic):\n",
    "            dic[element]=len(dic)\n",
    "    return dic"
   ]
  },
  {
   "cell_type": "code",
   "execution_count": 9,
   "id": "a616f4b5",
   "metadata": {},
   "outputs": [],
   "source": [
    "def Tprime_with_p12(p12, indexdict):\n",
    "    t=[]\n",
    "    for p in p12:\n",
    "        t.append(indexdict[p])\n",
    "    return t"
   ]
  },
  {
   "cell_type": "code",
   "execution_count": 10,
   "id": "679e86bf",
   "metadata": {},
   "outputs": [],
   "source": [
    "def position0_R0_p0(T, index12dict):\n",
    "    #attention T se finit avec trois 0\n",
    "    #print(\"T\")\n",
    "    #print(T)\n",
    "    position=[]\n",
    "    R=[]\n",
    "    for i in range(len(T)-3): #on ne prend pas en compte les trois 0 sentinelle\n",
    "        if i%3==0:\n",
    "            position.append(i)\n",
    "            if i+1<len(T)-3:\n",
    "                #print(\"i\")\n",
    "                #print(i)\n",
    "                #print(\"T[i+1]\")\n",
    "                #print(T[i+1])\n",
    "                R.append([[T[i],index12dict[i+1]],position[-1]])\n",
    "            else:\n",
    "                R.append([[T[i],1],position[-1]]) # car les sentinelles sont forcément les 1ères dans l'ordre alphabétique\n",
    "    return position, R"
   ]
  },
  {
   "cell_type": "code",
   "execution_count": 11,
   "id": "83cfeabf",
   "metadata": {},
   "outputs": [],
   "source": [
    "def merge_with_p12(Tfinal, r0p0sorted, index12dict) : \n",
    "    index12dictkeys=list(index12dict.keys())\n",
    "    liste=[]\n",
    "    A=0\n",
    "    B=0\n",
    "    while A<len(r0p0sorted) and B<len(index12dictkeys):\n",
    "        a=r0p0sorted[A][1]\n",
    "        b=index12dictkeys[B]\n",
    "        if Tfinal[a]!=Tfinal[b] :\n",
    "            minimum=min(Tfinal[a], Tfinal[b])\n",
    "            \n",
    "            if minimum == Tfinal[a]:\n",
    "                A+=1\n",
    "                liste.append(a)\n",
    "            else: \n",
    "                B+=1\n",
    "                liste.append(b)\n",
    "\n",
    "        else :\n",
    "            if b%3==1 : \n",
    "                longueur=len(liste)\n",
    "                i=0\n",
    "                if index12dict[a+1]<index12dict[b+1]:\n",
    "                    liste.append(a)\n",
    "                \n",
    "                    A+=1\n",
    "                else:\n",
    "                    liste.append(b)\n",
    "                \n",
    "                    B+=1\n",
    "                    \n",
    "                    \n",
    "            elif b%3==2 :\n",
    "            \n",
    "                if Tfinal[a+1]!=Tfinal[b+1] :\n",
    "                   \n",
    "                    minimum=min(Tfinal[a+1], Tfinal[b+1])\n",
    "                    if minimum == Tfinal[a+1]:\n",
    "                        A+=1\n",
    "                    \n",
    "                        liste.append(a)\n",
    "                    else: \n",
    "                        B+=1\n",
    "                        \n",
    "                        liste.append(b)\n",
    "\n",
    "                else:\n",
    "                  \n",
    "                    if index12dict[a+2]<index12dict[b+2]:\n",
    "                        liste.append(a)\n",
    "                        A+=1\n",
    "                    else:\n",
    "                        liste.append(b)\n",
    "                        B+=1\n",
    "                        \n",
    "\n",
    "    if A==len(r0p0sorted):\n",
    "\n",
    "        for i in range(B,len(index12dictkeys)):\n",
    "            liste.append(index12dictkeys[i])\n",
    "                \n",
    "    if B==len(index12dictkeys):\n",
    "\n",
    "        for i in range(A, len(r0p0sorted)):\n",
    "            liste.append(r0p0sorted[i][1])\n",
    "\n",
    "    return liste"
   ]
  },
  {
   "cell_type": "code",
   "execution_count": 12,
   "id": "4d8d329f",
   "metadata": {},
   "outputs": [],
   "source": [
    "def merge_with_p12_debugg(Tfinal, r0p0sorted, index12dict) : \n",
    "    print(\"rappel des paramètres entrés pour la fonction merge\")\n",
    "    print(\"Tfinal\")\n",
    "    print(Tfinal)\n",
    "    print(\"r0p0sorted\")\n",
    "    print(r0p0sorted)\n",
    "    print(\"index12dict\")\n",
    "    print(index12dict)\n",
    "    print(\"on construit une liste des clés du dictionnaire\")\n",
    "    print(\"qui est dans l'ordre normalement ahhh!\")\n",
    "    index12dictkeys=list(index12dict.keys())\n",
    "    liste=[]\n",
    "    A=0\n",
    "    B=0\n",
    "    while A<len(r0p0sorted) and B<len(index12dictkeys):\n",
    "        print(\"rentre dans le while\")\n",
    "        a=r0p0sorted[A][1]\n",
    "        b=index12dictkeys[B]\n",
    "        if Tfinal[a]!=Tfinal[b] :\n",
    "            minimum=min(Tfinal[a], Tfinal[b])\n",
    "            \n",
    "            if minimum == Tfinal[a]:\n",
    "                print(\"a= \"+str(a)+\", b= \"+str(b)+\", on append le \"+str(a))\n",
    "                A+=1\n",
    "                liste.append(a)\n",
    "            else: \n",
    "                print(\"a= \"+str(a)+\", b= \"+str(b)+\", on append le \"+str(b))\n",
    "                B+=1\n",
    "                liste.append(b)\n",
    "\n",
    "        else :\n",
    "            print(\"Tfinal[a]\")\n",
    "            print(Tfinal[a])\n",
    "            print(\"Tfinal[b]\")\n",
    "            print(Tfinal[b])\n",
    "            print(\"Tfinal[a]==Tfinal[b]\")\n",
    "            print(Tfinal[a]==Tfinal[b])\n",
    "            if b%3==1 : \n",
    "                print(str(b)+\" est congru à 1 modulo 3\")\n",
    "                longueur=len(liste)\n",
    "                print(\"l'objet liste est pour l'instant constitué de: \")\n",
    "                print(liste)\n",
    "                i=0\n",
    "                print(\"on compare les positions de \"+str(a+1)+\" et \"+str(b+1))\n",
    "                print(\"index12dict[\" +str(a+1)+\"]= \")\n",
    "                print(index12dict[a+1])\n",
    "                print(\"index12dict[\" +str(b+1)+\"]= \")\n",
    "                print(index12dict[b+1])\n",
    "                if index12dict[a+1]<index12dict[b+1]:\n",
    "                    liste.append(a)\n",
    "                    print(\"on append \"+ str(a))\n",
    "                    A+=1\n",
    "                else:\n",
    "                    liste.append(b)\n",
    "                    print(\"on append \"+ str(b))\n",
    "                    B+=1\n",
    "                    \n",
    "                    \n",
    "            elif b%3==2 :\n",
    "                print(str(b)+\"est congru à 2 modulo 3\")\n",
    "                if Tfinal[a+1]!=Tfinal[b+1] :\n",
    "                    print(\"Tfinal[a+1]\")\n",
    "                    print(Tfinal[a+1])\n",
    "                    print(\"Tfinal[b+1]\")\n",
    "                    print(Tfinal[b+1])\n",
    "                    print(\"Tfinal[a+1]!=Tfinal[b+1]\")\n",
    "                    print(Tfinal[a+1]!=Tfinal[b+1])\n",
    "                    minimum=min(Tfinal[a+1], Tfinal[b+1])\n",
    "                    if minimum == Tfinal[a+1]:\n",
    "                        A+=1\n",
    "                        print(\"on append \"+ str(a))\n",
    "                        liste.append(a)\n",
    "                    else: \n",
    "                        B+=1\n",
    "                        print(\"on append \"+ str(b))\n",
    "                        liste.append(b)\n",
    "\n",
    "                else:\n",
    "                    print(\"Tfinal[a+1]\")\n",
    "                    print(Tfinal[a+1])\n",
    "                    print(\"Tfinal[b+1]\")\n",
    "                    print(Tfinal[b+1])\n",
    "                    print(\"Tfinal[a+1]==Tfinal[b+1]\")\n",
    "                    print(Tfinal[a+1]==Tfinal[b+1])\n",
    "                    print(\"on compare a+2 et b+2\")\n",
    "                    if index12dict[a+2]<index12dict[b+2]:\n",
    "                        liste.append(a)\n",
    "                        A+=1\n",
    "                    else:\n",
    "                        liste.append(b)\n",
    "                        B+=1\n",
    "                        \n",
    "    print(\"plus dans la boucle while\")\n",
    "    print(\"A \"+str(A))\n",
    "    print(\"B \"+str(B))\n",
    "    if A==len(r0p0sorted):\n",
    "        print(\"on concatène les index12\")\n",
    "        for i in range(B,len(index12dictkeys)):\n",
    "            liste.append(index12dictkeys[i])\n",
    "                \n",
    "    if B==len(index12dictkeys):\n",
    "        print(\"on concatène les index0\")\n",
    "        for i in range(A, len(r0p0sorted)):\n",
    "            liste.append(r0p0sorted[i][1])\n",
    "\n",
    "    return liste"
   ]
  },
  {
   "cell_type": "code",
   "execution_count": 13,
   "id": "5357493c",
   "metadata": {},
   "outputs": [],
   "source": [
    "def removesentinel(index):\n",
    "    return index[1:]"
   ]
  },
  {
   "cell_type": "code",
   "execution_count": 14,
   "id": "cf1426fb",
   "metadata": {},
   "outputs": [],
   "source": [
    "def resumeHigherOrder_with_p12(index012prime, P12):\n",
    "    output={}\n",
    "    for i in range(len(index012prime)):\n",
    "        output[P12[index012prime[i]]]=i\n",
    "        \n",
    "    return output"
   ]
  },
  {
   "cell_type": "markdown",
   "id": "1a1b29c2",
   "metadata": {},
   "source": [
    "### test zone avec test 2"
   ]
  },
  {
   "cell_type": "code",
   "execution_count": 15,
   "id": "497f5ea2",
   "metadata": {},
   "outputs": [
    {
     "name": "stdout",
     "output_type": "stream",
     "text": [
      "[[[84, 71, 67], 1], [[84, 65, 71], 4], [[67, 84, 71], 7], [[67, 67, 67], 10], [[84, 71, 65], 13], [[84, 67, 84], 16], [[67, 84, 67], 19], [[84, 71, 65], 22], [[33, 0, 0], 25], [[71, 67, 84], 2], [[65, 71, 67], 5], [[84, 71, 67], 8], [[67, 67, 84], 11], [[71, 65, 84], 14], [[67, 84, 67], 17], [[84, 67, 84], 20], [[71, 65, 33], 23], [[0, 0, 0], 26]]\n"
     ]
    }
   ],
   "source": [
    "test_2='ATGCTAGCTGCCCTGATCTCTCTGA!'\n",
    "p12_test_2=[1, 4, 7, 10, 13, 16, 19, 22, 25, 2, 5, 8, 11, 14, 17, 20, 23, 26]\n",
    "r12_test_2=[[84, 71, 67], [84, 65, 71], [67, 84, 71], [67, 67, 67], [84, 71, 65], [84, 67, 84], [67, 84, 67], [84, 71, 65], [33, 0, 0], [71, 67, 84], [65, 71, 67], [84, 71, 67], [67, 67, 84], [71, 65, 84], [67, 84, 67], [84, 67, 84], [71, 65, 33], [0, 0, 0]]\n",
    "alphabet_test_2={0: 0, 33: 1, 65: 2, 67: 3, 71: 4, 84: 5}\n",
    "\n",
    "\n",
    "r12_p12_test_2=radix_with_p12(p12_test_2,asciiDC3(test_2))\n",
    "print(r12_p12_test_2)\n",
    "\n"
   ]
  },
  {
   "cell_type": "code",
   "execution_count": 16,
   "id": "1e1bea1a",
   "metadata": {},
   "outputs": [
    {
     "name": "stdout",
     "output_type": "stream",
     "text": [
      "[[[0, 0, 0], 26], [[33, 0, 0], 25], [[65, 71, 67], 5], [[67, 67, 67], 10], [[67, 67, 84], 11], [[67, 84, 67], 19], [[67, 84, 67], 17], [[67, 84, 71], 7], [[71, 65, 33], 23], [[71, 65, 84], 14], [[71, 67, 84], 2], [[84, 65, 71], 4], [[84, 67, 84], 16], [[84, 67, 84], 20], [[84, 71, 65], 13], [[84, 71, 65], 22], [[84, 71, 67], 1], [[84, 71, 67], 8]]\n"
     ]
    }
   ],
   "source": [
    "r12_p12_sorted=sort_with_p12(r12_p12_test_2, alphabet_test_2, 2)\n",
    "print(r12_p12_sorted)"
   ]
  },
  {
   "cell_type": "code",
   "execution_count": 17,
   "id": "c852ec63",
   "metadata": {},
   "outputs": [
    {
     "name": "stdout",
     "output_type": "stream",
     "text": [
      "[67, 84, 67]\n",
      "[67, 84, 67]\n",
      "True\n",
      "[1, 2, 3, 4, 5, 6, 6, 7, 8, 9, 10, 11, 12, 12, 13, 13, 14, 14]\n",
      "{26: 1, 25: 2, 5: 3, 10: 4, 11: 5, 19: 6, 17: 6, 7: 7, 23: 8, 14: 9, 2: 10, 4: 11, 16: 12, 20: 12, 13: 13, 22: 13, 1: 14, 8: 14}\n"
     ]
    }
   ],
   "source": [
    "print(r12_p12_sorted[5][0])\n",
    "print(r12_p12_sorted[6][0])\n",
    "print(triplets_are_equal(r12_p12_sorted[5][0],r12_p12_sorted[6][0]))\n",
    "ordre_test_2, repetition, indexdict_test_2=ordre_with_p12(r12_p12_sorted, True)\n",
    "print(ordre_test_2)\n",
    "print(indexdict_test_2)"
   ]
  },
  {
   "cell_type": "code",
   "execution_count": 18,
   "id": "c45e82ed",
   "metadata": {},
   "outputs": [
    {
     "name": "stdout",
     "output_type": "stream",
     "text": [
      "[0, 3, 6, 9, 12, 15, 18, 21, 24]\n",
      "[[[65, 14], 0], [[67, 11], 3], [[71, 7], 6], [[71, 4], 9], [[67, 13], 12], [[65, 12], 15], [[84, 6], 18], [[67, 13], 21], [[65, 2], 24]]\n",
      "{2: 0, 4: 1, 6: 2, 7: 3, 11: 4, 12: 5, 13: 6, 14: 7, 65: 8, 67: 9, 71: 10, 84: 11}\n",
      "[[[65, 2], 24], [[65, 12], 15], [[65, 14], 0], [[67, 11], 3], [[67, 13], 12], [[67, 13], 21], [[71, 4], 9], [[71, 7], 6], [[84, 6], 18]]\n"
     ]
    }
   ],
   "source": [
    "p0, R0_p0_test_2=position0_R0_p0(asciiDC3(test_2), indexdict_test_2)\n",
    "\n",
    "print(p0)\n",
    "print(R0_p0_test_2)\n",
    "\n",
    "alphabet_r0_test_2=alphabetR0_with_p12(R0_p0_test_2)\n",
    "print(alphabet_r0_test_2)\n",
    "    \n",
    "r0p0sorted=sort_with_p12(R0_p0_test_2,alphabet_r0_test_2 ,1)\n",
    "print(r0p0sorted)\n",
    "\n",
    "order0=ordre_with_p12(r0p0sorted)\n",
    "    "
   ]
  },
  {
   "cell_type": "markdown",
   "id": "6817fdf1",
   "metadata": {},
   "source": [
    "### test zone avec abcabcabc"
   ]
  },
  {
   "cell_type": "code",
   "execution_count": 19,
   "id": "56a19fcd",
   "metadata": {},
   "outputs": [
    {
     "name": "stdout",
     "output_type": "stream",
     "text": [
      "[97, 98, 99, 97, 98, 99, 97, 99, 97, 98, 0, 0, 0]\n"
     ]
    }
   ],
   "source": [
    "S=\"abcabcacab\"\n",
    "T=asciiDC3(S)\n",
    "columnnumber=2\n",
    "print(T)\n"
   ]
  },
  {
   "cell_type": "code",
   "execution_count": 20,
   "id": "c148b266",
   "metadata": {},
   "outputs": [
    {
     "name": "stdout",
     "output_type": "stream",
     "text": [
      "[1, 4, 7, 10, 2, 5, 8]\n",
      "[[[98, 99, 97], 1], [[98, 99, 97], 4], [[99, 97, 98], 7], [[0, 0, 0], 10], [[99, 97, 98], 2], [[99, 97, 99], 5], [[97, 98, 0], 8]]\n",
      "[[[0, 0, 0], 10], [[97, 98, 0], 8], [[98, 99, 97], 1], [[98, 99, 97], 4], [[99, 97, 98], 7], [[99, 97, 98], 2], [[99, 97, 99], 5]]\n",
      "[1, 2, 3, 3, 4, 4, 5]\n",
      "True\n",
      "{10: 1, 8: 2, 1: 3, 4: 3, 7: 4, 2: 4, 5: 5}\n",
      "[3, 3, 4, 1, 4, 5, 2]\n"
     ]
    },
    {
     "data": {
      "text/plain": [
       "[3, 3, 4, 1, 4, 5, 2, 0, 0, 0]"
      ]
     },
     "execution_count": 20,
     "metadata": {},
     "output_type": "execute_result"
    }
   ],
   "source": [
    "p12=position1_2(T)\n",
    "print(p12)\n",
    "R12=radix_with_p12(p12, T)\n",
    "print(R12)\n",
    "alph=alphabetT(T)\n",
    "alph\n",
    "Rs12= sort_with_p12(R12, alph, columnnumber)\n",
    "print(Rs12)\n",
    "\n",
    "use_index12=True\n",
    "order12, boolean, index12dict =ordre_with_p12(Rs12,use_index12)\n",
    "print(order12)\n",
    "print(boolean)\n",
    "print(index12dict)\n",
    "\n",
    "tprime=Tprime_with_p12(p12, index12dict)\n",
    "print(tprime)\n",
    "\n",
    "tprime=tprime+[0,0,0]\n",
    "tprime"
   ]
  },
  {
   "cell_type": "code",
   "execution_count": 21,
   "id": "dca6db52",
   "metadata": {},
   "outputs": [
    {
     "name": "stdout",
     "output_type": "stream",
     "text": [
      "[1, 4, 7, 2, 5]\n",
      "[[[3, 4, 1], 1], [[4, 5, 2], 4], [[0, 0, 0], 7], [[4, 1, 4], 2], [[5, 2, 0], 5]]\n",
      "{0: 0, 1: 1, 2: 2, 3: 3, 4: 4, 5: 5}\n",
      "[[[0, 0, 0], 7], [[3, 4, 1], 1], [[4, 1, 4], 2], [[4, 5, 2], 4], [[5, 2, 0], 5]]\n",
      "[1, 2, 3, 4, 5]\n",
      "False\n",
      "{7: 1, 1: 2, 2: 3, 4: 4, 5: 5}\n"
     ]
    }
   ],
   "source": [
    "p12prime=position1_2(tprime)\n",
    "print(p12prime)\n",
    "R12prime=radix_with_p12(p12prime, tprime)\n",
    "print(R12prime)\n",
    "alphprime=alphabetT(tprime)\n",
    "print(alphprime)\n",
    "Rs12prime= sort_with_p12(R12prime, alphprime, columnnumber)\n",
    "print(Rs12prime)\n",
    "\n",
    "order12prime, boolean, index12primedict =ordre_with_p12(Rs12prime, True)\n",
    "print(order12prime)\n",
    "print(boolean)\n",
    "print(index12primedict)"
   ]
  },
  {
   "cell_type": "code",
   "execution_count": 22,
   "id": "2d4df4de",
   "metadata": {},
   "outputs": [
    {
     "name": "stdout",
     "output_type": "stream",
     "text": [
      "[0, 3, 6]\n",
      "[[[3, 2], 0], [[1, 4], 3], [[2, 1], 6]]\n"
     ]
    }
   ],
   "source": [
    "p0prime, r0prime=position0_R0_p0(tprime, index12primedict)\n",
    "print(p0prime)\n",
    "print(r0prime)"
   ]
  },
  {
   "cell_type": "code",
   "execution_count": 23,
   "id": "c6f7f9a0",
   "metadata": {},
   "outputs": [
    {
     "name": "stdout",
     "output_type": "stream",
     "text": [
      "{1: 0, 2: 1, 3: 2, 4: 3}\n",
      "[[[1, 4], 3], [[2, 1], 6], [[3, 2], 0]]\n"
     ]
    },
    {
     "data": {
      "text/plain": [
       "[7, 3, 6, 0, 1, 2, 4, 5]"
      ]
     },
     "execution_count": 23,
     "metadata": {},
     "output_type": "execute_result"
    }
   ],
   "source": [
    "alph0prime=alphabetR0_with_p12(r0prime)\n",
    "print(alph0prime)\n",
    "r0sprime= sort_with_p12(r0prime, alph0prime, columnnumber-1)\n",
    "print(r0sprime)\n",
    "\n",
    "index120prime=merge_with_p12(tprime, r0sprime, index12primedict)\n",
    "index120prime"
   ]
  },
  {
   "cell_type": "markdown",
   "id": "337a7274",
   "metadata": {},
   "source": [
    "# Assemblage final"
   ]
  },
  {
   "cell_type": "code",
   "execution_count": 24,
   "id": "c6a79b12",
   "metadata": {},
   "outputs": [],
   "source": [
    "def almost_dc3_with_p12(T):\n",
    "    # T est une liste de int\n",
    "\n",
    "    \n",
    "    columnNumber=2\n",
    "    p12=position1_2(T)\n",
    "    r12=radix_with_p12(p12,T)\n",
    "    alphabet_T=alphabetT(T)\n",
    "    r12sorted=sort_with_p12(r12, alphabet_T, columnNumber)    \n",
    "    order12,repetition, index12dict=ordre_with_p12(r12sorted, True)\n",
    "    if repetition:\n",
    "        Tprim=Tprime_with_p12(p12, index12dict)+[0,0,0]\n",
    "        index012=almost_dc3_with_p12(Tprim)\n",
    "        index12dict=resumeHigherOrder_with_p12(index012, p12)\n",
    "    p0,r0p0=position0_R0_p0(T, index12dict)\n",
    "    alphabet_r0=alphabetR0_with_p12(r0p0)\n",
    "    r0sorted=sort_with_p12(r0p0,alphabet_r0 ,columnNumber-1)\n",
    "    index012=removesentinel(merge_with_p12(T, r0sorted, index12dict))\n",
    "    \n",
    "    return index012\n",
    "   \n",
    "    \n",
    "    "
   ]
  },
  {
   "cell_type": "code",
   "execution_count": 25,
   "id": "78c5f2d2",
   "metadata": {},
   "outputs": [],
   "source": [
    "def almost_dc3_with_p12_debugg(T):\n",
    "    # T est une liste de int\n",
    "\n",
    "    \n",
    "    columnNumber=2\n",
    "    p12=position1_2(T)\n",
    "    \n",
    "    print(\"p12\")\n",
    "    print(p12)\n",
    "    print(\"taille de p12 avant récursion\")\n",
    "    print(len(p12))\n",
    "    print(\"\\n\")\n",
    "    \n",
    "    r12=radix_with_p12(p12,T)\n",
    "    print(\"r12\")\n",
    "    print(r12)\n",
    "    print(\"\\n\")\n",
    "\n",
    "    alphabet_T=alphabetT(T)\n",
    "    print(\"alphabet de T\")\n",
    "    print(alphabet_T)\n",
    "    \n",
    "    r12sorted=sort_with_p12(r12, alphabet_T, columnNumber)\n",
    "    print(\"r12sorted\")\n",
    "    print(r12sorted)\n",
    "    print(\"\\n\")\n",
    "    \n",
    "    order12,repetition, index12dict=ordre_with_p12(r12sorted, True)\n",
    "    print(\"order12\")\n",
    "    print(order12)\n",
    "    print(\"index12dict\")\n",
    "    print(index12dict)\n",
    "    print(\"entre-t-on dans la boucle de répétition?\")\n",
    "    print(repetition)\n",
    "    print(\"\\n\")\n",
    "    \n",
    "\n",
    "    if repetition:\n",
    "\n",
    "        \n",
    "        Tprim=Tprime_with_p12(p12, index12dict)+[0,0,0]\n",
    "        print(\"tprime\")\n",
    "        print(Tprim)\n",
    "        print(\"taille de tprime\")\n",
    "        print(len(Tprim))\n",
    "        print(\"\\n\")\n",
    "        \n",
    "        index012=almost_dc3_with_p12_debugg(Tprim)\n",
    "        print(\"index012\")\n",
    "        print(index012)\n",
    "        print(\"taille de index012\")\n",
    "        print(len(index012))\n",
    "        print(\"\\n\")\n",
    "\n",
    "        index12dict=resumeHigherOrder_with_p12(index012, p12)\n",
    "        print(\"resume higher order index12dict\")\n",
    "        print(index12dict)\n",
    "        print(\"taille de index12dict après retour à taille initiale\")\n",
    "        print(len(index12dict))\n",
    "        print(\"\\n\")\n",
    "\n",
    "    p0,r0p0=position0_R0_p0(T, index12dict)\n",
    "    print(\"rappel de T\")\n",
    "    print(T)\n",
    "    print(\"r0p0\")\n",
    "    print(r0p0)\n",
    "    print(\"taille de r0p0\")\n",
    "    print(len(r0p0))\n",
    "    print(\"\\n\")\n",
    "\n",
    "    alphabet_r0=alphabetR0_with_p12(r0p0)\n",
    "    print(\"alphabet_r0\")\n",
    "    print(alphabet_r0)\n",
    "    print(\"\\n\")\n",
    "    \n",
    "    r0sorted=sort_with_p12(r0p0,alphabet_r0 ,columnNumber-1)\n",
    "    print(\"r0sorted\")\n",
    "    print(r0sorted)\n",
    "    print(\"taille de r0sorted\")\n",
    "    print(len(r0sorted))\n",
    "    print(\"\\n\")\n",
    "\n",
    "    #order0=ordre(r0sorted, index12)\n",
    "    \n",
    "    \n",
    "    index012=removesentinel(merge_with_p12(T, r0sorted, index12dict))\n",
    "    print(\"taille après la fonction removesentinel\")\n",
    "    print(len(index012))\n",
    "    print(\"rappel de T\")\n",
    "    print(T)\n",
    "    print(\"index012\")\n",
    "    print(index012)\n",
    "    print(\"\\n\")\n",
    "    \n",
    "    for i in range(len(index012)):\n",
    "        print(T[index012[i]:])\n",
    "    \n",
    "    return index012\n",
    "   \n",
    "    \n",
    "    "
   ]
  },
  {
   "cell_type": "markdown",
   "id": "4eaf1a2c",
   "metadata": {},
   "source": [
    "## Test avec biopython \n"
   ]
  },
  {
   "cell_type": "code",
   "execution_count": 26,
   "id": "63868023",
   "metadata": {},
   "outputs": [
    {
     "name": "stdout",
     "output_type": "stream",
     "text": [
      "Defaulting to user installation because normal site-packages is not writeable\n",
      "Requirement already satisfied: biopython in /home/azarkua/.local/lib/python3.10/site-packages (1.81)\n",
      "Requirement already satisfied: numpy in /home/azarkua/.local/lib/python3.10/site-packages (from biopython) (1.26.1)\n",
      "\n",
      "\u001b[1m[\u001b[0m\u001b[34;49mnotice\u001b[0m\u001b[1;39;49m]\u001b[0m\u001b[39;49m A new release of pip is available: \u001b[0m\u001b[31;49m23.2.1\u001b[0m\u001b[39;49m -> \u001b[0m\u001b[32;49m23.3.1\u001b[0m\n",
      "\u001b[1m[\u001b[0m\u001b[34;49mnotice\u001b[0m\u001b[1;39;49m]\u001b[0m\u001b[39;49m To update, run: \u001b[0m\u001b[32;49mpython3 -m pip install --upgrade pip\u001b[0m\n",
      "Note: you may need to restart the kernel to use updated packages.\n"
     ]
    }
   ],
   "source": [
    "pip install biopython"
   ]
  },
  {
   "cell_type": "code",
   "execution_count": 27,
   "id": "82f449fb",
   "metadata": {},
   "outputs": [
    {
     "name": "stdout",
     "output_type": "stream",
     "text": [
      "[SeqRecord(seq=Seq('tgaaccctaaaccctaaaccctaaaccctaaacccctaaaccctaaaccctgaa...gtt'), id='NC_037283.1', name='NC_037283.1', description='NC_037283.1 Plasmodium falciparum 3D7 genome assembly, chromosome: 14', dbxrefs=[]), SeqRecord(seq=Seq('ATGATAAAATTTTTAAAACCTAAAATAAAAATATTAAAAAAATTAAATATACCT...ATT'), id='NC_036769.1', name='NC_036769.1', description='NC_036769.1 Plasmodium falciparum strain 3D7, apicoplast', dbxrefs=[])]\n"
     ]
    }
   ],
   "source": [
    "from Bio import SeqIO\n",
    "genome=[]\n",
    "nucleotide_genome=0\n",
    "for seq_record in SeqIO.parse(\"/home/azarkua/Documents/2023-2024/omiques2/developement/omique2/genome.fna\", \"fasta\"):\n",
    "    genome.append(seq_record)\n",
    "    nucleotide_genome+=len(seq_record.seq)\n",
    "print(genome[13:])"
   ]
  },
  {
   "cell_type": "code",
   "execution_count": 28,
   "id": "6bb2b6a0",
   "metadata": {},
   "outputs": [
    {
     "name": "stdout",
     "output_type": "stream",
     "text": [
      "[SeqRecord(seq=Seq('TTTCCTTTTTAAGCGTTTTATTTTTTAATAAAAAAAATATAGTATTATATAGTA...TAA'), id='NC_004325.2-100000', name='NC_004325.2-100000', description='NC_004325.2-100000', dbxrefs=[])]\n"
     ]
    }
   ],
   "source": [
    "reads=[]\n",
    "nucleotide_reads=0\n",
    "for seq_record in SeqIO.parse(\"/home/azarkua/Documents/2023-2024/omiques2/developement/omique2/reads.fq\", \"fastq\"):\n",
    "    reads.append(seq_record)\n",
    "    nucleotide_reads+=len(seq_record.seq)\n",
    "    #if len(seq_record.seq)!= 100:\n",
    "    #    print(\"False\")\n",
    "print(reads[:1])"
   ]
  },
  {
   "cell_type": "code",
   "execution_count": 29,
   "id": "b8ec5679",
   "metadata": {},
   "outputs": [
    {
     "name": "stdout",
     "output_type": "stream",
     "text": [
      "236775\n"
     ]
    },
    {
     "data": {
      "text/plain": [
       "Seq('CCCTGAACCC')"
      ]
     },
     "execution_count": 29,
     "metadata": {},
     "output_type": "execute_result"
    }
   ],
   "source": [
    "temp=genome[1].seq.upper()\n",
    "print(len(temp)//4)\n",
    "temp[50:60]"
   ]
  },
  {
   "cell_type": "markdown",
   "id": "d589cce0",
   "metadata": {},
   "source": [
    "Pour l'instant, notre code met environ 2min d'attente pour faire la suffix table de 25 000 nucléotides."
   ]
  },
  {
   "cell_type": "code",
   "execution_count": 30,
   "id": "097a7edc",
   "metadata": {},
   "outputs": [],
   "source": [
    "T=asciiDC3(temp)\n",
    "#print(T)"
   ]
  },
  {
   "cell_type": "code",
   "execution_count": 31,
   "id": "e2b39d26",
   "metadata": {},
   "outputs": [
    {
     "name": "stdout",
     "output_type": "stream",
     "text": [
      "[947101, 468510, 633566, 468511, 434614, 207415, 633567, 468512, 434615, 207416, 633568, 388233, 468513, 434616, 207417, 633569, 724610, 388234, 468514, 434617, 207418, 633570, 724611, 388235, 468515, 434618, 207419, 533168, 633571, 724612, 388236, 468516, 434619, 207420, 533169, 633572, 238221, 724613, 441106, 388237, 468517, 434620, 207421, 533170, 684120, 633573, 422507, 238222, 656252, 724614, 441107, 157882, 388238, 468518, 654531, 434621, 369055, 207422, 533171, 684121, 633574, 422508, 238223, 656253, 724615, 172540, 441108, 157883, 576520, 388239, 468519, 654532, 434622, 369056, 207423, 247439, 458613, 481497, 533172, 684122, 633575, 168552, 422509, 238224, 656254, 724616, 172541, 441109, 157884, 576521, 388240, 468520, 654533, 699572, 434623, 369057, 521750, 207424, 247440, 458614]\n"
     ]
    }
   ],
   "source": [
    "suffix_array=almost_dc3_with_p12(T)\n",
    "print(suffix_array[:100])\n",
    "#print(timemeasuring)"
   ]
  },
  {
   "cell_type": "markdown",
   "id": "bb10b263",
   "metadata": {},
   "source": [
    "## Mesurer le temps que prend notre fonction"
   ]
  },
  {
   "cell_type": "code",
   "execution_count": 32,
   "id": "a9e9e985",
   "metadata": {},
   "outputs": [],
   "source": [
    "import pstats\n",
    "import cProfile"
   ]
  },
  {
   "cell_type": "code",
   "execution_count": 33,
   "id": "a111f300",
   "metadata": {},
   "outputs": [
    {
     "name": "stdout",
     "output_type": "stream",
     "text": [
      "Fri Nov  3 12:14:20 2023    dc3_stats\n",
      "\n",
      "         28452198 function calls (28452193 primitive calls) in 23.766 seconds\n",
      "\n",
      "   Ordered by: cumulative time\n",
      "\n",
      "   ncalls  tottime  percall  cumtime  percall filename:lineno(function)\n",
      "        1    0.000    0.000   23.766   23.766 {built-in method builtins.exec}\n",
      "        1    0.425    0.425   23.766   23.766 <string>:1(<module>)\n",
      "      6/1    1.076    0.179   23.340   23.340 /tmp/ipykernel_6565/3778850517.py:1(almost_dc3_with_p12)\n",
      "       12    0.138    0.012    7.340    0.612 /tmp/ipykernel_6565/2101628537.py:1(sort_with_p12)\n",
      "       30    7.202    0.240    7.202    0.240 /tmp/ipykernel_6565/2101628537.py:18(countingSortByDigit_with_p12)\n",
      "        6    3.446    0.574    4.037    0.673 /tmp/ipykernel_6565/4110635339.py:1(merge_with_p12)\n",
      "        6    3.405    0.568    3.487    0.581 /tmp/ipykernel_6565/2868372930.py:1(radix_with_p12)\n",
      "        6    1.460    0.243    2.493    0.415 /tmp/ipykernel_6565/2442398083.py:8(ordre_with_p12)\n",
      "        6    1.108    0.185    1.239    0.207 /tmp/ipykernel_6565/3786488779.py:1(position0_R0_p0)\n",
      "        6    0.640    0.107    1.058    0.176 /tmp/ipykernel_6565/456097855.py:1(alphabetR0_with_p12)\n",
      "        6    0.569    0.095    0.997    0.166 /tmp/ipykernel_6565/150808864.py:1(alphabetT)\n",
      "  1727910    0.860    0.000    0.947    0.000 /tmp/ipykernel_6565/2442398083.py:1(triplets_are_equal)\n",
      " 15468107    0.743    0.000    0.743    0.000 {method 'append' of 'list' objects}\n",
      "        6    0.499    0.083    0.578    0.096 /tmp/ipykernel_6565/3648738200.py:1(position1_2)\n",
      " 10400577    0.577    0.000    0.577    0.000 {built-in method builtins.len}\n",
      "        5    0.562    0.112    0.562    0.112 /tmp/ipykernel_6565/1454108679.py:1(resumeHigherOrder_with_p12)\n",
      "       12    0.536    0.045    0.536    0.045 {method 'sort' of 'list' objects}\n",
      "        5    0.364    0.073    0.439    0.088 /tmp/ipykernel_6565/1369769413.py:1(Tprime_with_p12)\n",
      "   855477    0.121    0.000    0.121    0.000 {built-in method builtins.min}\n",
      "        6    0.035    0.006    0.035    0.006 /tmp/ipykernel_6565/3946746901.py:1(removesentinel)\n",
      "        6    0.000    0.000    0.000    0.000 {method 'keys' of 'dict' objects}\n",
      "        1    0.000    0.000    0.000    0.000 {method 'disable' of '_lsprof.Profiler' objects}\n",
      "\n",
      "\n"
     ]
    },
    {
     "data": {
      "text/plain": [
       "<pstats.Stats at 0x7f8c3a9fa3e0>"
      ]
     },
     "execution_count": 33,
     "metadata": {},
     "output_type": "execute_result"
    }
   ],
   "source": [
    "cProfile.run(\"almost_dc3_with_p12(T)\", \"dc3_stats\")\n",
    "p = pstats.Stats(\"dc3_stats\")\n",
    "p.sort_stats(\"cumulative\").print_stats()"
   ]
  },
  {
   "cell_type": "markdown",
   "id": "24a18c05",
   "metadata": {},
   "source": [
    "### Idées d'optimisation  \n",
    "-réussir à ne plus faire appel aux fonctions \"alphabet\"  "
   ]
  },
  {
   "cell_type": "markdown",
   "id": "fbc43e49",
   "metadata": {},
   "source": [
    "### BWT à l'aide de notre suffix table"
   ]
  },
  {
   "cell_type": "code",
   "execution_count": 34,
   "id": "ee199ee7",
   "metadata": {},
   "outputs": [],
   "source": [
    "def BWT_suffix_table(T,end_of_string=False):\n",
    "    \"\"\"\n",
    "    Compute the BWT from the suffix table\n",
    "    \n",
    "    Args:\n",
    "        T (str): string\n",
    "        end_of_string (char): end of string character to append\n",
    "    \n",
    "    Return:\n",
    "        bwt (str): BWT\n",
    "    \"\"\"\n",
    "    if end_of_string==False:\n",
    "        T += '!'\n",
    "    suffix_array=almost_dc3_with_p12(asciiDC3(T)) \n",
    "    bwt = \"\"\n",
    "    for i in suffix_array:\n",
    "        bwt += T[i-1]\n",
    "    return(bwt)"
   ]
  },
  {
   "cell_type": "code",
   "execution_count": 35,
   "id": "2ecff22e",
   "metadata": {},
   "outputs": [],
   "source": [
    "def run_length_encoding(S):\n",
    "    \"\"\"\n",
    "    Encode sequence using the Run Length method\n",
    "    \n",
    "    Args:\n",
    "        text (str): string to be shifted\n",
    "    \n",
    "    Return:\n",
    "        str: run length\n",
    "    \"\"\"\n",
    "    encoded_S= \"\"\n",
    "    i=0\n",
    "    number=1\n",
    "    while i<len(S):\n",
    "        encoded_S+=S[i]\n",
    "        i+=1\n",
    "        while i<len(S) and S[i-1]==S[i]:\n",
    "            number+=1\n",
    "            i+=1\n",
    "        if number>1:\n",
    "            encoded_S+=str(number)\n",
    "        number=1\n",
    "    return encoded_S"
   ]
  },
  {
   "cell_type": "markdown",
   "id": "99481c90",
   "metadata": {},
   "source": [
    "#### Testons notre fonction"
   ]
  },
  {
   "cell_type": "code",
   "execution_count": 36,
   "id": "50ee964b",
   "metadata": {
    "scrolled": true
   },
   "outputs": [
    {
     "name": "stdout",
     "output_type": "stream",
     "text": [
      "[25, 24, 5, 15, 0, 10, 11, 3, 17, 19, 21, 12, 7, 23, 14, 9, 2, 6, 4, 16, 18, 20, 22, 13, 8, 1]\n"
     ]
    }
   ],
   "source": [
    "test_2='ATGCTAGCTGCCCTGATCTCTCTGA!'\n",
    "suffix_array_2_with_p12=almost_dc3_with_p12(asciiDC3(test_2)) \n",
    "print(suffix_array_2_with_p12)\n"
   ]
  },
  {
   "cell_type": "code",
   "execution_count": 37,
   "id": "ce9a205c",
   "metadata": {},
   "outputs": [
    {
     "name": "stdout",
     "output_type": "stream",
     "text": [
      "!\n",
      "A!\n",
      "AGCTGCCCTGATCTCTCTGA!\n",
      "ATCTCTCTGA!\n",
      "ATGCTAGCTGCCCTGATCTCTCTGA!\n",
      "CCCTGATCTCTCTGA!\n",
      "CCTGATCTCTCTGA!\n",
      "CTAGCTGCCCTGATCTCTCTGA!\n",
      "CTCTCTGA!\n",
      "CTCTGA!\n",
      "CTGA!\n",
      "CTGATCTCTCTGA!\n",
      "CTGCCCTGATCTCTCTGA!\n",
      "GA!\n",
      "GATCTCTCTGA!\n",
      "GCCCTGATCTCTCTGA!\n",
      "GCTAGCTGCCCTGATCTCTCTGA!\n",
      "GCTGCCCTGATCTCTCTGA!\n",
      "TAGCTGCCCTGATCTCTCTGA!\n",
      "TCTCTCTGA!\n",
      "TCTCTGA!\n",
      "TCTGA!\n",
      "TGA!\n",
      "TGATCTCTCTGA!\n",
      "TGCCCTGATCTCTCTGA!\n",
      "TGCTAGCTGCCCTGATCTCTCTGA!\n"
     ]
    }
   ],
   "source": [
    "for i in range(len(suffix_array_2_with_p12)):\n",
    "    print(test_2[suffix_array_2_with_p12[i]:])\n",
    "  "
   ]
  },
  {
   "cell_type": "code",
   "execution_count": 38,
   "id": "04eb18f8",
   "metadata": {},
   "outputs": [
    {
     "name": "stdout",
     "output_type": "stream",
     "text": [
      "AGTG!GCGTTTCGTTTTACACCCCCA\n"
     ]
    }
   ],
   "source": [
    "print(BWT_suffix_table(test_2, True))"
   ]
  },
  {
   "cell_type": "code",
   "execution_count": 39,
   "id": "2d180ff4",
   "metadata": {},
   "outputs": [
    {
     "name": "stdout",
     "output_type": "stream",
     "text": [
      "AGTG!GCGT3CGT4ACAC5A\n"
     ]
    }
   ],
   "source": [
    "print(run_length_encoding(BWT_suffix_table(test_2, True)))"
   ]
  },
  {
   "cell_type": "markdown",
   "id": "d951740a",
   "metadata": {},
   "source": [
    "BWT sur notre génome"
   ]
  },
  {
   "cell_type": "code",
   "execution_count": 40,
   "id": "e856d22b",
   "metadata": {},
   "outputs": [
    {
     "name": "stdout",
     "output_type": "stream",
     "text": [
      "ACT2AT2A5TA4CA10GA8TACA5CATACA2TA2TAGA8CA2CA6G2CA3GA11CA2TA12TA3TA4TA4TA5CA13CA2TA3CA3TA7CA3TA6TGTA2\n"
     ]
    }
   ],
   "source": [
    "bwt_T=BWT_suffix_table(genome[1].seq.upper())\n",
    "print(run_length_encoding(bwt_T)[:100])"
   ]
  },
  {
   "cell_type": "markdown",
   "id": "6bb32ed0",
   "metadata": {},
   "source": [
    "Mesurons le temps que l'opération prend"
   ]
  },
  {
   "cell_type": "code",
   "execution_count": 41,
   "id": "a352f194",
   "metadata": {},
   "outputs": [
    {
     "name": "stdout",
     "output_type": "stream",
     "text": [
      "Fri Nov  3 12:15:14 2023    bwt_stats\n",
      "\n",
      "         38466892 function calls (38466887 primitive calls) in 29.341 seconds\n",
      "\n",
      "   Ordered by: cumulative time\n",
      "\n",
      "   ncalls  tottime  percall  cumtime  percall filename:lineno(function)\n",
      "        1    0.000    0.000   29.341   29.341 {built-in method builtins.exec}\n",
      "        1    0.033    0.033   29.341   29.341 <string>:1(<module>)\n",
      "        1    0.758    0.758   28.845   28.845 /tmp/ipykernel_6565/2127043640.py:1(BWT_suffix_table)\n",
      "      6/1    1.111    0.185   26.481   26.481 /tmp/ipykernel_6565/3778850517.py:1(almost_dc3_with_p12)\n",
      "       12    0.144    0.012    7.852    0.654 /tmp/ipykernel_6565/2101628537.py:1(sort_with_p12)\n",
      "       30    7.708    0.257    7.708    0.257 /tmp/ipykernel_6565/2101628537.py:18(countingSortByDigit_with_p12)\n",
      "        6    3.587    0.598    4.188    0.698 /tmp/ipykernel_6565/4110635339.py:1(merge_with_p12)\n",
      "        6    3.386    0.564    3.520    0.587 /tmp/ipykernel_6565/3786488779.py:1(position0_R0_p0)\n",
      "        6    3.326    0.554    3.417    0.569 /tmp/ipykernel_6565/2868372930.py:1(radix_with_p12)\n",
      "        6    1.503    0.251    2.556    0.426 /tmp/ipykernel_6565/2442398083.py:8(ordre_with_p12)\n",
      "   947103    0.344    0.000    1.332    0.000 /home/azarkua/.local/lib/python3.10/site-packages/Bio/Seq.py:470(__getitem__)\n",
      "        6    0.668    0.111    1.096    0.183 /tmp/ipykernel_6565/456097855.py:1(alphabetR0_with_p12)\n",
      "        6    0.573    0.095    1.015    0.169 /tmp/ipykernel_6565/150808864.py:1(alphabetT)\n",
      "  1727914    0.879    0.000    0.965    0.000 /tmp/ipykernel_6565/2442398083.py:1(triplets_are_equal)\n",
      "   947107    0.216    0.000    0.929    0.000 {built-in method builtins.isinstance}\n",
      " 16415240    0.835    0.000    0.835    0.000 {method 'append' of 'list' objects}\n",
      "   947104    0.146    0.000    0.713    0.000 /usr/lib/python3.10/abc.py:117(__instancecheck__)\n",
      " 11891008    0.654    0.000    0.654    0.000 {built-in method builtins.len}\n",
      "        5    0.630    0.126    0.630    0.126 /tmp/ipykernel_6565/1454108679.py:1(resumeHigherOrder_with_p12)\n",
      "        6    0.496    0.083    0.585    0.098 /tmp/ipykernel_6565/3648738200.py:1(position1_2)\n",
      "   947104    0.244    0.000    0.568    0.000 {built-in method _abc._abc_instancecheck}\n",
      "       12    0.544    0.045    0.544    0.045 {method 'sort' of 'list' objects}\n",
      "        5    0.396    0.079    0.474    0.095 /tmp/ipykernel_6565/1369769413.py:1(Tprime_with_p12)\n",
      "        1    0.387    0.387    0.462    0.462 /tmp/ipykernel_6565/1118574164.py:1(run_length_encoding)\n",
      "   947103    0.139    0.000    0.323    0.000 /usr/lib/python3.10/abc.py:121(__subclasscheck__)\n",
      "        1    0.188    0.188    0.275    0.275 /tmp/ipykernel_6565/2880403939.py:1(asciiDC3)\n",
      "   947103    0.184    0.000    0.184    0.000 {built-in method _abc._abc_subclasscheck}\n",
      "   855761    0.120    0.000    0.120    0.000 {built-in method builtins.min}\n",
      "   947103    0.058    0.000    0.058    0.000 {built-in method builtins.chr}\n",
      "   947103    0.044    0.000    0.044    0.000 {built-in method builtins.ord}\n",
      "        6    0.038    0.006    0.038    0.006 /tmp/ipykernel_6565/3946746901.py:1(removesentinel)\n",
      "        1    0.000    0.000    0.001    0.001 /home/azarkua/.local/lib/python3.10/site-packages/Bio/Seq.py:1233(upper)\n",
      "        1    0.000    0.000    0.000    0.000 {method 'upper' of 'bytes' objects}\n",
      "        1    0.000    0.000    0.000    0.000 /home/azarkua/.local/lib/python3.10/site-packages/Bio/Seq.py:495(__add__)\n",
      "        1    0.000    0.000    0.000    0.000 /home/azarkua/.local/lib/python3.10/site-packages/Bio/Seq.py:466(__iter__)\n",
      "        1    0.000    0.000    0.000    0.000 {method 'decode' of 'bytes' objects}\n",
      "        6    0.000    0.000    0.000    0.000 {method 'keys' of 'dict' objects}\n",
      "        2    0.000    0.000    0.000    0.000 /home/azarkua/.local/lib/python3.10/site-packages/Bio/Seq.py:1961(__init__)\n",
      "        1    0.000    0.000    0.000    0.000 {method 'disable' of '_lsprof.Profiler' objects}\n",
      "        1    0.000    0.000    0.000    0.000 /home/azarkua/.local/lib/python3.10/site-packages/Bio/SeqRecord.py:334(<lambda>)\n",
      "        1    0.000    0.000    0.000    0.000 {method 'encode' of 'str' objects}\n",
      "\n",
      "\n"
     ]
    },
    {
     "data": {
      "text/plain": [
       "<pstats.Stats at 0x7f8c3ab56170>"
      ]
     },
     "execution_count": 41,
     "metadata": {},
     "output_type": "execute_result"
    }
   ],
   "source": [
    "cProfile.run(\"run_length_encoding(BWT_suffix_table(genome[1].seq.upper()))\", \"bwt_stats\")\n",
    "p = pstats.Stats(\"bwt_stats\")\n",
    "p.sort_stats(\"cumulative\").print_stats()"
   ]
  },
  {
   "cell_type": "markdown",
   "id": "f7e607d3",
   "metadata": {},
   "source": [
    "## String search with BWT"
   ]
  },
  {
   "cell_type": "markdown",
   "id": "e0cd292c",
   "metadata": {},
   "source": [
    "version du prof"
   ]
  },
  {
   "cell_type": "code",
   "execution_count": 132,
   "id": "f232b782",
   "metadata": {},
   "outputs": [],
   "source": [
    "from collections import Counter"
   ]
  },
  {
   "cell_type": "code",
   "execution_count": 133,
   "id": "569a50f1",
   "metadata": {},
   "outputs": [
    {
     "data": {
      "text/plain": [
       "Counter({'!': 2, 'A': 4, 'G': 5, 'T': 8, 'C': 8})"
      ]
     },
     "execution_count": 133,
     "metadata": {},
     "output_type": "execute_result"
    }
   ],
   "source": [
    "Counter(BWT_suffix_table(test_2))"
   ]
  },
  {
   "cell_type": "code",
   "execution_count": 134,
   "id": "ef34da91",
   "metadata": {},
   "outputs": [],
   "source": [
    "def last2first(counts,k,X):\n",
    "    return k + sum([counts[char] for char in counts if char < X])\n",
    "    \n",
    "def get_first_occurrence(L,X):\n",
    "    for i,l in enumerate(L):\n",
    "        if l == X:\n",
    "            return(i)\n",
    "        \n",
    "def occurrence_indexer(S):\n",
    "    K = []\n",
    "    last_index = {}\n",
    "    for s in S:\n",
    "        if s not in last_index: \n",
    "            last_index[s] = 0\n",
    "        K.append(last_index[s])\n",
    "        last_index[s] += 1\n",
    "    return(K)\n",
    "    \n",
    "    \n",
    "\n"
   ]
  },
  {
   "cell_type": "code",
   "execution_count": 135,
   "id": "3ec918a9",
   "metadata": {},
   "outputs": [],
   "source": [
    "def pattern_matching_BWT(S, pattern,end_pattern=False):\n",
    "    \"\"\"\n",
    "    Search a pattern in a String using the BWT\n",
    "    \n",
    "    Args:\n",
    "        S (str): string\n",
    "        pattern (str): pattern\n",
    "    \n",
    "    Return:\n",
    "        bool: true if the pattern is in the string \n",
    "        \n",
    "    \"\"\"\n",
    "    output=0\n",
    "    L = BWT_suffix_table(S,end_pattern)\n",
    "    K = occurrence_indexer(L)\n",
    "    counts = Counter(L)\n",
    "    e = 0\n",
    "    f = len(L)\n",
    "    i = len(pattern) - 1\n",
    "    while e < f and i >= 0:\n",
    "        X = pattern[i]\n",
    "        first_occurence_in_L_ef = get_first_occurrence(L[e:f],X)\n",
    "        if first_occurence_in_L_ef is None:\n",
    "            return False\n",
    "        else:\n",
    "            r = first_occurence_in_L_ef+e\n",
    "        last_occurence_in_L_ef = get_first_occurrence(L[e:f][::-1],X)\n",
    "        if last_occurence_in_L_ef is None:\n",
    "            return False\n",
    "        else:\n",
    "            s = f-last_occurence_in_L_ef-1\n",
    "        \n",
    "        e = last2first(counts,K[r],X)\n",
    "        f = last2first(counts,K[s],X)+1\n",
    "        i -= 1\n",
    "    output=s  \n",
    "    return [(i<0),output]\n"
   ]
  },
  {
   "cell_type": "code",
   "execution_count": 148,
   "id": "2405cbf9",
   "metadata": {},
   "outputs": [],
   "source": [
    "def position_of_read(suffix_table, bwt_string_match):\n",
    "    return suffix_table[bwt_string_match[1]]-1"
   ]
  },
  {
   "cell_type": "code",
   "execution_count": 138,
   "id": "bca08375",
   "metadata": {},
   "outputs": [],
   "source": [
    "def last2first_debugg(counts,k,X):\n",
    "    print(\"in last2first function\")\n",
    "    print(\"K\")\n",
    "    print(k)\n",
    "    print(\"counts\")\n",
    "    print(counts)\n",
    "    liste=[]\n",
    "    for char in counts:\n",
    "        if char<X:\n",
    "            liste.append(counts[char])\n",
    "    somme=sum(liste)\n",
    "    print(\"liste obtenue\")\n",
    "    print(liste)\n",
    "    print(\"somme\")\n",
    "    print(sum(liste))\n",
    "    print(\"\\n\")\n",
    "    return k + sum([counts[char] for char in counts if char < X])\n",
    "    \n",
    "def pattern_matching_BWT_debugg(S, pattern,end_pattern=False):\n",
    "    \"\"\"\n",
    "    Search a pattern in a String using the BWT\n",
    "    \n",
    "    Args:\n",
    "        S (str): string\n",
    "        pattern (str): pattern\n",
    "    \n",
    "    Return:\n",
    "        bool: true if the pattern is in the string \n",
    "        \n",
    "    \"\"\"\n",
    "    output=0\n",
    "    L = BWT_suffix_table(S,end_pattern)\n",
    "    print(\"bwt\")\n",
    "    print(L)\n",
    "    K = occurrence_indexer(L)\n",
    "    print(\"K\")\n",
    "    print(K)\n",
    "    counts = Counter(L)\n",
    "    print(\"counts\")\n",
    "    print(counts)\n",
    "    print(\"\\n\")\n",
    "    e = 0\n",
    "    f = len(L)\n",
    "    i = len(pattern) - 1\n",
    "    while e < f and i >= 0:\n",
    "        X = pattern[i]\n",
    "        print(\"on s'intéresse à la lettre\")\n",
    "        print(X)\n",
    "        first_occurence_in_L_ef = get_first_occurrence(L[e:f],X)\n",
    "        print(\"first_occurence_in_L_ef\")\n",
    "        print(first_occurence_in_L_ef)\n",
    "        if first_occurence_in_L_ef is None:\n",
    "            return False\n",
    "        else:\n",
    "            r = first_occurence_in_L_ef+e\n",
    "\n",
    "        print(\"L[e:f]\")\n",
    "        print(L[e:f])\n",
    "        print(\"r = first_occurence_in_L_ef+e\")\n",
    "        print(r)\n",
    "        print(\"L[r]\")\n",
    "        print(L[r])\n",
    "        print(\"\\n\")\n",
    "        last_occurence_in_L_ef = get_first_occurrence(L[e:f][::-1],X)\n",
    "        if last_occurence_in_L_ef is None:\n",
    "            return False\n",
    "        else:\n",
    "            s = f-last_occurence_in_L_ef-1\n",
    "        print(\"last_occurence_in_L_ef\")\n",
    "        print(last_occurence_in_L_ef)\n",
    "        print(\"L[e:f]\")\n",
    "        print(L[e:f])\n",
    "        print(\"s = f-last_occurence_in_L_ef-1\")\n",
    "        print(s)\n",
    "        print(\"X\")\n",
    "        print(X)\n",
    "        print(\"\\n\")\n",
    "        \n",
    "        \n",
    "        \n",
    "        e = last2first(counts,K[r],X)\n",
    "        print(\"last2first e\")\n",
    "        print(e)\n",
    "        print(\"\\n\")\n",
    "        f = last2first(counts,K[s],X)+1\n",
    "        print(\"last2first f\")\n",
    "        print(f)\n",
    "        i -= 1\n",
    "        print(\"\\n\")\n",
    "    output=s  \n",
    "    return [(i<0),output]\n"
   ]
  },
  {
   "cell_type": "markdown",
   "id": "0ca1529c",
   "metadata": {},
   "source": [
    "#### Testons notre fonction"
   ]
  },
  {
   "cell_type": "code",
   "execution_count": 141,
   "id": "efbbfe6e",
   "metadata": {},
   "outputs": [
    {
     "data": {
      "text/plain": [
       "'ATGCTAGCTGCCCTGATCTCTCTGA!'"
      ]
     },
     "execution_count": 141,
     "metadata": {},
     "output_type": "execute_result"
    }
   ],
   "source": [
    "test_2"
   ]
  },
  {
   "cell_type": "code",
   "execution_count": 49,
   "id": "c87aeff0",
   "metadata": {},
   "outputs": [
    {
     "data": {
      "text/plain": [
       "False"
      ]
     },
     "execution_count": 49,
     "metadata": {},
     "output_type": "execute_result"
    }
   ],
   "source": [
    "pattern_matching_BWT(test_2,'AAA')"
   ]
  },
  {
   "cell_type": "code",
   "execution_count": 142,
   "id": "7aa1bddb",
   "metadata": {},
   "outputs": [
    {
     "data": {
      "text/plain": [
       "'AGTG!GCGTTTCGTTTTACACCCCCA'"
      ]
     },
     "execution_count": 142,
     "metadata": {},
     "output_type": "execute_result"
    }
   ],
   "source": [
    "BWT_suffix_table(test_2, True)"
   ]
  },
  {
   "cell_type": "code",
   "execution_count": 143,
   "id": "f5b8f0ea",
   "metadata": {},
   "outputs": [
    {
     "name": "stdout",
     "output_type": "stream",
     "text": [
      "[True, 3]\n"
     ]
    }
   ],
   "source": [
    "pattern='GATCTC'\n",
    "match=pattern_matching_BWT(test_2,pattern,True)\n",
    "print(match)"
   ]
  },
  {
   "cell_type": "code",
   "execution_count": 149,
   "id": "6e6d6081",
   "metadata": {},
   "outputs": [
    {
     "data": {
      "text/plain": [
       "'GATCTC'"
      ]
     },
     "execution_count": 149,
     "metadata": {},
     "output_type": "execute_result"
    }
   ],
   "source": [
    "st=almost_dc3_with_p12(asciiDC3(test_2))\n",
    "p=position_of_read(st, match)\n",
    "test_2[p:p+len(pattern)]"
   ]
  },
  {
   "cell_type": "code",
   "execution_count": 150,
   "id": "46d8cb62",
   "metadata": {},
   "outputs": [
    {
     "data": {
      "text/plain": [
       "'CAGTAG'"
      ]
     },
     "execution_count": 150,
     "metadata": {},
     "output_type": "execute_result"
    }
   ],
   "source": [
    "testing=\"GTACGTACCCAGTAGACGTTAGGGTCTCGT!\"\n",
    "pattern_for_testing='CAGTAG'\n",
    "match_2=pattern_matching_BWT(testing,pattern_for_testing,True)\n",
    "st_2=almost_dc3_with_p12(asciiDC3(testing))\n",
    "p_2=position_of_read(st_2, match_2)\n",
    "testing[p_2:p_2+len(pattern_for_testing)]"
   ]
  },
  {
   "cell_type": "markdown",
   "id": "dd9f273c",
   "metadata": {},
   "source": [
    "### Testons avec notre génome"
   ]
  },
  {
   "cell_type": "code",
   "execution_count": 151,
   "id": "d5f1e782",
   "metadata": {},
   "outputs": [
    {
     "data": {
      "text/plain": [
       "Seq('AACCCTAAACCCTAAACCCTAAACCCTAAACCCTAAACCCTAAACCTAAACCCT...TCA')"
      ]
     },
     "execution_count": 151,
     "metadata": {},
     "output_type": "execute_result"
    }
   ],
   "source": [
    "genome[1].seq.upper()"
   ]
  },
  {
   "cell_type": "code",
   "execution_count": 152,
   "id": "872d1a0c",
   "metadata": {},
   "outputs": [
    {
     "data": {
      "text/plain": [
       "Seq('AACCCTAAAC')"
      ]
     },
     "execution_count": 152,
     "metadata": {},
     "output_type": "execute_result"
    }
   ],
   "source": [
    "pattern=genome[1].seq.upper()[:10]\n",
    "pattern"
   ]
  },
  {
   "cell_type": "code",
   "execution_count": 154,
   "id": "014733e7",
   "metadata": {},
   "outputs": [
    {
     "data": {
      "text/plain": [
       "Seq('TACCCTAAAT')"
      ]
     },
     "execution_count": 154,
     "metadata": {},
     "output_type": "execute_result"
    }
   ],
   "source": [
    "match_genome=pattern_matching_BWT(genome[1].seq.upper(),pattern)\n",
    "st_genome=almost_dc3_with_p12(asciiDC3(genome[1].seq.upper()))\n",
    "p_genome=position_of_read(st_genome, match_genome)\n",
    "genome[1].seq.upper()[p_genome:p_genome+len(pattern)]"
   ]
  },
  {
   "cell_type": "code",
   "execution_count": 155,
   "id": "c6dcd82c",
   "metadata": {},
   "outputs": [
    {
     "name": "stdout",
     "output_type": "stream",
     "text": [
      "486998\n"
     ]
    }
   ],
   "source": [
    "print(p_genome)"
   ]
  },
  {
   "cell_type": "code",
   "execution_count": 53,
   "id": "48c22a3e",
   "metadata": {},
   "outputs": [
    {
     "name": "stdout",
     "output_type": "stream",
     "text": [
      "Fri Nov  3 12:16:04 2023    pattern_matching_stats\n",
      "\n",
      "         37923423 function calls (37923417 primitive calls) in 29.890 seconds\n",
      "\n",
      "   Ordered by: cumulative time\n",
      "\n",
      "   ncalls  tottime  percall  cumtime  percall filename:lineno(function)\n",
      "        1    0.000    0.000   29.890   29.890 {built-in method builtins.exec}\n",
      "        1    0.010    0.010   29.890   29.890 <string>:1(<module>)\n",
      "        1    0.033    0.033   29.880   29.880 /tmp/ipykernel_6565/3682101168.py:20(pattern_matching_BWT)\n",
      "        1    0.769    0.769   29.555   29.555 /tmp/ipykernel_6565/2127043640.py:1(BWT_suffix_table)\n",
      "      6/1    1.195    0.199   27.179   27.179 /tmp/ipykernel_6565/3778850517.py:1(almost_dc3_with_p12)\n",
      "       12    0.161    0.013    8.209    0.684 /tmp/ipykernel_6565/2101628537.py:1(sort_with_p12)\n",
      "       30    8.047    0.268    8.048    0.268 /tmp/ipykernel_6565/2101628537.py:18(countingSortByDigit_with_p12)\n",
      "        6    3.662    0.610    4.272    0.712 /tmp/ipykernel_6565/4110635339.py:1(merge_with_p12)\n",
      "        6    3.600    0.600    3.730    0.622 /tmp/ipykernel_6565/3786488779.py:1(position0_R0_p0)\n",
      "        6    3.220    0.537    3.309    0.552 /tmp/ipykernel_6565/2868372930.py:1(radix_with_p12)\n",
      "        6    1.555    0.259    2.632    0.439 /tmp/ipykernel_6565/2442398083.py:8(ordre_with_p12)\n",
      "   947113    0.349    0.000    1.333    0.000 /home/azarkua/.local/lib/python3.10/site-packages/Bio/Seq.py:470(__getitem__)\n",
      "        6    0.675    0.113    1.102    0.184 /tmp/ipykernel_6565/456097855.py:1(alphabetR0_with_p12)\n",
      "        6    0.567    0.095    0.999    0.167 /tmp/ipykernel_6565/150808864.py:1(alphabetT)\n",
      "  1727914    0.899    0.000    0.987    0.000 /tmp/ipykernel_6565/2442398083.py:1(triplets_are_equal)\n",
      "   947118    0.220    0.000    0.925    0.000 {built-in method builtins.isinstance}\n",
      " 17362343    0.862    0.000    0.862    0.000 {method 'append' of 'list' objects}\n",
      "   947115    0.149    0.000    0.705    0.000 /usr/lib/python3.10/abc.py:117(__instancecheck__)\n",
      "        5    0.640    0.128    0.640    0.128 /tmp/ipykernel_6565/1454108679.py:1(resumeHigherOrder_with_p12)\n",
      "10400278/10400277    0.586    0.000    0.586    0.000 {built-in method builtins.len}\n",
      "        6    0.496    0.083    0.583    0.097 /tmp/ipykernel_6565/3648738200.py:1(position1_2)\n",
      "   947115    0.233    0.000    0.556    0.000 {built-in method _abc._abc_instancecheck}\n",
      "       12    0.547    0.046    0.547    0.046 {method 'sort' of 'list' objects}\n",
      "        5    0.388    0.078    0.468    0.094 /tmp/ipykernel_6565/1369769413.py:1(Tprime_with_p12)\n",
      "   947113    0.137    0.000    0.322    0.000 /usr/lib/python3.10/abc.py:121(__subclasscheck__)\n",
      "        1    0.187    0.187    0.275    0.275 /tmp/ipykernel_6565/2880403939.py:1(asciiDC3)\n",
      "        1    0.215    0.215    0.259    0.259 /tmp/ipykernel_6565/3682101168.py:9(occurrence_indexer)\n",
      "   947113    0.185    0.000    0.185    0.000 {built-in method _abc._abc_subclasscheck}\n",
      "   855761    0.126    0.000    0.126    0.000 {built-in method builtins.min}\n",
      "   947113    0.059    0.000    0.059    0.000 {built-in method builtins.chr}\n",
      "   947103    0.044    0.000    0.044    0.000 {built-in method builtins.ord}\n",
      "        6    0.040    0.007    0.040    0.007 /tmp/ipykernel_6565/3946746901.py:1(removesentinel)\n",
      "        1    0.000    0.000    0.032    0.032 /usr/lib/python3.10/collections/__init__.py:565(__init__)\n",
      "        1    0.000    0.000    0.032    0.032 /usr/lib/python3.10/collections/__init__.py:640(update)\n",
      "        1    0.032    0.032    0.032    0.032 {built-in method _collections._count_elements}\n",
      "        1    0.000    0.000    0.000    0.000 /home/azarkua/.local/lib/python3.10/site-packages/Bio/Seq.py:1233(upper)\n",
      "        1    0.000    0.000    0.000    0.000 {method 'upper' of 'bytes' objects}\n",
      "        1    0.000    0.000    0.000    0.000 /home/azarkua/.local/lib/python3.10/site-packages/Bio/Seq.py:495(__add__)\n",
      "        1    0.000    0.000    0.000    0.000 /home/azarkua/.local/lib/python3.10/site-packages/Bio/Seq.py:466(__iter__)\n",
      "        1    0.000    0.000    0.000    0.000 {method 'decode' of 'bytes' objects}\n",
      "       20    0.000    0.000    0.000    0.000 /tmp/ipykernel_6565/3682101168.py:1(last2first)\n",
      "       20    0.000    0.000    0.000    0.000 /tmp/ipykernel_6565/3682101168.py:4(get_first_occurrence)\n",
      "       20    0.000    0.000    0.000    0.000 /tmp/ipykernel_6565/3682101168.py:2(<listcomp>)\n",
      "        6    0.000    0.000    0.000    0.000 {method 'keys' of 'dict' objects}\n",
      "        2    0.000    0.000    0.000    0.000 /home/azarkua/.local/lib/python3.10/site-packages/Bio/Seq.py:1961(__init__)\n",
      "       20    0.000    0.000    0.000    0.000 {built-in method builtins.sum}\n",
      "        1    0.000    0.000    0.000    0.000 /home/azarkua/.local/lib/python3.10/site-packages/Bio/Seq.py:462(__len__)\n",
      "        1    0.000    0.000    0.000    0.000 /home/azarkua/.local/lib/python3.10/site-packages/Bio/SeqRecord.py:334(<lambda>)\n",
      "        1    0.000    0.000    0.000    0.000 {method 'disable' of '_lsprof.Profiler' objects}\n",
      "        1    0.000    0.000    0.000    0.000 {method 'encode' of 'str' objects}\n",
      "\n",
      "\n"
     ]
    },
    {
     "data": {
      "text/plain": [
       "<pstats.Stats at 0x7f8bd33b0f10>"
      ]
     },
     "execution_count": 53,
     "metadata": {},
     "output_type": "execute_result"
    }
   ],
   "source": [
    "cProfile.run(\"pattern_matching_BWT(genome[1].seq.upper(),pattern)\", \"pattern_matching_stats\")\n",
    "p = pstats.Stats(\"pattern_matching_stats\")\n",
    "p.sort_stats(\"cumulative\").print_stats()"
   ]
  },
  {
   "cell_type": "markdown",
   "id": "966c1775",
   "metadata": {},
   "source": [
    "### Première tentative de mesure du temps que prend dc3 (qui ne marche pas)"
   ]
  },
  {
   "cell_type": "markdown",
   "id": "7318d198",
   "metadata": {},
   "source": [
    "Mais j'y ai investi trop de temps pour le supprimer"
   ]
  },
  {
   "cell_type": "markdown",
   "id": "c5333689",
   "metadata": {},
   "source": [
    "i assume that when a function ends, an other function begins"
   ]
  },
  {
   "cell_type": "code",
   "execution_count": 54,
   "id": "320c7e15",
   "metadata": {},
   "outputs": [],
   "source": [
    "      #time variables\n",
    "t0=[] #starting times of every recursion of almost_dc3\n",
    "timep12=[] \n",
    "timer12=[]\n",
    "timealphabet=[]\n",
    "timesort=[]\n",
    "timeorder=[]\n",
    "trep=[]\n",
    "timeTprime=[]\n",
    "tBeforeHigherOrder=[]\n",
    "timeresumeHigherOrder=[]\n",
    "tBeforeP0=[]\n",
    "timeposition0_R0=[]\n",
    "timealphabetR0=[]\n",
    "    \n",
    "timelist=[t0,timep12,timer12,timealphabet,timesort,timeorder,trep,timeTprime,tBeforeHigherOrder,timeresumeHigherOrder,tBeforeP0,timeposition0_R0,timealphabetR0]\n"
   ]
  },
  {
   "cell_type": "code",
   "execution_count": 55,
   "id": "c77931cb",
   "metadata": {},
   "outputs": [],
   "source": [
    "def almost_dc3_time_measuring(T):\n",
    "    \n",
    "    t0.append(time.time())\n",
    "    # T est une liste de int\n",
    "    columnNumber=2\n",
    "    p12=position1_2(T)\n",
    "    \n",
    "    print(\"p12\")\n",
    "    print(p12)\n",
    "    print(\"taille de p12 avant récursion\")\n",
    "    print(len(p12))\n",
    "    \n",
    "    timep12.append(time.time()-t0[-1])\n",
    "    \n",
    "    r12=radix(p12,T)\n",
    "    timer12.append(time.time()-timep12[-1])\n",
    "    \n",
    "    alphabet_T=alphabetT(T)\n",
    "    timealphabet.append(time.time()-timer12[-1])\n",
    "    \n",
    "    r12sorted, index12=sort(r12, p12, alphabet_T, columnNumber)\n",
    "    timesort.append(time.time()-timealphabet[-1])\n",
    "    \n",
    "    order12,repetition=ordre(r12sorted)\n",
    "    timeorder.append(time.time()-timesort[-1])\n",
    "    \n",
    "    if repetition:\n",
    "        trep.append(time.time())\n",
    "        \n",
    "        Tprim=Tprime(order12, p12, index12)+[0,0,0]\n",
    "        timeTprime.append(time.time()-trep[-1])\n",
    "        \n",
    "        index012=almost_dc3(Tprim)\n",
    "        \n",
    "        tBeforeHigherOrder.append(time.time())\n",
    "        index12=resumeHigherOrder(index012, p12)\n",
    "        timeresumeHigherOrder.append(time.time()-tBeforeHigherOrder[-1])\n",
    "    \n",
    "    print(\"taille de p12 après récursion\")\n",
    "    print(len(p12))\n",
    "    \n",
    "    tBeforeP0.append(time.time())\n",
    "    p0,r0=position0_R0(T, index12)\n",
    "    timeposition0_R0.append(time.time()-tBeforeP0[-1])\n",
    "    \n",
    "    alphabet_r0=alphabetR0(r0)\n",
    "    timealphabetR0.append(time.time()-timeposition0_R0[-1])\n",
    "    \n",
    "    r0sorted, index0=sort(r0,p0,alphabet_r0 ,columnNumber-1)\n",
    "    #i dont measure time here\n",
    "    \n",
    "    order0=ordre(r0sorted)\n",
    "    #i dont measure time here\n",
    "    \n",
    "    index012=removesentinel(merge(T, index0, index12))\n",
    "    #i dont measure time here\n",
    "\n",
    "    return index012, timelist\n",
    "   \n",
    "    \n",
    "    "
   ]
  },
  {
   "cell_type": "code",
   "execution_count": 56,
   "id": "43ac63b3",
   "metadata": {},
   "outputs": [],
   "source": [
    "length_repeating_loop=len(timeTprime)\n",
    "timeTprime+=[0*i for i in range(len(t0)-length_repeating_loop)]\n",
    "timeresumeHigherOrder+=[0*i for i in range(len(t0)-length_repeating_loop)]"
   ]
  },
  {
   "cell_type": "code",
   "execution_count": 57,
   "id": "fa6456c5",
   "metadata": {},
   "outputs": [],
   "source": [
    "time_measuring=pd.DataFrame({'p12':timep12, \n",
    "                             'r12':timer12, \n",
    "                             'alphabet':timealphabet, \n",
    "                             'sort':timesort, \n",
    "                             'order':timeorder, \n",
    "                             'Tprime':timeTprime, \n",
    "                             'HigherOrder':timeresumeHigherOrder, \n",
    "                             'P0':timeposition0_R0, \n",
    "                             'alphabetRO':timealphabetR0})"
   ]
  },
  {
   "cell_type": "code",
   "execution_count": 58,
   "id": "47a655e8",
   "metadata": {},
   "outputs": [
    {
     "data": {
      "text/html": [
       "<div>\n",
       "<style scoped>\n",
       "    .dataframe tbody tr th:only-of-type {\n",
       "        vertical-align: middle;\n",
       "    }\n",
       "\n",
       "    .dataframe tbody tr th {\n",
       "        vertical-align: top;\n",
       "    }\n",
       "\n",
       "    .dataframe thead th {\n",
       "        text-align: right;\n",
       "    }\n",
       "</style>\n",
       "<table border=\"1\" class=\"dataframe\">\n",
       "  <thead>\n",
       "    <tr style=\"text-align: right;\">\n",
       "      <th></th>\n",
       "      <th>p12</th>\n",
       "      <th>r12</th>\n",
       "      <th>alphabet</th>\n",
       "      <th>sort</th>\n",
       "      <th>order</th>\n",
       "      <th>Tprime</th>\n",
       "      <th>HigherOrder</th>\n",
       "      <th>P0</th>\n",
       "      <th>alphabetRO</th>\n",
       "    </tr>\n",
       "  </thead>\n",
       "  <tbody>\n",
       "  </tbody>\n",
       "</table>\n",
       "</div>"
      ],
      "text/plain": [
       "Empty DataFrame\n",
       "Columns: [p12, r12, alphabet, sort, order, Tprime, HigherOrder, P0, alphabetRO]\n",
       "Index: []"
      ]
     },
     "execution_count": 58,
     "metadata": {},
     "output_type": "execute_result"
    }
   ],
   "source": [
    "time_measuring"
   ]
  },
  {
   "cell_type": "code",
   "execution_count": 59,
   "id": "975528cd",
   "metadata": {},
   "outputs": [],
   "source": [
    "time_measuring_melted = pd.melt(time_measuring)"
   ]
  },
  {
   "cell_type": "code",
   "execution_count": 60,
   "id": "8c610784",
   "metadata": {},
   "outputs": [
    {
     "data": {
      "text/plain": [
       "<AxesSubplot:>"
      ]
     },
     "execution_count": 60,
     "metadata": {},
     "output_type": "execute_result"
    },
    {
     "data": {
      "image/png": "[encoded data removed]",
      "text/plain": [
       "<Figure size 432x288 with 1 Axes>"
      ]
     },
     "metadata": {
      "needs_background": "light"
     },
     "output_type": "display_data"
    }
   ],
   "source": [
    "sns.boxplot(x='variable', y='value', data=time_measuring_melted)"
   ]
  }
 ],
 "metadata": {
  "kernelspec": {
   "display_name": "Python 3 (ipykernel)",
   "language": "python",
   "name": "python3"
  },
  "language_info": {
   "codemirror_mode": {
    "name": "ipython",
    "version": 3
   },
   "file_extension": ".py",
   "mimetype": "text/x-python",
   "name": "python",
   "nbconvert_exporter": "python",
   "pygments_lexer": "ipython3",
   "version": "3.10.12"
  }
 },
 "nbformat": 4,
 "nbformat_minor": 5
}
