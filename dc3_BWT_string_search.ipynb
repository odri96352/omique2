{
 "cells": [
  {
   "cell_type": "markdown",
   "id": "cc14dc51",
   "metadata": {},
   "source": [
    "## Développement d’une solution de mapping de données de séquençage à haut-débit sur un génome de référence"
   ]
  },
  {
   "cell_type": "markdown",
   "id": "cdb689bb",
   "metadata": {},
   "source": [
    "#### Mise en place d'un algorithme permettant de chercher un mot de longueur fixe dans un texte"
   ]
  },
  {
   "cell_type": "markdown",
   "id": "d6eba205",
   "metadata": {},
   "source": [
    "#### Plan du notebook:\n",
    "1/ Implémentation d'un algorithme \"Difference Cover size 3\" pour construire une table de suffixe à partir d'un génome en un temps linéaire"
   ]
  },
  {
   "cell_type": "markdown",
   "id": "81716c39",
   "metadata": {},
   "source": [
    "### DC3\n",
    "#### Première étape de DC3: division des positions de notre génome, tri des positions"
   ]
  },
  {
   "cell_type": "code",
   "execution_count": 133,
   "id": "7166cabb",
   "metadata": {},
   "outputs": [],
   "source": [
    "def asciiDC3 (seq) : \n",
    "    \"\"\"\n",
    "    Create sequence of ascii equivalent of each element of given list parameter.\n",
    "    Add three sentinel numbers necessary for DC3 algorithm.\n",
    "    \n",
    "    Args:\n",
    "        seq (list of str): list of elements to transform\n",
    "    \n",
    "    Return:\n",
    "        (list of int)\n",
    "    \"\"\"\n",
    "    asc=[]\n",
    "    for i in seq : \n",
    "        asc.append(ord(i))\n",
    "    \n",
    "    return asc+[0,0,0]\n",
    "\n",
    "def position12_radix_with_p12 (asc):\n",
    "    \"\"\"\n",
    "    Creates two lists:\n",
    "    -list of positions of \"asc\" elements not multiple of 3\n",
    "    -list of sequences of 3 numbers starting from positions not mutliple of 3, and their starting position.\n",
    "    \n",
    "    Args:\n",
    "        asc (list of int): the sequence we want a suffix array from\n",
    "    \n",
    "    Return:\n",
    "        p12 (list of int): list of positions of \"asc\" elements not multiple of 3\n",
    "        r12 (list of lists): list of sequences of 3 numbers and their starting position.\n",
    "                             [ [triplet], starting position of triplet]\n",
    "    \"\"\"\n",
    "    p12=[]\n",
    "    r12=[]\n",
    "    for k in range(len(asc)-2):\n",
    "        if k%3!=0 :\n",
    "            p12.append(k)\n",
    "            r12.append([[asc[k],asc[k+1], asc[k+2]],k])\n",
    "            \n",
    "    # Dans le cas où T a un nombre d'élément multiple de 3, r12 ne contiendra pas le triplet [0,0,0].\n",
    "    # Or, la fonction, \"removesentinel\" supprime le triplet [0,0,0] à chaque boucle de récursion de DC3\n",
    "    # Notre fonction rajoute artificiellement [0,0,0] dans les cas où len(T) est un mutliple de 3\n",
    "    if len(asc)%3==0:\n",
    "        k=len(asc)-1-2\n",
    "        p12.append(k)\n",
    "        r12.append([[asc[k],asc[k+1], asc[k+2]],k])\n",
    "        \n",
    "    return p12,r12"
   ]
  },
  {
   "cell_type": "markdown",
   "id": "6b7d4ec9",
   "metadata": {},
   "source": [
    "#### Algorithme de tri "
   ]
  },
  {
   "cell_type": "code",
   "execution_count": 136,
   "id": "992507a1",
   "metadata": {},
   "outputs": [],
   "source": [
    "def alphabetT(T):\n",
    "    \"\"\"\n",
    "    Returns a dictionnary with the order of each \"letter\" constituting the parameter T.\n",
    "    \n",
    "    Example: \n",
    "        alphabetT([4,9,14,67])={4:0, 9:1, 14:2, 67:3}\n",
    "    \n",
    "    Args:\n",
    "        T (list of int): the sequence we want a suffix array from\n",
    "    \n",
    "    Return:\n",
    "        dic (dictionnary) : order of each \"letter\" constituting the parameter T\n",
    "\n",
    "    \"\"\"\n",
    "    dic={}\n",
    "    a=[]\n",
    "    for i in range(len(T)):\n",
    "        a.append(T[i])\n",
    "    a.sort() \n",
    "    \n",
    "    for element in a:\n",
    "        if not (element in dic):\n",
    "            dic[element]=len(dic)\n",
    "    return dic\n",
    "\n",
    "def alphabetR0_with_p12(R0p0):\n",
    "    \"\"\"\n",
    "    Returns a dictionnary with the order of each \"letter\" constituting the parameter R0p0.\n",
    "    Similar to the function alphabetT, coded specifically for the output of function position0_R0_p0\n",
    "    \n",
    "    Example: \n",
    "        alphabetR0_with_p12([[[65, 14], 0], [[67, 11], 3]]) = {11: 0, 14: 1, 65: 2, 67: 3}\n",
    "    \n",
    "    Args:\n",
    "        R0p0 (list of list): list of couples and their position in the sequence we want a suffix array from.\n",
    "                             output of function position0_R0_p0\n",
    "                             [ [couple], position multiple of 3]\n",
    "    \n",
    "    Return:\n",
    "        dic (dictionnary) : order of each \"letter\" constituting the parameter R0p0\n",
    "\n",
    "    \"\"\"\n",
    "    dic={}\n",
    "    a=[]\n",
    "    for column in range(2):\n",
    "        for i in range(len(R0p0)):\n",
    "            a.append(R0p0[i][0][column])\n",
    "    a.sort() \n",
    "    \n",
    "    for element in a:\n",
    "        if not (element in dic):\n",
    "            dic[element]=len(dic)\n",
    "    return dic"
   ]
  },
  {
   "cell_type": "code",
   "execution_count": 137,
   "id": "862523e6",
   "metadata": {},
   "outputs": [],
   "source": [
    "def sort_with_p12(array, alphabet, columnNumber):\n",
    "    \"\"\"\n",
    "    Sorts parameter \"array\" using Radix Sort\n",
    "    \n",
    "    Args:\n",
    "        array (list of list): list of triplets and their positions.\n",
    "        \n",
    "        alphabet (dictionnary): alphabet of our array \n",
    "        \n",
    "        columnNumber (int): number of last column of the lists in our paramater \"array\". \n",
    "                                    for r12, columnNumber=2\n",
    "                                    for r0, columnNumber=1\n",
    "    \n",
    "    Return:\n",
    "        array (list of list) : sorted list of triplets and their positions\n",
    "\n",
    "    \"\"\"\n",
    "    #print(\"array\")\n",
    "    #print(array)\n",
    "    #print(\"alphabet\")\n",
    "    #print(alphabet)\n",
    "    if len(array) == 0:\n",
    "        return array\n",
    "\n",
    "  # Perform counting sort on each column, starting at the last\n",
    "\n",
    "    column = columnNumber\n",
    "    while column>=0:\n",
    "        array = countingSortByDigit_with_p12(array, alphabet, column)\n",
    "        column-=1 # Switch column from which we sort\n",
    "\n",
    "    return array\n",
    "\n",
    "def countingSortByDigit_with_p12(array, alphabet, column):\n",
    " \n",
    "\n",
    "    countIndex = -1\n",
    "    count = [0] * len(alphabet)\n",
    "    output = [None] * len(array)\n",
    "\n",
    "  # Count frequencies\n",
    "    for i in range(0, len(array)):\n",
    "        #print(\"i \"+str(i))\n",
    "        #print(\"array[i] \"+ str(array[i]))\n",
    "        #print(\"column \"+str(column))\n",
    "        \n",
    "        countIndex = alphabet[array[i][0][column]]\n",
    "        count[countIndex] += 1\n",
    "\n",
    "  # Compute cumulates\n",
    "    for i in range(1, len(alphabet)):\n",
    "        count[i] += count[i - 1]\n",
    "\n",
    "  # Move records\n",
    "    for i in range(len(array) - 1, -1, -1):\n",
    "        countIndex = alphabet[array[i][0][column]]\n",
    "        count[countIndex] -= 1\n",
    "        output[count[countIndex]] = array[i]\n",
    "       \n",
    "    return output"
   ]
  },
  {
   "cell_type": "code",
   "execution_count": 6,
   "id": "b13f245e",
   "metadata": {},
   "outputs": [],
   "source": [
    "def triplets_are_equal(a,b):\n",
    "    for i in range(len(a)):\n",
    "        if a[i]!=b[i]:\n",
    "            return False\n",
    "    return True\n",
    "\n",
    "\n",
    "def ordre_with_p12(R12p12sorted, use_index_12=False):\n",
    "    # nous renovie la liste order du genre (1,2,2,3,4,4,5)  et un booléen indiquant s'il y a répétition\n",
    "    index=1\n",
    "    repetition=False\n",
    "    order=[1]\n",
    "    \n",
    "    if use_index_12:\n",
    "        indexdict={R12p12sorted[0][1]:1}\n",
    "        \n",
    "    for i in range(1, len(R12p12sorted)): \n",
    "        if triplets_are_equal(R12p12sorted[i-1][0], R12p12sorted[i][0]):\n",
    "            order.append(index)\n",
    "            repetition=True\n",
    "        else : \n",
    "            index+=1\n",
    "            order.append(index)\n",
    "            \n",
    "        if use_index_12:\n",
    "            indexdict[R12p12sorted[i][1]]=order[i]\n",
    "    if use_index_12:\n",
    "        return order, repetition, indexdict\n",
    "    else: \n",
    "        return order\n",
    "            "
   ]
  },
  {
   "cell_type": "code",
   "execution_count": 9,
   "id": "a616f4b5",
   "metadata": {},
   "outputs": [],
   "source": [
    "def Tprime_with_p12(p12, indexdict):\n",
    "    t=[]\n",
    "    for p in p12:\n",
    "        t.append(indexdict[p])\n",
    "    return t"
   ]
  },
  {
   "cell_type": "code",
   "execution_count": 10,
   "id": "679e86bf",
   "metadata": {},
   "outputs": [],
   "source": [
    "def position0_R0_p0(T, index12dict):\n",
    "    #attention T se finit avec trois 0\n",
    "    #print(\"T\")\n",
    "    #print(T)\n",
    "    position=[]\n",
    "    R=[]\n",
    "    for i in range(len(T)-3): #on ne prend pas en compte les trois 0 sentinelle\n",
    "        if i%3==0:\n",
    "            position.append(i)\n",
    "            if i+1<len(T)-3:\n",
    "                #print(\"i\")\n",
    "                #print(i)\n",
    "                #print(\"T[i+1]\")\n",
    "                #print(T[i+1])\n",
    "                R.append([[T[i],index12dict[i+1]],position[-1]])\n",
    "            else:\n",
    "                R.append([[T[i],1],position[-1]]) # car les sentinelles sont forcément les 1ères dans l'ordre alphabétique\n",
    "    return position, R"
   ]
  },
  {
   "cell_type": "code",
   "execution_count": 11,
   "id": "83cfeabf",
   "metadata": {},
   "outputs": [],
   "source": [
    "def merge_with_p12(Tfinal, r0p0sorted, index12dict) : \n",
    "    index12dictkeys=list(index12dict.keys())\n",
    "    liste=[]\n",
    "    A=0\n",
    "    B=0\n",
    "    while A<len(r0p0sorted) and B<len(index12dictkeys):\n",
    "        a=r0p0sorted[A][1]\n",
    "        b=index12dictkeys[B]\n",
    "        if Tfinal[a]!=Tfinal[b] :\n",
    "            minimum=min(Tfinal[a], Tfinal[b])\n",
    "            \n",
    "            if minimum == Tfinal[a]:\n",
    "                A+=1\n",
    "                liste.append(a)\n",
    "            else: \n",
    "                B+=1\n",
    "                liste.append(b)\n",
    "\n",
    "        else :\n",
    "            if b%3==1 : \n",
    "                longueur=len(liste)\n",
    "                i=0\n",
    "                if index12dict[a+1]<index12dict[b+1]:\n",
    "                    liste.append(a)\n",
    "                \n",
    "                    A+=1\n",
    "                else:\n",
    "                    liste.append(b)\n",
    "                \n",
    "                    B+=1\n",
    "                    \n",
    "                    \n",
    "            elif b%3==2 :\n",
    "            \n",
    "                if Tfinal[a+1]!=Tfinal[b+1] :\n",
    "                   \n",
    "                    minimum=min(Tfinal[a+1], Tfinal[b+1])\n",
    "                    if minimum == Tfinal[a+1]:\n",
    "                        A+=1\n",
    "                    \n",
    "                        liste.append(a)\n",
    "                    else: \n",
    "                        B+=1\n",
    "                        \n",
    "                        liste.append(b)\n",
    "\n",
    "                else:\n",
    "                  \n",
    "                    if index12dict[a+2]<index12dict[b+2]:\n",
    "                        liste.append(a)\n",
    "                        A+=1\n",
    "                    else:\n",
    "                        liste.append(b)\n",
    "                        B+=1\n",
    "                        \n",
    "\n",
    "    if A==len(r0p0sorted):\n",
    "\n",
    "        for i in range(B,len(index12dictkeys)):\n",
    "            liste.append(index12dictkeys[i])\n",
    "                \n",
    "    if B==len(index12dictkeys):\n",
    "\n",
    "        for i in range(A, len(r0p0sorted)):\n",
    "            liste.append(r0p0sorted[i][1])\n",
    "\n",
    "    return liste"
   ]
  },
  {
   "cell_type": "code",
   "execution_count": 12,
   "id": "4d8d329f",
   "metadata": {},
   "outputs": [],
   "source": [
    "def merge_with_p12_debugg(Tfinal, r0p0sorted, index12dict) : \n",
    "    print(\"rappel des paramètres entrés pour la fonction merge\")\n",
    "    print(\"Tfinal\")\n",
    "    print(Tfinal)\n",
    "    print(\"r0p0sorted\")\n",
    "    print(r0p0sorted)\n",
    "    print(\"index12dict\")\n",
    "    print(index12dict)\n",
    "    print(\"on construit une liste des clés du dictionnaire\")\n",
    "    print(\"qui est dans l'ordre normalement ahhh!\")\n",
    "    index12dictkeys=list(index12dict.keys())\n",
    "    liste=[]\n",
    "    A=0\n",
    "    B=0\n",
    "    while A<len(r0p0sorted) and B<len(index12dictkeys):\n",
    "        print(\"rentre dans le while\")\n",
    "        a=r0p0sorted[A][1]\n",
    "        b=index12dictkeys[B]\n",
    "        if Tfinal[a]!=Tfinal[b] :\n",
    "            minimum=min(Tfinal[a], Tfinal[b])\n",
    "            \n",
    "            if minimum == Tfinal[a]:\n",
    "                print(\"a= \"+str(a)+\", b= \"+str(b)+\", on append le \"+str(a))\n",
    "                A+=1\n",
    "                liste.append(a)\n",
    "            else: \n",
    "                print(\"a= \"+str(a)+\", b= \"+str(b)+\", on append le \"+str(b))\n",
    "                B+=1\n",
    "                liste.append(b)\n",
    "\n",
    "        else :\n",
    "            print(\"Tfinal[a]\")\n",
    "            print(Tfinal[a])\n",
    "            print(\"Tfinal[b]\")\n",
    "            print(Tfinal[b])\n",
    "            print(\"Tfinal[a]==Tfinal[b]\")\n",
    "            print(Tfinal[a]==Tfinal[b])\n",
    "            if b%3==1 : \n",
    "                print(str(b)+\" est congru à 1 modulo 3\")\n",
    "                longueur=len(liste)\n",
    "                print(\"l'objet liste est pour l'instant constitué de: \")\n",
    "                print(liste)\n",
    "                i=0\n",
    "                print(\"on compare les positions de \"+str(a+1)+\" et \"+str(b+1))\n",
    "                print(\"index12dict[\" +str(a+1)+\"]= \")\n",
    "                print(index12dict[a+1])\n",
    "                print(\"index12dict[\" +str(b+1)+\"]= \")\n",
    "                print(index12dict[b+1])\n",
    "                if index12dict[a+1]<index12dict[b+1]:\n",
    "                    liste.append(a)\n",
    "                    print(\"on append \"+ str(a))\n",
    "                    A+=1\n",
    "                else:\n",
    "                    liste.append(b)\n",
    "                    print(\"on append \"+ str(b))\n",
    "                    B+=1\n",
    "                    \n",
    "                    \n",
    "            elif b%3==2 :\n",
    "                print(str(b)+\"est congru à 2 modulo 3\")\n",
    "                if Tfinal[a+1]!=Tfinal[b+1] :\n",
    "                    print(\"Tfinal[a+1]\")\n",
    "                    print(Tfinal[a+1])\n",
    "                    print(\"Tfinal[b+1]\")\n",
    "                    print(Tfinal[b+1])\n",
    "                    print(\"Tfinal[a+1]!=Tfinal[b+1]\")\n",
    "                    print(Tfinal[a+1]!=Tfinal[b+1])\n",
    "                    minimum=min(Tfinal[a+1], Tfinal[b+1])\n",
    "                    if minimum == Tfinal[a+1]:\n",
    "                        A+=1\n",
    "                        print(\"on append \"+ str(a))\n",
    "                        liste.append(a)\n",
    "                    else: \n",
    "                        B+=1\n",
    "                        print(\"on append \"+ str(b))\n",
    "                        liste.append(b)\n",
    "\n",
    "                else:\n",
    "                    print(\"Tfinal[a+1]\")\n",
    "                    print(Tfinal[a+1])\n",
    "                    print(\"Tfinal[b+1]\")\n",
    "                    print(Tfinal[b+1])\n",
    "                    print(\"Tfinal[a+1]==Tfinal[b+1]\")\n",
    "                    print(Tfinal[a+1]==Tfinal[b+1])\n",
    "                    print(\"on compare a+2 et b+2\")\n",
    "                    if index12dict[a+2]<index12dict[b+2]:\n",
    "                        liste.append(a)\n",
    "                        A+=1\n",
    "                    else:\n",
    "                        liste.append(b)\n",
    "                        B+=1\n",
    "                        \n",
    "    print(\"plus dans la boucle while\")\n",
    "    print(\"A \"+str(A))\n",
    "    print(\"B \"+str(B))\n",
    "    if A==len(r0p0sorted):\n",
    "        print(\"on concatène les index12\")\n",
    "        for i in range(B,len(index12dictkeys)):\n",
    "            liste.append(index12dictkeys[i])\n",
    "                \n",
    "    if B==len(index12dictkeys):\n",
    "        print(\"on concatène les index0\")\n",
    "        for i in range(A, len(r0p0sorted)):\n",
    "            liste.append(r0p0sorted[i][1])\n",
    "\n",
    "    return liste"
   ]
  },
  {
   "cell_type": "code",
   "execution_count": 13,
   "id": "5357493c",
   "metadata": {},
   "outputs": [],
   "source": [
    "def removesentinel(index):\n",
    "    return index[1:]"
   ]
  },
  {
   "cell_type": "code",
   "execution_count": 14,
   "id": "cf1426fb",
   "metadata": {},
   "outputs": [],
   "source": [
    "def resumeHigherOrder_with_p12(index012prime, P12):\n",
    "    output={}\n",
    "    for i in range(len(index012prime)):\n",
    "        output[P12[index012prime[i]]]=i\n",
    "        \n",
    "    return output"
   ]
  },
  {
   "cell_type": "markdown",
   "id": "1a1b29c2",
   "metadata": {},
   "source": [
    "### test zone avec test 2"
   ]
  },
  {
   "cell_type": "code",
   "execution_count": 15,
   "id": "497f5ea2",
   "metadata": {},
   "outputs": [
    {
     "name": "stdout",
     "output_type": "stream",
     "text": [
      "[[[84, 71, 67], 1], [[71, 67, 84], 2], [[84, 65, 71], 4], [[65, 71, 67], 5], [[67, 84, 71], 7], [[84, 71, 67], 8], [[67, 67, 67], 10], [[67, 67, 84], 11], [[84, 71, 65], 13], [[71, 65, 84], 14], [[84, 67, 84], 16], [[67, 84, 67], 17], [[67, 84, 67], 19], [[84, 67, 84], 20], [[84, 71, 65], 22], [[71, 65, 33], 23], [[33, 0, 0], 25], [[0, 0, 0], 26]]\n"
     ]
    }
   ],
   "source": [
    "test_2='ATGCTAGCTGCCCTGATCTCTCTGA!'\n",
    "p12_test_2=[1, 4, 7, 10, 13, 16, 19, 22, 25, 2, 5, 8, 11, 14, 17, 20, 23, 26]\n",
    "r12_test_2=[[84, 71, 67], [84, 65, 71], [67, 84, 71], [67, 67, 67], [84, 71, 65], [84, 67, 84], [67, 84, 67], [84, 71, 65], [33, 0, 0], [71, 67, 84], [65, 71, 67], [84, 71, 67], [67, 67, 84], [71, 65, 84], [67, 84, 67], [84, 67, 84], [71, 65, 33], [0, 0, 0]]\n",
    "alphabet_test_2={0: 0, 33: 1, 65: 2, 67: 3, 71: 4, 84: 5}\n",
    "\n",
    "\n",
    "p12,r12_p12_test_2=position12_radix_with_p12(asciiDC3(test_2))\n",
    "print(r12_p12_test_2)\n",
    "\n"
   ]
  },
  {
   "cell_type": "code",
   "execution_count": 16,
   "id": "1e1bea1a",
   "metadata": {},
   "outputs": [
    {
     "name": "stdout",
     "output_type": "stream",
     "text": [
      "[[[0, 0, 0], 26], [[33, 0, 0], 25], [[65, 71, 67], 5], [[67, 67, 67], 10], [[67, 67, 84], 11], [[67, 84, 67], 17], [[67, 84, 67], 19], [[67, 84, 71], 7], [[71, 65, 33], 23], [[71, 65, 84], 14], [[71, 67, 84], 2], [[84, 65, 71], 4], [[84, 67, 84], 16], [[84, 67, 84], 20], [[84, 71, 65], 13], [[84, 71, 65], 22], [[84, 71, 67], 1], [[84, 71, 67], 8]]\n"
     ]
    }
   ],
   "source": [
    "r12_p12_sorted=sort_with_p12(r12_p12_test_2, alphabet_test_2, 2)\n",
    "print(r12_p12_sorted)"
   ]
  },
  {
   "cell_type": "code",
   "execution_count": 17,
   "id": "c852ec63",
   "metadata": {},
   "outputs": [
    {
     "name": "stdout",
     "output_type": "stream",
     "text": [
      "[67, 84, 67]\n",
      "[67, 84, 67]\n",
      "True\n",
      "[1, 2, 3, 4, 5, 6, 6, 7, 8, 9, 10, 11, 12, 12, 13, 13, 14, 14]\n",
      "{26: 1, 25: 2, 5: 3, 10: 4, 11: 5, 17: 6, 19: 6, 7: 7, 23: 8, 14: 9, 2: 10, 4: 11, 16: 12, 20: 12, 13: 13, 22: 13, 1: 14, 8: 14}\n"
     ]
    }
   ],
   "source": [
    "print(r12_p12_sorted[5][0])\n",
    "print(r12_p12_sorted[6][0])\n",
    "print(triplets_are_equal(r12_p12_sorted[5][0],r12_p12_sorted[6][0]))\n",
    "ordre_test_2, repetition, indexdict_test_2=ordre_with_p12(r12_p12_sorted, True)\n",
    "print(ordre_test_2)\n",
    "print(indexdict_test_2)"
   ]
  },
  {
   "cell_type": "code",
   "execution_count": 18,
   "id": "c45e82ed",
   "metadata": {},
   "outputs": [
    {
     "name": "stdout",
     "output_type": "stream",
     "text": [
      "[0, 3, 6, 9, 12, 15, 18, 21, 24]\n",
      "[[[65, 14], 0], [[67, 11], 3], [[71, 7], 6], [[71, 4], 9], [[67, 13], 12], [[65, 12], 15], [[84, 6], 18], [[67, 13], 21], [[65, 2], 24]]\n",
      "{2: 0, 4: 1, 6: 2, 7: 3, 11: 4, 12: 5, 13: 6, 14: 7, 65: 8, 67: 9, 71: 10, 84: 11}\n",
      "[[[65, 2], 24], [[65, 12], 15], [[65, 14], 0], [[67, 11], 3], [[67, 13], 12], [[67, 13], 21], [[71, 4], 9], [[71, 7], 6], [[84, 6], 18]]\n"
     ]
    }
   ],
   "source": [
    "p0, R0_p0_test_2=position0_R0_p0(asciiDC3(test_2), indexdict_test_2)\n",
    "\n",
    "print(p0)\n",
    "print(R0_p0_test_2)\n",
    "\n",
    "alphabet_r0_test_2=alphabetR0_with_p12(R0_p0_test_2)\n",
    "print(alphabet_r0_test_2)\n",
    "    \n",
    "r0p0sorted=sort_with_p12(R0_p0_test_2,alphabet_r0_test_2 ,1)\n",
    "print(r0p0sorted)\n",
    "\n",
    "order0=ordre_with_p12(r0p0sorted)\n",
    "    "
   ]
  },
  {
   "cell_type": "markdown",
   "id": "6817fdf1",
   "metadata": {},
   "source": [
    "### test zone avec abcabcabc"
   ]
  },
  {
   "cell_type": "code",
   "execution_count": 19,
   "id": "56a19fcd",
   "metadata": {},
   "outputs": [
    {
     "name": "stdout",
     "output_type": "stream",
     "text": [
      "[97, 98, 99, 97, 98, 99, 97, 99, 97, 98, 0, 0, 0]\n"
     ]
    }
   ],
   "source": [
    "S=\"abcabcacab\"\n",
    "T=asciiDC3(S)\n",
    "columnnumber=2\n",
    "print(T)\n"
   ]
  },
  {
   "cell_type": "code",
   "execution_count": 20,
   "id": "c148b266",
   "metadata": {},
   "outputs": [
    {
     "name": "stdout",
     "output_type": "stream",
     "text": [
      "[1, 2, 4, 5, 7, 8, 10]\n",
      "[[[98, 99, 97], 1], [[99, 97, 98], 2], [[98, 99, 97], 4], [[99, 97, 99], 5], [[99, 97, 98], 7], [[97, 98, 0], 8], [[0, 0, 0], 10]]\n",
      "[[[0, 0, 0], 10], [[97, 98, 0], 8], [[98, 99, 97], 1], [[98, 99, 97], 4], [[99, 97, 98], 2], [[99, 97, 98], 7], [[99, 97, 99], 5]]\n",
      "[1, 2, 3, 3, 4, 4, 5]\n",
      "True\n",
      "{10: 1, 8: 2, 1: 3, 4: 3, 2: 4, 7: 4, 5: 5}\n",
      "[3, 4, 3, 5, 4, 2, 1]\n"
     ]
    },
    {
     "data": {
      "text/plain": [
       "[3, 4, 3, 5, 4, 2, 1, 0, 0, 0]"
      ]
     },
     "execution_count": 20,
     "metadata": {},
     "output_type": "execute_result"
    }
   ],
   "source": [
    "p12,R12=position12_radix_with_p12(T)\n",
    "print(p12)\n",
    "print(R12)\n",
    "alph=alphabetT(T)\n",
    "alph\n",
    "Rs12= sort_with_p12(R12, alph, columnnumber)\n",
    "print(Rs12)\n",
    "\n",
    "use_index12=True\n",
    "order12, boolean, index12dict =ordre_with_p12(Rs12,use_index12)\n",
    "print(order12)\n",
    "print(boolean)\n",
    "print(index12dict)\n",
    "\n",
    "tprime=Tprime_with_p12(p12, index12dict)\n",
    "print(tprime)\n",
    "\n",
    "tprime=tprime+[0,0,0]\n",
    "tprime"
   ]
  },
  {
   "cell_type": "code",
   "execution_count": 21,
   "id": "dca6db52",
   "metadata": {},
   "outputs": [
    {
     "name": "stdout",
     "output_type": "stream",
     "text": [
      "[1, 2, 4, 5, 7]\n",
      "[[[4, 3, 5], 1], [[3, 5, 4], 2], [[4, 2, 1], 4], [[2, 1, 0], 5], [[0, 0, 0], 7]]\n",
      "{0: 0, 1: 1, 2: 2, 3: 3, 4: 4, 5: 5}\n",
      "[[[0, 0, 0], 7], [[2, 1, 0], 5], [[3, 5, 4], 2], [[4, 2, 1], 4], [[4, 3, 5], 1]]\n",
      "[1, 2, 3, 4, 5]\n",
      "False\n",
      "{7: 1, 5: 2, 2: 3, 4: 4, 1: 5}\n"
     ]
    }
   ],
   "source": [
    "p12prime,R12prime=position12_radix_with_p12(tprime)\n",
    "print(p12prime)\n",
    "print(R12prime)\n",
    "alphprime=alphabetT(tprime)\n",
    "print(alphprime)\n",
    "Rs12prime= sort_with_p12(R12prime, alphprime, columnnumber)\n",
    "print(Rs12prime)\n",
    "\n",
    "order12prime, boolean, index12primedict =ordre_with_p12(Rs12prime, True)\n",
    "print(order12prime)\n",
    "print(boolean)\n",
    "print(index12primedict)"
   ]
  },
  {
   "cell_type": "code",
   "execution_count": 22,
   "id": "2d4df4de",
   "metadata": {},
   "outputs": [
    {
     "name": "stdout",
     "output_type": "stream",
     "text": [
      "[0, 3, 6]\n",
      "[[[3, 5], 0], [[5, 4], 3], [[1, 1], 6]]\n"
     ]
    }
   ],
   "source": [
    "p0prime, r0prime=position0_R0_p0(tprime, index12primedict)\n",
    "print(p0prime)\n",
    "print(r0prime)"
   ]
  },
  {
   "cell_type": "code",
   "execution_count": 23,
   "id": "c6f7f9a0",
   "metadata": {},
   "outputs": [
    {
     "name": "stdout",
     "output_type": "stream",
     "text": [
      "{1: 0, 3: 1, 4: 2, 5: 3}\n",
      "[[[1, 1], 6], [[3, 5], 0], [[5, 4], 3]]\n"
     ]
    },
    {
     "data": {
      "text/plain": [
       "[7, 6, 5, 0, 2, 4, 1, 3]"
      ]
     },
     "execution_count": 23,
     "metadata": {},
     "output_type": "execute_result"
    }
   ],
   "source": [
    "alph0prime=alphabetR0_with_p12(r0prime)\n",
    "print(alph0prime)\n",
    "r0sprime= sort_with_p12(r0prime, alph0prime, columnnumber-1)\n",
    "print(r0sprime)\n",
    "\n",
    "index120prime=merge_with_p12(tprime, r0sprime, index12primedict)\n",
    "index120prime"
   ]
  },
  {
   "cell_type": "markdown",
   "id": "337a7274",
   "metadata": {},
   "source": [
    "# Assemblage final"
   ]
  },
  {
   "cell_type": "code",
   "execution_count": 24,
   "id": "c6a79b12",
   "metadata": {},
   "outputs": [],
   "source": [
    "def almost_dc3_with_p12(T):\n",
    "    # T est une liste de int\n",
    "\n",
    "    \n",
    "    columnNumber=2\n",
    "    p12,r12=position12_radix_with_p12(T)\n",
    "    alphabet_T=alphabetT(T)\n",
    "    r12sorted=sort_with_p12(r12, alphabet_T, columnNumber)    \n",
    "    order12,repetition, index12dict=ordre_with_p12(r12sorted, True)\n",
    "    if repetition:\n",
    "        Tprim=Tprime_with_p12(p12, index12dict)+[0,0,0]\n",
    "        index012=almost_dc3_with_p12(Tprim)\n",
    "        index12dict=resumeHigherOrder_with_p12(index012, p12)\n",
    "    p0,r0p0=position0_R0_p0(T, index12dict)\n",
    "    alphabet_r0=alphabetR0_with_p12(r0p0)\n",
    "    r0sorted=sort_with_p12(r0p0,alphabet_r0 ,columnNumber-1)\n",
    "    index012=removesentinel(merge_with_p12(T, r0sorted, index12dict))\n",
    "    \n",
    "    return index012\n",
    "   \n",
    "    \n",
    "    "
   ]
  },
  {
   "cell_type": "code",
   "execution_count": 25,
   "id": "78c5f2d2",
   "metadata": {},
   "outputs": [],
   "source": [
    "def almost_dc3_with_p12_debugg(T):\n",
    "    # T est une liste de int\n",
    "\n",
    "    \n",
    "    columnNumber=2\n",
    "    p12,r12=position12_radix_with_p12(T)\n",
    "    \n",
    "    \n",
    "    print(\"p12\")\n",
    "    print(p12)\n",
    "    print(\"taille de p12 avant récursion\")\n",
    "    print(len(p12))\n",
    "    print(\"\\n\")\n",
    "    \n",
    "    \n",
    "    print(\"r12\")\n",
    "    print(r12)\n",
    "    print(\"\\n\")\n",
    "\n",
    "    alphabet_T=alphabetT(T)\n",
    "    print(\"alphabet de T\")\n",
    "    print(alphabet_T)\n",
    "    \n",
    "    r12sorted=sort_with_p12(r12, alphabet_T, columnNumber)\n",
    "    print(\"r12sorted\")\n",
    "    print(r12sorted)\n",
    "    print(\"\\n\")\n",
    "    \n",
    "    order12,repetition, index12dict=ordre_with_p12(r12sorted, True)\n",
    "    print(\"order12\")\n",
    "    print(order12)\n",
    "    print(\"index12dict\")\n",
    "    print(index12dict)\n",
    "    print(\"entre-t-on dans la boucle de répétition?\")\n",
    "    print(repetition)\n",
    "    print(\"\\n\")\n",
    "    \n",
    "\n",
    "    if repetition:\n",
    "\n",
    "        \n",
    "        Tprim=Tprime_with_p12(p12, index12dict)+[0,0,0]\n",
    "        print(\"tprime\")\n",
    "        print(Tprim)\n",
    "        print(\"taille de tprime\")\n",
    "        print(len(Tprim))\n",
    "        print(\"\\n\")\n",
    "        \n",
    "        index012=almost_dc3_with_p12_debugg(Tprim)\n",
    "        print(\"index012\")\n",
    "        print(index012)\n",
    "        print(\"taille de index012\")\n",
    "        print(len(index012))\n",
    "        print(\"\\n\")\n",
    "\n",
    "        index12dict=resumeHigherOrder_with_p12(index012, p12)\n",
    "        print(\"resume higher order index12dict\")\n",
    "        print(index12dict)\n",
    "        print(\"taille de index12dict après retour à taille initiale\")\n",
    "        print(len(index12dict))\n",
    "        print(\"\\n\")\n",
    "\n",
    "    p0,r0p0=position0_R0_p0(T, index12dict)\n",
    "    print(\"rappel de T\")\n",
    "    print(T)\n",
    "    print(\"r0p0\")\n",
    "    print(r0p0)\n",
    "    print(\"taille de r0p0\")\n",
    "    print(len(r0p0))\n",
    "    print(\"\\n\")\n",
    "\n",
    "    alphabet_r0=alphabetR0_with_p12(r0p0)\n",
    "    print(\"alphabet_r0\")\n",
    "    print(alphabet_r0)\n",
    "    print(\"\\n\")\n",
    "    \n",
    "    r0sorted=sort_with_p12(r0p0,alphabet_r0 ,columnNumber-1)\n",
    "    print(\"r0sorted\")\n",
    "    print(r0sorted)\n",
    "    print(\"taille de r0sorted\")\n",
    "    print(len(r0sorted))\n",
    "    print(\"\\n\")\n",
    "\n",
    "    #order0=ordre(r0sorted, index12)\n",
    "    \n",
    "    \n",
    "    index012=removesentinel(merge_with_p12(T, r0sorted, index12dict))\n",
    "    print(\"taille après la fonction removesentinel\")\n",
    "    print(len(index012))\n",
    "    print(\"rappel de T\")\n",
    "    print(T)\n",
    "    print(\"index012\")\n",
    "    print(index012)\n",
    "    print(\"\\n\")\n",
    "    \n",
    "    for i in range(len(index012)):\n",
    "        print(T[index012[i]:])\n",
    "    \n",
    "    return index012\n",
    "   \n",
    "    \n",
    "    "
   ]
  },
  {
   "cell_type": "markdown",
   "id": "4eaf1a2c",
   "metadata": {},
   "source": [
    "## Test avec biopython \n"
   ]
  },
  {
   "cell_type": "code",
   "execution_count": 26,
   "id": "63868023",
   "metadata": {},
   "outputs": [
    {
     "name": "stdout",
     "output_type": "stream",
     "text": [
      "Defaulting to user installation because normal site-packages is not writeable\n",
      "Requirement already satisfied: biopython in /home/azarkua/.local/lib/python3.10/site-packages (1.81)\n",
      "Requirement already satisfied: numpy in /home/azarkua/.local/lib/python3.10/site-packages (from biopython) (1.26.1)\n",
      "\n",
      "\u001b[1m[\u001b[0m\u001b[34;49mnotice\u001b[0m\u001b[1;39;49m]\u001b[0m\u001b[39;49m A new release of pip is available: \u001b[0m\u001b[31;49m23.2.1\u001b[0m\u001b[39;49m -> \u001b[0m\u001b[32;49m23.3.1\u001b[0m\n",
      "\u001b[1m[\u001b[0m\u001b[34;49mnotice\u001b[0m\u001b[1;39;49m]\u001b[0m\u001b[39;49m To update, run: \u001b[0m\u001b[32;49mpython3 -m pip install --upgrade pip\u001b[0m\n",
      "Note: you may need to restart the kernel to use updated packages.\n"
     ]
    }
   ],
   "source": [
    "pip install biopython"
   ]
  },
  {
   "cell_type": "code",
   "execution_count": 27,
   "id": "82f449fb",
   "metadata": {},
   "outputs": [
    {
     "name": "stdout",
     "output_type": "stream",
     "text": [
      "[SeqRecord(seq=Seq('tgaaccctaaaccctaaaccctaaaccctaaacccctaaaccctaaaccctgaa...gtt'), id='NC_037283.1', name='NC_037283.1', description='NC_037283.1 Plasmodium falciparum 3D7 genome assembly, chromosome: 14', dbxrefs=[]), SeqRecord(seq=Seq('ATGATAAAATTTTTAAAACCTAAAATAAAAATATTAAAAAAATTAAATATACCT...ATT'), id='NC_036769.1', name='NC_036769.1', description='NC_036769.1 Plasmodium falciparum strain 3D7, apicoplast', dbxrefs=[])]\n"
     ]
    }
   ],
   "source": [
    "from Bio import SeqIO\n",
    "genome=[]\n",
    "nucleotide_genome=0\n",
    "for seq_record in SeqIO.parse(\"/home/azarkua/Documents/2023-2024/omiques2/developement/omique2/genome.fna\", \"fasta\"):\n",
    "    genome.append(seq_record)\n",
    "    nucleotide_genome+=len(seq_record.seq)\n",
    "print(genome[13:])"
   ]
  },
  {
   "cell_type": "code",
   "execution_count": 28,
   "id": "6bb2b6a0",
   "metadata": {},
   "outputs": [
    {
     "name": "stdout",
     "output_type": "stream",
     "text": [
      "[SeqRecord(seq=Seq('TTTCCTTTTTAAGCGTTTTATTTTTTAATAAAAAAAATATAGTATTATATAGTA...TAA'), id='NC_004325.2-100000', name='NC_004325.2-100000', description='NC_004325.2-100000', dbxrefs=[])]\n"
     ]
    }
   ],
   "source": [
    "reads=[]\n",
    "nucleotide_reads=0\n",
    "for seq_record in SeqIO.parse(\"/home/azarkua/Documents/2023-2024/omiques2/developement/omique2/reads.fq\", \"fastq\"):\n",
    "    reads.append(seq_record)\n",
    "    nucleotide_reads+=len(seq_record.seq)\n",
    "    #if len(seq_record.seq)!= 100:\n",
    "    #    print(\"False\")\n",
    "print(reads[:1])"
   ]
  },
  {
   "cell_type": "code",
   "execution_count": 29,
   "id": "b8ec5679",
   "metadata": {},
   "outputs": [
    {
     "name": "stdout",
     "output_type": "stream",
     "text": [
      "236775\n"
     ]
    },
    {
     "data": {
      "text/plain": [
       "Seq('CCCTGAACCC')"
      ]
     },
     "execution_count": 29,
     "metadata": {},
     "output_type": "execute_result"
    }
   ],
   "source": [
    "temp=genome[1].seq.upper()\n",
    "print(len(temp)//4)\n",
    "temp[50:60]"
   ]
  },
  {
   "cell_type": "markdown",
   "id": "d589cce0",
   "metadata": {},
   "source": [
    "Pour l'instant, notre code met environ 2min d'attente pour faire la suffix table de 25 000 nucléotides."
   ]
  },
  {
   "cell_type": "code",
   "execution_count": 30,
   "id": "097a7edc",
   "metadata": {},
   "outputs": [],
   "source": [
    "T=asciiDC3(temp)\n",
    "#print(T)"
   ]
  },
  {
   "cell_type": "code",
   "execution_count": 31,
   "id": "e2b39d26",
   "metadata": {},
   "outputs": [
    {
     "name": "stdout",
     "output_type": "stream",
     "text": [
      "[947101, 207415, 207416, 441107, 238221, 388233, 441108, 207417, 238222, 207423, 656253, 388234, 724613, 168552, 468510, 724614, 468513, 724617, 434619, 533169, 537111, 441109, 576520, 633567, 207420, 633566, 207419, 207418, 434614, 434615, 633569, 157883, 238223, 207422, 434616, 576522, 633570, 633573, 458613, 654534, 157884, 238224, 369057, 684126, 747225, 437319, 157302, 128385, 399897, 207424, 481497, 656254, 422508, 656256, 422510, 385979, 388235, 481500, 771120, 633582, 751761, 68823, 548505, 422511, 385980, 388236, 168553, 724611, 724610, 468511, 724615, 468512, 468514, 533174, 533175, 724618, 468516, 574871, 388242, 168555, 656262, 74142, 458622, 168561, 574872, 434620, 533170, 537112, 724620, 468518, 699572, 399892, 399893, 247439, 441110, 576521, 633568, 207421, 422507, 434617]\n"
     ]
    }
   ],
   "source": [
    "suffix_array=almost_dc3_with_p12(T)\n",
    "print(suffix_array[:100])\n",
    "#print(timemeasuring)"
   ]
  },
  {
   "cell_type": "markdown",
   "id": "bb10b263",
   "metadata": {},
   "source": [
    "## Mesurer le temps que prend notre fonction"
   ]
  },
  {
   "cell_type": "code",
   "execution_count": 32,
   "id": "a9e9e985",
   "metadata": {},
   "outputs": [],
   "source": [
    "import pstats\n",
    "import cProfile"
   ]
  },
  {
   "cell_type": "code",
   "execution_count": 33,
   "id": "a111f300",
   "metadata": {},
   "outputs": [
    {
     "name": "stdout",
     "output_type": "stream",
     "text": [
      "Sun Nov  5 08:53:46 2023    dc3_stats\n",
      "\n",
      "         29865615 function calls (29865608 primitive calls) in 26.450 seconds\n",
      "\n",
      "   Ordered by: cumulative time\n",
      "\n",
      "   ncalls  tottime  percall  cumtime  percall filename:lineno(function)\n",
      "        1    0.000    0.000   26.450   26.450 {built-in method builtins.exec}\n",
      "        1    0.434    0.434   26.450   26.450 <string>:1(<module>)\n",
      "      8/1    1.012    0.126   26.016   26.016 /tmp/ipykernel_9883/3235192990.py:1(almost_dc3_with_p12)\n",
      "       16    0.133    0.008    7.252    0.453 /tmp/ipykernel_9883/2101628537.py:1(sort_with_p12)\n",
      "       40    7.119    0.178    7.119    0.178 /tmp/ipykernel_9883/2101628537.py:18(countingSortByDigit_with_p12)\n",
      "        8    3.694    0.462    4.320    0.540 /tmp/ipykernel_9883/4110635339.py:1(merge_with_p12)\n",
      "        8    3.652    0.457    3.833    0.479 /tmp/ipykernel_9883/2956272457.py:1(position12_radix_with_p12)\n",
      "        8    3.344    0.418    3.484    0.436 /tmp/ipykernel_9883/3786488779.py:1(position0_R0_p0)\n",
      "        8    1.511    0.189    2.648    0.331 /tmp/ipykernel_9883/2442398083.py:8(ordre_with_p12)\n",
      "        8    0.697    0.087    1.145    0.143 /tmp/ipykernel_9883/456097855.py:1(alphabetR0_with_p12)\n",
      "        8    0.602    0.075    1.054    0.132 /tmp/ipykernel_9883/150808864.py:1(alphabetT)\n",
      "  1820297    0.947    0.000    1.036    0.000 /tmp/ipykernel_9883/2442398083.py:1(triplets_are_equal)\n",
      " 16345806    0.866    0.000    0.866    0.000 {method 'append' of 'list' objects}\n",
      "        7    0.712    0.102    0.712    0.102 /tmp/ipykernel_9883/1454108679.py:1(resumeHigherOrder_with_p12)\n",
      " 10894590    0.600    0.000    0.600    0.000 {built-in method builtins.len}\n",
      "       16    0.553    0.035    0.553    0.035 {method 'sort' of 'list' objects}\n",
      "        7    0.405    0.058    0.499    0.071 /tmp/ipykernel_9883/1369769413.py:1(Tprime_with_p12)\n",
      "   804761    0.113    0.000    0.113    0.000 {built-in method builtins.min}\n",
      "        8    0.057    0.007    0.057    0.007 /tmp/ipykernel_9883/3946746901.py:1(removesentinel)\n",
      "        8    0.000    0.000    0.000    0.000 {method 'keys' of 'dict' objects}\n",
      "        1    0.000    0.000    0.000    0.000 {method 'disable' of '_lsprof.Profiler' objects}\n",
      "\n",
      "\n"
     ]
    },
    {
     "data": {
      "text/plain": [
       "<pstats.Stats at 0x7f43951fc280>"
      ]
     },
     "execution_count": 33,
     "metadata": {},
     "output_type": "execute_result"
    }
   ],
   "source": [
    "cProfile.run(\"almost_dc3_with_p12(T)\", \"dc3_stats\")\n",
    "p = pstats.Stats(\"dc3_stats\")\n",
    "p.sort_stats(\"cumulative\").print_stats()"
   ]
  },
  {
   "cell_type": "markdown",
   "id": "24a18c05",
   "metadata": {},
   "source": [
    "### Idées d'optimisation  \n",
    "-réussir à ne plus faire appel aux fonctions \"alphabet\"  "
   ]
  },
  {
   "cell_type": "markdown",
   "id": "fbc43e49",
   "metadata": {},
   "source": [
    "### BWT à l'aide de notre suffix table"
   ]
  },
  {
   "cell_type": "code",
   "execution_count": 34,
   "id": "ee199ee7",
   "metadata": {},
   "outputs": [],
   "source": [
    "def BWT_suffix_table(T,end_of_string=False):\n",
    "    \"\"\"\n",
    "    Compute the BWT from the suffix table\n",
    "    \n",
    "    Args:\n",
    "        T (str): string\n",
    "        end_of_string (char): end of string character to append\n",
    "    \n",
    "    Return:\n",
    "        bwt (str): BWT\n",
    "    \"\"\"\n",
    "    if end_of_string==False:\n",
    "        T += '!'\n",
    "    suffix_array=almost_dc3_with_p12(asciiDC3(T)) \n",
    "    bwt = \"\"\n",
    "    for i in suffix_array:\n",
    "        bwt += T[i-1]\n",
    "    return(bwt)"
   ]
  },
  {
   "cell_type": "code",
   "execution_count": 35,
   "id": "f87aec1a",
   "metadata": {},
   "outputs": [],
   "source": [
    "def BWT(suffix_array, sequence):\n",
    "    #the sequence needs an end of string\n",
    "    bwt = \"\"\n",
    "    for i in suffix_array:\n",
    "        bwt += sequence[i-1]\n",
    "    return bwt"
   ]
  },
  {
   "cell_type": "code",
   "execution_count": 36,
   "id": "4d2c3f75",
   "metadata": {},
   "outputs": [],
   "source": [
    "def run_length_encoding(S):\n",
    "    \"\"\"\n",
    "    Encode sequence using the Run Length method\n",
    "    \n",
    "    Args:\n",
    "        text (str): string to be shifted\n",
    "    \n",
    "    Return:\n",
    "        str: run length\n",
    "    \"\"\"\n",
    "    encoded_S= \"\"\n",
    "    i=0\n",
    "    number=1\n",
    "    while i<len(S):\n",
    "        encoded_S+=S[i]\n",
    "        i+=1\n",
    "        while i<len(S) and S[i-1]==S[i]:\n",
    "            number+=1\n",
    "            i+=1\n",
    "        if number>1:\n",
    "            encoded_S+=str(number)\n",
    "        number=1\n",
    "    return encoded_S"
   ]
  },
  {
   "cell_type": "code",
   "execution_count": 37,
   "id": "2d06b591",
   "metadata": {},
   "outputs": [],
   "source": [
    "def print_suffix_table(sequence, sf, visualize_bwt=False):\n",
    "    for i in range(len(sf)):\n",
    "        if visualize_bwt:\n",
    "            print(sequence[sf[i]-1:])\n",
    "        else:\n",
    "            print(sequence[sf[i]:])\n",
    "    return"
   ]
  },
  {
   "cell_type": "markdown",
   "id": "99481c90",
   "metadata": {},
   "source": [
    "#### Testons notre fonction"
   ]
  },
  {
   "cell_type": "code",
   "execution_count": 38,
   "id": "50ee964b",
   "metadata": {
    "scrolled": true
   },
   "outputs": [
    {
     "name": "stdout",
     "output_type": "stream",
     "text": [
      "[25, 24, 5, 15, 0, 10, 11, 3, 17, 19, 21, 12, 7, 23, 14, 9, 2, 6, 4, 16, 18, 20, 22, 13, 8, 1]\n"
     ]
    }
   ],
   "source": [
    "test_2='ATGCTAGCTGCCCTGATCTCTCTGA!'\n",
    "suffix_array_2_with_p12=almost_dc3_with_p12(asciiDC3(test_2)) \n",
    "print(suffix_array_2_with_p12)\n"
   ]
  },
  {
   "cell_type": "code",
   "execution_count": 39,
   "id": "dffe1a95",
   "metadata": {},
   "outputs": [
    {
     "name": "stdout",
     "output_type": "stream",
     "text": [
      "!\n",
      "A!\n",
      "AGCTGCCCTGATCTCTCTGA!\n",
      "ATCTCTCTGA!\n",
      "ATGCTAGCTGCCCTGATCTCTCTGA!\n",
      "CCCTGATCTCTCTGA!\n",
      "CCTGATCTCTCTGA!\n",
      "CTAGCTGCCCTGATCTCTCTGA!\n",
      "CTCTCTGA!\n",
      "CTCTGA!\n",
      "CTGA!\n",
      "CTGATCTCTCTGA!\n",
      "CTGCCCTGATCTCTCTGA!\n",
      "GA!\n",
      "GATCTCTCTGA!\n",
      "GCCCTGATCTCTCTGA!\n",
      "GCTAGCTGCCCTGATCTCTCTGA!\n",
      "GCTGCCCTGATCTCTCTGA!\n",
      "TAGCTGCCCTGATCTCTCTGA!\n",
      "TCTCTCTGA!\n",
      "TCTCTGA!\n",
      "TCTGA!\n",
      "TGA!\n",
      "TGATCTCTCTGA!\n",
      "TGCCCTGATCTCTCTGA!\n",
      "TGCTAGCTGCCCTGATCTCTCTGA!\n"
     ]
    }
   ],
   "source": [
    "print_suffix_table(test_2,suffix_array_2_with_p12)"
   ]
  },
  {
   "cell_type": "code",
   "execution_count": 40,
   "id": "04eb18f8",
   "metadata": {},
   "outputs": [
    {
     "name": "stdout",
     "output_type": "stream",
     "text": [
      "AGTG!GCGTTTCGTTTTACACCCCCA\n"
     ]
    }
   ],
   "source": [
    "print(BWT_suffix_table(test_2, True))"
   ]
  },
  {
   "cell_type": "code",
   "execution_count": 41,
   "id": "2d180ff4",
   "metadata": {},
   "outputs": [
    {
     "name": "stdout",
     "output_type": "stream",
     "text": [
      "AGTG!GCGT3CGT4ACAC5A\n"
     ]
    }
   ],
   "source": [
    "print(run_length_encoding(BWT_suffix_table(test_2, True)))"
   ]
  },
  {
   "cell_type": "markdown",
   "id": "d951740a",
   "metadata": {},
   "source": [
    "BWT sur notre génome"
   ]
  },
  {
   "cell_type": "code",
   "execution_count": 42,
   "id": "e856d22b",
   "metadata": {},
   "outputs": [
    {
     "name": "stdout",
     "output_type": "stream",
     "text": [
      "ACTA2T2A7GTA5TACA2TA2TA9GA5TACA3CA4TA4TA7CA21CTAGA4TA2TA2CA7T2CA7TA4TA4GA4CA4C2A8GA4GA4CGA2GA17GATA6\n"
     ]
    }
   ],
   "source": [
    "bwt_T=BWT_suffix_table(genome[1].seq.upper())\n",
    "print(run_length_encoding(bwt_T)[:100])"
   ]
  },
  {
   "cell_type": "markdown",
   "id": "6bb32ed0",
   "metadata": {},
   "source": [
    "Mesurons le temps que l'opération prend"
   ]
  },
  {
   "cell_type": "code",
   "execution_count": 43,
   "id": "a352f194",
   "metadata": {},
   "outputs": [
    {
     "name": "stdout",
     "output_type": "stream",
     "text": [
      "Sun Nov  5 08:54:35 2023    bwt_stats\n",
      "\n",
      "         39896150 function calls (39896143 primitive calls) in 29.100 seconds\n",
      "\n",
      "   Ordered by: cumulative time\n",
      "\n",
      "   ncalls  tottime  percall  cumtime  percall filename:lineno(function)\n",
      "        1    0.000    0.000   29.100   29.100 {built-in method builtins.exec}\n",
      "        1    0.034    0.034   29.100   29.100 <string>:1(<module>)\n",
      "        1    0.769    0.769   28.590   28.590 /tmp/ipykernel_9883/2127043640.py:1(BWT_suffix_table)\n",
      "      8/1    1.010    0.126   26.199   26.199 /tmp/ipykernel_9883/3235192990.py:1(almost_dc3_with_p12)\n",
      "       16    0.134    0.008    7.414    0.463 /tmp/ipykernel_9883/2101628537.py:1(sort_with_p12)\n",
      "       40    7.280    0.182    7.280    0.182 /tmp/ipykernel_9883/2101628537.py:18(countingSortByDigit_with_p12)\n",
      "        8    3.695    0.462    4.335    0.542 /tmp/ipykernel_9883/4110635339.py:1(merge_with_p12)\n",
      "        8    3.623    0.453    3.771    0.471 /tmp/ipykernel_9883/3786488779.py:1(position0_R0_p0)\n",
      "        8    3.412    0.426    3.596    0.449 /tmp/ipykernel_9883/2956272457.py:1(position12_radix_with_p12)\n",
      "        8    1.495    0.187    2.622    0.328 /tmp/ipykernel_9883/2442398083.py:8(ordre_with_p12)\n",
      "   947103    0.346    0.000    1.339    0.000 /home/azarkua/.local/lib/python3.10/site-packages/Bio/Seq.py:470(__getitem__)\n",
      "        8    0.721    0.090    1.175    0.147 /tmp/ipykernel_9883/456097855.py:1(alphabetR0_with_p12)\n",
      "  1820301    0.935    0.000    1.025    0.000 /tmp/ipykernel_9883/2442398083.py:1(triplets_are_equal)\n",
      "        8    0.571    0.071    1.021    0.128 /tmp/ipykernel_9883/150808864.py:1(alphabetT)\n",
      "   947107    0.215    0.000    0.937    0.000 {built-in method builtins.isinstance}\n",
      " 17292939    0.901    0.000    0.901    0.000 {method 'append' of 'list' objects}\n",
      "   947104    0.154    0.000    0.722    0.000 /usr/lib/python3.10/abc.py:117(__instancecheck__)\n",
      "        7    0.708    0.101    0.708    0.101 /tmp/ipykernel_9883/1454108679.py:1(resumeHigherOrder_with_p12)\n",
      " 12401141    0.703    0.000    0.703    0.000 {built-in method builtins.len}\n",
      "       16    0.568    0.036    0.568    0.036 {method 'sort' of 'list' objects}\n",
      "   947104    0.241    0.000    0.567    0.000 {built-in method _abc._abc_instancecheck}\n",
      "        7    0.403    0.058    0.496    0.071 /tmp/ipykernel_9883/1369769413.py:1(Tprime_with_p12)\n",
      "        1    0.394    0.394    0.475    0.475 /tmp/ipykernel_9883/1118574164.py:1(run_length_encoding)\n",
      "   947103    0.142    0.000    0.327    0.000 /usr/lib/python3.10/abc.py:121(__subclasscheck__)\n",
      "        1    0.189    0.189    0.282    0.282 /tmp/ipykernel_9883/2880403939.py:1(asciiDC3)\n",
      "   947103    0.185    0.000    0.185    0.000 {built-in method _abc._abc_subclasscheck}\n",
      "   804766    0.115    0.000    0.115    0.000 {built-in method builtins.min}\n",
      "   947103    0.057    0.000    0.057    0.000 {built-in method builtins.chr}\n",
      "        8    0.050    0.006    0.050    0.006 /tmp/ipykernel_9883/3946746901.py:1(removesentinel)\n",
      "   947103    0.048    0.000    0.048    0.000 {built-in method builtins.ord}\n",
      "        1    0.000    0.000    0.000    0.000 /home/azarkua/.local/lib/python3.10/site-packages/Bio/Seq.py:1233(upper)\n",
      "        1    0.000    0.000    0.000    0.000 {method 'upper' of 'bytes' objects}\n",
      "        1    0.000    0.000    0.000    0.000 /home/azarkua/.local/lib/python3.10/site-packages/Bio/Seq.py:495(__add__)\n",
      "        1    0.000    0.000    0.000    0.000 /home/azarkua/.local/lib/python3.10/site-packages/Bio/Seq.py:466(__iter__)\n",
      "        1    0.000    0.000    0.000    0.000 {method 'decode' of 'bytes' objects}\n",
      "        8    0.000    0.000    0.000    0.000 {method 'keys' of 'dict' objects}\n",
      "        2    0.000    0.000    0.000    0.000 /home/azarkua/.local/lib/python3.10/site-packages/Bio/Seq.py:1961(__init__)\n",
      "        1    0.000    0.000    0.000    0.000 {method 'disable' of '_lsprof.Profiler' objects}\n",
      "        1    0.000    0.000    0.000    0.000 /home/azarkua/.local/lib/python3.10/site-packages/Bio/SeqRecord.py:334(<lambda>)\n",
      "        1    0.000    0.000    0.000    0.000 {method 'encode' of 'str' objects}\n",
      "\n",
      "\n"
     ]
    },
    {
     "data": {
      "text/plain": [
       "<pstats.Stats at 0x7f43951ff220>"
      ]
     },
     "execution_count": 43,
     "metadata": {},
     "output_type": "execute_result"
    }
   ],
   "source": [
    "cProfile.run(\"run_length_encoding(BWT_suffix_table(genome[1].seq.upper()))\", \"bwt_stats\")\n",
    "p = pstats.Stats(\"bwt_stats\")\n",
    "p.sort_stats(\"cumulative\").print_stats()"
   ]
  },
  {
   "cell_type": "markdown",
   "id": "f7e607d3",
   "metadata": {},
   "source": [
    "## String search with BWT"
   ]
  },
  {
   "cell_type": "markdown",
   "id": "e0cd292c",
   "metadata": {},
   "source": [
    "version du prof"
   ]
  },
  {
   "cell_type": "code",
   "execution_count": 44,
   "id": "f232b782",
   "metadata": {},
   "outputs": [],
   "source": [
    "from collections import Counter"
   ]
  },
  {
   "cell_type": "code",
   "execution_count": 89,
   "id": "d39b98d2",
   "metadata": {},
   "outputs": [],
   "source": [
    "def occurrence_indexer(S):\n",
    "    K = []\n",
    "    last_index = {}\n",
    "    for s in S:\n",
    "        if s not in last_index: \n",
    "            last_index[s] = 0\n",
    "        K.append(last_index[s])\n",
    "        last_index[s] += 1\n",
    "    return(K)\n",
    "\n",
    "def initialize_suffix_table_positions(counts, pattern_letter):\n",
    "    start=sum([counts[char] for char in counts if char < pattern_letter])\n",
    "    end=start+counts[pattern_letter]\n",
    "    return [i for i in range(start, end)]\n"
   ]
  },
  {
   "cell_type": "code",
   "execution_count": 90,
   "id": "2fd3deed",
   "metadata": {},
   "outputs": [],
   "source": [
    "def lettre_et_occurence(BWT,pattern_letter, position_in_BWT, occurence_index,counts):\n",
    "    output=[]\n",
    "    for i in range(len(position_in_BWT)):\n",
    "        if BWT[position_in_BWT[i]]==pattern_letter:\n",
    "            L=[BWT[position_in_BWT[i]],occurence_index[position_in_BWT[i]]]\n",
    "            letter=L[0]\n",
    "            occurence=L[1]\n",
    "            new_position_to_evaluate=occurence + sum([counts[char] for char in counts if char < letter])\n",
    "            output.append(new_position_to_evaluate)\n",
    "    return output"
   ]
  },
  {
   "cell_type": "raw",
   "id": "2761367e",
   "metadata": {},
   "source": [
    "def new_suffix_table_positions(BWT,letter_and_occurence, counts):\n",
    "    # Counter({'T': 3, 'A': 2, 'B': 2, 'C': 2, '!': 1})\n",
    "    output=[]\n",
    "    for i in range(len(letter_and_occurence)):\n",
    "        letter=letter_and_occurence[i][0]\n",
    "        occurence=letter_and_occurence[i][1]\n",
    "        new_position_to_evaluate=occurence + sum([counts[char] for char in counts if char < letter])\n",
    "        output.append(new_position_to_evaluate)\n",
    "    return output\n"
   ]
  },
  {
   "cell_type": "code",
   "execution_count": 103,
   "id": "623d8af9",
   "metadata": {},
   "outputs": [],
   "source": [
    "def find_patterns_in_sequence(sequence, pattern, sequence_has_end_character=False):\n",
    "    output=[]\n",
    "    \n",
    "    if sequence_has_end_character==False:\n",
    "        sequence += '!'\n",
    "        \n",
    "    sf=almost_dc3_with_p12(asciiDC3(sequence)) \n",
    "    BWT = \"\"\n",
    "    for i in sf:\n",
    "        BWT += sequence[i-1]\n",
    "    \n",
    "    \n",
    "    \n",
    "    #print(\"BWT\")\n",
    "    #print(BWT)\n",
    "    #print(\"\\n\")\n",
    "    occurence_index = occurrence_indexer(BWT)\n",
    "    #print('occurence_index')\n",
    "    #print(occurence_index)\n",
    "    #print(\"\\n\")\n",
    "    counts = Counter(BWT)\n",
    "    #print(\"counts\")\n",
    "    #print(counts)\n",
    "    #print(\"\\n\")\n",
    "    index=len(pattern)-1\n",
    "    pattern_letter=pattern[index]\n",
    "    \n",
    "    suffix_table_positions=initialize_suffix_table_positions(counts, pattern_letter)\n",
    "    #print(\"suffix_table_positions\")\n",
    "    #print(suffix_table_positions)\n",
    "    #print(\"\\n\")\n",
    "    while index>0 and len(suffix_table_positions)>0:\n",
    "        \n",
    "        index-=1\n",
    "        #print(\"index\")\n",
    "        #print(index)\n",
    "        #print(\"\\n\")\n",
    "        pattern_letter=pattern[index]\n",
    "        #print(\"pattern_letter\")\n",
    "        #print(pattern_letter)\n",
    "        #print(\"\\n\")\n",
    "        \n",
    "        suffix_table_positions=lettre_et_occurence(BWT,pattern_letter,suffix_table_positions, occurence_index,counts)\n",
    "        #print(\"A\")\n",
    "        #print(A)\n",
    "        #print(\"\\n\")\n",
    "\n",
    "\n",
    "\n",
    "    for i in range(len(suffix_table_positions)):\n",
    "        output.append(sf[suffix_table_positions[i]])\n",
    "        \n",
    "\n",
    "    return output\n",
    "        \n",
    "    "
   ]
  },
  {
   "cell_type": "markdown",
   "id": "0ca1529c",
   "metadata": {},
   "source": [
    "#### Testons notre fonction"
   ]
  },
  {
   "cell_type": "code",
   "execution_count": 106,
   "id": "efbbfe6e",
   "metadata": {},
   "outputs": [
    {
     "name": "stdout",
     "output_type": "stream",
     "text": [
      "[26, 21, 0, 22, 1, 23, 2, 24, 3, 25, 4, 5, 6, 7, 8, 9, 10, 11, 12, 13, 14, 20, 19, 18, 17, 16, 15]\n"
     ]
    }
   ],
   "source": [
    "test_mltpl='ABCDEFGHIJKLMNOPPPPPPABCDE!'\n",
    "sf=almost_dc3_with_p12(asciiDC3(test_mltpl))\n",
    "print(sf)"
   ]
  },
  {
   "cell_type": "code",
   "execution_count": 107,
   "id": "433cc1bf",
   "metadata": {},
   "outputs": [
    {
     "name": "stdout",
     "output_type": "stream",
     "text": [
      "[9]\n",
      "JKLMNO\n"
     ]
    }
   ],
   "source": [
    "positions_of_pattern=find_patterns_in_sequence(test_mltpl, 'JKLMNO', sequence_has_end_character=True)\n",
    "print(positions_of_pattern)\n",
    "for p in positions_of_pattern:\n",
    "    print(test_mltpl[p:p+6])\n"
   ]
  },
  {
   "cell_type": "code",
   "execution_count": 49,
   "id": "a1890a54",
   "metadata": {},
   "outputs": [],
   "source": [
    "#print_suffix_table(test_mltpl, sf, visualize_bwt=True)"
   ]
  },
  {
   "cell_type": "markdown",
   "id": "dd9f273c",
   "metadata": {},
   "source": [
    "### Testons avec notre génome"
   ]
  },
  {
   "cell_type": "code",
   "execution_count": 50,
   "id": "d5f1e782",
   "metadata": {},
   "outputs": [
    {
     "data": {
      "text/plain": [
       "Seq('AACCCTAAACCCTAAACCCTAAACCCTAAACCCTAAACCCTAAACCTAAACCCT...TCA')"
      ]
     },
     "execution_count": 50,
     "metadata": {},
     "output_type": "execute_result"
    }
   ],
   "source": [
    "genome[1].seq.upper()"
   ]
  },
  {
   "cell_type": "code",
   "execution_count": 51,
   "id": "872d1a0c",
   "metadata": {},
   "outputs": [
    {
     "data": {
      "text/plain": [
       "Seq('AACCCTAAAC')"
      ]
     },
     "execution_count": 51,
     "metadata": {},
     "output_type": "execute_result"
    }
   ],
   "source": [
    "pattern=genome[1].seq.upper()[:10]\n",
    "pattern"
   ]
  },
  {
   "cell_type": "code",
   "execution_count": 52,
   "id": "663082ec",
   "metadata": {},
   "outputs": [
    {
     "name": "stdout",
     "output_type": "stream",
     "text": [
      "[]\n"
     ]
    }
   ],
   "source": [
    "positions_of_pattern=find_patterns_in_sequence(genome[1].seq.upper(), pattern, sequence_has_end_character=False)\n",
    "print(sorted(positions_of_pattern))\n",
    "#for p in positions_of_pattern:\n",
    "    #print(genome[1].seq.upper()[p:p+len(pattern)])"
   ]
  },
  {
   "cell_type": "code",
   "execution_count": 53,
   "id": "48c22a3e",
   "metadata": {},
   "outputs": [
    {
     "name": "stdout",
     "output_type": "stream",
     "text": [
      "Sun Nov  5 08:55:25 2023    pattern_matching_stats\n",
      "\n",
      "         39549642 function calls (39549634 primitive calls) in 27.685 seconds\n",
      "\n",
      "   Ordered by: cumulative time\n",
      "\n",
      "   ncalls  tottime  percall  cumtime  percall filename:lineno(function)\n",
      "        1    0.000    0.000   27.685   27.685 {built-in method builtins.exec}\n",
      "        1    0.049    0.049   27.685   27.685 <string>:1(<module>)\n",
      "        1    0.772    0.772   27.636   27.636 /tmp/ipykernel_9883/1141641602.py:33(find_patterns_in_sequence)\n",
      "      8/1    1.085    0.136   24.788   24.788 /tmp/ipykernel_9883/3235192990.py:1(almost_dc3_with_p12)\n",
      "       16    0.142    0.009    7.737    0.484 /tmp/ipykernel_9883/2101628537.py:1(sort_with_p12)\n",
      "       40    7.594    0.190    7.594    0.190 /tmp/ipykernel_9883/2101628537.py:18(countingSortByDigit_with_p12)\n",
      "        8    3.880    0.485    4.532    0.566 /tmp/ipykernel_9883/4110635339.py:1(merge_with_p12)\n",
      "        8    3.644    0.456    3.816    0.477 /tmp/ipykernel_9883/2956272457.py:1(position12_radix_with_p12)\n",
      "        8    1.502    0.188    2.613    0.327 /tmp/ipykernel_9883/2442398083.py:8(ordre_with_p12)\n",
      "        8    1.245    0.156    1.387    0.173 /tmp/ipykernel_9883/3786488779.py:1(position0_R0_p0)\n",
      "   947111    0.350    0.000    1.331    0.000 /home/azarkua/.local/lib/python3.10/site-packages/Bio/Seq.py:470(__getitem__)\n",
      "        8    0.771    0.096    1.247    0.156 /tmp/ipykernel_9883/456097855.py:1(alphabetR0_with_p12)\n",
      "  1820301    0.922    0.000    1.010    0.000 /tmp/ipykernel_9883/2442398083.py:1(triplets_are_equal)\n",
      "        8    0.574    0.072    1.006    0.126 /tmp/ipykernel_9883/150808864.py:1(alphabetT)\n",
      "   947116    0.222    0.000    0.927    0.000 {built-in method builtins.isinstance}\n",
      " 18346450    0.905    0.000    0.905    0.000 {method 'append' of 'list' objects}\n",
      "        7    0.825    0.118    0.825    0.118 /tmp/ipykernel_9883/1454108679.py:1(resumeHigherOrder_with_p12)\n",
      "   947113    0.147    0.000    0.705    0.000 /usr/lib/python3.10/abc.py:117(__instancecheck__)\n",
      "10894633/10894632    0.624    0.000    0.624    0.000 {built-in method builtins.len}\n",
      "       16    0.592    0.037    0.592    0.037 {method 'sort' of 'list' objects}\n",
      "   947113    0.236    0.000    0.557    0.000 {built-in method _abc._abc_instancecheck}\n",
      "        7    0.403    0.058    0.485    0.069 /tmp/ipykernel_9883/1369769413.py:1(Tprime_with_p12)\n",
      "   947111    0.139    0.000    0.321    0.000 /usr/lib/python3.10/abc.py:121(__subclasscheck__)\n",
      "        1    0.181    0.181    0.269    0.269 /tmp/ipykernel_9883/2880403939.py:1(asciiDC3)\n",
      "        1    0.219    0.219    0.265    0.265 /tmp/ipykernel_9883/1141641602.py:1(occurrence_indexer)\n",
      "   947111    0.182    0.000    0.182    0.000 {built-in method _abc._abc_subclasscheck}\n",
      "   804766    0.121    0.000    0.121    0.000 {built-in method builtins.min}\n",
      "        7    0.114    0.016    0.116    0.017 /tmp/ipykernel_9883/1141641602.py:11(lettre_et_occurence)\n",
      "        7    0.032    0.005    0.058    0.008 /tmp/ipykernel_9883/1141641602.py:18(new_suffix_table_positions)\n",
      "        8    0.055    0.007    0.055    0.007 /tmp/ipykernel_9883/3946746901.py:1(removesentinel)\n",
      "   947111    0.055    0.000    0.055    0.000 {built-in method builtins.chr}\n",
      "   947103    0.042    0.000    0.042    0.000 {built-in method builtins.ord}\n",
      "        1    0.000    0.000    0.034    0.034 /usr/lib/python3.10/collections/__init__.py:565(__init__)\n",
      "        1    0.000    0.000    0.034    0.034 /usr/lib/python3.10/collections/__init__.py:640(update)\n",
      "        1    0.034    0.034    0.034    0.034 {built-in method _collections._count_elements}\n",
      "    53204    0.019    0.000    0.019    0.000 /tmp/ipykernel_9883/1141641602.py:24(<listcomp>)\n",
      "    53205    0.004    0.000    0.004    0.000 {built-in method builtins.sum}\n",
      "        1    0.000    0.000    0.003    0.003 /tmp/ipykernel_9883/1141641602.py:28(initialize_suffix_table_positions)\n",
      "        1    0.003    0.003    0.003    0.003 /tmp/ipykernel_9883/1141641602.py:31(<listcomp>)\n",
      "        1    0.000    0.000    0.000    0.000 /home/azarkua/.local/lib/python3.10/site-packages/Bio/Seq.py:1233(upper)\n",
      "        1    0.000    0.000    0.000    0.000 {method 'upper' of 'bytes' objects}\n",
      "        1    0.000    0.000    0.000    0.000 /home/azarkua/.local/lib/python3.10/site-packages/Bio/Seq.py:495(__add__)\n",
      "        1    0.000    0.000    0.000    0.000 /home/azarkua/.local/lib/python3.10/site-packages/Bio/Seq.py:466(__iter__)\n",
      "        1    0.000    0.000    0.000    0.000 {method 'decode' of 'bytes' objects}\n",
      "        8    0.000    0.000    0.000    0.000 {method 'keys' of 'dict' objects}\n",
      "        2    0.000    0.000    0.000    0.000 /home/azarkua/.local/lib/python3.10/site-packages/Bio/Seq.py:1961(__init__)\n",
      "        1    0.000    0.000    0.000    0.000 /tmp/ipykernel_9883/1141641602.py:29(<listcomp>)\n",
      "        1    0.000    0.000    0.000    0.000 /home/azarkua/.local/lib/python3.10/site-packages/Bio/Seq.py:462(__len__)\n",
      "        1    0.000    0.000    0.000    0.000 {method 'disable' of '_lsprof.Profiler' objects}\n",
      "        1    0.000    0.000    0.000    0.000 /home/azarkua/.local/lib/python3.10/site-packages/Bio/SeqRecord.py:334(<lambda>)\n",
      "        1    0.000    0.000    0.000    0.000 {method 'encode' of 'str' objects}\n",
      "\n",
      "\n"
     ]
    },
    {
     "data": {
      "text/plain": [
       "<pstats.Stats at 0x7f4326867ee0>"
      ]
     },
     "execution_count": 53,
     "metadata": {},
     "output_type": "execute_result"
    }
   ],
   "source": [
    "cProfile.run(\"find_patterns_in_sequence(genome[1].seq.upper(), pattern, sequence_has_end_character=False)\", \"pattern_matching_stats\")\n",
    "p = pstats.Stats(\"pattern_matching_stats\")\n",
    "p.sort_stats(\"cumulative\").print_stats()"
   ]
  },
  {
   "cell_type": "markdown",
   "id": "f90fab65",
   "metadata": {},
   "source": [
    "### Travaillons avec des kmers"
   ]
  },
  {
   "cell_type": "code",
   "execution_count": 54,
   "id": "3917463d",
   "metadata": {},
   "outputs": [],
   "source": [
    "def assembler_des_kmers(numero_du_kmer, position_ds_genome,longueur, liste_position_kmers):\n",
    "    compteur_de_kmer=1 #compte le nb de kmers qu'on arrive à aligner\n",
    "    last_position=0\n",
    "    i=numero_du_kmer+1\n",
    "    difference=1\n",
    "    \n",
    "    while i<len(liste_position_kmers):\n",
    "        #print(\"i au début du while\")\n",
    "        #print(i)\n",
    "        #print(\"\\n\")\n",
    "        j=0\n",
    "        previous_compteur=compteur_de_kmer\n",
    "        #print(\"le compteur est à\")\n",
    "        #print(compteur_de_kmer)\n",
    "        #print(\"\\n\")\n",
    "        #print(\"on s'interesse au kmer numero\")\n",
    "        #print(i)\n",
    "        #print(\"qui est\")\n",
    "        #print(liste_position_kmers[i])\n",
    "        k=0\n",
    "        while j<len(liste_position_kmers[i]) and compteur_de_kmer==previous_compteur:\n",
    "            #print(\"on cherche la position\")\n",
    "            #print(position_ds_genome+difference)\n",
    "            if position_ds_genome+difference==liste_position_kmers[i][j]:\n",
    "                compteur_de_kmer+=1\n",
    "                last_position=liste_position_kmers[i][j]\n",
    "            j+=1\n",
    "            \n",
    "        if compteur_de_kmer==previous_compteur:\n",
    "            i+=longueur\n",
    "            difference+=longueur\n",
    "            if  i>= len(liste_position_kmers):\n",
    "                return [[position_ds_genome,last_position+longueur],compteur_de_kmer]\n",
    "            else:\n",
    "        \n",
    "                ### cas d'une mutation\n",
    "                #print(\"cas d'une mutation\")\n",
    "                #print(\"on s'interesse au kmer numero\")\n",
    "                #print(i)\n",
    "                #print(\"qui est\")\n",
    "                #print(liste_position_kmers[i])\n",
    "                k=0\n",
    "\n",
    "                while k<len(liste_position_kmers[i]) and compteur_de_kmer==previous_compteur:\n",
    "                    #print(\"on cherche la position\")\n",
    "                    #print(position_ds_genome+difference)\n",
    "                    if position_ds_genome+difference==liste_position_kmers[i][k]:\n",
    "                        compteur_de_kmer+=1\n",
    "                        last_position=liste_position_kmers[i][k]\n",
    "                    k+=1\n",
    "\n",
    "\n",
    "\n",
    "                if compteur_de_kmer==previous_compteur:\n",
    "                    ###cas d'une addition\n",
    "                    #print(\"cas d'une addition\")\n",
    "                    difference-=1\n",
    "                    l=0\n",
    "                    while l<len(liste_position_kmers[i]) and compteur_de_kmer==previous_compteur:\n",
    "\n",
    "                        if position_ds_genome+difference==liste_position_kmers[i][l]:\n",
    "                            compteur_de_kmer+=1\n",
    "                            last_position=liste_position_kmers[i][l]\n",
    "                        l+=1\n",
    "\n",
    "                    if compteur_de_kmer==previous_compteur:\n",
    "                        ###cas d'une déletions\n",
    "                        #print(\"cas d'une délétion\")\n",
    "                        difference+=1\n",
    "                        i-=1\n",
    "                        m=0\n",
    "                        while m<len(liste_position_kmers[i]) and compteur_de_kmer==previous_compteur:\n",
    "\n",
    "                            if position_ds_genome+difference==liste_position_kmers[i][m]:\n",
    "                                compteur_de_kmer+=1\n",
    "                                last_position=liste_position_kmers[i][m]\n",
    "                            m+=1\n",
    "\n",
    "                        if compteur_de_kmer==previous_compteur:\n",
    "                            ### cas où l'alignement est terminé\n",
    "                            return [[position_ds_genome,last_position+longueur],compteur_de_kmer]\n",
    "\n",
    "        i+=1\n",
    "        difference+=1   \n",
    "        \n",
    "    return [[position_ds_genome,last_position+longueur],compteur_de_kmer]"
   ]
  },
  {
   "cell_type": "code",
   "execution_count": 55,
   "id": "e6cadc01",
   "metadata": {},
   "outputs": [],
   "source": [
    "def kmer(sequence, longueur):\n",
    "    n = len(sequence)\n",
    "    kmer=[]\n",
    "    for i in range(n-longueur+1):\n",
    "        kmer.append(sequence[i:i+longueur])\n",
    "    return kmer\n",
    "    "
   ]
  },
  {
   "cell_type": "code",
   "execution_count": 109,
   "id": "e59f6238",
   "metadata": {},
   "outputs": [
    {
     "name": "stdout",
     "output_type": "stream",
     "text": [
      "22\n",
      "['ABCDE', 'BCDEF', 'CDEFG', 'DEFGH', 'EFGHI', 'FGHIJ', 'GHIJK', 'HIJKL', 'IJKLM', 'JKLMN', 'KLMNO', 'LMNOP', 'MNOPQ', 'NOPQR', 'OPQRS', 'PQRSZ', 'QRSZU', 'RSZUV']\n"
     ]
    }
   ],
   "source": [
    "read_list=[\"ABCDEFGHIJKLMNOPQRSZUV\",\"PPPABCDEFGHW\"]\n",
    "read=\"ABCDEFGHIJKLMNOPQRSZUV\"\n",
    "print(len(read))\n",
    "print(kmer(read,5))"
   ]
  },
  {
   "cell_type": "code",
   "execution_count": 110,
   "id": "431b9294",
   "metadata": {},
   "outputs": [
    {
     "name": "stdout",
     "output_type": "stream",
     "text": [
      "['ABCDE', 'BCDEF', 'CDEFG', 'DEFGH', 'EFGHI', 'FGHIJ', 'GHIJK', 'HIJKL', 'IJKLM', 'JKLMN', 'KLMNO', 'LMNOP', 'MNOPQ', 'NOPQR', 'OPQRS', 'PQRSZ', 'QRSZU', 'RSZUV']\n",
      "18\n"
     ]
    }
   ],
   "source": [
    "genom=\"ABCDEFGHIJKLMNOPQRSTUVWPPPPPABCDEFGHWWWWWWWWWWNOPQRSTUV\"\n",
    "liste_kmer=kmer(read, 5)\n",
    "print(liste_kmer)\n",
    "print(len(liste_kmer))"
   ]
  },
  {
   "cell_type": "code",
   "execution_count": 111,
   "id": "c5759944",
   "metadata": {},
   "outputs": [
    {
     "name": "stdout",
     "output_type": "stream",
     "text": [
      "[[0, 28], [1, 29], [2, 30], [3, 31], [4], [5], [6], [7], [8], [9], [10], [11], [12], [13, 46], [14, 47], [], [], []]\n",
      "5\n"
     ]
    }
   ],
   "source": [
    "positions=[]\n",
    "for i in range(len(liste_kmer)):\n",
    "    positions.append(find_patterns_in_sequence(genom, liste_kmer[i],sequence_has_end_character=True))\n",
    "print(positions)\n",
    "print(positions[5][0])"
   ]
  },
  {
   "cell_type": "code",
   "execution_count": 112,
   "id": "7fd8c11c",
   "metadata": {},
   "outputs": [],
   "source": [
    "def find_kmer_positions(sf, BWT, read, longueur_des_kmers):\n",
    "    \"\"\" la différence avec la fonction \"find_pattern_in_sequence\", c'est que la fonction ne calcule pas la suffix table \n",
    "    et la BWT, et qu'elle cherche elle même les kmers du read.\n",
    "    \"\"\"\n",
    "    output=[]\n",
    "    occurence_index = occurrence_indexer(BWT)\n",
    "    counts = Counter(BWT)\n",
    "    n = len(read)\n",
    "    for i in range(n-longueur_des_kmers+1):\n",
    "        pattern=read[i:i+longueur_des_kmers]\n",
    "        index=len(pattern)-1\n",
    "        pattern_letter=pattern[index]\n",
    "\n",
    "        suffix_table_positions=initialize_suffix_table_positions(counts, pattern_letter)\n",
    "        while index>0 and len(suffix_table_positions)>0:\n",
    "\n",
    "            index-=1\n",
    "            pattern_letter=pattern[index]\n",
    "            suffix_table_positions=lettre_et_occurence(BWT,pattern_letter,suffix_table_positions, occurence_index,counts)\n",
    "\n",
    "        temp=[]\n",
    "        for i in range(len(suffix_table_positions)):\n",
    "            temp.append(sf[suffix_table_positions[i]])\n",
    "        output.append(temp)\n",
    "        \n",
    "\n",
    "    return output"
   ]
  },
  {
   "cell_type": "code",
   "execution_count": 113,
   "id": "7433be32",
   "metadata": {},
   "outputs": [
    {
     "data": {
      "text/plain": [
       "[[0, 28],\n",
       " [1, 29],\n",
       " [2, 30],\n",
       " [3, 31],\n",
       " [4],\n",
       " [5],\n",
       " [6],\n",
       " [7],\n",
       " [8],\n",
       " [9],\n",
       " [10],\n",
       " [11],\n",
       " [12],\n",
       " [13, 46],\n",
       " [14, 47],\n",
       " [],\n",
       " [],\n",
       " []]"
      ]
     },
     "execution_count": 113,
     "metadata": {},
     "output_type": "execute_result"
    }
   ],
   "source": [
    "genom=\"ABCDEFGHIJKLMNOPQRSTUVWPPPPPABCDEFGHWWWWWWWWWWNOPQRSTUV!\"\n",
    "read=\"ABCDEFGHIJKLMNOPQRSZUV\"\n",
    "suffix_array=almost_dc3_with_p12(asciiDC3(genom))\n",
    "bwt=BWT(suffix_array, genom)\n",
    "find_kmer_positions(suffix_array, bwt, read, 5)"
   ]
  },
  {
   "cell_type": "code",
   "execution_count": 114,
   "id": "5c51c7ba",
   "metadata": {},
   "outputs": [
    {
     "data": {
      "text/plain": [
       "[[0, 19], 15]"
      ]
     },
     "execution_count": 114,
     "metadata": {},
     "output_type": "execute_result"
    }
   ],
   "source": [
    "assembler_des_kmers(0, positions[0][0],5,positions)"
   ]
  },
  {
   "cell_type": "code",
   "execution_count": 115,
   "id": "b2ce986e",
   "metadata": {},
   "outputs": [],
   "source": [
    "def alignement_maximum_de_kmer(liste_position_kmers, longueur):\n",
    "    output=[[0,0],0]\n",
    "    maximum=0\n",
    "    for i in range(longueur+1):\n",
    "        current_kmer=liste_position_kmers[i]\n",
    "        for p in current_kmer:\n",
    "            alignement=assembler_des_kmers(i, p, longueur, liste_position_kmers)\n",
    "            if maximum<alignement[1]:\n",
    "                output=alignement\n",
    "                maximum=alignement[1]\n",
    "    return output"
   ]
  },
  {
   "cell_type": "code",
   "execution_count": 116,
   "id": "f131cf23",
   "metadata": {},
   "outputs": [
    {
     "data": {
      "text/plain": [
       "[[0, 19], 15]"
      ]
     },
     "execution_count": 116,
     "metadata": {},
     "output_type": "execute_result"
    }
   ],
   "source": [
    "alignement_maximum_de_kmer(positions, 5)"
   ]
  },
  {
   "cell_type": "markdown",
   "id": "8eb57dc6",
   "metadata": {},
   "source": [
    "### Testons avec notre génome"
   ]
  },
  {
   "cell_type": "code",
   "execution_count": 126,
   "id": "60547980",
   "metadata": {},
   "outputs": [],
   "source": [
    "suffix_array_first_chromosome=almost_dc3_with_p12(asciiDC3(genome[1].seq.upper()))\n",
    "BWT_first_chromosome=BWT(suffix_array_first_chromosome,genome[1].seq.upper()+\"!\")"
   ]
  },
  {
   "cell_type": "code",
   "execution_count": 127,
   "id": "52e3e39e",
   "metadata": {},
   "outputs": [],
   "source": [
    "longueur_kmer=7\n",
    "liste_de_kmer=kmer(reads[10].seq.upper(), longueur_kmer)"
   ]
  },
  {
   "cell_type": "code",
   "execution_count": 128,
   "id": "61730115",
   "metadata": {},
   "outputs": [],
   "source": [
    "def find_aligned_reads(BWT,suffix_array, reads, number_of_reads, size_of_kmers):\n",
    "    output=[]\n",
    "    for i in range(number_of_reads):\n",
    "        position=find_kmer_positions(suffix_array, BWT, reads[i].seq.upper(), size_of_kmers)\n",
    "        alignment=alignement_maximum_de_kmer(position, size_of_kmers)\n",
    "        if alignment[1]>4:\n",
    "            output.append({'read_number':i, 'alignment':alignment})\n",
    "    \n",
    "    return output"
   ]
  },
  {
   "cell_type": "code",
   "execution_count": null,
   "id": "d30958d1",
   "metadata": {},
   "outputs": [],
   "source": [
    "find_aligned_reads(BWT_first_chromosome,suffix_array_first_chromosome, reads, 100, longueur_kmer)"
   ]
  },
  {
   "cell_type": "code",
   "execution_count": 129,
   "id": "2aa81bdf",
   "metadata": {},
   "outputs": [
    {
     "name": "stdout",
     "output_type": "stream",
     "text": [
      "Sun Nov  5 10:04:28 2023    pattern_matching_stats\n",
      "\n",
      "         60195505 function calls (60195410 primitive calls) in 30.364 seconds\n",
      "\n",
      "   Ordered by: cumulative time\n",
      "\n",
      "   ncalls  tottime  percall  cumtime  percall filename:lineno(function)\n",
      "        1    0.000    0.000   30.364   30.364 {built-in method builtins.exec}\n",
      "        1    0.002    0.002   30.364   30.364 <string>:1(<module>)\n",
      "        1    0.016    0.016   30.362   30.362 /tmp/ipykernel_9883/1422914090.py:1(find_aligned_reads)\n",
      "        1    0.419    0.419   29.717   29.717 /tmp/ipykernel_9883/992215275.py:1(find_kmer_positions)\n",
      "      564   17.347    0.031   28.075    0.050 /tmp/ipykernel_9883/1019946815.py:1(lettre_et_occurence)\n",
      " 18946818    7.933    0.000    7.933    0.000 /tmp/ipykernel_9883/1019946815.py:8(<listcomp>)\n",
      " 18946912    1.733    0.000    1.733    0.000 {built-in method builtins.sum}\n",
      " 20023201    1.118    0.000    1.118    0.000 {method 'append' of 'list' objects}\n",
      "       94    0.000    0.000    0.901    0.010 /tmp/ipykernel_9883/3181281313.py:11(initialize_suffix_table_positions)\n",
      "       94    0.900    0.010    0.900    0.010 /tmp/ipykernel_9883/3181281313.py:14(<listcomp>)\n",
      "        1    0.001    0.001    0.629    0.629 /tmp/ipykernel_9883/1901190291.py:1(alignement_maximum_de_kmer)\n",
      "     3526    0.512    0.000    0.627    0.000 /tmp/ipykernel_9883/903131012.py:1(assembler_des_kmers)\n",
      "        1    0.226    0.226    0.277    0.277 /tmp/ipykernel_9883/3181281313.py:1(occurrence_indexer)\n",
      "2268919/2268824    0.115    0.000    0.116    0.000 {built-in method builtins.len}\n",
      "        1    0.000    0.000    0.032    0.032 /usr/lib/python3.10/collections/__init__.py:565(__init__)\n",
      "        1    0.000    0.000    0.032    0.032 /usr/lib/python3.10/collections/__init__.py:640(update)\n",
      "        1    0.032    0.032    0.032    0.032 {built-in method _collections._count_elements}\n",
      "      752    0.002    0.000    0.007    0.000 /home/azarkua/.local/lib/python3.10/site-packages/Bio/Seq.py:470(__getitem__)\n",
      "      848    0.001    0.000    0.005    0.000 {built-in method builtins.isinstance}\n",
      "      753    0.000    0.000    0.004    0.000 /usr/lib/python3.10/abc.py:117(__instancecheck__)\n",
      "      753    0.002    0.000    0.003    0.000 {built-in method _abc._abc_instancecheck}\n",
      "      658    0.000    0.000    0.001    0.000 /usr/lib/python3.10/abc.py:121(__subclasscheck__)\n",
      "      658    0.001    0.000    0.001    0.000 {built-in method _abc._abc_subclasscheck}\n",
      "       95    0.000    0.000    0.000    0.000 /home/azarkua/.local/lib/python3.10/site-packages/Bio/Seq.py:1961(__init__)\n",
      "      658    0.000    0.000    0.000    0.000 {built-in method builtins.chr}\n",
      "       94    0.000    0.000    0.000    0.000 /tmp/ipykernel_9883/3181281313.py:12(<listcomp>)\n",
      "       95    0.000    0.000    0.000    0.000 /home/azarkua/.local/lib/python3.10/site-packages/Bio/Seq.py:462(__len__)\n",
      "        1    0.000    0.000    0.000    0.000 /home/azarkua/.local/lib/python3.10/site-packages/Bio/Seq.py:1233(upper)\n",
      "        1    0.000    0.000    0.000    0.000 {method 'disable' of '_lsprof.Profiler' objects}\n",
      "        1    0.000    0.000    0.000    0.000 /home/azarkua/.local/lib/python3.10/site-packages/Bio/SeqRecord.py:334(<lambda>)\n",
      "        1    0.000    0.000    0.000    0.000 {method 'upper' of 'bytes' objects}\n",
      "\n",
      "\n"
     ]
    },
    {
     "data": {
      "text/plain": [
       "<pstats.Stats at 0x7f43951fd270>"
      ]
     },
     "execution_count": 129,
     "metadata": {},
     "output_type": "execute_result"
    }
   ],
   "source": [
    "cProfile.run(\"find_aligned_reads(BWT_first_chromosome,suffix_array_first_chromosome, reads, 1, longueur_kmer)\", \"pattern_matching_stats\")\n",
    "p = pstats.Stats(\"pattern_matching_stats\")\n",
    "p.sort_stats(\"cumulative\").print_stats()"
   ]
  },
  {
   "cell_type": "raw",
   "id": "6f3c1ec6",
   "metadata": {},
   "source": [
    "def check_if_compatible_with_kmer(kmer_positions,suffix_table, suffix_table_positions,longueur):\n",
    "    output=[]\n",
    "    for position in suffix_table_positions:\n",
    "        print(\"position\")\n",
    "        print(position)\n",
    "        for start_of_kmer in kmer_positions:\n",
    "            if suffix_table[position]==start_of_kmer+2*longueur:\n",
    "                output.append(position)\n",
    "    return output\n",
    "\n",
    "def find_patterns_in_sequence_knowing_kmer(sequence, pattern, kmer_positions,longueur, sequence_has_end_character=False):\n",
    "    output=[]\n",
    "    \n",
    "    if sequence_has_end_character==False:\n",
    "        sequence += '!'\n",
    "        \n",
    "    sf=almost_dc3_with_p12(asciiDC3(sequence)) \n",
    "    BWT = \"\"\n",
    "    for i in sf:\n",
    "        BWT += sequence[i-1]\n",
    "    \n",
    "    \n",
    "    \n",
    "    #print(\"BWT\")\n",
    "    #print(BWT)\n",
    "    #print(\"\\n\")\n",
    "    occurence_index = occurrence_indexer(BWT)\n",
    "    #print('occurence_index')\n",
    "    #print(occurence_index)\n",
    "    #print(\"\\n\")\n",
    "    counts = Counter(BWT)\n",
    "    #print(\"counts\")\n",
    "    #print(counts)\n",
    "    #print(\"\\n\")\n",
    "    index=len(pattern)-1\n",
    "    pattern_letter=pattern[index]\n",
    "    \n",
    "    suffix_table_positions=initialize_suffix_table_positions(counts, pattern_letter)\n",
    "    \n",
    "    suffix_table_positions=check_if_compatible_with_kmer(kmer_positions,sf, suffix_table_positions,longueur)\n",
    "    #print(\"suffix_table_positions\")\n",
    "    #print(suffix_table_positions)\n",
    "    #print(\"\\n\")\n",
    "    while index>0 and len(suffix_table_positions)>0:\n",
    "        \n",
    "        index-=1\n",
    "        #print(\"index\")\n",
    "        #print(index)\n",
    "        #print(\"\\n\")\n",
    "        pattern_letter=pattern[index]\n",
    "        #print(\"pattern_letter\")\n",
    "        #print(pattern_letter)\n",
    "        #print(\"\\n\")\n",
    "        \n",
    "        A=lettre_et_occurence(BWT,pattern_letter,suffix_table_positions, occurence_index)\n",
    "        #print(\"A\")\n",
    "        #print(A)\n",
    "        #print(\"\\n\")\n",
    "        \n",
    "        suffix_table_positions=new_suffix_table_positions(BWT, A, counts)\n",
    "        #print(\"suffix_table_positions\")\n",
    "        #print(suffix_table_positions)\n",
    "        #print(\"\\n\")\n",
    "        \n",
    "        \n",
    "    for i in range(len(suffix_table_positions)):\n",
    "        output.append(sf[suffix_table_positions[i]])\n",
    "        \n",
    "\n",
    "    return output"
   ]
  },
  {
   "cell_type": "raw",
   "id": "5e8a2765",
   "metadata": {},
   "source": [
    "def naive_read_alignment(kmer, longueur, chromosome):\n",
    "    first_kmer=sorted(find_patterns_in_sequence(chromosome, kmer[0][1],sequence_has_end_character=False))\n",
    "    first_kmer_dict={}\n",
    "    for i in range(len(first_kmer)):\n",
    "        first_kmer_dict[first_kmer[i]+longueur]=0\n",
    "    second_kmer=sorted(find_patterns_in_sequence(chromosome, kmers[1][1],sequence_has_end_character=False))\n",
    "    for i in range(second_kmer):\n",
    "        if dict[second_kmer[i]]==0:\n",
    "            dict[second_kmer[i]]=1\n",
    "    return"
   ]
  },
  {
   "cell_type": "raw",
   "id": "bb1d19e6",
   "metadata": {},
   "source": [
    "def naive_read_reconstruction(kmers,longueur, chromosome):\n",
    "    first_kmer=sorted(find_patterns_in_sequence(chromosome, kmers[0][1],sequence_has_end_character=False))\n",
    "    output=[]\n",
    "    for i in range(len(kmers)):\n",
    "        new_kmer=sorted(find_patterns_in_sequence(chromosome, kmers[i],sequence_has_end_character=False)\n",
    "                 for first_index in range(len(first_kmer)):\n",
    "                     genome_position=first_kmer[first_index]\n",
    "                     second_index=0\n",
    "                     while genome_position>new_kmer[second_index] and new_kmer[second_index]<genome_position+len(longueur):\n",
    "                        if new_kmer[second_index]==genome_position+len(longueur):\n",
    "                            output\n",
    "                        second_index+=1\n",
    "                    while\n",
    "                     \n",
    "        end_of_precedent_kmer=M[0][0]\n",
    "    return"
   ]
  },
  {
   "cell_type": "raw",
   "id": "9f7d55a6",
   "metadata": {},
   "source": [
    "def assembler_des_kmers(numero_du_kmer, position_ds_genome,longueur, liste_position_kmers):\n",
    "    compteur_de_kmer=1 #compte le nb de kmers qu'on arrive à aligner\n",
    "    last_position=0\n",
    "    i=numero_du_kmer+1\n",
    "    difference=1\n",
    "    \n",
    "    while i<len(liste_position_kmers):\n",
    "        print(\"i au début du while\")\n",
    "        print(i)\n",
    "        print(\"\\n\")\n",
    "        j=0\n",
    "        previous_compteur=compteur_de_kmer\n",
    "        print(\"le compteur est à\")\n",
    "        print(compteur_de_kmer)\n",
    "        print(\"\\n\")\n",
    "        print(\"on s'interesse au kmer numero\")\n",
    "        print(i)\n",
    "        print(\"qui est\")\n",
    "        print(liste_position_kmers[i])\n",
    "        k=0\n",
    "        while j<len(liste_position_kmers[i]) and compteur_de_kmer==previous_compteur:\n",
    "            print(\"on cherche la position\")\n",
    "            print(position_ds_genome+difference)\n",
    "            if position_ds_genome+difference==liste_position_kmers[i][j]:\n",
    "                compteur_de_kmer+=1\n",
    "                last_position=liste_position_kmers[i][j]\n",
    "            j+=1\n",
    "            \n",
    "        if compteur_de_kmer==previous_compteur:\n",
    "            ### cas d'une mutation\n",
    "            print(\"cas d'une mutation\")\n",
    "            i+=longueur\n",
    "            difference+=longueur\n",
    "            print(\"on s'interesse au kmer numero\")\n",
    "            print(i)\n",
    "            print(\"qui est\")\n",
    "            print(liste_position_kmers[i])\n",
    "            k=0\n",
    "            \n",
    "            while k<len(liste_position_kmers[i]) and compteur_de_kmer==previous_compteur:\n",
    "                print(\"on cherche la position\")\n",
    "                print(position_ds_genome+difference)\n",
    "                if position_ds_genome+difference==liste_position_kmers[i][k]:\n",
    "                    compteur_de_kmer+=1\n",
    "                    last_position=liste_position_kmers[i][k]\n",
    "                k+=1\n",
    "                \n",
    "                \n",
    "                \n",
    "            if compteur_de_kmer==previous_compteur:\n",
    "                ###cas d'une addition\n",
    "                print(\"cas d'une addition\")\n",
    "                difference-=1\n",
    "                l=0\n",
    "                while l<len(liste_position_kmers[i]) and compteur_de_kmer==previous_compteur:\n",
    "                    \n",
    "                    if position_ds_genome+difference==liste_position_kmers[i][l]:\n",
    "                        compteur_de_kmer+=1\n",
    "                        last_position=liste_position_kmers[i][l]\n",
    "                    l+=1\n",
    "                \n",
    "                if compteur_de_kmer==previous_compteur:\n",
    "                    ###cas d'une déletions\n",
    "                    print(\"cas d'une délétion\")\n",
    "                    difference+=1\n",
    "                    i-=1\n",
    "                    m=0\n",
    "                    while m<len(liste_position_kmers[i]) and compteur_de_kmer==previous_compteur:\n",
    "                    \n",
    "                        if position_ds_genome+difference==liste_position_kmers[i][m]:\n",
    "                            compteur_de_kmer+=1\n",
    "                            last_position=liste_position_kmers[i][m]\n",
    "                        m+=1\n",
    "                        \n",
    "                    if compteur_de_kmer==previous_compteur:\n",
    "                        ### cas où l'alignement est terminé\n",
    "                        return [[position_ds_genome,last_position+longueur],compteur_de_kmer]\n",
    "\n",
    "        i+=1\n",
    "        difference+=1   \n",
    "        \n",
    "    return [[position_ds_genome,last_position+longueur],compteur_de_kmer]"
   ]
  },
  {
   "cell_type": "raw",
   "id": "ccf4e220",
   "metadata": {},
   "source": [
    "def assembler_des_kmers(numero_du_kmer, position_ds_genome,longueur, liste_position_kmers):\n",
    "    compteur_de_kmer=1 #compte le nb de kmers qu'on arrive à aligner\n",
    "    last_position=0\n",
    "    i=numero_du_kmer+1\n",
    "    difference=i\n",
    "    \n",
    "    while i<len(liste_position_kmers):\n",
    "        previous_compteur=compteur_de_kmer\n",
    "        j=0\n",
    "        while j<len(liste_position_kmers[i]) and compteur_de_kmer==previous_compteur:\n",
    "            ## cas où tout marche\n",
    "            if position_ds_genome+difference==liste_position_kmers[i][j]:\n",
    "                compteur_de_kmer+=1\n",
    "                last_position=liste_position_kmers[i][j]\n",
    "                i+=1\n",
    "                \n",
    "            ## cas d'une déletion\n",
    "            elif position_ds_genome+difference==liste_position_kmers[i+longueur-1][j]:\n",
    "                i=i+longueur-1\n",
    "                compteur_de_kmer+=1\n",
    "                last_position=liste_position_kmers[i+longueur-1][j]\n",
    "                \n",
    "            ## cas d'une mutation\n",
    "            elif position_ds_genome+difference==liste_position_kmers[i+longueur][j]:\n",
    "                i=i+longueur\n",
    "                compteur_de_kmer+=1\n",
    "                last_position=liste_position_kmers[i+longueur][j]\n",
    "            ## cas d'une addition\n",
    "            elif position_ds_genome+difference-1==liste_position_kmers[i+longueur][j]:\n",
    "                i=i+longueur\n",
    "                difference-=1\n",
    "                compteur_de_kmer+=1\n",
    "                last_position=liste_position_kmers[i+longueur][j]\n",
    "                   \n",
    "            j+=1\n",
    "        \n",
    "        if compteur_de_kmer==previous_compteur:\n",
    "            return [[position_ds_genome,last_position+longueur],compteur_de_kmer]\n",
    "                    \n",
    "        \n",
    "    return [[position_ds_genome,last_position+longueur],compteur_de_kmer]"
   ]
  },
  {
   "cell_type": "raw",
   "id": "350419ec",
   "metadata": {},
   "source": [
    "def file_BWT(genome):\n",
    "    f = open(\"BWT_of_every_chromosome.txt\", \"w\")\n",
    "    for i in range(len(genome)):\n",
    "        f.write(BWT_suffix_table(genome[i].seq.upper()))\n",
    "        f.write(\"\\n\")\n",
    "    f.close()\n",
    "    return "
   ]
  },
  {
   "cell_type": "raw",
   "id": "e21a5a2d",
   "metadata": {},
   "source": [
    "def file_suffix_tables(genome):\n",
    "    for i in range(len(genome)):\n",
    "        f=open(\"suffix_table_of_chromosome\"+str(i)+\".txt\", \"w\")\n",
    "        suffix_table=almost_dc3_with_p12(asciiDC3(genome[i].seq.upper()[:10]))\n",
    "        string=[str(x) for x in suffix_table]\n",
    "        f.writelines(string)\n",
    "        f.close()\n",
    "    return"
   ]
  },
  {
   "cell_type": "raw",
   "id": "917efb12",
   "metadata": {},
   "source": [
    "def file_alignment_positions(chromosome_number, chromosome, reads_list, kmer_size):\n",
    "    f = open(\"alignment_on_chromosome\"+str(chromosome_number)+\".txt\", \"w\")\n",
    "    for read in reads_list:\n",
    "        liste_kmer=kmer(read, kmer_size)\n",
    "        temp=[]\n",
    "        for i in range(len(liste_kmer)):\n",
    "            temp.append(find_patterns_in_sequence(chromosome, liste_kmer[i],sequence_has_end_character=False, convert_to_string=True))\n",
    "            f.writelines(find_patterns_in_sequence(chromosome, liste_kmer[i],sequence_has_end_character=False, convert_to_string=True))\n",
    "    f.close()\n",
    "    return temp"
   ]
  }
 ],
 "metadata": {
  "kernelspec": {
   "display_name": "Python 3 (ipykernel)",
   "language": "python",
   "name": "python3"
  },
  "language_info": {
   "codemirror_mode": {
    "name": "ipython",
    "version": 3
   },
   "file_extension": ".py",
   "mimetype": "text/x-python",
   "name": "python",
   "nbconvert_exporter": "python",
   "pygments_lexer": "ipython3",
   "version": "3.10.12"
  }
 },
 "nbformat": 4,
 "nbformat_minor": 5
}
