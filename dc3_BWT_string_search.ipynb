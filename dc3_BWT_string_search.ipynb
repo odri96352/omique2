{
 "cells": [
  {
   "cell_type": "markdown",
   "id": "cdb689bb",
   "metadata": {},
   "source": [
    "# STEP 1 "
   ]
  },
  {
   "cell_type": "code",
   "execution_count": 1,
   "id": "bf52a3d6",
   "metadata": {},
   "outputs": [
    {
     "name": "stderr",
     "output_type": "stream",
     "text": [
      "/usr/lib/python3/dist-packages/scipy/__init__.py:146: UserWarning: A NumPy version >=1.17.3 and <1.25.0 is required for this version of SciPy (detected version 1.26.1\n",
      "  warnings.warn(f\"A NumPy version >={np_minversion} and <{np_maxversion}\"\n"
     ]
    }
   ],
   "source": [
    "import time\n",
    "import matplotlib.pyplot as plt\n",
    "import pandas as pd\n",
    "import seaborn as sns"
   ]
  },
  {
   "cell_type": "code",
   "execution_count": 2,
   "id": "7166cabb",
   "metadata": {},
   "outputs": [],
   "source": [
    "def asciiDC3 (seq) : \n",
    "    asc=[]\n",
    "    for i in seq : \n",
    "        asc.append(ord(i))\n",
    "    \n",
    "    return asc+[0,0,0]"
   ]
  },
  {
   "cell_type": "code",
   "execution_count": 3,
   "id": "c807cbc7",
   "metadata": {},
   "outputs": [],
   "source": [
    "def position1_2 (asc):\n",
    "    ind1=[]\n",
    "    ind2=[]\n",
    "    for k in range(len(asc)-2):\n",
    "        #attention on a peut etre fait de la merde ici, pas sure du -2\n",
    "        if k%3==1 :\n",
    "            ind1.append(k)\n",
    "        if k%3==2:\n",
    "            ind2.append(k)\n",
    "    # dans le cas où T a un nombre d'élément multiple de 3, r12 ne contiendra pas le triplet [0,0,0].\n",
    "    # Or, la fonction, \"removesentinel\" retire 1 élément notre suffix table, pour justement se débarrasser de [0,0,0]\n",
    "    # J'ai donc décider de rajouter artificiellement [0,0,0] dans les cas où il n'est pas déjà là.\n",
    "    if len(asc)%3==0:\n",
    "        ind1.append(len(asc)-1-2)\n",
    "        \n",
    "    return ind1+ind2"
   ]
  },
  {
   "cell_type": "code",
   "execution_count": 4,
   "id": "983e5cfc",
   "metadata": {},
   "outputs": [],
   "source": [
    "def radix_with_p12(p,t):\n",
    "    r=[]\n",
    "    for i in range(len(p)):\n",
    "        index=p[i]\n",
    "        r.append([[t[index],t[index+1], t[index+2]],index])\n",
    "    return r"
   ]
  },
  {
   "cell_type": "code",
   "execution_count": 5,
   "id": "862523e6",
   "metadata": {},
   "outputs": [],
   "source": [
    "def sort_with_p12(array, alphabet, columnNumber):\n",
    "    #print(\"array\")\n",
    "    #print(array)\n",
    "    #print(\"alphabet\")\n",
    "    #print(alphabet)\n",
    "    if len(array) == 0:\n",
    "        return array\n",
    "\n",
    "  # Perform counting sort on each column, starting at the last\n",
    "\n",
    "    column = columnNumber\n",
    "    while column>=0: # nous on met \"tant que l'indice est supérieur à 3\"\n",
    "        array = countingSortByDigit_with_p12(array, alphabet, column)\n",
    "        column-=1 #change de colonne dans ton tableau\n",
    "\n",
    "    return array\n",
    "\n",
    "def countingSortByDigit_with_p12(array, alphabet, column):\n",
    "    \"\"\"\n",
    "    ici possibleNumbers= nombre de chiffres possibles. Nous n'avons que 4 nombres (0,97,98,99)\n",
    "    \"\"\"\n",
    "\n",
    "    countIndex = -1\n",
    "    count = [0] * len(alphabet)\n",
    "    output = [None] * len(array)\n",
    "\n",
    "  # Count frequencies\n",
    "    for i in range(0, len(array)):\n",
    "        #print(\"i \"+str(i))\n",
    "        #print(\"array[i] \"+ str(array[i]))\n",
    "        #print(\"column \"+str(column))\n",
    "        \n",
    "        countIndex = alphabet[array[i][0][column]]\n",
    "        count[countIndex] += 1\n",
    "\n",
    "  # Compute cumulates\n",
    "    for i in range(1, len(alphabet)):\n",
    "        count[i] += count[i - 1]\n",
    "\n",
    "  # Move records\n",
    "    for i in range(len(array) - 1, -1, -1):\n",
    "        countIndex = alphabet[array[i][0][column]]\n",
    "        count[countIndex] -= 1\n",
    "        output[count[countIndex]] = array[i]\n",
    "       \n",
    "    return output"
   ]
  },
  {
   "cell_type": "code",
   "execution_count": 6,
   "id": "b13f245e",
   "metadata": {},
   "outputs": [],
   "source": [
    "def triplets_are_equal(a,b):\n",
    "    for i in range(len(a)):\n",
    "        if a[i]!=b[i]:\n",
    "            return False\n",
    "    return True\n",
    "\n",
    "\n",
    "def ordre_with_p12(R12p12sorted, use_index_12=False):\n",
    "    # nous renovie la liste order du genre (1,2,2,3,4,4,5)  et un booléen indiquant s'il y a répétition\n",
    "    index=1\n",
    "    repetition=False\n",
    "    order=[1]\n",
    "    \n",
    "    if use_index_12:\n",
    "        indexdict={R12p12sorted[0][1]:1}\n",
    "        \n",
    "    for i in range(1, len(R12p12sorted)): \n",
    "        if triplets_are_equal(R12p12sorted[i-1][0], R12p12sorted[i][0]):\n",
    "            order.append(index)\n",
    "            repetition=True\n",
    "        else : \n",
    "            index+=1\n",
    "            order.append(index)\n",
    "            \n",
    "        if use_index_12:\n",
    "            indexdict[R12p12sorted[i][1]]=order[i]\n",
    "    if use_index_12:\n",
    "        return order, repetition, indexdict\n",
    "    else: \n",
    "        return order\n",
    "            "
   ]
  },
  {
   "cell_type": "code",
   "execution_count": 7,
   "id": "992507a1",
   "metadata": {},
   "outputs": [],
   "source": [
    "def alphabetT(T):\n",
    "    ### à changer pcq c laid\n",
    "    dic={}\n",
    "    a=[]\n",
    "    for i in range(len(T)):\n",
    "        a.append(T[i])\n",
    "    a.sort() ## MDR CE SORT EST A CHANGER SERGIO VA NOUS TUER\n",
    "    \n",
    "    for element in a:\n",
    "        if not (element in dic):\n",
    "            dic[element]=len(dic)\n",
    "    return dic"
   ]
  },
  {
   "cell_type": "code",
   "execution_count": 8,
   "id": "51c44263",
   "metadata": {},
   "outputs": [],
   "source": [
    "def alphabetR0_with_p12(R0p0):\n",
    "    ### à changer pcq c laid\n",
    "    dic={}\n",
    "    a=[]\n",
    "    for column in range(2):\n",
    "        for i in range(len(R0p0)):\n",
    "            a.append(R0p0[i][0][column])\n",
    "    a.sort() ## MDR CE SORT EST A CHANGER SERGIO VA NOUS TUER\n",
    "    \n",
    "    for element in a:\n",
    "        if not (element in dic):\n",
    "            dic[element]=len(dic)\n",
    "    return dic"
   ]
  },
  {
   "cell_type": "code",
   "execution_count": 9,
   "id": "a616f4b5",
   "metadata": {},
   "outputs": [],
   "source": [
    "def Tprime_with_p12(p12, indexdict):\n",
    "    t=[]\n",
    "    for p in p12:\n",
    "        t.append(indexdict[p])\n",
    "    return t"
   ]
  },
  {
   "cell_type": "code",
   "execution_count": 10,
   "id": "679e86bf",
   "metadata": {},
   "outputs": [],
   "source": [
    "def position0_R0_p0(T, index12dict):\n",
    "    #attention T se finit avec trois 0\n",
    "    #print(\"T\")\n",
    "    #print(T)\n",
    "    position=[]\n",
    "    R=[]\n",
    "    for i in range(len(T)-3): #on ne prend pas en compte les trois 0 sentinelle\n",
    "        if i%3==0:\n",
    "            position.append(i)\n",
    "            if i+1<len(T)-3:\n",
    "                #print(\"i\")\n",
    "                #print(i)\n",
    "                #print(\"T[i+1]\")\n",
    "                #print(T[i+1])\n",
    "                R.append([[T[i],index12dict[i+1]],position[-1]])\n",
    "            else:\n",
    "                R.append([[T[i],1],position[-1]]) # car les sentinelles sont forcément les 1ères dans l'ordre alphabétique\n",
    "    return position, R"
   ]
  },
  {
   "cell_type": "code",
   "execution_count": 11,
   "id": "83cfeabf",
   "metadata": {},
   "outputs": [],
   "source": [
    "def merge_with_p12(Tfinal, r0p0sorted, index12dict) : \n",
    "    index12dictkeys=list(index12dict.keys())\n",
    "    liste=[]\n",
    "    A=0\n",
    "    B=0\n",
    "    while A<len(r0p0sorted) and B<len(index12dictkeys):\n",
    "        a=r0p0sorted[A][1]\n",
    "        b=index12dictkeys[B]\n",
    "        if Tfinal[a]!=Tfinal[b] :\n",
    "            minimum=min(Tfinal[a], Tfinal[b])\n",
    "            \n",
    "            if minimum == Tfinal[a]:\n",
    "                A+=1\n",
    "                liste.append(a)\n",
    "            else: \n",
    "                B+=1\n",
    "                liste.append(b)\n",
    "\n",
    "        else :\n",
    "            if b%3==1 : \n",
    "                longueur=len(liste)\n",
    "                i=0\n",
    "                if index12dict[a+1]<index12dict[b+1]:\n",
    "                    liste.append(a)\n",
    "                \n",
    "                    A+=1\n",
    "                else:\n",
    "                    liste.append(b)\n",
    "                \n",
    "                    B+=1\n",
    "                    \n",
    "                    \n",
    "            elif b%3==2 :\n",
    "            \n",
    "                if Tfinal[a+1]!=Tfinal[b+1] :\n",
    "                   \n",
    "                    minimum=min(Tfinal[a+1], Tfinal[b+1])\n",
    "                    if minimum == Tfinal[a+1]:\n",
    "                        A+=1\n",
    "                    \n",
    "                        liste.append(a)\n",
    "                    else: \n",
    "                        B+=1\n",
    "                        \n",
    "                        liste.append(b)\n",
    "\n",
    "                else:\n",
    "                  \n",
    "                    if index12dict[a+2]<index12dict[b+2]:\n",
    "                        liste.append(a)\n",
    "                        A+=1\n",
    "                    else:\n",
    "                        liste.append(b)\n",
    "                        B+=1\n",
    "                        \n",
    "\n",
    "    if A==len(r0p0sorted):\n",
    "\n",
    "        for i in range(B,len(index12dictkeys)):\n",
    "            liste.append(index12dictkeys[i])\n",
    "                \n",
    "    if B==len(index12dictkeys):\n",
    "\n",
    "        for i in range(A, len(r0p0sorted)):\n",
    "            liste.append(r0p0sorted[i][1])\n",
    "\n",
    "    return liste"
   ]
  },
  {
   "cell_type": "code",
   "execution_count": 12,
   "id": "4d8d329f",
   "metadata": {},
   "outputs": [],
   "source": [
    "def merge_with_p12_debugg(Tfinal, r0p0sorted, index12dict) : \n",
    "    print(\"rappel des paramètres entrés pour la fonction merge\")\n",
    "    print(\"Tfinal\")\n",
    "    print(Tfinal)\n",
    "    print(\"r0p0sorted\")\n",
    "    print(r0p0sorted)\n",
    "    print(\"index12dict\")\n",
    "    print(index12dict)\n",
    "    print(\"on construit une liste des clés du dictionnaire\")\n",
    "    print(\"qui est dans l'ordre normalement ahhh!\")\n",
    "    index12dictkeys=list(index12dict.keys())\n",
    "    liste=[]\n",
    "    A=0\n",
    "    B=0\n",
    "    while A<len(r0p0sorted) and B<len(index12dictkeys):\n",
    "        print(\"rentre dans le while\")\n",
    "        a=r0p0sorted[A][1]\n",
    "        b=index12dictkeys[B]\n",
    "        if Tfinal[a]!=Tfinal[b] :\n",
    "            minimum=min(Tfinal[a], Tfinal[b])\n",
    "            \n",
    "            if minimum == Tfinal[a]:\n",
    "                print(\"a= \"+str(a)+\", b= \"+str(b)+\", on append le \"+str(a))\n",
    "                A+=1\n",
    "                liste.append(a)\n",
    "            else: \n",
    "                print(\"a= \"+str(a)+\", b= \"+str(b)+\", on append le \"+str(b))\n",
    "                B+=1\n",
    "                liste.append(b)\n",
    "\n",
    "        else :\n",
    "            print(\"Tfinal[a]\")\n",
    "            print(Tfinal[a])\n",
    "            print(\"Tfinal[b]\")\n",
    "            print(Tfinal[b])\n",
    "            print(\"Tfinal[a]==Tfinal[b]\")\n",
    "            print(Tfinal[a]==Tfinal[b])\n",
    "            if b%3==1 : \n",
    "                print(str(b)+\" est congru à 1 modulo 3\")\n",
    "                longueur=len(liste)\n",
    "                print(\"l'objet liste est pour l'instant constitué de: \")\n",
    "                print(liste)\n",
    "                i=0\n",
    "                print(\"on compare les positions de \"+str(a+1)+\" et \"+str(b+1))\n",
    "                print(\"index12dict[\" +str(a+1)+\"]= \")\n",
    "                print(index12dict[a+1])\n",
    "                print(\"index12dict[\" +str(b+1)+\"]= \")\n",
    "                print(index12dict[b+1])\n",
    "                if index12dict[a+1]<index12dict[b+1]:\n",
    "                    liste.append(a)\n",
    "                    print(\"on append \"+ str(a))\n",
    "                    A+=1\n",
    "                else:\n",
    "                    liste.append(b)\n",
    "                    print(\"on append \"+ str(b))\n",
    "                    B+=1\n",
    "                    \n",
    "                    \n",
    "            elif b%3==2 :\n",
    "                print(str(b)+\"est congru à 2 modulo 3\")\n",
    "                if Tfinal[a+1]!=Tfinal[b+1] :\n",
    "                    print(\"Tfinal[a+1]\")\n",
    "                    print(Tfinal[a+1])\n",
    "                    print(\"Tfinal[b+1]\")\n",
    "                    print(Tfinal[b+1])\n",
    "                    print(\"Tfinal[a+1]!=Tfinal[b+1]\")\n",
    "                    print(Tfinal[a+1]!=Tfinal[b+1])\n",
    "                    minimum=min(Tfinal[a+1], Tfinal[b+1])\n",
    "                    if minimum == Tfinal[a+1]:\n",
    "                        A+=1\n",
    "                        print(\"on append \"+ str(a))\n",
    "                        liste.append(a)\n",
    "                    else: \n",
    "                        B+=1\n",
    "                        print(\"on append \"+ str(b))\n",
    "                        liste.append(b)\n",
    "\n",
    "                else:\n",
    "                    print(\"Tfinal[a+1]\")\n",
    "                    print(Tfinal[a+1])\n",
    "                    print(\"Tfinal[b+1]\")\n",
    "                    print(Tfinal[b+1])\n",
    "                    print(\"Tfinal[a+1]==Tfinal[b+1]\")\n",
    "                    print(Tfinal[a+1]==Tfinal[b+1])\n",
    "                    print(\"on compare a+2 et b+2\")\n",
    "                    if index12dict[a+2]<index12dict[b+2]:\n",
    "                        liste.append(a)\n",
    "                        A+=1\n",
    "                    else:\n",
    "                        liste.append(b)\n",
    "                        B+=1\n",
    "                        \n",
    "    print(\"plus dans la boucle while\")\n",
    "    print(\"A \"+str(A))\n",
    "    print(\"B \"+str(B))\n",
    "    if A==len(r0p0sorted):\n",
    "        print(\"on concatène les index12\")\n",
    "        for i in range(B,len(index12dictkeys)):\n",
    "            liste.append(index12dictkeys[i])\n",
    "                \n",
    "    if B==len(index12dictkeys):\n",
    "        print(\"on concatène les index0\")\n",
    "        for i in range(A, len(r0p0sorted)):\n",
    "            liste.append(r0p0sorted[i][1])\n",
    "\n",
    "    return liste"
   ]
  },
  {
   "cell_type": "code",
   "execution_count": 13,
   "id": "5357493c",
   "metadata": {},
   "outputs": [],
   "source": [
    "def removesentinel(index):\n",
    "    return index[1:]"
   ]
  },
  {
   "cell_type": "code",
   "execution_count": 14,
   "id": "cf1426fb",
   "metadata": {},
   "outputs": [],
   "source": [
    "def resumeHigherOrder_with_p12(index012prime, P12):\n",
    "    output={}\n",
    "    for i in range(len(index012prime)):\n",
    "        output[P12[index012prime[i]]]=i\n",
    "        \n",
    "    return output"
   ]
  },
  {
   "cell_type": "markdown",
   "id": "1a1b29c2",
   "metadata": {},
   "source": [
    "### test zone avec test 2"
   ]
  },
  {
   "cell_type": "code",
   "execution_count": 15,
   "id": "497f5ea2",
   "metadata": {},
   "outputs": [
    {
     "name": "stdout",
     "output_type": "stream",
     "text": [
      "[[[84, 71, 67], 1], [[84, 65, 71], 4], [[67, 84, 71], 7], [[67, 67, 67], 10], [[84, 71, 65], 13], [[84, 67, 84], 16], [[67, 84, 67], 19], [[84, 71, 65], 22], [[33, 0, 0], 25], [[71, 67, 84], 2], [[65, 71, 67], 5], [[84, 71, 67], 8], [[67, 67, 84], 11], [[71, 65, 84], 14], [[67, 84, 67], 17], [[84, 67, 84], 20], [[71, 65, 33], 23], [[0, 0, 0], 26]]\n"
     ]
    }
   ],
   "source": [
    "test_2='ATGCTAGCTGCCCTGATCTCTCTGA!'\n",
    "p12_test_2=[1, 4, 7, 10, 13, 16, 19, 22, 25, 2, 5, 8, 11, 14, 17, 20, 23, 26]\n",
    "r12_test_2=[[84, 71, 67], [84, 65, 71], [67, 84, 71], [67, 67, 67], [84, 71, 65], [84, 67, 84], [67, 84, 67], [84, 71, 65], [33, 0, 0], [71, 67, 84], [65, 71, 67], [84, 71, 67], [67, 67, 84], [71, 65, 84], [67, 84, 67], [84, 67, 84], [71, 65, 33], [0, 0, 0]]\n",
    "alphabet_test_2={0: 0, 33: 1, 65: 2, 67: 3, 71: 4, 84: 5}\n",
    "\n",
    "\n",
    "r12_p12_test_2=radix_with_p12(p12_test_2,asciiDC3(test_2))\n",
    "print(r12_p12_test_2)\n",
    "\n"
   ]
  },
  {
   "cell_type": "code",
   "execution_count": 16,
   "id": "1e1bea1a",
   "metadata": {},
   "outputs": [
    {
     "name": "stdout",
     "output_type": "stream",
     "text": [
      "[[[0, 0, 0], 26], [[33, 0, 0], 25], [[65, 71, 67], 5], [[67, 67, 67], 10], [[67, 67, 84], 11], [[67, 84, 67], 19], [[67, 84, 67], 17], [[67, 84, 71], 7], [[71, 65, 33], 23], [[71, 65, 84], 14], [[71, 67, 84], 2], [[84, 65, 71], 4], [[84, 67, 84], 16], [[84, 67, 84], 20], [[84, 71, 65], 13], [[84, 71, 65], 22], [[84, 71, 67], 1], [[84, 71, 67], 8]]\n"
     ]
    }
   ],
   "source": [
    "r12_p12_sorted=sort_with_p12(r12_p12_test_2, alphabet_test_2, 2)\n",
    "print(r12_p12_sorted)"
   ]
  },
  {
   "cell_type": "code",
   "execution_count": 17,
   "id": "c852ec63",
   "metadata": {},
   "outputs": [
    {
     "name": "stdout",
     "output_type": "stream",
     "text": [
      "[67, 84, 67]\n",
      "[67, 84, 67]\n",
      "True\n",
      "[1, 2, 3, 4, 5, 6, 6, 7, 8, 9, 10, 11, 12, 12, 13, 13, 14, 14]\n",
      "{26: 1, 25: 2, 5: 3, 10: 4, 11: 5, 19: 6, 17: 6, 7: 7, 23: 8, 14: 9, 2: 10, 4: 11, 16: 12, 20: 12, 13: 13, 22: 13, 1: 14, 8: 14}\n"
     ]
    }
   ],
   "source": [
    "print(r12_p12_sorted[5][0])\n",
    "print(r12_p12_sorted[6][0])\n",
    "print(triplets_are_equal(r12_p12_sorted[5][0],r12_p12_sorted[6][0]))\n",
    "ordre_test_2, repetition, indexdict_test_2=ordre_with_p12(r12_p12_sorted, True)\n",
    "print(ordre_test_2)\n",
    "print(indexdict_test_2)"
   ]
  },
  {
   "cell_type": "code",
   "execution_count": 18,
   "id": "c45e82ed",
   "metadata": {},
   "outputs": [
    {
     "name": "stdout",
     "output_type": "stream",
     "text": [
      "[0, 3, 6, 9, 12, 15, 18, 21, 24]\n",
      "[[[65, 14], 0], [[67, 11], 3], [[71, 7], 6], [[71, 4], 9], [[67, 13], 12], [[65, 12], 15], [[84, 6], 18], [[67, 13], 21], [[65, 2], 24]]\n",
      "{2: 0, 4: 1, 6: 2, 7: 3, 11: 4, 12: 5, 13: 6, 14: 7, 65: 8, 67: 9, 71: 10, 84: 11}\n",
      "[[[65, 2], 24], [[65, 12], 15], [[65, 14], 0], [[67, 11], 3], [[67, 13], 12], [[67, 13], 21], [[71, 4], 9], [[71, 7], 6], [[84, 6], 18]]\n"
     ]
    }
   ],
   "source": [
    "p0, R0_p0_test_2=position0_R0_p0(asciiDC3(test_2), indexdict_test_2)\n",
    "\n",
    "print(p0)\n",
    "print(R0_p0_test_2)\n",
    "\n",
    "alphabet_r0_test_2=alphabetR0_with_p12(R0_p0_test_2)\n",
    "print(alphabet_r0_test_2)\n",
    "    \n",
    "r0p0sorted=sort_with_p12(R0_p0_test_2,alphabet_r0_test_2 ,1)\n",
    "print(r0p0sorted)\n",
    "\n",
    "order0=ordre_with_p12(r0p0sorted)\n",
    "    "
   ]
  },
  {
   "cell_type": "markdown",
   "id": "6817fdf1",
   "metadata": {},
   "source": [
    "### test zone avec abcabcabc"
   ]
  },
  {
   "cell_type": "code",
   "execution_count": 19,
   "id": "56a19fcd",
   "metadata": {},
   "outputs": [
    {
     "name": "stdout",
     "output_type": "stream",
     "text": [
      "[97, 98, 99, 97, 98, 99, 97, 99, 97, 98, 0, 0, 0]\n"
     ]
    }
   ],
   "source": [
    "S=\"abcabcacab\"\n",
    "T=asciiDC3(S)\n",
    "columnnumber=2\n",
    "print(T)\n"
   ]
  },
  {
   "cell_type": "code",
   "execution_count": 20,
   "id": "c148b266",
   "metadata": {},
   "outputs": [
    {
     "name": "stdout",
     "output_type": "stream",
     "text": [
      "[1, 4, 7, 10, 2, 5, 8]\n",
      "[[[98, 99, 97], 1], [[98, 99, 97], 4], [[99, 97, 98], 7], [[0, 0, 0], 10], [[99, 97, 98], 2], [[99, 97, 99], 5], [[97, 98, 0], 8]]\n",
      "[[[0, 0, 0], 10], [[97, 98, 0], 8], [[98, 99, 97], 1], [[98, 99, 97], 4], [[99, 97, 98], 7], [[99, 97, 98], 2], [[99, 97, 99], 5]]\n",
      "[1, 2, 3, 3, 4, 4, 5]\n",
      "True\n",
      "{10: 1, 8: 2, 1: 3, 4: 3, 7: 4, 2: 4, 5: 5}\n",
      "[3, 3, 4, 1, 4, 5, 2]\n"
     ]
    },
    {
     "data": {
      "text/plain": [
       "[3, 3, 4, 1, 4, 5, 2, 0, 0, 0]"
      ]
     },
     "execution_count": 20,
     "metadata": {},
     "output_type": "execute_result"
    }
   ],
   "source": [
    "p12=position1_2(T)\n",
    "print(p12)\n",
    "R12=radix_with_p12(p12, T)\n",
    "print(R12)\n",
    "alph=alphabetT(T)\n",
    "alph\n",
    "Rs12= sort_with_p12(R12, alph, columnnumber)\n",
    "print(Rs12)\n",
    "\n",
    "use_index12=True\n",
    "order12, boolean, index12dict =ordre_with_p12(Rs12,use_index12)\n",
    "print(order12)\n",
    "print(boolean)\n",
    "print(index12dict)\n",
    "\n",
    "tprime=Tprime_with_p12(p12, index12dict)\n",
    "print(tprime)\n",
    "\n",
    "tprime=tprime+[0,0,0]\n",
    "tprime"
   ]
  },
  {
   "cell_type": "code",
   "execution_count": 21,
   "id": "dca6db52",
   "metadata": {},
   "outputs": [
    {
     "name": "stdout",
     "output_type": "stream",
     "text": [
      "[1, 4, 7, 2, 5]\n",
      "[[[3, 4, 1], 1], [[4, 5, 2], 4], [[0, 0, 0], 7], [[4, 1, 4], 2], [[5, 2, 0], 5]]\n",
      "{0: 0, 1: 1, 2: 2, 3: 3, 4: 4, 5: 5}\n",
      "[[[0, 0, 0], 7], [[3, 4, 1], 1], [[4, 1, 4], 2], [[4, 5, 2], 4], [[5, 2, 0], 5]]\n",
      "[1, 2, 3, 4, 5]\n",
      "False\n",
      "{7: 1, 1: 2, 2: 3, 4: 4, 5: 5}\n"
     ]
    }
   ],
   "source": [
    "p12prime=position1_2(tprime)\n",
    "print(p12prime)\n",
    "R12prime=radix_with_p12(p12prime, tprime)\n",
    "print(R12prime)\n",
    "alphprime=alphabetT(tprime)\n",
    "print(alphprime)\n",
    "Rs12prime= sort_with_p12(R12prime, alphprime, columnnumber)\n",
    "print(Rs12prime)\n",
    "\n",
    "order12prime, boolean, index12primedict =ordre_with_p12(Rs12prime, True)\n",
    "print(order12prime)\n",
    "print(boolean)\n",
    "print(index12primedict)"
   ]
  },
  {
   "cell_type": "code",
   "execution_count": 22,
   "id": "2d4df4de",
   "metadata": {},
   "outputs": [
    {
     "name": "stdout",
     "output_type": "stream",
     "text": [
      "[0, 3, 6]\n",
      "[[[3, 2], 0], [[1, 4], 3], [[2, 1], 6]]\n"
     ]
    }
   ],
   "source": [
    "p0prime, r0prime=position0_R0_p0(tprime, index12primedict)\n",
    "print(p0prime)\n",
    "print(r0prime)"
   ]
  },
  {
   "cell_type": "code",
   "execution_count": 23,
   "id": "c6f7f9a0",
   "metadata": {},
   "outputs": [
    {
     "name": "stdout",
     "output_type": "stream",
     "text": [
      "{1: 0, 2: 1, 3: 2, 4: 3}\n",
      "[[[1, 4], 3], [[2, 1], 6], [[3, 2], 0]]\n"
     ]
    },
    {
     "data": {
      "text/plain": [
       "[7, 3, 6, 0, 1, 2, 4, 5]"
      ]
     },
     "execution_count": 23,
     "metadata": {},
     "output_type": "execute_result"
    }
   ],
   "source": [
    "alph0prime=alphabetR0_with_p12(r0prime)\n",
    "print(alph0prime)\n",
    "r0sprime= sort_with_p12(r0prime, alph0prime, columnnumber-1)\n",
    "print(r0sprime)\n",
    "\n",
    "index120prime=merge_with_p12(tprime, r0sprime, index12primedict)\n",
    "index120prime"
   ]
  },
  {
   "cell_type": "markdown",
   "id": "337a7274",
   "metadata": {},
   "source": [
    "# Assemblage final"
   ]
  },
  {
   "cell_type": "code",
   "execution_count": 24,
   "id": "c6a79b12",
   "metadata": {},
   "outputs": [],
   "source": [
    "def almost_dc3_with_p12(T):\n",
    "    # T est une liste de int\n",
    "\n",
    "    \n",
    "    columnNumber=2\n",
    "    p12=position1_2(T)\n",
    "    r12=radix_with_p12(p12,T)\n",
    "    alphabet_T=alphabetT(T)\n",
    "    r12sorted=sort_with_p12(r12, alphabet_T, columnNumber)    \n",
    "    order12,repetition, index12dict=ordre_with_p12(r12sorted, True)\n",
    "    if repetition:\n",
    "        Tprim=Tprime_with_p12(p12, index12dict)+[0,0,0]\n",
    "        index012=almost_dc3_with_p12(Tprim)\n",
    "        index12dict=resumeHigherOrder_with_p12(index012, p12)\n",
    "    p0,r0p0=position0_R0_p0(T, index12dict)\n",
    "    alphabet_r0=alphabetR0_with_p12(r0p0)\n",
    "    r0sorted=sort_with_p12(r0p0,alphabet_r0 ,columnNumber-1)\n",
    "    index012=removesentinel(merge_with_p12(T, r0sorted, index12dict))\n",
    "    \n",
    "    return index012\n",
    "   \n",
    "    \n",
    "    "
   ]
  },
  {
   "cell_type": "code",
   "execution_count": 25,
   "id": "78c5f2d2",
   "metadata": {},
   "outputs": [],
   "source": [
    "def almost_dc3_with_p12_debugg(T):\n",
    "    # T est une liste de int\n",
    "\n",
    "    \n",
    "    columnNumber=2\n",
    "    p12=position1_2(T)\n",
    "    \n",
    "    print(\"p12\")\n",
    "    print(p12)\n",
    "    print(\"taille de p12 avant récursion\")\n",
    "    print(len(p12))\n",
    "    print(\"\\n\")\n",
    "    \n",
    "    r12=radix_with_p12(p12,T)\n",
    "    print(\"r12\")\n",
    "    print(r12)\n",
    "    print(\"\\n\")\n",
    "\n",
    "    alphabet_T=alphabetT(T)\n",
    "    print(\"alphabet de T\")\n",
    "    print(alphabet_T)\n",
    "    \n",
    "    r12sorted=sort_with_p12(r12, alphabet_T, columnNumber)\n",
    "    print(\"r12sorted\")\n",
    "    print(r12sorted)\n",
    "    print(\"\\n\")\n",
    "    \n",
    "    order12,repetition, index12dict=ordre_with_p12(r12sorted, True)\n",
    "    print(\"order12\")\n",
    "    print(order12)\n",
    "    print(\"index12dict\")\n",
    "    print(index12dict)\n",
    "    print(\"entre-t-on dans la boucle de répétition?\")\n",
    "    print(repetition)\n",
    "    print(\"\\n\")\n",
    "    \n",
    "\n",
    "    if repetition:\n",
    "\n",
    "        \n",
    "        Tprim=Tprime_with_p12(p12, index12dict)+[0,0,0]\n",
    "        print(\"tprime\")\n",
    "        print(Tprim)\n",
    "        print(\"taille de tprime\")\n",
    "        print(len(Tprim))\n",
    "        print(\"\\n\")\n",
    "        \n",
    "        index012=almost_dc3_with_p12_debugg(Tprim)\n",
    "        print(\"index012\")\n",
    "        print(index012)\n",
    "        print(\"taille de index012\")\n",
    "        print(len(index012))\n",
    "        print(\"\\n\")\n",
    "\n",
    "        index12dict=resumeHigherOrder_with_p12(index012, p12)\n",
    "        print(\"resume higher order index12dict\")\n",
    "        print(index12dict)\n",
    "        print(\"taille de index12dict après retour à taille initiale\")\n",
    "        print(len(index12dict))\n",
    "        print(\"\\n\")\n",
    "\n",
    "    p0,r0p0=position0_R0_p0(T, index12dict)\n",
    "    print(\"rappel de T\")\n",
    "    print(T)\n",
    "    print(\"r0p0\")\n",
    "    print(r0p0)\n",
    "    print(\"taille de r0p0\")\n",
    "    print(len(r0p0))\n",
    "    print(\"\\n\")\n",
    "\n",
    "    alphabet_r0=alphabetR0_with_p12(r0p0)\n",
    "    print(\"alphabet_r0\")\n",
    "    print(alphabet_r0)\n",
    "    print(\"\\n\")\n",
    "    \n",
    "    r0sorted=sort_with_p12(r0p0,alphabet_r0 ,columnNumber-1)\n",
    "    print(\"r0sorted\")\n",
    "    print(r0sorted)\n",
    "    print(\"taille de r0sorted\")\n",
    "    print(len(r0sorted))\n",
    "    print(\"\\n\")\n",
    "\n",
    "    #order0=ordre(r0sorted, index12)\n",
    "    \n",
    "    \n",
    "    index012=removesentinel(merge_with_p12(T, r0sorted, index12dict))\n",
    "    print(\"taille après la fonction removesentinel\")\n",
    "    print(len(index012))\n",
    "    print(\"rappel de T\")\n",
    "    print(T)\n",
    "    print(\"index012\")\n",
    "    print(index012)\n",
    "    print(\"\\n\")\n",
    "    \n",
    "    for i in range(len(index012)):\n",
    "        print(T[index012[i]:])\n",
    "    \n",
    "    return index012\n",
    "   \n",
    "    \n",
    "    "
   ]
  },
  {
   "cell_type": "markdown",
   "id": "4eaf1a2c",
   "metadata": {},
   "source": [
    "## Test avec biopython \n"
   ]
  },
  {
   "cell_type": "code",
   "execution_count": 26,
   "id": "63868023",
   "metadata": {},
   "outputs": [
    {
     "name": "stdout",
     "output_type": "stream",
     "text": [
      "Defaulting to user installation because normal site-packages is not writeable\n",
      "Requirement already satisfied: biopython in /home/azarkua/.local/lib/python3.10/site-packages (1.81)\n",
      "Requirement already satisfied: numpy in /home/azarkua/.local/lib/python3.10/site-packages (from biopython) (1.26.1)\n",
      "\n",
      "\u001b[1m[\u001b[0m\u001b[34;49mnotice\u001b[0m\u001b[1;39;49m]\u001b[0m\u001b[39;49m A new release of pip is available: \u001b[0m\u001b[31;49m23.2.1\u001b[0m\u001b[39;49m -> \u001b[0m\u001b[32;49m23.3.1\u001b[0m\n",
      "\u001b[1m[\u001b[0m\u001b[34;49mnotice\u001b[0m\u001b[1;39;49m]\u001b[0m\u001b[39;49m To update, run: \u001b[0m\u001b[32;49mpython3 -m pip install --upgrade pip\u001b[0m\n",
      "Note: you may need to restart the kernel to use updated packages.\n"
     ]
    }
   ],
   "source": [
    "pip install biopython"
   ]
  },
  {
   "cell_type": "code",
   "execution_count": 281,
   "id": "82f449fb",
   "metadata": {},
   "outputs": [
    {
     "name": "stdout",
     "output_type": "stream",
     "text": [
      "[SeqRecord(seq=Seq('tgaaccctaaaccctaaaccctaaaccctaaacccctaaaccctaaaccctgaa...gtt'), id='NC_037283.1', name='NC_037283.1', description='NC_037283.1 Plasmodium falciparum 3D7 genome assembly, chromosome: 14', dbxrefs=[]), SeqRecord(seq=Seq('ATGATAAAATTTTTAAAACCTAAAATAAAAATATTAAAAAAATTAAATATACCT...ATT'), id='NC_036769.1', name='NC_036769.1', description='NC_036769.1 Plasmodium falciparum strain 3D7, apicoplast', dbxrefs=[])]\n"
     ]
    }
   ],
   "source": [
    "from Bio import SeqIO\n",
    "genome=[]\n",
    "nucleotide_genome=0\n",
    "for seq_record in SeqIO.parse(\"/home/azarkua/Documents/2023-2024/omiques2/developement/omique2/genome.fna\", \"fasta\"):\n",
    "    genome.append(seq_record)\n",
    "    nucleotide_genome+=len(seq_record.seq)\n",
    "print(genome[13:])"
   ]
  },
  {
   "cell_type": "code",
   "execution_count": 282,
   "id": "6bb2b6a0",
   "metadata": {},
   "outputs": [
    {
     "name": "stdout",
     "output_type": "stream",
     "text": [
      "[SeqRecord(seq=Seq('TTTCCTTTTTAAGCGTTTTATTTTTTAATAAAAAAAATATAGTATTATATAGTA...TAA'), id='NC_004325.2-100000', name='NC_004325.2-100000', description='NC_004325.2-100000', dbxrefs=[])]\n"
     ]
    }
   ],
   "source": [
    "reads=[]\n",
    "nucleotide_reads=0\n",
    "for seq_record in SeqIO.parse(\"/home/azarkua/Documents/2023-2024/omiques2/developement/omique2/reads.fq\", \"fastq\"):\n",
    "    reads.append(seq_record)\n",
    "    nucleotide_reads+=len(seq_record.seq)\n",
    "    #if len(seq_record.seq)!= 100:\n",
    "    #    print(\"False\")\n",
    "print(reads[:1])"
   ]
  },
  {
   "cell_type": "code",
   "execution_count": 29,
   "id": "b8ec5679",
   "metadata": {},
   "outputs": [
    {
     "name": "stdout",
     "output_type": "stream",
     "text": [
      "236775\n"
     ]
    },
    {
     "data": {
      "text/plain": [
       "Seq('CCCTGAACCC')"
      ]
     },
     "execution_count": 29,
     "metadata": {},
     "output_type": "execute_result"
    }
   ],
   "source": [
    "temp=genome[1].seq.upper()\n",
    "print(len(temp)//4)\n",
    "temp[50:60]"
   ]
  },
  {
   "cell_type": "markdown",
   "id": "d589cce0",
   "metadata": {},
   "source": [
    "Pour l'instant, notre code met environ 2min d'attente pour faire la suffix table de 25 000 nucléotides."
   ]
  },
  {
   "cell_type": "code",
   "execution_count": 30,
   "id": "097a7edc",
   "metadata": {},
   "outputs": [],
   "source": [
    "T=asciiDC3(temp)\n",
    "#print(T)"
   ]
  },
  {
   "cell_type": "code",
   "execution_count": 31,
   "id": "e2b39d26",
   "metadata": {},
   "outputs": [
    {
     "name": "stdout",
     "output_type": "stream",
     "text": [
      "[947101, 468510, 633566, 468511, 434614, 207415, 633567, 468512, 434615, 207416, 633568, 388233, 468513, 434616, 207417, 633569, 724610, 388234, 468514, 434617, 207418, 633570, 724611, 388235, 468515, 434618, 207419, 533168, 633571, 724612, 388236, 468516, 434619, 207420, 533169, 633572, 238221, 724613, 441106, 388237, 468517, 434620, 207421, 533170, 684120, 633573, 422507, 238222, 656252, 724614, 441107, 157882, 388238, 468518, 654531, 434621, 369055, 207422, 533171, 684121, 633574, 422508, 238223, 656253, 724615, 172540, 441108, 157883, 576520, 388239, 468519, 654532, 434622, 369056, 207423, 247439, 458613, 481497, 533172, 684122, 633575, 168552, 422509, 238224, 656254, 724616, 172541, 441109, 157884, 576521, 388240, 468520, 654533, 699572, 434623, 369057, 521750, 207424, 247440, 458614]\n"
     ]
    }
   ],
   "source": [
    "suffix_array=almost_dc3_with_p12(T)\n",
    "print(suffix_array[:100])\n",
    "#print(timemeasuring)"
   ]
  },
  {
   "cell_type": "markdown",
   "id": "bb10b263",
   "metadata": {},
   "source": [
    "## Mesurer le temps que prend notre fonction"
   ]
  },
  {
   "cell_type": "code",
   "execution_count": 32,
   "id": "a9e9e985",
   "metadata": {},
   "outputs": [],
   "source": [
    "import pstats\n",
    "import cProfile"
   ]
  },
  {
   "cell_type": "code",
   "execution_count": 33,
   "id": "a111f300",
   "metadata": {},
   "outputs": [
    {
     "name": "stdout",
     "output_type": "stream",
     "text": [
      "Sat Nov  4 17:29:35 2023    dc3_stats\n",
      "\n",
      "         28452198 function calls (28452193 primitive calls) in 23.865 seconds\n",
      "\n",
      "   Ordered by: cumulative time\n",
      "\n",
      "   ncalls  tottime  percall  cumtime  percall filename:lineno(function)\n",
      "        1    0.000    0.000   23.865   23.865 {built-in method builtins.exec}\n",
      "        1    0.417    0.417   23.865   23.865 <string>:1(<module>)\n",
      "      6/1    1.089    0.182   23.448   23.448 /tmp/ipykernel_8653/3778850517.py:1(almost_dc3_with_p12)\n",
      "       12    0.136    0.011    7.332    0.611 /tmp/ipykernel_8653/2101628537.py:1(sort_with_p12)\n",
      "       30    7.196    0.240    7.196    0.240 /tmp/ipykernel_8653/2101628537.py:18(countingSortByDigit_with_p12)\n",
      "        6    3.417    0.570    4.031    0.672 /tmp/ipykernel_8653/4110635339.py:1(merge_with_p12)\n",
      "        6    3.407    0.568    3.499    0.583 /tmp/ipykernel_8653/2868372930.py:1(radix_with_p12)\n",
      "        6    1.478    0.246    2.533    0.422 /tmp/ipykernel_8653/2442398083.py:8(ordre_with_p12)\n",
      "        6    1.102    0.184    1.242    0.207 /tmp/ipykernel_8653/3786488779.py:1(position0_R0_p0)\n",
      "        6    0.644    0.107    1.072    0.179 /tmp/ipykernel_8653/456097855.py:1(alphabetR0_with_p12)\n",
      "        6    0.562    0.094    1.011    0.168 /tmp/ipykernel_8653/150808864.py:1(alphabetT)\n",
      "  1727910    0.873    0.000    0.964    0.000 /tmp/ipykernel_8653/2442398083.py:1(triplets_are_equal)\n",
      " 15468107    0.812    0.000    0.812    0.000 {method 'append' of 'list' objects}\n",
      " 10400577    0.602    0.000    0.602    0.000 {built-in method builtins.len}\n",
      "        6    0.491    0.082    0.582    0.097 /tmp/ipykernel_8653/3648738200.py:1(position1_2)\n",
      "        5    0.573    0.115    0.573    0.115 /tmp/ipykernel_8653/1454108679.py:1(resumeHigherOrder_with_p12)\n",
      "       12    0.545    0.045    0.545    0.045 {method 'sort' of 'list' objects}\n",
      "        5    0.369    0.074    0.451    0.090 /tmp/ipykernel_8653/1369769413.py:1(Tprime_with_p12)\n",
      "   855477    0.119    0.000    0.119    0.000 {built-in method builtins.min}\n",
      "        6    0.034    0.006    0.034    0.006 /tmp/ipykernel_8653/3946746901.py:1(removesentinel)\n",
      "        6    0.000    0.000    0.000    0.000 {method 'keys' of 'dict' objects}\n",
      "        1    0.000    0.000    0.000    0.000 {method 'disable' of '_lsprof.Profiler' objects}\n",
      "\n",
      "\n"
     ]
    },
    {
     "data": {
      "text/plain": [
       "<pstats.Stats at 0x7fb7dfae8df0>"
      ]
     },
     "execution_count": 33,
     "metadata": {},
     "output_type": "execute_result"
    }
   ],
   "source": [
    "cProfile.run(\"almost_dc3_with_p12(T)\", \"dc3_stats\")\n",
    "p = pstats.Stats(\"dc3_stats\")\n",
    "p.sort_stats(\"cumulative\").print_stats()"
   ]
  },
  {
   "cell_type": "markdown",
   "id": "24a18c05",
   "metadata": {},
   "source": [
    "### Idées d'optimisation  \n",
    "-réussir à ne plus faire appel aux fonctions \"alphabet\"  "
   ]
  },
  {
   "cell_type": "markdown",
   "id": "fbc43e49",
   "metadata": {},
   "source": [
    "### BWT à l'aide de notre suffix table"
   ]
  },
  {
   "cell_type": "code",
   "execution_count": 34,
   "id": "ee199ee7",
   "metadata": {},
   "outputs": [],
   "source": [
    "def BWT_suffix_table(T,end_of_string=False):\n",
    "    \"\"\"\n",
    "    Compute the BWT from the suffix table\n",
    "    \n",
    "    Args:\n",
    "        T (str): string\n",
    "        end_of_string (char): end of string character to append\n",
    "    \n",
    "    Return:\n",
    "        bwt (str): BWT\n",
    "    \"\"\"\n",
    "    if end_of_string==False:\n",
    "        T += '!'\n",
    "    suffix_array=almost_dc3_with_p12(asciiDC3(T)) \n",
    "    bwt = \"\"\n",
    "    for i in suffix_array:\n",
    "        bwt += T[i-1]\n",
    "    return(bwt)"
   ]
  },
  {
   "cell_type": "code",
   "execution_count": 35,
   "id": "4d2c3f75",
   "metadata": {},
   "outputs": [],
   "source": [
    "def run_length_encoding(S):\n",
    "    \"\"\"\n",
    "    Encode sequence using the Run Length method\n",
    "    \n",
    "    Args:\n",
    "        text (str): string to be shifted\n",
    "    \n",
    "    Return:\n",
    "        str: run length\n",
    "    \"\"\"\n",
    "    encoded_S= \"\"\n",
    "    i=0\n",
    "    number=1\n",
    "    while i<len(S):\n",
    "        encoded_S+=S[i]\n",
    "        i+=1\n",
    "        while i<len(S) and S[i-1]==S[i]:\n",
    "            number+=1\n",
    "            i+=1\n",
    "        if number>1:\n",
    "            encoded_S+=str(number)\n",
    "        number=1\n",
    "    return encoded_S"
   ]
  },
  {
   "cell_type": "code",
   "execution_count": 36,
   "id": "2d06b591",
   "metadata": {},
   "outputs": [],
   "source": [
    "def print_suffix_table(sequence, sf, visualize_bwt=False):\n",
    "    for i in range(len(sf)):\n",
    "        if visualize_bwt:\n",
    "            print(sequence[sf[i]-1:])\n",
    "        else:\n",
    "            print(sequence[sf[i]:])\n",
    "    return"
   ]
  },
  {
   "cell_type": "markdown",
   "id": "99481c90",
   "metadata": {},
   "source": [
    "#### Testons notre fonction"
   ]
  },
  {
   "cell_type": "code",
   "execution_count": 37,
   "id": "50ee964b",
   "metadata": {
    "scrolled": true
   },
   "outputs": [
    {
     "name": "stdout",
     "output_type": "stream",
     "text": [
      "[25, 24, 5, 15, 0, 10, 11, 3, 17, 19, 21, 12, 7, 23, 14, 9, 2, 6, 4, 16, 18, 20, 22, 13, 8, 1]\n"
     ]
    }
   ],
   "source": [
    "test_2='ATGCTAGCTGCCCTGATCTCTCTGA!'\n",
    "suffix_array_2_with_p12=almost_dc3_with_p12(asciiDC3(test_2)) \n",
    "print(suffix_array_2_with_p12)\n"
   ]
  },
  {
   "cell_type": "code",
   "execution_count": 38,
   "id": "dffe1a95",
   "metadata": {},
   "outputs": [
    {
     "name": "stdout",
     "output_type": "stream",
     "text": [
      "!\n",
      "A!\n",
      "AGCTGCCCTGATCTCTCTGA!\n",
      "ATCTCTCTGA!\n",
      "ATGCTAGCTGCCCTGATCTCTCTGA!\n",
      "CCCTGATCTCTCTGA!\n",
      "CCTGATCTCTCTGA!\n",
      "CTAGCTGCCCTGATCTCTCTGA!\n",
      "CTCTCTGA!\n",
      "CTCTGA!\n",
      "CTGA!\n",
      "CTGATCTCTCTGA!\n",
      "CTGCCCTGATCTCTCTGA!\n",
      "GA!\n",
      "GATCTCTCTGA!\n",
      "GCCCTGATCTCTCTGA!\n",
      "GCTAGCTGCCCTGATCTCTCTGA!\n",
      "GCTGCCCTGATCTCTCTGA!\n",
      "TAGCTGCCCTGATCTCTCTGA!\n",
      "TCTCTCTGA!\n",
      "TCTCTGA!\n",
      "TCTGA!\n",
      "TGA!\n",
      "TGATCTCTCTGA!\n",
      "TGCCCTGATCTCTCTGA!\n",
      "TGCTAGCTGCCCTGATCTCTCTGA!\n"
     ]
    }
   ],
   "source": [
    "print_suffix_table(test_2,suffix_array_2_with_p12)"
   ]
  },
  {
   "cell_type": "code",
   "execution_count": 39,
   "id": "04eb18f8",
   "metadata": {},
   "outputs": [
    {
     "name": "stdout",
     "output_type": "stream",
     "text": [
      "AGTG!GCGTTTCGTTTTACACCCCCA\n"
     ]
    }
   ],
   "source": [
    "print(BWT_suffix_table(test_2, True))"
   ]
  },
  {
   "cell_type": "code",
   "execution_count": 40,
   "id": "2d180ff4",
   "metadata": {},
   "outputs": [
    {
     "name": "stdout",
     "output_type": "stream",
     "text": [
      "AGTG!GCGT3CGT4ACAC5A\n"
     ]
    }
   ],
   "source": [
    "print(run_length_encoding(BWT_suffix_table(test_2, True)))"
   ]
  },
  {
   "cell_type": "markdown",
   "id": "d951740a",
   "metadata": {},
   "source": [
    "BWT sur notre génome"
   ]
  },
  {
   "cell_type": "code",
   "execution_count": 41,
   "id": "e856d22b",
   "metadata": {},
   "outputs": [
    {
     "name": "stdout",
     "output_type": "stream",
     "text": [
      "ACT2AT2A5TA4CA10GA8TACA5CATACA2TA2TAGA8CA2CA6G2CA3GA11CA2TA12TA3TA4TA4TA5CA13CA2TA3CA3TA7CA3TA6TGTA2\n"
     ]
    }
   ],
   "source": [
    "bwt_T=BWT_suffix_table(genome[1].seq.upper())\n",
    "print(run_length_encoding(bwt_T)[:100])"
   ]
  },
  {
   "cell_type": "markdown",
   "id": "6bb32ed0",
   "metadata": {},
   "source": [
    "Mesurons le temps que l'opération prend"
   ]
  },
  {
   "cell_type": "code",
   "execution_count": 42,
   "id": "a352f194",
   "metadata": {},
   "outputs": [
    {
     "name": "stdout",
     "output_type": "stream",
     "text": [
      "Sat Nov  4 17:30:24 2023    bwt_stats\n",
      "\n",
      "         38466892 function calls (38466887 primitive calls) in 28.316 seconds\n",
      "\n",
      "   Ordered by: cumulative time\n",
      "\n",
      "   ncalls  tottime  percall  cumtime  percall filename:lineno(function)\n",
      "        1    0.000    0.000   28.316   28.316 {built-in method builtins.exec}\n",
      "        1    0.031    0.031   28.316   28.316 <string>:1(<module>)\n",
      "        1    0.744    0.744   27.825   27.825 /tmp/ipykernel_8653/2127043640.py:1(BWT_suffix_table)\n",
      "      6/1    1.071    0.179   25.488   25.488 /tmp/ipykernel_8653/3778850517.py:1(almost_dc3_with_p12)\n",
      "       12    0.136    0.011    7.377    0.615 /tmp/ipykernel_8653/2101628537.py:1(sort_with_p12)\n",
      "       30    7.240    0.241    7.240    0.241 /tmp/ipykernel_8653/2101628537.py:18(countingSortByDigit_with_p12)\n",
      "        6    3.474    0.579    4.087    0.681 /tmp/ipykernel_8653/4110635339.py:1(merge_with_p12)\n",
      "        6    3.314    0.552    3.456    0.576 /tmp/ipykernel_8653/3786488779.py:1(position0_R0_p0)\n",
      "        6    3.235    0.539    3.326    0.554 /tmp/ipykernel_8653/2868372930.py:1(radix_with_p12)\n",
      "        6    1.437    0.240    2.481    0.414 /tmp/ipykernel_8653/2442398083.py:8(ordre_with_p12)\n",
      "   947103    0.332    0.000    1.320    0.000 /home/azarkua/.local/lib/python3.10/site-packages/Bio/Seq.py:470(__getitem__)\n",
      "        6    0.645    0.107    1.070    0.178 /tmp/ipykernel_8653/456097855.py:1(alphabetR0_with_p12)\n",
      "        6    0.550    0.092    0.993    0.166 /tmp/ipykernel_8653/150808864.py:1(alphabetT)\n",
      "  1727914    0.863    0.000    0.955    0.000 /tmp/ipykernel_8653/2442398083.py:1(triplets_are_equal)\n",
      "   947107    0.233    0.000    0.931    0.000 {built-in method builtins.isinstance}\n",
      " 16415240    0.852    0.000    0.852    0.000 {method 'append' of 'list' objects}\n",
      "   947104    0.145    0.000    0.698    0.000 /usr/lib/python3.10/abc.py:117(__instancecheck__)\n",
      " 11891008    0.674    0.000    0.674    0.000 {built-in method builtins.len}\n",
      "        6    0.488    0.081    0.577    0.096 /tmp/ipykernel_8653/3648738200.py:1(position1_2)\n",
      "        5    0.561    0.112    0.561    0.112 /tmp/ipykernel_8653/1454108679.py:1(resumeHigherOrder_with_p12)\n",
      "   947104    0.236    0.000    0.553    0.000 {built-in method _abc._abc_instancecheck}\n",
      "       12    0.539    0.045    0.539    0.045 {method 'sort' of 'list' objects}\n",
      "        1    0.381    0.381    0.459    0.459 /tmp/ipykernel_8653/1118574164.py:1(run_length_encoding)\n",
      "        5    0.369    0.074    0.453    0.091 /tmp/ipykernel_8653/1369769413.py:1(Tprime_with_p12)\n",
      "   947103    0.136    0.000    0.317    0.000 /usr/lib/python3.10/abc.py:121(__subclasscheck__)\n",
      "        1    0.183    0.183    0.273    0.273 /tmp/ipykernel_8653/2880403939.py:1(asciiDC3)\n",
      "   947103    0.181    0.000    0.181    0.000 {built-in method _abc._abc_subclasscheck}\n",
      "   855761    0.125    0.000    0.125    0.000 {built-in method builtins.min}\n",
      "   947103    0.057    0.000    0.057    0.000 {built-in method builtins.chr}\n",
      "   947103    0.049    0.000    0.049    0.000 {built-in method builtins.ord}\n",
      "        6    0.035    0.006    0.035    0.006 /tmp/ipykernel_8653/3946746901.py:1(removesentinel)\n",
      "        1    0.000    0.000    0.001    0.001 /home/azarkua/.local/lib/python3.10/site-packages/Bio/Seq.py:1233(upper)\n",
      "        1    0.000    0.000    0.000    0.000 {method 'upper' of 'bytes' objects}\n",
      "        1    0.000    0.000    0.000    0.000 /home/azarkua/.local/lib/python3.10/site-packages/Bio/Seq.py:495(__add__)\n",
      "        1    0.000    0.000    0.000    0.000 /home/azarkua/.local/lib/python3.10/site-packages/Bio/Seq.py:466(__iter__)\n",
      "        1    0.000    0.000    0.000    0.000 {method 'decode' of 'bytes' objects}\n",
      "        6    0.000    0.000    0.000    0.000 {method 'keys' of 'dict' objects}\n",
      "        2    0.000    0.000    0.000    0.000 /home/azarkua/.local/lib/python3.10/site-packages/Bio/Seq.py:1961(__init__)\n",
      "        1    0.000    0.000    0.000    0.000 /home/azarkua/.local/lib/python3.10/site-packages/Bio/SeqRecord.py:334(<lambda>)\n",
      "        1    0.000    0.000    0.000    0.000 {method 'disable' of '_lsprof.Profiler' objects}\n",
      "        1    0.000    0.000    0.000    0.000 {method 'encode' of 'str' objects}\n",
      "\n",
      "\n"
     ]
    },
    {
     "data": {
      "text/plain": [
       "<pstats.Stats at 0x7fb7797bb520>"
      ]
     },
     "execution_count": 42,
     "metadata": {},
     "output_type": "execute_result"
    }
   ],
   "source": [
    "cProfile.run(\"run_length_encoding(BWT_suffix_table(genome[1].seq.upper()))\", \"bwt_stats\")\n",
    "p = pstats.Stats(\"bwt_stats\")\n",
    "p.sort_stats(\"cumulative\").print_stats()"
   ]
  },
  {
   "cell_type": "markdown",
   "id": "f7e607d3",
   "metadata": {},
   "source": [
    "## String search with BWT"
   ]
  },
  {
   "cell_type": "markdown",
   "id": "e0cd292c",
   "metadata": {},
   "source": [
    "version du prof"
   ]
  },
  {
   "cell_type": "code",
   "execution_count": 43,
   "id": "f232b782",
   "metadata": {},
   "outputs": [],
   "source": [
    "from collections import Counter"
   ]
  },
  {
   "cell_type": "code",
   "execution_count": 44,
   "id": "d39b98d2",
   "metadata": {},
   "outputs": [],
   "source": [
    "def occurrence_indexer(S):\n",
    "    K = []\n",
    "    last_index = {}\n",
    "    for s in S:\n",
    "        if s not in last_index: \n",
    "            last_index[s] = 0\n",
    "        K.append(last_index[s])\n",
    "        last_index[s] += 1\n",
    "    return(K)\n",
    "\n",
    "def lettre_et_occurence(BWT,pattern_letter, position_in_BWT, occurence_index):\n",
    "    output=[]\n",
    "    for i in range(len(position_in_BWT)):\n",
    "        if BWT[position_in_BWT[i]]==pattern_letter:\n",
    "            output.append([BWT[position_in_BWT[i]],occurence_index[position_in_BWT[i]]])\n",
    "    return output\n",
    "\n",
    "def new_suffix_table_positions(BWT,letter_and_occurence, counts):\n",
    "    # Counter({'T': 3, 'A': 2, 'B': 2, 'C': 2, '!': 1})\n",
    "    output=[]\n",
    "    for i in range(len(letter_and_occurence)):\n",
    "        letter=letter_and_occurence[i][0]\n",
    "        occurence=letter_and_occurence[i][1]\n",
    "        new_position_to_evaluate=occurence + sum([counts[char] for char in counts if char < letter])\n",
    "        output.append(new_position_to_evaluate)\n",
    "    return output\n",
    "\n",
    "def initialize_suffix_table_positions(counts, pattern_letter):\n",
    "    start=sum([counts[char] for char in counts if char < pattern_letter])\n",
    "    end=start+counts[pattern_letter]\n",
    "    return [i for i in range(start, end)]\n",
    "    \n",
    "def find_patterns_in_sequence(sequence, pattern, sequence_has_end_character=False):\n",
    "    output=[]\n",
    "    \n",
    "    if sequence_has_end_character==False:\n",
    "        sequence += '!'\n",
    "        \n",
    "    sf=almost_dc3_with_p12(asciiDC3(sequence)) \n",
    "    BWT = \"\"\n",
    "    for i in sf:\n",
    "        BWT += sequence[i-1]\n",
    "    \n",
    "    \n",
    "    \n",
    "    #print(\"BWT\")\n",
    "    #print(BWT)\n",
    "    #print(\"\\n\")\n",
    "    occurence_index = occurrence_indexer(BWT)\n",
    "    #print('occurence_index')\n",
    "    #print(occurence_index)\n",
    "    #print(\"\\n\")\n",
    "    counts = Counter(BWT)\n",
    "    #print(\"counts\")\n",
    "    #print(counts)\n",
    "    #print(\"\\n\")\n",
    "    index=len(pattern)-1\n",
    "    pattern_letter=pattern[index]\n",
    "    \n",
    "    suffix_table_positions=initialize_suffix_table_positions(counts, pattern_letter)\n",
    "    #print(\"suffix_table_positions\")\n",
    "    #print(suffix_table_positions)\n",
    "    #print(\"\\n\")\n",
    "    while index>0 and len(suffix_table_positions)>0:\n",
    "        \n",
    "        index-=1\n",
    "        #print(\"index\")\n",
    "        #print(index)\n",
    "        #print(\"\\n\")\n",
    "        pattern_letter=pattern[index]\n",
    "        #print(\"pattern_letter\")\n",
    "        #print(pattern_letter)\n",
    "        #print(\"\\n\")\n",
    "        \n",
    "        A=lettre_et_occurence(BWT,pattern_letter,suffix_table_positions, occurence_index)\n",
    "        #print(\"A\")\n",
    "        #print(A)\n",
    "        #print(\"\\n\")\n",
    "        \n",
    "        suffix_table_positions=new_suffix_table_positions(BWT, A, counts)\n",
    "        #print(\"suffix_table_positions\")\n",
    "        #print(suffix_table_positions)\n",
    "        #print(\"\\n\")\n",
    "        \n",
    "        \n",
    "    for i in range(len(suffix_table_positions)):\n",
    "        output.append(sf[suffix_table_positions[i]])\n",
    "        \n",
    "\n",
    "    return output\n",
    "        \n",
    "    "
   ]
  },
  {
   "cell_type": "markdown",
   "id": "0ca1529c",
   "metadata": {},
   "source": [
    "#### Testons notre fonction"
   ]
  },
  {
   "cell_type": "code",
   "execution_count": 45,
   "id": "efbbfe6e",
   "metadata": {},
   "outputs": [
    {
     "name": "stdout",
     "output_type": "stream",
     "text": [
      "[26, 21, 0, 22, 1, 23, 2, 24, 3, 25, 4, 5, 6, 7, 8, 9, 10, 11, 12, 13, 14, 20, 19, 18, 17, 16, 15]\n"
     ]
    }
   ],
   "source": [
    "test_mltpl='ABCDEFGHIJKLMNOPPPPPPABCDE!'\n",
    "sf=almost_dc3_with_p12(asciiDC3(test_mltpl))\n",
    "print(sf)"
   ]
  },
  {
   "cell_type": "code",
   "execution_count": 46,
   "id": "433cc1bf",
   "metadata": {},
   "outputs": [
    {
     "name": "stdout",
     "output_type": "stream",
     "text": [
      "[]\n"
     ]
    }
   ],
   "source": [
    "positions_of_pattern=find_patterns_in_sequence(test_mltpl, 'GHIJZ', sequence_has_end_character=True)\n",
    "print(positions_of_pattern)\n",
    "for p in positions_of_pattern:\n",
    "    print(test_mltpl[p:p+6])\n"
   ]
  },
  {
   "cell_type": "code",
   "execution_count": 47,
   "id": "a1890a54",
   "metadata": {},
   "outputs": [],
   "source": [
    "#print_suffix_table(test_mltpl, sf, visualize_bwt=True)"
   ]
  },
  {
   "cell_type": "markdown",
   "id": "dd9f273c",
   "metadata": {},
   "source": [
    "### Testons avec notre génome"
   ]
  },
  {
   "cell_type": "code",
   "execution_count": 48,
   "id": "d5f1e782",
   "metadata": {},
   "outputs": [
    {
     "data": {
      "text/plain": [
       "Seq('AACCCTAAACCCTAAACCCTAAACCCTAAACCCTAAACCCTAAACCTAAACCCT...TCA')"
      ]
     },
     "execution_count": 48,
     "metadata": {},
     "output_type": "execute_result"
    }
   ],
   "source": [
    "genome[1].seq.upper()"
   ]
  },
  {
   "cell_type": "code",
   "execution_count": 49,
   "id": "872d1a0c",
   "metadata": {},
   "outputs": [
    {
     "data": {
      "text/plain": [
       "Seq('AACCCTAAAC')"
      ]
     },
     "execution_count": 49,
     "metadata": {},
     "output_type": "execute_result"
    }
   ],
   "source": [
    "pattern=genome[1].seq.upper()[:10]\n",
    "pattern"
   ]
  },
  {
   "cell_type": "code",
   "execution_count": 50,
   "id": "663082ec",
   "metadata": {},
   "outputs": [
    {
     "name": "stdout",
     "output_type": "stream",
     "text": [
      "[0, 7, 14, 21, 28, 35, 55, 75, 82, 96, 103, 117, 131, 138, 158, 171, 185, 227, 241, 254, 261, 268, 275, 301, 315, 328, 335, 355, 362, 383, 404, 425, 439, 459, 480, 487, 501, 515, 529, 543, 563, 570, 584, 598, 611, 625, 644, 658, 685, 692, 704, 711, 718, 752, 766, 773, 780, 787, 794, 801, 815, 822, 836, 856, 863, 877, 884, 898, 905, 912, 954, 968, 975, 989, 1003, 1023, 1030, 1037, 1065, 1079, 1092, 1106, 1113, 1120, 1133, 164939]\n"
     ]
    }
   ],
   "source": [
    "positions_of_pattern=find_patterns_in_sequence(genome[1].seq.upper(), pattern, sequence_has_end_character=False)\n",
    "print(sorted(positions_of_pattern))\n",
    "#for p in positions_of_pattern:\n",
    "    #print(genome[1].seq.upper()[p:p+len(pattern)])"
   ]
  },
  {
   "cell_type": "code",
   "execution_count": 51,
   "id": "48c22a3e",
   "metadata": {},
   "outputs": [
    {
     "name": "stdout",
     "output_type": "stream",
     "text": [
      "Sat Nov  4 17:31:12 2023    pattern_matching_stats\n",
      "\n",
      "         38139081 function calls (38139075 primitive calls) in 28.244 seconds\n",
      "\n",
      "   Ordered by: cumulative time\n",
      "\n",
      "   ncalls  tottime  percall  cumtime  percall filename:lineno(function)\n",
      "        1    0.000    0.000   28.244   28.244 {built-in method builtins.exec}\n",
      "        1    0.042    0.042   28.244   28.244 <string>:1(<module>)\n",
      "        1    0.757    0.757   28.202   28.202 /tmp/ipykernel_8653/231063892.py:33(find_patterns_in_sequence)\n",
      "      6/1    1.076    0.179   25.395   25.395 /tmp/ipykernel_8653/3778850517.py:1(almost_dc3_with_p12)\n",
      "       12    0.137    0.011    7.294    0.608 /tmp/ipykernel_8653/2101628537.py:1(sort_with_p12)\n",
      "       30    7.157    0.239    7.157    0.239 /tmp/ipykernel_8653/2101628537.py:18(countingSortByDigit_with_p12)\n",
      "        6    5.490    0.915    5.575    0.929 /tmp/ipykernel_8653/2868372930.py:1(radix_with_p12)\n",
      "        6    3.480    0.580    4.082    0.680 /tmp/ipykernel_8653/4110635339.py:1(merge_with_p12)\n",
      "        6    1.432    0.239    2.461    0.410 /tmp/ipykernel_8653/2442398083.py:8(ordre_with_p12)\n",
      "   947113    0.335    0.000    1.323    0.000 /home/azarkua/.local/lib/python3.10/site-packages/Bio/Seq.py:470(__getitem__)\n",
      "        6    1.098    0.183    1.242    0.207 /tmp/ipykernel_8653/3786488779.py:1(position0_R0_p0)\n",
      "        6    0.646    0.108    1.078    0.180 /tmp/ipykernel_8653/456097855.py:1(alphabetR0_with_p12)\n",
      "        6    0.554    0.092    0.979    0.163 /tmp/ipykernel_8653/150808864.py:1(alphabetT)\n",
      "  1727914    0.855    0.000    0.941    0.000 /tmp/ipykernel_8653/2442398083.py:1(triplets_are_equal)\n",
      "   947118    0.232    0.000    0.930    0.000 {built-in method builtins.isinstance}\n",
      " 17470231    0.874    0.000    0.874    0.000 {method 'append' of 'list' objects}\n",
      "   947115    0.146    0.000    0.698    0.000 /usr/lib/python3.10/abc.py:117(__instancecheck__)\n",
      "10400305/10400304    0.587    0.000    0.587    0.000 {built-in method builtins.len}\n",
      "        6    0.494    0.082    0.574    0.096 /tmp/ipykernel_8653/3648738200.py:1(position1_2)\n",
      "        5    0.555    0.111    0.555    0.111 /tmp/ipykernel_8653/1454108679.py:1(resumeHigherOrder_with_p12)\n",
      "   947115    0.233    0.000    0.552    0.000 {built-in method _abc._abc_instancecheck}\n",
      "       12    0.537    0.045    0.537    0.045 {method 'sort' of 'list' objects}\n",
      "        5    0.365    0.073    0.446    0.089 /tmp/ipykernel_8653/1369769413.py:1(Tprime_with_p12)\n",
      "   947113    0.136    0.000    0.319    0.000 /usr/lib/python3.10/abc.py:121(__subclasscheck__)\n",
      "        1    0.185    0.185    0.280    0.280 /tmp/ipykernel_8653/2880403939.py:1(asciiDC3)\n",
      "        1    0.207    0.207    0.253    0.253 /tmp/ipykernel_8653/231063892.py:1(occurrence_indexer)\n",
      "   947113    0.183    0.000    0.183    0.000 {built-in method _abc._abc_subclasscheck}\n",
      "   855761    0.121    0.000    0.121    0.000 {built-in method builtins.min}\n",
      "        9    0.097    0.011    0.099    0.011 /tmp/ipykernel_8653/231063892.py:11(lettre_et_occurence)\n",
      "   947113    0.058    0.000    0.058    0.000 {built-in method builtins.chr}\n",
      "        9    0.031    0.003    0.057    0.006 /tmp/ipykernel_8653/231063892.py:18(new_suffix_table_positions)\n",
      "   947103    0.048    0.000    0.048    0.000 {built-in method builtins.ord}\n",
      "        6    0.035    0.006    0.035    0.006 /tmp/ipykernel_8653/3946746901.py:1(removesentinel)\n",
      "        1    0.000    0.000    0.034    0.034 /usr/lib/python3.10/collections/__init__.py:565(__init__)\n",
      "        1    0.000    0.000    0.034    0.034 /usr/lib/python3.10/collections/__init__.py:640(update)\n",
      "        1    0.034    0.034    0.034    0.034 {built-in method _collections._count_elements}\n",
      "    53901    0.019    0.000    0.019    0.000 /tmp/ipykernel_8653/231063892.py:24(<listcomp>)\n",
      "    53902    0.004    0.000    0.004    0.000 {built-in method builtins.sum}\n",
      "        1    0.000    0.000    0.003    0.003 /tmp/ipykernel_8653/231063892.py:28(initialize_suffix_table_positions)\n",
      "        1    0.003    0.003    0.003    0.003 /tmp/ipykernel_8653/231063892.py:31(<listcomp>)\n",
      "        1    0.000    0.000    0.001    0.001 /home/azarkua/.local/lib/python3.10/site-packages/Bio/Seq.py:1233(upper)\n",
      "        1    0.000    0.000    0.000    0.000 {method 'upper' of 'bytes' objects}\n",
      "        1    0.000    0.000    0.000    0.000 /home/azarkua/.local/lib/python3.10/site-packages/Bio/Seq.py:495(__add__)\n",
      "        1    0.000    0.000    0.000    0.000 /home/azarkua/.local/lib/python3.10/site-packages/Bio/Seq.py:466(__iter__)\n",
      "        1    0.000    0.000    0.000    0.000 {method 'decode' of 'bytes' objects}\n",
      "        6    0.000    0.000    0.000    0.000 {method 'keys' of 'dict' objects}\n",
      "        2    0.000    0.000    0.000    0.000 /home/azarkua/.local/lib/python3.10/site-packages/Bio/Seq.py:1961(__init__)\n",
      "        1    0.000    0.000    0.000    0.000 /tmp/ipykernel_8653/231063892.py:29(<listcomp>)\n",
      "        1    0.000    0.000    0.000    0.000 /home/azarkua/.local/lib/python3.10/site-packages/Bio/Seq.py:462(__len__)\n",
      "        1    0.000    0.000    0.000    0.000 {method 'disable' of '_lsprof.Profiler' objects}\n",
      "        1    0.000    0.000    0.000    0.000 /home/azarkua/.local/lib/python3.10/site-packages/Bio/SeqRecord.py:334(<lambda>)\n",
      "        1    0.000    0.000    0.000    0.000 {method 'encode' of 'str' objects}\n",
      "\n",
      "\n"
     ]
    },
    {
     "data": {
      "text/plain": [
       "<pstats.Stats at 0x7fb7797bb070>"
      ]
     },
     "execution_count": 51,
     "metadata": {},
     "output_type": "execute_result"
    }
   ],
   "source": [
    "cProfile.run(\"find_patterns_in_sequence(genome[1].seq.upper(), pattern, sequence_has_end_character=False)\", \"pattern_matching_stats\")\n",
    "p = pstats.Stats(\"pattern_matching_stats\")\n",
    "p.sort_stats(\"cumulative\").print_stats()"
   ]
  },
  {
   "cell_type": "markdown",
   "id": "f90fab65",
   "metadata": {},
   "source": [
    "### Travaillons avec des kmers"
   ]
  },
  {
   "cell_type": "code",
   "execution_count": 256,
   "id": "6b313a23",
   "metadata": {},
   "outputs": [],
   "source": [
    "def assembler_des_kmers(numero_du_kmer, position_ds_genome,longueur, liste_position_kmers):\n",
    "    compteur_de_kmer=1 #compte le nb de kmers qu'on arrive à aligner\n",
    "    last_position=0\n",
    "    i=numero_du_kmer+1\n",
    "    difference=1\n",
    "    \n",
    "    while i<len(liste_position_kmers):\n",
    "        #print(\"i au début du while\")\n",
    "        #print(i)\n",
    "        #print(\"\\n\")\n",
    "        j=0\n",
    "        previous_compteur=compteur_de_kmer\n",
    "        #print(\"le compteur est à\")\n",
    "        #print(compteur_de_kmer)\n",
    "        #print(\"\\n\")\n",
    "        #print(\"on s'interesse au kmer numero\")\n",
    "        #print(i)\n",
    "        #print(\"qui est\")\n",
    "        #print(liste_position_kmers[i])\n",
    "        k=0\n",
    "        while j<len(liste_position_kmers[i]) and compteur_de_kmer==previous_compteur:\n",
    "            #print(\"on cherche la position\")\n",
    "            #print(position_ds_genome+difference)\n",
    "            if position_ds_genome+difference==liste_position_kmers[i][j]:\n",
    "                compteur_de_kmer+=1\n",
    "                last_position=liste_position_kmers[i][j]\n",
    "            j+=1\n",
    "            \n",
    "        if compteur_de_kmer==previous_compteur:\n",
    "            i+=longueur\n",
    "            difference+=longueur\n",
    "            if  i>= len(liste_position_kmers):\n",
    "                return [[position_ds_genome,last_position+longueur],compteur_de_kmer]\n",
    "            else:\n",
    "        \n",
    "                ### cas d'une mutation\n",
    "                #print(\"cas d'une mutation\")\n",
    "                #print(\"on s'interesse au kmer numero\")\n",
    "                #print(i)\n",
    "                #print(\"qui est\")\n",
    "                #print(liste_position_kmers[i])\n",
    "                k=0\n",
    "\n",
    "                while k<len(liste_position_kmers[i]) and compteur_de_kmer==previous_compteur:\n",
    "                    #print(\"on cherche la position\")\n",
    "                    #print(position_ds_genome+difference)\n",
    "                    if position_ds_genome+difference==liste_position_kmers[i][k]:\n",
    "                        compteur_de_kmer+=1\n",
    "                        last_position=liste_position_kmers[i][k]\n",
    "                    k+=1\n",
    "\n",
    "\n",
    "\n",
    "                if compteur_de_kmer==previous_compteur:\n",
    "                    ###cas d'une addition\n",
    "                    #print(\"cas d'une addition\")\n",
    "                    difference-=1\n",
    "                    l=0\n",
    "                    while l<len(liste_position_kmers[i]) and compteur_de_kmer==previous_compteur:\n",
    "\n",
    "                        if position_ds_genome+difference==liste_position_kmers[i][l]:\n",
    "                            compteur_de_kmer+=1\n",
    "                            last_position=liste_position_kmers[i][l]\n",
    "                        l+=1\n",
    "\n",
    "                    if compteur_de_kmer==previous_compteur:\n",
    "                        ###cas d'une déletions\n",
    "                        #print(\"cas d'une délétion\")\n",
    "                        difference+=1\n",
    "                        i-=1\n",
    "                        m=0\n",
    "                        while m<len(liste_position_kmers[i]) and compteur_de_kmer==previous_compteur:\n",
    "\n",
    "                            if position_ds_genome+difference==liste_position_kmers[i][m]:\n",
    "                                compteur_de_kmer+=1\n",
    "                                last_position=liste_position_kmers[i][m]\n",
    "                            m+=1\n",
    "\n",
    "                        if compteur_de_kmer==previous_compteur:\n",
    "                            ### cas où l'alignement est terminé\n",
    "                            return [[position_ds_genome,last_position+longueur],compteur_de_kmer]\n",
    "\n",
    "        i+=1\n",
    "        difference+=1   \n",
    "        \n",
    "    return [[position_ds_genome,last_position+longueur],compteur_de_kmer]"
   ]
  },
  {
   "cell_type": "code",
   "execution_count": 272,
   "id": "e6cadc01",
   "metadata": {},
   "outputs": [],
   "source": [
    "def kmer(sequence, longueur):\n",
    "    n = len(sequence)\n",
    "    kmer=[]\n",
    "    for i in range(n-longueur+1):\n",
    "        kmer.append(sequence[i:i+longueur])\n",
    "    return kmer\n",
    "    "
   ]
  },
  {
   "cell_type": "code",
   "execution_count": 273,
   "id": "e59f6238",
   "metadata": {},
   "outputs": [
    {
     "name": "stdout",
     "output_type": "stream",
     "text": [
      "22\n",
      "['ABCDE', 'BCDEF', 'CDEFG', 'DEFGH', 'EFGHI', 'FGHIJ', 'GHIJK', 'HIJKL', 'IJKLM', 'JKLMN', 'KLMNO', 'LMNOP', 'MNOPQ', 'NOPQR', 'OPQRS', 'PQRSZ', 'QRSZU', 'RSZUV']\n"
     ]
    }
   ],
   "source": [
    "read=\"ABCDEFGHIJKLMNOPQRSZUV\"\n",
    "print(len(read))\n",
    "print(kmer(read,5))"
   ]
  },
  {
   "cell_type": "code",
   "execution_count": 280,
   "id": "431b9294",
   "metadata": {},
   "outputs": [
    {
     "name": "stdout",
     "output_type": "stream",
     "text": [
      "['ABCDE', 'BCDEF', 'CDEFG', 'DEFGH', 'EFGHI', 'FGHIJ', 'GHIJK', 'HIJKL', 'IJKLM', 'JKLMN', 'KLMNO', 'LMNOP', 'MNOPQ', 'NOPQR', 'OPQRS', 'PQRSZ', 'QRSZU', 'RSZUV']\n",
      "18\n"
     ]
    }
   ],
   "source": [
    "genom=\"ABCDEFGHIJKLMNOPQRSTUVWPPPPPABCDEFGHWWWWWWWWWWNOPQRSTUV!\"\n",
    "liste_kmer=kmer(read, 5)\n",
    "print(liste_kmer)\n",
    "print(len(liste_kmer))"
   ]
  },
  {
   "cell_type": "code",
   "execution_count": 275,
   "id": "c5759944",
   "metadata": {},
   "outputs": [
    {
     "name": "stdout",
     "output_type": "stream",
     "text": [
      "[[0, 28], [1, 29], [2, 30], [3, 31], [4], [5], [6], [7], [8], [9], [10], [11], [12], [46, 13], [47, 14], [], [], []]\n",
      "5\n"
     ]
    }
   ],
   "source": [
    "positions=[]\n",
    "for i in range(len(liste_kmer)):\n",
    "    positions.append(find_patterns_in_sequence(genome, liste_kmer[i],sequence_has_end_character=True))\n",
    "print(positions)\n",
    "print(positions[5][0])"
   ]
  },
  {
   "cell_type": "code",
   "execution_count": 276,
   "id": "5c51c7ba",
   "metadata": {},
   "outputs": [
    {
     "data": {
      "text/plain": [
       "[[0, 19], 15]"
      ]
     },
     "execution_count": 276,
     "metadata": {},
     "output_type": "execute_result"
    }
   ],
   "source": [
    "assembler_des_kmers(0, positions[0][0],5,positions)"
   ]
  },
  {
   "cell_type": "code",
   "execution_count": 277,
   "id": "b2ce986e",
   "metadata": {},
   "outputs": [],
   "source": [
    "def alignement_maximum_de_kmer(liste_position_kmers, longueur):\n",
    "    output=[[0,0],0]\n",
    "    maximum=0\n",
    "    for i in range(longueur+1):\n",
    "        current_kmer=liste_position_kmers[i]\n",
    "        for p in current_kmer:\n",
    "            alignement=assembler_des_kmers(i, p, longueur, liste_position_kmers)\n",
    "            if maximum<alignement[1]:\n",
    "                output=alignement\n",
    "                maximum=alignement[1]\n",
    "    return output"
   ]
  },
  {
   "cell_type": "code",
   "execution_count": 278,
   "id": "f131cf23",
   "metadata": {},
   "outputs": [
    {
     "data": {
      "text/plain": [
       "[[0, 19], 15]"
      ]
     },
     "execution_count": 278,
     "metadata": {},
     "output_type": "execute_result"
    }
   ],
   "source": [
    "alignement_maximum_de_kmer(positions, 5)"
   ]
  },
  {
   "cell_type": "code",
   "execution_count": 285,
   "id": "b1c8d8b1",
   "metadata": {},
   "outputs": [
    {
     "ename": "KeyboardInterrupt",
     "evalue": "",
     "output_type": "error",
     "traceback": [
      "\u001b[0;31m---------------------------------------------------------------------------\u001b[0m",
      "\u001b[0;31mKeyboardInterrupt\u001b[0m                         Traceback (most recent call last)",
      "\u001b[0;32m/tmp/ipykernel_8653/359192722.py\u001b[0m in \u001b[0;36m<module>\u001b[0;34m\u001b[0m\n\u001b[1;32m      4\u001b[0m \u001b[0mposition\u001b[0m\u001b[0;34m=\u001b[0m\u001b[0;34m[\u001b[0m\u001b[0;34m]\u001b[0m\u001b[0;34m\u001b[0m\u001b[0;34m\u001b[0m\u001b[0m\n\u001b[1;32m      5\u001b[0m \u001b[0;32mfor\u001b[0m \u001b[0mi\u001b[0m \u001b[0;32min\u001b[0m \u001b[0mrange\u001b[0m\u001b[0;34m(\u001b[0m\u001b[0mlen\u001b[0m\u001b[0;34m(\u001b[0m\u001b[0mliste_de_kmer\u001b[0m\u001b[0;34m)\u001b[0m\u001b[0;34m)\u001b[0m\u001b[0;34m:\u001b[0m\u001b[0;34m\u001b[0m\u001b[0;34m\u001b[0m\u001b[0m\n\u001b[0;32m----> 6\u001b[0;31m     \u001b[0mposition\u001b[0m\u001b[0;34m.\u001b[0m\u001b[0mappend\u001b[0m\u001b[0;34m(\u001b[0m\u001b[0mfind_patterns_in_sequence\u001b[0m\u001b[0;34m(\u001b[0m\u001b[0mgenome\u001b[0m\u001b[0;34m[\u001b[0m\u001b[0;36m1\u001b[0m\u001b[0;34m]\u001b[0m\u001b[0;34m.\u001b[0m\u001b[0mseq\u001b[0m\u001b[0;34m.\u001b[0m\u001b[0mupper\u001b[0m\u001b[0;34m(\u001b[0m\u001b[0;34m)\u001b[0m\u001b[0;34m,\u001b[0m \u001b[0mliste_de_kmer\u001b[0m\u001b[0;34m[\u001b[0m\u001b[0mi\u001b[0m\u001b[0;34m]\u001b[0m\u001b[0;34m,\u001b[0m\u001b[0msequence_has_end_character\u001b[0m\u001b[0;34m=\u001b[0m\u001b[0;32mFalse\u001b[0m\u001b[0;34m)\u001b[0m\u001b[0;34m)\u001b[0m\u001b[0;34m\u001b[0m\u001b[0;34m\u001b[0m\u001b[0m\n\u001b[0m\u001b[1;32m      7\u001b[0m \u001b[0;34m\u001b[0m\u001b[0m\n\u001b[1;32m      8\u001b[0m \u001b[0mprint\u001b[0m\u001b[0;34m(\u001b[0m\u001b[0mposition\u001b[0m\u001b[0;34m[\u001b[0m\u001b[0;34m:\u001b[0m\u001b[0mmax\u001b[0m\u001b[0;34m(\u001b[0m\u001b[0;36m200\u001b[0m\u001b[0;34m,\u001b[0m \u001b[0mlen\u001b[0m\u001b[0;34m(\u001b[0m\u001b[0mposition\u001b[0m\u001b[0;34m)\u001b[0m\u001b[0;34m)\u001b[0m\u001b[0;34m]\u001b[0m\u001b[0;34m)\u001b[0m\u001b[0;34m\u001b[0m\u001b[0;34m\u001b[0m\u001b[0m\n",
      "\u001b[0;32m/tmp/ipykernel_8653/231063892.py\u001b[0m in \u001b[0;36mfind_patterns_in_sequence\u001b[0;34m(sequence, pattern, sequence_has_end_character)\u001b[0m\n\u001b[1;32m     37\u001b[0m         \u001b[0msequence\u001b[0m \u001b[0;34m+=\u001b[0m \u001b[0;34m'!'\u001b[0m\u001b[0;34m\u001b[0m\u001b[0;34m\u001b[0m\u001b[0m\n\u001b[1;32m     38\u001b[0m \u001b[0;34m\u001b[0m\u001b[0m\n\u001b[0;32m---> 39\u001b[0;31m     \u001b[0msf\u001b[0m\u001b[0;34m=\u001b[0m\u001b[0malmost_dc3_with_p12\u001b[0m\u001b[0;34m(\u001b[0m\u001b[0masciiDC3\u001b[0m\u001b[0;34m(\u001b[0m\u001b[0msequence\u001b[0m\u001b[0;34m)\u001b[0m\u001b[0;34m)\u001b[0m\u001b[0;34m\u001b[0m\u001b[0;34m\u001b[0m\u001b[0m\n\u001b[0m\u001b[1;32m     40\u001b[0m     \u001b[0mBWT\u001b[0m \u001b[0;34m=\u001b[0m \u001b[0;34m\"\"\u001b[0m\u001b[0;34m\u001b[0m\u001b[0;34m\u001b[0m\u001b[0m\n\u001b[1;32m     41\u001b[0m     \u001b[0;32mfor\u001b[0m \u001b[0mi\u001b[0m \u001b[0;32min\u001b[0m \u001b[0msf\u001b[0m\u001b[0;34m:\u001b[0m\u001b[0;34m\u001b[0m\u001b[0;34m\u001b[0m\u001b[0m\n",
      "\u001b[0;32m/tmp/ipykernel_8653/3778850517.py\u001b[0m in \u001b[0;36malmost_dc3_with_p12\u001b[0;34m(T)\u001b[0m\n\u001b[1;32m     11\u001b[0m     \u001b[0;32mif\u001b[0m \u001b[0mrepetition\u001b[0m\u001b[0;34m:\u001b[0m\u001b[0;34m\u001b[0m\u001b[0;34m\u001b[0m\u001b[0m\n\u001b[1;32m     12\u001b[0m         \u001b[0mTprim\u001b[0m\u001b[0;34m=\u001b[0m\u001b[0mTprime_with_p12\u001b[0m\u001b[0;34m(\u001b[0m\u001b[0mp12\u001b[0m\u001b[0;34m,\u001b[0m \u001b[0mindex12dict\u001b[0m\u001b[0;34m)\u001b[0m\u001b[0;34m+\u001b[0m\u001b[0;34m[\u001b[0m\u001b[0;36m0\u001b[0m\u001b[0;34m,\u001b[0m\u001b[0;36m0\u001b[0m\u001b[0;34m,\u001b[0m\u001b[0;36m0\u001b[0m\u001b[0;34m]\u001b[0m\u001b[0;34m\u001b[0m\u001b[0;34m\u001b[0m\u001b[0m\n\u001b[0;32m---> 13\u001b[0;31m         \u001b[0mindex012\u001b[0m\u001b[0;34m=\u001b[0m\u001b[0malmost_dc3_with_p12\u001b[0m\u001b[0;34m(\u001b[0m\u001b[0mTprim\u001b[0m\u001b[0;34m)\u001b[0m\u001b[0;34m\u001b[0m\u001b[0;34m\u001b[0m\u001b[0m\n\u001b[0m\u001b[1;32m     14\u001b[0m         \u001b[0mindex12dict\u001b[0m\u001b[0;34m=\u001b[0m\u001b[0mresumeHigherOrder_with_p12\u001b[0m\u001b[0;34m(\u001b[0m\u001b[0mindex012\u001b[0m\u001b[0;34m,\u001b[0m \u001b[0mp12\u001b[0m\u001b[0;34m)\u001b[0m\u001b[0;34m\u001b[0m\u001b[0;34m\u001b[0m\u001b[0m\n\u001b[1;32m     15\u001b[0m     \u001b[0mp0\u001b[0m\u001b[0;34m,\u001b[0m\u001b[0mr0p0\u001b[0m\u001b[0;34m=\u001b[0m\u001b[0mposition0_R0_p0\u001b[0m\u001b[0;34m(\u001b[0m\u001b[0mT\u001b[0m\u001b[0;34m,\u001b[0m \u001b[0mindex12dict\u001b[0m\u001b[0;34m)\u001b[0m\u001b[0;34m\u001b[0m\u001b[0;34m\u001b[0m\u001b[0m\n",
      "\u001b[0;32m/tmp/ipykernel_8653/3778850517.py\u001b[0m in \u001b[0;36malmost_dc3_with_p12\u001b[0;34m(T)\u001b[0m\n\u001b[1;32m     11\u001b[0m     \u001b[0;32mif\u001b[0m \u001b[0mrepetition\u001b[0m\u001b[0;34m:\u001b[0m\u001b[0;34m\u001b[0m\u001b[0;34m\u001b[0m\u001b[0m\n\u001b[1;32m     12\u001b[0m         \u001b[0mTprim\u001b[0m\u001b[0;34m=\u001b[0m\u001b[0mTprime_with_p12\u001b[0m\u001b[0;34m(\u001b[0m\u001b[0mp12\u001b[0m\u001b[0;34m,\u001b[0m \u001b[0mindex12dict\u001b[0m\u001b[0;34m)\u001b[0m\u001b[0;34m+\u001b[0m\u001b[0;34m[\u001b[0m\u001b[0;36m0\u001b[0m\u001b[0;34m,\u001b[0m\u001b[0;36m0\u001b[0m\u001b[0;34m,\u001b[0m\u001b[0;36m0\u001b[0m\u001b[0;34m]\u001b[0m\u001b[0;34m\u001b[0m\u001b[0;34m\u001b[0m\u001b[0m\n\u001b[0;32m---> 13\u001b[0;31m         \u001b[0mindex012\u001b[0m\u001b[0;34m=\u001b[0m\u001b[0malmost_dc3_with_p12\u001b[0m\u001b[0;34m(\u001b[0m\u001b[0mTprim\u001b[0m\u001b[0;34m)\u001b[0m\u001b[0;34m\u001b[0m\u001b[0;34m\u001b[0m\u001b[0m\n\u001b[0m\u001b[1;32m     14\u001b[0m         \u001b[0mindex12dict\u001b[0m\u001b[0;34m=\u001b[0m\u001b[0mresumeHigherOrder_with_p12\u001b[0m\u001b[0;34m(\u001b[0m\u001b[0mindex012\u001b[0m\u001b[0;34m,\u001b[0m \u001b[0mp12\u001b[0m\u001b[0;34m)\u001b[0m\u001b[0;34m\u001b[0m\u001b[0;34m\u001b[0m\u001b[0m\n\u001b[1;32m     15\u001b[0m     \u001b[0mp0\u001b[0m\u001b[0;34m,\u001b[0m\u001b[0mr0p0\u001b[0m\u001b[0;34m=\u001b[0m\u001b[0mposition0_R0_p0\u001b[0m\u001b[0;34m(\u001b[0m\u001b[0mT\u001b[0m\u001b[0;34m,\u001b[0m \u001b[0mindex12dict\u001b[0m\u001b[0;34m)\u001b[0m\u001b[0;34m\u001b[0m\u001b[0;34m\u001b[0m\u001b[0m\n",
      "\u001b[0;32m/tmp/ipykernel_8653/3778850517.py\u001b[0m in \u001b[0;36malmost_dc3_with_p12\u001b[0;34m(T)\u001b[0m\n\u001b[1;32m     11\u001b[0m     \u001b[0;32mif\u001b[0m \u001b[0mrepetition\u001b[0m\u001b[0;34m:\u001b[0m\u001b[0;34m\u001b[0m\u001b[0;34m\u001b[0m\u001b[0m\n\u001b[1;32m     12\u001b[0m         \u001b[0mTprim\u001b[0m\u001b[0;34m=\u001b[0m\u001b[0mTprime_with_p12\u001b[0m\u001b[0;34m(\u001b[0m\u001b[0mp12\u001b[0m\u001b[0;34m,\u001b[0m \u001b[0mindex12dict\u001b[0m\u001b[0;34m)\u001b[0m\u001b[0;34m+\u001b[0m\u001b[0;34m[\u001b[0m\u001b[0;36m0\u001b[0m\u001b[0;34m,\u001b[0m\u001b[0;36m0\u001b[0m\u001b[0;34m,\u001b[0m\u001b[0;36m0\u001b[0m\u001b[0;34m]\u001b[0m\u001b[0;34m\u001b[0m\u001b[0;34m\u001b[0m\u001b[0m\n\u001b[0;32m---> 13\u001b[0;31m         \u001b[0mindex012\u001b[0m\u001b[0;34m=\u001b[0m\u001b[0malmost_dc3_with_p12\u001b[0m\u001b[0;34m(\u001b[0m\u001b[0mTprim\u001b[0m\u001b[0;34m)\u001b[0m\u001b[0;34m\u001b[0m\u001b[0;34m\u001b[0m\u001b[0m\n\u001b[0m\u001b[1;32m     14\u001b[0m         \u001b[0mindex12dict\u001b[0m\u001b[0;34m=\u001b[0m\u001b[0mresumeHigherOrder_with_p12\u001b[0m\u001b[0;34m(\u001b[0m\u001b[0mindex012\u001b[0m\u001b[0;34m,\u001b[0m \u001b[0mp12\u001b[0m\u001b[0;34m)\u001b[0m\u001b[0;34m\u001b[0m\u001b[0;34m\u001b[0m\u001b[0m\n\u001b[1;32m     15\u001b[0m     \u001b[0mp0\u001b[0m\u001b[0;34m,\u001b[0m\u001b[0mr0p0\u001b[0m\u001b[0;34m=\u001b[0m\u001b[0mposition0_R0_p0\u001b[0m\u001b[0;34m(\u001b[0m\u001b[0mT\u001b[0m\u001b[0;34m,\u001b[0m \u001b[0mindex12dict\u001b[0m\u001b[0;34m)\u001b[0m\u001b[0;34m\u001b[0m\u001b[0;34m\u001b[0m\u001b[0m\n",
      "\u001b[0;32m/tmp/ipykernel_8653/3778850517.py\u001b[0m in \u001b[0;36malmost_dc3_with_p12\u001b[0;34m(T)\u001b[0m\n\u001b[1;32m     11\u001b[0m     \u001b[0;32mif\u001b[0m \u001b[0mrepetition\u001b[0m\u001b[0;34m:\u001b[0m\u001b[0;34m\u001b[0m\u001b[0;34m\u001b[0m\u001b[0m\n\u001b[1;32m     12\u001b[0m         \u001b[0mTprim\u001b[0m\u001b[0;34m=\u001b[0m\u001b[0mTprime_with_p12\u001b[0m\u001b[0;34m(\u001b[0m\u001b[0mp12\u001b[0m\u001b[0;34m,\u001b[0m \u001b[0mindex12dict\u001b[0m\u001b[0;34m)\u001b[0m\u001b[0;34m+\u001b[0m\u001b[0;34m[\u001b[0m\u001b[0;36m0\u001b[0m\u001b[0;34m,\u001b[0m\u001b[0;36m0\u001b[0m\u001b[0;34m,\u001b[0m\u001b[0;36m0\u001b[0m\u001b[0;34m]\u001b[0m\u001b[0;34m\u001b[0m\u001b[0;34m\u001b[0m\u001b[0m\n\u001b[0;32m---> 13\u001b[0;31m         \u001b[0mindex012\u001b[0m\u001b[0;34m=\u001b[0m\u001b[0malmost_dc3_with_p12\u001b[0m\u001b[0;34m(\u001b[0m\u001b[0mTprim\u001b[0m\u001b[0;34m)\u001b[0m\u001b[0;34m\u001b[0m\u001b[0;34m\u001b[0m\u001b[0m\n\u001b[0m\u001b[1;32m     14\u001b[0m         \u001b[0mindex12dict\u001b[0m\u001b[0;34m=\u001b[0m\u001b[0mresumeHigherOrder_with_p12\u001b[0m\u001b[0;34m(\u001b[0m\u001b[0mindex012\u001b[0m\u001b[0;34m,\u001b[0m \u001b[0mp12\u001b[0m\u001b[0;34m)\u001b[0m\u001b[0;34m\u001b[0m\u001b[0;34m\u001b[0m\u001b[0m\n\u001b[1;32m     15\u001b[0m     \u001b[0mp0\u001b[0m\u001b[0;34m,\u001b[0m\u001b[0mr0p0\u001b[0m\u001b[0;34m=\u001b[0m\u001b[0mposition0_R0_p0\u001b[0m\u001b[0;34m(\u001b[0m\u001b[0mT\u001b[0m\u001b[0;34m,\u001b[0m \u001b[0mindex12dict\u001b[0m\u001b[0;34m)\u001b[0m\u001b[0;34m\u001b[0m\u001b[0;34m\u001b[0m\u001b[0m\n",
      "\u001b[0;32m/tmp/ipykernel_8653/3778850517.py\u001b[0m in \u001b[0;36malmost_dc3_with_p12\u001b[0;34m(T)\u001b[0m\n\u001b[1;32m     11\u001b[0m     \u001b[0;32mif\u001b[0m \u001b[0mrepetition\u001b[0m\u001b[0;34m:\u001b[0m\u001b[0;34m\u001b[0m\u001b[0;34m\u001b[0m\u001b[0m\n\u001b[1;32m     12\u001b[0m         \u001b[0mTprim\u001b[0m\u001b[0;34m=\u001b[0m\u001b[0mTprime_with_p12\u001b[0m\u001b[0;34m(\u001b[0m\u001b[0mp12\u001b[0m\u001b[0;34m,\u001b[0m \u001b[0mindex12dict\u001b[0m\u001b[0;34m)\u001b[0m\u001b[0;34m+\u001b[0m\u001b[0;34m[\u001b[0m\u001b[0;36m0\u001b[0m\u001b[0;34m,\u001b[0m\u001b[0;36m0\u001b[0m\u001b[0;34m,\u001b[0m\u001b[0;36m0\u001b[0m\u001b[0;34m]\u001b[0m\u001b[0;34m\u001b[0m\u001b[0;34m\u001b[0m\u001b[0m\n\u001b[0;32m---> 13\u001b[0;31m         \u001b[0mindex012\u001b[0m\u001b[0;34m=\u001b[0m\u001b[0malmost_dc3_with_p12\u001b[0m\u001b[0;34m(\u001b[0m\u001b[0mTprim\u001b[0m\u001b[0;34m)\u001b[0m\u001b[0;34m\u001b[0m\u001b[0;34m\u001b[0m\u001b[0m\n\u001b[0m\u001b[1;32m     14\u001b[0m         \u001b[0mindex12dict\u001b[0m\u001b[0;34m=\u001b[0m\u001b[0mresumeHigherOrder_with_p12\u001b[0m\u001b[0;34m(\u001b[0m\u001b[0mindex012\u001b[0m\u001b[0;34m,\u001b[0m \u001b[0mp12\u001b[0m\u001b[0;34m)\u001b[0m\u001b[0;34m\u001b[0m\u001b[0;34m\u001b[0m\u001b[0m\n\u001b[1;32m     15\u001b[0m     \u001b[0mp0\u001b[0m\u001b[0;34m,\u001b[0m\u001b[0mr0p0\u001b[0m\u001b[0;34m=\u001b[0m\u001b[0mposition0_R0_p0\u001b[0m\u001b[0;34m(\u001b[0m\u001b[0mT\u001b[0m\u001b[0;34m,\u001b[0m \u001b[0mindex12dict\u001b[0m\u001b[0;34m)\u001b[0m\u001b[0;34m\u001b[0m\u001b[0;34m\u001b[0m\u001b[0m\n",
      "\u001b[0;32m/tmp/ipykernel_8653/3778850517.py\u001b[0m in \u001b[0;36malmost_dc3_with_p12\u001b[0;34m(T)\u001b[0m\n\u001b[1;32m     13\u001b[0m         \u001b[0mindex012\u001b[0m\u001b[0;34m=\u001b[0m\u001b[0malmost_dc3_with_p12\u001b[0m\u001b[0;34m(\u001b[0m\u001b[0mTprim\u001b[0m\u001b[0;34m)\u001b[0m\u001b[0;34m\u001b[0m\u001b[0;34m\u001b[0m\u001b[0m\n\u001b[1;32m     14\u001b[0m         \u001b[0mindex12dict\u001b[0m\u001b[0;34m=\u001b[0m\u001b[0mresumeHigherOrder_with_p12\u001b[0m\u001b[0;34m(\u001b[0m\u001b[0mindex012\u001b[0m\u001b[0;34m,\u001b[0m \u001b[0mp12\u001b[0m\u001b[0;34m)\u001b[0m\u001b[0;34m\u001b[0m\u001b[0;34m\u001b[0m\u001b[0m\n\u001b[0;32m---> 15\u001b[0;31m     \u001b[0mp0\u001b[0m\u001b[0;34m,\u001b[0m\u001b[0mr0p0\u001b[0m\u001b[0;34m=\u001b[0m\u001b[0mposition0_R0_p0\u001b[0m\u001b[0;34m(\u001b[0m\u001b[0mT\u001b[0m\u001b[0;34m,\u001b[0m \u001b[0mindex12dict\u001b[0m\u001b[0;34m)\u001b[0m\u001b[0;34m\u001b[0m\u001b[0;34m\u001b[0m\u001b[0m\n\u001b[0m\u001b[1;32m     16\u001b[0m     \u001b[0malphabet_r0\u001b[0m\u001b[0;34m=\u001b[0m\u001b[0malphabetR0_with_p12\u001b[0m\u001b[0;34m(\u001b[0m\u001b[0mr0p0\u001b[0m\u001b[0;34m)\u001b[0m\u001b[0;34m\u001b[0m\u001b[0;34m\u001b[0m\u001b[0m\n\u001b[1;32m     17\u001b[0m     \u001b[0mr0sorted\u001b[0m\u001b[0;34m=\u001b[0m\u001b[0msort_with_p12\u001b[0m\u001b[0;34m(\u001b[0m\u001b[0mr0p0\u001b[0m\u001b[0;34m,\u001b[0m\u001b[0malphabet_r0\u001b[0m \u001b[0;34m,\u001b[0m\u001b[0mcolumnNumber\u001b[0m\u001b[0;34m-\u001b[0m\u001b[0;36m1\u001b[0m\u001b[0;34m)\u001b[0m\u001b[0;34m\u001b[0m\u001b[0;34m\u001b[0m\u001b[0m\n",
      "\u001b[0;32m/tmp/ipykernel_8653/3786488779.py\u001b[0m in \u001b[0;36mposition0_R0_p0\u001b[0;34m(T, index12dict)\u001b[0m\n\u001b[1;32m     13\u001b[0m                 \u001b[0;31m#print(\"T[i+1]\")\u001b[0m\u001b[0;34m\u001b[0m\u001b[0;34m\u001b[0m\u001b[0m\n\u001b[1;32m     14\u001b[0m                 \u001b[0;31m#print(T[i+1])\u001b[0m\u001b[0;34m\u001b[0m\u001b[0;34m\u001b[0m\u001b[0m\n\u001b[0;32m---> 15\u001b[0;31m                 \u001b[0mR\u001b[0m\u001b[0;34m.\u001b[0m\u001b[0mappend\u001b[0m\u001b[0;34m(\u001b[0m\u001b[0;34m[\u001b[0m\u001b[0;34m[\u001b[0m\u001b[0mT\u001b[0m\u001b[0;34m[\u001b[0m\u001b[0mi\u001b[0m\u001b[0;34m]\u001b[0m\u001b[0;34m,\u001b[0m\u001b[0mindex12dict\u001b[0m\u001b[0;34m[\u001b[0m\u001b[0mi\u001b[0m\u001b[0;34m+\u001b[0m\u001b[0;36m1\u001b[0m\u001b[0;34m]\u001b[0m\u001b[0;34m]\u001b[0m\u001b[0;34m,\u001b[0m\u001b[0mposition\u001b[0m\u001b[0;34m[\u001b[0m\u001b[0;34m-\u001b[0m\u001b[0;36m1\u001b[0m\u001b[0;34m]\u001b[0m\u001b[0;34m]\u001b[0m\u001b[0;34m)\u001b[0m\u001b[0;34m\u001b[0m\u001b[0;34m\u001b[0m\u001b[0m\n\u001b[0m\u001b[1;32m     16\u001b[0m             \u001b[0;32melse\u001b[0m\u001b[0;34m:\u001b[0m\u001b[0;34m\u001b[0m\u001b[0;34m\u001b[0m\u001b[0m\n\u001b[1;32m     17\u001b[0m                 \u001b[0mR\u001b[0m\u001b[0;34m.\u001b[0m\u001b[0mappend\u001b[0m\u001b[0;34m(\u001b[0m\u001b[0;34m[\u001b[0m\u001b[0;34m[\u001b[0m\u001b[0mT\u001b[0m\u001b[0;34m[\u001b[0m\u001b[0mi\u001b[0m\u001b[0;34m]\u001b[0m\u001b[0;34m,\u001b[0m\u001b[0;36m1\u001b[0m\u001b[0;34m]\u001b[0m\u001b[0;34m,\u001b[0m\u001b[0mposition\u001b[0m\u001b[0;34m[\u001b[0m\u001b[0;34m-\u001b[0m\u001b[0;36m1\u001b[0m\u001b[0;34m]\u001b[0m\u001b[0;34m]\u001b[0m\u001b[0;34m)\u001b[0m \u001b[0;31m# car les sentinelles sont forcément les 1ères dans l'ordre alphabétique\u001b[0m\u001b[0;34m\u001b[0m\u001b[0;34m\u001b[0m\u001b[0m\n",
      "\u001b[0;31mKeyboardInterrupt\u001b[0m: "
     ]
    }
   ],
   "source": [
    "genome[1].seq.upper()\n",
    "reads[1].seq.upper()\n",
    "liste_de_kmer=kmer(reads[1].seq.upper(), 10)\n",
    "position=[]\n",
    "for i in range(len(liste_de_kmer)):\n",
    "    position.append(find_patterns_in_sequence(genome[1].seq.upper(), liste_de_kmer[i],sequence_has_end_character=False))\n",
    "\n",
    "print(position[:max(200, len(position))])\n",
    "\n"
   ]
  },
  {
   "cell_type": "code",
   "execution_count": null,
   "id": "c254023f",
   "metadata": {},
   "outputs": [],
   "source": []
  },
  {
   "cell_type": "raw",
   "id": "6f3c1ec6",
   "metadata": {},
   "source": [
    "def check_if_compatible_with_kmer(kmer_positions,suffix_table, suffix_table_positions,longueur):\n",
    "    output=[]\n",
    "    for position in suffix_table_positions:\n",
    "        print(\"position\")\n",
    "        print(position)\n",
    "        for start_of_kmer in kmer_positions:\n",
    "            if suffix_table[position]==start_of_kmer+2*longueur:\n",
    "                output.append(position)\n",
    "    return output\n",
    "\n",
    "def find_patterns_in_sequence_knowing_kmer(sequence, pattern, kmer_positions,longueur, sequence_has_end_character=False):\n",
    "    output=[]\n",
    "    \n",
    "    if sequence_has_end_character==False:\n",
    "        sequence += '!'\n",
    "        \n",
    "    sf=almost_dc3_with_p12(asciiDC3(sequence)) \n",
    "    BWT = \"\"\n",
    "    for i in sf:\n",
    "        BWT += sequence[i-1]\n",
    "    \n",
    "    \n",
    "    \n",
    "    #print(\"BWT\")\n",
    "    #print(BWT)\n",
    "    #print(\"\\n\")\n",
    "    occurence_index = occurrence_indexer(BWT)\n",
    "    #print('occurence_index')\n",
    "    #print(occurence_index)\n",
    "    #print(\"\\n\")\n",
    "    counts = Counter(BWT)\n",
    "    #print(\"counts\")\n",
    "    #print(counts)\n",
    "    #print(\"\\n\")\n",
    "    index=len(pattern)-1\n",
    "    pattern_letter=pattern[index]\n",
    "    \n",
    "    suffix_table_positions=initialize_suffix_table_positions(counts, pattern_letter)\n",
    "    \n",
    "    suffix_table_positions=check_if_compatible_with_kmer(kmer_positions,sf, suffix_table_positions,longueur)\n",
    "    #print(\"suffix_table_positions\")\n",
    "    #print(suffix_table_positions)\n",
    "    #print(\"\\n\")\n",
    "    while index>0 and len(suffix_table_positions)>0:\n",
    "        \n",
    "        index-=1\n",
    "        #print(\"index\")\n",
    "        #print(index)\n",
    "        #print(\"\\n\")\n",
    "        pattern_letter=pattern[index]\n",
    "        #print(\"pattern_letter\")\n",
    "        #print(pattern_letter)\n",
    "        #print(\"\\n\")\n",
    "        \n",
    "        A=lettre_et_occurence(BWT,pattern_letter,suffix_table_positions, occurence_index)\n",
    "        #print(\"A\")\n",
    "        #print(A)\n",
    "        #print(\"\\n\")\n",
    "        \n",
    "        suffix_table_positions=new_suffix_table_positions(BWT, A, counts)\n",
    "        #print(\"suffix_table_positions\")\n",
    "        #print(suffix_table_positions)\n",
    "        #print(\"\\n\")\n",
    "        \n",
    "        \n",
    "    for i in range(len(suffix_table_positions)):\n",
    "        output.append(sf[suffix_table_positions[i]])\n",
    "        \n",
    "\n",
    "    return output"
   ]
  },
  {
   "cell_type": "raw",
   "id": "5e8a2765",
   "metadata": {},
   "source": [
    "def naive_read_alignment(kmer, longueur, chromosome):\n",
    "    first_kmer=sorted(find_patterns_in_sequence(chromosome, kmer[0][1],sequence_has_end_character=False))\n",
    "    first_kmer_dict={}\n",
    "    for i in range(len(first_kmer)):\n",
    "        first_kmer_dict[first_kmer[i]+longueur]=0\n",
    "    second_kmer=sorted(find_patterns_in_sequence(chromosome, kmers[1][1],sequence_has_end_character=False))\n",
    "    for i in range(second_kmer):\n",
    "        if dict[second_kmer[i]]==0:\n",
    "            dict[second_kmer[i]]=1\n",
    "    return"
   ]
  },
  {
   "cell_type": "raw",
   "id": "bb1d19e6",
   "metadata": {},
   "source": [
    "def naive_read_reconstruction(kmers,longueur, chromosome):\n",
    "    first_kmer=sorted(find_patterns_in_sequence(chromosome, kmers[0][1],sequence_has_end_character=False))\n",
    "    output=[]\n",
    "    for i in range(len(kmers)):\n",
    "        new_kmer=sorted(find_patterns_in_sequence(chromosome, kmers[i],sequence_has_end_character=False)\n",
    "                 for first_index in range(len(first_kmer)):\n",
    "                     genome_position=first_kmer[first_index]\n",
    "                     second_index=0\n",
    "                     while genome_position>new_kmer[second_index] and new_kmer[second_index]<genome_position+len(longueur):\n",
    "                        if new_kmer[second_index]==genome_position+len(longueur):\n",
    "                            output\n",
    "                        second_index+=1\n",
    "                    while\n",
    "                     \n",
    "        end_of_precedent_kmer=M[0][0]\n",
    "    return"
   ]
  },
  {
   "cell_type": "raw",
   "id": "1414ca98",
   "metadata": {},
   "source": [
    "def assembler_des_kmers(numero_du_kmer, position_ds_genome,longueur, liste_position_kmers):\n",
    "    compteur_de_kmer=1 #compte le nb de kmers qu'on arrive à aligner\n",
    "    last_position=0\n",
    "    i=numero_du_kmer+1\n",
    "    difference=1\n",
    "    \n",
    "    while i<len(liste_position_kmers):\n",
    "        print(\"i au début du while\")\n",
    "        print(i)\n",
    "        print(\"\\n\")\n",
    "        j=0\n",
    "        previous_compteur=compteur_de_kmer\n",
    "        print(\"le compteur est à\")\n",
    "        print(compteur_de_kmer)\n",
    "        print(\"\\n\")\n",
    "        print(\"on s'interesse au kmer numero\")\n",
    "        print(i)\n",
    "        print(\"qui est\")\n",
    "        print(liste_position_kmers[i])\n",
    "        k=0\n",
    "        while j<len(liste_position_kmers[i]) and compteur_de_kmer==previous_compteur:\n",
    "            print(\"on cherche la position\")\n",
    "            print(position_ds_genome+difference)\n",
    "            if position_ds_genome+difference==liste_position_kmers[i][j]:\n",
    "                compteur_de_kmer+=1\n",
    "                last_position=liste_position_kmers[i][j]\n",
    "            j+=1\n",
    "            \n",
    "        if compteur_de_kmer==previous_compteur:\n",
    "            ### cas d'une mutation\n",
    "            print(\"cas d'une mutation\")\n",
    "            i+=longueur\n",
    "            difference+=longueur\n",
    "            print(\"on s'interesse au kmer numero\")\n",
    "            print(i)\n",
    "            print(\"qui est\")\n",
    "            print(liste_position_kmers[i])\n",
    "            k=0\n",
    "            \n",
    "            while k<len(liste_position_kmers[i]) and compteur_de_kmer==previous_compteur:\n",
    "                print(\"on cherche la position\")\n",
    "                print(position_ds_genome+difference)\n",
    "                if position_ds_genome+difference==liste_position_kmers[i][k]:\n",
    "                    compteur_de_kmer+=1\n",
    "                    last_position=liste_position_kmers[i][k]\n",
    "                k+=1\n",
    "                \n",
    "                \n",
    "                \n",
    "            if compteur_de_kmer==previous_compteur:\n",
    "                ###cas d'une addition\n",
    "                print(\"cas d'une addition\")\n",
    "                difference-=1\n",
    "                l=0\n",
    "                while l<len(liste_position_kmers[i]) and compteur_de_kmer==previous_compteur:\n",
    "                    \n",
    "                    if position_ds_genome+difference==liste_position_kmers[i][l]:\n",
    "                        compteur_de_kmer+=1\n",
    "                        last_position=liste_position_kmers[i][l]\n",
    "                    l+=1\n",
    "                \n",
    "                if compteur_de_kmer==previous_compteur:\n",
    "                    ###cas d'une déletions\n",
    "                    print(\"cas d'une délétion\")\n",
    "                    difference+=1\n",
    "                    i-=1\n",
    "                    m=0\n",
    "                    while m<len(liste_position_kmers[i]) and compteur_de_kmer==previous_compteur:\n",
    "                    \n",
    "                        if position_ds_genome+difference==liste_position_kmers[i][m]:\n",
    "                            compteur_de_kmer+=1\n",
    "                            last_position=liste_position_kmers[i][m]\n",
    "                        m+=1\n",
    "                        \n",
    "                    if compteur_de_kmer==previous_compteur:\n",
    "                        ### cas où l'alignement est terminé\n",
    "                        return [[position_ds_genome,last_position+longueur],compteur_de_kmer]\n",
    "\n",
    "        i+=1\n",
    "        difference+=1   \n",
    "        \n",
    "    return [[position_ds_genome,last_position+longueur],compteur_de_kmer]"
   ]
  },
  {
   "cell_type": "raw",
   "id": "62012fd5",
   "metadata": {},
   "source": [
    "def assembler_des_kmers(numero_du_kmer, position_ds_genome,longueur, liste_position_kmers):\n",
    "    compteur_de_kmer=1 #compte le nb de kmers qu'on arrive à aligner\n",
    "    last_position=0\n",
    "    i=numero_du_kmer+1\n",
    "    difference=i\n",
    "    \n",
    "    while i<len(liste_position_kmers):\n",
    "        previous_compteur=compteur_de_kmer\n",
    "        j=0\n",
    "        while j<len(liste_position_kmers[i]) and compteur_de_kmer==previous_compteur:\n",
    "            ## cas où tout marche\n",
    "            if position_ds_genome+difference==liste_position_kmers[i][j]:\n",
    "                compteur_de_kmer+=1\n",
    "                last_position=liste_position_kmers[i][j]\n",
    "                i+=1\n",
    "                \n",
    "            ## cas d'une déletion\n",
    "            elif position_ds_genome+difference==liste_position_kmers[i+longueur-1][j]:\n",
    "                i=i+longueur-1\n",
    "                compteur_de_kmer+=1\n",
    "                last_position=liste_position_kmers[i+longueur-1][j]\n",
    "                \n",
    "            ## cas d'une mutation\n",
    "            elif position_ds_genome+difference==liste_position_kmers[i+longueur][j]:\n",
    "                i=i+longueur\n",
    "                compteur_de_kmer+=1\n",
    "                last_position=liste_position_kmers[i+longueur][j]\n",
    "            ## cas d'une addition\n",
    "            elif position_ds_genome+difference-1==liste_position_kmers[i+longueur][j]:\n",
    "                i=i+longueur\n",
    "                difference-=1\n",
    "                compteur_de_kmer+=1\n",
    "                last_position=liste_position_kmers[i+longueur][j]\n",
    "                   \n",
    "            j+=1\n",
    "        \n",
    "        if compteur_de_kmer==previous_compteur:\n",
    "            return [[position_ds_genome,last_position+longueur],compteur_de_kmer]\n",
    "                    \n",
    "        \n",
    "    return [[position_ds_genome,last_position+longueur],compteur_de_kmer]"
   ]
  }
 ],
 "metadata": {
  "kernelspec": {
   "display_name": "Python 3 (ipykernel)",
   "language": "python",
   "name": "python3"
  },
  "language_info": {
   "codemirror_mode": {
    "name": "ipython",
    "version": 3
   },
   "file_extension": ".py",
   "mimetype": "text/x-python",
   "name": "python",
   "nbconvert_exporter": "python",
   "pygments_lexer": "ipython3",
   "version": "3.10.12"
  }
 },
 "nbformat": 4,
 "nbformat_minor": 5
}
