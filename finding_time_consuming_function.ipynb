{
 "cells": [
  {
   "cell_type": "markdown",
   "id": "cdb689bb",
   "metadata": {},
   "source": [
    "# STEP 1 "
   ]
  },
  {
   "cell_type": "code",
   "execution_count": 1,
   "id": "bf52a3d6",
   "metadata": {},
   "outputs": [
    {
     "name": "stderr",
     "output_type": "stream",
     "text": [
      "/usr/lib/python3/dist-packages/scipy/__init__.py:146: UserWarning: A NumPy version >=1.17.3 and <1.25.0 is required for this version of SciPy (detected version 1.26.1\n",
      "  warnings.warn(f\"A NumPy version >={np_minversion} and <{np_maxversion}\"\n"
     ]
    }
   ],
   "source": [
    "import time\n",
    "import matplotlib.pyplot as plt\n",
    "import pandas as pd\n",
    "import seaborn as sns"
   ]
  },
  {
   "cell_type": "code",
   "execution_count": 2,
   "id": "7166cabb",
   "metadata": {},
   "outputs": [],
   "source": [
    "def asciiDC3 (seq) : \n",
    "    asc=[]\n",
    "    for i in seq : \n",
    "        asc.append(ord(i))\n",
    "    \n",
    "    return asc+[0,0,0]"
   ]
  },
  {
   "cell_type": "code",
   "execution_count": 3,
   "id": "c807cbc7",
   "metadata": {},
   "outputs": [],
   "source": [
    "def position1_2 (asc):\n",
    "    ind1=[]\n",
    "    ind2=[]\n",
    "    for k in range(len(asc)-2):\n",
    "        #attention on a peut etre fait de la merde ici, pas sure du -2\n",
    "        if k%3==1 :\n",
    "            ind1.append(k)\n",
    "        if k%3==2:\n",
    "            ind2.append(k)\n",
    "    # dans le cas où T a un nombre d'élément multiple de 3, r12 ne contiendra pas le triplet [0,0,0].\n",
    "    # Or, la fonction, \"removesentinel\" retire 1 élément notre suffix table, pour justement se débarrasser de [0,0,0]\n",
    "    # J'ai donc décider de rajouter artificiellement [0,0,0] dans les cas où il n'est pas déjà là.\n",
    "    if len(asc)%3==0:\n",
    "        ind1.append(len(asc)-1-2)\n",
    "        \n",
    "    return ind1+ind2"
   ]
  },
  {
   "cell_type": "code",
   "execution_count": 4,
   "id": "2071f6d0",
   "metadata": {},
   "outputs": [],
   "source": [
    "def radix (p, t):\n",
    "    r=[]\n",
    "    for i in range(len(p)):\n",
    "        index=p[i]\n",
    "        r.append([t[index],t[index+1], t[index+2]])\n",
    "    return r"
   ]
  },
  {
   "cell_type": "code",
   "execution_count": 5,
   "id": "862523e6",
   "metadata": {},
   "outputs": [],
   "source": [
    "def sort(array,index, alphabet, columnNumber):\n",
    "    #print(\"array\")\n",
    "    #print(array)\n",
    "    #print(\"alphabet\")\n",
    "    #print(alphabet)\n",
    "    if len(array) == 0:\n",
    "        return array\n",
    "\n",
    "  # Perform counting sort on each column, starting at the last\n",
    "\n",
    "    column = columnNumber\n",
    "    while column>=0: # nous on met \"tant que l'indice est supérieur à 3\"\n",
    "        array, index = countingSortByDigit(array,index, alphabet, column)\n",
    "        column-=1 #change de colonne dans ton tableau\n",
    "\n",
    "    return array, index\n",
    "\n",
    "def countingSortByDigit(array, index, alphabet, column):\n",
    "    \"\"\"\n",
    "    ici possibleNumbers= nombre de chiffres possibles. Nous n'avons que 4 nombres (0,97,98,99)\n",
    "    \"\"\"\n",
    "\n",
    "    countIndex = -1\n",
    "    count = [0] * len(alphabet)\n",
    "    output = [None] * len(array)\n",
    "    outputIndex= [0] * len(array)\n",
    "\n",
    "  # Count frequencies\n",
    "    for i in range(0, len(array)):\n",
    "        #print(\"i \"+str(i))\n",
    "        #print(\"array[i] \"+ str(array[i]))\n",
    "        #print(\"column \"+str(column))\n",
    "        \n",
    "        countIndex = alphabet[array[i][column]]\n",
    "        count[countIndex] += 1\n",
    "\n",
    "  # Compute cumulates\n",
    "    for i in range(1, len(alphabet)):\n",
    "        count[i] += count[i - 1]\n",
    "\n",
    "  # Move records\n",
    "    for i in range(len(array) - 1, -1, -1):\n",
    "        countIndex = alphabet[array[i][column]]\n",
    "        count[countIndex] -= 1\n",
    "        output[count[countIndex]] = array[i]\n",
    "        outputIndex[count[countIndex]]=index[i]\n",
    "       \n",
    "    return output, outputIndex"
   ]
  },
  {
   "cell_type": "code",
   "execution_count": 6,
   "id": "55b65873",
   "metadata": {},
   "outputs": [],
   "source": [
    "def ordre(R):\n",
    "    # nous renovie la liste order du genre (1,2,2,3,4,4,5)  et un booléen indiquant s'il y a répétition\n",
    "    index=1\n",
    "    repetition=False\n",
    "    ordre=[1]\n",
    "    for i in range(1, len(R)): \n",
    "        if R[i-1]==R[i] : \n",
    "            ordre.append(index)\n",
    "            repetition=True\n",
    "        else : \n",
    "            index+=1\n",
    "            ordre.append(index)\n",
    "            \n",
    "    return ordre, repetition\n",
    "            "
   ]
  },
  {
   "cell_type": "code",
   "execution_count": 7,
   "id": "1e0182be",
   "metadata": {},
   "outputs": [],
   "source": [
    "def Tprime(ordre, p12, index):\n",
    "    t=[]\n",
    "    for p in p12:\n",
    "        for i in range(len(index)):\n",
    "            if index[i]==p : \n",
    "                t.append(ordre[i])\n",
    "    return t"
   ]
  },
  {
   "cell_type": "code",
   "execution_count": 8,
   "id": "3ff79b30",
   "metadata": {},
   "outputs": [],
   "source": [
    "def alphabetT(T):\n",
    "    ### à changer pcq c laid\n",
    "    dic={}\n",
    "    a=[]\n",
    "    for i in range(len(T)):\n",
    "        a.append(T[i])\n",
    "    a.sort() ## MDR CE SORT EST A CHANGER SERGIO VA NOUS TUER\n",
    "    \n",
    "    for element in a:\n",
    "        if not (element in dic):\n",
    "            dic[element]=len(dic)\n",
    "    return dic"
   ]
  },
  {
   "cell_type": "code",
   "execution_count": 9,
   "id": "4c0cc3b4",
   "metadata": {},
   "outputs": [],
   "source": [
    "def alphabetR0(R0):\n",
    "    ### à changer pcq c laid\n",
    "    dic={}\n",
    "    a=[]\n",
    "    for column in range(2):\n",
    "        for i in range(len(R0)):\n",
    "            a.append(R0[i][column])\n",
    "    a.sort() ## MDR CE SORT EST A CHANGER SERGIO VA NOUS TUER\n",
    "    \n",
    "    for element in a:\n",
    "        if not (element in dic):\n",
    "            dic[element]=len(dic)\n",
    "    return dic"
   ]
  },
  {
   "cell_type": "markdown",
   "id": "b1526855",
   "metadata": {},
   "source": [
    "## Testons nos fonctions sur un string simple"
   ]
  },
  {
   "cell_type": "code",
   "execution_count": 10,
   "id": "a0c3bfb7",
   "metadata": {},
   "outputs": [
    {
     "name": "stdout",
     "output_type": "stream",
     "text": [
      "[97, 98, 99, 97, 98, 99, 97, 99, 97, 98, 0, 0, 0]\n"
     ]
    }
   ],
   "source": [
    "S=\"abcabcacab\"\n",
    "T=asciiDC3(S)\n",
    "columnnumber=2\n",
    "print(T)"
   ]
  },
  {
   "cell_type": "code",
   "execution_count": 11,
   "id": "c148b266",
   "metadata": {},
   "outputs": [
    {
     "name": "stdout",
     "output_type": "stream",
     "text": [
      "[1, 4, 7, 10, 2, 5, 8]\n"
     ]
    }
   ],
   "source": [
    "p12=position1_2(T)\n",
    "print(p12)"
   ]
  },
  {
   "cell_type": "code",
   "execution_count": 12,
   "id": "92a6e443",
   "metadata": {},
   "outputs": [
    {
     "name": "stdout",
     "output_type": "stream",
     "text": [
      "[[98, 99, 97], [98, 99, 97], [99, 97, 98], [0, 0, 0], [99, 97, 98], [99, 97, 99], [97, 98, 0]]\n"
     ]
    }
   ],
   "source": [
    "R12=radix(p12, T)\n",
    "print(R12)"
   ]
  },
  {
   "cell_type": "code",
   "execution_count": 13,
   "id": "668ef633",
   "metadata": {},
   "outputs": [
    {
     "data": {
      "text/plain": [
       "{0: 0, 97: 1, 98: 2, 99: 3}"
      ]
     },
     "execution_count": 13,
     "metadata": {},
     "output_type": "execute_result"
    }
   ],
   "source": [
    "alph=alphabetT(T)\n",
    "alph"
   ]
  },
  {
   "cell_type": "code",
   "execution_count": 14,
   "id": "55af202e",
   "metadata": {},
   "outputs": [
    {
     "name": "stdout",
     "output_type": "stream",
     "text": [
      "[[0, 0, 0], [97, 98, 0], [98, 99, 97], [98, 99, 97], [99, 97, 98], [99, 97, 98], [99, 97, 99]]\n",
      "[10, 8, 1, 4, 7, 2, 5]\n"
     ]
    }
   ],
   "source": [
    "Rs12, index12= sort(R12,p12, alph, columnnumber)\n",
    "print(Rs12)\n",
    "print(index12)"
   ]
  },
  {
   "cell_type": "code",
   "execution_count": 15,
   "id": "a1730103",
   "metadata": {},
   "outputs": [
    {
     "name": "stdout",
     "output_type": "stream",
     "text": [
      "[1, 2, 3, 3, 4, 4, 5]\n",
      "True\n"
     ]
    }
   ],
   "source": [
    "order12, boolean =ordre(Rs12)\n",
    "print(order12)\n",
    "print(boolean)"
   ]
  },
  {
   "cell_type": "code",
   "execution_count": 16,
   "id": "c8262ba3",
   "metadata": {},
   "outputs": [
    {
     "name": "stdout",
     "output_type": "stream",
     "text": [
      "[3, 3, 4, 1, 4, 5, 2]\n"
     ]
    }
   ],
   "source": [
    "tprime=Tprime(order12, p12, index12)\n",
    "print(tprime)"
   ]
  },
  {
   "cell_type": "code",
   "execution_count": 17,
   "id": "9b51b456",
   "metadata": {},
   "outputs": [
    {
     "data": {
      "text/plain": [
       "[3, 3, 4, 1, 4, 5, 2, 0, 0, 0]"
      ]
     },
     "execution_count": 17,
     "metadata": {},
     "output_type": "execute_result"
    }
   ],
   "source": [
    "tprime=tprime+[0,0,0]\n",
    "tprime"
   ]
  },
  {
   "cell_type": "markdown",
   "id": "c5ed78b7",
   "metadata": {},
   "source": [
    "### On répète les opérations jusqu'à avoir aucun charactère répété dans T⁽n⁾"
   ]
  },
  {
   "cell_type": "code",
   "execution_count": 18,
   "id": "bffb0e63",
   "metadata": {},
   "outputs": [
    {
     "name": "stdout",
     "output_type": "stream",
     "text": [
      "[1, 4, 7, 2, 5]\n",
      "[[3, 4, 1], [4, 5, 2], [0, 0, 0], [4, 1, 4], [5, 2, 0]]\n",
      "{0: 0, 1: 1, 2: 2, 3: 3, 4: 4, 5: 5}\n",
      "[[0, 0, 0], [3, 4, 1], [4, 1, 4], [4, 5, 2], [5, 2, 0]]\n",
      "[7, 1, 2, 4, 5]\n",
      "[1, 2, 3, 4, 5]\n",
      "False\n"
     ]
    }
   ],
   "source": [
    "p12prime=position1_2(tprime)\n",
    "print(p12prime)\n",
    "R12prime=radix(p12prime, tprime)\n",
    "print(R12prime)\n",
    "alphprime=alphabetT(tprime)\n",
    "print(alphprime)\n",
    "Rs12prime, index12prime= sort(R12prime,p12prime, alphprime, columnnumber)\n",
    "print(Rs12prime)\n",
    "print(index12prime)\n",
    "order12prime, boolean =ordre(Rs12prime)\n",
    "print(order12prime)\n",
    "print(boolean)"
   ]
  },
  {
   "cell_type": "markdown",
   "id": "c1ab13fc",
   "metadata": {},
   "source": [
    "# STEP 2 "
   ]
  },
  {
   "cell_type": "code",
   "execution_count": 19,
   "id": "a0cf8c51",
   "metadata": {},
   "outputs": [],
   "source": [
    "import copy"
   ]
  },
  {
   "cell_type": "code",
   "execution_count": 20,
   "id": "cfd8c139",
   "metadata": {},
   "outputs": [],
   "source": [
    "def position0_R0(T, index12):\n",
    "    #attention T se finit avec trois 0\n",
    "    position=[]\n",
    "    R=[]\n",
    "    for i in range(len(T)-3): #on ne prend pas en compte les trois 0 sentinelle\n",
    "        if i%3==0:\n",
    "            position.append(i)\n",
    "            length_of_R=len(R)\n",
    "            k=0\n",
    "            while length_of_R==len(R):\n",
    "                if i+1<len(T)-3 and index12[k]==i+1:\n",
    "                    R.append([T[i],k+1])\n",
    "                if i+1>=len(T)-3 and index12[k]==1:\n",
    "                    R.append([T[i],1])# car les sentinelles sont forcément les 1ères dans l'ordre alphabétique\n",
    "                else:\n",
    "                    k+=1\n",
    "    return position, R"
   ]
  },
  {
   "cell_type": "markdown",
   "id": "59467f64",
   "metadata": {},
   "source": [
    "# Testons notre fonction avec le string T"
   ]
  },
  {
   "cell_type": "code",
   "execution_count": 21,
   "id": "98966086",
   "metadata": {},
   "outputs": [
    {
     "name": "stdout",
     "output_type": "stream",
     "text": [
      "[7, 1, 2, 4, 5]\n"
     ]
    },
    {
     "data": {
      "text/plain": [
       "[3, 3, 4, 1, 4, 5, 2, 0, 0, 0]"
      ]
     },
     "execution_count": 21,
     "metadata": {},
     "output_type": "execute_result"
    }
   ],
   "source": [
    "print(index12prime)\n",
    "tprime"
   ]
  },
  {
   "cell_type": "code",
   "execution_count": 22,
   "id": "76cdf6a4",
   "metadata": {},
   "outputs": [
    {
     "name": "stdout",
     "output_type": "stream",
     "text": [
      "[0, 3, 6]\n",
      "[[3, 2], [1, 4], [2, 1]]\n"
     ]
    }
   ],
   "source": [
    "p0prime, r0prime=position0_R0(tprime, index12prime)\n",
    "print(p0prime)\n",
    "print(r0prime)"
   ]
  },
  {
   "cell_type": "markdown",
   "id": "8f9976b0",
   "metadata": {},
   "source": [
    "# STEP 3"
   ]
  },
  {
   "cell_type": "code",
   "execution_count": 23,
   "id": "590120c0",
   "metadata": {},
   "outputs": [],
   "source": [
    "def merge(Tfinal, index_0, index12) : \n",
    "    liste=[]\n",
    "    A=0\n",
    "    B=0\n",
    "    while A<len(index_0) and B<len(index12):\n",
    "        #print(\"rentre dans le while\")\n",
    "        a=index_0[A]\n",
    "        b=index12[B]\n",
    "        if Tfinal[a]!=Tfinal[b] :\n",
    "            minimum=min(Tfinal[a], Tfinal[b])\n",
    "            \n",
    "            if minimum == Tfinal[a]:\n",
    "                #print(\"a= \"+str(a)+\", b= \"+str(b)+\", on append le \"+str(a))\n",
    "                A+=1\n",
    "                liste.append(a)\n",
    "            else: \n",
    "                #print(\"a= \"+str(a)+\", b= \"+str(b)+\", on append le \"+str(b))\n",
    "                B+=1\n",
    "                liste.append(b)\n",
    "\n",
    "        else :\n",
    "            if b%3==1 : \n",
    "                #print(str(b)+\" est congru à 1 modulo 3\")\n",
    "                longueur=len(liste)\n",
    "                i=0\n",
    "                while longueur==len(liste):\n",
    "                    #print(\"index12\")\n",
    "                    #print(index12)\n",
    "                    #print(\"a= \"+str(a)+\", b= \"+str(b))    \n",
    "                    if a+1==index12[i]:\n",
    "                        #print(str(a+1)+\" apparait en premier dans index12\")\n",
    "                        liste.append(a)\n",
    "                        A+=1\n",
    "                    elif b+1==index12[i]:\n",
    "                        #print(str(b+1)+\" apparait en premier dans index12\")\n",
    "                        liste.append(b)\n",
    "\n",
    "                        B+=1\n",
    "                    else:\n",
    "                        i+=1\n",
    "                    \n",
    "                    \n",
    "            elif b%3==2 :\n",
    "                #print(str(b)+\"est congru à 2 modulo 3\")\n",
    "                if Tfinal[a+1]!=Tfinal[b+1] :\n",
    "                    minimum=min(Tfinal[a], Tfinal[b])\n",
    "                    if minimum == Tfinal[a]:\n",
    "                        A+=1\n",
    "                        liste.append(a)\n",
    "                    else: \n",
    "                        B+=1\n",
    "                        liste.append(b)\n",
    "\n",
    "                else:\n",
    "                    for element in index12:\n",
    "                        if a+2==element:\n",
    "                            liste.append(a)\n",
    "                            A+=1\n",
    "                        elif b+2==element:\n",
    "                            liste.append(b)\n",
    "                            B+=1\n",
    "\n",
    "        #print(\"A \"+str(A))\n",
    "        #print(\"B \"+str(B))\n",
    "        if A==len(index_0):\n",
    "            for i in range(B, len(index12)):\n",
    "                liste.append(index12[i])\n",
    "        if B==len(index12):\n",
    "            for i in range(A, len(index_0)):\n",
    "                liste.append(index_0[i])\n",
    "\n",
    "    return liste"
   ]
  },
  {
   "cell_type": "code",
   "execution_count": 24,
   "id": "524072a3",
   "metadata": {},
   "outputs": [],
   "source": [
    "def removesentinel(index):\n",
    "    return index[1:]"
   ]
  },
  {
   "cell_type": "code",
   "execution_count": 25,
   "id": "2ece5a17",
   "metadata": {},
   "outputs": [],
   "source": [
    "def resumeHigherOrder(index012prime, P12):\n",
    "    output=[]\n",
    "    for element in index012prime:\n",
    "        output.append(P12[element])\n",
    "        \n",
    "    return output"
   ]
  },
  {
   "cell_type": "markdown",
   "id": "5f5804fd",
   "metadata": {},
   "source": [
    "### Testons notre fonction avec le string T"
   ]
  },
  {
   "cell_type": "code",
   "execution_count": 26,
   "id": "46322a7d",
   "metadata": {},
   "outputs": [
    {
     "name": "stdout",
     "output_type": "stream",
     "text": [
      "{1: 0, 2: 1, 3: 2, 4: 3}\n"
     ]
    }
   ],
   "source": [
    "alph0prime=alphabetR0(r0prime)\n",
    "print(alph0prime)"
   ]
  },
  {
   "cell_type": "code",
   "execution_count": 27,
   "id": "b583e1ca",
   "metadata": {},
   "outputs": [
    {
     "name": "stdout",
     "output_type": "stream",
     "text": [
      "[[1, 4], [2, 1], [3, 2]]\n",
      "[3, 6, 0]\n"
     ]
    }
   ],
   "source": [
    "r0sprime, index0prime= sort(r0prime,p0prime, alph0prime, columnnumber-1)\n",
    "print(r0sprime)\n",
    "print(index0prime)"
   ]
  },
  {
   "cell_type": "code",
   "execution_count": 28,
   "id": "c3e60696",
   "metadata": {},
   "outputs": [
    {
     "name": "stdout",
     "output_type": "stream",
     "text": [
      "[3, 3, 4, 1, 4, 5, 2, 0, 0, 0]\n",
      "[3, 6, 0]\n",
      "[7, 1, 2, 4, 5]\n"
     ]
    }
   ],
   "source": [
    "print(tprime)\n",
    "print(index0prime)\n",
    "print(index12prime)"
   ]
  },
  {
   "cell_type": "code",
   "execution_count": 29,
   "id": "eaf70d90",
   "metadata": {},
   "outputs": [
    {
     "data": {
      "text/plain": [
       "[7, 3, 6, 0, 1, 2, 4, 5]"
      ]
     },
     "execution_count": 29,
     "metadata": {},
     "output_type": "execute_result"
    }
   ],
   "source": [
    "index120prime=merge(tprime, index0prime, index12prime)\n",
    "index120prime"
   ]
  },
  {
   "cell_type": "markdown",
   "id": "880bb23d",
   "metadata": {},
   "source": [
    "# Assemblage final"
   ]
  },
  {
   "cell_type": "code",
   "execution_count": 30,
   "id": "be736539",
   "metadata": {},
   "outputs": [],
   "source": [
    "def almost_dc3(T):\n",
    "    # T est une liste de int\n",
    "\n",
    "    \n",
    "    columnNumber=2\n",
    "    p12=position1_2(T)\n",
    "    \n",
    "\n",
    "    r12=radix(p12,T)\n",
    "\n",
    "\n",
    "    alphabet_T=alphabetT(T)\n",
    "\n",
    "    \n",
    "    r12sorted, index12=sort(r12, p12, alphabet_T, columnNumber)\n",
    "\n",
    "    order12,repetition=ordre(r12sorted)\n",
    "\n",
    "    \n",
    "\n",
    "    if repetition:\n",
    "\n",
    "        \n",
    "        Tprim=Tprime(order12, p12, index12)+[0,0,0]\n",
    "\n",
    "        index012=almost_dc3(Tprim)\n",
    "\n",
    "\n",
    "        index12=resumeHigherOrder(index012, p12)\n",
    "\n",
    "\n",
    "    p0,r0=position0_R0(T, index12)\n",
    "\n",
    "    alphabet_r0=alphabetR0(r0)\n",
    "\n",
    "    \n",
    "    r0sorted, index0=sort(r0,p0,alphabet_r0 ,columnNumber-1)\n",
    "\n",
    "\n",
    "    order0=ordre(r0sorted)\n",
    "    \n",
    "    temp=merge(T, index0, index12)\n",
    "\n",
    "    index012=removesentinel(merge(T, index0, index12))\n",
    "\n",
    "\n",
    "    return index012\n",
    "   \n",
    "    \n",
    "    "
   ]
  },
  {
   "cell_type": "code",
   "execution_count": 31,
   "id": "839da382",
   "metadata": {},
   "outputs": [],
   "source": [
    "def almost_dc3_debugg(T):\n",
    "    # T est une liste de int\n",
    "\n",
    "    \n",
    "    columnNumber=2\n",
    "    p12=position1_2(T)\n",
    "    \n",
    "    print(\"p12\")\n",
    "    print(p12)\n",
    "    print(\"taille de p12 avant récursion\")\n",
    "    print(len(p12))\n",
    "    print(\"\\n\")\n",
    "    \n",
    "    r12=radix(p12,T)\n",
    "    print(\"r12\")\n",
    "    print(r12)\n",
    "    print(\"\\n\")\n",
    "\n",
    "    alphabet_T=alphabetT(T)\n",
    "\n",
    "    \n",
    "    r12sorted, index12=sort(r12, p12, alphabet_T, columnNumber)\n",
    "    print(\"index12\")\n",
    "    print(index12)\n",
    "    print(\"taille de index12 avant récursion\")\n",
    "    print(len(index12))\n",
    "    print(\"\\n\")\n",
    "    \n",
    "    order12,repetition=ordre(r12sorted)\n",
    "    print(\"order12\")\n",
    "    print(order12)\n",
    "    print(\"entre-t-on dans la boucle de répétition?\")\n",
    "    print(repetition)\n",
    "    print(\"\\n\")\n",
    "    \n",
    "\n",
    "    if repetition:\n",
    "\n",
    "        \n",
    "        Tprim=Tprime(order12, p12, index12)+[0,0,0]\n",
    "        print(\"tprime\")\n",
    "        print(Tprim)\n",
    "        print(\"taille de tprime\")\n",
    "        print(len(Tprim))\n",
    "        print(\"\\n\")\n",
    "        \n",
    "        index012=almost_dc3(Tprim)\n",
    "        print(\"index012\")\n",
    "        print(index012)\n",
    "        print(\"taille de index012\")\n",
    "        print(len(index012))\n",
    "        print(\"\\n\")\n",
    "\n",
    "        index12=resumeHigherOrder(index012, p12)\n",
    "        print(\"resume higher order index12\")\n",
    "        print(index12)\n",
    "        print(\"taille de index12 après retour à taille initiale\")\n",
    "        print(len(index12))\n",
    "        print(\"\\n\")\n",
    "\n",
    "    p0,r0=position0_R0(T, index12)\n",
    "    print(\"p0\")\n",
    "    print(p0)\n",
    "    print(\"taille de p0\")\n",
    "    print(len(p0))\n",
    "    print(\"\\n\")\n",
    "    \n",
    "    print(\"r0\")\n",
    "    print(r0)\n",
    "    print(\"\\n\")\n",
    "    alphabet_r0=alphabetR0(r0)\n",
    "\n",
    "    \n",
    "    r0sorted, index0=sort(r0,p0,alphabet_r0 ,columnNumber-1)\n",
    "    print(\"index0\")\n",
    "    print(index0)\n",
    "    print(\"taille de index0\")\n",
    "    print(len(index0))\n",
    "    print(\"\\n\")\n",
    "\n",
    "    order0=ordre(r0sorted)\n",
    "    \n",
    "    temp=merge(T, index0, index12)\n",
    "    print(\"taille de temp\")\n",
    "    print(len(temp))\n",
    "    \n",
    "    index012=removesentinel(merge(T, index0, index12))\n",
    "    print(\"taille après la fonction removesentinel\")\n",
    "    print(len(index012))\n",
    "    print(\"\\n\")\n",
    "\n",
    "    return index012\n",
    "   \n",
    "    \n",
    "    "
   ]
  },
  {
   "cell_type": "markdown",
   "id": "c5333689",
   "metadata": {},
   "source": [
    "i assume that when a function ends, an other function begins"
   ]
  },
  {
   "cell_type": "code",
   "execution_count": 32,
   "id": "48cc392a",
   "metadata": {},
   "outputs": [],
   "source": [
    "      #time variables\n",
    "t0=[] #starting times of every recursion of almost_dc3\n",
    "timep12=[] \n",
    "timer12=[]\n",
    "timealphabet=[]\n",
    "timesort=[]\n",
    "timeorder=[]\n",
    "trep=[]\n",
    "timeTprime=[]\n",
    "tBeforeHigherOrder=[]\n",
    "timeresumeHigherOrder=[]\n",
    "tBeforeP0=[]\n",
    "timeposition0_R0=[]\n",
    "timealphabetR0=[]\n",
    "    \n",
    "timelist=[t0,timep12,timer12,timealphabet,timesort,timeorder,trep,timeTprime,tBeforeHigherOrder,timeresumeHigherOrder,tBeforeP0,timeposition0_R0,timealphabetR0]\n"
   ]
  },
  {
   "cell_type": "code",
   "execution_count": 33,
   "id": "47ad8173",
   "metadata": {},
   "outputs": [],
   "source": [
    "def almost_dc3_time_measuring(T):\n",
    "    \n",
    "    t0.append(time.time())\n",
    "    # T est une liste de int\n",
    "    columnNumber=2\n",
    "    p12=position1_2(T)\n",
    "    \n",
    "    print(\"p12\")\n",
    "    print(p12)\n",
    "    print(\"taille de p12 avant récursion\")\n",
    "    print(len(p12))\n",
    "    \n",
    "    timep12.append(time.time()-t0[-1])\n",
    "    \n",
    "    r12=radix(p12,T)\n",
    "    timer12.append(time.time()-timep12[-1])\n",
    "    \n",
    "    alphabet_T=alphabetT(T)\n",
    "    timealphabet.append(time.time()-timer12[-1])\n",
    "    \n",
    "    r12sorted, index12=sort(r12, p12, alphabet_T, columnNumber)\n",
    "    timesort.append(time.time()-timealphabet[-1])\n",
    "    \n",
    "    order12,repetition=ordre(r12sorted)\n",
    "    timeorder.append(time.time()-timesort[-1])\n",
    "    \n",
    "    if repetition:\n",
    "        trep.append(time.time())\n",
    "        \n",
    "        Tprim=Tprime(order12, p12, index12)+[0,0,0]\n",
    "        timeTprime.append(time.time()-trep[-1])\n",
    "        \n",
    "        index012=almost_dc3(Tprim)\n",
    "        \n",
    "        tBeforeHigherOrder.append(time.time())\n",
    "        index12=resumeHigherOrder(index012, p12)\n",
    "        timeresumeHigherOrder.append(time.time()-tBeforeHigherOrder[-1])\n",
    "    \n",
    "    print(\"taille de p12 après récursion\")\n",
    "    print(len(p12))\n",
    "    \n",
    "    tBeforeP0.append(time.time())\n",
    "    p0,r0=position0_R0(T, index12)\n",
    "    timeposition0_R0.append(time.time()-tBeforeP0[-1])\n",
    "    \n",
    "    alphabet_r0=alphabetR0(r0)\n",
    "    timealphabetR0.append(time.time()-timeposition0_R0[-1])\n",
    "    \n",
    "    r0sorted, index0=sort(r0,p0,alphabet_r0 ,columnNumber-1)\n",
    "    #i dont measure time here\n",
    "    \n",
    "    order0=ordre(r0sorted)\n",
    "    #i dont measure time here\n",
    "    \n",
    "    index012=removesentinel(merge(T, index0, index12))\n",
    "    #i dont measure time here\n",
    "\n",
    "    return index012, timelist\n",
    "   \n",
    "    \n",
    "    "
   ]
  },
  {
   "cell_type": "markdown",
   "id": "d4109682",
   "metadata": {},
   "source": [
    "### Testons notre fonction avec le string T"
   ]
  },
  {
   "cell_type": "code",
   "execution_count": 34,
   "id": "f1bfe1dd",
   "metadata": {},
   "outputs": [
    {
     "data": {
      "text/plain": [
       "[8, 0, 3, 6, 9, 1, 4, 7, 2, 5]"
      ]
     },
     "execution_count": 34,
     "metadata": {},
     "output_type": "execute_result"
    }
   ],
   "source": [
    "almost_dc3(T)"
   ]
  },
  {
   "cell_type": "code",
   "execution_count": 35,
   "id": "3635bf4d",
   "metadata": {},
   "outputs": [
    {
     "name": "stdout",
     "output_type": "stream",
     "text": [
      "18\n"
     ]
    }
   ],
   "source": [
    "print(len([2, 17, 7, 5, 4, 3, 12, 9, 6, 8, 10, 13, 14, 12, 11, 16, 15, 1, 0, 0, 0])-3)"
   ]
  },
  {
   "cell_type": "code",
   "execution_count": 36,
   "id": "8fa4ebe9",
   "metadata": {},
   "outputs": [
    {
     "name": "stdout",
     "output_type": "stream",
     "text": [
      "[1, 4, 7, 10, 13, 16, 18, 2, 5, 8, 11, 14, 17]\n"
     ]
    }
   ],
   "source": [
    "print(position1_2([2, 17, 7, 5, 4, 3, 12, 9, 6, 8, 10, 13, 14, 12, 11, 16, 15, 1, 0, 0, 0]))"
   ]
  },
  {
   "cell_type": "code",
   "execution_count": 37,
   "id": "78c00806",
   "metadata": {},
   "outputs": [
    {
     "name": "stdout",
     "output_type": "stream",
     "text": [
      "([0, 3, 6, 9, 12, 15], [[2, 12], [5, 3], [12, 6], [8, 7], [14, 9], [16, 11]])\n"
     ]
    }
   ],
   "source": [
    "print(position0_R0([2, 17, 7, 5, 4, 3, 12, 9, 6, 8, 10, 13, 14, 12, 11, 16, 15, 1, 0, 0, 0],[17, 5, 4, 8, 2, 7, 10, 14, 13, 11, 16, 1]))"
   ]
  },
  {
   "cell_type": "markdown",
   "id": "4eaf1a2c",
   "metadata": {},
   "source": [
    "## Test avec biopython \n"
   ]
  },
  {
   "cell_type": "code",
   "execution_count": 38,
   "id": "63868023",
   "metadata": {},
   "outputs": [
    {
     "name": "stdout",
     "output_type": "stream",
     "text": [
      "Defaulting to user installation because normal site-packages is not writeable\n",
      "Requirement already satisfied: biopython in /home/azarkua/.local/lib/python3.10/site-packages (1.81)\n",
      "Requirement already satisfied: numpy in /home/azarkua/.local/lib/python3.10/site-packages (from biopython) (1.26.1)\n",
      "\n",
      "\u001b[1m[\u001b[0m\u001b[34;49mnotice\u001b[0m\u001b[1;39;49m]\u001b[0m\u001b[39;49m A new release of pip is available: \u001b[0m\u001b[31;49m23.2.1\u001b[0m\u001b[39;49m -> \u001b[0m\u001b[32;49m23.3.1\u001b[0m\n",
      "\u001b[1m[\u001b[0m\u001b[34;49mnotice\u001b[0m\u001b[1;39;49m]\u001b[0m\u001b[39;49m To update, run: \u001b[0m\u001b[32;49mpython3 -m pip install --upgrade pip\u001b[0m\n",
      "Note: you may need to restart the kernel to use updated packages.\n"
     ]
    }
   ],
   "source": [
    "pip install biopython"
   ]
  },
  {
   "cell_type": "code",
   "execution_count": 39,
   "id": "82f449fb",
   "metadata": {},
   "outputs": [
    {
     "name": "stdout",
     "output_type": "stream",
     "text": [
      "[SeqRecord(seq=Seq('tgaaccctaaaccctaaaccctaaaccctaaacccctaaaccctaaaccctgaa...gtt'), id='NC_037283.1', name='NC_037283.1', description='NC_037283.1 Plasmodium falciparum 3D7 genome assembly, chromosome: 14', dbxrefs=[]), SeqRecord(seq=Seq('ATGATAAAATTTTTAAAACCTAAAATAAAAATATTAAAAAAATTAAATATACCT...ATT'), id='NC_036769.1', name='NC_036769.1', description='NC_036769.1 Plasmodium falciparum strain 3D7, apicoplast', dbxrefs=[])]\n"
     ]
    }
   ],
   "source": [
    "from Bio import SeqIO\n",
    "genome=[]\n",
    "nucleotide_genome=0\n",
    "for seq_record in SeqIO.parse(\"/home/azarkua/Documents/2023-2024/omiques2/developement/omique2/genome.fna\", \"fasta\"):\n",
    "    genome.append(seq_record)\n",
    "    nucleotide_genome+=len(seq_record.seq)\n",
    "print(genome[13:])"
   ]
  },
  {
   "cell_type": "code",
   "execution_count": 40,
   "id": "6bb2b6a0",
   "metadata": {},
   "outputs": [
    {
     "name": "stdout",
     "output_type": "stream",
     "text": [
      "[SeqRecord(seq=Seq('TTTCCTTTTTAAGCGTTTTATTTTTTAATAAAAAAAATATAGTATTATATAGTA...TAA'), id='NC_004325.2-100000', name='NC_004325.2-100000', description='NC_004325.2-100000', dbxrefs=[])]\n"
     ]
    }
   ],
   "source": [
    "reads=[]\n",
    "nucleotide_reads=0\n",
    "for seq_record in SeqIO.parse(\"/home/azarkua/Documents/2023-2024/omiques2/developement/omique2/reads.fq\", \"fastq\"):\n",
    "    reads.append(seq_record)\n",
    "    nucleotide_reads+=len(seq_record.seq)\n",
    "    #if len(seq_record.seq)!= 100:\n",
    "    #    print(\"False\")\n",
    "print(reads[:1])"
   ]
  },
  {
   "cell_type": "code",
   "execution_count": 45,
   "id": "b8ec5679",
   "metadata": {},
   "outputs": [
    {
     "name": "stdout",
     "output_type": "stream",
     "text": [
      "236775\n"
     ]
    },
    {
     "data": {
      "text/plain": [
       "Seq('CCCTGAACCC')"
      ]
     },
     "execution_count": 45,
     "metadata": {},
     "output_type": "execute_result"
    }
   ],
   "source": [
    "temp=genome[1].seq.upper()\n",
    "print(len(temp)//4)\n",
    "temp[50:60]"
   ]
  },
  {
   "cell_type": "markdown",
   "id": "4e074f49",
   "metadata": {},
   "source": [
    "Pour l'instant, notre code met environ 2min d'attente pour faire la suffix table de 25 000 nucléotides."
   ]
  },
  {
   "cell_type": "code",
   "execution_count": 56,
   "id": "097a7edc",
   "metadata": {},
   "outputs": [],
   "source": [
    "T=asciiDC3(temp[:100])\n",
    "#print(T)"
   ]
  },
  {
   "cell_type": "code",
   "execution_count": 57,
   "id": "e2b39d26",
   "metadata": {},
   "outputs": [
    {
     "name": "stdout",
     "output_type": "stream",
     "text": [
      "[23151, 23229, 23152, 23230, 23231, 23154, 23153, 23157, 23232, 23155, 23158, 23233, 23234, 23235, 23156, 23238, 23159, 23160, 23236, 23239, 23237, 23241, 23240, 23163, 23321, 23166, 23322, 24605, 23161, 23162, 23268, 23242, 23164, 23267, 23244, 23243, 24606, 23165, 23391, 23167, 23323, 23324, 23325, 23269, 23245, 24607, 23270, 23220, 23246, 23247, 23168, 23169, 8044, 23392, 23350, 24404, 23271, 23326, 24608, 24786, 6665, 23370, 8045, 23121, 23221, 23351, 23295, 23393, 24405, 23327, 24609, 22438, 23248, 24777, 8046, 23328, 23994, 9234, 8019, 8991, 6642, 23274, 23202, 7893, 23373, 22410, 24408, 23193, 7695, 7650, 6669, 8946, 6714, 7758, 6666, 23170, 23272, 23222, 23352, 9233]\n"
     ]
    }
   ],
   "source": [
    "suffix_array=almost_dc3(T)\n",
    "print(suffix_array[:100])\n",
    "#print(timemeasuring)"
   ]
  },
  {
   "cell_type": "code",
   "execution_count": null,
   "id": "43ac63b3",
   "metadata": {},
   "outputs": [],
   "source": [
    "length_repeating_loop=len(timeTprime)\n",
    "timeTprime+=[0*i for i in range(len(t0)-length_repeating_loop)]\n",
    "timeresumeHigherOrder+=[0*i for i in range(len(t0)-length_repeating_loop)]"
   ]
  },
  {
   "cell_type": "markdown",
   "id": "807e8175",
   "metadata": {},
   "source": [
    "list=[t0, #starting times of every recursion of almost_dc3\n",
    "timep12,\n",
    "timer12,\n",
    "timealphabet,\n",
    "timesort,\n",
    "timeorder,\n",
    "trep,\n",
    "timeTprime,\n",
    "tBeforeHigherOrder,\n",
    "timeresumeHigherOrder,\n",
    "tBeforeP0,\n",
    "timeposition0_R0,\n",
    "timealphabetR0]\n",
    "for element in list:\n",
    "    print(len(element))"
   ]
  },
  {
   "cell_type": "code",
   "execution_count": null,
   "id": "fa6456c5",
   "metadata": {},
   "outputs": [],
   "source": [
    "time_measuring=pd.DataFrame({'p12':timep12, \n",
    "                             'r12':timer12, \n",
    "                             'alphabet':timealphabet, \n",
    "                             'sort':timesort, \n",
    "                             'order':timeorder, \n",
    "                             'Tprime':timeTprime, \n",
    "                             'HigherOrder':timeresumeHigherOrder, \n",
    "                             'P0':timeposition0_R0, \n",
    "                             'alphabetRO':timealphabetR0})"
   ]
  },
  {
   "cell_type": "code",
   "execution_count": null,
   "id": "228eedac",
   "metadata": {},
   "outputs": [],
   "source": [
    "time_measuring"
   ]
  },
  {
   "cell_type": "code",
   "execution_count": null,
   "id": "975528cd",
   "metadata": {},
   "outputs": [],
   "source": [
    "time_measuring_melted = pd.melt(time_measuring)"
   ]
  },
  {
   "cell_type": "code",
   "execution_count": null,
   "id": "8c610784",
   "metadata": {},
   "outputs": [],
   "source": [
    "sns.boxplot(x='variable', y='value', data=time_measuring_melted)"
   ]
  },
  {
   "cell_type": "markdown",
   "id": "87c8118b",
   "metadata": {},
   "source": [
    "Les fonctions qui semblent prendre le plus de temps sont r12, sort et alphabetR0"
   ]
  },
  {
   "cell_type": "code",
   "execution_count": null,
   "id": "640fccba",
   "metadata": {},
   "outputs": [],
   "source": []
  },
  {
   "cell_type": "code",
   "execution_count": null,
   "id": "81a17787",
   "metadata": {},
   "outputs": [],
   "source": []
  },
  {
   "cell_type": "code",
   "execution_count": null,
   "id": "36350356",
   "metadata": {},
   "outputs": [],
   "source": []
  },
  {
   "cell_type": "code",
   "execution_count": null,
   "id": "6f2d9b22",
   "metadata": {},
   "outputs": [],
   "source": []
  }
 ],
 "metadata": {
  "kernelspec": {
   "display_name": "Python 3 (ipykernel)",
   "language": "python",
   "name": "python3"
  },
  "language_info": {
   "codemirror_mode": {
    "name": "ipython",
    "version": 3
   },
   "file_extension": ".py",
   "mimetype": "text/x-python",
   "name": "python",
   "nbconvert_exporter": "python",
   "pygments_lexer": "ipython3",
   "version": "3.10.12"
  }
 },
 "nbformat": 4,
 "nbformat_minor": 5
}
