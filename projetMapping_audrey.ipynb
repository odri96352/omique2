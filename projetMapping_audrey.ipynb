{
 "cells": [
  {
   "cell_type": "code",
   "execution_count": 24,
   "id": "3f7b1b3c",
   "metadata": {},
   "outputs": [],
   "source": [
    "def sort(array,index, alphabet, columnNumber):\n",
    "    if len(array) == 0:\n",
    "        return array\n",
    "\n",
    "  # Perform counting sort on each column, starting at the last\n",
    "\n",
    "    column = columnNumber\n",
    "    while column>=0: # nous on met \"tant que l'indice est supérieur à 3\"\n",
    "        array, index = countingSortByDigit(array,index, alphabet, column)\n",
    "        column-=1 #change de colonne dans ton tableau\n",
    "\n",
    "    return array, index\n",
    "\n",
    "def countingSortByDigit(array, index, alphabet, column):\n",
    "    \"\"\"\n",
    "    ici possibleNumbers= nombre de chiffres possibles. Nous n'avons que 4 nombres (0,97,98,99)\n",
    "    \"\"\"\n",
    "\n",
    "    countIndex = -1\n",
    "    count = [0] * len(alphabet)\n",
    "    output = [None] * len(array)\n",
    "    outputIndex= [0] * len(array)\n",
    "\n",
    "  # Count frequencies\n",
    "    for i in range(0, len(array)):\n",
    "        countIndex = alphabet[array[i][column]]\n",
    "        count[countIndex] += 1\n",
    "\n",
    "  # Compute cumulates\n",
    "    for i in range(1, len(alphabet)):\n",
    "        count[i] += count[i - 1]\n",
    "\n",
    "  # Move records\n",
    "    for i in range(len(array) - 1, -1, -1):\n",
    "        countIndex = alphabet[array[i][column]]\n",
    "        count[countIndex] -= 1\n",
    "        output[count[countIndex]] = array[i]\n",
    "        outputIndex[count[countIndex]]=index[i]\n",
    "        \n",
    "    return output, outputIndex"
   ]
  },
  {
   "cell_type": "code",
   "execution_count": 25,
   "id": "ecb5ff4d",
   "metadata": {},
   "outputs": [
    {
     "name": "stdout",
     "output_type": "stream",
     "text": [
      "([(0, 0, 0), (97, 98, 0), (98, 99, 97), (98, 99, 97), (99, 97, 98), (99, 97, 98), (99, 97, 99)], [10, 8, 1, 4, 7, 2, 5])\n"
     ]
    }
   ],
   "source": [
    "alphabet={0:0, 97:1, 98:2,99:3}\n",
    "R=((98,99,97),(98,99,97),(99,97,98),(0,0,0),(99,97,98),(99,97,99),(97,98,0))\n",
    "index=[1,4,7,10,2,5,8]\n",
    "print( sort(R,index, alphabet, 2))"
   ]
  }
 ],
 "metadata": {
  "kernelspec": {
   "display_name": "Python 3 (ipykernel)",
   "language": "python",
   "name": "python3"
  },
  "language_info": {
   "codemirror_mode": {
    "name": "ipython",
    "version": 3
   },
   "file_extension": ".py",
   "mimetype": "text/x-python",
   "name": "python",
   "nbconvert_exporter": "python",
   "pygments_lexer": "ipython3",
   "version": "3.9.12"
  }
 },
 "nbformat": 4,
 "nbformat_minor": 5
}
