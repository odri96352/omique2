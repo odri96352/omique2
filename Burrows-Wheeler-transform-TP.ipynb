{
 "cells": [
  {
   "cell_type": "markdown",
   "metadata": {},
   "source": [
    "# Burrows Wheeler Transform\n",
    "### Sergio Peignier (sergio.peignier@insa-lyon.fr)\n",
    "\n",
    "In this practical work, we will program and study the Burrows Wheeler transform\n",
    "\n",
    "### Lexicographic order\n",
    "\n",
    "In this work, we compare two strings iteratively, by comparing their characters by their so-called lexicographic order, (i.e., their alphabetic order A<B<C<....<Z).\n",
    "Notice that here we consider only the alphabet characters, and an \"end of string\" character, denoted \\\\$ s.t. \\\\$ < A.\n",
    "Therefore, a string $S$ that is a prefix of a string $T$ is considered smaller: $S<T$.\n",
    "\n",
    "### Circular Shift\n",
    "\n",
    "Let $R(T,k)=T'$ be a function that takes a string $T$ and a integer $k$ as inputs and returns a string $T'$ that is a circular shift of string $T$, such that: \n",
    "\n",
    "$T'[1,|T|-k] = T[k+1,|T|]$ and $T'[|T|-k + 1,|T|] = T[1,k]$\n",
    "\n",
    "__example__:\n",
    "\n",
    "for T = \"dans l'herbe noire Les Kobolds vont$\"\n",
    "\n",
    "R(T,3) = \"s l'herbe noire Les Kobolds vont$dan\"\n",
    "\n",
    "R(T,9) = \"rbe noire Les Kobolds vont$dans l'he\"\n",
    "\n",
    "+ Program function $R(T,k)$ in python\n",
    "\n",
    "### Burrows Wheeler Transform (BWT)\n",
    "+ To compute the Burrows Wheeler Transform (BWT) we must:\n",
    "    + Assume that the string contains a special character \"End of string\" that only occurs at the end of the end of the string and nowhere else (here: \"\\$\")\n",
    "    + Apply the function $R(T,k), \\quad \\forall k\\in [1,...,|T|]$ and store the outputs (i.e., compute and store all the circular shifts)\n",
    "    + Sort the strings into lexical order\n",
    "    + Extract the last letter of each string \n",
    "    \n",
    "__Example__:\n",
    "\n",
    "Original String: $S=$ ACATACAGATG\\$\n",
    "\n",
    "Sorted circular shifts:\n",
    "\n",
    "\\$ACATACAGATG\n",
    "\n",
    "ACAGATG\\$ACAT\n",
    "\n",
    "ACATACAGATG\\$\n",
    "\n",
    "AGATG\\$ACATAC\n",
    "\n",
    "ATACAGATG\\$AC\n",
    "\n",
    "ATG\\$ACATACAG\n",
    "\n",
    "CAGATG\\$ACATA\n",
    "\n",
    "CATACAGATG\\$A\n",
    "\n",
    "G\\$ACATACAGAT\n",
    "\n",
    "GATG\\$ACATACA\n",
    "\n",
    "TACAGATG\\$ACA\n",
    "\n",
    "TG\\$ACATACAGA\n",
    "\n",
    "Burrow Wheeler Transform: \n",
    "\n",
    "$BWT(S) = $ GT\\$CCGAATAAA\n",
    "\n",
    "__Questions :__\n",
    "\n",
    "+ Program the BWT in python\n",
    "+ Apply the BWT to encode the virus genome downloaded during the previous lecture"
   ]
  },
  {
   "cell_type": "code",
   "execution_count": 1,
   "metadata": {},
   "outputs": [
    {
     "name": "stdout",
     "output_type": "stream",
     "text": [
      "llo\n"
     ]
    }
   ],
   "source": [
    "test=\"hello\"\n",
    "print(test[2:])"
   ]
  },
  {
   "cell_type": "code",
   "execution_count": 2,
   "metadata": {},
   "outputs": [],
   "source": [
    "def circular_shift(text,k):\n",
    "    \"\"\"\n",
    "    Make a circular shift\n",
    "    \n",
    "    Args:\n",
    "        text (str): string to be shifted\n",
    "\n",
    "    Returns:\n",
    "        str: shifted string\n",
    "    \"\"\"\n",
    "    shifted_text =\"\"\n",
    "    #dans le cas où k>taille du texte\n",
    "    shift=k%len(text)\n",
    "    \n",
    "    shifted_text=text[:len(text)-shift]\n",
    "    i=0\n",
    "    while shift>i:\n",
    "        shifted_text=text[len(text)-1-i]+shifted_text\n",
    "        i+=1\n",
    "        \n",
    "    return shifted_text\n",
    "\n",
    "def BWT(text,verbose=False):\n",
    "    \"\"\"\n",
    "    Compute the BWT\n",
    "    \n",
    "    Args:\n",
    "        text (str): string to be shifted\n",
    "        verbose (bool): print sorted circular shifts if true\n",
    "    \n",
    "    Return:\n",
    "        str: BWT\n",
    "    \"\"\"\n",
    "    bwt = \"\"\n",
    "    new_text=text+\"$\"\n",
    "    list_shifts=[]\n",
    "    for k in range(len(new_text)):\n",
    "        shift=circular_shift(new_text,k)\n",
    "        list_shifts.append(shift)\n",
    "    list_shifts.sort()\n",
    "    for element in list_shifts:\n",
    "        bwt+=element[-1]\n",
    "        \n",
    "    return(bwt)\n"
   ]
  },
  {
   "cell_type": "code",
   "execution_count": 3,
   "metadata": {},
   "outputs": [],
   "source": [
    "text = \"dans l'herbe noire les kobolds vont. le vent profond pleure, on veut croire.\""
   ]
  },
  {
   "cell_type": "code",
   "execution_count": 4,
   "metadata": {
    "scrolled": true
   },
   "outputs": [
    {
     "name": "stdout",
     "output_type": "stream",
     "text": [
      "well done!\n"
     ]
    }
   ],
   "source": [
    "shifted_text = circular_shift(text,10)\n",
    "if shifted_text == \"ut croire.dans l'herbe noire les kobolds vont. le vent profond pleure, on ve\":\n",
    "    print(\"well done!\")\n",
    "else:\n",
    "    print(\"wrong answer\")"
   ]
  },
  {
   "cell_type": "code",
   "execution_count": 5,
   "metadata": {},
   "outputs": [
    {
     "name": "stdout",
     "output_type": "stream",
     "text": [
      "tss.ee,dtens.letedro n$lrblrrvhllvo'oo  o  poo aeokrnrb fv  eiuipcendunnee   \n",
      "well done!\n"
     ]
    }
   ],
   "source": [
    "burrough = BWT(text)\n",
    "print(burrough)\n",
    "if burrough == \"tss.ee,dtens.letedro n$lrblrrvhllvo'oo  o  poo aeokrnrb fv  eiuipcendunnee   \":\n",
    "    print(\"well done!\")\n",
    "else:\n",
    "    print('wrong answer')"
   ]
  },
  {
   "cell_type": "code",
   "execution_count": 6,
   "metadata": {},
   "outputs": [
    {
     "data": {
      "text/plain": [
       "'GT$CCGAATAAA'"
      ]
     },
     "execution_count": 6,
     "metadata": {},
     "output_type": "execute_result"
    }
   ],
   "source": [
    "BWT(\"ACATACAGATG\",verbose=True)"
   ]
  },
  {
   "cell_type": "markdown",
   "metadata": {},
   "source": [
    "\n",
    "### Data Compression \n",
    "The BWT is a algorithm that aims at preparing data to be compressed.\n",
    "In practice it rearranges a string into pieces of repeated characters, that can then be compressed using for example the __run-length encoding__.\n",
    "This technique aims at storing a sequence of repeated characters as a single value and the number of repeats.\n",
    "\n",
    "__Example__\n",
    "\n",
    "_original string_ : AAAAAAATTTTTGGGGTGTTTTTT \n",
    "\n",
    "_compressed string_ : A7T5G4TGT6\n",
    "\n",
    "__Questions :__\n",
    "\n",
    "+ Write a simple function that performs the Run length encoding\n",
    "+ Estimate the complexity of your function\n",
    "+ Compress the genome before and after applying the BWT"
   ]
  },
  {
   "cell_type": "code",
   "execution_count": 7,
   "metadata": {},
   "outputs": [],
   "source": [
    "def run_length_encoding(S):\n",
    "    \"\"\"\n",
    "    Encode sequence using the Run Length method\n",
    "    \n",
    "    Args:\n",
    "        text (str): string to be shifted\n",
    "    \n",
    "    Return:\n",
    "        str: run length\n",
    "    \"\"\"\n",
    "    encoded_S= \"\"\n",
    "    i=0\n",
    "    number=1\n",
    "    while i<len(S):\n",
    "        encoded_S+=S[i]\n",
    "        i+=1\n",
    "        while i<len(S) and S[i-1]==S[i]:\n",
    "            number+=1\n",
    "            i+=1\n",
    "        if number>1:\n",
    "            encoded_S+=str(number)\n",
    "        number=1\n",
    "    return encoded_S"
   ]
  },
  {
   "cell_type": "code",
   "execution_count": 8,
   "metadata": {},
   "outputs": [
    {
     "name": "stdout",
     "output_type": "stream",
     "text": [
      "well done!\n",
      "A4T2C3GCG2\n"
     ]
    }
   ],
   "source": [
    "if run_length_encoding(\"AAAATTCCCGCGG\") == 'A4T2C3GCG2':\n",
    "    print(\"well done!\")\n",
    "else:\n",
    "    print(\"wrong answer\")\n",
    "print(run_length_encoding(\"AAAATTCCCGCGG\"))"
   ]
  },
  {
   "cell_type": "markdown",
   "metadata": {},
   "source": [
    "\n",
    "### BWT and suffix tables: Understanding the BWT\n",
    "Let $S$ be a string, and let $S'$ be the transformed version of $S$ after undergoing a given number of circular shift operations, and let us consider that the end of string character is at location $i$. \n",
    "\n",
    "__Questions :__\n",
    "+ What does the substring $S[1:i]$ represent for the substring $S[i+1:|S|]$, and particularly for the last character $S[|S|]$?\n",
    "+ Describe the BWT in terms of suffixes\n",
    "+ Assuming that there are some regularities in the string (some elements tend to be followed by some particular elements with higher frequency), explain why the BWT tends to bring together the same characters.\n",
    "+ Conceive an algorithm that takes a string and its suffix table as an input, and returns its BWT.\n",
    "+ Compute the complexity of this method\n"
   ]
  },
  {
   "cell_type": "code",
   "execution_count": 9,
   "metadata": {},
   "outputs": [],
   "source": [
    "def suffix_list(T):\n",
    "    \"\"\"\n",
    "    Compute the suffix list\n",
    "    \n",
    "    Args:\n",
    "        T (str): string\n",
    "    \n",
    "    Return:\n",
    "        list of strings: suffix list\n",
    "    \"\"\"\n",
    "    suffix_list = [T[i:] for i in range(len(T))]\n",
    "    sorted(suffix_list,reverse=True)\n",
    "    return suffix_list\n",
    "\n",
    "def suffix_table(T):\n",
    "    \"\"\"\n",
    "    Compute the suffix table\n",
    "    \n",
    "    Args:\n",
    "        T (str): string\n",
    "    \n",
    "    Return:\n",
    "        list of tuples (suffix,location): suffix table\n",
    "    \"\"\"\n",
    "    suffix_list = [T[i:] for i in range(len(T))]\n",
    "    suffix_table = sorted((e,i) for i,e in enumerate(suffix_list))\n",
    "    return suffix_table\n",
    "\n",
    "def BWT_suffix_table(T,end_of_string=\"$\"):\n",
    "    \"\"\"\n",
    "    Compute the BWT from the suffix table\n",
    "    \n",
    "    Args:\n",
    "        T (str): string\n",
    "        end_of_string (char): end of string character to append\n",
    "    \n",
    "    Return:\n",
    "        bwt (str): BWT\n",
    "    \"\"\"\n",
    "    T += end_of_string\n",
    "    ST = suffix_table(T)\n",
    "    bwt = \"\"\n",
    "    for s,i in ST:\n",
    "        bwt += T[i-1]\n",
    "    return(bwt)"
   ]
  },
  {
   "cell_type": "code",
   "execution_count": 10,
   "metadata": {},
   "outputs": [
    {
     "name": "stdout",
     "output_type": "stream",
     "text": [
      "['ACATACAGATG', 'CATACAGATG', 'ATACAGATG', 'TACAGATG', 'ACAGATG', 'CAGATG', 'AGATG', 'GATG', 'ATG', 'TG', 'G']\n",
      "[('ACAGATG', 4), ('ACATACAGATG', 0), ('AGATG', 6), ('ATACAGATG', 2), ('ATG', 8), ('CAGATG', 5), ('CATACAGATG', 1), ('G', 10), ('GATG', 7), ('TACAGATG', 3), ('TG', 9)]\n"
     ]
    }
   ],
   "source": [
    "T = \"ACATACAGATG\"\n",
    "print(suffix_list(T))\n",
    "print(suffix_table(T))"
   ]
  },
  {
   "cell_type": "code",
   "execution_count": 11,
   "metadata": {},
   "outputs": [
    {
     "name": "stdout",
     "output_type": "stream",
     "text": [
      "well done!\n",
      "GT$CCGAATAAA\n"
     ]
    }
   ],
   "source": [
    "T = \"ACATACAGATG\"\n",
    "if BWT(T) == BWT_suffix_table(T):\n",
    "    print('well done!')\n",
    "else:\n",
    "    print(\"wrong answer\")\n",
    "    \n",
    "print(BWT_suffix_table(T))"
   ]
  },
  {
   "cell_type": "markdown",
   "metadata": {},
   "source": [
    "### Naive Inverse Burrows Wheeler Transform\n",
    "The BWT transformation is reversible, and the inverse operation does note require the storage of any additional data: only the end of string character is needed.\n",
    "The inverse BWT procedure is described hereafter:\n",
    "\n",
    "+ Let $S$ be the original string and let $BWT(S) = S_{bwt}$ (we only know $S_{bwt}$)\n",
    "+ Given only $S_{bwt}$, we can easily reconstruct the first column of the circular shifts table: indeed,  $S_{bwt}$ contains all the characters of $S$, and we know that the first column also contains all the characters of $S$ sorted. Then, simply sort the characters of $S_{bwt}$ to get the first column. Let $S_1$ denote this first column.\n",
    "+ Given the circular shift operation, we know that $\\forall i$ if $S[i] = S_{bwt}[i]$, then $S[i+1] = S_{1}[i]$\n",
    "\n",
    "+ Now, $\\{\\forall i \\quad (S_{bwt}[i], S_{1}[i])\\}$ denote the set of all pairs of successive characters in $S$.\n",
    "+ Again, we know that the first and second columns of the table contain the pairs are successive characters sorted, then we simply need to sort these pairs to get the first and second column of the table\n",
    "+ Similarly, we simply need to paste the characters in $S_{bwt}$ to those of the first two columns to get the set of all triplets of successive characters in $S$, and sort them to get the first three columns and so on, until reconstructing the entire table...\n",
    "+ Once the table is reconstructed, the row containing the \"end of string\" character in the last position is the original string.\n",
    "\n",
    "__Example :__\n",
    "\n",
    "$S_{bwt}$ = GT$CCGAATAAA\n",
    "\n",
    "Sort to get $S_1$: $S_1$ = $AAAAACGGTT\n",
    "\n",
    "Paste $S_{bwt}$ to get the pairs: $\\{\\forall i \\quad (S_{bwt}[i], S_{1}[i])\\}$ = \\{G\\\\$, TA, \\\\$A, CA, CA, GA, AC, AC, TG, AG, AT, AT\\}\n",
    "\n",
    "Sort the pairs to get the (first and) second column: \\\\$A, AC, AC, AG, AT, AT, CA, CA, G\\\\$, GA, TA, TG \n",
    "\n",
    "$S_{2}$ = ACCGTTAA\\\\$AAG\n",
    "\n",
    "Paste $S_{bwt}$ to get the triplets: $\\{\\forall i \\quad (S_{bwt}[i], S_{1}[i], S_{2}[i])\\}$ = \\{G\\\\$A, TAC, \\\\$A, CAG, CAT, GAT, ACA, ACA, TG\\\\$, AGA, ATA, ATG\\}\n",
    "\n",
    "...\n",
    "\n",
    "__Questions :__\n",
    "\n",
    "+ Program the inverse Burrow Wheeler Transform \n",
    "+ Compute the complexity of this algorithm"
   ]
  },
  {
   "cell_type": "code",
   "execution_count": 12,
   "metadata": {},
   "outputs": [
    {
     "ename": "SyntaxError",
     "evalue": "invalid syntax (284785486.py, line 33)",
     "output_type": "error",
     "traceback": [
      "\u001b[0;36m  Cell \u001b[0;32mIn[12], line 33\u001b[0;36m\u001b[0m\n\u001b[0;31m    grid[]\u001b[0m\n\u001b[0m         ^\u001b[0m\n\u001b[0;31mSyntaxError\u001b[0m\u001b[0;31m:\u001b[0m invalid syntax\n"
     ]
    }
   ],
   "source": [
    "def print_table(table):\n",
    "    for row in table:\n",
    "        print(\"\".join(row))\n",
    "\n",
    "def inverse_BWT(bwt, verbose=False, last_character=\"$\"):\n",
    "    \"\"\"\n",
    "    Inverse the BWT\n",
    "    \n",
    "    Args:\n",
    "        bwt (str): bwt of a string T\n",
    "        verbose (bool): if True print the process of the algorithm\n",
    "        last_character (char): which is the end of string character?\n",
    "    \n",
    "    Return:\n",
    "        T (str): BWT^{-1} of bwt\n",
    "    \"\"\"\n",
    "    T = \"\"\n",
    "    grid=np.zeros((len(bwt),len(bwt)))\n",
    "    for k in range(len(bwt)):\n",
    "        grid[k][len(bwt)-1]=bwt[k]\n",
    "        \n",
    "    first_column=list(bwt)\n",
    "    first_column.sort()\n",
    "    \n",
    "    for k in range(len(bwt)):\n",
    "        grid[k][0]=first_column[k]\n",
    "        \n",
    "    pairs=[]\n",
    "    for i in range(len(first_column)-1):\n",
    "        for j in range(len(bwt)):\n",
    "            if first_column[i]==bwt[j]:\n",
    "                pairs.append((bwt[j],first_column[i+1]))\n",
    "                grid[]\n",
    "    \n",
    "    return T"
   ]
  },
  {
   "cell_type": "code",
   "execution_count": 13,
   "metadata": {},
   "outputs": [
    {
     "ename": "NameError",
     "evalue": "name 'inverse_BWT' is not defined",
     "output_type": "error",
     "traceback": [
      "\u001b[0;31m---------------------------------------------------------------------------\u001b[0m",
      "\u001b[0;31mNameError\u001b[0m                                 Traceback (most recent call last)",
      "Cell \u001b[0;32mIn[13], line 1\u001b[0m\n\u001b[0;32m----> 1\u001b[0m \u001b[38;5;28;01mif\u001b[39;00m \u001b[43minverse_BWT\u001b[49m(BWT(text)) \u001b[38;5;241m==\u001b[39m text:\n\u001b[1;32m      2\u001b[0m     \u001b[38;5;28mprint\u001b[39m(\u001b[38;5;124m\"\u001b[39m\u001b[38;5;124mwell done!\u001b[39m\u001b[38;5;124m\"\u001b[39m)\n\u001b[1;32m      3\u001b[0m \u001b[38;5;28;01melse\u001b[39;00m:\n",
      "\u001b[0;31mNameError\u001b[0m: name 'inverse_BWT' is not defined"
     ]
    }
   ],
   "source": [
    "if inverse_BWT(BWT(text)) == text:\n",
    "    print(\"well done!\")\n",
    "else:\n",
    "    print(\"wrong answer\")"
   ]
  },
  {
   "cell_type": "markdown",
   "metadata": {},
   "source": [
    "### Inverse Burrows Wheeler Transform\n",
    "There is a more efficient way to perform the Inverse Burrows Wheeler Transform, without needing to reconstruct the entire table (pasting and sorting)\n",
    "\n",
    "#### First Last (FL) property\n",
    "+ Consider the following example. Index the letters of the Last column by the order of appearance of each letter (if you have seen k letters A then index the new letter A as A$_{k+1}$)\n",
    "+ Search the correspondence of indexes in the First column, to do so, you can use the entire table \n",
    "+ What do you notice? Why does this property appears?\n",
    "\n",
    "__Example:__\n",
    "\n",
    "\\\\$ACATACAGATG\n",
    "\n",
    "ACAGATG\\$ACAT\n",
    "\n",
    "ACATACAGATG\\$\n",
    "\n",
    "AGATG\\$ACATAC\n",
    "\n",
    "ATACAGATG\\$AC\n",
    "\n",
    "ATG\\$ACATACAG\n",
    "\n",
    "CAGATG\\$ACATA\n",
    "\n",
    "CATACAGATG\\$A\n",
    "\n",
    "G\\$ACATACAGAT\n",
    "\n",
    "GATG\\$ACATACA\n",
    "\n",
    "TACAGATG\\$ACA\n",
    "\n",
    "TG\\$ACATACAGA"
   ]
  },
  {
   "cell_type": "markdown",
   "metadata": {},
   "source": []
  },
  {
   "cell_type": "markdown",
   "metadata": {},
   "source": [
    "### Efficient Inverse Burrows Wheeler Transform\n",
    "\n",
    "Let $S_{bwt}$ the BWT of a string $S$, and let $A$ be the alphabet of $S$.\n",
    "\n",
    "Let $S*T = (S[1], S[2], \\dots, S[|S|], T[1],  \\dots, T[|T|])$ be the concatenation of strings $S$ and $T$ \n",
    "\n",
    "__initialization__\n",
    "\n",
    "+ For each character $X \\in A$ count its number of occurrences $\\# X$ in $S_{bwt}$ \n",
    "+ Index the occurrences of $S_{bwt}$ by their order of appearance, i.e., the first occurrence of $X$ is indexed 1, the second is indexed 2, and so on (e.g., for the sequence (A,A,T,A,C,C) the indexes are (1,2,1,3,1,2)). \n",
    "Let $K$ represent the list of indexes, such that $K[i]$ is the index of $S_{bwt}[i]$\n",
    "+ By definition, the first character of the First column is \\\\$, its left context is stored in the first character of the Last column ($S_{bwt}[0]$), therefore this is the penultimate character in $S$ (just before \\\\$). \n",
    "\n",
    "+ Let $X\\leftarrow S_{bwt}[i]$ denote the current character\n",
    "+ And let $k \\leftarrow 1$ be its index (it is the first occurrence of $X$ in $S_{bwt}$)\n",
    "+ $S \\leftarrow (\\$)$\n",
    "\n",
    "__Repeat While__ $X \\neq \\$$\n",
    "\n",
    "The main idea is to find the location of $X$ in the First column of the table (not computed explicitly), in order to find its left context in the Last column, i.e., $S_{bwt}$. Notice that the characters in the first column are: 1) sorted into a lexicographic order 2) the instances of the same letter share the same appearance index than those in $S_{bwt}$. \n",
    "\n",
    "+ $S \\leftarrow (X)*S$\n",
    "+ Let $j$ be the location of $X$ in the First column. $j\\leftarrow k+\\sum_{Y} \\# Y $ for all character $Y \\in A$ such that $Y<X$\n",
    "+ The character at $S_{bwt}[j]$ has $X$ as right context, and thus it is its the left context.\n",
    "+ $X \\leftarrow S_{bwt}[j]$, $k \\leftarrow K[j]$ \n",
    "\n",
    "__Questions:__\n",
    "\n",
    "+ Implement this algorithm in python\n",
    "+ What is the complexity of this algorithm?\n"
   ]
  },
  {
   "cell_type": "code",
   "execution_count": 62,
   "metadata": {},
   "outputs": [],
   "source": [
    "def localisation_count(bwt):\n",
    "    \"\"\" renvoie un tableau T tel que T[i] renvoie combien de fois bwt[i] est apparu dans bwt[:i]\n",
    "    \"\"\"\n",
    "    localisation=[0 for i in range(len(bwt))]\n",
    "    count=[0 for i in range(5)]\n",
    "    for i in range(len(bwt)):\n",
    "        if bwt[i]=='$':\n",
    "            count[0]+=1\n",
    "            localisation[i]=count[0]\n",
    "            \n",
    "        elif bwt[i]=='A':\n",
    "            count[1]+=1\n",
    "            localisation[i]=count[1]\n",
    "            \n",
    "        elif bwt[i]=='C':\n",
    "            count[2]+=1\n",
    "            localisation[i]=count[2]\n",
    "            \n",
    "        elif bwt[i]=='G':\n",
    "            count[3]+=1\n",
    "            localisation[i]=count[3]\n",
    "            \n",
    "        elif bwt[i]=='T':\n",
    "            count[4]+=1\n",
    "            localisation[i]=count[4]\n",
    "            \n",
    "    return localisation, count\n",
    "\n",
    "def left_corresponding_letter(letter, alphabet, bwt, count, localisation, bwt_index):\n",
    "        occurence=localisation[bwt_index]\n",
    "        #find the position i in the first column\n",
    "        position=sum(count[:alphabet[letter]])+occurence\n",
    "        #find the letter on position i in the last column\n",
    "        letter=bwt[position-1]\n",
    "        return letter, position-1\n",
    "\n",
    "\n",
    "\n",
    "def efficient_inverse_BWT(bwt,end_of_string=\"$\"):\n",
    "    \"\"\"\n",
    "    Inverse the BWT\n",
    "    \n",
    "    Args:\n",
    "        bwt (str): bwt of a string T\n",
    "        last_character (char): which is the end of string character?\n",
    "    \n",
    "    Return:\n",
    "        T (str): BWT^{-1} of bwt\n",
    "    \"\"\"  \n",
    "    T = str(end_of_string)\n",
    "\n",
    "    \n",
    "    \n",
    "\n",
    "            \n",
    "    localisation, count= localisation_count(bwt)       \n",
    "    alphabet={'$':0, 'A':1,'C':2,'G':3, 'T':4}\n",
    "    test=[0 for i in range(5)]\n",
    "    letter=bwt[0]\n",
    "    occurence=localisation[0]\n",
    "    \n",
    "    while letter!='$':\n",
    "        T=letter+T\n",
    "        test[alphabet[letter]]+=1\n",
    "        \n",
    "        print(\"letter is \" +str(alphabet[letter])+ \"th place in the alphabet\")\n",
    "        print(occurence)\n",
    "        print(\"count table\")\n",
    "        print(count)\n",
    "        \n",
    "        #find the position i in the first column\n",
    "        position=sum(count[:alphabet[letter]])+occurence\n",
    "        \n",
    "        print(\"position of letter in first column\")\n",
    "        print(position)\n",
    "        \n",
    "        #find the letter on position i in the last column\n",
    "        letter=bwt[position-1]\n",
    "        occurence=localisation[position-1]\n",
    "        print(\"new letter is \" +str(letter))\n",
    "        \n",
    "        \n",
    "    return(T)"
   ]
  },
  {
   "cell_type": "code",
   "execution_count": 28,
   "metadata": {},
   "outputs": [
    {
     "data": {
      "text/plain": [
       "1"
      ]
     },
     "execution_count": 28,
     "metadata": {},
     "output_type": "execute_result"
    }
   ],
   "source": [
    "test=[1,2,3,4]\n",
    "sum(test[:1])"
   ]
  },
  {
   "cell_type": "code",
   "execution_count": 32,
   "metadata": {},
   "outputs": [
    {
     "name": "stdout",
     "output_type": "stream",
     "text": [
      "[0, 0, 0, 0, 0, 0, 0, 0, 0, 0, 0, 0, 0, 0, 0, 0, 0, 0, 0, 0, 0, 0, 1, 0, 0, 0, 0, 0, 0, 0, 0, 0, 0, 0, 0, 0, 0, 0, 0, 0, 0, 0, 0, 0, 0, 0, 0, 0, 0, 0, 0, 0, 0, 0, 0, 0, 0, 0, 0, 0, 0, 0, 0, 0, 0, 0, 0, 0, 0, 0, 0, 0, 0, 0, 0, 0, 0]\n",
      "[1, 0, 0, 0, 0]\n"
     ]
    },
    {
     "ename": "KeyError",
     "evalue": "'t'",
     "output_type": "error",
     "traceback": [
      "\u001b[0;31m---------------------------------------------------------------------------\u001b[0m",
      "\u001b[0;31mKeyError\u001b[0m                                  Traceback (most recent call last)",
      "Cell \u001b[0;32mIn[32], line 1\u001b[0m\n\u001b[0;32m----> 1\u001b[0m \u001b[38;5;28;01mif\u001b[39;00m \u001b[43mefficient_inverse_BWT\u001b[49m\u001b[43m(\u001b[49m\u001b[43mBWT\u001b[49m\u001b[43m(\u001b[49m\u001b[43mtext\u001b[49m\u001b[43m)\u001b[49m\u001b[43m)\u001b[49m \u001b[38;5;241m==\u001b[39m text:\n\u001b[1;32m      2\u001b[0m     \u001b[38;5;28mprint\u001b[39m(\u001b[38;5;124m\"\u001b[39m\u001b[38;5;124mwell done!\u001b[39m\u001b[38;5;124m\"\u001b[39m)\n\u001b[1;32m      3\u001b[0m \u001b[38;5;28;01melse\u001b[39;00m:\n",
      "Cell \u001b[0;32mIn[31], line 49\u001b[0m, in \u001b[0;36mefficient_inverse_BWT\u001b[0;34m(bwt, end_of_string)\u001b[0m\n\u001b[1;32m     47\u001b[0m \u001b[38;5;28;01mwhile\u001b[39;00m letter\u001b[38;5;241m!=\u001b[39m\u001b[38;5;124m'\u001b[39m\u001b[38;5;124m$\u001b[39m\u001b[38;5;124m'\u001b[39m:\n\u001b[1;32m     48\u001b[0m     T\u001b[38;5;241m=\u001b[39mletter\u001b[38;5;241m+\u001b[39mT\n\u001b[0;32m---> 49\u001b[0m     occurence[\u001b[43malphabet\u001b[49m\u001b[43m[\u001b[49m\u001b[43mletter\u001b[49m\u001b[43m]\u001b[49m]\u001b[38;5;241m+\u001b[39m\u001b[38;5;241m=\u001b[39m\u001b[38;5;241m1\u001b[39m\n\u001b[1;32m     50\u001b[0m     \u001b[38;5;66;03m#find the position i in the first column\u001b[39;00m\n\u001b[1;32m     51\u001b[0m     position\u001b[38;5;241m=\u001b[39m\u001b[38;5;28msum\u001b[39m(localisation[:alphabet[letter]])\u001b[38;5;241m+\u001b[39moccurence[alphabet[letter]]\n",
      "\u001b[0;31mKeyError\u001b[0m: 't'"
     ]
    }
   ],
   "source": [
    "if efficient_inverse_BWT(BWT(text)) == text:\n",
    "    print(\"well done!\")\n",
    "else:\n",
    "    print(\"wrong answer\")"
   ]
  },
  {
   "cell_type": "code",
   "execution_count": 60,
   "metadata": {},
   "outputs": [
    {
     "name": "stdout",
     "output_type": "stream",
     "text": [
      "letter is 3th place in the alphabet\n",
      "1\n",
      "count table\n",
      "[1, 5, 2, 2, 2]\n",
      "position of letter in first column\n",
      "9\n",
      "new letter is T\n",
      "letter is 4th place in the alphabet\n",
      "2\n",
      "count table\n",
      "[1, 5, 2, 2, 2]\n",
      "position of letter in first column\n",
      "12\n",
      "new letter is A\n",
      "letter is 1th place in the alphabet\n",
      "5\n",
      "count table\n",
      "[1, 5, 2, 2, 2]\n",
      "position of letter in first column\n",
      "6\n",
      "new letter is G\n",
      "letter is 3th place in the alphabet\n",
      "2\n",
      "count table\n",
      "[1, 5, 2, 2, 2]\n",
      "position of letter in first column\n",
      "10\n",
      "new letter is A\n",
      "letter is 1th place in the alphabet\n",
      "3\n",
      "count table\n",
      "[1, 5, 2, 2, 2]\n",
      "position of letter in first column\n",
      "4\n",
      "new letter is C\n",
      "letter is 2th place in the alphabet\n",
      "1\n",
      "count table\n",
      "[1, 5, 2, 2, 2]\n",
      "position of letter in first column\n",
      "7\n",
      "new letter is A\n",
      "letter is 1th place in the alphabet\n",
      "1\n",
      "count table\n",
      "[1, 5, 2, 2, 2]\n",
      "position of letter in first column\n",
      "2\n",
      "new letter is T\n",
      "letter is 4th place in the alphabet\n",
      "1\n",
      "count table\n",
      "[1, 5, 2, 2, 2]\n",
      "position of letter in first column\n",
      "11\n",
      "new letter is A\n",
      "letter is 1th place in the alphabet\n",
      "4\n",
      "count table\n",
      "[1, 5, 2, 2, 2]\n",
      "position of letter in first column\n",
      "5\n",
      "new letter is C\n",
      "letter is 2th place in the alphabet\n",
      "2\n",
      "count table\n",
      "[1, 5, 2, 2, 2]\n",
      "position of letter in first column\n",
      "8\n",
      "new letter is A\n",
      "letter is 1th place in the alphabet\n",
      "2\n",
      "count table\n",
      "[1, 5, 2, 2, 2]\n",
      "position of letter in first column\n",
      "3\n",
      "new letter is $\n",
      "well done!\n"
     ]
    }
   ],
   "source": [
    "if efficient_inverse_BWT(\"GT$CCGAATAAA\") == \"ACATACAGATG$\":\n",
    "    print(\"well done!\")\n",
    "else:\n",
    "    print(\"wrong answer\")\n",
    "    print(efficient_inverse_BWT(\"GT$CCGAATAAA\"))"
   ]
  },
  {
   "cell_type": "markdown",
   "metadata": {},
   "source": [
    "### String search using the BWT\n",
    "\n",
    "Using a similar technique as in the efficient inverse BWT, it is possible to detect the presence of a substring $T$ in a string $S$ using the following principle\n",
    "\n",
    "__initialization__\n",
    "\n",
    "+ $L \\leftarrow BWT(S)$\n",
    "+ $F \\leftarrow$ First column of the BW table\n",
    "+ $e \\leftarrow 1$\n",
    "+ $f \\leftarrow |F|$\n",
    "+ $i \\leftarrow |T|$\n",
    "\n",
    "__while $e < f$ and $i>0$:__\n",
    " \n",
    "+ $X\\leftarrow T[i]$\n",
    "+ $r \\leftarrow $ first position of $T[i]$ in L[e,f]\n",
    "+ $s \\leftarrow $ last position of $T[i]$ in L[e,f]\n",
    "+ $e \\leftarrow $ index of the r-th occurrence of $T[i]$ in F\n",
    "+ $f \\leftarrow $ index of the s-th occurrence of $T[i]$ in F\n",
    "+ $i \\leftarrow i-1$\n",
    "\n",
    "__Question:__\n",
    "+ It is possible to avoid computing and storing the first column, propose a method to do this (take a look to the Efficient Inverse Burrows Wheeler Transform)\n",
    "+ Program this function in python\n",
    "+ Assuming that we store the index of the characters in the original string (as in a suffix array), it is possible to use the previous method to detect the location of the instances of the substring $T$ in $S$."
   ]
  },
  {
   "cell_type": "code",
   "execution_count": 110,
   "metadata": {},
   "outputs": [],
   "source": [
    "def pattern_matching_BWT(S,pattern):\n",
    "    \"\"\"\n",
    "    Search a patter in a String using the BWT\n",
    "    \n",
    "    Args:\n",
    "        S (str): string\n",
    "        pattern (str): pattern\n",
    "    \n",
    "    Return:\n",
    "        bool: true if the pattern is in the string    \n",
    "    \"\"\"\n",
    "    pattern_in_S = False\n",
    "    bwt=BWT(S)\n",
    "    print(\"bwt\")\n",
    "    print(bwt)\n",
    "    localisation, count= localisation_count(bwt)\n",
    "    \n",
    "    i=len(pattern)-1 #position de la dernière lettre du pattern\n",
    "    alphabet={'$':0, 'A':1,'C':2,'G':3, 'T':4}\n",
    "    la=[]\n",
    "    lb=[]\n",
    "    \n",
    "    \n",
    "    letter=pattern[i]\n",
    "    # initialisation des \"lettres intéressantes\"\n",
    "    for j in range(len(bwt)):\n",
    "        if bwt[j]==letter:\n",
    "            la.append(j)\n",
    "            \n",
    "    while i!=0:\n",
    "        letter=pattern[i]\n",
    "        print(\"on est à la lettre \"+str(i)+ \" du pattern, qui est \"+ str(letter))\n",
    "        i-=1\n",
    "        k=0\n",
    "        print(\"les positions des lettres interessantes sont: \")\n",
    "        print(la)\n",
    "        # on cherche les élèments qui correspondent à la lettre suivante de notre pattern\n",
    "        for k in range(len(la)):\n",
    "            index=la[k]\n",
    "            right_letter=letter\n",
    "            letter, position=left_corresponding_letter(right_letter, alphabet, bwt, count, localisation, index)\n",
    "            \n",
    "            if letter==pattern[i]:\n",
    "                lb.append(position)\n",
    "                print(\"la lettre suivante (qui est \"+ str(letter)+\") est à la position \"+ str(position))\n",
    "    \n",
    "            if not lb:\n",
    "                print(\"aucune lettre du texte ne correspond à la lettre suivante\")\n",
    "                return pattern_in_S\n",
    "        la=lb\n",
    "        lb=[]\n",
    "                \n",
    "        #on vérifie que la liste n'est pas vide\n",
    "        \n",
    "    \n",
    "    pattern_in_S=True\n",
    "    \n",
    "    return pattern_in_S"
   ]
  },
  {
   "cell_type": "code",
   "execution_count": 111,
   "metadata": {},
   "outputs": [
    {
     "name": "stdout",
     "output_type": "stream",
     "text": [
      "bwt\n",
      "GT$CCGAATAAA\n",
      "on est à la lettre 4 du pattern, qui est C\n",
      "les positions des lettres interessantes sont: \n",
      "[3, 4]\n",
      "la lettre suivante (qui est A) est à la position 6\n",
      "on est à la lettre 3 du pattern, qui est A\n",
      "les positions des lettres interessantes sont: \n",
      "[6]\n",
      "la lettre suivante (qui est T) est à la position 1\n",
      "on est à la lettre 2 du pattern, qui est T\n",
      "les positions des lettres interessantes sont: \n",
      "[1]\n",
      "la lettre suivante (qui est A) est à la position 10\n",
      "on est à la lettre 1 du pattern, qui est A\n",
      "les positions des lettres interessantes sont: \n",
      "[10]\n",
      "la lettre suivante (qui est C) est à la position 4\n",
      "well done!\n"
     ]
    }
   ],
   "source": [
    "if pattern_matching_BWT('ACATACAGATG','CATAC'):\n",
    "    print(\"well done!\")\n",
    "else:\n",
    "    print(\"wrong\")\n",
    "    print(pattern_matching_BWT('ACATACAGATG','CATAC'))"
   ]
  },
  {
   "cell_type": "markdown",
   "metadata": {},
   "source": [
    "### More material\n",
    "https://www.youtube.com/watch?v=6BJbEWyO_N0&ab_channel=BenLangmead\n",
    "\n",
    "https://www.youtube.com/watch?v=GWFb_C4IR14&ab_channel=BenLangmead\n",
    "\n",
    "https://www.molgen.mpg.de/3708260/bwt_fm.pdf\n",
    "\n",
    "https://www.coursera.org/lecture/algorithms-on-strings/using-bwt-for-pattern-matching-n8hIN"
   ]
  }
 ],
 "metadata": {
  "kernelspec": {
   "display_name": "Python 3 (ipykernel)",
   "language": "python",
   "name": "python3"
  },
  "language_info": {
   "codemirror_mode": {
    "name": "ipython",
    "version": 3
   },
   "file_extension": ".py",
   "mimetype": "text/x-python",
   "name": "python",
   "nbconvert_exporter": "python",
   "pygments_lexer": "ipython3",
   "version": "3.9.2"
  }
 },
 "nbformat": 4,
 "nbformat_minor": 2
}
