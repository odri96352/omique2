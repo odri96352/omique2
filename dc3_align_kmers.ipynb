{
 "cells": [
  {
   "cell_type": "markdown",
   "id": "e59a2357",
   "metadata": {},
   "source": [
    "## Développement d’une solution de mapping de données de séquençage à haut-débit sur un génome de référence"
   ]
  },
  {
   "cell_type": "markdown",
   "id": "cdb689bb",
   "metadata": {},
   "source": [
    "#### Mise en place d'un algorithme permettant de chercher un mot de longueur fixe dans un texte"
   ]
  },
  {
   "cell_type": "markdown",
   "id": "d8156682",
   "metadata": {},
   "source": [
    "#### Plan du notebook:\n",
    "1/ Implémentation d'un algorithme \"Difference Cover size 3\" pour construire une table de suffixe à partir d'un génome en un temps linéaire"
   ]
  },
  {
   "cell_type": "markdown",
   "id": "9fcbb8fb",
   "metadata": {},
   "source": [
    "### DC3\n",
    "#### Première étape de DC3: division des positions de notre génome, tri des positions"
   ]
  },
  {
   "cell_type": "code",
   "execution_count": 1,
   "id": "bf52a3d6",
   "metadata": {},
   "outputs": [
    {
     "name": "stderr",
     "output_type": "stream",
     "text": [
      "/usr/lib/python3/dist-packages/scipy/__init__.py:146: UserWarning: A NumPy version >=1.17.3 and <1.25.0 is required for this version of SciPy (detected version 1.26.1\n",
      "  warnings.warn(f\"A NumPy version >={np_minversion} and <{np_maxversion}\"\n"
     ]
    }
   ],
   "source": [
    "import time\n",
    "import matplotlib.pyplot as plt\n",
    "import pandas as pd\n",
    "import seaborn as sns"
   ]
  },
  {
   "cell_type": "code",
   "execution_count": 2,
   "id": "7166cabb",
   "metadata": {},
   "outputs": [],
   "source": [
    "def asciiDC3 (seq) : \n",
    "    \"\"\"\n",
    "    Create sequence of ascii equivalent of each element of given list parameter.\n",
    "    Add three sentinel numbers necessary for DC3 algorithm.\n",
    "    \n",
    "    Args:\n",
    "        seq (list of str): list of elements to transform\n",
    "    \n",
    "    Return:\n",
    "        (list of int)\n",
    "    \"\"\"\n",
    "    asc=[]\n",
    "    for i in seq : \n",
    "        asc.append(ord(i))\n",
    "    \n",
    "    return asc+[0,0,0]\n",
    "\n",
    "def position12_radix_with_p12 (asc):\n",
    "    \"\"\"\n",
    "    Create sequence of ascii equivalent of each element of given list parameter.\n",
    "    Add three sentinel numbers necessary for DC3 algorithm.\n",
    "    \n",
    "    Args:\n",
    "        seq (list of str): list of elements to transform\n",
    "    \n",
    "    Return:\n",
    "        (list of int)\n",
    "    \"\"\"\n",
    "    p12=[]\n",
    "    r12=[]\n",
    "    for k in range(len(asc)-2):\n",
    "        #attention on a peut etre fait de la merde ici, pas sure du -2\n",
    "        if k%3!=0 :\n",
    "            p12.append(k)\n",
    "            r12.append([[asc[k],asc[k+1], asc[k+2]],k])\n",
    "    # dans le cas où T a un nombre d'élément multiple de 3, r12 ne contiendra pas le triplet [0,0,0].\n",
    "    # Or, la fonction, \"removesentinel\" retire 1 élément notre suffix table, pour justement se débarrasser de [0,0,0]\n",
    "    # J'ai donc décider de rajouter artificiellement [0,0,0] dans les cas où il n'est pas déjà là.\n",
    "    if len(asc)%3==0:\n",
    "        k=len(asc)-1-2\n",
    "        p12.append(k)\n",
    "        r12.append([[asc[k],asc[k+1], asc[k+2]],k])\n",
    "        \n",
    "    return p12,r12\n",
    "\n",
    "def radix_with_p12(p,t):\n",
    "    r=[]\n",
    "    for i in range(len(p)):\n",
    "        index=p[i]\n",
    "        r.append([[t[index],t[index+1], t[index+2]],index])\n",
    "    return r"
   ]
  },
  {
   "cell_type": "code",
   "execution_count": 3,
   "id": "862523e6",
   "metadata": {},
   "outputs": [],
   "source": [
    "def sort_with_p12(array, alphabet, columnNumber):\n",
    "        \"\"\"\n",
    "    Sorts parameter \"array\" using Radix Sort\n",
    "    \n",
    "    Args:\n",
    "        array (list of list): list of triplets and their positions.\n",
    "        \n",
    "        alphabet (dictionnary): alphabet of our array \n",
    "        \n",
    "        columnNumber (int): number of last column of the lists in our paramater \"array\". \n",
    "                                    for r12, columnNumber=2\n",
    "                                    for r0, columnNumber=1\n",
    "    \n",
    "    Return:\n",
    "        array (list of list) : sorted list of triplets and their positions\n",
    "\n",
    "    \"\"\"\n",
    "    #print(\"array\")\n",
    "    #print(array)\n",
    "    #print(\"alphabet\")\n",
    "    #print(alphabet)\n",
    "    if len(array) == 0:\n",
    "        return array\n",
    "\n",
    "  # Perform counting sort on each column, starting at the last\n",
    "\n",
    "    column = columnNumber\n",
    "    while column>=0: # nous on met \"tant que l'indice est supérieur à 3\"\n",
    "        array = countingSortByDigit_with_p12(array, alphabet, column)\n",
    "        column-=1 #change de colonne dans ton tableau\n",
    "\n",
    "    return array\n",
    "\n",
    "def countingSortByDigit_with_p12(array, alphabet, column):\n",
    "    \"\"\"\n",
    "    ici possibleNumbers= nombre de chiffres possibles. Nous n'avons que 4 nombres (0,97,98,99)\n",
    "    \"\"\"\n",
    "\n",
    "    countIndex = -1\n",
    "    count = [0] * len(alphabet)\n",
    "    output = [None] * len(array)\n",
    "\n",
    "  # Count frequencies\n",
    "    for i in range(0, len(array)):\n",
    "        #print(\"i \"+str(i))\n",
    "        #print(\"array[i] \"+ str(array[i]))\n",
    "        #print(\"column \"+str(column))\n",
    "        \n",
    "        countIndex = alphabet[array[i][0][column]]\n",
    "        count[countIndex] += 1\n",
    "\n",
    "  # Compute cumulates\n",
    "    for i in range(1, len(alphabet)):\n",
    "        count[i] += count[i - 1]\n",
    "\n",
    "  # Move records\n",
    "    for i in range(len(array) - 1, -1, -1):\n",
    "        countIndex = alphabet[array[i][0][column]]\n",
    "        count[countIndex] -= 1\n",
    "        output[count[countIndex]] = array[i]\n",
    "       \n",
    "    return output"
   ]
  },
  {
   "cell_type": "code",
   "execution_count": 4,
   "id": "b13f245e",
   "metadata": {},
   "outputs": [],
   "source": [
    "def triplets_are_equal(a,b):\n",
    "    for i in range(len(a)):\n",
    "        if a[i]!=b[i]:\n",
    "            return False\n",
    "    return True\n",
    "\n",
    "\n",
    "def ordre_with_p12(R12p12sorted, use_index_12=False):\n",
    "    # nous renovie la liste order du genre (1,2,2,3,4,4,5)  et un booléen indiquant s'il y a répétition\n",
    "    index=1\n",
    "    repetition=False\n",
    "    order=[1]\n",
    "    \n",
    "    if use_index_12:\n",
    "        indexdict={R12p12sorted[0][1]:1}\n",
    "        \n",
    "    for i in range(1, len(R12p12sorted)): \n",
    "        if triplets_are_equal(R12p12sorted[i-1][0], R12p12sorted[i][0]):\n",
    "            order.append(index)\n",
    "            repetition=True\n",
    "        else : \n",
    "            index+=1\n",
    "            order.append(index)\n",
    "            \n",
    "        if use_index_12:\n",
    "            indexdict[R12p12sorted[i][1]]=order[i]\n",
    "    if use_index_12:\n",
    "        return order, repetition, indexdict\n",
    "    else: \n",
    "        return order\n",
    "            "
   ]
  },
  {
   "cell_type": "code",
   "execution_count": 5,
   "id": "992507a1",
   "metadata": {},
   "outputs": [],
   "source": [
    "def alphabetT(T):\n",
    "        \"\"\"\n",
    "    Returns a dictionnary with the order of each \"letter\" constituting the parameter T.\n",
    "    \n",
    "    Example: \n",
    "        alphabetT([4,9,14,67])={4:0, 9:1, 14:2, 67:3}\n",
    "    \n",
    "    Args:\n",
    "        T (list of int): the sequence we want a suffix array from\n",
    "    \n",
    "    Return:\n",
    "        dic (dictionnary) : order of each \"letter\" constituting the parameter T\n",
    "\n",
    "    \"\"\"\n",
    "    dic={}\n",
    "    a=[]\n",
    "    for i in range(len(T)):\n",
    "        a.append(T[i])\n",
    "    a.sort() \n",
    "    \n",
    "    for element in a:\n",
    "        if not (element in dic):\n",
    "            dic[element]=len(dic)\n",
    "    return dic"
   ]
  },
  {
   "cell_type": "code",
   "execution_count": 6,
   "id": "51c44263",
   "metadata": {},
   "outputs": [],
   "source": [
    "def alphabetR0_with_p12(R0p0):\n",
    "        \"\"\"\n",
    "    Returns a dictionnary with the order of each \"letter\" constituting the parameter R0p0.\n",
    "    Similar to the function alphabetT, coded specifically for the output of function position0_R0_p0\n",
    "    \n",
    "    Example: \n",
    "        alphabetR0_with_p12([[[65, 14], 0], [[67, 11], 3]]) = {11: 0, 14: 1, 65: 2, 67: 3}\n",
    "    \n",
    "    Args:\n",
    "        R0p0 (list of list): list of couples and their position in the sequence we want a suffix array from.\n",
    "                             output of function position0_R0_p0\n",
    "                             [ [couple], position multiple of 3]\n",
    "    \n",
    "    Return:\n",
    "        dic (dictionnary) : order of each \"letter\" constituting the parameter R0p0\n",
    "    \"\"\"\n",
    "\n",
    "    dic={}\n",
    "    a=[]\n",
    "    for column in range(2):\n",
    "        for i in range(len(R0p0)):\n",
    "            a.append(R0p0[i][0][column])\n",
    "    a.sort() \n",
    "    \n",
    "    for element in a:\n",
    "        if not (element in dic):\n",
    "            dic[element]=len(dic)\n",
    "    return dic"
   ]
  },
  {
   "cell_type": "code",
   "execution_count": 7,
   "id": "a616f4b5",
   "metadata": {},
   "outputs": [],
   "source": [
    "def Tprime_with_p12(p12, indexdict):\n",
    "    t=[]\n",
    "    for p in p12:\n",
    "        t.append(indexdict[p])\n",
    "    return t"
   ]
  },
  {
   "cell_type": "code",
   "execution_count": 8,
   "id": "679e86bf",
   "metadata": {},
   "outputs": [],
   "source": [
    "def position0_R0_p0(T, index12dict):\n",
    "    #attention T se finit avec trois 0\n",
    "    #print(\"T\")\n",
    "    #print(T)\n",
    "    position=[]\n",
    "    R=[]\n",
    "    for i in range(len(T)-3): #on ne prend pas en compte les trois 0 sentinelle\n",
    "        if i%3==0:\n",
    "            position.append(i)\n",
    "            if i+1<len(T)-3:\n",
    "                #print(\"i\")\n",
    "                #print(i)\n",
    "                #print(\"T[i+1]\")\n",
    "                #print(T[i+1])\n",
    "                R.append([[T[i],index12dict[i+1]],position[-1]])\n",
    "            else:\n",
    "                R.append([[T[i],1],position[-1]]) # car les sentinelles sont forcément les 1ères dans l'ordre alphabétique\n",
    "    return position, R"
   ]
  },
  {
   "cell_type": "code",
   "execution_count": 9,
   "id": "83cfeabf",
   "metadata": {},
   "outputs": [],
   "source": [
    "def merge_with_p12(Tfinal, r0p0sorted, index12dict) : \n",
    "    index12dictkeys=list(index12dict.keys())\n",
    "    liste=[]\n",
    "    A=0\n",
    "    B=0\n",
    "    while A<len(r0p0sorted) and B<len(index12dictkeys):\n",
    "        a=r0p0sorted[A][1]\n",
    "        b=index12dictkeys[B]\n",
    "        if Tfinal[a]!=Tfinal[b] :\n",
    "            minimum=min(Tfinal[a], Tfinal[b])\n",
    "            \n",
    "            if minimum == Tfinal[a]:\n",
    "                A+=1\n",
    "                liste.append(a)\n",
    "            else: \n",
    "                B+=1\n",
    "                liste.append(b)\n",
    "\n",
    "        else :\n",
    "            if b%3==1 : \n",
    "                longueur=len(liste)\n",
    "                i=0\n",
    "                if index12dict[a+1]<index12dict[b+1]:\n",
    "                    liste.append(a)\n",
    "                \n",
    "                    A+=1\n",
    "                else:\n",
    "                    liste.append(b)\n",
    "                \n",
    "                    B+=1\n",
    "                    \n",
    "                    \n",
    "            elif b%3==2 :\n",
    "            \n",
    "                if Tfinal[a+1]!=Tfinal[b+1] :\n",
    "                   \n",
    "                    minimum=min(Tfinal[a+1], Tfinal[b+1])\n",
    "                    if minimum == Tfinal[a+1]:\n",
    "                        A+=1\n",
    "                    \n",
    "                        liste.append(a)\n",
    "                    else: \n",
    "                        B+=1\n",
    "                        \n",
    "                        liste.append(b)\n",
    "\n",
    "                else:\n",
    "                  \n",
    "                    if index12dict[a+2]<index12dict[b+2]:\n",
    "                        liste.append(a)\n",
    "                        A+=1\n",
    "                    else:\n",
    "                        liste.append(b)\n",
    "                        B+=1\n",
    "                        \n",
    "\n",
    "    if A==len(r0p0sorted):\n",
    "\n",
    "        for i in range(B,len(index12dictkeys)):\n",
    "            liste.append(index12dictkeys[i])\n",
    "                \n",
    "    if B==len(index12dictkeys):\n",
    "\n",
    "        for i in range(A, len(r0p0sorted)):\n",
    "            liste.append(r0p0sorted[i][1])\n",
    "\n",
    "    return liste"
   ]
  },
  {
   "cell_type": "code",
   "execution_count": 10,
   "id": "4d8d329f",
   "metadata": {},
   "outputs": [],
   "source": [
    "def merge_with_p12_debugg(Tfinal, r0p0sorted, index12dict) : \n",
    "    print(\"rappel des paramètres entrés pour la fonction merge\")\n",
    "    print(\"Tfinal\")\n",
    "    print(Tfinal)\n",
    "    print(\"r0p0sorted\")\n",
    "    print(r0p0sorted)\n",
    "    print(\"index12dict\")\n",
    "    print(index12dict)\n",
    "    print(\"on construit une liste des clés du dictionnaire\")\n",
    "    print(\"qui est dans l'ordre normalement ahhh!\")\n",
    "    index12dictkeys=list(index12dict.keys())\n",
    "    liste=[]\n",
    "    A=0\n",
    "    B=0\n",
    "    while A<len(r0p0sorted) and B<len(index12dictkeys):\n",
    "        print(\"rentre dans le while\")\n",
    "        a=r0p0sorted[A][1]\n",
    "        b=index12dictkeys[B]\n",
    "        if Tfinal[a]!=Tfinal[b] :\n",
    "            minimum=min(Tfinal[a], Tfinal[b])\n",
    "            \n",
    "            if minimum == Tfinal[a]:\n",
    "                print(\"a= \"+str(a)+\", b= \"+str(b)+\", on append le \"+str(a))\n",
    "                A+=1\n",
    "                liste.append(a)\n",
    "            else: \n",
    "                print(\"a= \"+str(a)+\", b= \"+str(b)+\", on append le \"+str(b))\n",
    "                B+=1\n",
    "                liste.append(b)\n",
    "\n",
    "        else :\n",
    "            print(\"Tfinal[a]\")\n",
    "            print(Tfinal[a])\n",
    "            print(\"Tfinal[b]\")\n",
    "            print(Tfinal[b])\n",
    "            print(\"Tfinal[a]==Tfinal[b]\")\n",
    "            print(Tfinal[a]==Tfinal[b])\n",
    "            if b%3==1 : \n",
    "                print(str(b)+\" est congru à 1 modulo 3\")\n",
    "                longueur=len(liste)\n",
    "                print(\"l'objet liste est pour l'instant constitué de: \")\n",
    "                print(liste)\n",
    "                i=0\n",
    "                print(\"on compare les positions de \"+str(a+1)+\" et \"+str(b+1))\n",
    "                print(\"index12dict[\" +str(a+1)+\"]= \")\n",
    "                print(index12dict[a+1])\n",
    "                print(\"index12dict[\" +str(b+1)+\"]= \")\n",
    "                print(index12dict[b+1])\n",
    "                if index12dict[a+1]<index12dict[b+1]:\n",
    "                    liste.append(a)\n",
    "                    print(\"on append \"+ str(a))\n",
    "                    A+=1\n",
    "                else:\n",
    "                    liste.append(b)\n",
    "                    print(\"on append \"+ str(b))\n",
    "                    B+=1\n",
    "                    \n",
    "                    \n",
    "            elif b%3==2 :\n",
    "                print(str(b)+\"est congru à 2 modulo 3\")\n",
    "                if Tfinal[a+1]!=Tfinal[b+1] :\n",
    "                    print(\"Tfinal[a+1]\")\n",
    "                    print(Tfinal[a+1])\n",
    "                    print(\"Tfinal[b+1]\")\n",
    "                    print(Tfinal[b+1])\n",
    "                    print(\"Tfinal[a+1]!=Tfinal[b+1]\")\n",
    "                    print(Tfinal[a+1]!=Tfinal[b+1])\n",
    "                    minimum=min(Tfinal[a+1], Tfinal[b+1])\n",
    "                    if minimum == Tfinal[a+1]:\n",
    "                        A+=1\n",
    "                        print(\"on append \"+ str(a))\n",
    "                        liste.append(a)\n",
    "                    else: \n",
    "                        B+=1\n",
    "                        print(\"on append \"+ str(b))\n",
    "                        liste.append(b)\n",
    "\n",
    "                else:\n",
    "                    print(\"Tfinal[a+1]\")\n",
    "                    print(Tfinal[a+1])\n",
    "                    print(\"Tfinal[b+1]\")\n",
    "                    print(Tfinal[b+1])\n",
    "                    print(\"Tfinal[a+1]==Tfinal[b+1]\")\n",
    "                    print(Tfinal[a+1]==Tfinal[b+1])\n",
    "                    print(\"on compare a+2 et b+2\")\n",
    "                    if index12dict[a+2]<index12dict[b+2]:\n",
    "                        liste.append(a)\n",
    "                        A+=1\n",
    "                    else:\n",
    "                        liste.append(b)\n",
    "                        B+=1\n",
    "                        \n",
    "    print(\"plus dans la boucle while\")\n",
    "    print(\"A \"+str(A))\n",
    "    print(\"B \"+str(B))\n",
    "    if A==len(r0p0sorted):\n",
    "        print(\"on concatène les index12\")\n",
    "        for i in range(B,len(index12dictkeys)):\n",
    "            liste.append(index12dictkeys[i])\n",
    "                \n",
    "    if B==len(index12dictkeys):\n",
    "        print(\"on concatène les index0\")\n",
    "        for i in range(A, len(r0p0sorted)):\n",
    "            liste.append(r0p0sorted[i][1])\n",
    "\n",
    "    return liste"
   ]
  },
  {
   "cell_type": "code",
   "execution_count": 11,
   "id": "5357493c",
   "metadata": {},
   "outputs": [],
   "source": [
    "def removesentinel(index):\n",
    "    return index[1:]"
   ]
  },
  {
   "cell_type": "code",
   "execution_count": 12,
   "id": "cf1426fb",
   "metadata": {},
   "outputs": [],
   "source": [
    "def resumeHigherOrder_with_p12(index012prime, P12):\n",
    "    output={}\n",
    "    for i in range(len(index012prime)):\n",
    "        output[P12[index012prime[i]]]=i\n",
    "        \n",
    "    return output"
   ]
  },
  {
   "cell_type": "markdown",
   "id": "1a1b29c2",
   "metadata": {},
   "source": [
    "### test zone avec test 2"
   ]
  },
  {
   "cell_type": "code",
   "execution_count": 13,
   "id": "497f5ea2",
   "metadata": {},
   "outputs": [
    {
     "name": "stdout",
     "output_type": "stream",
     "text": [
      "[[[84, 71, 67], 1], [[71, 67, 84], 2], [[84, 65, 71], 4], [[65, 71, 67], 5], [[67, 84, 71], 7], [[84, 71, 67], 8], [[67, 67, 67], 10], [[67, 67, 84], 11], [[84, 71, 65], 13], [[71, 65, 84], 14], [[84, 67, 84], 16], [[67, 84, 67], 17], [[67, 84, 67], 19], [[84, 67, 84], 20], [[84, 71, 65], 22], [[71, 65, 33], 23], [[33, 0, 0], 25], [[0, 0, 0], 26]]\n"
     ]
    }
   ],
   "source": [
    "test_2='ATGCTAGCTGCCCTGATCTCTCTGA!'\n",
    "p12_test_2=[1, 4, 7, 10, 13, 16, 19, 22, 25, 2, 5, 8, 11, 14, 17, 20, 23, 26]\n",
    "r12_test_2=[[84, 71, 67], [84, 65, 71], [67, 84, 71], [67, 67, 67], [84, 71, 65], [84, 67, 84], [67, 84, 67], [84, 71, 65], [33, 0, 0], [71, 67, 84], [65, 71, 67], [84, 71, 67], [67, 67, 84], [71, 65, 84], [67, 84, 67], [84, 67, 84], [71, 65, 33], [0, 0, 0]]\n",
    "alphabet_test_2={0: 0, 33: 1, 65: 2, 67: 3, 71: 4, 84: 5}\n",
    "\n",
    "\n",
    "p12,r12_p12_test_2=position12_radix_with_p12(asciiDC3(test_2))\n",
    "print(r12_p12_test_2)\n",
    "\n"
   ]
  },
  {
   "cell_type": "code",
   "execution_count": 14,
   "id": "1e1bea1a",
   "metadata": {},
   "outputs": [
    {
     "name": "stdout",
     "output_type": "stream",
     "text": [
      "[[[0, 0, 0], 26], [[33, 0, 0], 25], [[65, 71, 67], 5], [[67, 67, 67], 10], [[67, 67, 84], 11], [[67, 84, 67], 17], [[67, 84, 67], 19], [[67, 84, 71], 7], [[71, 65, 33], 23], [[71, 65, 84], 14], [[71, 67, 84], 2], [[84, 65, 71], 4], [[84, 67, 84], 16], [[84, 67, 84], 20], [[84, 71, 65], 13], [[84, 71, 65], 22], [[84, 71, 67], 1], [[84, 71, 67], 8]]\n"
     ]
    }
   ],
   "source": [
    "r12_p12_sorted=sort_with_p12(r12_p12_test_2, alphabet_test_2, 2)\n",
    "print(r12_p12_sorted)"
   ]
  },
  {
   "cell_type": "code",
   "execution_count": 15,
   "id": "c852ec63",
   "metadata": {},
   "outputs": [
    {
     "name": "stdout",
     "output_type": "stream",
     "text": [
      "[67, 84, 67]\n",
      "[67, 84, 67]\n",
      "True\n",
      "[1, 2, 3, 4, 5, 6, 6, 7, 8, 9, 10, 11, 12, 12, 13, 13, 14, 14]\n",
      "{26: 1, 25: 2, 5: 3, 10: 4, 11: 5, 17: 6, 19: 6, 7: 7, 23: 8, 14: 9, 2: 10, 4: 11, 16: 12, 20: 12, 13: 13, 22: 13, 1: 14, 8: 14}\n"
     ]
    }
   ],
   "source": [
    "print(r12_p12_sorted[5][0])\n",
    "print(r12_p12_sorted[6][0])\n",
    "print(triplets_are_equal(r12_p12_sorted[5][0],r12_p12_sorted[6][0]))\n",
    "ordre_test_2, repetition, indexdict_test_2=ordre_with_p12(r12_p12_sorted, True)\n",
    "print(ordre_test_2)\n",
    "print(indexdict_test_2)"
   ]
  },
  {
   "cell_type": "code",
   "execution_count": 16,
   "id": "c45e82ed",
   "metadata": {},
   "outputs": [
    {
     "name": "stdout",
     "output_type": "stream",
     "text": [
      "[0, 3, 6, 9, 12, 15, 18, 21, 24]\n",
      "[[[65, 14], 0], [[67, 11], 3], [[71, 7], 6], [[71, 4], 9], [[67, 13], 12], [[65, 12], 15], [[84, 6], 18], [[67, 13], 21], [[65, 2], 24]]\n",
      "{2: 0, 4: 1, 6: 2, 7: 3, 11: 4, 12: 5, 13: 6, 14: 7, 65: 8, 67: 9, 71: 10, 84: 11}\n",
      "[[[65, 2], 24], [[65, 12], 15], [[65, 14], 0], [[67, 11], 3], [[67, 13], 12], [[67, 13], 21], [[71, 4], 9], [[71, 7], 6], [[84, 6], 18]]\n"
     ]
    }
   ],
   "source": [
    "p0, R0_p0_test_2=position0_R0_p0(asciiDC3(test_2), indexdict_test_2)\n",
    "\n",
    "print(p0)\n",
    "print(R0_p0_test_2)\n",
    "\n",
    "alphabet_r0_test_2=alphabetR0_with_p12(R0_p0_test_2)\n",
    "print(alphabet_r0_test_2)\n",
    "    \n",
    "r0p0sorted=sort_with_p12(R0_p0_test_2,alphabet_r0_test_2 ,1)\n",
    "print(r0p0sorted)\n",
    "\n",
    "order0=ordre_with_p12(r0p0sorted)\n",
    "    "
   ]
  },
  {
   "cell_type": "markdown",
   "id": "6817fdf1",
   "metadata": {},
   "source": [
    "### test zone avec abcabcabc"
   ]
  },
  {
   "cell_type": "code",
   "execution_count": 17,
   "id": "56a19fcd",
   "metadata": {},
   "outputs": [
    {
     "name": "stdout",
     "output_type": "stream",
     "text": [
      "[97, 98, 99, 97, 98, 99, 97, 99, 97, 98, 0, 0, 0]\n"
     ]
    }
   ],
   "source": [
    "S=\"abcabcacab\"\n",
    "T=asciiDC3(S)\n",
    "columnnumber=2\n",
    "print(T)\n"
   ]
  },
  {
   "cell_type": "code",
   "execution_count": 18,
   "id": "c148b266",
   "metadata": {},
   "outputs": [
    {
     "name": "stdout",
     "output_type": "stream",
     "text": [
      "[1, 2, 4, 5, 7, 8, 10]\n",
      "[[[98, 99, 97], 1], [[99, 97, 98], 2], [[98, 99, 97], 4], [[99, 97, 99], 5], [[99, 97, 98], 7], [[97, 98, 0], 8], [[0, 0, 0], 10]]\n",
      "[[[0, 0, 0], 10], [[97, 98, 0], 8], [[98, 99, 97], 1], [[98, 99, 97], 4], [[99, 97, 98], 2], [[99, 97, 98], 7], [[99, 97, 99], 5]]\n",
      "[1, 2, 3, 3, 4, 4, 5]\n",
      "True\n",
      "{10: 1, 8: 2, 1: 3, 4: 3, 2: 4, 7: 4, 5: 5}\n",
      "[3, 4, 3, 5, 4, 2, 1]\n"
     ]
    },
    {
     "data": {
      "text/plain": [
       "[3, 4, 3, 5, 4, 2, 1, 0, 0, 0]"
      ]
     },
     "execution_count": 18,
     "metadata": {},
     "output_type": "execute_result"
    }
   ],
   "source": [
    "p12,R12=position12_radix_with_p12(T)\n",
    "print(p12)\n",
    "print(R12)\n",
    "alph=alphabetT(T)\n",
    "alph\n",
    "Rs12= sort_with_p12(R12, alph, columnnumber)\n",
    "print(Rs12)\n",
    "\n",
    "use_index12=True\n",
    "order12, boolean, index12dict =ordre_with_p12(Rs12,use_index12)\n",
    "print(order12)\n",
    "print(boolean)\n",
    "print(index12dict)\n",
    "\n",
    "tprime=Tprime_with_p12(p12, index12dict)\n",
    "print(tprime)\n",
    "\n",
    "tprime=tprime+[0,0,0]\n",
    "tprime"
   ]
  },
  {
   "cell_type": "code",
   "execution_count": 19,
   "id": "dca6db52",
   "metadata": {},
   "outputs": [
    {
     "name": "stdout",
     "output_type": "stream",
     "text": [
      "[1, 2, 4, 5, 7]\n",
      "[[[4, 3, 5], 1], [[3, 5, 4], 2], [[4, 2, 1], 4], [[2, 1, 0], 5], [[0, 0, 0], 7]]\n",
      "{0: 0, 1: 1, 2: 2, 3: 3, 4: 4, 5: 5}\n",
      "[[[0, 0, 0], 7], [[2, 1, 0], 5], [[3, 5, 4], 2], [[4, 2, 1], 4], [[4, 3, 5], 1]]\n",
      "[1, 2, 3, 4, 5]\n",
      "False\n",
      "{7: 1, 5: 2, 2: 3, 4: 4, 1: 5}\n"
     ]
    }
   ],
   "source": [
    "p12prime,R12prime=position12_radix_with_p12(tprime)\n",
    "print(p12prime)\n",
    "print(R12prime)\n",
    "alphprime=alphabetT(tprime)\n",
    "print(alphprime)\n",
    "Rs12prime= sort_with_p12(R12prime, alphprime, columnnumber)\n",
    "print(Rs12prime)\n",
    "\n",
    "order12prime, boolean, index12primedict =ordre_with_p12(Rs12prime, True)\n",
    "print(order12prime)\n",
    "print(boolean)\n",
    "print(index12primedict)"
   ]
  },
  {
   "cell_type": "code",
   "execution_count": 20,
   "id": "2d4df4de",
   "metadata": {},
   "outputs": [
    {
     "name": "stdout",
     "output_type": "stream",
     "text": [
      "[0, 3, 6]\n",
      "[[[3, 5], 0], [[5, 4], 3], [[1, 1], 6]]\n"
     ]
    }
   ],
   "source": [
    "p0prime, r0prime=position0_R0_p0(tprime, index12primedict)\n",
    "print(p0prime)\n",
    "print(r0prime)"
   ]
  },
  {
   "cell_type": "code",
   "execution_count": 21,
   "id": "c6f7f9a0",
   "metadata": {},
   "outputs": [
    {
     "name": "stdout",
     "output_type": "stream",
     "text": [
      "{1: 0, 3: 1, 4: 2, 5: 3}\n",
      "[[[1, 1], 6], [[3, 5], 0], [[5, 4], 3]]\n"
     ]
    },
    {
     "data": {
      "text/plain": [
       "[7, 6, 5, 0, 2, 4, 1, 3]"
      ]
     },
     "execution_count": 21,
     "metadata": {},
     "output_type": "execute_result"
    }
   ],
   "source": [
    "alph0prime=alphabetR0_with_p12(r0prime)\n",
    "print(alph0prime)\n",
    "r0sprime= sort_with_p12(r0prime, alph0prime, columnnumber-1)\n",
    "print(r0sprime)\n",
    "\n",
    "index120prime=merge_with_p12(tprime, r0sprime, index12primedict)\n",
    "index120prime"
   ]
  },
  {
   "cell_type": "markdown",
   "id": "337a7274",
   "metadata": {},
   "source": [
    "# Assemblage final"
   ]
  },
  {
   "cell_type": "code",
   "execution_count": 22,
   "id": "c6a79b12",
   "metadata": {},
   "outputs": [],
   "source": [
    "def almost_dc3_with_p12(T):\n",
    "    # T est une liste de int\n",
    "\n",
    "    \n",
    "    columnNumber=2\n",
    "    p12,r12=position12_radix_with_p12(T)\n",
    "    alphabet_T=alphabetT(T)\n",
    "    r12sorted=sort_with_p12(r12, alphabet_T, columnNumber)    \n",
    "    order12,repetition, index12dict=ordre_with_p12(r12sorted, True)\n",
    "    if repetition:\n",
    "        Tprim=Tprime_with_p12(p12, index12dict)+[0,0,0]\n",
    "        index012=almost_dc3_with_p12(Tprim)\n",
    "        index12dict=resumeHigherOrder_with_p12(index012, p12)\n",
    "    p0,r0p0=position0_R0_p0(T, index12dict)\n",
    "    alphabet_r0=alphabetR0_with_p12(r0p0)\n",
    "    r0sorted=sort_with_p12(r0p0,alphabet_r0 ,columnNumber-1)\n",
    "    index012=removesentinel(merge_with_p12(T, r0sorted, index12dict))\n",
    "    \n",
    "    return index012\n",
    "   \n",
    "    \n",
    "    "
   ]
  },
  {
   "cell_type": "code",
   "execution_count": 23,
   "id": "78c5f2d2",
   "metadata": {},
   "outputs": [],
   "source": [
    "def almost_dc3_with_p12_debugg(T):\n",
    "    # T est une liste de int\n",
    "\n",
    "    \n",
    "    columnNumber=2\n",
    "    p12,r12=position12_radix_with_p12(T)\n",
    "    \n",
    "    \n",
    "    print(\"p12\")\n",
    "    print(p12)\n",
    "    print(\"taille de p12 avant récursion\")\n",
    "    print(len(p12))\n",
    "    print(\"\\n\")\n",
    "    \n",
    "    \n",
    "    print(\"r12\")\n",
    "    print(r12)\n",
    "    print(\"\\n\")\n",
    "\n",
    "    alphabet_T=alphabetT(T)\n",
    "    print(\"alphabet de T\")\n",
    "    print(alphabet_T)\n",
    "    \n",
    "    r12sorted=sort_with_p12(r12, alphabet_T, columnNumber)\n",
    "    print(\"r12sorted\")\n",
    "    print(r12sorted)\n",
    "    print(\"\\n\")\n",
    "    \n",
    "    order12,repetition, index12dict=ordre_with_p12(r12sorted, True)\n",
    "    print(\"order12\")\n",
    "    print(order12)\n",
    "    print(\"index12dict\")\n",
    "    print(index12dict)\n",
    "    print(\"entre-t-on dans la boucle de répétition?\")\n",
    "    print(repetition)\n",
    "    print(\"\\n\")\n",
    "    \n",
    "\n",
    "    if repetition:\n",
    "\n",
    "        \n",
    "        Tprim=Tprime_with_p12(p12, index12dict)+[0,0,0]\n",
    "        print(\"tprime\")\n",
    "        print(Tprim)\n",
    "        print(\"taille de tprime\")\n",
    "        print(len(Tprim))\n",
    "        print(\"\\n\")\n",
    "        \n",
    "        index012=almost_dc3_with_p12_debugg(Tprim)\n",
    "        print(\"index012\")\n",
    "        print(index012)\n",
    "        print(\"taille de index012\")\n",
    "        print(len(index012))\n",
    "        print(\"\\n\")\n",
    "\n",
    "        index12dict=resumeHigherOrder_with_p12(index012, p12)\n",
    "        print(\"resume higher order index12dict\")\n",
    "        print(index12dict)\n",
    "        print(\"taille de index12dict après retour à taille initiale\")\n",
    "        print(len(index12dict))\n",
    "        print(\"\\n\")\n",
    "\n",
    "    p0,r0p0=position0_R0_p0(T, index12dict)\n",
    "    print(\"rappel de T\")\n",
    "    print(T)\n",
    "    print(\"r0p0\")\n",
    "    print(r0p0)\n",
    "    print(\"taille de r0p0\")\n",
    "    print(len(r0p0))\n",
    "    print(\"\\n\")\n",
    "\n",
    "    alphabet_r0=alphabetR0_with_p12(r0p0)\n",
    "    print(\"alphabet_r0\")\n",
    "    print(alphabet_r0)\n",
    "    print(\"\\n\")\n",
    "    \n",
    "    r0sorted=sort_with_p12(r0p0,alphabet_r0 ,columnNumber-1)\n",
    "    print(\"r0sorted\")\n",
    "    print(r0sorted)\n",
    "    print(\"taille de r0sorted\")\n",
    "    print(len(r0sorted))\n",
    "    print(\"\\n\")\n",
    "\n",
    "    #order0=ordre(r0sorted, index12)\n",
    "    \n",
    "    \n",
    "    index012=removesentinel(merge_with_p12(T, r0sorted, index12dict))\n",
    "    print(\"taille après la fonction removesentinel\")\n",
    "    print(len(index012))\n",
    "    print(\"rappel de T\")\n",
    "    print(T)\n",
    "    print(\"index012\")\n",
    "    print(index012)\n",
    "    print(\"\\n\")\n",
    "    \n",
    "    for i in range(len(index012)):\n",
    "        print(T[index012[i]:])\n",
    "    \n",
    "    return index012\n",
    "   \n",
    "    \n",
    "    "
   ]
  },
  {
   "cell_type": "markdown",
   "id": "4eaf1a2c",
   "metadata": {},
   "source": [
    "## Test avec biopython \n"
   ]
  },
  {
   "cell_type": "code",
   "execution_count": 24,
   "id": "63868023",
   "metadata": {},
   "outputs": [
    {
     "name": "stdout",
     "output_type": "stream",
     "text": [
      "Defaulting to user installation because normal site-packages is not writeable\n",
      "Requirement already satisfied: biopython in /home/azarkua/.local/lib/python3.10/site-packages (1.81)\n",
      "Requirement already satisfied: numpy in /home/azarkua/.local/lib/python3.10/site-packages (from biopython) (1.26.1)\n",
      "\n",
      "\u001b[1m[\u001b[0m\u001b[34;49mnotice\u001b[0m\u001b[1;39;49m]\u001b[0m\u001b[39;49m A new release of pip is available: \u001b[0m\u001b[31;49m23.2.1\u001b[0m\u001b[39;49m -> \u001b[0m\u001b[32;49m23.3.1\u001b[0m\n",
      "\u001b[1m[\u001b[0m\u001b[34;49mnotice\u001b[0m\u001b[1;39;49m]\u001b[0m\u001b[39;49m To update, run: \u001b[0m\u001b[32;49mpython3 -m pip install --upgrade pip\u001b[0m\n",
      "Note: you may need to restart the kernel to use updated packages.\n"
     ]
    }
   ],
   "source": [
    "pip install biopython"
   ]
  },
  {
   "cell_type": "code",
   "execution_count": 25,
   "id": "82f449fb",
   "metadata": {},
   "outputs": [
    {
     "name": "stdout",
     "output_type": "stream",
     "text": [
      "[SeqRecord(seq=Seq('tgaaccctaaaccctaaaccctaaaccctaaacccctaaaccctaaaccctgaa...gtt'), id='NC_037283.1', name='NC_037283.1', description='NC_037283.1 Plasmodium falciparum 3D7 genome assembly, chromosome: 14', dbxrefs=[]), SeqRecord(seq=Seq('ATGATAAAATTTTTAAAACCTAAAATAAAAATATTAAAAAAATTAAATATACCT...ATT'), id='NC_036769.1', name='NC_036769.1', description='NC_036769.1 Plasmodium falciparum strain 3D7, apicoplast', dbxrefs=[])]\n"
     ]
    }
   ],
   "source": [
    "from Bio import SeqIO\n",
    "genome=[]\n",
    "nucleotide_genome=0\n",
    "for seq_record in SeqIO.parse(\"/home/azarkua/Documents/2023-2024/omiques2/developement/omique2/genome.fna\", \"fasta\"):\n",
    "    genome.append(seq_record)\n",
    "    nucleotide_genome+=len(seq_record.seq)\n",
    "print(genome[13:])"
   ]
  },
  {
   "cell_type": "code",
   "execution_count": 26,
   "id": "6bb2b6a0",
   "metadata": {},
   "outputs": [
    {
     "name": "stdout",
     "output_type": "stream",
     "text": [
      "[SeqRecord(seq=Seq('TTTCCTTTTTAAGCGTTTTATTTTTTAATAAAAAAAATATAGTATTATATAGTA...TAA'), id='NC_004325.2-100000', name='NC_004325.2-100000', description='NC_004325.2-100000', dbxrefs=[])]\n"
     ]
    }
   ],
   "source": [
    "reads=[]\n",
    "nucleotide_reads=0\n",
    "for seq_record in SeqIO.parse(\"/home/azarkua/Documents/2023-2024/omiques2/developement/omique2/reads.fq\", \"fastq\"):\n",
    "    reads.append(seq_record)\n",
    "    nucleotide_reads+=len(seq_record.seq)\n",
    "    #if len(seq_record.seq)!= 100:\n",
    "    #    print(\"False\")\n",
    "print(reads[:1])"
   ]
  },
  {
   "cell_type": "code",
   "execution_count": 27,
   "id": "b8ec5679",
   "metadata": {},
   "outputs": [
    {
     "name": "stdout",
     "output_type": "stream",
     "text": [
      "236775\n"
     ]
    },
    {
     "data": {
      "text/plain": [
       "Seq('CCCTGAACCC')"
      ]
     },
     "execution_count": 27,
     "metadata": {},
     "output_type": "execute_result"
    }
   ],
   "source": [
    "temp=genome[1].seq.upper()\n",
    "print(len(temp)//4)\n",
    "temp[50:60]"
   ]
  },
  {
   "cell_type": "markdown",
   "id": "d589cce0",
   "metadata": {},
   "source": [
    "Pour l'instant, notre code met environ 2min d'attente pour faire la suffix table de 25 000 nucléotides."
   ]
  },
  {
   "cell_type": "code",
   "execution_count": 28,
   "id": "097a7edc",
   "metadata": {},
   "outputs": [],
   "source": [
    "T=asciiDC3(temp)\n",
    "#print(T)"
   ]
  },
  {
   "cell_type": "code",
   "execution_count": 29,
   "id": "e2b39d26",
   "metadata": {},
   "outputs": [
    {
     "name": "stdout",
     "output_type": "stream",
     "text": [
      "[947101, 207415, 207416, 441107, 238221, 388233, 441108, 207417, 238222, 207423, 656253, 388234, 724613, 168552, 468510, 724614, 468513, 724617, 434619, 533169, 537111, 441109, 576520, 633567, 207420, 633566, 207419, 207418, 434614, 434615, 633569, 157883, 238223, 207422, 434616, 576522, 633570, 633573, 458613, 654534, 157884, 238224, 369057, 684126, 747225, 437319, 157302, 128385, 399897, 207424, 481497, 656254, 422508, 656256, 422510, 385979, 388235, 481500, 771120, 633582, 751761, 68823, 548505, 422511, 385980, 388236, 168553, 724611, 724610, 468511, 724615, 468512, 468514, 533174, 533175, 724618, 468516, 574871, 388242, 168555, 656262, 74142, 458622, 168561, 574872, 434620, 533170, 537112, 724620, 468518, 699572, 399892, 399893, 247439, 441110, 576521, 633568, 207421, 422507, 434617]\n"
     ]
    }
   ],
   "source": [
    "suffix_array=almost_dc3_with_p12(T)\n",
    "print(suffix_array[:100])\n",
    "#print(timemeasuring)"
   ]
  },
  {
   "cell_type": "markdown",
   "id": "bb10b263",
   "metadata": {},
   "source": [
    "## Mesurer le temps que prend notre fonction"
   ]
  },
  {
   "cell_type": "code",
   "execution_count": 30,
   "id": "a9e9e985",
   "metadata": {},
   "outputs": [],
   "source": [
    "import pstats\n",
    "import cProfile"
   ]
  },
  {
   "cell_type": "code",
   "execution_count": 31,
   "id": "a111f300",
   "metadata": {},
   "outputs": [
    {
     "name": "stdout",
     "output_type": "stream",
     "text": [
      "Sun Nov  5 12:55:47 2023    dc3_stats\n",
      "\n",
      "         29865615 function calls (29865608 primitive calls) in 26.240 seconds\n",
      "\n",
      "   Ordered by: cumulative time\n",
      "\n",
      "   ncalls  tottime  percall  cumtime  percall filename:lineno(function)\n",
      "        1    0.000    0.000   26.240   26.240 {built-in method builtins.exec}\n",
      "        1    0.441    0.441   26.240   26.240 <string>:1(<module>)\n",
      "      8/1    0.984    0.123   25.799   25.799 /tmp/ipykernel_5847/3235192990.py:1(almost_dc3_with_p12)\n",
      "       16    0.128    0.008    7.102    0.444 /tmp/ipykernel_5847/2101628537.py:1(sort_with_p12)\n",
      "       40    6.974    0.174    6.974    0.174 /tmp/ipykernel_5847/2101628537.py:18(countingSortByDigit_with_p12)\n",
      "        8    3.609    0.451    4.217    0.527 /tmp/ipykernel_5847/4110635339.py:1(merge_with_p12)\n",
      "        8    3.738    0.467    3.911    0.489 /tmp/ipykernel_5847/738299132.py:18(position12_radix_with_p12)\n",
      "        8    3.391    0.424    3.531    0.441 /tmp/ipykernel_5847/3786488779.py:1(position0_R0_p0)\n",
      "        8    1.492    0.187    2.630    0.329 /tmp/ipykernel_5847/2442398083.py:8(ordre_with_p12)\n",
      "        8    0.697    0.087    1.140    0.142 /tmp/ipykernel_5847/456097855.py:1(alphabetR0_with_p12)\n",
      "  1820297    0.951    0.000    1.045    0.000 /tmp/ipykernel_5847/2442398083.py:1(triplets_are_equal)\n",
      "        8    0.595    0.074    1.026    0.128 /tmp/ipykernel_5847/150808864.py:1(alphabetT)\n",
      " 16345806    0.812    0.000    0.812    0.000 {method 'append' of 'list' objects}\n",
      "        7    0.692    0.099    0.692    0.099 /tmp/ipykernel_5847/1454108679.py:1(resumeHigherOrder_with_p12)\n",
      " 10894590    0.596    0.000    0.596    0.000 {built-in method builtins.len}\n",
      "       16    0.551    0.034    0.551    0.034 {method 'sort' of 'list' objects}\n",
      "        7    0.421    0.060    0.511    0.073 /tmp/ipykernel_5847/1369769413.py:1(Tprime_with_p12)\n",
      "   804761    0.112    0.000    0.112    0.000 {built-in method builtins.min}\n",
      "        8    0.055    0.007    0.055    0.007 /tmp/ipykernel_5847/3946746901.py:1(removesentinel)\n",
      "        8    0.000    0.000    0.000    0.000 {method 'keys' of 'dict' objects}\n",
      "        1    0.000    0.000    0.000    0.000 {method 'disable' of '_lsprof.Profiler' objects}\n",
      "\n",
      "\n"
     ]
    },
    {
     "data": {
      "text/plain": [
       "<pstats.Stats at 0x7f329159f820>"
      ]
     },
     "execution_count": 31,
     "metadata": {},
     "output_type": "execute_result"
    }
   ],
   "source": [
    "cProfile.run(\"almost_dc3_with_p12(T)\", \"dc3_stats\")\n",
    "p = pstats.Stats(\"dc3_stats\")\n",
    "p.sort_stats(\"cumulative\").print_stats()"
   ]
  },
  {
   "cell_type": "markdown",
   "id": "24a18c05",
   "metadata": {},
   "source": [
    "### Idées d'optimisation  \n",
    "-réussir à ne plus faire appel aux fonctions \"alphabet\"  "
   ]
  },
  {
   "cell_type": "markdown",
   "id": "fbc43e49",
   "metadata": {},
   "source": [
    "### BWT à l'aide de notre suffix table"
   ]
  },
  {
   "cell_type": "code",
   "execution_count": 32,
   "id": "ee199ee7",
   "metadata": {},
   "outputs": [],
   "source": [
    "def BWT_suffix_table(T,end_of_string=False):\n",
    "    \"\"\"\n",
    "    Compute the BWT from the suffix table\n",
    "    \n",
    "    Args:\n",
    "        T (str): string\n",
    "        end_of_string (char): end of string character to append\n",
    "    \n",
    "    Return:\n",
    "        bwt (str): BWT\n",
    "    \"\"\"\n",
    "    if end_of_string==False:\n",
    "        T += '!'\n",
    "    suffix_array=almost_dc3_with_p12(asciiDC3(T)) \n",
    "    bwt = \"\"\n",
    "    for i in suffix_array:\n",
    "        bwt += T[i-1]\n",
    "    return(bwt)"
   ]
  },
  {
   "cell_type": "code",
   "execution_count": 33,
   "id": "f87aec1a",
   "metadata": {},
   "outputs": [],
   "source": [
    "def BWT(suffix_array, sequence):\n",
    "    #the sequence needs an end of string\n",
    "    bwt = \"\"\n",
    "    for i in suffix_array:\n",
    "        bwt += sequence[i-1]\n",
    "    return bwt"
   ]
  },
  {
   "cell_type": "code",
   "execution_count": 34,
   "id": "4d2c3f75",
   "metadata": {},
   "outputs": [],
   "source": [
    "def run_length_encoding(S):\n",
    "    \"\"\"\n",
    "    Encode sequence using the Run Length method\n",
    "    \n",
    "    Args:\n",
    "        text (str): string to be shifted\n",
    "    \n",
    "    Return:\n",
    "        str: run length\n",
    "    \"\"\"\n",
    "    encoded_S= \"\"\n",
    "    i=0\n",
    "    number=1\n",
    "    while i<len(S):\n",
    "        encoded_S+=S[i]\n",
    "        i+=1\n",
    "        while i<len(S) and S[i-1]==S[i]:\n",
    "            number+=1\n",
    "            i+=1\n",
    "        if number>1:\n",
    "            encoded_S+=str(number)\n",
    "        number=1\n",
    "    return encoded_S"
   ]
  },
  {
   "cell_type": "code",
   "execution_count": 35,
   "id": "2d06b591",
   "metadata": {},
   "outputs": [],
   "source": [
    "def print_suffix_table(sequence, sf, visualize_bwt=False):\n",
    "    for i in range(len(sf)):\n",
    "        if visualize_bwt:\n",
    "            print(sequence[sf[i]-1:])\n",
    "        else:\n",
    "            print(sequence[sf[i]:])\n",
    "    return"
   ]
  },
  {
   "cell_type": "markdown",
   "id": "99481c90",
   "metadata": {},
   "source": [
    "#### Testons notre fonction"
   ]
  },
  {
   "cell_type": "code",
   "execution_count": 36,
   "id": "50ee964b",
   "metadata": {
    "scrolled": true
   },
   "outputs": [
    {
     "name": "stdout",
     "output_type": "stream",
     "text": [
      "[25, 24, 5, 15, 0, 10, 11, 3, 17, 19, 21, 12, 7, 23, 14, 9, 2, 6, 4, 16, 18, 20, 22, 13, 8, 1]\n"
     ]
    }
   ],
   "source": [
    "test_2='ATGCTAGCTGCCCTGATCTCTCTGA!'\n",
    "suffix_array_2_with_p12=almost_dc3_with_p12(asciiDC3(test_2)) \n",
    "print(suffix_array_2_with_p12)\n"
   ]
  },
  {
   "cell_type": "code",
   "execution_count": 37,
   "id": "dffe1a95",
   "metadata": {},
   "outputs": [
    {
     "name": "stdout",
     "output_type": "stream",
     "text": [
      "!\n",
      "A!\n",
      "AGCTGCCCTGATCTCTCTGA!\n",
      "ATCTCTCTGA!\n",
      "ATGCTAGCTGCCCTGATCTCTCTGA!\n",
      "CCCTGATCTCTCTGA!\n",
      "CCTGATCTCTCTGA!\n",
      "CTAGCTGCCCTGATCTCTCTGA!\n",
      "CTCTCTGA!\n",
      "CTCTGA!\n",
      "CTGA!\n",
      "CTGATCTCTCTGA!\n",
      "CTGCCCTGATCTCTCTGA!\n",
      "GA!\n",
      "GATCTCTCTGA!\n",
      "GCCCTGATCTCTCTGA!\n",
      "GCTAGCTGCCCTGATCTCTCTGA!\n",
      "GCTGCCCTGATCTCTCTGA!\n",
      "TAGCTGCCCTGATCTCTCTGA!\n",
      "TCTCTCTGA!\n",
      "TCTCTGA!\n",
      "TCTGA!\n",
      "TGA!\n",
      "TGATCTCTCTGA!\n",
      "TGCCCTGATCTCTCTGA!\n",
      "TGCTAGCTGCCCTGATCTCTCTGA!\n"
     ]
    }
   ],
   "source": [
    "print_suffix_table(test_2,suffix_array_2_with_p12)"
   ]
  },
  {
   "cell_type": "code",
   "execution_count": 38,
   "id": "04eb18f8",
   "metadata": {},
   "outputs": [
    {
     "name": "stdout",
     "output_type": "stream",
     "text": [
      "AGTG!GCGTTTCGTTTTACACCCCCA\n"
     ]
    }
   ],
   "source": [
    "print(BWT_suffix_table(test_2, True))"
   ]
  },
  {
   "cell_type": "code",
   "execution_count": 39,
   "id": "2d180ff4",
   "metadata": {},
   "outputs": [
    {
     "name": "stdout",
     "output_type": "stream",
     "text": [
      "AGTG!GCGT3CGT4ACAC5A\n"
     ]
    }
   ],
   "source": [
    "print(run_length_encoding(BWT_suffix_table(test_2, True)))"
   ]
  },
  {
   "cell_type": "markdown",
   "id": "d951740a",
   "metadata": {},
   "source": [
    "BWT sur notre génome"
   ]
  },
  {
   "cell_type": "code",
   "execution_count": 40,
   "id": "e856d22b",
   "metadata": {},
   "outputs": [
    {
     "name": "stdout",
     "output_type": "stream",
     "text": [
      "ACTA2T2A7GTA5TACA2TA2TA9GA5TACA3CA4TA4TA7CA21CTAGA4TA2TA2CA7T2CA7TA4TA4GA4CA4C2A8GA4GA4CGA2GA17GATA6\n"
     ]
    }
   ],
   "source": [
    "bwt_T=BWT_suffix_table(genome[1].seq.upper())\n",
    "print(run_length_encoding(bwt_T)[:100])"
   ]
  },
  {
   "cell_type": "markdown",
   "id": "6bb32ed0",
   "metadata": {},
   "source": [
    "Mesurons le temps que l'opération prend"
   ]
  },
  {
   "cell_type": "code",
   "execution_count": 41,
   "id": "a352f194",
   "metadata": {},
   "outputs": [
    {
     "name": "stdout",
     "output_type": "stream",
     "text": [
      "Sun Nov  5 12:56:35 2023    bwt_stats\n",
      "\n",
      "         39896150 function calls (39896143 primitive calls) in 28.699 seconds\n",
      "\n",
      "   Ordered by: cumulative time\n",
      "\n",
      "   ncalls  tottime  percall  cumtime  percall filename:lineno(function)\n",
      "        1    0.000    0.000   28.699   28.699 {built-in method builtins.exec}\n",
      "        1    0.035    0.035   28.699   28.699 <string>:1(<module>)\n",
      "        1    0.780    0.780   28.196   28.196 /tmp/ipykernel_5847/2127043640.py:1(BWT_suffix_table)\n",
      "      8/1    1.006    0.126   25.779   25.779 /tmp/ipykernel_5847/3235192990.py:1(almost_dc3_with_p12)\n",
      "       16    0.131    0.008    7.161    0.448 /tmp/ipykernel_5847/2101628537.py:1(sort_with_p12)\n",
      "       40    7.029    0.176    7.030    0.176 /tmp/ipykernel_5847/2101628537.py:18(countingSortByDigit_with_p12)\n",
      "        8    3.625    0.453    4.258    0.532 /tmp/ipykernel_5847/4110635339.py:1(merge_with_p12)\n",
      "        8    3.552    0.444    3.704    0.463 /tmp/ipykernel_5847/3786488779.py:1(position0_R0_p0)\n",
      "        8    3.439    0.430    3.637    0.455 /tmp/ipykernel_5847/738299132.py:18(position12_radix_with_p12)\n",
      "        8    1.473    0.184    2.615    0.327 /tmp/ipykernel_5847/2442398083.py:8(ordre_with_p12)\n",
      "   947103    0.345    0.000    1.345    0.000 /home/azarkua/.local/lib/python3.10/site-packages/Bio/Seq.py:470(__getitem__)\n",
      "        8    0.689    0.086    1.135    0.142 /tmp/ipykernel_5847/456097855.py:1(alphabetR0_with_p12)\n",
      "  1820301    0.943    0.000    1.039    0.000 /tmp/ipykernel_5847/2442398083.py:1(triplets_are_equal)\n",
      "        8    0.580    0.073    1.035    0.129 /tmp/ipykernel_5847/150808864.py:1(alphabetT)\n",
      "   947107    0.226    0.000    0.941    0.000 {built-in method builtins.isinstance}\n",
      " 17292939    0.935    0.000    0.935    0.000 {method 'append' of 'list' objects}\n",
      "   947104    0.148    0.000    0.715    0.000 /usr/lib/python3.10/abc.py:117(__instancecheck__)\n",
      " 12401141    0.700    0.000    0.700    0.000 {built-in method builtins.len}\n",
      "        7    0.688    0.098    0.688    0.098 /tmp/ipykernel_5847/1454108679.py:1(resumeHigherOrder_with_p12)\n",
      "   947104    0.237    0.000    0.566    0.000 {built-in method _abc._abc_instancecheck}\n",
      "       16    0.552    0.035    0.552    0.035 {method 'sort' of 'list' objects}\n",
      "        7    0.397    0.057    0.488    0.070 /tmp/ipykernel_5847/1369769413.py:1(Tprime_with_p12)\n",
      "        1    0.388    0.388    0.467    0.467 /tmp/ipykernel_5847/1118574164.py:1(run_length_encoding)\n",
      "   947103    0.140    0.000    0.329    0.000 /usr/lib/python3.10/abc.py:121(__subclasscheck__)\n",
      "        1    0.194    0.194    0.293    0.293 /tmp/ipykernel_5847/738299132.py:1(asciiDC3)\n",
      "   947103    0.189    0.000    0.189    0.000 {built-in method _abc._abc_subclasscheck}\n",
      "   804766    0.114    0.000    0.114    0.000 {built-in method builtins.min}\n",
      "   947103    0.059    0.000    0.059    0.000 {built-in method builtins.chr}\n",
      "        8    0.052    0.007    0.052    0.007 /tmp/ipykernel_5847/3946746901.py:1(removesentinel)\n",
      "   947103    0.050    0.000    0.050    0.000 {built-in method builtins.ord}\n",
      "        1    0.000    0.000    0.001    0.001 /home/azarkua/.local/lib/python3.10/site-packages/Bio/Seq.py:1233(upper)\n",
      "        1    0.001    0.001    0.001    0.001 {method 'upper' of 'bytes' objects}\n",
      "        1    0.000    0.000    0.000    0.000 /home/azarkua/.local/lib/python3.10/site-packages/Bio/Seq.py:495(__add__)\n",
      "        1    0.000    0.000    0.000    0.000 /home/azarkua/.local/lib/python3.10/site-packages/Bio/Seq.py:466(__iter__)\n",
      "        1    0.000    0.000    0.000    0.000 {method 'decode' of 'bytes' objects}\n",
      "        8    0.000    0.000    0.000    0.000 {method 'keys' of 'dict' objects}\n",
      "        2    0.000    0.000    0.000    0.000 /home/azarkua/.local/lib/python3.10/site-packages/Bio/Seq.py:1961(__init__)\n",
      "        1    0.000    0.000    0.000    0.000 {method 'disable' of '_lsprof.Profiler' objects}\n",
      "        1    0.000    0.000    0.000    0.000 /home/azarkua/.local/lib/python3.10/site-packages/Bio/SeqRecord.py:334(<lambda>)\n",
      "        1    0.000    0.000    0.000    0.000 {method 'encode' of 'str' objects}\n",
      "\n",
      "\n"
     ]
    },
    {
     "data": {
      "text/plain": [
       "<pstats.Stats at 0x7f322b402e60>"
      ]
     },
     "execution_count": 41,
     "metadata": {},
     "output_type": "execute_result"
    }
   ],
   "source": [
    "cProfile.run(\"run_length_encoding(BWT_suffix_table(genome[1].seq.upper()))\", \"bwt_stats\")\n",
    "p = pstats.Stats(\"bwt_stats\")\n",
    "p.sort_stats(\"cumulative\").print_stats()"
   ]
  },
  {
   "cell_type": "markdown",
   "id": "f7e607d3",
   "metadata": {},
   "source": [
    "## String search with BWT"
   ]
  },
  {
   "cell_type": "markdown",
   "id": "e0cd292c",
   "metadata": {},
   "source": [
    "version du prof"
   ]
  },
  {
   "cell_type": "code",
   "execution_count": 42,
   "id": "f232b782",
   "metadata": {},
   "outputs": [],
   "source": [
    "from collections import Counter"
   ]
  },
  {
   "cell_type": "code",
   "execution_count": 43,
   "id": "d39b98d2",
   "metadata": {},
   "outputs": [],
   "source": [
    "def occurrence_indexer(S):\n",
    "    K = []\n",
    "    last_index = {}\n",
    "    for s in S:\n",
    "        if s not in last_index: \n",
    "            last_index[s] = 0\n",
    "        K.append(last_index[s])\n",
    "        last_index[s] += 1\n",
    "    return(K)\n",
    "\n",
    "def initialize_suffix_table_positions(counts, pattern_letter):\n",
    "    start=sum([counts[char] for char in counts if char < pattern_letter])\n",
    "    end=start+counts[pattern_letter]\n",
    "    return [i for i in range(start, end)]\n"
   ]
  },
  {
   "cell_type": "code",
   "execution_count": 44,
   "id": "8ba78cad",
   "metadata": {},
   "outputs": [],
   "source": [
    "def lettre_et_occurence(BWT,pattern_letter, position_in_BWT, occurence_index,counts):\n",
    "    output=[]\n",
    "    for i in range(len(position_in_BWT)):\n",
    "        if BWT[position_in_BWT[i]]==pattern_letter:\n",
    "            L=[BWT[position_in_BWT[i]],occurence_index[position_in_BWT[i]]]\n",
    "            letter=L[0]\n",
    "            occurence=L[1]\n",
    "            new_position_to_evaluate=occurence + sum([counts[char] for char in counts if char < letter])\n",
    "            output.append(new_position_to_evaluate)\n",
    "    return output"
   ]
  },
  {
   "cell_type": "raw",
   "id": "2624e27e",
   "metadata": {},
   "source": [
    "def new_suffix_table_positions(BWT,letter_and_occurence, counts):\n",
    "    # Counter({'T': 3, 'A': 2, 'B': 2, 'C': 2, '!': 1})\n",
    "    output=[]\n",
    "    for i in range(len(letter_and_occurence)):\n",
    "        letter=letter_and_occurence[i][0]\n",
    "        occurence=letter_and_occurence[i][1]\n",
    "        new_position_to_evaluate=occurence + sum([counts[char] for char in counts if char < letter])\n",
    "        output.append(new_position_to_evaluate)\n",
    "    return output\n"
   ]
  },
  {
   "cell_type": "code",
   "execution_count": 45,
   "id": "1092dbfa",
   "metadata": {},
   "outputs": [],
   "source": [
    "def find_patterns_in_sequence(sequence, pattern, sequence_has_end_character=False):\n",
    "    output=[]\n",
    "    \n",
    "    if sequence_has_end_character==False:\n",
    "        sequence += '!'\n",
    "        \n",
    "    sf=almost_dc3_with_p12(asciiDC3(sequence)) \n",
    "    BWT = \"\"\n",
    "    for i in sf:\n",
    "        BWT += sequence[i-1]\n",
    "    \n",
    "    \n",
    "    \n",
    "    #print(\"BWT\")\n",
    "    #print(BWT)\n",
    "    #print(\"\\n\")\n",
    "    occurence_index = occurrence_indexer(BWT)\n",
    "    #print('occurence_index')\n",
    "    #print(occurence_index)\n",
    "    #print(\"\\n\")\n",
    "    counts = Counter(BWT)\n",
    "    #print(\"counts\")\n",
    "    #print(counts)\n",
    "    #print(\"\\n\")\n",
    "    index=len(pattern)-1\n",
    "    pattern_letter=pattern[index]\n",
    "    \n",
    "    suffix_table_positions=initialize_suffix_table_positions(counts, pattern_letter)\n",
    "    #print(\"suffix_table_positions\")\n",
    "    #print(suffix_table_positions)\n",
    "    #print(\"\\n\")\n",
    "    while index>0 and len(suffix_table_positions)>0:\n",
    "        \n",
    "        index-=1\n",
    "        #print(\"index\")\n",
    "        #print(index)\n",
    "        #print(\"\\n\")\n",
    "        pattern_letter=pattern[index]\n",
    "        #print(\"pattern_letter\")\n",
    "        #print(pattern_letter)\n",
    "        #print(\"\\n\")\n",
    "        \n",
    "        suffix_table_positions=lettre_et_occurence(BWT,pattern_letter,suffix_table_positions, occurence_index,counts)\n",
    "        #print(\"A\")\n",
    "        #print(A)\n",
    "        #print(\"\\n\")\n",
    "\n",
    "\n",
    "\n",
    "    for i in range(len(suffix_table_positions)):\n",
    "        output.append(sf[suffix_table_positions[i]])\n",
    "        \n",
    "\n",
    "    return output\n",
    "        \n",
    "    "
   ]
  },
  {
   "cell_type": "markdown",
   "id": "0ca1529c",
   "metadata": {},
   "source": [
    "#### Testons notre fonction"
   ]
  },
  {
   "cell_type": "code",
   "execution_count": 46,
   "id": "efbbfe6e",
   "metadata": {},
   "outputs": [
    {
     "name": "stdout",
     "output_type": "stream",
     "text": [
      "[26, 21, 0, 22, 1, 23, 2, 24, 3, 25, 4, 5, 6, 7, 8, 9, 10, 11, 12, 13, 14, 20, 19, 18, 17, 16, 15]\n"
     ]
    }
   ],
   "source": [
    "test_mltpl='ABCDEFGHIJKLMNOPPPPPPABCDE!'\n",
    "sf=almost_dc3_with_p12(asciiDC3(test_mltpl))\n",
    "print(sf)"
   ]
  },
  {
   "cell_type": "code",
   "execution_count": 47,
   "id": "433cc1bf",
   "metadata": {},
   "outputs": [
    {
     "name": "stdout",
     "output_type": "stream",
     "text": [
      "[9]\n",
      "JKLMNO\n"
     ]
    }
   ],
   "source": [
    "positions_of_pattern=find_patterns_in_sequence(test_mltpl, 'JKLMNO', sequence_has_end_character=True)\n",
    "print(positions_of_pattern)\n",
    "for p in positions_of_pattern:\n",
    "    print(test_mltpl[p:p+6])\n"
   ]
  },
  {
   "cell_type": "code",
   "execution_count": 48,
   "id": "a1890a54",
   "metadata": {},
   "outputs": [],
   "source": [
    "#print_suffix_table(test_mltpl, sf, visualize_bwt=True)"
   ]
  },
  {
   "cell_type": "markdown",
   "id": "dd9f273c",
   "metadata": {},
   "source": [
    "### Testons avec notre génome"
   ]
  },
  {
   "cell_type": "code",
   "execution_count": 49,
   "id": "d5f1e782",
   "metadata": {},
   "outputs": [
    {
     "data": {
      "text/plain": [
       "Seq('AACCCTAAACCCTAAACCCTAAACCCTAAACCCTAAACCCTAAACCTAAACCCT...TCA')"
      ]
     },
     "execution_count": 49,
     "metadata": {},
     "output_type": "execute_result"
    }
   ],
   "source": [
    "genome[1].seq.upper()"
   ]
  },
  {
   "cell_type": "code",
   "execution_count": 50,
   "id": "872d1a0c",
   "metadata": {},
   "outputs": [
    {
     "data": {
      "text/plain": [
       "Seq('AACCCTAAAC')"
      ]
     },
     "execution_count": 50,
     "metadata": {},
     "output_type": "execute_result"
    }
   ],
   "source": [
    "pattern=genome[1].seq.upper()[:10]\n",
    "pattern"
   ]
  },
  {
   "cell_type": "code",
   "execution_count": 51,
   "id": "663082ec",
   "metadata": {},
   "outputs": [
    {
     "name": "stdout",
     "output_type": "stream",
     "text": [
      "[]\n"
     ]
    }
   ],
   "source": [
    "positions_of_pattern=find_patterns_in_sequence(genome[1].seq.upper(), pattern, sequence_has_end_character=False)\n",
    "print(sorted(positions_of_pattern))\n",
    "#for p in positions_of_pattern:\n",
    "    #print(genome[1].seq.upper()[p:p+len(pattern)])"
   ]
  },
  {
   "cell_type": "code",
   "execution_count": 52,
   "id": "48c22a3e",
   "metadata": {},
   "outputs": [
    {
     "name": "stdout",
     "output_type": "stream",
     "text": [
      "Sun Nov  5 12:57:24 2023    pattern_matching_stats\n",
      "\n",
      "         39496424 function calls (39496416 primitive calls) in 26.951 seconds\n",
      "\n",
      "   Ordered by: cumulative time\n",
      "\n",
      "   ncalls  tottime  percall  cumtime  percall filename:lineno(function)\n",
      "        1    0.000    0.000   26.951   26.951 {built-in method builtins.exec}\n",
      "        1    0.049    0.049   26.951   26.951 <string>:1(<module>)\n",
      "        1    0.775    0.775   26.901   26.901 /tmp/ipykernel_5847/2690991672.py:1(find_patterns_in_sequence)\n",
      "      8/1    0.997    0.125   24.075   24.075 /tmp/ipykernel_5847/3235192990.py:1(almost_dc3_with_p12)\n",
      "       16    0.133    0.008    7.381    0.461 /tmp/ipykernel_5847/2101628537.py:1(sort_with_p12)\n",
      "       40    7.247    0.181    7.248    0.181 /tmp/ipykernel_5847/2101628537.py:18(countingSortByDigit_with_p12)\n",
      "        8    3.710    0.464    4.345    0.543 /tmp/ipykernel_5847/4110635339.py:1(merge_with_p12)\n",
      "        8    3.749    0.469    3.939    0.492 /tmp/ipykernel_5847/738299132.py:18(position12_radix_with_p12)\n",
      "        8    1.486    0.186    2.631    0.329 /tmp/ipykernel_5847/2442398083.py:8(ordre_with_p12)\n",
      "   947111    0.342    0.000    1.367    0.000 /home/azarkua/.local/lib/python3.10/site-packages/Bio/Seq.py:470(__getitem__)\n",
      "        8    1.177    0.147    1.323    0.165 /tmp/ipykernel_5847/3786488779.py:1(position0_R0_p0)\n",
      "        8    0.703    0.088    1.148    0.144 /tmp/ipykernel_5847/456097855.py:1(alphabetR0_with_p12)\n",
      "  1820301    0.945    0.000    1.044    0.000 /tmp/ipykernel_5847/2442398083.py:1(triplets_are_equal)\n",
      "        8    0.586    0.073    1.038    0.130 /tmp/ipykernel_5847/150808864.py:1(alphabetT)\n",
      " 18293246    0.974    0.000    0.974    0.000 {method 'append' of 'list' objects}\n",
      "   947116    0.232    0.000    0.965    0.000 {built-in method builtins.isinstance}\n",
      "   947113    0.155    0.000    0.733    0.000 /usr/lib/python3.10/abc.py:117(__instancecheck__)\n",
      "        7    0.710    0.101    0.710    0.101 /tmp/ipykernel_5847/1454108679.py:1(resumeHigherOrder_with_p12)\n",
      "10894626/10894625    0.627    0.000    0.627    0.000 {built-in method builtins.len}\n",
      "   947113    0.245    0.000    0.578    0.000 {built-in method _abc._abc_instancecheck}\n",
      "       16    0.554    0.035    0.554    0.035 {method 'sort' of 'list' objects}\n",
      "        7    0.419    0.060    0.513    0.073 /tmp/ipykernel_5847/1369769413.py:1(Tprime_with_p12)\n",
      "   947111    0.144    0.000    0.333    0.000 /usr/lib/python3.10/abc.py:121(__subclasscheck__)\n",
      "        1    0.197    0.197    0.301    0.301 /tmp/ipykernel_5847/738299132.py:1(asciiDC3)\n",
      "        1    0.220    0.220    0.272    0.272 /tmp/ipykernel_5847/3181281313.py:1(occurrence_indexer)\n",
      "   947111    0.189    0.000    0.189    0.000 {built-in method _abc._abc_subclasscheck}\n",
      "   804766    0.113    0.000    0.113    0.000 {built-in method builtins.min}\n",
      "        7    0.049    0.007    0.076    0.011 /tmp/ipykernel_5847/1019946815.py:1(lettre_et_occurence)\n",
      "   947111    0.060    0.000    0.060    0.000 {built-in method builtins.chr}\n",
      "        8    0.051    0.006    0.051    0.006 /tmp/ipykernel_5847/3946746901.py:1(removesentinel)\n",
      "   947103    0.051    0.000    0.051    0.000 {built-in method builtins.ord}\n",
      "        1    0.000    0.000    0.033    0.033 /usr/lib/python3.10/collections/__init__.py:565(__init__)\n",
      "        1    0.000    0.000    0.033    0.033 /usr/lib/python3.10/collections/__init__.py:640(update)\n",
      "        1    0.033    0.033    0.033    0.033 {built-in method _collections._count_elements}\n",
      "    53204    0.019    0.000    0.019    0.000 /tmp/ipykernel_5847/1019946815.py:8(<listcomp>)\n",
      "    53205    0.004    0.000    0.004    0.000 {built-in method builtins.sum}\n",
      "        1    0.000    0.000    0.003    0.003 /tmp/ipykernel_5847/3181281313.py:11(initialize_suffix_table_positions)\n",
      "        1    0.003    0.003    0.003    0.003 /tmp/ipykernel_5847/3181281313.py:14(<listcomp>)\n",
      "        1    0.000    0.000    0.001    0.001 /home/azarkua/.local/lib/python3.10/site-packages/Bio/Seq.py:1233(upper)\n",
      "        1    0.001    0.001    0.001    0.001 {method 'upper' of 'bytes' objects}\n",
      "        1    0.000    0.000    0.000    0.000 /home/azarkua/.local/lib/python3.10/site-packages/Bio/Seq.py:495(__add__)\n",
      "        1    0.000    0.000    0.000    0.000 /home/azarkua/.local/lib/python3.10/site-packages/Bio/Seq.py:466(__iter__)\n",
      "        1    0.000    0.000    0.000    0.000 {method 'decode' of 'bytes' objects}\n",
      "        8    0.000    0.000    0.000    0.000 {method 'keys' of 'dict' objects}\n",
      "        2    0.000    0.000    0.000    0.000 /home/azarkua/.local/lib/python3.10/site-packages/Bio/Seq.py:1961(__init__)\n",
      "        1    0.000    0.000    0.000    0.000 /tmp/ipykernel_5847/3181281313.py:12(<listcomp>)\n",
      "        1    0.000    0.000    0.000    0.000 /home/azarkua/.local/lib/python3.10/site-packages/Bio/Seq.py:462(__len__)\n",
      "        1    0.000    0.000    0.000    0.000 {method 'disable' of '_lsprof.Profiler' objects}\n",
      "        1    0.000    0.000    0.000    0.000 /home/azarkua/.local/lib/python3.10/site-packages/Bio/SeqRecord.py:334(<lambda>)\n",
      "        1    0.000    0.000    0.000    0.000 {method 'encode' of 'str' objects}\n",
      "\n",
      "\n"
     ]
    },
    {
     "data": {
      "text/plain": [
       "<pstats.Stats at 0x7f322b459e70>"
      ]
     },
     "execution_count": 52,
     "metadata": {},
     "output_type": "execute_result"
    }
   ],
   "source": [
    "cProfile.run(\"find_patterns_in_sequence(genome[1].seq.upper(), pattern, sequence_has_end_character=False)\", \"pattern_matching_stats\")\n",
    "p = pstats.Stats(\"pattern_matching_stats\")\n",
    "p.sort_stats(\"cumulative\").print_stats()"
   ]
  },
  {
   "cell_type": "markdown",
   "id": "f90fab65",
   "metadata": {},
   "source": [
    "### Travaillons avec des kmers"
   ]
  },
  {
   "cell_type": "code",
   "execution_count": 53,
   "id": "3917463d",
   "metadata": {},
   "outputs": [],
   "source": [
    "def assembler_des_kmers(numero_du_kmer, position_ds_genome,longueur, liste_position_kmers):\n",
    "    compteur_de_kmer=1 #compte le nb de kmers qu'on arrive à aligner\n",
    "    last_position=0\n",
    "    i=numero_du_kmer+1\n",
    "    difference=1\n",
    "    \n",
    "    while i<len(liste_position_kmers):\n",
    "        print(\"i au début du while\")\n",
    "        print(i)\n",
    "        print(\"\\n\")\n",
    "        j=0\n",
    "        previous_compteur=compteur_de_kmer\n",
    "        print(\"le compteur est à\")\n",
    "        print(compteur_de_kmer)\n",
    "        print(\"\\n\")\n",
    "        print(\"on s'interesse au kmer numero\")\n",
    "        print(i)\n",
    "        print(\"qui est\")\n",
    "        print(liste_position_kmers[i])\n",
    "        k=0\n",
    "        while j<len(liste_position_kmers[i]) and compteur_de_kmer==previous_compteur:\n",
    "            print(\"on cherche la position\")\n",
    "            print(position_ds_genome+difference)\n",
    "            if position_ds_genome+difference==liste_position_kmers[i][j]:\n",
    "                compteur_de_kmer+=1\n",
    "                last_position=liste_position_kmers[i][j]\n",
    "            j+=1\n",
    "            \n",
    "        if compteur_de_kmer==previous_compteur:\n",
    "            i+=longueur\n",
    "            difference+=longueur\n",
    "            if  i>= len(liste_position_kmers):\n",
    "                return [[position_ds_genome,last_position+longueur],compteur_de_kmer]\n",
    "            else:\n",
    "        \n",
    "                ### cas d'une mutation\n",
    "                print(\"cas d'une mutation\")\n",
    "                print(\"on s'interesse au kmer numero\")\n",
    "                print(i)\n",
    "                print(\"qui est\")\n",
    "                print(liste_position_kmers[i])\n",
    "                k=0\n",
    "\n",
    "                while k<len(liste_position_kmers[i]) and compteur_de_kmer==previous_compteur:\n",
    "                    print(\"on cherche la position\")\n",
    "                    print(position_ds_genome+difference)\n",
    "                    if position_ds_genome+difference==liste_position_kmers[i][k]:\n",
    "                        compteur_de_kmer+=1\n",
    "                        last_position=liste_position_kmers[i][k]\n",
    "                    k+=1\n",
    "\n",
    "\n",
    "\n",
    "                if compteur_de_kmer==previous_compteur:\n",
    "                    ###cas d'une addition\n",
    "                    print(\"cas d'une addition\")\n",
    "                    difference-=1\n",
    "                    l=0\n",
    "                    print(\"on cherche la position\")\n",
    "                    print(position_ds_genome+difference)\n",
    "                    while l<len(liste_position_kmers[i]) and compteur_de_kmer==previous_compteur:\n",
    "\n",
    "                        if position_ds_genome+difference==liste_position_kmers[i][l]:\n",
    "                            compteur_de_kmer+=1\n",
    "                            last_position=liste_position_kmers[i][l]\n",
    "                        l+=1\n",
    "\n",
    "                    if compteur_de_kmer==previous_compteur:\n",
    "                        ###cas d'une déletions\n",
    "                        print(\"cas d'une délétion\")\n",
    "                        difference+=1\n",
    "                        i-=1\n",
    "                        print(\"on s'interesse au kmer numero\")\n",
    "                        print(i)\n",
    "                        print(\"qui est\")\n",
    "                        print(liste_position_kmers[i])\n",
    "                        print(\"on cherche la position\")\n",
    "                        print(position_ds_genome+difference)\n",
    "                        m=0\n",
    "                        while m<len(liste_position_kmers[i]) and compteur_de_kmer==previous_compteur:\n",
    "\n",
    "                            if position_ds_genome+difference==liste_position_kmers[i][m]:\n",
    "                                compteur_de_kmer+=1\n",
    "                                last_position=liste_position_kmers[i][m]\n",
    "                            m+=1\n",
    "\n",
    "                        if compteur_de_kmer==previous_compteur:\n",
    "                            ### cas où l'alignement est terminé\n",
    "                            return [[position_ds_genome,last_position+longueur],compteur_de_kmer]\n",
    "\n",
    "        i+=1\n",
    "        difference+=1   \n",
    "        \n",
    "    return [[position_ds_genome,last_position+longueur],compteur_de_kmer]"
   ]
  },
  {
   "cell_type": "code",
   "execution_count": 54,
   "id": "e6cadc01",
   "metadata": {},
   "outputs": [],
   "source": [
    "def kmer(sequence, longueur):\n",
    "    n = len(sequence)\n",
    "    kmer=[]\n",
    "    for i in range(n-longueur+1):\n",
    "        kmer.append(sequence[i:i+longueur])\n",
    "    return kmer\n",
    "    "
   ]
  },
  {
   "cell_type": "code",
   "execution_count": 55,
   "id": "e59f6238",
   "metadata": {},
   "outputs": [
    {
     "name": "stdout",
     "output_type": "stream",
     "text": [
      "22\n",
      "['ABCDE', 'BCDEF', 'CDEFG', 'DEFGH', 'EFGHI', 'FGHIJ', 'GHIJK', 'HIJKL', 'IJKLM', 'JKLMN', 'KLMNO', 'LMNOP', 'MNOPQ', 'NOPQR', 'OPQRS', 'PQRSZ', 'QRSZU', 'RSZUV']\n"
     ]
    }
   ],
   "source": [
    "read_list=[\"ABCDEFGHIJKLMNOPQRSZUV\",\"PPPABCDEFGHW\"]\n",
    "read=\"ABCDEFGHIJKLMNOPQRSZUV\"\n",
    "print(len(read))\n",
    "print(kmer(read,5))"
   ]
  },
  {
   "cell_type": "code",
   "execution_count": 56,
   "id": "431b9294",
   "metadata": {},
   "outputs": [
    {
     "name": "stdout",
     "output_type": "stream",
     "text": [
      "['ABCDE', 'BCDEF', 'CDEFG', 'DEFGH', 'EFGHI', 'FGHIJ', 'GHIJK', 'HIJKL', 'IJKLM', 'JKLMN', 'KLMNO', 'LMNOP', 'MNOPQ', 'NOPQR', 'OPQRS', 'PQRSZ', 'QRSZU', 'RSZUV']\n",
      "18\n"
     ]
    }
   ],
   "source": [
    "genom=\"ABCDEFGHIJKLMNOPQRSTUVWPPPPPABCDEFGHWWWWWWWWWWNOPQRSTUV\"\n",
    "liste_kmer=kmer(read, 5)\n",
    "print(liste_kmer)\n",
    "print(len(liste_kmer))"
   ]
  },
  {
   "cell_type": "code",
   "execution_count": 57,
   "id": "c5759944",
   "metadata": {},
   "outputs": [
    {
     "name": "stdout",
     "output_type": "stream",
     "text": [
      "[[0, 28], [1, 29], [2, 30], [3, 31], [4], [5], [6], [7], [8], [9], [10], [11], [12], [13, 46], [14, 47], [], [], []]\n",
      "5\n"
     ]
    }
   ],
   "source": [
    "positions=[]\n",
    "for i in range(len(liste_kmer)):\n",
    "    positions.append(find_patterns_in_sequence(genom, liste_kmer[i],sequence_has_end_character=True))\n",
    "print(positions)\n",
    "print(positions[5][0])"
   ]
  },
  {
   "cell_type": "code",
   "execution_count": 58,
   "id": "7fd8c11c",
   "metadata": {},
   "outputs": [],
   "source": [
    "def find_kmer_positions(sf, BWT, read, longueur_des_kmers):\n",
    "    \"\"\" la différence avec la fonction \"find_pattern_in_sequence\", c'est que la fonction ne calcule pas la suffix table \n",
    "    et la BWT, et qu'elle cherche elle même les kmers du read.\n",
    "    \"\"\"\n",
    "    output=[]\n",
    "    occurence_index = occurrence_indexer(BWT)\n",
    "    counts = Counter(BWT)\n",
    "    n = len(read)\n",
    "    for i in range(n-longueur_des_kmers+1):\n",
    "        pattern=read[i:i+longueur_des_kmers]\n",
    "        index=len(pattern)-1\n",
    "        pattern_letter=pattern[index]\n",
    "\n",
    "        suffix_table_positions=initialize_suffix_table_positions(counts, pattern_letter)\n",
    "        while index>0 and len(suffix_table_positions)>0:\n",
    "\n",
    "            index-=1\n",
    "            pattern_letter=pattern[index]\n",
    "            suffix_table_positions=lettre_et_occurence(BWT,pattern_letter,suffix_table_positions, occurence_index,counts)\n",
    "\n",
    "        temp=[]\n",
    "        for i in range(len(suffix_table_positions)):\n",
    "            temp.append(sf[suffix_table_positions[i]])\n",
    "        output.append(temp)\n",
    "        \n",
    "\n",
    "    return output"
   ]
  },
  {
   "cell_type": "code",
   "execution_count": 59,
   "id": "5f0729ab",
   "metadata": {},
   "outputs": [
    {
     "name": "stdout",
     "output_type": "stream",
     "text": [
      "[[26, 54], [27, 55], [], [], [], [], [], [32], [33], [0, 34, 16], [1, 35, 17], [2, 36], [3, 37], [4, 38], [5, 72, 39], [6, 73], [7, 74], [75, 42], [76, 43]]\n"
     ]
    }
   ],
   "source": [
    "genom=\"IJKLMNOPQRWWWWWWIJKLMNWWWWABCDEFGHIJKLMNOPQRSTUVWPPPPPABCDEFGHWWWWWWWWWWNOPQRSTUV!\"\n",
    "read=\"ABCDEFZGHIJKLMNOPQRSTUV\"\n",
    "suffix_array=almost_dc3_with_p12(asciiDC3(genom))\n",
    "bwt=BWT(suffix_array, genom)\n",
    "positions=find_kmer_positions(suffix_array, bwt, read, 5)\n",
    "print(positions)"
   ]
  },
  {
   "cell_type": "code",
   "execution_count": 60,
   "id": "5c51c7ba",
   "metadata": {},
   "outputs": [
    {
     "name": "stdout",
     "output_type": "stream",
     "text": [
      "i au début du while\n",
      "1\n",
      "\n",
      "\n",
      "le compteur est à\n",
      "1\n",
      "\n",
      "\n",
      "on s'interesse au kmer numero\n",
      "1\n",
      "qui est\n",
      "[27, 55]\n",
      "on cherche la position\n",
      "27\n",
      "i au début du while\n",
      "2\n",
      "\n",
      "\n",
      "le compteur est à\n",
      "2\n",
      "\n",
      "\n",
      "on s'interesse au kmer numero\n",
      "2\n",
      "qui est\n",
      "[]\n",
      "cas d'une mutation\n",
      "on s'interesse au kmer numero\n",
      "7\n",
      "qui est\n",
      "[32]\n",
      "on cherche la position\n",
      "33\n",
      "cas d'une addition\n",
      "on cherche la position\n",
      "32\n",
      "i au début du while\n",
      "8\n",
      "\n",
      "\n",
      "le compteur est à\n",
      "3\n",
      "\n",
      "\n",
      "on s'interesse au kmer numero\n",
      "8\n",
      "qui est\n",
      "[33]\n",
      "on cherche la position\n",
      "33\n",
      "i au début du while\n",
      "9\n",
      "\n",
      "\n",
      "le compteur est à\n",
      "4\n",
      "\n",
      "\n",
      "on s'interesse au kmer numero\n",
      "9\n",
      "qui est\n",
      "[0, 34, 16]\n",
      "on cherche la position\n",
      "34\n",
      "on cherche la position\n",
      "34\n",
      "i au début du while\n",
      "10\n",
      "\n",
      "\n",
      "le compteur est à\n",
      "5\n",
      "\n",
      "\n",
      "on s'interesse au kmer numero\n",
      "10\n",
      "qui est\n",
      "[1, 35, 17]\n",
      "on cherche la position\n",
      "35\n",
      "on cherche la position\n",
      "35\n",
      "i au début du while\n",
      "11\n",
      "\n",
      "\n",
      "le compteur est à\n",
      "6\n",
      "\n",
      "\n",
      "on s'interesse au kmer numero\n",
      "11\n",
      "qui est\n",
      "[2, 36]\n",
      "on cherche la position\n",
      "36\n",
      "on cherche la position\n",
      "36\n",
      "i au début du while\n",
      "12\n",
      "\n",
      "\n",
      "le compteur est à\n",
      "7\n",
      "\n",
      "\n",
      "on s'interesse au kmer numero\n",
      "12\n",
      "qui est\n",
      "[3, 37]\n",
      "on cherche la position\n",
      "37\n",
      "on cherche la position\n",
      "37\n",
      "i au début du while\n",
      "13\n",
      "\n",
      "\n",
      "le compteur est à\n",
      "8\n",
      "\n",
      "\n",
      "on s'interesse au kmer numero\n",
      "13\n",
      "qui est\n",
      "[4, 38]\n",
      "on cherche la position\n",
      "38\n",
      "on cherche la position\n",
      "38\n",
      "i au début du while\n",
      "14\n",
      "\n",
      "\n",
      "le compteur est à\n",
      "9\n",
      "\n",
      "\n",
      "on s'interesse au kmer numero\n",
      "14\n",
      "qui est\n",
      "[5, 72, 39]\n",
      "on cherche la position\n",
      "39\n",
      "on cherche la position\n",
      "39\n",
      "on cherche la position\n",
      "39\n",
      "i au début du while\n",
      "15\n",
      "\n",
      "\n",
      "le compteur est à\n",
      "10\n",
      "\n",
      "\n",
      "on s'interesse au kmer numero\n",
      "15\n",
      "qui est\n",
      "[6, 73]\n",
      "on cherche la position\n",
      "40\n",
      "on cherche la position\n",
      "40\n"
     ]
    },
    {
     "data": {
      "text/plain": [
       "[[26, 44], 10]"
      ]
     },
     "execution_count": 60,
     "metadata": {},
     "output_type": "execute_result"
    }
   ],
   "source": [
    "assembler_des_kmers(0, positions[0][0],5,positions)"
   ]
  },
  {
   "cell_type": "code",
   "execution_count": 61,
   "id": "b2ce986e",
   "metadata": {},
   "outputs": [],
   "source": [
    "def alignement_maximum_de_kmer(liste_position_kmers, longueur):\n",
    "    output=[[0,0],0]\n",
    "    maximum=0\n",
    "    for i in range(longueur+2):\n",
    "        current_kmer=liste_position_kmers[i]\n",
    "        for p in current_kmer:\n",
    "            alignement=assembler_des_kmers(i, p, longueur, liste_position_kmers)\n",
    "            if maximum<alignement[1]:\n",
    "                output=alignement\n",
    "                maximum=alignement[1]\n",
    "    return output"
   ]
  },
  {
   "cell_type": "code",
   "execution_count": 62,
   "id": "f131cf23",
   "metadata": {},
   "outputs": [
    {
     "name": "stdout",
     "output_type": "stream",
     "text": [
      "i au début du while\n",
      "1\n",
      "\n",
      "\n",
      "le compteur est à\n",
      "1\n",
      "\n",
      "\n",
      "on s'interesse au kmer numero\n",
      "1\n",
      "qui est\n",
      "[27, 55]\n",
      "on cherche la position\n",
      "27\n",
      "i au début du while\n",
      "2\n",
      "\n",
      "\n",
      "le compteur est à\n",
      "2\n",
      "\n",
      "\n",
      "on s'interesse au kmer numero\n",
      "2\n",
      "qui est\n",
      "[]\n",
      "cas d'une mutation\n",
      "on s'interesse au kmer numero\n",
      "7\n",
      "qui est\n",
      "[32]\n",
      "on cherche la position\n",
      "33\n",
      "cas d'une addition\n",
      "on cherche la position\n",
      "32\n",
      "i au début du while\n",
      "8\n",
      "\n",
      "\n",
      "le compteur est à\n",
      "3\n",
      "\n",
      "\n",
      "on s'interesse au kmer numero\n",
      "8\n",
      "qui est\n",
      "[33]\n",
      "on cherche la position\n",
      "33\n",
      "i au début du while\n",
      "9\n",
      "\n",
      "\n",
      "le compteur est à\n",
      "4\n",
      "\n",
      "\n",
      "on s'interesse au kmer numero\n",
      "9\n",
      "qui est\n",
      "[0, 34, 16]\n",
      "on cherche la position\n",
      "34\n",
      "on cherche la position\n",
      "34\n",
      "i au début du while\n",
      "10\n",
      "\n",
      "\n",
      "le compteur est à\n",
      "5\n",
      "\n",
      "\n",
      "on s'interesse au kmer numero\n",
      "10\n",
      "qui est\n",
      "[1, 35, 17]\n",
      "on cherche la position\n",
      "35\n",
      "on cherche la position\n",
      "35\n",
      "i au début du while\n",
      "11\n",
      "\n",
      "\n",
      "le compteur est à\n",
      "6\n",
      "\n",
      "\n",
      "on s'interesse au kmer numero\n",
      "11\n",
      "qui est\n",
      "[2, 36]\n",
      "on cherche la position\n",
      "36\n",
      "on cherche la position\n",
      "36\n",
      "i au début du while\n",
      "12\n",
      "\n",
      "\n",
      "le compteur est à\n",
      "7\n",
      "\n",
      "\n",
      "on s'interesse au kmer numero\n",
      "12\n",
      "qui est\n",
      "[3, 37]\n",
      "on cherche la position\n",
      "37\n",
      "on cherche la position\n",
      "37\n",
      "i au début du while\n",
      "13\n",
      "\n",
      "\n",
      "le compteur est à\n",
      "8\n",
      "\n",
      "\n",
      "on s'interesse au kmer numero\n",
      "13\n",
      "qui est\n",
      "[4, 38]\n",
      "on cherche la position\n",
      "38\n",
      "on cherche la position\n",
      "38\n",
      "i au début du while\n",
      "14\n",
      "\n",
      "\n",
      "le compteur est à\n",
      "9\n",
      "\n",
      "\n",
      "on s'interesse au kmer numero\n",
      "14\n",
      "qui est\n",
      "[5, 72, 39]\n",
      "on cherche la position\n",
      "39\n",
      "on cherche la position\n",
      "39\n",
      "on cherche la position\n",
      "39\n",
      "i au début du while\n",
      "15\n",
      "\n",
      "\n",
      "le compteur est à\n",
      "10\n",
      "\n",
      "\n",
      "on s'interesse au kmer numero\n",
      "15\n",
      "qui est\n",
      "[6, 73]\n",
      "on cherche la position\n",
      "40\n",
      "on cherche la position\n",
      "40\n",
      "i au début du while\n",
      "1\n",
      "\n",
      "\n",
      "le compteur est à\n",
      "1\n",
      "\n",
      "\n",
      "on s'interesse au kmer numero\n",
      "1\n",
      "qui est\n",
      "[27, 55]\n",
      "on cherche la position\n",
      "55\n",
      "on cherche la position\n",
      "55\n",
      "i au début du while\n",
      "2\n",
      "\n",
      "\n",
      "le compteur est à\n",
      "2\n",
      "\n",
      "\n",
      "on s'interesse au kmer numero\n",
      "2\n",
      "qui est\n",
      "[]\n",
      "cas d'une mutation\n",
      "on s'interesse au kmer numero\n",
      "7\n",
      "qui est\n",
      "[32]\n",
      "on cherche la position\n",
      "61\n",
      "cas d'une addition\n",
      "on cherche la position\n",
      "60\n",
      "cas d'une délétion\n",
      "on s'interesse au kmer numero\n",
      "6\n",
      "qui est\n",
      "[]\n",
      "on cherche la position\n",
      "61\n",
      "i au début du while\n",
      "2\n",
      "\n",
      "\n",
      "le compteur est à\n",
      "1\n",
      "\n",
      "\n",
      "on s'interesse au kmer numero\n",
      "2\n",
      "qui est\n",
      "[]\n",
      "cas d'une mutation\n",
      "on s'interesse au kmer numero\n",
      "7\n",
      "qui est\n",
      "[32]\n",
      "on cherche la position\n",
      "33\n",
      "cas d'une addition\n",
      "on cherche la position\n",
      "32\n",
      "i au début du while\n",
      "8\n",
      "\n",
      "\n",
      "le compteur est à\n",
      "2\n",
      "\n",
      "\n",
      "on s'interesse au kmer numero\n",
      "8\n",
      "qui est\n",
      "[33]\n",
      "on cherche la position\n",
      "33\n",
      "i au début du while\n",
      "9\n",
      "\n",
      "\n",
      "le compteur est à\n",
      "3\n",
      "\n",
      "\n",
      "on s'interesse au kmer numero\n",
      "9\n",
      "qui est\n",
      "[0, 34, 16]\n",
      "on cherche la position\n",
      "34\n",
      "on cherche la position\n",
      "34\n",
      "i au début du while\n",
      "10\n",
      "\n",
      "\n",
      "le compteur est à\n",
      "4\n",
      "\n",
      "\n",
      "on s'interesse au kmer numero\n",
      "10\n",
      "qui est\n",
      "[1, 35, 17]\n",
      "on cherche la position\n",
      "35\n",
      "on cherche la position\n",
      "35\n",
      "i au début du while\n",
      "11\n",
      "\n",
      "\n",
      "le compteur est à\n",
      "5\n",
      "\n",
      "\n",
      "on s'interesse au kmer numero\n",
      "11\n",
      "qui est\n",
      "[2, 36]\n",
      "on cherche la position\n",
      "36\n",
      "on cherche la position\n",
      "36\n",
      "i au début du while\n",
      "12\n",
      "\n",
      "\n",
      "le compteur est à\n",
      "6\n",
      "\n",
      "\n",
      "on s'interesse au kmer numero\n",
      "12\n",
      "qui est\n",
      "[3, 37]\n",
      "on cherche la position\n",
      "37\n",
      "on cherche la position\n",
      "37\n",
      "i au début du while\n",
      "13\n",
      "\n",
      "\n",
      "le compteur est à\n",
      "7\n",
      "\n",
      "\n",
      "on s'interesse au kmer numero\n",
      "13\n",
      "qui est\n",
      "[4, 38]\n",
      "on cherche la position\n",
      "38\n",
      "on cherche la position\n",
      "38\n",
      "i au début du while\n",
      "14\n",
      "\n",
      "\n",
      "le compteur est à\n",
      "8\n",
      "\n",
      "\n",
      "on s'interesse au kmer numero\n",
      "14\n",
      "qui est\n",
      "[5, 72, 39]\n",
      "on cherche la position\n",
      "39\n",
      "on cherche la position\n",
      "39\n",
      "on cherche la position\n",
      "39\n",
      "i au début du while\n",
      "15\n",
      "\n",
      "\n",
      "le compteur est à\n",
      "9\n",
      "\n",
      "\n",
      "on s'interesse au kmer numero\n",
      "15\n",
      "qui est\n",
      "[6, 73]\n",
      "on cherche la position\n",
      "40\n",
      "on cherche la position\n",
      "40\n",
      "i au début du while\n",
      "2\n",
      "\n",
      "\n",
      "le compteur est à\n",
      "1\n",
      "\n",
      "\n",
      "on s'interesse au kmer numero\n",
      "2\n",
      "qui est\n",
      "[]\n",
      "cas d'une mutation\n",
      "on s'interesse au kmer numero\n",
      "7\n",
      "qui est\n",
      "[32]\n",
      "on cherche la position\n",
      "61\n",
      "cas d'une addition\n",
      "on cherche la position\n",
      "60\n",
      "cas d'une délétion\n",
      "on s'interesse au kmer numero\n",
      "6\n",
      "qui est\n",
      "[]\n",
      "on cherche la position\n",
      "61\n"
     ]
    },
    {
     "data": {
      "text/plain": [
       "[[26, 44], 10]"
      ]
     },
     "execution_count": 62,
     "metadata": {},
     "output_type": "execute_result"
    }
   ],
   "source": [
    "alignement_maximum_de_kmer(positions, 5)"
   ]
  },
  {
   "cell_type": "code",
   "execution_count": 63,
   "id": "bb64fb6d",
   "metadata": {},
   "outputs": [],
   "source": [
    "def complementaireInverse(sequence):\n",
    "    ci = []\n",
    "    for i in range(len(sequence) - 1, -1, -1):\n",
    "        if sequence[i] == 'A':\n",
    "            ci.append('T')\n",
    "        elif sequence[i] == 'T':\n",
    "            ci.append('A')\n",
    "        elif sequence[i] == 'C':\n",
    "            ci.append('G')\n",
    "        elif sequence[i] == 'G':\n",
    "            ci.append('C')\n",
    "    return ''.join(ci)"
   ]
  },
  {
   "cell_type": "code",
   "execution_count": 64,
   "id": "9788e9f5",
   "metadata": {},
   "outputs": [
    {
     "data": {
      "text/plain": [
       "'CGAT'"
      ]
     },
     "execution_count": 64,
     "metadata": {},
     "output_type": "execute_result"
    }
   ],
   "source": [
    "complementaireInverse(\"ATCG\")"
   ]
  },
  {
   "cell_type": "markdown",
   "id": "8eb57dc6",
   "metadata": {},
   "source": [
    "### Testons avec notre génome"
   ]
  },
  {
   "cell_type": "code",
   "execution_count": 65,
   "id": "60547980",
   "metadata": {},
   "outputs": [],
   "source": [
    "suffix_array_first_chromosome=almost_dc3_with_p12(asciiDC3(genome[0].seq.upper()))\n",
    "BWT_first_chromosome=BWT(suffix_array_first_chromosome,genome[0].seq.upper()+\"!\")\n"
   ]
  },
  {
   "cell_type": "code",
   "execution_count": 66,
   "id": "52e3e39e",
   "metadata": {},
   "outputs": [],
   "source": [
    "longueur_kmer=20\n",
    "liste_de_kmer=kmer(reads[10].seq.upper(), longueur_kmer)"
   ]
  },
  {
   "cell_type": "code",
   "execution_count": 67,
   "id": "119158db",
   "metadata": {},
   "outputs": [
    {
     "name": "stdout",
     "output_type": "stream",
     "text": [
      "[[], [], [], [], [], [], [], [], [], [], [], [], [], [], [], [], [], [], [], [], [], [], [], [], [], [], [], [], [], [], [], [], [], [], [], [], [], [], [], [], [], [], [], [], [], [], [], [], [], [], [], [], [], [], [], [], [], [], [], [], [], [], [], [], [], [], [], [], [], [], [], [], [], [], [], [], [], [], [], [], []]\n"
     ]
    }
   ],
   "source": [
    "position=find_kmer_positions(suffix_array_first_chromosome, BWT_first_chromosome, complementaireInverse(reads[10].seq.upper()), longueur_kmer)\n",
    "print(position)"
   ]
  },
  {
   "cell_type": "code",
   "execution_count": 68,
   "id": "206d86aa",
   "metadata": {},
   "outputs": [
    {
     "name": "stdout",
     "output_type": "stream",
     "text": [
      "[[0, 0], 0]\n"
     ]
    }
   ],
   "source": [
    "alignment=alignement_maximum_de_kmer(position, longueur_kmer)\n",
    "print(alignment)"
   ]
  },
  {
   "cell_type": "code",
   "execution_count": 69,
   "id": "f27fb610",
   "metadata": {},
   "outputs": [],
   "source": [
    "def find_aligned_reads(BWT,suffix_array, reads, number_of_reads, size_of_kmers):\n",
    "    output=[]\n",
    "    for i in range(number_of_reads):\n",
    "        position=find_kmer_positions(suffix_array, BWT, reads[i].seq.upper(), size_of_kmers)\n",
    "        alignment=alignement_maximum_de_kmer(position, size_of_kmers)\n",
    "        if alignment[1]>4:\n",
    "            output.append({'read_number':i, 'alignment':alignment})\n",
    "    \n",
    "    return output"
   ]
  },
  {
   "cell_type": "code",
   "execution_count": 70,
   "id": "fa8d4059",
   "metadata": {},
   "outputs": [
    {
     "data": {
      "text/plain": [
       "[]"
      ]
     },
     "execution_count": 70,
     "metadata": {},
     "output_type": "execute_result"
    }
   ],
   "source": [
    "find_aligned_reads(BWT_first_chromosome,suffix_array_first_chromosome, reads, 2, longueur_kmer)"
   ]
  },
  {
   "cell_type": "code",
   "execution_count": 71,
   "id": "5a1c1915",
   "metadata": {},
   "outputs": [
    {
     "name": "stdout",
     "output_type": "stream",
     "text": [
      "Sun Nov  5 12:58:22 2023    pattern_matching_stats\n",
      "\n",
      "         34466264 function calls (34466182 primitive calls) in 17.098 seconds\n",
      "\n",
      "   Ordered by: cumulative time\n",
      "\n",
      "   ncalls  tottime  percall  cumtime  percall filename:lineno(function)\n",
      "        1    0.000    0.000   17.098   17.098 {built-in method builtins.exec}\n",
      "        1    0.000    0.000   17.097   17.097 <string>:1(<module>)\n",
      "        1    0.009    0.009   17.097   17.097 /tmp/ipykernel_5847/1422914090.py:1(find_aligned_reads)\n",
      "        1    0.226    0.226   17.089   17.089 /tmp/ipykernel_5847/992215275.py:1(find_kmer_positions)\n",
      "      968    9.797    0.010   16.096    0.017 /tmp/ipykernel_5847/1019946815.py:1(lettre_et_occurence)\n",
      " 11271283    4.648    0.000    4.648    0.000 /tmp/ipykernel_5847/1019946815.py:8(<listcomp>)\n",
      " 11271364    1.036    0.000    1.036    0.000 {built-in method builtins.sum}\n",
      " 11912215    0.650    0.000    0.650    0.000 {method 'append' of 'list' objects}\n",
      "       81    0.000    0.000    0.547    0.007 /tmp/ipykernel_5847/3181281313.py:11(initialize_suffix_table_positions)\n",
      "       81    0.546    0.007    0.546    0.007 /tmp/ipykernel_5847/3181281313.py:14(<listcomp>)\n",
      "        1    0.159    0.159    0.193    0.193 /tmp/ipykernel_5847/3181281313.py:1(occurrence_indexer)\n",
      "        1    0.000    0.000    0.021    0.021 /usr/lib/python3.10/collections/__init__.py:565(__init__)\n",
      "        1    0.000    0.000    0.021    0.021 /usr/lib/python3.10/collections/__init__.py:640(update)\n",
      "        1    0.021    0.021    0.021    0.021 {built-in method _collections._count_elements}\n",
      "     1130    0.002    0.000    0.006    0.000 /home/azarkua/.local/lib/python3.10/site-packages/Bio/Seq.py:470(__getitem__)\n",
      "     1213    0.001    0.000    0.004    0.000 {built-in method builtins.isinstance}\n",
      "     1131    0.000    0.000    0.003    0.000 /usr/lib/python3.10/abc.py:117(__instancecheck__)\n",
      "     1131    0.001    0.000    0.002    0.000 {built-in method _abc._abc_instancecheck}\n",
      "     1049    0.000    0.000    0.001    0.000 /usr/lib/python3.10/abc.py:121(__subclasscheck__)\n",
      "     1049    0.001    0.000    0.001    0.000 {built-in method _abc._abc_subclasscheck}\n",
      "2262/2180    0.000    0.000    0.001    0.000 {built-in method builtins.len}\n",
      "       82    0.000    0.000    0.000    0.000 /home/azarkua/.local/lib/python3.10/site-packages/Bio/Seq.py:1961(__init__)\n",
      "     1049    0.000    0.000    0.000    0.000 {built-in method builtins.chr}\n",
      "       82    0.000    0.000    0.000    0.000 /home/azarkua/.local/lib/python3.10/site-packages/Bio/Seq.py:462(__len__)\n",
      "       81    0.000    0.000    0.000    0.000 /tmp/ipykernel_5847/3181281313.py:12(<listcomp>)\n",
      "        1    0.000    0.000    0.000    0.000 /home/azarkua/.local/lib/python3.10/site-packages/Bio/Seq.py:1233(upper)\n",
      "        1    0.000    0.000    0.000    0.000 /tmp/ipykernel_5847/1917333163.py:1(alignement_maximum_de_kmer)\n",
      "        1    0.000    0.000    0.000    0.000 {method 'disable' of '_lsprof.Profiler' objects}\n",
      "        1    0.000    0.000    0.000    0.000 /home/azarkua/.local/lib/python3.10/site-packages/Bio/SeqRecord.py:334(<lambda>)\n",
      "        1    0.000    0.000    0.000    0.000 {method 'upper' of 'bytes' objects}\n",
      "\n",
      "\n"
     ]
    },
    {
     "data": {
      "text/plain": [
       "<pstats.Stats at 0x7f322b459f00>"
      ]
     },
     "execution_count": 71,
     "metadata": {},
     "output_type": "execute_result"
    }
   ],
   "source": [
    "cProfile.run(\"find_aligned_reads(BWT_first_chromosome,suffix_array_first_chromosome, reads, 1, longueur_kmer)\", \"pattern_matching_stats\")\n",
    "p = pstats.Stats(\"pattern_matching_stats\")\n",
    "p.sort_stats(\"cumulative\").print_stats()"
   ]
  },
  {
   "cell_type": "raw",
   "id": "6f3c1ec6",
   "metadata": {},
   "source": [
    "def check_if_compatible_with_kmer(kmer_positions,suffix_table, suffix_table_positions,longueur):\n",
    "    output=[]\n",
    "    for position in suffix_table_positions:\n",
    "        print(\"position\")\n",
    "        print(position)\n",
    "        for start_of_kmer in kmer_positions:\n",
    "            if suffix_table[position]==start_of_kmer+2*longueur:\n",
    "                output.append(position)\n",
    "    return output\n",
    "\n",
    "def find_patterns_in_sequence_knowing_kmer(sequence, pattern, kmer_positions,longueur, sequence_has_end_character=False):\n",
    "    output=[]\n",
    "    \n",
    "    if sequence_has_end_character==False:\n",
    "        sequence += '!'\n",
    "        \n",
    "    sf=almost_dc3_with_p12(asciiDC3(sequence)) \n",
    "    BWT = \"\"\n",
    "    for i in sf:\n",
    "        BWT += sequence[i-1]\n",
    "    \n",
    "    \n",
    "    \n",
    "    #print(\"BWT\")\n",
    "    #print(BWT)\n",
    "    #print(\"\\n\")\n",
    "    occurence_index = occurrence_indexer(BWT)\n",
    "    #print('occurence_index')\n",
    "    #print(occurence_index)\n",
    "    #print(\"\\n\")\n",
    "    counts = Counter(BWT)\n",
    "    #print(\"counts\")\n",
    "    #print(counts)\n",
    "    #print(\"\\n\")\n",
    "    index=len(pattern)-1\n",
    "    pattern_letter=pattern[index]\n",
    "    \n",
    "    suffix_table_positions=initialize_suffix_table_positions(counts, pattern_letter)\n",
    "    \n",
    "    suffix_table_positions=check_if_compatible_with_kmer(kmer_positions,sf, suffix_table_positions,longueur)\n",
    "    #print(\"suffix_table_positions\")\n",
    "    #print(suffix_table_positions)\n",
    "    #print(\"\\n\")\n",
    "    while index>0 and len(suffix_table_positions)>0:\n",
    "        \n",
    "        index-=1\n",
    "        #print(\"index\")\n",
    "        #print(index)\n",
    "        #print(\"\\n\")\n",
    "        pattern_letter=pattern[index]\n",
    "        #print(\"pattern_letter\")\n",
    "        #print(pattern_letter)\n",
    "        #print(\"\\n\")\n",
    "        \n",
    "        A=lettre_et_occurence(BWT,pattern_letter,suffix_table_positions, occurence_index)\n",
    "        #print(\"A\")\n",
    "        #print(A)\n",
    "        #print(\"\\n\")\n",
    "        \n",
    "        suffix_table_positions=new_suffix_table_positions(BWT, A, counts)\n",
    "        #print(\"suffix_table_positions\")\n",
    "        #print(suffix_table_positions)\n",
    "        #print(\"\\n\")\n",
    "        \n",
    "        \n",
    "    for i in range(len(suffix_table_positions)):\n",
    "        output.append(sf[suffix_table_positions[i]])\n",
    "        \n",
    "\n",
    "    return output"
   ]
  },
  {
   "cell_type": "raw",
   "id": "5e8a2765",
   "metadata": {},
   "source": [
    "def naive_read_alignment(kmer, longueur, chromosome):\n",
    "    first_kmer=sorted(find_patterns_in_sequence(chromosome, kmer[0][1],sequence_has_end_character=False))\n",
    "    first_kmer_dict={}\n",
    "    for i in range(len(first_kmer)):\n",
    "        first_kmer_dict[first_kmer[i]+longueur]=0\n",
    "    second_kmer=sorted(find_patterns_in_sequence(chromosome, kmers[1][1],sequence_has_end_character=False))\n",
    "    for i in range(second_kmer):\n",
    "        if dict[second_kmer[i]]==0:\n",
    "            dict[second_kmer[i]]=1\n",
    "    return"
   ]
  },
  {
   "cell_type": "raw",
   "id": "bb1d19e6",
   "metadata": {},
   "source": [
    "def naive_read_reconstruction(kmers,longueur, chromosome):\n",
    "    first_kmer=sorted(find_patterns_in_sequence(chromosome, kmers[0][1],sequence_has_end_character=False))\n",
    "    output=[]\n",
    "    for i in range(len(kmers)):\n",
    "        new_kmer=sorted(find_patterns_in_sequence(chromosome, kmers[i],sequence_has_end_character=False)\n",
    "                 for first_index in range(len(first_kmer)):\n",
    "                     genome_position=first_kmer[first_index]\n",
    "                     second_index=0\n",
    "                     while genome_position>new_kmer[second_index] and new_kmer[second_index]<genome_position+len(longueur):\n",
    "                        if new_kmer[second_index]==genome_position+len(longueur):\n",
    "                            output\n",
    "                        second_index+=1\n",
    "                    while\n",
    "                     \n",
    "        end_of_precedent_kmer=M[0][0]\n",
    "    return"
   ]
  },
  {
   "cell_type": "raw",
   "id": "9f7d55a6",
   "metadata": {},
   "source": [
    "def assembler_des_kmers(numero_du_kmer, position_ds_genome,longueur, liste_position_kmers):\n",
    "    compteur_de_kmer=1 #compte le nb de kmers qu'on arrive à aligner\n",
    "    last_position=0\n",
    "    i=numero_du_kmer+1\n",
    "    difference=1\n",
    "    \n",
    "    while i<len(liste_position_kmers):\n",
    "        print(\"i au début du while\")\n",
    "        print(i)\n",
    "        print(\"\\n\")\n",
    "        j=0\n",
    "        previous_compteur=compteur_de_kmer\n",
    "        print(\"le compteur est à\")\n",
    "        print(compteur_de_kmer)\n",
    "        print(\"\\n\")\n",
    "        print(\"on s'interesse au kmer numero\")\n",
    "        print(i)\n",
    "        print(\"qui est\")\n",
    "        print(liste_position_kmers[i])\n",
    "        k=0\n",
    "        while j<len(liste_position_kmers[i]) and compteur_de_kmer==previous_compteur:\n",
    "            print(\"on cherche la position\")\n",
    "            print(position_ds_genome+difference)\n",
    "            if position_ds_genome+difference==liste_position_kmers[i][j]:\n",
    "                compteur_de_kmer+=1\n",
    "                last_position=liste_position_kmers[i][j]\n",
    "            j+=1\n",
    "            \n",
    "        if compteur_de_kmer==previous_compteur:\n",
    "            ### cas d'une mutation\n",
    "            print(\"cas d'une mutation\")\n",
    "            i+=longueur\n",
    "            difference+=longueur\n",
    "            print(\"on s'interesse au kmer numero\")\n",
    "            print(i)\n",
    "            print(\"qui est\")\n",
    "            print(liste_position_kmers[i])\n",
    "            k=0\n",
    "            \n",
    "            while k<len(liste_position_kmers[i]) and compteur_de_kmer==previous_compteur:\n",
    "                print(\"on cherche la position\")\n",
    "                print(position_ds_genome+difference)\n",
    "                if position_ds_genome+difference==liste_position_kmers[i][k]:\n",
    "                    compteur_de_kmer+=1\n",
    "                    last_position=liste_position_kmers[i][k]\n",
    "                k+=1\n",
    "                \n",
    "                \n",
    "                \n",
    "            if compteur_de_kmer==previous_compteur:\n",
    "                ###cas d'une addition\n",
    "                print(\"cas d'une addition\")\n",
    "                difference-=1\n",
    "                l=0\n",
    "                while l<len(liste_position_kmers[i]) and compteur_de_kmer==previous_compteur:\n",
    "                    \n",
    "                    if position_ds_genome+difference==liste_position_kmers[i][l]:\n",
    "                        compteur_de_kmer+=1\n",
    "                        last_position=liste_position_kmers[i][l]\n",
    "                    l+=1\n",
    "                \n",
    "                if compteur_de_kmer==previous_compteur:\n",
    "                    ###cas d'une déletions\n",
    "                    print(\"cas d'une délétion\")\n",
    "                    difference+=1\n",
    "                    i-=1\n",
    "                    m=0\n",
    "                    while m<len(liste_position_kmers[i]) and compteur_de_kmer==previous_compteur:\n",
    "                    \n",
    "                        if position_ds_genome+difference==liste_position_kmers[i][m]:\n",
    "                            compteur_de_kmer+=1\n",
    "                            last_position=liste_position_kmers[i][m]\n",
    "                        m+=1\n",
    "                        \n",
    "                    if compteur_de_kmer==previous_compteur:\n",
    "                        ### cas où l'alignement est terminé\n",
    "                        return [[position_ds_genome,last_position+longueur],compteur_de_kmer]\n",
    "\n",
    "        i+=1\n",
    "        difference+=1   \n",
    "        \n",
    "    return [[position_ds_genome,last_position+longueur],compteur_de_kmer]"
   ]
  },
  {
   "cell_type": "raw",
   "id": "ccf4e220",
   "metadata": {},
   "source": [
    "def assembler_des_kmers(numero_du_kmer, position_ds_genome,longueur, liste_position_kmers):\n",
    "    compteur_de_kmer=1 #compte le nb de kmers qu'on arrive à aligner\n",
    "    last_position=0\n",
    "    i=numero_du_kmer+1\n",
    "    difference=i\n",
    "    \n",
    "    while i<len(liste_position_kmers):\n",
    "        previous_compteur=compteur_de_kmer\n",
    "        j=0\n",
    "        while j<len(liste_position_kmers[i]) and compteur_de_kmer==previous_compteur:\n",
    "            ## cas où tout marche\n",
    "            if position_ds_genome+difference==liste_position_kmers[i][j]:\n",
    "                compteur_de_kmer+=1\n",
    "                last_position=liste_position_kmers[i][j]\n",
    "                i+=1\n",
    "                \n",
    "            ## cas d'une déletion\n",
    "            elif position_ds_genome+difference==liste_position_kmers[i+longueur-1][j]:\n",
    "                i=i+longueur-1\n",
    "                compteur_de_kmer+=1\n",
    "                last_position=liste_position_kmers[i+longueur-1][j]\n",
    "                \n",
    "            ## cas d'une mutation\n",
    "            elif position_ds_genome+difference==liste_position_kmers[i+longueur][j]:\n",
    "                i=i+longueur\n",
    "                compteur_de_kmer+=1\n",
    "                last_position=liste_position_kmers[i+longueur][j]\n",
    "            ## cas d'une addition\n",
    "            elif position_ds_genome+difference-1==liste_position_kmers[i+longueur][j]:\n",
    "                i=i+longueur\n",
    "                difference-=1\n",
    "                compteur_de_kmer+=1\n",
    "                last_position=liste_position_kmers[i+longueur][j]\n",
    "                   \n",
    "            j+=1\n",
    "        \n",
    "        if compteur_de_kmer==previous_compteur:\n",
    "            return [[position_ds_genome,last_position+longueur],compteur_de_kmer]\n",
    "                    \n",
    "        \n",
    "    return [[position_ds_genome,last_position+longueur],compteur_de_kmer]"
   ]
  },
  {
   "cell_type": "raw",
   "id": "350419ec",
   "metadata": {},
   "source": [
    "def file_BWT(genome):\n",
    "    f = open(\"BWT_of_every_chromosome.txt\", \"w\")\n",
    "    for i in range(len(genome)):\n",
    "        f.write(BWT_suffix_table(genome[i].seq.upper()))\n",
    "        f.write(\"\\n\")\n",
    "    f.close()\n",
    "    return "
   ]
  },
  {
   "cell_type": "raw",
   "id": "e21a5a2d",
   "metadata": {},
   "source": [
    "def file_suffix_tables(genome):\n",
    "    for i in range(len(genome)):\n",
    "        f=open(\"suffix_table_of_chromosome\"+str(i)+\".txt\", \"w\")\n",
    "        suffix_table=almost_dc3_with_p12(asciiDC3(genome[i].seq.upper()[:10]))\n",
    "        string=[str(x) for x in suffix_table]\n",
    "        f.writelines(string)\n",
    "        f.close()\n",
    "    return"
   ]
  },
  {
   "cell_type": "raw",
   "id": "917efb12",
   "metadata": {},
   "source": [
    "def file_alignment_positions(chromosome_number, chromosome, reads_list, kmer_size):\n",
    "    f = open(\"alignment_on_chromosome\"+str(chromosome_number)+\".txt\", \"w\")\n",
    "    for read in reads_list:\n",
    "        liste_kmer=kmer(read, kmer_size)\n",
    "        temp=[]\n",
    "        for i in range(len(liste_kmer)):\n",
    "            temp.append(find_patterns_in_sequence(chromosome, liste_kmer[i],sequence_has_end_character=False, convert_to_string=True))\n",
    "            f.writelines(find_patterns_in_sequence(chromosome, liste_kmer[i],sequence_has_end_character=False, convert_to_string=True))\n",
    "    f.close()\n",
    "    return temp"
   ]
  }
 ],
 "metadata": {
  "kernelspec": {
   "display_name": "Python 3 (ipykernel)",
   "language": "python",
   "name": "python3"
  },
  "language_info": {
   "codemirror_mode": {
    "name": "ipython",
    "version": 3
   },
   "file_extension": ".py",
   "mimetype": "text/x-python",
   "name": "python",
   "nbconvert_exporter": "python",
   "pygments_lexer": "ipython3",
   "version": "3.10.12"
  }
 },
 "nbformat": 4,
 "nbformat_minor": 5
}
