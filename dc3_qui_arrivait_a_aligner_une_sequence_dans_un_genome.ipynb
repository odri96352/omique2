{
 "cells": [
  {
   "cell_type": "markdown",
   "id": "3dc3f155",
   "metadata": {},
   "source": [
    "## Développement d’une solution de mapping de données de séquençage à haut-débit sur un génome de référence"
   ]
  },
  {
   "cell_type": "markdown",
   "id": "13f27576",
   "metadata": {},
   "source": [
    "#### Mise en place d'un algorithme permettant de chercher un mot de longueur fixe dans un texte"
   ]
  },
  {
   "cell_type": "markdown",
   "id": "92b6df00",
   "metadata": {},
   "source": [
    "#### Plan du notebook:\n",
    "1/ Prise en main de Biopython  \n",
    "2/ Implémentation d'un algorithme \"Difference Cover size 3\" pour construire une table de suffixe à partir d'un génome en un temps linéaire"
   ]
  },
  {
   "cell_type": "markdown",
   "id": "d656bf5e",
   "metadata": {},
   "source": [
    "### 1/ Biopython"
   ]
  },
  {
   "cell_type": "code",
   "execution_count": 1,
   "id": "63868023",
   "metadata": {},
   "outputs": [],
   "source": [
    "from Bio import SeqIO"
   ]
  },
  {
   "cell_type": "code",
   "execution_count": 2,
   "id": "e38c2421",
   "metadata": {},
   "outputs": [],
   "source": [
    "path_to_genome_file=\"/home/mvernier/Documents/2023-2024/omique2/projet/GCF_000002765.5_GCA_000002765_genomic.fna\"\n",
    "path_to_reads_file=\"/home/mvernier/Documents/2023-2024/omique2/projet/single_Pfal_dat.fq\""
   ]
  },
  {
   "cell_type": "code",
   "execution_count": 3,
   "id": "9481b90d",
   "metadata": {},
   "outputs": [],
   "source": [
    "genome=[]\n",
    "nucleotide_genome=0\n",
    "for seq_record in SeqIO.parse(path_to_genome_file, \"fasta\"):\n",
    "    genome.append(seq_record)\n",
    "    nucleotide_genome+=len(seq_record.seq)"
   ]
  },
  {
   "cell_type": "code",
   "execution_count": 4,
   "id": "97c08887",
   "metadata": {},
   "outputs": [
    {
     "name": "stdout",
     "output_type": "stream",
     "text": [
      "Informations contenues dans un élément de 'genome'.\n",
      "ID: NC_004325.2\n",
      "Name: NC_004325.2\n",
      "Description: NC_004325.2 Plasmodium falciparum 3D7 genome assembly, chromosome: 1\n",
      "Number of features: 0\n",
      "Seq('TGAACCCTaaaacctaaaccctaaaccctaaaccctgaaccctaaaccctgaac...agg')\n"
     ]
    }
   ],
   "source": [
    "print(\"Informations contenues dans un élément de 'genome'.\")\n",
    "print(genome[0])"
   ]
  },
  {
   "cell_type": "code",
   "execution_count": 5,
   "id": "44017264",
   "metadata": {},
   "outputs": [
    {
     "name": "stdout",
     "output_type": "stream",
     "text": [
      "Notre génome contient 15 séquences (14 chromosomes et 1 plasmide) et est constitué de 23326872 nucléotides.\n"
     ]
    }
   ],
   "source": [
    "print(\"Notre génome contient \"+str(len(genome))+\" séquences (\"+ str(len(genome)-1) +\" chromosomes et 1 plasmide) et est constitué de \"+str(nucleotide_genome)+\" nucléotides.\")"
   ]
  },
  {
   "cell_type": "code",
   "execution_count": 6,
   "id": "de4b1921",
   "metadata": {},
   "outputs": [
    {
     "name": "stdout",
     "output_type": "stream",
     "text": [
      "[SeqRecord(seq=Seq('TTTCCTTTTTAAGCGTTTTATTTTTTAATAAAAAAAATATAGTATTATATAGTA...TAA'), id='NC_004325.2-100000', name='NC_004325.2-100000', description='NC_004325.2-100000', dbxrefs=[])]\n"
     ]
    }
   ],
   "source": [
    "reads=[]\n",
    "nucleotide_reads=0\n",
    "for seq_record in SeqIO.parse(path_to_reads_file, \"fastq\"):\n",
    "    reads.append(seq_record)\n",
    "    nucleotide_reads+=len(seq_record.seq)\n",
    "    #if len(seq_record.seq)!= 100:\n",
    "    #    print(\"False\")\n",
    "print(reads[:1])"
   ]
  },
  {
   "cell_type": "code",
   "execution_count": 7,
   "id": "587e84f9",
   "metadata": {},
   "outputs": [
    {
     "name": "stdout",
     "output_type": "stream",
     "text": [
      "Informations contenues dans un élément de 'reads'.\n",
      "ID: NC_004325.2-99990\n",
      "Name: NC_004325.2-99990\n",
      "Description: NC_004325.2-99990\n",
      "Number of features: 0\n",
      "Per letter annotation for: phred_quality\n",
      "Seq('TCTTTTAACATACCTAAGAAGGAATACATTTTACACTTTACCTATTATTTATTC...ATA')\n"
     ]
    }
   ],
   "source": [
    "print(\"Informations contenues dans un élément de 'reads'.\")\n",
    "print(reads[10])"
   ]
  },
  {
   "cell_type": "code",
   "execution_count": 8,
   "id": "406e1048",
   "metadata": {},
   "outputs": [
    {
     "name": "stdout",
     "output_type": "stream",
     "text": [
      "Nous avons 1500000 reads qui contiennent 150000000 nucléotides.\n",
      "Chaque read a une longueur de 100 nucléotide.\n"
     ]
    }
   ],
   "source": [
    "print(\"Nous avons \"+str(len(reads))+\" reads qui contiennent \"+str(nucleotide_reads)+\" nucléotides.\")\n",
    "print(\"Chaque read a une longueur de \"+str(int(nucleotide_reads/len(reads)))+\" nucléotide.\")"
   ]
  },
  {
   "cell_type": "markdown",
   "id": "2e430f85",
   "metadata": {},
   "source": [
    "### 2/ DC3\n",
    "#### Première étape de DC3: division des positions de notre génome, tri des positions"
   ]
  },
  {
   "cell_type": "code",
   "execution_count": 9,
   "id": "bf52a3d6",
   "metadata": {},
   "outputs": [],
   "source": [
    "import time"
   ]
  },
  {
   "cell_type": "code",
   "execution_count": 10,
   "id": "7166cabb",
   "metadata": {},
   "outputs": [],
   "source": [
    "def asciiDC3 (seq) : \n",
    "    \"\"\"\n",
    "    Create sequence of ascii equivalent of each element of given list parameter.\n",
    "    Add three sentinel numbers necessary for DC3 algorithm.\n",
    "    \n",
    "    Args:\n",
    "        seq (list of str): list of elements to transform\n",
    "    \n",
    "    Return:\n",
    "        (list of int)\n",
    "    \"\"\"\n",
    "    asc=[]\n",
    "    for i in seq : \n",
    "        asc.append(ord(i))\n",
    "    \n",
    "    return asc+[0,0,0]"
   ]
  },
  {
   "cell_type": "markdown",
   "id": "65b02e0d",
   "metadata": {},
   "source": [
    "##### Complexité:\n",
    "Parcourir la séquence 1 fois implique, que asciiDC3 a une compléxité $O(n)$"
   ]
  },
  {
   "cell_type": "code",
   "execution_count": 11,
   "id": "c807cbc7",
   "metadata": {},
   "outputs": [],
   "source": [
    "def position1_2 (asc):\n",
    "    \"\"\"\n",
    "    Create list of positions not multiple of 3\n",
    "    \n",
    "    Args:\n",
    "        asc (list of int): sequence we want to extract a suffix array from\n",
    "    \n",
    "    Return:\n",
    "         ind1+ind2 (list of int): list of positions not multiple of 3\n",
    "    \"\"\"\n",
    "    ind1=[]\n",
    "    ind2=[]\n",
    "    for k in range(len(asc)-2):\n",
    "        #attention on a peut etre fait de la merde ici, pas sure du -2\n",
    "        if k%3==1 :\n",
    "            ind1.append(k)\n",
    "        if k%3==2:\n",
    "            ind2.append(k)\n",
    "    # dans le cas où T a un nombre d'élément multiple de 3, r12 ne contiendra pas le triplet [0,0,0].\n",
    "    # Or, la fonction, \"removesentinel\" retire 1 élément notre suffix table, pour justement se débarrasser de [0,0,0]\n",
    "    # J'ai donc décider de rajouter artificiellement [0,0,0] dans les cas où il n'est pas déjà là.\n",
    "    if len(asc)%3==0:\n",
    "        ind1.append(len(asc)-1-2)\n",
    "        \n",
    "    return ind1+ind2"
   ]
  },
  {
   "cell_type": "markdown",
   "id": "61932a14",
   "metadata": {},
   "source": [
    "##### Complexité:\n",
    "Parcourir la séquence 1 fois implique, que position1_2 a une compléxité $O(n)$"
   ]
  },
  {
   "cell_type": "code",
   "execution_count": 12,
   "id": "983e5cfc",
   "metadata": {},
   "outputs": [],
   "source": [
    "def radix_with_p12(p,t):\n",
    "    \"\"\"\n",
    "    Creates a list of couples containing:\n",
    "    - sequences of three elements from \"t\" staring from positions in parameter \"p\"\n",
    "    - the position p\n",
    "    \n",
    "    Args : \n",
    "        p (list of int): list of positions not multiple of 3 \n",
    "        t (list of int): sequence we want to extract a suffix array from\n",
    "    \n",
    "    Return : \n",
    "        r (list of list): list of triplets and their starting positions\n",
    "    \n",
    "    \"\"\"\n",
    "    r=[]\n",
    "    for i in range(len(p)):\n",
    "        index=p[i]\n",
    "        r.append([[t[index],t[index+1], t[index+2]],index])\n",
    "    return r"
   ]
  },
  {
   "cell_type": "markdown",
   "id": "6ca692c5",
   "metadata": {},
   "source": [
    "##### Complexité:\n",
    "Parcourir la séquence 1 fois implique, que radix_with_p12 a une compléxité $O(n)$"
   ]
  },
  {
   "cell_type": "code",
   "execution_count": 13,
   "id": "862523e6",
   "metadata": {},
   "outputs": [],
   "source": [
    "def sort_with_p12(array, alphabet, columnNumber):\n",
    "    \"\"\"\n",
    "    Sorts parameter \"array\" using Radix Sort\n",
    "    \n",
    "    Args:\n",
    "        array (list of list): list of triplets and their positions.\n",
    "        \n",
    "        alphabet (dictionnary): alphabet of our array. Ouput of function \"alphabetT\" or \"alphabetR0_with_p12\"\n",
    "        \n",
    "        columnNumber (int): number of last column of the lists in our paramater \"array\". \n",
    "                                    for r12, columnNumber=2\n",
    "                                    for r0, columnNumber=1\n",
    "    \n",
    "    Return:\n",
    "        array (list of list) : sorted list of triplets and their positions\n",
    "\n",
    "    \"\"\"\n",
    "    if len(array) == 0:\n",
    "        return array\n",
    "    # Perform counting sort on each column, starting at the last\n",
    "\n",
    "    column = columnNumber\n",
    "    while column>=0: \n",
    "        array = countingSortByDigit_with_p12(array, alphabet, column)\n",
    "        column-=1 #Switches column in array\n",
    "\n",
    "    return array\n",
    "\n",
    "def countingSortByDigit_with_p12(array, alphabet, column):\n",
    "    \"\"\"\n",
    "    Sorts parameter \"array\" using Counting Sort\n",
    "    \n",
    "    Args:\n",
    "        array (list of list): list of triplets and their positions.\n",
    "        \n",
    "        alphabet (dictionnary): alphabet of our array.O uput of function \"alphabetT\" or \"alphabetR0_with_p12\"\n",
    "        \n",
    "        columnNumber (int): number of last column of the lists in our paramater \"array\". \n",
    "                                    for r12, columnNumber=2\n",
    "                                    for r0, columnNumber=1\n",
    "    \n",
    "    Return:\n",
    "        array (list of list) : sorted list of triplets and their positions according to column number \"column\"\n",
    "\n",
    "    \"\"\"\n",
    "    countIndex = -1\n",
    "    count = [0] * len(alphabet)\n",
    "    output = [None] * len(array)\n",
    "\n",
    "  # Count frequencies\n",
    "    for i in range(0, len(array)):\n",
    "        countIndex = alphabet[array[i][0][column]]\n",
    "        count[countIndex] += 1\n",
    "\n",
    "  # Compute cumulates\n",
    "    for i in range(1, len(alphabet)):\n",
    "        count[i] += count[i - 1]\n",
    "\n",
    "  # Move records\n",
    "    for i in range(len(array) - 1, -1, -1):\n",
    "        countIndex = alphabet[array[i][0][column]]\n",
    "        count[countIndex] -= 1\n",
    "        output[count[countIndex]] = array[i]\n",
    "       \n",
    "    return output"
   ]
  },
  {
   "cell_type": "markdown",
   "id": "d5feea33",
   "metadata": {},
   "source": [
    "##### Complexité:\n",
    "\"sort\" a la même complexité que \"CountingSortByDigit\", qui ,lui, a une complexité linéaire."
   ]
  },
  {
   "cell_type": "code",
   "execution_count": 14,
   "id": "b13f245e",
   "metadata": {},
   "outputs": [],
   "source": [
    "def triplets_are_equal(a,b):\n",
    "    \"\"\"\n",
    "    Checks if a and b have the same elements.\n",
    "    \n",
    "    Args:\n",
    "        a (list of int) \n",
    "        \n",
    "        b (list of int)\n",
    "\n",
    "    Return:\n",
    "        (bool): True if the triplets are equal, False if not\n",
    "\n",
    "    \"\"\"\n",
    "    for i in range(len(a)):\n",
    "        if a[i]!=b[i]:\n",
    "            return False\n",
    "    return True\n",
    "\n",
    "\n",
    "def ordre_with_p12(R12p12sorted, use_index_12=False):\n",
    "    \"\"\"\n",
    "    Returns the order of each element of parameter \"R12p12sorted\".\n",
    "    If use_index_12 is set to \"True\", it also returns a dictionnary, with the position of the triplet\n",
    "    as a key, and its order as element.\n",
    "    \n",
    "    Example: \n",
    "        ordre_with_p12([ [ [0,0,0],1], [ [0,0,0],4], [ [0,0,1],7])=[1,1,2]\n",
    "        \n",
    "        ordre_with_p12([ [ [0,0,0],1], [ [0,0,0],4], [ [0,0,1],7], use_index_12=True)= [ [1,1,2], {1:1,4:1,7:2} ]\n",
    "    \n",
    "    args : \n",
    "        R12p12sorted (list) : list of triplets with their position in the sequence, ordered \n",
    "        \n",
    "        use_index_12 (boolean) : True if you want a dictionnary back\n",
    "        \n",
    "    return : \n",
    "        if use_index_12=True : \n",
    "            order (list of int) :  order of each element of parameter \"R12p12sorted\"\n",
    "            \n",
    "            repetition (boolean) : If two triplets have the same ordre, \"repetition\"=True\n",
    "            \n",
    "            indexdict (dictionary) :keys are the positions p12 and elements are the order of the positions \n",
    "        \n",
    "        if use_index_12=False : \n",
    "            order (list of int): order of each element of parameter \"R12p12sorted\"\n",
    "    \"\"\"\n",
    "    # nous renovie la liste order du genre (1,2,2,3,4,4,5)  et un booléen indiquant s'il y a répétition\n",
    "    index=1\n",
    "    repetition=False\n",
    "    order=[1]\n",
    "    \n",
    "    if use_index_12:\n",
    "        indexdict={R12p12sorted[0][1]:1}\n",
    "        \n",
    "    for i in range(1, len(R12p12sorted)): \n",
    "        if triplets_are_equal(R12p12sorted[i-1][0], R12p12sorted[i][0]):\n",
    "            order.append(index)\n",
    "            repetition=True\n",
    "        else : \n",
    "            index+=1\n",
    "            order.append(index)\n",
    "            \n",
    "        if use_index_12:\n",
    "            indexdict[R12p12sorted[i][1]]=order[i]\n",
    "    if use_index_12:\n",
    "        return order, repetition, indexdict\n",
    "    else: \n",
    "        return order\n",
    "            "
   ]
  },
  {
   "cell_type": "markdown",
   "id": "64f4c0be",
   "metadata": {},
   "source": [
    "##### Complexité:\n",
    "triplets_are_equal a une complexité de $O(1)$ donc ordre_with_p12 a une complexité de $O(n)$ à cause la boucle for. "
   ]
  },
  {
   "cell_type": "code",
   "execution_count": 15,
   "id": "992507a1",
   "metadata": {},
   "outputs": [],
   "source": [
    "def alphabetT(T):\n",
    "    \"\"\"\n",
    "    Returns a dictionnary with the order of each \"letter\" constituting the parameter T.\n",
    "    \n",
    "    Example: \n",
    "        alphabetT([4,9,14,67])={4:0, 9:1, 14:2, 67:3}\n",
    "    \n",
    "    Args:\n",
    "        T (list of int): the sequence we want a suffix array from\n",
    "    \n",
    "    Return:\n",
    "        dic (dictionnary) : order of each \"letter\" constituting the parameter T\n",
    "\n",
    "    \"\"\"\n",
    "\n",
    "    dic={}\n",
    "    a=[]\n",
    "    for i in range(len(T)):\n",
    "        a.append(T[i])\n",
    "    a.sort() \n",
    "    \n",
    "    for element in a:\n",
    "        if not (element in dic):\n",
    "            dic[element]=len(dic)\n",
    "    return dic"
   ]
  },
  {
   "cell_type": "code",
   "execution_count": 16,
   "id": "51c44263",
   "metadata": {},
   "outputs": [],
   "source": [
    "def alphabetR0_with_p12(R0p0):\n",
    "    \"\"\"\n",
    "    Returns a dictionnary with the order of each \"letter\" constituting the parameter R0p0.\n",
    "    Similar to the function alphabetT, coded specifically for the output of function position0_R0_p0\n",
    "    \n",
    "    Example: \n",
    "        alphabetR0_with_p12([[[65, 14], 0], [[67, 11], 3]]) = {11: 0, 14: 1, 65: 2, 67: 3}\n",
    "    \n",
    "    Args:\n",
    "        R0p0 (list of list): list of couples and their position in the sequence we want a suffix array from.\n",
    "                             output of function position0_R0_p0\n",
    "                             [ [couple], position multiple of 3]\n",
    "    \n",
    "    Return:\n",
    "        dic (dictionnary) : order of each \"letter\" constituting the parameter R0p0\n",
    "\n",
    "    \"\"\"\n",
    "    \n",
    "    dic={}\n",
    "    a=[]\n",
    "    for column in range(2):\n",
    "        for i in range(len(R0p0)):\n",
    "            a.append(R0p0[i][0][column])\n",
    "    a.sort() \n",
    "    \n",
    "    for element in a:\n",
    "        if not (element in dic):\n",
    "            dic[element]=len(dic)\n",
    "    return dic"
   ]
  },
  {
   "cell_type": "markdown",
   "id": "4543f812",
   "metadata": {},
   "source": [
    "##### Complexité:\n",
    "alphabetT a une complexité de $O(n)$ car la fonction parcourt toute la séquence une fois. Il en est de même pour alphabetR0_with_p12, car la seconde boucle for n'est que de taille 2. "
   ]
  },
  {
   "cell_type": "markdown",
   "id": "910be5fc",
   "metadata": {},
   "source": [
    "#### Deuxième étape de DC3: utilisation des premières positions triées pour construire second groupe de positions"
   ]
  },
  {
   "cell_type": "code",
   "execution_count": 17,
   "id": "a616f4b5",
   "metadata": {},
   "outputs": [],
   "source": [
    "def Tprime_with_p12(p12, indexdict):\n",
    "    \"\"\"\n",
    "    Return a list of the order of each element of p12.\n",
    "    The list will be the new sequence from which we want to extract a suffix array.\n",
    "    \n",
    "    Args : \n",
    "        p12 (list of int) : positions not multiple of 3\n",
    "        \n",
    "        indexdict (dictionnary) : keys are the positions p12 and elements are the order of the positions \n",
    "        \n",
    "    Return :\n",
    "        t(list of int): order of each element of p12\n",
    "    \"\"\"\n",
    "    t=[]\n",
    "    for p in p12:\n",
    "        t.append(indexdict[p])\n",
    "    return t"
   ]
  },
  {
   "cell_type": "markdown",
   "id": "81f56151",
   "metadata": {},
   "source": [
    "##### Complexité:\n",
    "Parcourir la liste des positions p12 une fois implique que Tprime_with_p12 a une compléxité $O(n)$"
   ]
  },
  {
   "cell_type": "code",
   "execution_count": 18,
   "id": "679e86bf",
   "metadata": {},
   "outputs": [],
   "source": [
    "def position0_R0_p0(T, index12dict):\n",
    "    \"\"\"\n",
    "    Returns:\n",
    "    -list of positions multiples of 3\n",
    "    -list of lists, composed of: 1/ [element at position multiple of 3, order of the element at next position]\n",
    "                                2/ position multiple of 3\n",
    "    Args : \n",
    "        T (list of int) : sequence for which we are looking to extract the suffix array. \n",
    "                        It must contain the three sentinel numbers\n",
    "        \n",
    "        index12dict (dictionary) : dictionary which contains the positions of p12 as key and their order as elements\n",
    "        \n",
    "    Return :\n",
    "        position (list): all positions multiple of 3\n",
    "        \n",
    "        R (list of list): lists each position with the elements at the next position\n",
    "\n",
    "    \"\"\"\n",
    "    position=[]\n",
    "    R=[]\n",
    "    for i in range(len(T)-3): \n",
    "        if i%3==0:\n",
    "            position.append(i)\n",
    "            if i+1<len(T)-3:\n",
    "                R.append([[T[i],index12dict[i+1]],position[-1]])\n",
    "            else:\n",
    "                R.append([[T[i],1],position[-1]]) \n",
    "    return position, R"
   ]
  },
  {
   "cell_type": "markdown",
   "id": "5caa1f3a",
   "metadata": {},
   "source": [
    "##### Complexité:\n",
    "Parcourir notre séquence initiale 1 fois implique que position0_R0_p0 a une compléxité $O(n)$. La tache \"chercher le rang de la position suivante\" a une complexité de $O(1)$ car on cherche une clé dans un dictionnaire"
   ]
  },
  {
   "cell_type": "markdown",
   "id": "a0202f6d",
   "metadata": {},
   "source": [
    "#### Troisième étape de DC3: combiner les positions triées pour trouver le suffix array."
   ]
  },
  {
   "cell_type": "code",
   "execution_count": 19,
   "id": "83cfeabf",
   "metadata": {},
   "outputs": [],
   "source": [
    "def merge_with_p12(Tfinal, r0p0sorted, index12dict) :\n",
    "    \"\"\"\n",
    "    Constructs a list of the positions in the right order to construct the suffix table of parameter \"Tfinale\"\n",
    "    \n",
    "    Args : \n",
    "        Tfinal(list of int) : sequence for which we want to create a suffix table \n",
    "        \n",
    "        r0p0sorted(list of list) : sorted output of positionR0P0 \n",
    "        \n",
    "        index12dict(dictionary):  dictionary which contains the positions of p12 as key and their order as elements\n",
    "    \n",
    "    Return : \n",
    "        liste (list of int) : positions in the right order to construct the suffix table \n",
    "    \"\"\"\n",
    "\n",
    "    index12dictkeys=list(index12dict.keys())\n",
    "    liste=[]\n",
    "    A=0\n",
    "    B=0\n",
    "    while A<len(r0p0sorted) and B<len(index12dictkeys):\n",
    "        a=r0p0sorted[A][1]\n",
    "        b=index12dictkeys[B]\n",
    "        if Tfinal[a]!=Tfinal[b] :\n",
    "            minimum=min(Tfinal[a], Tfinal[b])\n",
    "            \n",
    "            if minimum == Tfinal[a]:\n",
    "                A+=1\n",
    "                liste.append(a)\n",
    "            else: \n",
    "                B+=1\n",
    "                liste.append(b)\n",
    "\n",
    "        else :\n",
    "            if b%3==1 : \n",
    "                longueur=len(liste)\n",
    "                i=0\n",
    "                if index12dict[a+1]<index12dict[b+1]:\n",
    "                    liste.append(a)\n",
    "                    A+=1\n",
    "                else:\n",
    "                    liste.append(b)\n",
    "                \n",
    "                    B+=1\n",
    "                    \n",
    "                    \n",
    "            elif b%3==2 :\n",
    "            \n",
    "                if Tfinal[a+1]!=Tfinal[b+1] :\n",
    "                   \n",
    "                    minimum=min(Tfinal[a+1], Tfinal[b+1])\n",
    "                    if minimum == Tfinal[a+1]:\n",
    "                        A+=1\n",
    "                    \n",
    "                        liste.append(a)\n",
    "                    else: \n",
    "                        B+=1\n",
    "                        \n",
    "                        liste.append(b)\n",
    "\n",
    "                else:\n",
    "                  \n",
    "                    if index12dict[a+2]<index12dict[b+2]:\n",
    "                        liste.append(a)\n",
    "                        A+=1\n",
    "                    else:\n",
    "                        liste.append(b)\n",
    "                        B+=1\n",
    "                        \n",
    "\n",
    "    if A==len(r0p0sorted):\n",
    "\n",
    "        for i in range(B,len(index12dictkeys)):\n",
    "            liste.append(index12dictkeys[i])\n",
    "                \n",
    "    if B==len(index12dictkeys):\n",
    "\n",
    "        for i in range(A, len(r0p0sorted)):\n",
    "            liste.append(r0p0sorted[i][1])\n",
    "\n",
    "    return liste"
   ]
  },
  {
   "cell_type": "markdown",
   "id": "5a1d3524",
   "metadata": {},
   "source": [
    "##### Complexité:\n",
    "La boucle while suivit de n'importe quelle des deux boucles for ne parcourt que n éléments. Les boucles ne sont pas imbriquées les unes dans les autres, et dans la boucle while, seules des opérations de complexité $O(1)$ prennent place.\n",
    "Donc merge_with_p12 a une complexité de $O(n)$."
   ]
  },
  {
   "cell_type": "code",
   "execution_count": 20,
   "id": "4d8d329f",
   "metadata": {},
   "outputs": [],
   "source": [
    "def merge_with_p12_debugg(Tfinal, r0p0sorted, index12dict) : \n",
    "    print(\"rappel des paramètres entrés pour la fonction merge\")\n",
    "    print(\"Tfinal\")\n",
    "    print(Tfinal)\n",
    "    print(\"r0p0sorted\")\n",
    "    print(r0p0sorted)\n",
    "    print(\"index12dict\")\n",
    "    print(index12dict)\n",
    "    print(\"on construit une liste des clés du dictionnaire\")\n",
    "    print(\"qui est dans l'ordre normalement ahhh!\")\n",
    "    index12dictkeys=list(index12dict.keys())\n",
    "    liste=[]\n",
    "    A=0\n",
    "    B=0\n",
    "    while A<len(r0p0sorted) and B<len(index12dictkeys):\n",
    "        print(\"rentre dans le while\")\n",
    "        a=r0p0sorted[A][1]\n",
    "        b=index12dictkeys[B]\n",
    "        if Tfinal[a]!=Tfinal[b] :\n",
    "            minimum=min(Tfinal[a], Tfinal[b])\n",
    "            \n",
    "            if minimum == Tfinal[a]:\n",
    "                print(\"a= \"+str(a)+\", b= \"+str(b)+\", on append le \"+str(a))\n",
    "                A+=1\n",
    "                liste.append(a)\n",
    "            else: \n",
    "                print(\"a= \"+str(a)+\", b= \"+str(b)+\", on append le \"+str(b))\n",
    "                B+=1\n",
    "                liste.append(b)\n",
    "\n",
    "        else :\n",
    "            print(\"Tfinal[a]\")\n",
    "            print(Tfinal[a])\n",
    "            print(\"Tfinal[b]\")\n",
    "            print(Tfinal[b])\n",
    "            print(\"Tfinal[a]==Tfinal[b]\")\n",
    "            print(Tfinal[a]==Tfinal[b])\n",
    "            if b%3==1 : \n",
    "                print(str(b)+\" est congru à 1 modulo 3\")\n",
    "                longueur=len(liste)\n",
    "                print(\"l'objet liste est pour l'instant constitué de: \")\n",
    "                print(liste)\n",
    "                i=0\n",
    "                print(\"on compare les positions de \"+str(a+1)+\" et \"+str(b+1))\n",
    "                print(\"index12dict[\" +str(a+1)+\"]= \")\n",
    "                print(index12dict[a+1])\n",
    "                print(\"index12dict[\" +str(b+1)+\"]= \")\n",
    "                print(index12dict[b+1])\n",
    "                if index12dict[a+1]<index12dict[b+1]:\n",
    "                    liste.append(a)\n",
    "                    print(\"on append \"+ str(a))\n",
    "                    A+=1\n",
    "                else:\n",
    "                    liste.append(b)\n",
    "                    print(\"on append \"+ str(b))\n",
    "                    B+=1\n",
    "                    \n",
    "                    \n",
    "            elif b%3==2 :\n",
    "                print(str(b)+\"est congru à 2 modulo 3\")\n",
    "                if Tfinal[a+1]!=Tfinal[b+1] :\n",
    "                    print(\"Tfinal[a+1]\")\n",
    "                    print(Tfinal[a+1])\n",
    "                    print(\"Tfinal[b+1]\")\n",
    "                    print(Tfinal[b+1])\n",
    "                    print(\"Tfinal[a+1]!=Tfinal[b+1]\")\n",
    "                    print(Tfinal[a+1]!=Tfinal[b+1])\n",
    "                    minimum=min(Tfinal[a+1], Tfinal[b+1])\n",
    "                    if minimum == Tfinal[a+1]:\n",
    "                        A+=1\n",
    "                        print(\"on append \"+ str(a))\n",
    "                        liste.append(a)\n",
    "                    else: \n",
    "                        B+=1\n",
    "                        print(\"on append \"+ str(b))\n",
    "                        liste.append(b)\n",
    "\n",
    "                else:\n",
    "                    print(\"Tfinal[a+1]\")\n",
    "                    print(Tfinal[a+1])\n",
    "                    print(\"Tfinal[b+1]\")\n",
    "                    print(Tfinal[b+1])\n",
    "                    print(\"Tfinal[a+1]==Tfinal[b+1]\")\n",
    "                    print(Tfinal[a+1]==Tfinal[b+1])\n",
    "                    print(\"on compare a+2 et b+2\")\n",
    "                    if index12dict[a+2]<index12dict[b+2]:\n",
    "                        liste.append(a)\n",
    "                        A+=1\n",
    "                    else:\n",
    "                        liste.append(b)\n",
    "                        B+=1\n",
    "                        \n",
    "    print(\"plus dans la boucle while\")\n",
    "    print(\"A \"+str(A))\n",
    "    print(\"B \"+str(B))\n",
    "    if A==len(r0p0sorted):\n",
    "        print(\"on concatène les index12\")\n",
    "        for i in range(B,len(index12dictkeys)):\n",
    "            liste.append(index12dictkeys[i])\n",
    "                \n",
    "    if B==len(index12dictkeys):\n",
    "        print(\"on concatène les index0\")\n",
    "        for i in range(A, len(r0p0sorted)):\n",
    "            liste.append(r0p0sorted[i][1])\n",
    "\n",
    "    return liste"
   ]
  },
  {
   "cell_type": "code",
   "execution_count": 21,
   "id": "5357493c",
   "metadata": {},
   "outputs": [],
   "source": [
    "def removesentinel(index):\n",
    "    \"\"\"\n",
    "    Return our suffix array without the position of the three sentinels numbers\n",
    "    \n",
    "    Args : \n",
    "        index (list of int) : list of indexes \n",
    "        \n",
    "    Return :\n",
    "        index[1:](list of int) : list of indexes without the sentinels\n",
    "    \n",
    "    \"\"\"\n",
    "    return index[1:]"
   ]
  },
  {
   "cell_type": "markdown",
   "id": "a91ae8b6",
   "metadata": {},
   "source": [
    "##### Complexité\n",
    "removesentinel a une complexité temporelle de $0(1)$."
   ]
  },
  {
   "cell_type": "code",
   "execution_count": 22,
   "id": "cf1426fb",
   "metadata": {},
   "outputs": [],
   "source": [
    "def resumeHigherOrder_with_p12(index012prime, P12):\n",
    "    \"\"\"\n",
    "    Returns a dictionnary with positions not multiple of 3 \"P12\" as key, and their order with \n",
    "    the positions of the suffix array \"index012prime\" as elements.\n",
    "    \n",
    "    Args : \n",
    "        index012prime (list of int) : suffix array of the positions not multiple of 3\n",
    "        \n",
    "        P12 (list of int) : positions not multiple of 3\n",
    "    \n",
    "    Return : \n",
    "        output (dictionnary) : positions not multiple of 3 \"P12\" as key, and their order with the positions of the suffix array \"index012prime\" as elements.\n",
    "    \"\"\"\n",
    "    output={}\n",
    "    for i in range(len(index012prime)):\n",
    "        output[P12[index012prime[i]]]=i\n",
    "        \n",
    "    return output"
   ]
  },
  {
   "cell_type": "markdown",
   "id": "337a7274",
   "metadata": {},
   "source": [
    "#### Dernière étape de DC3: assemblage final de la récursion."
   ]
  },
  {
   "cell_type": "code",
   "execution_count": 23,
   "id": "c6a79b12",
   "metadata": {},
   "outputs": [],
   "source": [
    "def almost_dc3_with_p12(T):\n",
    "    \"\"\"\n",
    "    Return the suffix array of the sequence T\n",
    "    \n",
    "    Args : \n",
    "        T (list of int) : list of int corresponding to the ascii code of the initial sequence\n",
    "        \n",
    "    Return : \n",
    "        index012 (list of int) : positions in order to construct the suffix array of T\n",
    "    \"\"\"\n",
    "    \n",
    "    columnNumber=2\n",
    "    p12=position1_2(T)\n",
    "    r12=radix_with_p12(p12,T)\n",
    "    alphabet_T=alphabetT(T)\n",
    "    r12sorted=sort_with_p12(r12, alphabet_T, columnNumber)    \n",
    "    order12,repetition, index12dict=ordre_with_p12(r12sorted, True)\n",
    "    if repetition:\n",
    "        Tprim=Tprime_with_p12(p12, index12dict)+[0,0,0]\n",
    "        index012=almost_dc3_with_p12(Tprim)\n",
    "        index12dict=resumeHigherOrder_with_p12(index012, p12)\n",
    "    p0,r0p0=position0_R0_p0(T, index12dict)\n",
    "    alphabet_r0=alphabetR0_with_p12(r0p0)\n",
    "    r0sorted=sort_with_p12(r0p0,alphabet_r0 ,columnNumber-1)\n",
    "    index012=removesentinel(merge_with_p12(T, r0sorted, index12dict))\n",
    "    \n",
    "    return index012\n",
    "   \n",
    "    \n",
    "    "
   ]
  },
  {
   "cell_type": "markdown",
   "id": "9ea631e6",
   "metadata": {},
   "source": [
    "##### Complexité\n",
    "almost_dc3_with_p12 est une fonction récursive dont chaque sous fonction a une complexité au pire linéaire.\n",
    "Elle est donc de complexité $0(n)$"
   ]
  },
  {
   "cell_type": "markdown",
   "id": "1a1b29c2",
   "metadata": {},
   "source": [
    "##### Testons le code avec l'exemple du cours"
   ]
  },
  {
   "cell_type": "code",
   "execution_count": 24,
   "id": "56a19fcd",
   "metadata": {},
   "outputs": [
    {
     "name": "stdout",
     "output_type": "stream",
     "text": [
      "[8, 0, 3, 6, 9, 1, 4, 7, 2, 5]\n",
      "La fonction pour trouver le suffix array de S a pris 0.00012254714965820312 secondes.\n"
     ]
    }
   ],
   "source": [
    "S=\"abcabcacab\"\n",
    "start=time.time()\n",
    "T=almost_dc3_with_p12(asciiDC3(S))\n",
    "end=time.time()\n",
    "columnnumber=2\n",
    "print(T)\n",
    "print(\"La fonction pour trouver le suffix array de S a pris \"+str(end-start)+\" secondes.\")"
   ]
  },
  {
   "cell_type": "markdown",
   "id": "4eaf1a2c",
   "metadata": {},
   "source": [
    "##### Testons le code avec le génome"
   ]
  },
  {
   "cell_type": "markdown",
   "id": "d589cce0",
   "metadata": {},
   "source": [
    "Suffix table du premier chromosome"
   ]
  },
  {
   "cell_type": "code",
   "execution_count": 30,
   "id": "e2b39d26",
   "metadata": {},
   "outputs": [
    {
     "name": "stdout",
     "output_type": "stream",
     "text": [
      "Pour le premier chromosome, il nous faut 13.202951192855835 secondes pour calculer sa suffix table.\n",
      "Le premier chromosome a une taille de 640851\n"
     ]
    }
   ],
   "source": [
    "start=time.time()\n",
    "suffix_array=almost_dc3_with_p12(asciiDC3(genome[0].seq.upper()))\n",
    "end=time.time()\n",
    "print(\"Pour le premier chromosome, il nous faut \"+str(end-start)+\" secondes pour calculer sa suffix table.\")\n",
    "print(\"Le premier chromosome a une taille de \"+str(len(genome[0].seq.upper())))"
   ]
  },
  {
   "cell_type": "markdown",
   "id": "bb10b263",
   "metadata": {},
   "source": [
    "Mesurons le temps que prend chaque sous fonction de notre algorithme DC3 grâce à la bibliothèque cProfile."
   ]
  },
  {
   "cell_type": "code",
   "execution_count": 26,
   "id": "a9e9e985",
   "metadata": {},
   "outputs": [],
   "source": [
    "import pstats\n",
    "import cProfile"
   ]
  },
  {
   "cell_type": "code",
   "execution_count": 27,
   "id": "a111f300",
   "metadata": {},
   "outputs": [
    {
     "name": "stdout",
     "output_type": "stream",
     "text": [
      "Sun Nov  5 21:49:03 2023    dc3_stats\n",
      "\n",
      "         21257125 function calls (21257119 primitive calls) in 19.246 seconds\n",
      "\n",
      "   Ordered by: cumulative time\n",
      "\n",
      "   ncalls  tottime  percall  cumtime  percall filename:lineno(function)\n",
      "        1    0.000    0.000   19.246   19.246 {built-in method builtins.exec}\n",
      "        1    0.278    0.278   19.246   19.246 <string>:1(<module>)\n",
      "      7/1    0.706    0.101   18.782   18.782 /tmp/ipykernel_33267/121810846.py:1(almost_dc3_with_p12)\n",
      "       14    0.096    0.007    5.111    0.365 /tmp/ipykernel_33267/3333640837.py:1(sort_with_p12)\n",
      "       35    5.016    0.143    5.016    0.143 /tmp/ipykernel_33267/3333640837.py:29(countingSortByDigit_with_p12)\n",
      "        7    2.889    0.413    2.977    0.425 /tmp/ipykernel_33267/1965797599.py:1(position0_R0_p0)\n",
      "        7    2.807    0.401    2.866    0.409 /tmp/ipykernel_33267/762813728.py:1(radix_with_p12)\n",
      "        7    2.355    0.336    2.763    0.395 /tmp/ipykernel_33267/2015036887.py:1(merge_with_p12)\n",
      "        7    1.032    0.147    1.777    0.254 /tmp/ipykernel_33267/2299036144.py:20(ordre_with_p12)\n",
      "        7    0.451    0.064    0.736    0.105 /tmp/ipykernel_33267/3267455493.py:1(alphabetR0_with_p12)\n",
      "        7    0.414    0.059    0.716    0.102 /tmp/ipykernel_33267/3536684344.py:1(alphabetT)\n",
      "  1206689    0.622    0.000    0.683    0.000 /tmp/ipykernel_33267/2299036144.py:1(triplets_are_equal)\n",
      " 11463619    0.548    0.000    0.548    0.000 {method 'append' of 'list' objects}\n",
      "  7301050    0.406    0.000    0.406    0.000 {built-in method builtins.len}\n",
      "        7    0.347    0.050    0.403    0.058 /tmp/ipykernel_33267/3476465919.py:1(position1_2)\n",
      "        6    0.387    0.064    0.387    0.064 /tmp/ipykernel_33267/4010999124.py:1(resumeHigherOrder_with_p12)\n",
      "       14    0.365    0.026    0.365    0.026 {method 'sort' of 'list' objects}\n",
      "        6    0.263    0.044    0.318    0.053 /tmp/ipykernel_33267/3130043242.py:1(Tprime_with_p12)\n",
      "        1    0.126    0.126    0.185    0.185 /tmp/ipykernel_33267/4151255859.py:1(asciiDC3)\n",
      "   644760    0.089    0.000    0.089    0.000 {built-in method builtins.min}\n",
      "   640851    0.030    0.000    0.030    0.000 {built-in method builtins.ord}\n",
      "        7    0.021    0.003    0.021    0.003 /tmp/ipykernel_33267/3940777719.py:1(removesentinel)\n",
      "        1    0.000    0.000    0.000    0.000 /home/mvernier/.local/lib/python3.10/site-packages/Bio/Seq.py:1233(upper)\n",
      "        1    0.000    0.000    0.000    0.000 {method 'upper' of 'bytes' objects}\n",
      "        1    0.000    0.000    0.000    0.000 /home/mvernier/.local/lib/python3.10/site-packages/Bio/Seq.py:466(__iter__)\n",
      "        1    0.000    0.000    0.000    0.000 {method 'decode' of 'bytes' objects}\n",
      "        7    0.000    0.000    0.000    0.000 {method 'keys' of 'dict' objects}\n",
      "        1    0.000    0.000    0.000    0.000 /home/mvernier/.local/lib/python3.10/site-packages/Bio/Seq.py:1961(__init__)\n",
      "        1    0.000    0.000    0.000    0.000 /home/mvernier/.local/lib/python3.10/site-packages/Bio/SeqRecord.py:334(<lambda>)\n",
      "        1    0.000    0.000    0.000    0.000 {method 'disable' of '_lsprof.Profiler' objects}\n",
      "        1    0.000    0.000    0.000    0.000 {built-in method builtins.isinstance}\n",
      "\n",
      "\n"
     ]
    },
    {
     "data": {
      "text/plain": [
       "<pstats.Stats at 0x7f20534ddc90>"
      ]
     },
     "execution_count": 27,
     "metadata": {},
     "output_type": "execute_result"
    }
   ],
   "source": [
    "cProfile.run(\"almost_dc3_with_p12(asciiDC3(genome[0].seq.upper()))\", \"dc3_stats\")\n",
    "p = pstats.Stats(\"dc3_stats\")\n",
    "p.sort_stats(\"cumulative\").print_stats()"
   ]
  },
  {
   "cell_type": "markdown",
   "id": "24a18c05",
   "metadata": {},
   "source": [
    "### Idées d'optimisation  \n",
    "-réussir à ne plus faire appel aux fonctions \"alphabet\"  "
   ]
  },
  {
   "cell_type": "markdown",
   "id": "fbc43e49",
   "metadata": {},
   "source": [
    "### BWT à l'aide de notre suffix table"
   ]
  },
  {
   "cell_type": "code",
   "execution_count": 28,
   "id": "ee199ee7",
   "metadata": {},
   "outputs": [],
   "source": [
    "def BWT_suffix_table(T,end_of_string=False):\n",
    "    \"\"\"\n",
    "    Compute the BWT from the suffix table\n",
    "    \n",
    "    Args:\n",
    "        T (str): string\n",
    "        end_of_string (char): end of string character to append\n",
    "    \n",
    "    Return:\n",
    "        bwt (str): BWT\n",
    "    \"\"\"\n",
    "    if end_of_string==False:\n",
    "        T += '!'\n",
    "    suffix_array=almost_dc3_with_p12(asciiDC3(T)) \n",
    "    bwt = \"\"\n",
    "    for i in suffix_array:\n",
    "        bwt += T[i-1]\n",
    "    return(bwt)\n",
    "\n",
    "def BWT(T, suffix_table,end_of_string=False):\n",
    "    \"\"\"\n",
    "    Compute the BWT from the suffix table\n",
    "    \n",
    "    Args:\n",
    "        T (str): string\n",
    "        end_of_string (char): end of string character to append\n",
    "    \n",
    "    Return:\n",
    "        bwt (str): BWT\n",
    "    \"\"\"\n",
    "    if end_of_string==False:\n",
    "        T += '!'\n",
    "    bwt = \"\"\n",
    "    for i in suffix_table:\n",
    "        bwt += T[i-1]\n",
    "    return(bwt)"
   ]
  },
  {
   "cell_type": "code",
   "execution_count": 31,
   "id": "4d2c3f75",
   "metadata": {},
   "outputs": [],
   "source": [
    "def run_length_encoding(S):\n",
    "    \"\"\"\n",
    "    Encode sequence using the Run Length method\n",
    "    \n",
    "    Args:\n",
    "        text (str): string to be shifted\n",
    "    \n",
    "    Return:\n",
    "        str: run length\n",
    "    \"\"\"\n",
    "    encoded_S= \"\"\n",
    "    i=0\n",
    "    number=1\n",
    "    while i<len(S):\n",
    "        encoded_S+=S[i]\n",
    "        i+=1\n",
    "        while i<len(S) and S[i-1]==S[i]:\n",
    "            number+=1\n",
    "            i+=1\n",
    "        if number>1:\n",
    "            encoded_S+=str(number)\n",
    "        number=1\n",
    "    return encoded_S"
   ]
  },
  {
   "cell_type": "code",
   "execution_count": 32,
   "id": "2d06b591",
   "metadata": {},
   "outputs": [],
   "source": [
    "def print_suffix_table(sequence, sf, visualize_bwt=False):\n",
    "    for i in range(len(sf)):\n",
    "        if visualize_bwt:\n",
    "            print(sequence[sf[i]-1:])\n",
    "        else:\n",
    "            print(sequence[sf[i]:])\n",
    "    return"
   ]
  },
  {
   "cell_type": "markdown",
   "id": "99481c90",
   "metadata": {},
   "source": [
    "#### Testons notre fonction"
   ]
  },
  {
   "cell_type": "code",
   "execution_count": 33,
   "id": "50ee964b",
   "metadata": {
    "scrolled": true
   },
   "outputs": [
    {
     "name": "stdout",
     "output_type": "stream",
     "text": [
      "[25, 24, 5, 15, 0, 10, 11, 3, 17, 19, 21, 12, 7, 23, 14, 9, 2, 6, 4, 16, 18, 20, 22, 13, 8, 1]\n"
     ]
    }
   ],
   "source": [
    "test_2='ATGCTAGCTGCCCTGATCTCTCTGA!'\n",
    "suffix_array_2_with_p12=almost_dc3_with_p12(asciiDC3(test_2)) \n",
    "print(suffix_array_2_with_p12)\n"
   ]
  },
  {
   "cell_type": "code",
   "execution_count": 34,
   "id": "dffe1a95",
   "metadata": {},
   "outputs": [
    {
     "name": "stdout",
     "output_type": "stream",
     "text": [
      "!\n",
      "A!\n",
      "AGCTGCCCTGATCTCTCTGA!\n",
      "ATCTCTCTGA!\n",
      "ATGCTAGCTGCCCTGATCTCTCTGA!\n",
      "CCCTGATCTCTCTGA!\n",
      "CCTGATCTCTCTGA!\n",
      "CTAGCTGCCCTGATCTCTCTGA!\n",
      "CTCTCTGA!\n",
      "CTCTGA!\n",
      "CTGA!\n",
      "CTGATCTCTCTGA!\n",
      "CTGCCCTGATCTCTCTGA!\n",
      "GA!\n",
      "GATCTCTCTGA!\n",
      "GCCCTGATCTCTCTGA!\n",
      "GCTAGCTGCCCTGATCTCTCTGA!\n",
      "GCTGCCCTGATCTCTCTGA!\n",
      "TAGCTGCCCTGATCTCTCTGA!\n",
      "TCTCTCTGA!\n",
      "TCTCTGA!\n",
      "TCTGA!\n",
      "TGA!\n",
      "TGATCTCTCTGA!\n",
      "TGCCCTGATCTCTCTGA!\n",
      "TGCTAGCTGCCCTGATCTCTCTGA!\n"
     ]
    }
   ],
   "source": [
    "print_suffix_table(test_2,suffix_array_2_with_p12)"
   ]
  },
  {
   "cell_type": "code",
   "execution_count": 35,
   "id": "04eb18f8",
   "metadata": {},
   "outputs": [
    {
     "name": "stdout",
     "output_type": "stream",
     "text": [
      "AGTG!GCGTTTCGTTTTACACCCCCA\n",
      "AGTG!GCGTTTCGTTTTACACCCCCA\n"
     ]
    }
   ],
   "source": [
    "print(BWT_suffix_table(test_2, True))\n",
    "print(BWT(test_2,suffix_array_2_with_p12, True))"
   ]
  },
  {
   "cell_type": "code",
   "execution_count": 36,
   "id": "2d180ff4",
   "metadata": {},
   "outputs": [
    {
     "name": "stdout",
     "output_type": "stream",
     "text": [
      "AGTG!GCGT3CGT4ACAC5A\n"
     ]
    }
   ],
   "source": [
    "print(run_length_encoding(BWT_suffix_table(test_2, True)))"
   ]
  },
  {
   "cell_type": "markdown",
   "id": "d951740a",
   "metadata": {},
   "source": [
    "BWT sur notre génome"
   ]
  },
  {
   "cell_type": "code",
   "execution_count": 37,
   "id": "e856d22b",
   "metadata": {},
   "outputs": [
    {
     "name": "stdout",
     "output_type": "stream",
     "text": [
      "ACT2AT2A5TA4CA10GA8TACA5CATACA2TA2TAGA8CA2CA6G2CA3GA11CA2TA12TA3TA4TA4TA5CA13CA2TA3CA3TA7CA3TA6TGTA2\n"
     ]
    }
   ],
   "source": [
    "bwt_T=BWT_suffix_table(genome[1].seq.upper())\n",
    "print(run_length_encoding(bwt_T)[:100])"
   ]
  },
  {
   "cell_type": "markdown",
   "id": "6bb32ed0",
   "metadata": {},
   "source": [
    "Mesurons le temps que l'opération prend"
   ]
  },
  {
   "cell_type": "code",
   "execution_count": 38,
   "id": "a352f194",
   "metadata": {},
   "outputs": [
    {
     "name": "stdout",
     "output_type": "stream",
     "text": [
      "Sun Nov  5 21:51:30 2023    bwt_stats\n",
      "\n",
      "         38466892 function calls (38466887 primitive calls) in 28.963 seconds\n",
      "\n",
      "   Ordered by: cumulative time\n",
      "\n",
      "   ncalls  tottime  percall  cumtime  percall filename:lineno(function)\n",
      "        1    0.000    0.000   28.963   28.963 {built-in method builtins.exec}\n",
      "        1    0.032    0.032   28.963   28.963 <string>:1(<module>)\n",
      "        1    0.749    0.749   28.473   28.473 /tmp/ipykernel_33267/3234469646.py:1(BWT_suffix_table)\n",
      "      6/1    1.120    0.187   26.116   26.116 /tmp/ipykernel_33267/121810846.py:1(almost_dc3_with_p12)\n",
      "       12    0.148    0.012    7.757    0.646 /tmp/ipykernel_33267/3333640837.py:1(sort_with_p12)\n",
      "       30    7.609    0.254    7.609    0.254 /tmp/ipykernel_33267/3333640837.py:29(countingSortByDigit_with_p12)\n",
      "        6    5.268    0.878    5.365    0.894 /tmp/ipykernel_33267/762813728.py:1(radix_with_p12)\n",
      "        6    3.542    0.590    4.143    0.691 /tmp/ipykernel_33267/2015036887.py:1(merge_with_p12)\n",
      "        6    1.548    0.258    2.644    0.441 /tmp/ipykernel_33267/2299036144.py:20(ordre_with_p12)\n",
      "   947103    0.345    0.000    1.313    0.000 /home/mvernier/.local/lib/python3.10/site-packages/Bio/Seq.py:470(__getitem__)\n",
      "        6    1.111    0.185    1.248    0.208 /tmp/ipykernel_33267/1965797599.py:1(position0_R0_p0)\n",
      "        6    0.665    0.111    1.110    0.185 /tmp/ipykernel_33267/3267455493.py:1(alphabetR0_with_p12)\n",
      "        6    0.576    0.096    1.028    0.171 /tmp/ipykernel_33267/3536684344.py:1(alphabetT)\n",
      "  1727914    0.905    0.000    0.992    0.000 /tmp/ipykernel_33267/2299036144.py:1(triplets_are_equal)\n",
      "   947107    0.220    0.000    0.910    0.000 {built-in method builtins.isinstance}\n",
      " 16415240    0.902    0.000    0.902    0.000 {method 'append' of 'list' objects}\n",
      "   947104    0.148    0.000    0.690    0.000 /usr/lib/python3.10/abc.py:117(__instancecheck__)\n",
      " 11891008    0.656    0.000    0.656    0.000 {built-in method builtins.len}\n",
      "        5    0.593    0.119    0.593    0.119 /tmp/ipykernel_33267/4010999124.py:1(resumeHigherOrder_with_p12)\n",
      "        6    0.499    0.083    0.587    0.098 /tmp/ipykernel_33267/3476465919.py:1(position1_2)\n",
      "       12    0.546    0.045    0.546    0.045 {method 'sort' of 'list' objects}\n",
      "   947104    0.228    0.000    0.542    0.000 {built-in method _abc._abc_instancecheck}\n",
      "        5    0.396    0.079    0.487    0.097 /tmp/ipykernel_33267/3130043242.py:1(Tprime_with_p12)\n",
      "        1    0.384    0.384    0.457    0.457 /tmp/ipykernel_33267/1118574164.py:1(run_length_encoding)\n",
      "   947103    0.144    0.000    0.314    0.000 /usr/lib/python3.10/abc.py:121(__subclasscheck__)\n",
      "        1    0.194    0.194    0.294    0.294 /tmp/ipykernel_33267/4151255859.py:1(asciiDC3)\n",
      "   947103    0.170    0.000    0.170    0.000 {built-in method _abc._abc_subclasscheck}\n",
      "   855761    0.122    0.000    0.122    0.000 {built-in method builtins.min}\n",
      "   947103    0.058    0.000    0.058    0.000 {built-in method builtins.chr}\n",
      "   947103    0.049    0.000    0.049    0.000 {built-in method builtins.ord}\n",
      "        6    0.037    0.006    0.037    0.006 /tmp/ipykernel_33267/3940777719.py:1(removesentinel)\n",
      "        1    0.000    0.000    0.001    0.001 /home/mvernier/.local/lib/python3.10/site-packages/Bio/Seq.py:1233(upper)\n",
      "        1    0.001    0.001    0.001    0.001 {method 'upper' of 'bytes' objects}\n",
      "        1    0.000    0.000    0.000    0.000 /home/mvernier/.local/lib/python3.10/site-packages/Bio/Seq.py:495(__add__)\n",
      "        1    0.000    0.000    0.000    0.000 /home/mvernier/.local/lib/python3.10/site-packages/Bio/Seq.py:466(__iter__)\n",
      "        1    0.000    0.000    0.000    0.000 {method 'decode' of 'bytes' objects}\n",
      "        2    0.000    0.000    0.000    0.000 /home/mvernier/.local/lib/python3.10/site-packages/Bio/Seq.py:1961(__init__)\n",
      "        6    0.000    0.000    0.000    0.000 {method 'keys' of 'dict' objects}\n",
      "        1    0.000    0.000    0.000    0.000 {method 'disable' of '_lsprof.Profiler' objects}\n",
      "        1    0.000    0.000    0.000    0.000 {method 'encode' of 'str' objects}\n",
      "        1    0.000    0.000    0.000    0.000 /home/mvernier/.local/lib/python3.10/site-packages/Bio/SeqRecord.py:334(<lambda>)\n",
      "\n",
      "\n"
     ]
    },
    {
     "data": {
      "text/plain": [
       "<pstats.Stats at 0x7f1fff914df0>"
      ]
     },
     "execution_count": 38,
     "metadata": {},
     "output_type": "execute_result"
    }
   ],
   "source": [
    "cProfile.run(\"run_length_encoding(BWT_suffix_table(genome[1].seq.upper()))\", \"bwt_stats\")\n",
    "p = pstats.Stats(\"bwt_stats\")\n",
    "p.sort_stats(\"cumulative\").print_stats()"
   ]
  },
  {
   "cell_type": "markdown",
   "id": "f7e607d3",
   "metadata": {},
   "source": [
    "## String search with BWT"
   ]
  },
  {
   "cell_type": "markdown",
   "id": "e0cd292c",
   "metadata": {},
   "source": [
    "version du prof => ca faudra pas oublier de l'enlever ;)"
   ]
  },
  {
   "cell_type": "code",
   "execution_count": 39,
   "id": "f232b782",
   "metadata": {},
   "outputs": [],
   "source": [
    "from collections import Counter"
   ]
  },
  {
   "cell_type": "code",
   "execution_count": 40,
   "id": "d39b98d2",
   "metadata": {},
   "outputs": [],
   "source": [
    "def occurrence_indexer(S):\n",
    "    K = []\n",
    "    last_index = {}\n",
    "    for s in S:\n",
    "        if s not in last_index: \n",
    "            last_index[s] = 0\n",
    "        K.append(last_index[s])\n",
    "        last_index[s] += 1\n",
    "    return(K)\n",
    "\n",
    "def lettre_et_occurence(BWT,pattern_letter, position_in_BWT, occurence_index):\n",
    "    output=[]\n",
    "    for i in range(len(position_in_BWT)):\n",
    "        if BWT[position_in_BWT[i]]==pattern_letter:\n",
    "            output.append([BWT[position_in_BWT[i]],occurence_index[position_in_BWT[i]]])\n",
    "    return output\n",
    "\n",
    "def new_suffix_table_positions(BWT,letter_and_occurence, counts):\n",
    "    # Counter({'T': 3, 'A': 2, 'B': 2, 'C': 2, '!': 1})\n",
    "    output=[]\n",
    "    for i in range(len(letter_and_occurence)):\n",
    "        letter=letter_and_occurence[i][0]\n",
    "        occurence=letter_and_occurence[i][1]\n",
    "        new_position_to_evaluate=occurence + sum([counts[char] for char in counts if char < letter])\n",
    "        output.append(new_position_to_evaluate)\n",
    "    return output\n",
    "\n",
    "def initialize_suffix_table_positions(counts, pattern_letter):\n",
    "    start=sum([counts[char] for char in counts if char < pattern_letter])\n",
    "    end=start+counts[pattern_letter]\n",
    "    return [i for i in range(start, end)]\n",
    "    \n",
    "def find_patterns_in_sequence_with_dc3(sequence, pattern, sequence_has_end_character=False):\n",
    "    output=[]\n",
    "    \n",
    "    if sequence_has_end_character==False:\n",
    "        sequence += '!'\n",
    "        \n",
    "    sf=almost_dc3_with_p12(asciiDC3(sequence)) \n",
    "    BWT = \"\"\n",
    "    for i in sf:\n",
    "        BWT += sequence[i-1]\n",
    "    \n",
    "    \n",
    "    \n",
    "    #print(\"BWT\")\n",
    "    #print(BWT)\n",
    "    #print(\"\\n\")\n",
    "    occurence_index = occurrence_indexer(BWT)\n",
    "    #print('occurence_index')\n",
    "    #print(occurence_index)\n",
    "    #print(\"\\n\")\n",
    "    counts = Counter(BWT)\n",
    "    #print(\"counts\")\n",
    "    #print(counts)\n",
    "    #print(\"\\n\")\n",
    "    index=len(pattern)-1\n",
    "    pattern_letter=pattern[index]\n",
    "    \n",
    "    suffix_table_positions=initialize_suffix_table_positions(counts, pattern_letter)\n",
    "    #print(\"suffix_table_positions\")\n",
    "    #print(suffix_table_positions)\n",
    "    #print(\"\\n\")\n",
    "    while index>0 and len(suffix_table_positions)>0:\n",
    "        \n",
    "        index-=1\n",
    "        #print(\"index\")\n",
    "        #print(index)\n",
    "        #print(\"\\n\")\n",
    "        pattern_letter=pattern[index]\n",
    "        #print(\"pattern_letter\")\n",
    "        #print(pattern_letter)\n",
    "        #print(\"\\n\")\n",
    "        \n",
    "        A=lettre_et_occurence(BWT,pattern_letter,suffix_table_positions, occurence_index)\n",
    "        #print(\"A\")\n",
    "        #print(A)\n",
    "        #print(\"\\n\")\n",
    "        \n",
    "        suffix_table_positions=new_suffix_table_positions(BWT, A, counts)\n",
    "        #print(\"suffix_table_positions\")\n",
    "        #print(suffix_table_positions)\n",
    "        #print(\"\\n\")\n",
    "        \n",
    "        \n",
    "    for i in range(len(suffix_table_positions)):\n",
    "        output.append(sf[suffix_table_positions[i]])\n",
    "        \n",
    "\n",
    "    return output\n",
    "\n",
    "def find_patterns_in_sequence(sf, BWT, pattern):\n",
    "    output=[]\n",
    "\n",
    "    \n",
    "    \n",
    "    \n",
    "    #print(\"BWT\")\n",
    "    #print(BWT)\n",
    "    #print(\"\\n\")\n",
    "    occurence_index = occurrence_indexer(BWT)\n",
    "    #print('occurence_index')\n",
    "    #print(occurence_index)\n",
    "    #print(\"\\n\")\n",
    "    counts = Counter(BWT)\n",
    "    #print(\"counts\")\n",
    "    #print(counts)\n",
    "    #print(\"\\n\")\n",
    "    index=len(pattern)-1\n",
    "    pattern_letter=pattern[index]\n",
    "    \n",
    "    suffix_table_positions=initialize_suffix_table_positions(counts, pattern_letter)\n",
    "    #print(\"suffix_table_positions\")\n",
    "    #print(suffix_table_positions)\n",
    "    #print(\"\\n\")\n",
    "    while index>0 and len(suffix_table_positions)>0:\n",
    "        \n",
    "        index-=1\n",
    "        #print(\"index\")\n",
    "        #print(index)\n",
    "        #print(\"\\n\")\n",
    "        pattern_letter=pattern[index]\n",
    "        #print(\"pattern_letter\")\n",
    "        #print(pattern_letter)\n",
    "        #print(\"\\n\")\n",
    "        \n",
    "        A=lettre_et_occurence(BWT,pattern_letter,suffix_table_positions, occurence_index)\n",
    "        #print(\"A\")\n",
    "        #print(A)\n",
    "        #print(\"\\n\")\n",
    "        \n",
    "        suffix_table_positions=new_suffix_table_positions(BWT, A, counts)\n",
    "        #print(\"suffix_table_positions\")\n",
    "        #print(suffix_table_positions)\n",
    "        #print(\"\\n\")\n",
    "        \n",
    "        \n",
    "    for i in range(len(suffix_table_positions)):\n",
    "        output.append(sf[suffix_table_positions[i]])\n",
    "        \n",
    "\n",
    "    return output\n",
    "        \n",
    "        \n",
    "    "
   ]
  },
  {
   "cell_type": "code",
   "execution_count": 41,
   "id": "57413ed9",
   "metadata": {},
   "outputs": [],
   "source": [
    "def new_suffix_table_positions_faster(BWT,pattern_letter, position_in_BWT, occurence_index, counts):\n",
    "    # Counter({'T': 3, 'A': 2, 'B': 2, 'C': 2, '!': 1})\n",
    "    output=[]\n",
    "    letter_and_occurence=[]\n",
    "    for i in range(len(position_in_BWT)):\n",
    "        if BWT[position_in_BWT[i]]==pattern_letter:\n",
    "            letter_and_occurence=[BWT[position_in_BWT[i]],occurence_index[position_in_BWT[i]]]\n",
    "            letter=letter_and_occurence[0]\n",
    "            occurence=letter_and_occurence[1]\n",
    "            new_position_to_evaluate=occurence + sum([counts[char] for char in counts if char < letter])\n",
    "            output.append(new_position_to_evaluate)\n",
    "    return output\n",
    "\n",
    "def find_patterns_in_sequence_faster(sf, BWT, pattern):\n",
    "    output=[]\n",
    "    occurence_index = occurrence_indexer(BWT)\n",
    "    counts = Counter(BWT)\n",
    "    index=len(pattern)-1\n",
    "    pattern_letter=pattern[index]\n",
    "    \n",
    "    suffix_table_positions=initialize_suffix_table_positions(counts, pattern_letter)\n",
    "    while index>0 and len(suffix_table_positions)>0:\n",
    "        index-=1\n",
    "        pattern_letter=pattern[index]\n",
    "        suffix_table_positions=new_suffix_table_positions_faster(BWT,pattern_letter,suffix_table_positions,occurence_index,counts) \n",
    "        \n",
    "    for i in range(len(suffix_table_positions)):\n",
    "        output.append(sf[suffix_table_positions[i]])\n",
    "        \n",
    "    return output"
   ]
  },
  {
   "cell_type": "markdown",
   "id": "0ca1529c",
   "metadata": {},
   "source": [
    "#### Testons notre fonction"
   ]
  },
  {
   "cell_type": "code",
   "execution_count": 42,
   "id": "efbbfe6e",
   "metadata": {},
   "outputs": [
    {
     "name": "stdout",
     "output_type": "stream",
     "text": [
      "[26, 21, 0, 22, 1, 23, 2, 24, 3, 25, 4, 5, 6, 7, 8, 9, 10, 11, 12, 13, 14, 20, 19, 18, 17, 16, 15]\n"
     ]
    }
   ],
   "source": [
    "test_mltpl='ABCDEFGHIJKLMNOPPPPPPABCDE!'\n",
    "sf=almost_dc3_with_p12(asciiDC3(test_mltpl))\n",
    "print(sf)"
   ]
  },
  {
   "cell_type": "code",
   "execution_count": 43,
   "id": "433cc1bf",
   "metadata": {},
   "outputs": [
    {
     "name": "stdout",
     "output_type": "stream",
     "text": [
      "[6]\n",
      "GHIJKL\n"
     ]
    }
   ],
   "source": [
    "positions_of_pattern=find_patterns_in_sequence_with_dc3(test_mltpl, 'GHIJK', sequence_has_end_character=True)\n",
    "print(positions_of_pattern)\n",
    "for p in positions_of_pattern:\n",
    "    print(test_mltpl[p:p+6])\n"
   ]
  },
  {
   "cell_type": "code",
   "execution_count": null,
   "id": "a1890a54",
   "metadata": {},
   "outputs": [],
   "source": [
    "#print_suffix_table(test_mltpl, sf, visualize_bwt=True)"
   ]
  },
  {
   "cell_type": "markdown",
   "id": "dd9f273c",
   "metadata": {},
   "source": [
    "### Testons avec notre génome"
   ]
  },
  {
   "cell_type": "code",
   "execution_count": 44,
   "id": "d5f1e782",
   "metadata": {},
   "outputs": [],
   "source": [
    "sf=almost_dc3_with_p12(asciiDC3(genome[0].seq.upper()))\n",
    "bwt=BWT(genome[0].seq.upper(), sf, False)"
   ]
  },
  {
   "cell_type": "code",
   "execution_count": 45,
   "id": "872d1a0c",
   "metadata": {},
   "outputs": [
    {
     "data": {
      "text/plain": [
       "Seq('TGAACCCTAA')"
      ]
     },
     "execution_count": 45,
     "metadata": {},
     "output_type": "execute_result"
    }
   ],
   "source": [
    "pattern=genome[0].seq.upper()[:10]\n",
    "pattern"
   ]
  },
  {
   "cell_type": "code",
   "execution_count": 46,
   "id": "663082ec",
   "metadata": {},
   "outputs": [
    {
     "name": "stdout",
     "output_type": "stream",
     "text": [
      "[0, 35, 49, 70, 91, 119, 140, 174, 195, 209, 230, 244]\n"
     ]
    }
   ],
   "source": [
    "positions_of_pattern=find_patterns_in_sequence_faster(sf, bwt, pattern)\n",
    "print(sorted(positions_of_pattern))\n",
    "#for p in positions_of_pattern:\n",
    "    #print(genome[1].seq.upper()[p:p+len(pattern)])"
   ]
  },
  {
   "cell_type": "code",
   "execution_count": 59,
   "id": "48c22a3e",
   "metadata": {},
   "outputs": [
    {
     "name": "stdout",
     "output_type": "stream",
     "text": [
      "Sun Nov  5 21:59:12 2023    pattern_matching_stats\n",
      "\n",
      "         38730539 function calls (38730533 primitive calls) in 29.822 seconds\n",
      "\n",
      "   Ordered by: cumulative time\n",
      "\n",
      "   ncalls  tottime  percall  cumtime  percall filename:lineno(function)\n",
      "        1    0.000    0.000   29.822   29.822 {built-in method builtins.exec}\n",
      "        1    0.045    0.045   29.822   29.822 <string>:1(<module>)\n",
      "        1    0.770    0.770   29.776   29.776 /tmp/ipykernel_33267/688712901.py:33(find_patterns_in_sequence_with_dc3)\n",
      "      6/1    1.145    0.191   26.653   26.653 /tmp/ipykernel_33267/121810846.py:1(almost_dc3_with_p12)\n",
      "       12    0.151    0.013    7.978    0.665 /tmp/ipykernel_33267/3333640837.py:1(sort_with_p12)\n",
      "       30    7.828    0.261    7.828    0.261 /tmp/ipykernel_33267/3333640837.py:29(countingSortByDigit_with_p12)\n",
      "        6    5.546    0.924    5.644    0.941 /tmp/ipykernel_33267/762813728.py:1(radix_with_p12)\n",
      "        6    3.530    0.588    4.113    0.685 /tmp/ipykernel_33267/2015036887.py:1(merge_with_p12)\n",
      "        6    1.574    0.262    2.673    0.446 /tmp/ipykernel_33267/2299036144.py:20(ordre_with_p12)\n",
      "   947113    0.348    0.000    1.344    0.000 /home/mvernier/.local/lib/python3.10/site-packages/Bio/Seq.py:470(__getitem__)\n",
      "        6    1.111    0.185    1.240    0.207 /tmp/ipykernel_33267/1965797599.py:1(position0_R0_p0)\n",
      "        6    0.659    0.110    1.078    0.180 /tmp/ipykernel_33267/3267455493.py:1(alphabetR0_with_p12)\n",
      "        6    0.590    0.098    1.047    0.175 /tmp/ipykernel_33267/3536684344.py:1(alphabetT)\n",
      "  1727914    0.903    0.000    0.993    0.000 /tmp/ipykernel_33267/2299036144.py:1(triplets_are_equal)\n",
      " 17765937    0.949    0.000    0.949    0.000 {method 'append' of 'list' objects}\n",
      "   947118    0.220    0.000    0.937    0.000 {built-in method builtins.isinstance}\n",
      "   947115    0.151    0.000    0.717    0.000 /usr/lib/python3.10/abc.py:117(__instancecheck__)\n",
      "        5    0.598    0.120    0.598    0.120 /tmp/ipykernel_33267/4010999124.py:1(resumeHigherOrder_with_p12)\n",
      "        6    0.496    0.083    0.583    0.097 /tmp/ipykernel_33267/3476465919.py:1(position1_2)\n",
      "10400305/10400304    0.575    0.000    0.575    0.000 {built-in method builtins.len}\n",
      "   947115    0.238    0.000    0.566    0.000 {built-in method _abc._abc_instancecheck}\n",
      "       12    0.540    0.045    0.540    0.045 {method 'sort' of 'list' objects}\n",
      "        5    0.421    0.084    0.516    0.103 /tmp/ipykernel_33267/3130043242.py:1(Tprime_with_p12)\n",
      "   947113    0.144    0.000    0.328    0.000 /usr/lib/python3.10/abc.py:121(__subclasscheck__)\n",
      "        1    0.200    0.200    0.297    0.297 /tmp/ipykernel_33267/4151255859.py:1(asciiDC3)\n",
      "        1    0.209    0.209    0.257    0.257 /tmp/ipykernel_33267/688712901.py:1(occurrence_indexer)\n",
      "        9    0.117    0.013    0.219    0.024 /tmp/ipykernel_33267/688712901.py:18(new_suffix_table_positions)\n",
      "        9    0.184    0.020    0.193    0.021 /tmp/ipykernel_33267/688712901.py:11(lettre_et_occurence)\n",
      "   947113    0.184    0.000    0.184    0.000 {built-in method _abc._abc_subclasscheck}\n",
      "   855761    0.120    0.000    0.120    0.000 {built-in method builtins.min}\n",
      "   201777    0.075    0.000    0.075    0.000 /tmp/ipykernel_33267/688712901.py:24(<listcomp>)\n",
      "   947113    0.058    0.000    0.058    0.000 {built-in method builtins.chr}\n",
      "   947103    0.044    0.000    0.044    0.000 {built-in method builtins.ord}\n",
      "        6    0.037    0.006    0.037    0.006 /tmp/ipykernel_33267/3940777719.py:1(removesentinel)\n",
      "        1    0.000    0.000    0.032    0.032 /usr/lib/python3.10/collections/__init__.py:565(__init__)\n",
      "        1    0.000    0.000    0.032    0.032 /usr/lib/python3.10/collections/__init__.py:640(update)\n",
      "        1    0.032    0.032    0.032    0.032 {built-in method _collections._count_elements}\n",
      "   201778    0.017    0.000    0.017    0.000 {built-in method builtins.sum}\n",
      "        1    0.000    0.000    0.012    0.012 /tmp/ipykernel_33267/688712901.py:28(initialize_suffix_table_positions)\n",
      "        1    0.012    0.012    0.012    0.012 /tmp/ipykernel_33267/688712901.py:31(<listcomp>)\n",
      "        1    0.000    0.000    0.001    0.001 /home/mvernier/.local/lib/python3.10/site-packages/Bio/Seq.py:1233(upper)\n",
      "        1    0.001    0.001    0.001    0.001 {method 'upper' of 'bytes' objects}\n",
      "        1    0.000    0.000    0.000    0.000 /home/mvernier/.local/lib/python3.10/site-packages/Bio/Seq.py:495(__add__)\n",
      "        1    0.000    0.000    0.000    0.000 /home/mvernier/.local/lib/python3.10/site-packages/Bio/Seq.py:466(__iter__)\n",
      "        1    0.000    0.000    0.000    0.000 {method 'decode' of 'bytes' objects}\n",
      "        6    0.000    0.000    0.000    0.000 {method 'keys' of 'dict' objects}\n",
      "        2    0.000    0.000    0.000    0.000 /home/mvernier/.local/lib/python3.10/site-packages/Bio/Seq.py:1961(__init__)\n",
      "        1    0.000    0.000    0.000    0.000 /tmp/ipykernel_33267/688712901.py:29(<listcomp>)\n",
      "        1    0.000    0.000    0.000    0.000 /home/mvernier/.local/lib/python3.10/site-packages/Bio/Seq.py:462(__len__)\n",
      "        1    0.000    0.000    0.000    0.000 {method 'disable' of '_lsprof.Profiler' objects}\n",
      "        1    0.000    0.000    0.000    0.000 /home/mvernier/.local/lib/python3.10/site-packages/Bio/SeqRecord.py:334(<lambda>)\n",
      "        1    0.000    0.000    0.000    0.000 {method 'encode' of 'str' objects}\n",
      "\n",
      "\n"
     ]
    },
    {
     "data": {
      "text/plain": [
       "<pstats.Stats at 0x7f1fffadf940>"
      ]
     },
     "execution_count": 59,
     "metadata": {},
     "output_type": "execute_result"
    }
   ],
   "source": [
    "cProfile.run(\"find_patterns_in_sequence_with_dc3(genome[1].seq.upper(), pattern, sequence_has_end_character=False)\", \"pattern_matching_stats\")\n",
    "p = pstats.Stats(\"pattern_matching_stats\")\n",
    "p.sort_stats(\"cumulative\").print_stats()"
   ]
  },
  {
   "cell_type": "markdown",
   "id": "f90fab65",
   "metadata": {},
   "source": [
    "### Travaillons avec des kmers"
   ]
  },
  {
   "cell_type": "code",
   "execution_count": 51,
   "id": "6b313a23",
   "metadata": {},
   "outputs": [],
   "source": [
    "def assembler_des_kmers(numero_du_kmer, position_ds_genome,longueur, liste_position_kmers):\n",
    "    compteur_de_kmer=1 #compte le nb de kmers qu'on arrive à aligner\n",
    "    last_position=0\n",
    "    i=numero_du_kmer+1\n",
    "    difference=1\n",
    "    \n",
    "    while i<len(liste_position_kmers):\n",
    "        j=0\n",
    "        previous_compteur=compteur_de_kmer\n",
    "        k=0\n",
    "        while j<len(liste_position_kmers[i]) and compteur_de_kmer==previous_compteur:\n",
    "            if position_ds_genome+difference==liste_position_kmers[i][j]:\n",
    "                compteur_de_kmer+=1\n",
    "                last_position=liste_position_kmers[i][j]\n",
    "            j+=1\n",
    "            \n",
    "        if compteur_de_kmer==previous_compteur:\n",
    "            i+=longueur\n",
    "            difference+=longueur\n",
    "            if  i>= len(liste_position_kmers):\n",
    "                return [[position_ds_genome,last_position+longueur],compteur_de_kmer]\n",
    "            else:\n",
    "        \n",
    "                ### cas d'une mutation\n",
    "                k=0\n",
    "\n",
    "                while k<len(liste_position_kmers[i]) and compteur_de_kmer==previous_compteur:\n",
    "                    if position_ds_genome+difference==liste_position_kmers[i][k]:\n",
    "                        compteur_de_kmer+=1\n",
    "                        last_position=liste_position_kmers[i][k]\n",
    "                    k+=1\n",
    "\n",
    "\n",
    "\n",
    "                if compteur_de_kmer==previous_compteur:\n",
    "                    ###cas d'une addition\n",
    "                    difference-=1\n",
    "                    l=0\n",
    "                    while l<len(liste_position_kmers[i]) and compteur_de_kmer==previous_compteur:\n",
    "\n",
    "                        if position_ds_genome+difference==liste_position_kmers[i][l]:\n",
    "                            compteur_de_kmer+=1\n",
    "                            last_position=liste_position_kmers[i][l]\n",
    "                        l+=1\n",
    "\n",
    "                    if compteur_de_kmer==previous_compteur:\n",
    "                        ###cas d'une déletions\n",
    "                        difference+=1\n",
    "                        i-=1\n",
    "                        m=0\n",
    "                        while m<len(liste_position_kmers[i]) and compteur_de_kmer==previous_compteur:\n",
    "\n",
    "                            if position_ds_genome+difference==liste_position_kmers[i][m]:\n",
    "                                compteur_de_kmer+=1\n",
    "                                last_position=liste_position_kmers[i][m]\n",
    "                            m+=1\n",
    "\n",
    "                        if compteur_de_kmer==previous_compteur:\n",
    "                            ### cas où l'alignement est terminé\n",
    "                            return [[position_ds_genome,last_position+longueur],compteur_de_kmer]\n",
    "\n",
    "        i+=1\n",
    "        difference+=1   \n",
    "        \n",
    "    return [[position_ds_genome,last_position+longueur],compteur_de_kmer]"
   ]
  },
  {
   "cell_type": "code",
   "execution_count": 52,
   "id": "e797677d",
   "metadata": {},
   "outputs": [],
   "source": [
    "def assembler_des_kmers_debugg(numero_du_kmer, position_ds_genome,longueur, liste_position_kmers):\n",
    "    compteur_de_kmer=1 #compte le nb de kmers qu'on arrive à aligner\n",
    "    last_position=0\n",
    "    i=numero_du_kmer+1\n",
    "    difference=1\n",
    "    \n",
    "    while i<len(liste_position_kmers):\n",
    "        #print(\"i au début du while\")\n",
    "        #print(i)\n",
    "        #print(\"\\n\")\n",
    "        j=0\n",
    "        previous_compteur=compteur_de_kmer\n",
    "        #print(\"le compteur est à\")\n",
    "        #print(compteur_de_kmer)\n",
    "        #print(\"\\n\")\n",
    "        #print(\"on s'interesse au kmer numero\")\n",
    "        #print(i)\n",
    "        #print(\"qui est\")\n",
    "        #print(liste_position_kmers[i])\n",
    "        k=0\n",
    "        while j<len(liste_position_kmers[i]) and compteur_de_kmer==previous_compteur:\n",
    "            #print(\"on cherche la position\")\n",
    "            #print(position_ds_genome+difference)\n",
    "            if position_ds_genome+difference==liste_position_kmers[i][j]:\n",
    "                compteur_de_kmer+=1\n",
    "                last_position=liste_position_kmers[i][j]\n",
    "            j+=1\n",
    "            \n",
    "        if compteur_de_kmer==previous_compteur:\n",
    "            i+=longueur\n",
    "            difference+=longueur\n",
    "            if  i>= len(liste_position_kmers):\n",
    "                return [[position_ds_genome,last_position+longueur],compteur_de_kmer]\n",
    "            else:\n",
    "        \n",
    "                ### cas d'une mutation\n",
    "                #print(\"cas d'une mutation\")\n",
    "                #print(\"on s'interesse au kmer numero\")\n",
    "                #print(i)\n",
    "                #print(\"qui est\")\n",
    "                #print(liste_position_kmers[i])\n",
    "                k=0\n",
    "\n",
    "                while k<len(liste_position_kmers[i]) and compteur_de_kmer==previous_compteur:\n",
    "                    #print(\"on cherche la position\")\n",
    "                    #print(position_ds_genome+difference)\n",
    "                    if position_ds_genome+difference==liste_position_kmers[i][k]:\n",
    "                        compteur_de_kmer+=1\n",
    "                        last_position=liste_position_kmers[i][k]\n",
    "                    k+=1\n",
    "\n",
    "\n",
    "\n",
    "                if compteur_de_kmer==previous_compteur:\n",
    "                    ###cas d'une addition\n",
    "                    #print(\"cas d'une addition\")\n",
    "                    difference-=1\n",
    "                    l=0\n",
    "                    while l<len(liste_position_kmers[i]) and compteur_de_kmer==previous_compteur:\n",
    "\n",
    "                        if position_ds_genome+difference==liste_position_kmers[i][l]:\n",
    "                            compteur_de_kmer+=1\n",
    "                            last_position=liste_position_kmers[i][l]\n",
    "                        l+=1\n",
    "\n",
    "                    if compteur_de_kmer==previous_compteur:\n",
    "                        ###cas d'une déletions\n",
    "                        #print(\"cas d'une délétion\")\n",
    "                        difference+=1\n",
    "                        i-=1\n",
    "                        m=0\n",
    "                        while m<len(liste_position_kmers[i]) and compteur_de_kmer==previous_compteur:\n",
    "\n",
    "                            if position_ds_genome+difference==liste_position_kmers[i][m]:\n",
    "                                compteur_de_kmer+=1\n",
    "                                last_position=liste_position_kmers[i][m]\n",
    "                            m+=1\n",
    "\n",
    "                        if compteur_de_kmer==previous_compteur:\n",
    "                            ### cas où l'alignement est terminé\n",
    "                            return [[position_ds_genome,last_position+longueur],compteur_de_kmer]\n",
    "\n",
    "        i+=1\n",
    "        difference+=1   \n",
    "        \n",
    "    return [[position_ds_genome,last_position+longueur],compteur_de_kmer]"
   ]
  },
  {
   "cell_type": "code",
   "execution_count": 53,
   "id": "e6cadc01",
   "metadata": {},
   "outputs": [],
   "source": [
    "def kmer(sequence, longueur):\n",
    "    n = len(sequence)\n",
    "    kmer=[]\n",
    "    for i in range(n-longueur+1):\n",
    "        kmer.append(sequence[i:i+longueur])\n",
    "    return kmer\n",
    "    "
   ]
  },
  {
   "cell_type": "code",
   "execution_count": 54,
   "id": "e59f6238",
   "metadata": {},
   "outputs": [
    {
     "name": "stdout",
     "output_type": "stream",
     "text": [
      "22\n",
      "['ABCDE', 'BCDEF', 'CDEFG', 'DEFGH', 'EFGHI', 'FGHIJ', 'GHIJK', 'HIJKL', 'IJKLM', 'JKLMN', 'KLMNO', 'LMNOP', 'MNOPQ', 'NOPQR', 'OPQRS', 'PQRSZ', 'QRSZU', 'RSZUV']\n"
     ]
    }
   ],
   "source": [
    "read=\"ABCDEFGHIJKLMNOPQRSZUV\"\n",
    "print(len(read))\n",
    "print(kmer(read,5))"
   ]
  },
  {
   "cell_type": "code",
   "execution_count": 55,
   "id": "431b9294",
   "metadata": {},
   "outputs": [
    {
     "name": "stdout",
     "output_type": "stream",
     "text": [
      "['ABCDE', 'BCDEF', 'CDEFG', 'DEFGH', 'EFGHI', 'FGHIJ', 'GHIJK', 'HIJKL', 'IJKLM', 'JKLMN', 'KLMNO', 'LMNOP', 'MNOPQ', 'NOPQR', 'OPQRS', 'PQRSZ', 'QRSZU', 'RSZUV']\n",
      "18\n"
     ]
    }
   ],
   "source": [
    "genom=\"ABCDEFGHIJKLMNOPQRSTUVWPPPPPABCDEFGHWWWWWWWWWWNOPQRSTUV!\"\n",
    "liste_kmer=kmer(read, 5)\n",
    "print(liste_kmer)\n",
    "print(len(liste_kmer))"
   ]
  },
  {
   "cell_type": "code",
   "execution_count": 60,
   "id": "c5759944",
   "metadata": {},
   "outputs": [
    {
     "name": "stdout",
     "output_type": "stream",
     "text": [
      "[[0, 28], [1, 29], [2, 30], [3, 31], [4], [5], [6], [7], [8], [9], [10], [11], [12], [46, 13], [47, 14], [], [], []]\n",
      "5\n"
     ]
    }
   ],
   "source": [
    "positions=[]\n",
    "for i in range(len(liste_kmer)):\n",
    "    positions.append(find_patterns_in_sequence_with_dc3(genom, liste_kmer[i],sequence_has_end_character=True))\n",
    "print(positions)\n",
    "print(positions[5][0])"
   ]
  },
  {
   "cell_type": "code",
   "execution_count": 61,
   "id": "5c51c7ba",
   "metadata": {},
   "outputs": [
    {
     "data": {
      "text/plain": [
       "[[0, 19], 15]"
      ]
     },
     "execution_count": 61,
     "metadata": {},
     "output_type": "execute_result"
    }
   ],
   "source": [
    "assembler_des_kmers(0, positions[0][0],5,positions)"
   ]
  },
  {
   "cell_type": "code",
   "execution_count": 62,
   "id": "b2ce986e",
   "metadata": {},
   "outputs": [],
   "source": [
    "def alignement_maximum_de_kmer(liste_position_kmers, longueur):\n",
    "    output=[[0,0],0]\n",
    "    maximum=0\n",
    "    for i in range(longueur+1):\n",
    "        current_kmer=liste_position_kmers[i]\n",
    "        for p in current_kmer:\n",
    "            alignement=assembler_des_kmers(i, p, longueur, liste_position_kmers)\n",
    "            if maximum<alignement[1]:\n",
    "                output=alignement\n",
    "                maximum=alignement[1]\n",
    "    return output"
   ]
  },
  {
   "cell_type": "code",
   "execution_count": 63,
   "id": "34cfd014",
   "metadata": {},
   "outputs": [],
   "source": [
    "def complementaireInverse(sequence):\n",
    "    ci = []\n",
    "    for i in range(len(sequence) - 1, -1, -1):\n",
    "        if sequence[i] == 'A':\n",
    "            ci.append('T')\n",
    "        elif sequence[i] == 'T':\n",
    "            ci.append('A')\n",
    "        elif sequence[i] == 'C':\n",
    "            ci.append('G')\n",
    "        elif sequence[i] == 'G':\n",
    "            ci.append('C')\n",
    "    return ''.join(ci)"
   ]
  },
  {
   "cell_type": "code",
   "execution_count": 64,
   "id": "f131cf23",
   "metadata": {},
   "outputs": [
    {
     "data": {
      "text/plain": [
       "[[0, 19], 15]"
      ]
     },
     "execution_count": 64,
     "metadata": {},
     "output_type": "execute_result"
    }
   ],
   "source": [
    "alignement_maximum_de_kmer(positions, 5)"
   ]
  },
  {
   "cell_type": "code",
   "execution_count": 67,
   "id": "b1c8d8b1",
   "metadata": {},
   "outputs": [],
   "source": [
    "genome[0].seq.upper()\n",
    "reads[1].seq.upper()\n",
    "liste_de_kmer=kmer(reads[2].seq.upper(), 10)\n",
    "position=[]\n",
    "for i in range(len(liste_de_kmer)):\n",
    "    position.append(find_patterns_in_sequence(sf,bwt, liste_de_kmer[i]))\n",
    "        "
   ]
  },
  {
   "cell_type": "code",
   "execution_count": 68,
   "id": "c254023f",
   "metadata": {
    "scrolled": true
   },
   "outputs": [
    {
     "data": {
      "text/plain": [
       "[[471739, 471836], 58]"
      ]
     },
     "execution_count": 68,
     "metadata": {},
     "output_type": "execute_result"
    }
   ],
   "source": [
    "alignement_maximum_de_kmer(position, 10)"
   ]
  },
  {
   "cell_type": "code",
   "execution_count": 69,
   "id": "16e53f80",
   "metadata": {},
   "outputs": [],
   "source": [
    "def align_read(chromosome, reads_list, longueur_kmer):\n",
    "    sf=almost_dc3_with_p12(asciiDC3(chromosome))\n",
    "    bwt=BWT(chromosome, sf)\n",
    "    output=[]\n",
    "    \n",
    "    for i in range(len(reads_list)):\n",
    "        liste_de_kmer=kmer(reads_list[i].seq.upper(), longueur_kmer)\n",
    "        position=[]\n",
    "        for j in range(len(liste_de_kmer)):\n",
    "            position.append(find_patterns_in_sequence_faster(sf,bwt, liste_de_kmer[j]))\n",
    "        \n",
    "        alignment=alignement_maximum_de_kmer(position, longueur_kmer)\n",
    "        \n",
    "        if (alignment[0][1]-alignment[0][0])<30:\n",
    "            # on cherche à aligner le complémentaire inverse\n",
    "            liste_de_kmer=kmer(complementaireInverse(reads_list[i].seq.upper()), longueur_kmer)\n",
    "            position=[]\n",
    "            for j in range(len(liste_de_kmer)):\n",
    "                position.append(find_patterns_in_sequence_faster(sf,bwt, liste_de_kmer[j]))\n",
    "                \n",
    "            alignment=alignement_maximum_de_kmer(position, longueur_kmer)\n",
    "                \n",
    "        output.append({\"read\":i, \"alignement\":alignment})\n",
    "    return output\n",
    "        "
   ]
  },
  {
   "cell_type": "code",
   "execution_count": 71,
   "id": "04e2bf0b",
   "metadata": {},
   "outputs": [
    {
     "ename": "KeyboardInterrupt",
     "evalue": "",
     "output_type": "error",
     "traceback": [
      "\u001b[0;31m---------------------------------------------------------------------------\u001b[0m",
      "\u001b[0;31mKeyboardInterrupt\u001b[0m                         Traceback (most recent call last)",
      "\u001b[0;32m/tmp/ipykernel_33267/485874873.py\u001b[0m in \u001b[0;36m<module>\u001b[0;34m\u001b[0m\n\u001b[1;32m      1\u001b[0m \u001b[0mstart\u001b[0m\u001b[0;34m=\u001b[0m\u001b[0mtime\u001b[0m\u001b[0;34m.\u001b[0m\u001b[0mtime\u001b[0m\u001b[0;34m(\u001b[0m\u001b[0;34m)\u001b[0m\u001b[0;34m\u001b[0m\u001b[0;34m\u001b[0m\u001b[0m\n\u001b[0;32m----> 2\u001b[0;31m \u001b[0malign\u001b[0m\u001b[0;34m=\u001b[0m\u001b[0malign_read\u001b[0m\u001b[0;34m(\u001b[0m\u001b[0mgenome\u001b[0m\u001b[0;34m[\u001b[0m\u001b[0;36m0\u001b[0m\u001b[0;34m]\u001b[0m\u001b[0;34m.\u001b[0m\u001b[0mseq\u001b[0m\u001b[0;34m.\u001b[0m\u001b[0mupper\u001b[0m\u001b[0;34m(\u001b[0m\u001b[0;34m)\u001b[0m\u001b[0;34m,\u001b[0m\u001b[0mreads\u001b[0m\u001b[0;34m,\u001b[0m \u001b[0;36m10\u001b[0m\u001b[0;34m)\u001b[0m\u001b[0;34m\u001b[0m\u001b[0;34m\u001b[0m\u001b[0m\n\u001b[0m\u001b[1;32m      3\u001b[0m \u001b[0mend\u001b[0m\u001b[0;34m=\u001b[0m\u001b[0mtime\u001b[0m\u001b[0;34m.\u001b[0m\u001b[0mtime\u001b[0m\u001b[0;34m(\u001b[0m\u001b[0;34m)\u001b[0m\u001b[0;34m\u001b[0m\u001b[0;34m\u001b[0m\u001b[0m\n\u001b[1;32m      4\u001b[0m \u001b[0mprint\u001b[0m\u001b[0;34m(\u001b[0m\u001b[0malign\u001b[0m\u001b[0;34m)\u001b[0m\u001b[0;34m\u001b[0m\u001b[0;34m\u001b[0m\u001b[0m\n\u001b[1;32m      5\u001b[0m \u001b[0mprint\u001b[0m\u001b[0;34m(\u001b[0m\u001b[0mend\u001b[0m\u001b[0;34m-\u001b[0m\u001b[0mstart\u001b[0m\u001b[0;34m)\u001b[0m\u001b[0;34m\u001b[0m\u001b[0;34m\u001b[0m\u001b[0m\n",
      "\u001b[0;32m/tmp/ipykernel_33267/2110851397.py\u001b[0m in \u001b[0;36malign_read\u001b[0;34m(chromosome, reads_list, longueur_kmer)\u001b[0m\n\u001b[1;32m      8\u001b[0m         \u001b[0mposition\u001b[0m\u001b[0;34m=\u001b[0m\u001b[0;34m[\u001b[0m\u001b[0;34m]\u001b[0m\u001b[0;34m\u001b[0m\u001b[0;34m\u001b[0m\u001b[0m\n\u001b[1;32m      9\u001b[0m         \u001b[0;32mfor\u001b[0m \u001b[0mj\u001b[0m \u001b[0;32min\u001b[0m \u001b[0mrange\u001b[0m\u001b[0;34m(\u001b[0m\u001b[0mlen\u001b[0m\u001b[0;34m(\u001b[0m\u001b[0mliste_de_kmer\u001b[0m\u001b[0;34m)\u001b[0m\u001b[0;34m)\u001b[0m\u001b[0;34m:\u001b[0m\u001b[0;34m\u001b[0m\u001b[0;34m\u001b[0m\u001b[0m\n\u001b[0;32m---> 10\u001b[0;31m             \u001b[0mposition\u001b[0m\u001b[0;34m.\u001b[0m\u001b[0mappend\u001b[0m\u001b[0;34m(\u001b[0m\u001b[0mfind_patterns_in_sequence_faster\u001b[0m\u001b[0;34m(\u001b[0m\u001b[0msf\u001b[0m\u001b[0;34m,\u001b[0m\u001b[0mbwt\u001b[0m\u001b[0;34m,\u001b[0m \u001b[0mliste_de_kmer\u001b[0m\u001b[0;34m[\u001b[0m\u001b[0mj\u001b[0m\u001b[0;34m]\u001b[0m\u001b[0;34m)\u001b[0m\u001b[0;34m)\u001b[0m\u001b[0;34m\u001b[0m\u001b[0;34m\u001b[0m\u001b[0m\n\u001b[0m\u001b[1;32m     11\u001b[0m \u001b[0;34m\u001b[0m\u001b[0m\n\u001b[1;32m     12\u001b[0m         \u001b[0malignment\u001b[0m\u001b[0;34m=\u001b[0m\u001b[0malignement_maximum_de_kmer\u001b[0m\u001b[0;34m(\u001b[0m\u001b[0mposition\u001b[0m\u001b[0;34m,\u001b[0m \u001b[0mlongueur_kmer\u001b[0m\u001b[0;34m)\u001b[0m\u001b[0;34m\u001b[0m\u001b[0;34m\u001b[0m\u001b[0m\n",
      "\u001b[0;31mKeyboardInterrupt\u001b[0m: "
     ]
    }
   ],
   "source": [
    "start=time.time()\n",
    "align=align_read(genome[0].seq.upper(),reads, 10)\n",
    "end=time.time()\n",
    "print(align)\n",
    "print(end-start)"
   ]
  },
  {
   "cell_type": "code",
   "execution_count": null,
   "id": "06c3d782",
   "metadata": {},
   "outputs": [],
   "source": [
    "def check_for_mutation(index, read_decalage,genome_decalage, read,genome):\n",
    "    return read[read_decalage+index+1]==genome[genome_decalage+index+1]\n",
    "\n",
    "\n",
    "def check_for_deletion(index, read_decalage, genome_decalage, read,genome):\n",
    "    return read[read_decalage+index]==genome[genome_decalage+index+1]\n",
    "\n",
    "def check_for_addition(index, read_decalage, genome_decalage, read,genome):\n",
    "    return read[read_decalage+index+1]==genome[genome_decalage+index]\n",
    "\n",
    "def is_my_read_at_position(position_in_genome, read,genome):\n",
    "    read_decalage=0\n",
    "    genome_decalage=position_in_genome\n",
    "    i=0\n",
    "    while i+read_decalage<len(read):\n",
    "        if read[read_decalage+i]!=genome[genome_decalage+i]:\n",
    "            if check_for_mutation(i, read_decalage,genome_decalage, read,genome):\n",
    "                print(\"Le read contient une mutation à la position \"+str(i))\n",
    "                print(read[read_decalage+i-5:read_decalage+i+5])\n",
    "                print(genome[genome_decalage+i-5:genome_decalage+i+5])\n",
    "                i+=1\n",
    "                \n",
    "            elif check_for_deletion(i, read_decalage,genome_decalage, read,genome):\n",
    "                print(\"Le read contient une déletion à la position \"+str(i))\n",
    "                print(read[read_decalage+i-5:read_decalage+i+5])\n",
    "                print(genome[genome_decalage+i-5:genome_decalage+i+5])\n",
    "                genome_decalage+=1\n",
    "                i+=1\n",
    "                \n",
    "            elif check_for_addition(i, read_decalage, genome_decalage, read,genome):\n",
    "                print(\"Le read contient une addition à la position \"+str(i))\n",
    "                print(read[read_decalage+i-5:read_decalage+i+5])\n",
    "                print(genome[genome_decalage+i-5:genome_decalage+i+5])\n",
    "                i+=1\n",
    "                read_decalage+=1\n",
    "                \n",
    "            else:\n",
    "                i+=1\n",
    "                print(\"...\")\n",
    "        else:\n",
    "            i+=1\n",
    "    return"
   ]
  },
  {
   "cell_type": "code",
   "execution_count": null,
   "id": "93e6062a",
   "metadata": {},
   "outputs": [],
   "source": [
    "is_my_read_at_position(471737, reads[2].seq.upper(),genome[0].seq.upper())"
   ]
  },
  {
   "cell_type": "code",
   "execution_count": null,
   "id": "01bf6165",
   "metadata": {},
   "outputs": [],
   "source": [
    "print(reads[2].seq.upper())\n",
    "print(genome[0].seq.upper()[471737:471839])"
   ]
  },
  {
   "cell_type": "code",
   "execution_count": null,
   "id": "37d7a89c",
   "metadata": {},
   "outputs": [],
   "source": [
    "cProfile.run(\"align_read(genome[0].seq.upper(),reads[:2], 10)\", \"pattern_matching_stats\")\n",
    "p = pstats.Stats(\"pattern_matching_stats\")\n",
    "p.sort_stats(\"cumulative\").print_stats()"
   ]
  },
  {
   "cell_type": "raw",
   "id": "6f3c1ec6",
   "metadata": {},
   "source": [
    "def check_if_compatible_with_kmer(kmer_positions,suffix_table, suffix_table_positions,longueur):\n",
    "    output=[]\n",
    "    for position in suffix_table_positions:\n",
    "        print(\"position\")\n",
    "        print(position)\n",
    "        for start_of_kmer in kmer_positions:\n",
    "            if suffix_table[position]==start_of_kmer+2*longueur:\n",
    "                output.append(position)\n",
    "    return output\n",
    "\n",
    "def find_patterns_in_sequence_knowing_kmer(sequence, pattern, kmer_positions,longueur, sequence_has_end_character=False):\n",
    "    output=[]\n",
    "    \n",
    "    if sequence_has_end_character==False:\n",
    "        sequence += '!'\n",
    "        \n",
    "    sf=almost_dc3_with_p12(asciiDC3(sequence)) \n",
    "    BWT = \"\"\n",
    "    for i in sf:\n",
    "        BWT += sequence[i-1]\n",
    "    \n",
    "    \n",
    "    \n",
    "    #print(\"BWT\")\n",
    "    #print(BWT)\n",
    "    #print(\"\\n\")\n",
    "    occurence_index = occurrence_indexer(BWT)\n",
    "    #print('occurence_index')\n",
    "    #print(occurence_index)\n",
    "    #print(\"\\n\")\n",
    "    counts = Counter(BWT)\n",
    "    #print(\"counts\")\n",
    "    #print(counts)\n",
    "    #print(\"\\n\")\n",
    "    index=len(pattern)-1\n",
    "    pattern_letter=pattern[index]\n",
    "    \n",
    "    suffix_table_positions=initialize_suffix_table_positions(counts, pattern_letter)\n",
    "    \n",
    "    suffix_table_positions=check_if_compatible_with_kmer(kmer_positions,sf, suffix_table_positions,longueur)\n",
    "    #print(\"suffix_table_positions\")\n",
    "    #print(suffix_table_positions)\n",
    "    #print(\"\\n\")\n",
    "    while index>0 and len(suffix_table_positions)>0:\n",
    "        \n",
    "        index-=1\n",
    "        #print(\"index\")\n",
    "        #print(index)\n",
    "        #print(\"\\n\")\n",
    "        pattern_letter=pattern[index]\n",
    "        #print(\"pattern_letter\")\n",
    "        #print(pattern_letter)\n",
    "        #print(\"\\n\")\n",
    "        \n",
    "        A=lettre_et_occurence(BWT,pattern_letter,suffix_table_positions, occurence_index)\n",
    "        #print(\"A\")\n",
    "        #print(A)\n",
    "        #print(\"\\n\")\n",
    "        \n",
    "        suffix_table_positions=new_suffix_table_positions(BWT, A, counts)\n",
    "        #print(\"suffix_table_positions\")\n",
    "        #print(suffix_table_positions)\n",
    "        #print(\"\\n\")\n",
    "        \n",
    "        \n",
    "    for i in range(len(suffix_table_positions)):\n",
    "        output.append(sf[suffix_table_positions[i]])\n",
    "        \n",
    "\n",
    "    return output"
   ]
  },
  {
   "cell_type": "raw",
   "id": "5e8a2765",
   "metadata": {},
   "source": [
    "def naive_read_alignment(kmer, longueur, chromosome):\n",
    "    first_kmer=sorted(find_patterns_in_sequence(chromosome, kmer[0][1],sequence_has_end_character=False))\n",
    "    first_kmer_dict={}\n",
    "    for i in range(len(first_kmer)):\n",
    "        first_kmer_dict[first_kmer[i]+longueur]=0\n",
    "    second_kmer=sorted(find_patterns_in_sequence(chromosome, kmers[1][1],sequence_has_end_character=False))\n",
    "    for i in range(second_kmer):\n",
    "        if dict[second_kmer[i]]==0:\n",
    "            dict[second_kmer[i]]=1\n",
    "    return"
   ]
  },
  {
   "cell_type": "raw",
   "id": "bb1d19e6",
   "metadata": {},
   "source": [
    "def naive_read_reconstruction(kmers,longueur, chromosome):\n",
    "    first_kmer=sorted(find_patterns_in_sequence(chromosome, kmers[0][1],sequence_has_end_character=False))\n",
    "    output=[]\n",
    "    for i in range(len(kmers)):\n",
    "        new_kmer=sorted(find_patterns_in_sequence(chromosome, kmers[i],sequence_has_end_character=False)\n",
    "                 for first_index in range(len(first_kmer)):\n",
    "                     genome_position=first_kmer[first_index]\n",
    "                     second_index=0\n",
    "                     while genome_position>new_kmer[second_index] and new_kmer[second_index]<genome_position+len(longueur):\n",
    "                        if new_kmer[second_index]==genome_position+len(longueur):\n",
    "                            output\n",
    "                        second_index+=1\n",
    "                    while\n",
    "                     \n",
    "        end_of_precedent_kmer=M[0][0]\n",
    "    return"
   ]
  },
  {
   "cell_type": "raw",
   "id": "1414ca98",
   "metadata": {},
   "source": [
    "def assembler_des_kmers(numero_du_kmer, position_ds_genome,longueur, liste_position_kmers):\n",
    "    compteur_de_kmer=1 #compte le nb de kmers qu'on arrive à aligner\n",
    "    last_position=0\n",
    "    i=numero_du_kmer+1\n",
    "    difference=1\n",
    "    \n",
    "    while i<len(liste_position_kmers):\n",
    "        print(\"i au début du while\")\n",
    "        print(i)\n",
    "        print(\"\\n\")\n",
    "        j=0\n",
    "        previous_compteur=compteur_de_kmer\n",
    "        print(\"le compteur est à\")\n",
    "        print(compteur_de_kmer)\n",
    "        print(\"\\n\")\n",
    "        print(\"on s'interesse au kmer numero\")\n",
    "        print(i)\n",
    "        print(\"qui est\")\n",
    "        print(liste_position_kmers[i])\n",
    "        k=0\n",
    "        while j<len(liste_position_kmers[i]) and compteur_de_kmer==previous_compteur:\n",
    "            print(\"on cherche la position\")\n",
    "            print(position_ds_genome+difference)\n",
    "            if position_ds_genome+difference==liste_position_kmers[i][j]:\n",
    "                compteur_de_kmer+=1\n",
    "                last_position=liste_position_kmers[i][j]\n",
    "            j+=1\n",
    "            \n",
    "        if compteur_de_kmer==previous_compteur:\n",
    "            ### cas d'une mutation\n",
    "            print(\"cas d'une mutation\")\n",
    "            i+=longueur\n",
    "            difference+=longueur\n",
    "            print(\"on s'interesse au kmer numero\")\n",
    "            print(i)\n",
    "            print(\"qui est\")\n",
    "            print(liste_position_kmers[i])\n",
    "            k=0\n",
    "            \n",
    "            while k<len(liste_position_kmers[i]) and compteur_de_kmer==previous_compteur:\n",
    "                print(\"on cherche la position\")\n",
    "                print(position_ds_genome+difference)\n",
    "                if position_ds_genome+difference==liste_position_kmers[i][k]:\n",
    "                    compteur_de_kmer+=1\n",
    "                    last_position=liste_position_kmers[i][k]\n",
    "                k+=1\n",
    "                \n",
    "                \n",
    "                \n",
    "            if compteur_de_kmer==previous_compteur:\n",
    "                ###cas d'une addition\n",
    "                print(\"cas d'une addition\")\n",
    "                difference-=1\n",
    "                l=0\n",
    "                while l<len(liste_position_kmers[i]) and compteur_de_kmer==previous_compteur:\n",
    "                    \n",
    "                    if position_ds_genome+difference==liste_position_kmers[i][l]:\n",
    "                        compteur_de_kmer+=1\n",
    "                        last_position=liste_position_kmers[i][l]\n",
    "                    l+=1\n",
    "                \n",
    "                if compteur_de_kmer==previous_compteur:\n",
    "                    ###cas d'une déletions\n",
    "                    print(\"cas d'une délétion\")\n",
    "                    difference+=1\n",
    "                    i-=1\n",
    "                    m=0\n",
    "                    while m<len(liste_position_kmers[i]) and compteur_de_kmer==previous_compteur:\n",
    "                    \n",
    "                        if position_ds_genome+difference==liste_position_kmers[i][m]:\n",
    "                            compteur_de_kmer+=1\n",
    "                            last_position=liste_position_kmers[i][m]\n",
    "                        m+=1\n",
    "                        \n",
    "                    if compteur_de_kmer==previous_compteur:\n",
    "                        ### cas où l'alignement est terminé\n",
    "                        return [[position_ds_genome,last_position+longueur],compteur_de_kmer]\n",
    "\n",
    "        i+=1\n",
    "        difference+=1   \n",
    "        \n",
    "    return [[position_ds_genome,last_position+longueur],compteur_de_kmer]"
   ]
  },
  {
   "cell_type": "raw",
   "id": "62012fd5",
   "metadata": {},
   "source": [
    "def assembler_des_kmers(numero_du_kmer, position_ds_genome,longueur, liste_position_kmers):\n",
    "    compteur_de_kmer=1 #compte le nb de kmers qu'on arrive à aligner\n",
    "    last_position=0\n",
    "    i=numero_du_kmer+1\n",
    "    difference=i\n",
    "    \n",
    "    while i<len(liste_position_kmers):\n",
    "        previous_compteur=compteur_de_kmer\n",
    "        j=0\n",
    "        while j<len(liste_position_kmers[i]) and compteur_de_kmer==previous_compteur:\n",
    "            ## cas où tout marche\n",
    "            if position_ds_genome+difference==liste_position_kmers[i][j]:\n",
    "                compteur_de_kmer+=1\n",
    "                last_position=liste_position_kmers[i][j]\n",
    "                i+=1\n",
    "                \n",
    "            ## cas d'une déletion\n",
    "            elif position_ds_genome+difference==liste_position_kmers[i+longueur-1][j]:\n",
    "                i=i+longueur-1\n",
    "                compteur_de_kmer+=1\n",
    "                last_position=liste_position_kmers[i+longueur-1][j]\n",
    "                \n",
    "            ## cas d'une mutation\n",
    "            elif position_ds_genome+difference==liste_position_kmers[i+longueur][j]:\n",
    "                i=i+longueur\n",
    "                compteur_de_kmer+=1\n",
    "                last_position=liste_position_kmers[i+longueur][j]\n",
    "            ## cas d'une addition\n",
    "            elif position_ds_genome+difference-1==liste_position_kmers[i+longueur][j]:\n",
    "                i=i+longueur\n",
    "                difference-=1\n",
    "                compteur_de_kmer+=1\n",
    "                last_position=liste_position_kmers[i+longueur][j]\n",
    "                   \n",
    "            j+=1\n",
    "        \n",
    "        if compteur_de_kmer==previous_compteur:\n",
    "            return [[position_ds_genome,last_position+longueur],compteur_de_kmer]\n",
    "                    \n",
    "        \n",
    "    return [[position_ds_genome,last_position+longueur],compteur_de_kmer]"
   ]
  }
 ],
 "metadata": {
  "kernelspec": {
   "display_name": "Python 3 (ipykernel)",
   "language": "python",
   "name": "python3"
  },
  "language_info": {
   "codemirror_mode": {
    "name": "ipython",
    "version": 3
   },
   "file_extension": ".py",
   "mimetype": "text/x-python",
   "name": "python",
   "nbconvert_exporter": "python",
   "pygments_lexer": "ipython3",
   "version": "3.10.12"
  }
 },
 "nbformat": 4,
 "nbformat_minor": 5
}
