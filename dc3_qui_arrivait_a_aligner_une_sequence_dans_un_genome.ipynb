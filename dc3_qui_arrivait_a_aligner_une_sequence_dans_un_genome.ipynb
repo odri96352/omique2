{
 "cells": [
  {
   "cell_type": "markdown",
   "id": "b5e82a2c",
   "metadata": {},
   "source": [
    "## Développement d’une solution de mapping de données de séquençage à haut-débit sur un génome de référence"
   ]
  },
  {
   "cell_type": "markdown",
   "id": "9ba5f51b",
   "metadata": {},
   "source": [
    "#### Mise en place d'un algorithme permettant de chercher un mot de longueur fixe dans un texte"
   ]
  },
  {
   "cell_type": "markdown",
   "id": "e0a91cb8",
   "metadata": {},
   "source": [
    "#### Plan du notebook:\n",
    "1/ Prise en main de Biopython  \n",
    "2/ Implémentation d'un algorithme \"Difference Cover size 3\" pour construire une table de suffixe à partir d'un génome en un temps linéaire  \n",
    "3/ Recherche d'un mot dans un texte grâce à la transformée de Burrows-Wheeler"
   ]
  },
  {
   "cell_type": "markdown",
   "id": "fe6f1e10",
   "metadata": {},
   "source": [
    "### 1/ Biopython"
   ]
  },
  {
   "cell_type": "code",
   "execution_count": 1,
   "id": "63868023",
   "metadata": {},
   "outputs": [],
   "source": [
    "from Bio import SeqIO"
   ]
  },
  {
   "cell_type": "code",
   "execution_count": 2,
   "id": "9b1dd531",
   "metadata": {},
   "outputs": [],
   "source": [
    "path_to_genome_file=\"/home/azarkua/Documents/2023-2024/omiques2/developement/omique2/genome.fna\"\n",
    "path_to_reads_file=\"/home/azarkua/Documents/2023-2024/omiques2/developement/omique2/reads.fq\""
   ]
  },
  {
   "cell_type": "raw",
   "id": "4f0c8239",
   "metadata": {},
   "source": [
    "path_to_genome_file=\"/home/mvernier/Documents/2023-2024/omique2/projet/GCF_000002765.5_GCA_000002765_genomic.fna\"\n",
    "path_to_reads_file=\"/home/mvernier/Documents/2023-2024/omique2/projet/single_Pfal_dat.fq\""
   ]
  },
  {
   "cell_type": "code",
   "execution_count": 3,
   "id": "ef73a1e6",
   "metadata": {},
   "outputs": [],
   "source": [
    "genome=[]\n",
    "nucleotide_genome=0\n",
    "for seq_record in SeqIO.parse(path_to_genome_file, \"fasta\"):\n",
    "    genome.append(seq_record)\n",
    "    nucleotide_genome+=len(seq_record.seq)"
   ]
  },
  {
   "cell_type": "code",
   "execution_count": 4,
   "id": "aef5a3e9",
   "metadata": {},
   "outputs": [
    {
     "name": "stdout",
     "output_type": "stream",
     "text": [
      "Informations contenues dans un élément de 'genome'.\n",
      "ID: NC_004325.2\n",
      "Name: NC_004325.2\n",
      "Description: NC_004325.2 Plasmodium falciparum 3D7 genome assembly, chromosome: 1\n",
      "Number of features: 0\n",
      "Seq('TGAACCCTaaaacctaaaccctaaaccctaaaccctgaaccctaaaccctgaac...agg')\n"
     ]
    }
   ],
   "source": [
    "print(\"Informations contenues dans un élément de 'genome'.\")\n",
    "print(genome[0])"
   ]
  },
  {
   "cell_type": "code",
   "execution_count": 5,
   "id": "b2880ec2",
   "metadata": {},
   "outputs": [
    {
     "name": "stdout",
     "output_type": "stream",
     "text": [
      "Notre génome contient 15 séquences (14 chromosomes et 1 plasmide) et est constitué de 23326872 nucléotides.\n"
     ]
    }
   ],
   "source": [
    "print(\"Notre génome contient \"+str(len(genome))+\" séquences (\"+ str(len(genome)-1) +\" chromosomes et 1 plasmide) et est constitué de \"+str(nucleotide_genome)+\" nucléotides.\")"
   ]
  },
  {
   "cell_type": "code",
   "execution_count": 6,
   "id": "92d6fa3e",
   "metadata": {},
   "outputs": [
    {
     "name": "stdout",
     "output_type": "stream",
     "text": [
      "[SeqRecord(seq=Seq('TTTCCTTTTTAAGCGTTTTATTTTTTAATAAAAAAAATATAGTATTATATAGTA...TAA'), id='NC_004325.2-100000', name='NC_004325.2-100000', description='NC_004325.2-100000', dbxrefs=[])]\n"
     ]
    }
   ],
   "source": [
    "reads=[]\n",
    "nucleotide_reads=0\n",
    "for seq_record in SeqIO.parse(path_to_reads_file, \"fastq\"):\n",
    "    reads.append(seq_record)\n",
    "    nucleotide_reads+=len(seq_record.seq)\n",
    "    #if len(seq_record.seq)!= 100:\n",
    "    #    print(\"False\")\n",
    "print(reads[:1])"
   ]
  },
  {
   "cell_type": "code",
   "execution_count": 7,
   "id": "8950178e",
   "metadata": {},
   "outputs": [
    {
     "name": "stdout",
     "output_type": "stream",
     "text": [
      "Informations contenues dans un élément de 'reads'.\n",
      "ID: NC_004325.2-99990\n",
      "Name: NC_004325.2-99990\n",
      "Description: NC_004325.2-99990\n",
      "Number of features: 0\n",
      "Per letter annotation for: phred_quality\n",
      "Seq('TCTTTTAACATACCTAAGAAGGAATACATTTTACACTTTACCTATTATTTATTC...ATA')\n"
     ]
    }
   ],
   "source": [
    "print(\"Informations contenues dans un élément de 'reads'.\")\n",
    "print(reads[10])"
   ]
  },
  {
   "cell_type": "code",
   "execution_count": 8,
   "id": "daf7f246",
   "metadata": {},
   "outputs": [
    {
     "name": "stdout",
     "output_type": "stream",
     "text": [
      "Nous avons 1500000 reads qui contiennent 150000000 nucléotides.\n",
      "Chaque read a une longueur de 100 nucléotide.\n"
     ]
    }
   ],
   "source": [
    "print(\"Nous avons \"+str(len(reads))+\" reads qui contiennent \"+str(nucleotide_reads)+\" nucléotides.\")\n",
    "print(\"Chaque read a une longueur de \"+str(int(nucleotide_reads/len(reads)))+\" nucléotide.\")"
   ]
  },
  {
   "cell_type": "markdown",
   "id": "51210559",
   "metadata": {},
   "source": [
    "### 2/ DC3\n",
    "#### Première étape de DC3: division des positions de notre génome, tri des positions"
   ]
  },
  {
   "cell_type": "code",
   "execution_count": 9,
   "id": "bf52a3d6",
   "metadata": {},
   "outputs": [],
   "source": [
    "import time"
   ]
  },
  {
   "cell_type": "code",
   "execution_count": 10,
   "id": "7166cabb",
   "metadata": {},
   "outputs": [],
   "source": [
    "def asciiDC3 (seq) : \n",
    "    \"\"\"\n",
    "    Create sequence of ascii equivalent of each element of given list parameter.\n",
    "    Add three sentinel numbers necessary for DC3 algorithm.\n",
    "    \n",
    "    Args:\n",
    "        seq (list of str): list of elements to transform\n",
    "    \n",
    "    Return:\n",
    "        (list of int)\n",
    "    \"\"\"\n",
    "    asc=[]\n",
    "    for i in seq : \n",
    "        asc.append(ord(i))\n",
    "    \n",
    "    return asc+[0,0,0]"
   ]
  },
  {
   "cell_type": "markdown",
   "id": "13dc9fd0",
   "metadata": {},
   "source": [
    "##### Complexité:\n",
    "Parcourir la séquence 1 fois implique, que asciiDC3 a une compléxité $O(n)$"
   ]
  },
  {
   "cell_type": "code",
   "execution_count": 11,
   "id": "c807cbc7",
   "metadata": {},
   "outputs": [],
   "source": [
    "def position1_2 (asc):\n",
    "    \"\"\"\n",
    "    Create list of positions not multiple of 3\n",
    "    \n",
    "    Args:\n",
    "        asc (list of int): sequence we want to extract a suffix array from\n",
    "    \n",
    "    Return:\n",
    "         ind1+ind2 (list of int): list of positions not multiple of 3\n",
    "    \"\"\"\n",
    "    ind1=[]\n",
    "    ind2=[]\n",
    "    for k in range(len(asc)-2):\n",
    "        #attention on a peut etre fait de la merde ici, pas sure du -2\n",
    "        if k%3==1 :\n",
    "            ind1.append(k)\n",
    "        if k%3==2:\n",
    "            ind2.append(k)\n",
    "    # dans le cas où T a un nombre d'élément multiple de 3, r12 ne contiendra pas le triplet [0,0,0].\n",
    "    # Or, la fonction, \"removesentinel\" retire 1 élément notre suffix table, pour justement se débarrasser de [0,0,0]\n",
    "    # J'ai donc décider de rajouter artificiellement [0,0,0] dans les cas où il n'est pas déjà là.\n",
    "    if len(asc)%3==0:\n",
    "        ind1.append(len(asc)-1-2)\n",
    "        \n",
    "    return ind1+ind2"
   ]
  },
  {
   "cell_type": "markdown",
   "id": "1277ec13",
   "metadata": {},
   "source": [
    "##### Complexité:\n",
    "Parcourir la séquence 1 fois implique, que position1_2 a une compléxité $O(n)$"
   ]
  },
  {
   "cell_type": "code",
   "execution_count": 12,
   "id": "983e5cfc",
   "metadata": {},
   "outputs": [],
   "source": [
    "def radix_with_p12(p,t):\n",
    "    \"\"\"\n",
    "    Creates a list of couples containing:\n",
    "    - sequences of three elements from \"t\" staring from positions in parameter \"p\"\n",
    "    - the position p\n",
    "    \n",
    "    Args : \n",
    "        p (list of int): list of positions not multiple of 3 \n",
    "        t (list of int): sequence we want to extract a suffix array from\n",
    "    \n",
    "    Return : \n",
    "        r (list of list): list of triplets and their starting positions\n",
    "    \n",
    "    \"\"\"\n",
    "    r=[]\n",
    "    for i in range(len(p)):\n",
    "        index=p[i]\n",
    "        r.append([[t[index],t[index+1], t[index+2]],index])\n",
    "    return r"
   ]
  },
  {
   "cell_type": "markdown",
   "id": "a021a4e8",
   "metadata": {},
   "source": [
    "##### Complexité:\n",
    "Parcourir la séquence 1 fois implique, que radix_with_p12 a une compléxité $O(n)$"
   ]
  },
  {
   "cell_type": "code",
   "execution_count": 13,
   "id": "862523e6",
   "metadata": {},
   "outputs": [],
   "source": [
    "def sort_with_p12(array, alphabet, column_number):\n",
    "    \"\"\"\n",
    "    Sorts parameter \"array\" using Radix Sort\n",
    "    \n",
    "    Args:\n",
    "        array (list of list): list of triplets and their positions.\n",
    "        \n",
    "        alphabet (dictionnary): alphabet of our array. Ouput of function \"alphabetT\" or \"alphabetR0_with_p12\"\n",
    "        \n",
    "        columnNumber (int): number of last column of the lists in our paramater \"array\". \n",
    "                                    for r12, columnNumber=2\n",
    "                                    for r0, columnNumber=1\n",
    "    \n",
    "    Return:\n",
    "        array (list of list) : sorted list of triplets and their positions\n",
    "\n",
    "    \"\"\"\n",
    "    if len(array) == 0:\n",
    "        return array\n",
    "    # Perform counting sort on each column, starting at the last\n",
    "\n",
    "    column = column_number\n",
    "    while column>=0: \n",
    "        array = counting_sort_by_digit_with_p12(array, alphabet, column)\n",
    "        column-=1 #Switches column in array\n",
    "\n",
    "    return array\n",
    "\n",
    "def counting_sort_by_digit_with_p12(array, alphabet, column):\n",
    "    \"\"\"\n",
    "    Sorts parameter \"array\" using Counting Sort\n",
    "    \n",
    "    Args:\n",
    "        array (list of list): list of triplets and their positions.\n",
    "        \n",
    "        alphabet (dictionnary): alphabet of our array.O uput of function \"alphabetT\" or \"alphabetR0_with_p12\"\n",
    "        \n",
    "        columnNumber (int): number of last column of the lists in our paramater \"array\". \n",
    "                                    for r12, columnNumber=2\n",
    "                                    for r0, columnNumber=1\n",
    "    \n",
    "    Return:\n",
    "        array (list of list) : sorted list of triplets and their positions according to column number \"column\"\n",
    "\n",
    "    \"\"\"\n",
    "    count_index = -1\n",
    "    count = [0] * len(alphabet)\n",
    "    output = [None] * len(array)\n",
    "\n",
    "  # Count frequencies\n",
    "    for i in range(0, len(array)):\n",
    "        count_index = alphabet[array[i][0][column]]\n",
    "        count[count_index] += 1\n",
    "\n",
    "  # Compute cumulates\n",
    "    for i in range(1, len(alphabet)):\n",
    "        count[i] += count[i - 1]\n",
    "\n",
    "  # Move records\n",
    "    for i in range(len(array) - 1, -1, -1):\n",
    "        count_index = alphabet[array[i][0][column]]\n",
    "        count[count_index] -= 1\n",
    "        output[count[count_index]] = array[i]\n",
    "       \n",
    "    return output"
   ]
  },
  {
   "cell_type": "markdown",
   "id": "1339537d",
   "metadata": {},
   "source": [
    "##### Complexité:\n",
    "\"sort\" a la même complexité que \"CountingSortByDigit\", qui ,lui, a une complexité linéaire."
   ]
  },
  {
   "cell_type": "code",
   "execution_count": 14,
   "id": "b13f245e",
   "metadata": {},
   "outputs": [],
   "source": [
    "def triplets_are_equal(a,b):\n",
    "    \"\"\"\n",
    "    Checks if a and b have the same elements.\n",
    "    \n",
    "    Args:\n",
    "        a (list of int) \n",
    "        \n",
    "        b (list of int)\n",
    "\n",
    "    Return:\n",
    "        (bool): True if the triplets are equal, False if not\n",
    "\n",
    "    \"\"\"\n",
    "    for i in range(len(a)):\n",
    "        if a[i]!=b[i]:\n",
    "            return False\n",
    "    return True\n",
    "\n",
    "\n",
    "def ordre_with_p12(r12_p12_sorted, use_index_12=False):\n",
    "    \"\"\"\n",
    "    Returns the order of each element of parameter \"R12p12sorted\".\n",
    "    If use_index_12 is set to \"True\", it also returns a dictionnary, with the position of the triplet\n",
    "    as a key, and its order as element.\n",
    "    \n",
    "    Example: \n",
    "        ordre_with_p12([ [ [0,0,0],1], [ [0,0,0],4], [ [0,0,1],7])=[1,1,2]\n",
    "        \n",
    "        ordre_with_p12([ [ [0,0,0],1], [ [0,0,0],4], [ [0,0,1],7], use_index_12=True)= [ [1,1,2], {1:1,4:1,7:2} ]\n",
    "    \n",
    "    args : \n",
    "        r12_p12_sorted (list) : list of triplets with their position in the sequence, ordered \n",
    "        \n",
    "        use_index_12 (boolean) : True if you want a dictionnary back\n",
    "        \n",
    "    return : \n",
    "        if use_index_12=True : \n",
    "            order (list of int) :  order of each element of parameter \"r12_p12_sorted\"\n",
    "            \n",
    "            repetition (boolean) : If two triplets have the same ordre, \"repetition\"=True\n",
    "            \n",
    "            indexdict (dictionary) :keys are the positions p12 and elements are the order of the positions \n",
    "        \n",
    "        if use_index_12=False : \n",
    "            order (list of int): order of each element of parameter \"r12_p12_sorted\"\n",
    "    \"\"\"\n",
    "    # nous renovie la liste order du genre (1,2,2,3,4,4,5)  et un booléen indiquant s'il y a répétition\n",
    "    index=1\n",
    "    repetition=False\n",
    "    order=[1]\n",
    "    \n",
    "    if use_index_12:\n",
    "        index_dict={r12_p12_sorted[0][1]:1}\n",
    "        \n",
    "    for i in range(1, len(r12_p12_sorted)): \n",
    "        if triplets_are_equal(r12_p12_sorted[i-1][0], r12_p12_sorted[i][0]):\n",
    "            order.append(index)\n",
    "            repetition=True\n",
    "        else : \n",
    "            index+=1\n",
    "            order.append(index)\n",
    "            \n",
    "        if use_index_12:\n",
    "            index_dict[r12_p12_sorted[i][1]]=order[i]\n",
    "    if use_index_12:\n",
    "        return order, repetition, index_dict\n",
    "    else: \n",
    "        return order\n",
    "            "
   ]
  },
  {
   "cell_type": "markdown",
   "id": "6c90f10e",
   "metadata": {},
   "source": [
    "##### Complexité:\n",
    "triplets_are_equal a une complexité de $O(1)$ donc ordre_with_p12 a une complexité de $O(n)$ à cause la boucle for. "
   ]
  },
  {
   "cell_type": "code",
   "execution_count": 15,
   "id": "992507a1",
   "metadata": {},
   "outputs": [],
   "source": [
    "def alphabetT(T):\n",
    "    \"\"\"\n",
    "    Returns a dictionnary with the order of each \"letter\" constituting the parameter T.\n",
    "    \n",
    "    Example: \n",
    "        alphabetT([4,9,14,67])={4:0, 9:1, 14:2, 67:3}\n",
    "    \n",
    "    Args:\n",
    "        T (list of int): the sequence we want a suffix array from\n",
    "    \n",
    "    Return:\n",
    "        dic (dictionnary) : order of each \"letter\" constituting the parameter T\n",
    "\n",
    "    \"\"\"\n",
    "\n",
    "    dic={}\n",
    "    a=[]\n",
    "    for i in range(len(T)):\n",
    "        a.append(T[i])\n",
    "    a.sort() \n",
    "    \n",
    "    for element in a:\n",
    "        if not (element in dic):\n",
    "            dic[element]=len(dic)\n",
    "    return dic"
   ]
  },
  {
   "cell_type": "code",
   "execution_count": 16,
   "id": "51c44263",
   "metadata": {},
   "outputs": [],
   "source": [
    "def alphabet_r0_with_p12(r0_p0):\n",
    "    \"\"\"\n",
    "    Returns a dictionnary with the order of each \"letter\" constituting the parameter r0_p0.\n",
    "    Similar to the function alphabetT, coded specifically for the output of function position0_R0_p0\n",
    "    \n",
    "    Example: \n",
    "        alphabet_r0_with_p12([[[65, 14], 0], [[67, 11], 3]]) = {11: 0, 14: 1, 65: 2, 67: 3}\n",
    "    \n",
    "    Args:\n",
    "        r0_p0 (list of list): list of couples and their position in the sequence we want a suffix array from.\n",
    "                             output of function position0_R0_p0\n",
    "                             [ [couple], position multiple of 3]\n",
    "    \n",
    "    Return:\n",
    "        dic (dictionnary) : order of each \"letter\" constituting the parameter r0_p0\n",
    "\n",
    "    \"\"\"\n",
    "    \n",
    "    dic={}\n",
    "    a=[]\n",
    "    for column in range(2):\n",
    "        for i in range(len(r0_p0)):\n",
    "            a.append(r0_p0[i][0][column])\n",
    "    a.sort() \n",
    "    \n",
    "    for element in a:\n",
    "        if not (element in dic):\n",
    "            dic[element]=len(dic)\n",
    "    return dic"
   ]
  },
  {
   "cell_type": "markdown",
   "id": "374adf16",
   "metadata": {},
   "source": [
    "##### Complexité:\n",
    "alphabetT a une complexité de $O(n)$ car la fonction parcourt toute la séquence une fois. Il en est de même pour alphabetR0_with_p12, car la seconde boucle for n'est que de taille 2. "
   ]
  },
  {
   "cell_type": "markdown",
   "id": "a2237070",
   "metadata": {},
   "source": [
    "#### Deuxième étape de DC3: utilisation des premières positions triées pour construire second groupe de positions"
   ]
  },
  {
   "cell_type": "code",
   "execution_count": 17,
   "id": "a616f4b5",
   "metadata": {},
   "outputs": [],
   "source": [
    "def Tprime_with_p12(p12, index_dict):\n",
    "    \"\"\"\n",
    "    Return a list of the order of each element of p12.\n",
    "    The list will be the new sequence from which we want to extract a suffix array.\n",
    "    \n",
    "    Args : \n",
    "        p12 (list of int) : positions not multiple of 3\n",
    "        \n",
    "        index_dict (dictionnary) : keys are the positions p12 and elements are the order of the positions \n",
    "        \n",
    "    Return :\n",
    "        t(list of int): order of each element of p12\n",
    "    \"\"\"\n",
    "    t=[]\n",
    "    for p in p12:\n",
    "        t.append(index_dict[p])\n",
    "    return t"
   ]
  },
  {
   "cell_type": "markdown",
   "id": "301ce172",
   "metadata": {},
   "source": [
    "##### Complexité:\n",
    "Parcourir la liste des positions p12 une fois implique que Tprime_with_p12 a une compléxité $O(n)$"
   ]
  },
  {
   "cell_type": "code",
   "execution_count": 18,
   "id": "679e86bf",
   "metadata": {},
   "outputs": [],
   "source": [
    "def position0_R0_p0(T, index_12_dict):\n",
    "    \"\"\"\n",
    "    Returns:\n",
    "    -list of positions multiples of 3\n",
    "    -list of lists, composed of: 1/ [element at position multiple of 3, order of the element at next position]\n",
    "                                2/ position multiple of 3\n",
    "    Args : \n",
    "        T (list of int) : sequence for which we are looking to extract the suffix array. \n",
    "                        It must contain the three sentinel numbers\n",
    "        \n",
    "        index_12_dict (dictionary) : dictionary which contains the positions of p12 as key and their order as elements\n",
    "        \n",
    "    Return :\n",
    "        position (list): all positions multiple of 3\n",
    "        \n",
    "        R (list of list): lists each position with the elements at the next position\n",
    "\n",
    "    \"\"\"\n",
    "    position=[]\n",
    "    R=[]\n",
    "    for i in range(len(T)-3): \n",
    "        if i%3==0:\n",
    "            position.append(i)\n",
    "            if i+1<len(T)-3:\n",
    "                R.append([[T[i],index_12_dict[i+1]],position[-1]])\n",
    "            else:\n",
    "                R.append([[T[i],1],position[-1]]) \n",
    "    return position, R"
   ]
  },
  {
   "cell_type": "markdown",
   "id": "84b828f3",
   "metadata": {},
   "source": [
    "##### Complexité:\n",
    "Parcourir notre séquence initiale 1 fois implique que position0_R0_p0 a une compléxité $O(n)$. La tache \"chercher le rang de la position suivante\" a une complexité de $O(1)$ car on cherche une clé dans un dictionnaire"
   ]
  },
  {
   "cell_type": "markdown",
   "id": "c75ddd35",
   "metadata": {},
   "source": [
    "#### Troisième étape de DC3: combiner les positions triées pour trouver le suffix array."
   ]
  },
  {
   "cell_type": "code",
   "execution_count": 19,
   "id": "83cfeabf",
   "metadata": {},
   "outputs": [],
   "source": [
    "def merge_with_p12(Tfinal, r0_p0_sorted, index_12_dict) :\n",
    "    \"\"\"\n",
    "    Constructs a list of the positions in the right order to construct the suffix table of parameter \"Tfinale\"\n",
    "    \n",
    "    Args : \n",
    "        Tfinal(list of int) : sequence for which we want to create a suffix table \n",
    "        \n",
    "        r0_p0_sorted(list of list) : sorted output of positionR0P0 \n",
    "        \n",
    "        index_12_dict(dictionary):  dictionary which contains the positions of p12 as key and their order as elements\n",
    "    \n",
    "    Return : \n",
    "        liste (list of int) : positions in the right order to construct the suffix table \n",
    "    \"\"\"\n",
    "\n",
    "    index_12_dict_keys=list(index_12_dict.keys())\n",
    "    liste=[]\n",
    "    A=0\n",
    "    B=0\n",
    "    while A<len(r0_p0_sorted) and B<len(index_12_dict_keys):\n",
    "        a=r0_p0_sorted[A][1]\n",
    "        b=index_12_dict_keys[B]\n",
    "        if Tfinal[a]!=Tfinal[b] :\n",
    "            minimum=min(Tfinal[a], Tfinal[b])\n",
    "            \n",
    "            if minimum == Tfinal[a]:\n",
    "                A+=1\n",
    "                liste.append(a)\n",
    "            else: \n",
    "                B+=1\n",
    "                liste.append(b)\n",
    "\n",
    "        else :\n",
    "            if b%3==1 : \n",
    "                longueur=len(liste)\n",
    "                i=0\n",
    "                if index_12_dict[a+1]<index_12_dict[b+1]:\n",
    "                    liste.append(a)\n",
    "                    A+=1\n",
    "                else:\n",
    "                    liste.append(b)\n",
    "                \n",
    "                    B+=1\n",
    "                    \n",
    "                    \n",
    "            elif b%3==2 :\n",
    "            \n",
    "                if Tfinal[a+1]!=Tfinal[b+1] :\n",
    "                   \n",
    "                    minimum=min(Tfinal[a+1], Tfinal[b+1])\n",
    "                    if minimum == Tfinal[a+1]:\n",
    "                        A+=1\n",
    "                    \n",
    "                        liste.append(a)\n",
    "                    else: \n",
    "                        B+=1\n",
    "                        \n",
    "                        liste.append(b)\n",
    "\n",
    "                else:\n",
    "                  \n",
    "                    if index_12_dict[a+2]<index_12_dict[b+2]:\n",
    "                        liste.append(a)\n",
    "                        A+=1\n",
    "                    else:\n",
    "                        liste.append(b)\n",
    "                        B+=1\n",
    "                        \n",
    "\n",
    "    if A==len(r0_p0_sorted):\n",
    "\n",
    "        for i in range(B,len(index_12_dict_keys)):\n",
    "            liste.append(index_12_dict_keys[i])\n",
    "                \n",
    "    if B==len(index_12_dict_keys):\n",
    "\n",
    "        for i in range(A, len(r0_p0_sorted)):\n",
    "            liste.append(r0_p0_sorted[i][1])\n",
    "\n",
    "    return liste"
   ]
  },
  {
   "cell_type": "markdown",
   "id": "235324b1",
   "metadata": {},
   "source": [
    "##### Complexité:\n",
    "La boucle while suivit de n'importe quelle des deux boucles for ne parcourt que n éléments. Les boucles ne sont pas imbriquées les unes dans les autres, et dans la boucle while, seules des opérations de complexité $O(1)$ prennent place.\n",
    "Donc merge_with_p12 a une complexité de $O(n)$."
   ]
  },
  {
   "cell_type": "code",
   "execution_count": 20,
   "id": "5357493c",
   "metadata": {},
   "outputs": [],
   "source": [
    "def remove_sentinel(index):\n",
    "    \"\"\"\n",
    "    Return our suffix array without the position of the three sentinels numbers\n",
    "    \n",
    "    Args : \n",
    "        index (list of int) : list of indexes \n",
    "        \n",
    "    Return :\n",
    "        index[1:](list of int) : list of indexes without the sentinels\n",
    "    \n",
    "    \"\"\"\n",
    "    return index[1:]"
   ]
  },
  {
   "cell_type": "markdown",
   "id": "d679e6c1",
   "metadata": {},
   "source": [
    "##### Complexité\n",
    "removesentinel a une complexité temporelle de $0(1)$."
   ]
  },
  {
   "cell_type": "code",
   "execution_count": 21,
   "id": "cf1426fb",
   "metadata": {},
   "outputs": [],
   "source": [
    "def resumeHigherOrder_with_p12(index_012_prime, P12):\n",
    "    \"\"\"\n",
    "    Returns a dictionnary with positions not multiple of 3 \"P12\" as key, and their order with \n",
    "    the positions of the suffix array \"index012prime\" as elements.\n",
    "    \n",
    "    Args : \n",
    "        index012prime (list of int) : suffix array of the positions not multiple of 3\n",
    "        \n",
    "        P12 (list of int) : positions not multiple of 3\n",
    "    \n",
    "    Return : \n",
    "        output (dictionnary) : positions not multiple of 3 \"P12\" as key, and their order with the positions of the suffix array \"index012prime\" as elements.\n",
    "    \"\"\"\n",
    "    output={}\n",
    "    for i in range(len(index_012_prime)):\n",
    "        output[P12[index_012_prime[i]]]=i\n",
    "        \n",
    "    return output"
   ]
  },
  {
   "cell_type": "markdown",
   "id": "337a7274",
   "metadata": {},
   "source": [
    "#### Dernière étape de DC3: assemblage final de la récursion."
   ]
  },
  {
   "cell_type": "code",
   "execution_count": 22,
   "id": "c6a79b12",
   "metadata": {},
   "outputs": [],
   "source": [
    "def almost_dc3_with_p12(T):\n",
    "    \"\"\"\n",
    "    Return the suffix array of the sequence T\n",
    "    \n",
    "    Args : \n",
    "        T (list of int) : list of int corresponding to the ascii code of the initial sequence\n",
    "        \n",
    "    Return : \n",
    "        index_012 (list of int) : positions in order to construct the suffix array of T\n",
    "    \"\"\"\n",
    "    \n",
    "    column_number=2\n",
    "    p12=position1_2(T)\n",
    "    r12=radix_with_p12(p12,T)\n",
    "    alphabet_T=alphabetT(T)\n",
    "    r12_sorted=sort_with_p12(r12, alphabet_T, column_number)    \n",
    "    order12,repetition, index_12_dict=ordre_with_p12(r12_sorted, True)\n",
    "    if repetition:\n",
    "        Tprim=Tprime_with_p12(p12, index_12_dict)+[0,0,0]\n",
    "        index_012=almost_dc3_with_p12(Tprim)\n",
    "        index_12_dict=resumeHigherOrder_with_p12(index_012, p12)\n",
    "    p0,r0_p0=position0_R0_p0(T, index_12_dict)\n",
    "    alphabet_r0=alphabet_r0_with_p12(r0_p0)\n",
    "    r0_sorted=sort_with_p12(r0_p0,alphabet_r0 ,column_number-1)\n",
    "    index_012=remove_sentinel(merge_with_p12(T, r0_sorted, index_12_dict))\n",
    "    \n",
    "    return index_012\n",
    "   \n",
    "    \n",
    "    "
   ]
  },
  {
   "cell_type": "markdown",
   "id": "700190ab",
   "metadata": {},
   "source": [
    "##### Complexité\n",
    "almost_dc3_with_p12 est une fonction récursive dont chaque sous fonction a une complexité au pire linéaire.\n",
    "Elle est donc de complexité $0(n)$"
   ]
  },
  {
   "cell_type": "markdown",
   "id": "1a1b29c2",
   "metadata": {},
   "source": [
    "##### Testons le code avec l'exemple du cours"
   ]
  },
  {
   "cell_type": "code",
   "execution_count": 23,
   "id": "56a19fcd",
   "metadata": {},
   "outputs": [
    {
     "name": "stdout",
     "output_type": "stream",
     "text": [
      "[8, 0, 3, 6, 9, 1, 4, 7, 2, 5]\n",
      "La fonction pour trouver le suffix array de S a pris 0.00012874603271484375 secondes.\n"
     ]
    }
   ],
   "source": [
    "S=\"abcabcacab\"\n",
    "start=time.time()\n",
    "T=almost_dc3_with_p12(asciiDC3(S))\n",
    "end=time.time()\n",
    "column_number=2\n",
    "print(T)\n",
    "print(\"La fonction pour trouver le suffix array de S a pris \"+str(end-start)+\" secondes.\")"
   ]
  },
  {
   "cell_type": "markdown",
   "id": "4eaf1a2c",
   "metadata": {},
   "source": [
    "##### Testons le code avec le génome"
   ]
  },
  {
   "cell_type": "markdown",
   "id": "d589cce0",
   "metadata": {},
   "source": [
    "Suffix table du premier chromosome"
   ]
  },
  {
   "cell_type": "code",
   "execution_count": 24,
   "id": "e2b39d26",
   "metadata": {},
   "outputs": [
    {
     "name": "stdout",
     "output_type": "stream",
     "text": [
      "Pour le premier chromosome, il nous faut 13.901411294937134 secondes pour calculer sa suffix table.\n",
      "Le premier chromosome a une taille de 640851 nucléotides.\n"
     ]
    }
   ],
   "source": [
    "start=time.time()\n",
    "suffix_array=almost_dc3_with_p12(asciiDC3(genome[0].seq.upper()))\n",
    "end=time.time()\n",
    "print(\"Pour le premier chromosome, il nous faut \"+str(end-start)+\" secondes pour calculer sa suffix table.\")\n",
    "print(\"Le premier chromosome a une taille de \"+str(len(genome[0].seq.upper()))+\" nucléotides.\")"
   ]
  },
  {
   "cell_type": "markdown",
   "id": "bb10b263",
   "metadata": {},
   "source": [
    "Mesurons le temps que prend chaque sous fonction de notre algorithme DC3 grâce à la bibliothèque cProfile."
   ]
  },
  {
   "cell_type": "code",
   "execution_count": 25,
   "id": "a9e9e985",
   "metadata": {},
   "outputs": [],
   "source": [
    "import pstats\n",
    "import cProfile"
   ]
  },
  {
   "cell_type": "code",
   "execution_count": 26,
   "id": "a111f300",
   "metadata": {},
   "outputs": [
    {
     "name": "stdout",
     "output_type": "stream",
     "text": [
      "Wed Nov  8 10:56:49 2023    dc3_stats\n",
      "\n",
      "         21257125 function calls (21257119 primitive calls) in 20.014 seconds\n",
      "\n",
      "   Ordered by: cumulative time\n",
      "\n",
      "   ncalls  tottime  percall  cumtime  percall filename:lineno(function)\n",
      "        1    0.000    0.000   20.014   20.014 {built-in method builtins.exec}\n",
      "        1    0.351    0.351   20.014   20.014 <string>:1(<module>)\n",
      "      7/1    0.752    0.107   19.482   19.482 /tmp/ipykernel_19042/3977718216.py:1(almost_dc3_with_p12)\n",
      "       14    0.099    0.007    5.661    0.404 /tmp/ipykernel_19042/2430097404.py:1(sort_with_p12)\n",
      "       35    5.562    0.159    5.562    0.159 /tmp/ipykernel_19042/2430097404.py:29(counting_sort_by_digit_with_p12)\n",
      "        7    2.876    0.411    2.967    0.424 /tmp/ipykernel_19042/3017114688.py:1(position0_R0_p0)\n",
      "        7    2.460    0.351    2.880    0.411 /tmp/ipykernel_19042/3105641319.py:1(merge_with_p12)\n",
      "        7    2.705    0.386    2.761    0.394 /tmp/ipykernel_19042/762813728.py:1(radix_with_p12)\n",
      "        7    1.087    0.155    1.827    0.261 /tmp/ipykernel_19042/2535467419.py:20(ordre_with_p12)\n",
      "        7    0.468    0.067    0.753    0.108 /tmp/ipykernel_19042/2356060223.py:1(alphabet_r0_with_p12)\n",
      "        7    0.427    0.061    0.735    0.105 /tmp/ipykernel_19042/3536684344.py:1(alphabetT)\n",
      "  1206689    0.616    0.000    0.677    0.000 /tmp/ipykernel_19042/2535467419.py:1(triplets_are_equal)\n",
      " 11463619    0.543    0.000    0.543    0.000 {method 'append' of 'list' objects}\n",
      "  7301050    0.414    0.000    0.414    0.000 {built-in method builtins.len}\n",
      "        6    0.397    0.066    0.397    0.066 /tmp/ipykernel_19042/638367126.py:1(resumeHigherOrder_with_p12)\n",
      "        7    0.342    0.049    0.396    0.057 /tmp/ipykernel_19042/3476465919.py:1(position1_2)\n",
      "       14    0.369    0.026    0.369    0.026 {method 'sort' of 'list' objects}\n",
      "        6    0.279    0.047    0.331    0.055 /tmp/ipykernel_19042/3446150077.py:1(Tprime_with_p12)\n",
      "        1    0.124    0.124    0.180    0.180 /tmp/ipykernel_19042/4151255859.py:1(asciiDC3)\n",
      "   644760    0.091    0.000    0.091    0.000 {built-in method builtins.min}\n",
      "   640851    0.029    0.000    0.029    0.000 {built-in method builtins.ord}\n",
      "        7    0.022    0.003    0.022    0.003 /tmp/ipykernel_19042/3663174410.py:1(remove_sentinel)\n",
      "        1    0.000    0.000    0.000    0.000 /home/azarkua/.local/lib/python3.10/site-packages/Bio/Seq.py:1233(upper)\n",
      "        1    0.000    0.000    0.000    0.000 {method 'upper' of 'bytes' objects}\n",
      "        1    0.000    0.000    0.000    0.000 /home/azarkua/.local/lib/python3.10/site-packages/Bio/Seq.py:466(__iter__)\n",
      "        1    0.000    0.000    0.000    0.000 {method 'decode' of 'bytes' objects}\n",
      "        7    0.000    0.000    0.000    0.000 {method 'keys' of 'dict' objects}\n",
      "        1    0.000    0.000    0.000    0.000 /home/azarkua/.local/lib/python3.10/site-packages/Bio/Seq.py:1961(__init__)\n",
      "        1    0.000    0.000    0.000    0.000 {method 'disable' of '_lsprof.Profiler' objects}\n",
      "        1    0.000    0.000    0.000    0.000 /home/azarkua/.local/lib/python3.10/site-packages/Bio/SeqRecord.py:334(<lambda>)\n",
      "        1    0.000    0.000    0.000    0.000 {built-in method builtins.isinstance}\n",
      "\n",
      "\n"
     ]
    },
    {
     "data": {
      "text/plain": [
       "<pstats.Stats at 0x7f47cc2db040>"
      ]
     },
     "execution_count": 26,
     "metadata": {},
     "output_type": "execute_result"
    }
   ],
   "source": [
    "cProfile.run(\"almost_dc3_with_p12(asciiDC3(genome[0].seq.upper()))\", \"dc3_stats\")\n",
    "p = pstats.Stats(\"dc3_stats\")\n",
    "p.sort_stats(\"cumulative\").print_stats()"
   ]
  },
  {
   "cell_type": "markdown",
   "id": "316d6bac",
   "metadata": {},
   "source": [
    "On constate que les fonctions les plus consommatrices en temps, sont les fonctions de tri, et le fonctions initiales de séparation des positions."
   ]
  },
  {
   "cell_type": "markdown",
   "id": "fbc43e49",
   "metadata": {},
   "source": [
    "### Transformée de Burrow-Wheeler"
   ]
  },
  {
   "cell_type": "code",
   "execution_count": 27,
   "id": "ee199ee7",
   "metadata": {},
   "outputs": [],
   "source": [
    "def BWT_suffix_table(T,end_of_string=False):\n",
    "    \"\"\"\n",
    "    Compute the BWT from the suffix table\n",
    "    \n",
    "    Args:\n",
    "        T (str): string\n",
    "        end_of_string (char): end of string character to append\n",
    "    \n",
    "    Return:\n",
    "        bwt (str): BWT\n",
    "    \"\"\"\n",
    "    if end_of_string==False:\n",
    "        T += '!'\n",
    "    suffix_array=almost_dc3_with_p12(asciiDC3(T)) \n",
    "    bwt = \"\"\n",
    "    for i in suffix_array:\n",
    "        bwt += T[i-1]\n",
    "    return(bwt)\n",
    "\n",
    "def BWT(T, suffix_table,end_of_string=False):\n",
    "    \"\"\"\n",
    "    Compute the BWT from the suffix table\n",
    "    \n",
    "    Args:\n",
    "        T (str): string\n",
    "        end_of_string (char): end of string character to append\n",
    "    \n",
    "    Return:\n",
    "        bwt (str): BWT\n",
    "    \"\"\"\n",
    "    if end_of_string==False:\n",
    "        T += '!'\n",
    "    bwt = \"\"\n",
    "    for i in suffix_table:\n",
    "        bwt += T[i-1]\n",
    "    return(bwt)"
   ]
  },
  {
   "cell_type": "code",
   "execution_count": 28,
   "id": "4d2c3f75",
   "metadata": {},
   "outputs": [],
   "source": [
    "def run_length_encoding(S):\n",
    "    \"\"\"\n",
    "    Encode sequence using the Run Length method\n",
    "    \n",
    "    Args:\n",
    "        text (str): string to be shifted\n",
    "    \n",
    "    Return:\n",
    "        str: run length\n",
    "    \"\"\"\n",
    "    encoded_S= \"\"\n",
    "    i=0\n",
    "    number=1\n",
    "    while i<len(S):\n",
    "        encoded_S+=S[i]\n",
    "        i+=1\n",
    "        while i<len(S) and S[i-1]==S[i]:\n",
    "            number+=1\n",
    "            i+=1\n",
    "        if number>1:\n",
    "            encoded_S+=str(number)\n",
    "        number=1\n",
    "    return encoded_S"
   ]
  },
  {
   "cell_type": "code",
   "execution_count": 29,
   "id": "2d06b591",
   "metadata": {},
   "outputs": [],
   "source": [
    "def print_suffix_table(sequence, sf, visualize_bwt=False):\n",
    "    for i in range(len(sf)):\n",
    "        if visualize_bwt:\n",
    "            print(sequence[sf[i]-1:])\n",
    "        else:\n",
    "            print(sequence[sf[i]:])\n",
    "    return"
   ]
  },
  {
   "cell_type": "markdown",
   "id": "99481c90",
   "metadata": {},
   "source": [
    "#### Testons notre fonction"
   ]
  },
  {
   "cell_type": "code",
   "execution_count": 30,
   "id": "50ee964b",
   "metadata": {
    "scrolled": true
   },
   "outputs": [
    {
     "name": "stdout",
     "output_type": "stream",
     "text": [
      "[25, 24, 5, 15, 0, 10, 11, 3, 17, 19, 21, 12, 7, 23, 14, 9, 2, 6, 4, 16, 18, 20, 22, 13, 8, 1]\n"
     ]
    }
   ],
   "source": [
    "test_2='ATGCTAGCTGCCCTGATCTCTCTGA!'\n",
    "suffix_array_2_with_p12=almost_dc3_with_p12(asciiDC3(test_2)) \n",
    "print(suffix_array_2_with_p12)\n"
   ]
  },
  {
   "cell_type": "code",
   "execution_count": 31,
   "id": "dffe1a95",
   "metadata": {},
   "outputs": [
    {
     "name": "stdout",
     "output_type": "stream",
     "text": [
      "!\n",
      "A!\n",
      "AGCTGCCCTGATCTCTCTGA!\n",
      "ATCTCTCTGA!\n",
      "ATGCTAGCTGCCCTGATCTCTCTGA!\n",
      "CCCTGATCTCTCTGA!\n",
      "CCTGATCTCTCTGA!\n",
      "CTAGCTGCCCTGATCTCTCTGA!\n",
      "CTCTCTGA!\n",
      "CTCTGA!\n",
      "CTGA!\n",
      "CTGATCTCTCTGA!\n",
      "CTGCCCTGATCTCTCTGA!\n",
      "GA!\n",
      "GATCTCTCTGA!\n",
      "GCCCTGATCTCTCTGA!\n",
      "GCTAGCTGCCCTGATCTCTCTGA!\n",
      "GCTGCCCTGATCTCTCTGA!\n",
      "TAGCTGCCCTGATCTCTCTGA!\n",
      "TCTCTCTGA!\n",
      "TCTCTGA!\n",
      "TCTGA!\n",
      "TGA!\n",
      "TGATCTCTCTGA!\n",
      "TGCCCTGATCTCTCTGA!\n",
      "TGCTAGCTGCCCTGATCTCTCTGA!\n"
     ]
    }
   ],
   "source": [
    "print_suffix_table(test_2,suffix_array_2_with_p12)"
   ]
  },
  {
   "cell_type": "code",
   "execution_count": 32,
   "id": "04eb18f8",
   "metadata": {},
   "outputs": [
    {
     "name": "stdout",
     "output_type": "stream",
     "text": [
      "AGTG!GCGTTTCGTTTTACACCCCCA\n",
      "AGTG!GCGTTTCGTTTTACACCCCCA\n"
     ]
    }
   ],
   "source": [
    "print(BWT_suffix_table(test_2, True))\n",
    "print(BWT(test_2,suffix_array_2_with_p12, True))"
   ]
  },
  {
   "cell_type": "code",
   "execution_count": 33,
   "id": "2d180ff4",
   "metadata": {},
   "outputs": [
    {
     "name": "stdout",
     "output_type": "stream",
     "text": [
      "AGTG!GCGT3CGT4ACAC5A\n"
     ]
    }
   ],
   "source": [
    "print(run_length_encoding(BWT_suffix_table(test_2, True)))"
   ]
  },
  {
   "cell_type": "markdown",
   "id": "d951740a",
   "metadata": {},
   "source": [
    "BWT sur notre génome"
   ]
  },
  {
   "cell_type": "code",
   "execution_count": 34,
   "id": "e856d22b",
   "metadata": {},
   "outputs": [
    {
     "name": "stdout",
     "output_type": "stream",
     "text": [
      "ACT2AT2A5TA4CA10GA8TACA5CATACA2TA2TAGA8CA2CA6G2CA3GA11CA2TA12TA3TA4TA4TA5CA13CA2TA3CA3TA7CA3TA6TGTA2\n"
     ]
    }
   ],
   "source": [
    "bwt_T=BWT_suffix_table(genome[1].seq.upper())\n",
    "print(run_length_encoding(bwt_T)[:100])"
   ]
  },
  {
   "cell_type": "markdown",
   "id": "6bb32ed0",
   "metadata": {},
   "source": [
    "Mesurons le temps que l'opération prend"
   ]
  },
  {
   "cell_type": "code",
   "execution_count": 35,
   "id": "a352f194",
   "metadata": {},
   "outputs": [
    {
     "name": "stdout",
     "output_type": "stream",
     "text": [
      "Wed Nov  8 10:57:42 2023    bwt_stats\n",
      "\n",
      "         38466892 function calls (38466887 primitive calls) in 31.558 seconds\n",
      "\n",
      "   Ordered by: cumulative time\n",
      "\n",
      "   ncalls  tottime  percall  cumtime  percall filename:lineno(function)\n",
      "        1    0.000    0.000   31.558   31.558 {built-in method builtins.exec}\n",
      "        1    0.036    0.036   31.558   31.558 <string>:1(<module>)\n",
      "        1    0.783    0.783   31.054   31.054 /tmp/ipykernel_19042/3234469646.py:1(BWT_suffix_table)\n",
      "      6/1    1.358    0.226   28.648   28.648 /tmp/ipykernel_19042/3977718216.py:1(almost_dc3_with_p12)\n",
      "       12    0.157    0.013    8.423    0.702 /tmp/ipykernel_19042/2430097404.py:1(sort_with_p12)\n",
      "       30    8.267    0.276    8.267    0.276 /tmp/ipykernel_19042/2430097404.py:29(counting_sort_by_digit_with_p12)\n",
      "        6    6.021    1.004    6.139    1.023 /tmp/ipykernel_19042/762813728.py:1(radix_with_p12)\n",
      "        6    3.709    0.618    4.351    0.725 /tmp/ipykernel_19042/3105641319.py:1(merge_with_p12)\n",
      "        6    1.790    0.298    2.979    0.497 /tmp/ipykernel_19042/2535467419.py:20(ordre_with_p12)\n",
      "   947103    0.355    0.000    1.346    0.000 /home/azarkua/.local/lib/python3.10/site-packages/Bio/Seq.py:470(__getitem__)\n",
      "        6    1.132    0.189    1.264    0.211 /tmp/ipykernel_19042/3017114688.py:1(position0_R0_p0)\n",
      "        6    0.649    0.108    1.141    0.190 /tmp/ipykernel_19042/3536684344.py:1(alphabetT)\n",
      "        6    0.674    0.112    1.106    0.184 /tmp/ipykernel_19042/2356060223.py:1(alphabet_r0_with_p12)\n",
      "  1727914    1.002    0.000    1.089    0.000 /tmp/ipykernel_19042/2535467419.py:1(triplets_are_equal)\n",
      "   947107    0.227    0.000    0.933    0.000 {built-in method builtins.isinstance}\n",
      " 16415240    0.862    0.000    0.862    0.000 {method 'append' of 'list' objects}\n",
      "   947104    0.152    0.000    0.706    0.000 /usr/lib/python3.10/abc.py:117(__instancecheck__)\n",
      " 11891008    0.698    0.000    0.698    0.000 {built-in method builtins.len}\n",
      "        5    0.683    0.137    0.683    0.137 /tmp/ipykernel_19042/638367126.py:1(resumeHigherOrder_with_p12)\n",
      "       12    0.604    0.050    0.604    0.050 {method 'sort' of 'list' objects}\n",
      "        6    0.517    0.086    0.601    0.100 /tmp/ipykernel_19042/3476465919.py:1(position1_2)\n",
      "        5    0.482    0.096    0.567    0.113 /tmp/ipykernel_19042/3446150077.py:1(Tprime_with_p12)\n",
      "   947104    0.235    0.000    0.554    0.000 {built-in method _abc._abc_instancecheck}\n",
      "        1    0.387    0.387    0.467    0.467 /tmp/ipykernel_19042/1118574164.py:1(run_length_encoding)\n",
      "   947103    0.141    0.000    0.319    0.000 /usr/lib/python3.10/abc.py:121(__subclasscheck__)\n",
      "        1    0.189    0.189    0.277    0.277 /tmp/ipykernel_19042/4151255859.py:1(asciiDC3)\n",
      "   947103    0.179    0.000    0.179    0.000 {built-in method _abc._abc_subclasscheck}\n",
      "   855761    0.131    0.000    0.131    0.000 {built-in method builtins.min}\n",
      "   947103    0.058    0.000    0.058    0.000 {built-in method builtins.chr}\n",
      "   947103    0.044    0.000    0.044    0.000 {built-in method builtins.ord}\n",
      "        6    0.036    0.006    0.036    0.006 /tmp/ipykernel_19042/3663174410.py:1(remove_sentinel)\n",
      "        1    0.000    0.000    0.001    0.001 /home/azarkua/.local/lib/python3.10/site-packages/Bio/Seq.py:1233(upper)\n",
      "        1    0.000    0.000    0.000    0.000 {method 'upper' of 'bytes' objects}\n",
      "        1    0.000    0.000    0.000    0.000 /home/azarkua/.local/lib/python3.10/site-packages/Bio/Seq.py:495(__add__)\n",
      "        1    0.000    0.000    0.000    0.000 /home/azarkua/.local/lib/python3.10/site-packages/Bio/Seq.py:466(__iter__)\n",
      "        1    0.000    0.000    0.000    0.000 {method 'decode' of 'bytes' objects}\n",
      "        6    0.000    0.000    0.000    0.000 {method 'keys' of 'dict' objects}\n",
      "        2    0.000    0.000    0.000    0.000 /home/azarkua/.local/lib/python3.10/site-packages/Bio/Seq.py:1961(__init__)\n",
      "        1    0.000    0.000    0.000    0.000 {method 'disable' of '_lsprof.Profiler' objects}\n",
      "        1    0.000    0.000    0.000    0.000 /home/azarkua/.local/lib/python3.10/site-packages/Bio/SeqRecord.py:334(<lambda>)\n",
      "        1    0.000    0.000    0.000    0.000 {method 'encode' of 'str' objects}\n",
      "\n",
      "\n"
     ]
    },
    {
     "data": {
      "text/plain": [
       "<pstats.Stats at 0x7f486855e2c0>"
      ]
     },
     "execution_count": 35,
     "metadata": {},
     "output_type": "execute_result"
    }
   ],
   "source": [
    "cProfile.run(\"run_length_encoding(BWT_suffix_table(genome[1].seq.upper()))\", \"bwt_stats\")\n",
    "p = pstats.Stats(\"bwt_stats\")\n",
    "p.sort_stats(\"cumulative\").print_stats()"
   ]
  },
  {
   "cell_type": "markdown",
   "id": "f7e607d3",
   "metadata": {},
   "source": [
    "## String search with BWT"
   ]
  },
  {
   "cell_type": "code",
   "execution_count": 36,
   "id": "f232b782",
   "metadata": {},
   "outputs": [],
   "source": [
    "from collections import Counter"
   ]
  },
  {
   "cell_type": "code",
   "execution_count": 37,
   "id": "d39b98d2",
   "metadata": {},
   "outputs": [],
   "source": [
    "def occurrence_indexer(S):\n",
    "    K = []\n",
    "    last_index = {}\n",
    "    for s in S:\n",
    "        if s not in last_index: \n",
    "            last_index[s] = 0\n",
    "        K.append(last_index[s])\n",
    "        last_index[s] += 1\n",
    "    return(K)\n",
    "\n",
    "def lettre_et_occurence(BWT,pattern_letter, position_in_BWT, occurence_index):\n",
    "    output=[]\n",
    "    for i in range(len(position_in_BWT)):\n",
    "        if BWT[position_in_BWT[i]]==pattern_letter:\n",
    "            output.append([BWT[position_in_BWT[i]],occurence_index[position_in_BWT[i]]])\n",
    "    return output\n",
    "\n",
    "def new_suffix_table_positions(BWT,letter_and_occurence, counts):\n",
    "    # Counter({'T': 3, 'A': 2, 'B': 2, 'C': 2, '!': 1})\n",
    "    output=[]\n",
    "    for i in range(len(letter_and_occurence)):\n",
    "        letter=letter_and_occurence[i][0]\n",
    "        occurence=letter_and_occurence[i][1]\n",
    "        new_position_to_evaluate=occurence + sum([counts[char] for char in counts if char < letter])\n",
    "        output.append(new_position_to_evaluate)\n",
    "    return output\n",
    "\n",
    "def initialize_suffix_table_positions(counts, pattern_letter):\n",
    "    start=sum([counts[char] for char in counts if char < pattern_letter])\n",
    "    end=start+counts[pattern_letter]\n",
    "    return [i for i in range(start, end)]\n",
    "    \n",
    "def find_patterns_in_sequence_with_dc3(sequence, pattern, sequence_has_end_character=False):\n",
    "    output=[]\n",
    "    \n",
    "    if sequence_has_end_character==False:\n",
    "        sequence += '!'\n",
    "        \n",
    "    sf=almost_dc3_with_p12(asciiDC3(sequence)) \n",
    "    BWT = \"\"\n",
    "    for i in sf:\n",
    "        BWT += sequence[i-1]\n",
    "    \n",
    "    \n",
    "    #print(\"BWT\")\n",
    "    #print(BWT)\n",
    "    #print(\"\\n\")\n",
    "    occurence_index = occurrence_indexer(BWT)\n",
    "    #print('occurence_index')\n",
    "    #print(occurence_index)\n",
    "    #print(\"\\n\")\n",
    "    counts = Counter(BWT)\n",
    "    #print(\"counts\")\n",
    "    #print(counts)\n",
    "    #print(\"\\n\")\n",
    "    index=len(pattern)-1\n",
    "    pattern_letter=pattern[index]\n",
    "    \n",
    "    suffix_table_positions=initialize_suffix_table_positions(counts, pattern_letter)\n",
    "    #print(\"suffix_table_positions\")\n",
    "    #print(suffix_table_positions)\n",
    "    #print(\"\\n\")\n",
    "    while index>0 and len(suffix_table_positions)>0:\n",
    "        \n",
    "        index-=1\n",
    "        #print(\"index\")\n",
    "        #print(index)\n",
    "        #print(\"\\n\")\n",
    "        pattern_letter=pattern[index]\n",
    "        #print(\"pattern_letter\")\n",
    "        #print(pattern_letter)\n",
    "        #print(\"\\n\")\n",
    "        \n",
    "        A=lettre_et_occurence(BWT,pattern_letter,suffix_table_positions, occurence_index)\n",
    "        #print(\"A\")\n",
    "        #print(A)\n",
    "        #print(\"\\n\")\n",
    "        \n",
    "        suffix_table_positions=new_suffix_table_positions(BWT, A, counts)\n",
    "        #print(\"suffix_table_positions\")\n",
    "        #print(suffix_table_positions)\n",
    "        #print(\"\\n\")\n",
    "        \n",
    "        \n",
    "    for i in range(len(suffix_table_positions)):\n",
    "        output.append(sf[suffix_table_positions[i]])\n",
    "        \n",
    "\n",
    "    return output\n",
    "\n",
    "def find_patterns_in_sequence(sf, BWT, pattern):\n",
    "    output=[]\n",
    "\n",
    "    \n",
    "    \n",
    "    \n",
    "    #print(\"BWT\")\n",
    "    #print(BWT)\n",
    "    #print(\"\\n\")\n",
    "    occurence_index = occurrence_indexer(BWT)\n",
    "    #print('occurence_index')\n",
    "    #print(occurence_index)\n",
    "    #print(\"\\n\")\n",
    "    counts = Counter(BWT)\n",
    "    #print(\"counts\")\n",
    "    #print(counts)\n",
    "    #print(\"\\n\")\n",
    "    index=len(pattern)-1\n",
    "    pattern_letter=pattern[index]\n",
    "    \n",
    "    suffix_table_positions=initialize_suffix_table_positions(counts, pattern_letter)\n",
    "    #print(\"suffix_table_positions\")\n",
    "    #print(suffix_table_positions)\n",
    "    #print(\"\\n\")\n",
    "    while index>0 and len(suffix_table_positions)>0:\n",
    "        \n",
    "        index-=1\n",
    "        #print(\"index\")\n",
    "        #print(index)\n",
    "        #print(\"\\n\")\n",
    "        pattern_letter=pattern[index]\n",
    "        #print(\"pattern_letter\")\n",
    "        #print(pattern_letter)\n",
    "        #print(\"\\n\")\n",
    "        \n",
    "        A=lettre_et_occurence(BWT,pattern_letter,suffix_table_positions, occurence_index)\n",
    "        #print(\"A\")\n",
    "        #print(A)\n",
    "        #print(\"\\n\")\n",
    "        \n",
    "        suffix_table_positions=new_suffix_table_positions(BWT, A, counts)\n",
    "        #print(\"suffix_table_positions\")\n",
    "        #print(suffix_table_positions)\n",
    "        #print(\"\\n\")\n",
    "        \n",
    "        \n",
    "    for i in range(len(suffix_table_positions)):\n",
    "        output.append(sf[suffix_table_positions[i]])\n",
    "        \n",
    "\n",
    "    return output\n",
    "        \n",
    "        \n",
    "    "
   ]
  },
  {
   "cell_type": "code",
   "execution_count": 38,
   "id": "4af714ba",
   "metadata": {},
   "outputs": [],
   "source": [
    "def new_suffix_table_positions_faster(BWT,pattern_letter, position_in_BWT, occurence_index, counts):\n",
    "    # Counter({'T': 3, 'A': 2, 'B': 2, 'C': 2, '!': 1})\n",
    "    output=[]\n",
    "    letter_and_occurence=[]\n",
    "    for i in range(len(position_in_BWT)):\n",
    "        if BWT[position_in_BWT[i]]==pattern_letter:\n",
    "            letter_and_occurence=[BWT[position_in_BWT[i]],occurence_index[position_in_BWT[i]]]\n",
    "            letter=letter_and_occurence[0]\n",
    "            occurence=letter_and_occurence[1]\n",
    "            new_position_to_evaluate=occurence + sum([counts[char] for char in counts if char < letter])\n",
    "            output.append(new_position_to_evaluate)\n",
    "    return output\n",
    "\n",
    "def find_patterns_in_sequence_faster(sf, BWT, pattern):\n",
    "    output=[]\n",
    "    occurence_index = occurrence_indexer(BWT)\n",
    "    counts = Counter(BWT)\n",
    "    index=len(pattern)-1\n",
    "    pattern_letter=pattern[index]\n",
    "    \n",
    "    suffix_table_positions=initialize_suffix_table_positions(counts, pattern_letter)\n",
    "    while index>0 and len(suffix_table_positions)>0:\n",
    "        index-=1\n",
    "        pattern_letter=pattern[index]\n",
    "        suffix_table_positions=new_suffix_table_positions_faster(BWT,pattern_letter,suffix_table_positions,occurence_index,counts) \n",
    "        \n",
    "    for i in range(len(suffix_table_positions)):\n",
    "        output.append(sf[suffix_table_positions[i]])\n",
    "        \n",
    "    return output"
   ]
  },
  {
   "cell_type": "markdown",
   "id": "0ca1529c",
   "metadata": {},
   "source": [
    "#### Testons notre fonction"
   ]
  },
  {
   "cell_type": "code",
   "execution_count": 39,
   "id": "efbbfe6e",
   "metadata": {},
   "outputs": [
    {
     "name": "stdout",
     "output_type": "stream",
     "text": [
      "[26, 21, 0, 22, 1, 23, 2, 24, 3, 25, 4, 5, 6, 7, 8, 9, 10, 11, 12, 13, 14, 20, 19, 18, 17, 16, 15]\n"
     ]
    }
   ],
   "source": [
    "test_mltpl='ABCDEFGHIJKLMNOPPPPPPABCDE!'\n",
    "sf=almost_dc3_with_p12(asciiDC3(test_mltpl))\n",
    "print(sf)"
   ]
  },
  {
   "cell_type": "code",
   "execution_count": 40,
   "id": "433cc1bf",
   "metadata": {},
   "outputs": [
    {
     "name": "stdout",
     "output_type": "stream",
     "text": [
      "[6]\n",
      "GHIJKL\n"
     ]
    }
   ],
   "source": [
    "positions_of_pattern=find_patterns_in_sequence_with_dc3(test_mltpl, 'GHIJK', sequence_has_end_character=True)\n",
    "print(positions_of_pattern)\n",
    "for p in positions_of_pattern:\n",
    "    print(test_mltpl[p:p+6])\n"
   ]
  },
  {
   "cell_type": "markdown",
   "id": "dd9f273c",
   "metadata": {},
   "source": [
    "#### Testons avec notre génome"
   ]
  },
  {
   "cell_type": "markdown",
   "id": "2a6f3e0d",
   "metadata": {},
   "source": [
    "Création de la suffix table et de la transfomée de burrow wheeler de notre génome "
   ]
  },
  {
   "cell_type": "code",
   "execution_count": 41,
   "id": "d5f1e782",
   "metadata": {},
   "outputs": [],
   "source": [
    "sf=almost_dc3_with_p12(asciiDC3(genome[0].seq.upper()))\n",
    "bwt=BWT(genome[0].seq.upper(), sf, False)"
   ]
  },
  {
   "cell_type": "markdown",
   "id": "004b94c7",
   "metadata": {},
   "source": [
    "Création du pattern que nous voulons chercher dans le génome "
   ]
  },
  {
   "cell_type": "code",
   "execution_count": 42,
   "id": "872d1a0c",
   "metadata": {},
   "outputs": [
    {
     "data": {
      "text/plain": [
       "Seq('TGAACCCTAA')"
      ]
     },
     "execution_count": 42,
     "metadata": {},
     "output_type": "execute_result"
    }
   ],
   "source": [
    "pattern=genome[0].seq.upper()[:10]\n",
    "pattern"
   ]
  },
  {
   "cell_type": "markdown",
   "id": "cd75fd24",
   "metadata": {},
   "source": [
    "Recherche des positions des kmers créés à partir du pattern ?"
   ]
  },
  {
   "cell_type": "code",
   "execution_count": 43,
   "id": "663082ec",
   "metadata": {},
   "outputs": [
    {
     "name": "stdout",
     "output_type": "stream",
     "text": [
      "[0, 35, 49, 70, 91, 119, 140, 174, 195, 209, 230, 244]\n"
     ]
    }
   ],
   "source": [
    "positions_of_pattern=find_patterns_in_sequence_faster(sf, bwt, pattern)\n",
    "print(sorted(positions_of_pattern))\n",
    "#for p in positions_of_pattern:\n",
    "    #print(genome[1].seq.upper()[p:p+len(pattern)])"
   ]
  },
  {
   "cell_type": "markdown",
   "id": "7a1ca121",
   "metadata": {},
   "source": [
    "Calcul du temps nécéssaire pour trouver les positions "
   ]
  },
  {
   "cell_type": "code",
   "execution_count": 44,
   "id": "48c22a3e",
   "metadata": {},
   "outputs": [
    {
     "name": "stdout",
     "output_type": "stream",
     "text": [
      "Wed Nov  8 10:57:57 2023    pattern_matching_stats\n",
      "\n",
      "         1061834 function calls (1061833 primitive calls) in 0.411 seconds\n",
      "\n",
      "   Ordered by: cumulative time\n",
      "\n",
      "   ncalls  tottime  percall  cumtime  percall filename:lineno(function)\n",
      "        1    0.000    0.000    0.411    0.411 {built-in method builtins.exec}\n",
      "        1    0.007    0.007    0.411    0.411 <string>:1(<module>)\n",
      "        1    0.003    0.003    0.404    0.404 /tmp/ipykernel_19042/4286594490.py:14(find_patterns_in_sequence_faster)\n",
      "        9    0.129    0.014    0.202    0.022 /tmp/ipykernel_19042/4286594490.py:1(new_suffix_table_positions_faster)\n",
      "        1    0.138    0.138    0.167    0.167 /tmp/ipykernel_19042/688712901.py:1(occurrence_indexer)\n",
      "   140285    0.053    0.000    0.053    0.000 /tmp/ipykernel_19042/4286594490.py:10(<listcomp>)\n",
      "   781148    0.036    0.000    0.036    0.000 {method 'append' of 'list' objects}\n",
      "        1    0.000    0.000    0.021    0.021 /usr/lib/python3.10/collections/__init__.py:565(__init__)\n",
      "        1    0.000    0.000    0.021    0.021 /usr/lib/python3.10/collections/__init__.py:640(update)\n",
      "        1    0.021    0.021    0.021    0.021 {built-in method _collections._count_elements}\n",
      "   140286    0.012    0.000    0.012    0.000 {built-in method builtins.sum}\n",
      "        1    0.000    0.000    0.008    0.008 /tmp/ipykernel_19042/688712901.py:28(initialize_suffix_table_positions)\n",
      "        1    0.008    0.008    0.008    0.008 /tmp/ipykernel_19042/688712901.py:31(<listcomp>)\n",
      "       10    0.004    0.000    0.004    0.000 /home/azarkua/.local/lib/python3.10/site-packages/Bio/Seq.py:470(__getitem__)\n",
      "       11    0.000    0.000    0.000    0.000 {built-in method builtins.isinstance}\n",
      "       11    0.000    0.000    0.000    0.000 /usr/lib/python3.10/abc.py:117(__instancecheck__)\n",
      "       11    0.000    0.000    0.000    0.000 {built-in method _abc._abc_instancecheck}\n",
      "       10    0.000    0.000    0.000    0.000 /usr/lib/python3.10/abc.py:121(__subclasscheck__)\n",
      "       10    0.000    0.000    0.000    0.000 {built-in method _abc._abc_subclasscheck}\n",
      "    21/20    0.000    0.000    0.000    0.000 {built-in method builtins.len}\n",
      "       10    0.000    0.000    0.000    0.000 {built-in method builtins.chr}\n",
      "        1    0.000    0.000    0.000    0.000 /tmp/ipykernel_19042/688712901.py:29(<listcomp>)\n",
      "        1    0.000    0.000    0.000    0.000 /home/azarkua/.local/lib/python3.10/site-packages/Bio/Seq.py:462(__len__)\n",
      "        1    0.000    0.000    0.000    0.000 {method 'disable' of '_lsprof.Profiler' objects}\n",
      "\n",
      "\n"
     ]
    },
    {
     "data": {
      "text/plain": [
       "<pstats.Stats at 0x7f47c8b964d0>"
      ]
     },
     "execution_count": 44,
     "metadata": {},
     "output_type": "execute_result"
    }
   ],
   "source": [
    "cProfile.run(\"find_patterns_in_sequence_faster(sf, bwt, pattern)\", \"pattern_matching_stats\")\n",
    "p = pstats.Stats(\"pattern_matching_stats\")\n",
    "p.sort_stats(\"cumulative\").print_stats()"
   ]
  },
  {
   "cell_type": "markdown",
   "id": "f90fab65",
   "metadata": {},
   "source": [
    "### Travaillons avec des kmers"
   ]
  },
  {
   "cell_type": "raw",
   "id": "498f8ccd",
   "metadata": {},
   "source": [
    "def deal_with_a_mutation(numero_kmer, liste_position_kmer, compteur_de_kmer):\n",
    "    previous_compteur=compteur_de_kmer\n",
    "    while k<len(liste_position_kmers[numero_kmer]) and compteur_de_kmer==previous_compteur:\n",
    "        if position_ds_genome+difference==liste_position_kmers[i][k]:\n",
    "            compteur_de_kmer+=1\n",
    "            last_position=liste_position_kmers[i][k]\n",
    "                    k+=1\n",
    "    return\n",
    "\n",
    "def deal_with_a_deletion():\n",
    "    return\n",
    "\n",
    "def deal_with_an_addition():\n",
    "    return\n"
   ]
  },
  {
   "cell_type": "code",
   "execution_count": 45,
   "id": "6b313a23",
   "metadata": {},
   "outputs": [],
   "source": [
    "def assembler_des_kmers(numero_du_kmer, position_ds_genome,longueur, liste_position_kmers):\n",
    "    compteur_de_kmer=1 #compte le nb de kmers qu'on arrive à aligner\n",
    "    last_position=0\n",
    "    i=numero_du_kmer+1\n",
    "    difference=1\n",
    "    \n",
    "    while i<len(liste_position_kmers):\n",
    "        j=0\n",
    "        previous_compteur=compteur_de_kmer\n",
    "        k=0\n",
    "        while j<len(liste_position_kmers[i]) and compteur_de_kmer==previous_compteur:\n",
    "            # on ne quitte pas la boucle while tant qu'on a pas réussi\n",
    "            # à aligner un kmer, où qu'on a pas parcouru la liste des positions prises par le kmer\n",
    "            if position_ds_genome+difference==liste_position_kmers[i][j]:\n",
    "                compteur_de_kmer+=1\n",
    "                last_position=liste_position_kmers[i][j]\n",
    "            j+=1\n",
    "            \n",
    "        if compteur_de_kmer==previous_compteur:\n",
    "            # si on a pas réussi à aligner ce kmer\n",
    "            i+=longueur\n",
    "            # on continue l'alignement à partir du kmer 10 positions plus loin\n",
    "            difference+=longueur\n",
    "            if  i>= len(liste_position_kmers):\n",
    "                # on vérifie que 10 positions plus loin on aie pas atteint la fin de notre read\n",
    "                return [[position_ds_genome,last_position+longueur],compteur_de_kmer]\n",
    "            else:\n",
    "                \n",
    "                #on teste si l'absence d'alignement est du à un mutation\n",
    "                k=0\n",
    "\n",
    "                while k<len(liste_position_kmers[i]) and compteur_de_kmer==previous_compteur:\n",
    "                    if position_ds_genome+difference==liste_position_kmers[i][k]:\n",
    "                        compteur_de_kmer+=1\n",
    "                        last_position=liste_position_kmers[i][k]\n",
    "                    k+=1\n",
    "\n",
    "\n",
    "\n",
    "                if compteur_de_kmer==previous_compteur:\n",
    "                    ###cas d'une addition\n",
    "                    difference-=1\n",
    "                    l=0\n",
    "                    while l<len(liste_position_kmers[i]) and compteur_de_kmer==previous_compteur:\n",
    "\n",
    "                        if position_ds_genome+difference==liste_position_kmers[i][l]:\n",
    "                            compteur_de_kmer+=1\n",
    "                            last_position=liste_position_kmers[i][l]\n",
    "                        l+=1\n",
    "\n",
    "                    if compteur_de_kmer==previous_compteur:\n",
    "                        ###cas d'une déletions\n",
    "                        difference+=1\n",
    "                        i-=1\n",
    "                        m=0\n",
    "                        while m<len(liste_position_kmers[i]) and compteur_de_kmer==previous_compteur:\n",
    "\n",
    "                            if position_ds_genome+difference==liste_position_kmers[i][m]:\n",
    "                                compteur_de_kmer+=1\n",
    "                                last_position=liste_position_kmers[i][m]\n",
    "                            m+=1\n",
    "\n",
    "                        if compteur_de_kmer==previous_compteur:\n",
    "                            ### cas où l'alignement est terminé\n",
    "                            return [[position_ds_genome,last_position+longueur],compteur_de_kmer]\n",
    "\n",
    "        i+=1\n",
    "        difference+=1   \n",
    "        \n",
    "    return [[position_ds_genome,last_position+longueur],compteur_de_kmer]"
   ]
  },
  {
   "cell_type": "code",
   "execution_count": 46,
   "id": "e6cadc01",
   "metadata": {},
   "outputs": [],
   "source": [
    "def kmer(sequence, longueur):\n",
    "    n = len(sequence)\n",
    "    kmer=[]\n",
    "    for i in range(n-longueur+1):\n",
    "        kmer.append(sequence[i:i+longueur])\n",
    "    return kmer\n",
    "    "
   ]
  },
  {
   "cell_type": "code",
   "execution_count": 85,
   "id": "2255dd3e",
   "metadata": {},
   "outputs": [],
   "source": [
    "def position_with_suffix_table(liste_kmer, genome):\n",
    "    output=[]\n",
    "    for i in range(len(liste_kmer)):\n",
    "        output.append(find_patterns_in_sequence_with_dc3(genom, liste_kmer[i],sequence_has_end_character=True))\n",
    "    return output\n",
    "\n",
    "def position(liste_kmer, bwt, suffix_table):\n",
    "    output=[]\n",
    "    for i in range(len(liste_kmer)):\n",
    "        output.append(find_patterns_in_sequence_faster(suffix_table, bwt, liste_de_kmer[i]))\n",
    "    return output"
   ]
  },
  {
   "cell_type": "code",
   "execution_count": 47,
   "id": "b2ce986e",
   "metadata": {},
   "outputs": [],
   "source": [
    "def alignement_maximum_de_kmer(liste_position_kmers, longueur):\n",
    "    output=[[0,0],0]\n",
    "    maximum=0\n",
    "    for i in range(longueur+1):\n",
    "        current_kmer=liste_position_kmers[i]\n",
    "        for p in current_kmer:\n",
    "            alignement=assembler_des_kmers(i, p, longueur, liste_position_kmers)\n",
    "            if maximum<alignement[1]:\n",
    "                output=alignement\n",
    "                maximum=alignement[1]\n",
    "    return output"
   ]
  },
  {
   "cell_type": "code",
   "execution_count": 48,
   "id": "7397f269",
   "metadata": {},
   "outputs": [],
   "source": [
    "def complementaire_inverse(sequence):\n",
    "    ci = []\n",
    "    for i in range(len(sequence) - 1, -1, -1):\n",
    "        if sequence[i] == 'A':\n",
    "            ci.append('T')\n",
    "        elif sequence[i] == 'T':\n",
    "            ci.append('A')\n",
    "        elif sequence[i] == 'C':\n",
    "            ci.append('G')\n",
    "        elif sequence[i] == 'G':\n",
    "            ci.append('C')\n",
    "    return ''.join(ci)"
   ]
  },
  {
   "cell_type": "code",
   "execution_count": 49,
   "id": "86062fd9",
   "metadata": {},
   "outputs": [],
   "source": [
    "def align_read(chromosome, reads_list, longueur_kmer):\n",
    "    sf=almost_dc3_with_p12(asciiDC3(chromosome))\n",
    "    bwt=BWT(chromosome, sf)\n",
    "    output=[]\n",
    "    \n",
    "    for i in range(len(reads_list)): # on parcourt la liste de toutes les positions des kmers\n",
    "        liste_de_kmer=kmer(reads_list[i].seq.upper(), longueur_kmer)\n",
    "        position=[]\n",
    "        for j in range(len(liste_de_kmer)):\n",
    "            # on démarre notre recherche d'alignement à partir des 10 premiers\n",
    "            # kmers, pour anticiper le cas où une SNP se trouve au début du read\n",
    "            position.append(find_patterns_in_sequence_faster(sf,bwt, liste_de_kmer[j]))\n",
    "        \n",
    "        alignment=alignement_maximum_de_kmer(position, longueur_kmer)\n",
    "        \n",
    "        \n",
    "        if (alignment[0][1]-alignment[0][0])<30:\n",
    "            # si l'alignement est trop mauvais\n",
    "            # on cherche à aligner le complémentaire inverse\n",
    "            liste_de_kmer=kmer(complementaire_inverse(reads_list[i].seq.upper()), longueur_kmer)\n",
    "            position=[]\n",
    "            for j in range(len(liste_de_kmer)):\n",
    "                position.append(find_patterns_in_sequence_faster(sf,bwt, liste_de_kmer[j]))\n",
    "                \n",
    "            alignment=alignement_maximum_de_kmer(position, longueur_kmer)\n",
    "            \n",
    "        # on crée un immense liste avec tous les alignements trouvés        \n",
    "        output.append({\"read\":i, \"alignement\":alignment})\n",
    "    return output\n",
    "        "
   ]
  },
  {
   "cell_type": "markdown",
   "id": "43776d37",
   "metadata": {},
   "source": [
    "### Testons notre algorithme avec un exemple simple "
   ]
  },
  {
   "cell_type": "code",
   "execution_count": 78,
   "id": "e59f6238",
   "metadata": {},
   "outputs": [],
   "source": [
    "read=\"ABCDEFGHIJKLMNOPQRSZUV\"\n",
    "genom=\"ABCDEFGHIJKLMNOPQRSTUVWWWWWWWWWABCDEFGHWWWWWWWWWWNOPQRSTUV!\"\n",
    "liste_kmer=kmer(read, 5)\n",
    "positions=position_with_suffix_table(liste_kmer, genom)"
   ]
  },
  {
   "cell_type": "markdown",
   "id": "4429eb8e",
   "metadata": {},
   "source": [
    "Visualisons les positions occupées par les kmers de \"read\""
   ]
  },
  {
   "cell_type": "code",
   "execution_count": 79,
   "id": "c5759944",
   "metadata": {},
   "outputs": [
    {
     "name": "stdout",
     "output_type": "stream",
     "text": [
      "[[0, 31], [1, 32], [2, 33], [3, 34], [4], [5], [6], [7], [8], [9], [10], [11], [12], [49, 13], [50, 14], [], [], []]\n"
     ]
    }
   ],
   "source": [
    "print(positions)"
   ]
  },
  {
   "cell_type": "markdown",
   "id": "0f4bd39a",
   "metadata": {},
   "source": [
    "Quel alignement trouve la fonction \"assembler_des_kmers\" lorsque la première position occupée par le premier kmer lui est fournie ?"
   ]
  },
  {
   "cell_type": "code",
   "execution_count": 53,
   "id": "5c51c7ba",
   "metadata": {},
   "outputs": [
    {
     "data": {
      "text/plain": [
       "[[0, 19], 15]"
      ]
     },
     "execution_count": 53,
     "metadata": {},
     "output_type": "execute_result"
    }
   ],
   "source": [
    "assembler_des_kmers(0, positions[0][0],5,positions)"
   ]
  },
  {
   "cell_type": "markdown",
   "id": "03793548",
   "metadata": {},
   "source": [
    "Quel est l'alignement de kmer le plus long que trouve la fonction \"alignement_maximum_de_kmer\" ?"
   ]
  },
  {
   "cell_type": "code",
   "execution_count": 71,
   "id": "f131cf23",
   "metadata": {},
   "outputs": [
    {
     "data": {
      "text/plain": [
       "[[0, 19], 15]"
      ]
     },
     "execution_count": 71,
     "metadata": {},
     "output_type": "execute_result"
    }
   ],
   "source": [
    "alignement_maximum_de_kmer(positions, 5)"
   ]
  },
  {
   "cell_type": "markdown",
   "id": "01094187",
   "metadata": {},
   "source": [
    "# ZONE DE TEST"
   ]
  },
  {
   "cell_type": "code",
   "execution_count": 145,
   "id": "321aca22",
   "metadata": {},
   "outputs": [],
   "source": [
    "sf=almost_dc3_with_p12(asciiDC3(genome[0].seq.upper()+\"!\")) # suffix table du 1er chromosome\n",
    "bwt=BWT(genome[0].seq.upper()+\"!\", sf, True)"
   ]
  },
  {
   "cell_type": "code",
   "execution_count": 146,
   "id": "8f126704",
   "metadata": {},
   "outputs": [
    {
     "name": "stdout",
     "output_type": "stream",
     "text": [
      "read\n",
      "TCATGATTTACATATATTTGTAAAACATATATAATCTGTCCAGACATATTATATAATTGAT\n",
      "genome\n",
      "TCATGATTTACATATATTTGTAAAACATATATAATCTGTCCAGACATATTATATAATTGAT\n"
     ]
    }
   ],
   "source": [
    "current_read=reads[2].seq.upper()[:61]\n",
    "current_genome=genome[0].seq.upper()\n",
    "starting_position=471737\n",
    "print(\"read\")\n",
    "print(current_read)\n",
    "print(\"genome\")\n",
    "print(current_genome[starting_position:starting_position+len(current_read)])"
   ]
  },
  {
   "cell_type": "code",
   "execution_count": 147,
   "id": "0d674be4",
   "metadata": {},
   "outputs": [
    {
     "name": "stdout",
     "output_type": "stream",
     "text": [
      "[Seq('TCATGATTTA'), Seq('CATGATTTAC'), Seq('ATGATTTACA'), Seq('TGATTTACAT'), Seq('GATTTACATA'), Seq('ATTTACATAT'), Seq('TTTACATATA'), Seq('TTACATATAT'), Seq('TACATATATT'), Seq('ACATATATTT'), Seq('CATATATTTG'), Seq('ATATATTTGT'), Seq('TATATTTGTA'), Seq('ATATTTGTAA'), Seq('TATTTGTAAA'), Seq('ATTTGTAAAA'), Seq('TTTGTAAAAC'), Seq('TTGTAAAACA'), Seq('TGTAAAACAT'), Seq('GTAAAACATA'), Seq('TAAAACATAT'), Seq('AAAACATATA'), Seq('AAACATATAT'), Seq('AACATATATA'), Seq('ACATATATAA'), Seq('CATATATAAT'), Seq('ATATATAATC'), Seq('TATATAATCT'), Seq('ATATAATCTG'), Seq('TATAATCTGT'), Seq('ATAATCTGTC'), Seq('TAATCTGTCC'), Seq('AATCTGTCCA'), Seq('ATCTGTCCAG'), Seq('TCTGTCCAGA'), Seq('CTGTCCAGAC'), Seq('TGTCCAGACA'), Seq('GTCCAGACAT'), Seq('TCCAGACATA'), Seq('CCAGACATAT'), Seq('CAGACATATT'), Seq('AGACATATTA'), Seq('GACATATTAT'), Seq('ACATATTATA'), Seq('CATATTATAT'), Seq('ATATTATATA'), Seq('TATTATATAA'), Seq('ATTATATAAT'), Seq('TTATATAATT'), Seq('TATATAATTG'), Seq('ATATAATTGA'), Seq('TATAATTGAT')]\n"
     ]
    }
   ],
   "source": [
    "liste_kmer=kmer(current_read, 10)\n",
    "print(liste_kmer)"
   ]
  },
  {
   "cell_type": "code",
   "execution_count": 148,
   "id": "2b6451e8",
   "metadata": {},
   "outputs": [
    {
     "name": "stdout",
     "output_type": "stream",
     "text": [
      "[[471737, 434515], [471738], [196572, 398898, 471739], [196573, 398899, 113502, 471740, 391868]]\n"
     ]
    }
   ],
   "source": [
    "positions=position(liste_kmer, bwt,sf)\n",
    "print(positions[:4])"
   ]
  },
  {
   "cell_type": "code",
   "execution_count": 144,
   "id": "61918f52",
   "metadata": {},
   "outputs": [
    {
     "data": {
      "text/plain": [
       "[471738]"
      ]
     },
     "execution_count": 144,
     "metadata": {},
     "output_type": "execute_result"
    }
   ],
   "source": [
    "find_patterns_in_sequence_faster(suffix_table, bwt, liste_de_kmer[i])\n",
    "find_patterns_in_sequence_with_dc3(current_genome, 'CATGATTTAC', sequence_has_end_character=False)"
   ]
  },
  {
   "cell_type": "code",
   "execution_count": null,
   "id": "0080de8a",
   "metadata": {},
   "outputs": [],
   "source": [
    "\n",
    "def find_patterns_in_sequence_faster(sf, BWT, pattern):\n",
    "    output=[]\n",
    "    occurence_index = occurrence_indexer(BWT)\n",
    "    counts = Counter(BWT)\n",
    "    index=len(pattern)-1\n",
    "    pattern_letter=pattern[index]\n",
    "    \n",
    "    suffix_table_positions=initialize_suffix_table_positions(counts, pattern_letter)\n",
    "    while index>0 and len(suffix_table_positions)>0:\n",
    "        index-=1\n",
    "        pattern_letter=pattern[index]\n",
    "        suffix_table_positions=new_suffix_table_positions_faster(BWT,pattern_letter,suffix_table_positions,occurence_index,counts) \n",
    "        \n",
    "    for i in range(len(suffix_table_positions)):\n",
    "        output.append(sf[suffix_table_positions[i]])\n",
    "        \n",
    "    return output"
   ]
  },
  {
   "cell_type": "code",
   "execution_count": null,
   "id": "2590fc23",
   "metadata": {},
   "outputs": [],
   "source": [
    "alignement_maximum_de_kmer(positions, 10)"
   ]
  },
  {
   "cell_type": "code",
   "execution_count": null,
   "id": "3d7a9160",
   "metadata": {},
   "outputs": [],
   "source": [
    "assembler_des_kmers(0, positions[0][0],10,positions)"
   ]
  },
  {
   "cell_type": "markdown",
   "id": "47c0e8d4",
   "metadata": {},
   "source": [
    "# FIN ZONE DE TEST"
   ]
  },
  {
   "cell_type": "markdown",
   "id": "6d809edd",
   "metadata": {},
   "source": [
    "##### Testons sur notre génome"
   ]
  },
  {
   "cell_type": "code",
   "execution_count": 149,
   "id": "b1c8d8b1",
   "metadata": {},
   "outputs": [],
   "source": [
    "premier_chr=genome[0].seq.upper()+\"!\"\n",
    "sf=almost_dc3_with_p12(asciiDC3(premier_chr)) # suffix table du 1er chromosome\n",
    "bwt=BWT(premier_chr, sf, True)\n",
    "liste_de_kmer=kmer(reads[2].seq.upper(), 10) # liste de kmers de taille 10 sur le 2e read\n",
    "positions=position(liste_de_kmer, bwt,sf)"
   ]
  },
  {
   "cell_type": "code",
   "execution_count": 150,
   "id": "c254023f",
   "metadata": {
    "scrolled": true
   },
   "outputs": [
    {
     "data": {
      "text/plain": [
       "[[471737, 471837], 91]"
      ]
     },
     "execution_count": 150,
     "metadata": {},
     "output_type": "execute_result"
    }
   ],
   "source": [
    "alignement_maximum_de_kmer(positions, 10)"
   ]
  },
  {
   "cell_type": "code",
   "execution_count": 151,
   "id": "f7c42a89",
   "metadata": {},
   "outputs": [
    {
     "name": "stdout",
     "output_type": "stream",
     "text": [
      "[{'read': 0, 'alignement': [[131734, 131834], 81]}, {'read': 1, 'alignement': [[143900, 143992], 83]}]\n",
      "70.8395688533783\n"
     ]
    }
   ],
   "source": [
    "start=time.time()\n",
    "align=align_read(premier_chr,reads[:2], 10)\n",
    "end=time.time()\n",
    "print(align)\n",
    "print(end-start)"
   ]
  },
  {
   "cell_type": "code",
   "execution_count": 152,
   "id": "9c657db0",
   "metadata": {},
   "outputs": [
    {
     "name": "stdout",
     "output_type": "stream",
     "text": [
      "[{'read': 0, 'alignement': [[131734, 131834], 81]}, {'read': 1, 'alignement': [[143900, 143992], 83]}, {'read': 2, 'alignement': [[471737, 471837], 91]}, {'read': 3, 'alignement': [[65426, 65524], 89]}, {'read': 4, 'alignement': [[152677, 152777], 81]}]\n"
     ]
    }
   ],
   "source": [
    "align=align_read(premier_chr,reads[:5], 10)\n",
    "print(align)"
   ]
  },
  {
   "cell_type": "code",
   "execution_count": 59,
   "id": "49677892",
   "metadata": {},
   "outputs": [
    {
     "name": "stdout",
     "output_type": "stream",
     "text": [
      "131734\n"
     ]
    }
   ],
   "source": [
    "print(align[0][\"alignement\"][0][0])"
   ]
  },
  {
   "cell_type": "code",
   "execution_count": 60,
   "id": "b51bec20",
   "metadata": {},
   "outputs": [],
   "source": [
    "f = open(\"read_positions_5_11.txt\", \"w\")\n",
    "for i in range(len(align)):\n",
    "    f.write(str(align[i]['alignement'][0][0])+\"\\n\")\n",
    "f.close()"
   ]
  },
  {
   "cell_type": "markdown",
   "id": "a62d5460",
   "metadata": {},
   "source": [
    "### Testons si nos reads ont des mutations "
   ]
  },
  {
   "cell_type": "code",
   "execution_count": 92,
   "id": "208f20ca",
   "metadata": {},
   "outputs": [],
   "source": [
    "def check_for_mutation(index, read_decalage,genome_decalage, read,genome):\n",
    "    return read[read_decalage+index+1]==genome[genome_decalage+index+1]\n",
    "\n",
    "\n",
    "def check_for_deletion(index, read_decalage, genome_decalage, read,genome):\n",
    "    return read[read_decalage+index]==genome[genome_decalage+index+1]\n",
    "\n",
    "def check_for_addition(index, read_decalage, genome_decalage, read,genome):\n",
    "    return read[read_decalage+index+1]==genome[genome_decalage+index]\n",
    "\n",
    "def is_my_read_at_position(position_in_genome, read,genome):\n",
    "    read_decalage=0\n",
    "    genome_decalage=position_in_genome\n",
    "    i=0\n",
    "    while i+read_decalage<len(read):\n",
    "        if read[read_decalage+i]!=genome[genome_decalage+i]:\n",
    "            if check_for_mutation(i, read_decalage,genome_decalage, read,genome):\n",
    "                print(\"Le read contient une mutation à la position \"+str(i))\n",
    "                print(read[read_decalage+i-5:read_decalage+i+5])\n",
    "                print(genome[genome_decalage+i-5:genome_decalage+i+5])\n",
    "                i+=1\n",
    "                \n",
    "            elif check_for_deletion(i, read_decalage,genome_decalage, read,genome):\n",
    "                print(\"Le read contient une déletion à la position \"+str(i))\n",
    "                print(read[read_decalage+i-5:read_decalage+i+5])\n",
    "                print(genome[genome_decalage+i-5:genome_decalage+i+5])\n",
    "                genome_decalage+=1\n",
    "                i+=1\n",
    "                \n",
    "            elif check_for_addition(i, read_decalage, genome_decalage, read,genome):\n",
    "                print(\"Le read contient une addition à la position \"+str(i))\n",
    "                print(read[read_decalage+i-5:read_decalage+i+5])\n",
    "                print(genome[genome_decalage+i-5:genome_decalage+i+5])\n",
    "                i+=1\n",
    "                read_decalage+=1\n",
    "                \n",
    "            else:\n",
    "                i+=1\n",
    "                print(\"...\")\n",
    "        else:\n",
    "            i+=1\n",
    "    return"
   ]
  },
  {
   "cell_type": "code",
   "execution_count": 104,
   "id": "8fdb0001",
   "metadata": {},
   "outputs": [],
   "source": [
    "def compare_read_and_genome(position_in_genome, read,genome):\n",
    "    read_decalage=0\n",
    "    genome_decalage=position_in_genome\n",
    "    str_read=\"\"\n",
    "    str_genome=\"\"\n",
    "    i=0\n",
    "    while i+read_decalage<len(read):\n",
    "        if read[read_decalage+i]!=genome[genome_decalage+i]:\n",
    "            if check_for_mutation(i, read_decalage,genome_decalage, read,genome):\n",
    "                str_read+=\"/\"+read[read_decalage+i]+\"/\"\n",
    "                str_genome+=\"/\"+genome[genome_decalage+i]+\"/\"\n",
    "                i+=1\n",
    "                \n",
    "            elif check_for_deletion(i, read_decalage,genome_decalage, read,genome):\n",
    "                str_read+=\"-\"\n",
    "                str_genome+=genome[genome_decalage+i]\n",
    "                genome_decalage+=1\n",
    "                i+=1\n",
    "                \n",
    "            elif check_for_addition(i, read_decalage, genome_decalage, read,genome):\n",
    "                str_read+=read[read_decalage+i]\n",
    "                str_genome+=\"+\"+genome[genome_decalage+i]\n",
    "                i+=1\n",
    "                read_decalage+=1\n",
    "                \n",
    "            else:\n",
    "                i+=1\n",
    "                print(\"...\")\n",
    "        else:\n",
    "            str_read+=read[read_decalage+i]\n",
    "            str_genome+=genome[genome_decalage+i]\n",
    "            i+=1\n",
    "            \n",
    "    print(\"read\")\n",
    "    print(str_read)\n",
    "        \n",
    "    print(\"genome\")\n",
    "    print(str_genome)\n",
    "    return"
   ]
  },
  {
   "cell_type": "markdown",
   "id": "c9e46378",
   "metadata": {},
   "source": [
    "#### Testons notre algorithme sur un exemple "
   ]
  },
  {
   "cell_type": "code",
   "execution_count": 153,
   "id": "8c364645",
   "metadata": {},
   "outputs": [],
   "source": [
    "current_read=reads[3].seq.upper()\n",
    "current_genome=genome[0].seq.upper()\n",
    "starting_position=65426"
   ]
  },
  {
   "cell_type": "markdown",
   "id": "6018621a",
   "metadata": {},
   "source": [
    "Les fonctions suivantes nous permettent de visualiser les zones de SNP"
   ]
  },
  {
   "cell_type": "code",
   "execution_count": 154,
   "id": "e8cbcddb",
   "metadata": {},
   "outputs": [
    {
     "name": "stdout",
     "output_type": "stream",
     "text": [
      "Le read contient une mutation à la position 98\n",
      "GCCATGT\n",
      "GCCATATTTT\n"
     ]
    }
   ],
   "source": [
    "is_my_read_at_position(starting_position, current_read,current_genome)"
   ]
  },
  {
   "cell_type": "code",
   "execution_count": 155,
   "id": "a23f3bfe",
   "metadata": {},
   "outputs": [
    {
     "name": "stdout",
     "output_type": "stream",
     "text": [
      "read\n",
      "AATTAATAATTATTATTATTACATATATATTTGTTATGTTTTGTTATATAATATTTAATATGAAGTATTATATAAATATATATATATATGTGTGCCAT/G/T\n",
      "genome\n",
      "AATTAATAATTATTATTATTACATATATATTTGTTATGTTTTGTTATATAATATTTAATATGAAGTATTATATAAATATATATATATATGTGTGCCAT/A/T\n"
     ]
    }
   ],
   "source": [
    "compare_read_and_genome(starting_position,current_read,current_genome)"
   ]
  },
  {
   "cell_type": "code",
   "execution_count": 156,
   "id": "fe7f0942",
   "metadata": {},
   "outputs": [
    {
     "name": "stdout",
     "output_type": "stream",
     "text": [
      "read\n",
      "AATTAATAATTATTATTATTACATATATATTTGTTATGTTTTGTTATATAATATTTAATATGAAGTATTATATAAATATATATATATATGTGTGCCATGT\n",
      "genome\n",
      "AATTAATAATTATTATTATTACATATATATTTGTTATGTTTTGTTATATAATATTTAATATGAAGTATTATATAAATATATATATATATGTGTGCCATAT\n"
     ]
    }
   ],
   "source": [
    "print(\"read\")\n",
    "print(current_read)\n",
    "print(\"genome\")\n",
    "print(current_genome[starting_position:starting_position+100])"
   ]
  },
  {
   "cell_type": "raw",
   "id": "b171c00e",
   "metadata": {},
   "source": []
  },
  {
   "cell_type": "code",
   "execution_count": 64,
   "id": "91487c3d",
   "metadata": {},
   "outputs": [
    {
     "name": "stdout",
     "output_type": "stream",
     "text": [
      "Wed Nov  8 11:04:13 2023    pattern_matching_stats\n",
      "\n",
      "         297656368 function calls (297656177 primitive calls) in 122.270 seconds\n",
      "\n",
      "   Ordered by: cumulative time\n",
      "\n",
      "   ncalls  tottime  percall  cumtime  percall filename:lineno(function)\n",
      "        1    0.000    0.000  122.270  122.270 {built-in method builtins.exec}\n",
      "        1    0.024    0.024  122.270  122.270 <string>:1(<module>)\n",
      "        1    2.233    2.233  122.246  122.246 /tmp/ipykernel_19042/2484752116.py:1(align_read)\n",
      "      273    0.881    0.003  101.607    0.372 /tmp/ipykernel_19042/4286594490.py:14(find_patterns_in_sequence_faster)\n",
      "      273   38.802    0.142   46.858    0.172 /tmp/ipykernel_19042/688712901.py:1(occurrence_indexer)\n",
      "     2442   28.841    0.012   46.250    0.019 /tmp/ipykernel_19042/4286594490.py:1(new_suffix_table_positions_faster)\n",
      "      7/1    0.697    0.100   17.054   17.054 /tmp/ipykernel_19042/3977718216.py:1(almost_dc3_with_p12)\n",
      " 32289828   12.799    0.000   12.799    0.000 /tmp/ipykernel_19042/4286594490.py:10(<listcomp>)\n",
      "218717900   10.255    0.000   10.255    0.000 {method 'append' of 'list' objects}\n",
      "      273    0.003    0.000    5.703    0.021 /usr/lib/python3.10/collections/__init__.py:565(__init__)\n",
      "      273    0.002    0.000    5.700    0.021 /usr/lib/python3.10/collections/__init__.py:640(update)\n",
      "      273    5.696    0.021    5.696    0.021 {built-in method _collections._count_elements}\n",
      "       14    0.095    0.007    5.138    0.367 /tmp/ipykernel_19042/2430097404.py:1(sort_with_p12)\n",
      "       35    5.043    0.144    5.043    0.144 /tmp/ipykernel_19042/2430097404.py:29(counting_sort_by_digit_with_p12)\n",
      "        7    3.012    0.430    3.101    0.443 /tmp/ipykernel_19042/3017114688.py:1(position0_R0_p0)\n",
      " 32290101    2.970    0.000    2.970    0.000 {built-in method builtins.sum}\n",
      "        7    2.438    0.348    2.854    0.408 /tmp/ipykernel_19042/3105641319.py:1(merge_with_p12)\n",
      "      273    0.003    0.000    1.897    0.007 /tmp/ipykernel_19042/688712901.py:28(initialize_suffix_table_positions)\n",
      "      273    1.893    0.007    1.893    0.007 /tmp/ipykernel_19042/688712901.py:31(<listcomp>)\n",
      "        7    1.057    0.151    1.783    0.255 /tmp/ipykernel_19042/2535467419.py:20(ordre_with_p12)\n",
      "        1    0.237    0.237    1.142    1.142 /tmp/ipykernel_19042/3234469646.py:20(BWT)\n",
      "   643033    0.244    0.000    0.921    0.000 /home/azarkua/.local/lib/python3.10/site-packages/Bio/Seq.py:470(__getitem__)\n",
      "        7    0.797    0.114    0.857    0.122 /tmp/ipykernel_19042/762813728.py:1(radix_with_p12)\n",
      "        7    0.464    0.066    0.780    0.111 /tmp/ipykernel_19042/2356060223.py:1(alphabet_r0_with_p12)\n",
      "        7    0.408    0.058    0.707    0.101 /tmp/ipykernel_19042/3536684344.py:1(alphabetT)\n",
      "  1206689    0.601    0.000    0.661    0.000 /tmp/ipykernel_19042/2535467419.py:1(triplets_are_equal)\n",
      "   643495    0.151    0.000    0.640    0.000 {built-in method builtins.isinstance}\n",
      "   643307    0.102    0.000    0.488    0.000 /usr/lib/python3.10/abc.py:117(__instancecheck__)\n",
      "7359030/7358845    0.408    0.000    0.408    0.000 {built-in method builtins.len}\n",
      "        7    0.344    0.049    0.401    0.057 /tmp/ipykernel_19042/3476465919.py:1(position1_2)\n",
      "       14    0.396    0.028    0.396    0.028 {method 'sort' of 'list' objects}\n",
      "   643307    0.164    0.000    0.386    0.000 {built-in method _abc._abc_instancecheck}\n",
      "        6    0.382    0.064    0.382    0.064 /tmp/ipykernel_19042/638367126.py:1(resumeHigherOrder_with_p12)\n",
      "        6    0.278    0.046    0.334    0.056 /tmp/ipykernel_19042/3446150077.py:1(Tprime_with_p12)\n",
      "   642851    0.096    0.000    0.222    0.000 /usr/lib/python3.10/abc.py:121(__subclasscheck__)\n",
      "        1    0.133    0.133    0.194    0.194 /tmp/ipykernel_19042/4151255859.py:1(asciiDC3)\n",
      "   642851    0.126    0.000    0.126    0.000 {built-in method _abc._abc_subclasscheck}\n",
      "   644760    0.090    0.000    0.090    0.000 {built-in method builtins.min}\n",
      "   642851    0.039    0.000    0.039    0.000 {built-in method builtins.chr}\n",
      "   640851    0.032    0.000    0.032    0.000 {built-in method builtins.ord}\n",
      "        7    0.020    0.003    0.020    0.003 /tmp/ipykernel_19042/3663174410.py:1(remove_sentinel)\n",
      "        3    0.000    0.000    0.014    0.005 /tmp/ipykernel_19042/1901190291.py:1(alignement_maximum_de_kmer)\n",
      "      341    0.012    0.000    0.014    0.000 /tmp/ipykernel_19042/736388200.py:1(assembler_des_kmers)\n",
      "      273    0.001    0.000    0.001    0.000 /tmp/ipykernel_19042/688712901.py:29(<listcomp>)\n",
      "        3    0.000    0.000    0.000    0.000 /tmp/ipykernel_19042/2083892675.py:1(kmer)\n",
      "        4    0.000    0.000    0.000    0.000 /home/azarkua/.local/lib/python3.10/site-packages/Bio/Seq.py:1233(upper)\n",
      "        1    0.000    0.000    0.000    0.000 /tmp/ipykernel_19042/3080152207.py:1(complementaire_inverse)\n",
      "        4    0.000    0.000    0.000    0.000 {method 'upper' of 'bytes' objects}\n",
      "      185    0.000    0.000    0.000    0.000 /home/azarkua/.local/lib/python3.10/site-packages/Bio/Seq.py:462(__len__)\n",
      "        1    0.000    0.000    0.000    0.000 /home/azarkua/.local/lib/python3.10/site-packages/Bio/Seq.py:495(__add__)\n",
      "        1    0.000    0.000    0.000    0.000 /home/azarkua/.local/lib/python3.10/site-packages/Bio/Seq.py:466(__iter__)\n",
      "        1    0.000    0.000    0.000    0.000 {method 'decode' of 'bytes' objects}\n",
      "      187    0.000    0.000    0.000    0.000 /home/azarkua/.local/lib/python3.10/site-packages/Bio/Seq.py:1961(__init__)\n",
      "        7    0.000    0.000    0.000    0.000 {method 'keys' of 'dict' objects}\n",
      "        4    0.000    0.000    0.000    0.000 /home/azarkua/.local/lib/python3.10/site-packages/Bio/SeqRecord.py:334(<lambda>)\n",
      "        1    0.000    0.000    0.000    0.000 {method 'encode' of 'str' objects}\n",
      "        1    0.000    0.000    0.000    0.000 {method 'join' of 'str' objects}\n",
      "        1    0.000    0.000    0.000    0.000 {method 'disable' of '_lsprof.Profiler' objects}\n",
      "\n",
      "\n"
     ]
    },
    {
     "data": {
      "text/plain": [
       "<pstats.Stats at 0x7f47c8b868f0>"
      ]
     },
     "execution_count": 64,
     "metadata": {},
     "output_type": "execute_result"
    }
   ],
   "source": [
    "cProfile.run(\"align_read(genome[0].seq.upper(),reads[:2], 10)\", \"pattern_matching_stats\")\n",
    "p = pstats.Stats(\"pattern_matching_stats\")\n",
    "p.sort_stats(\"cumulative\").print_stats()"
   ]
  },
  {
   "cell_type": "markdown",
   "id": "60780f09",
   "metadata": {},
   "source": [
    "tentative de comparaison des résultats "
   ]
  },
  {
   "cell_type": "code",
   "execution_count": 65,
   "id": "e103dae1",
   "metadata": {},
   "outputs": [
    {
     "name": "stdout",
     "output_type": "stream",
     "text": [
      "Defaulting to user installation because normal site-packages is not writeable\n",
      "Collecting pysam\n",
      "  Obtaining dependency information for pysam from https://files.pythonhosted.org/packages/2d/77/fe7b3a44975bc433c2ff42879b94a726ca1afdb9128ab4b4bce3b851f5d9/pysam-0.22.0-cp310-cp310-manylinux_2_28_x86_64.whl.metadata\n",
      "  Downloading pysam-0.22.0-cp310-cp310-manylinux_2_28_x86_64.whl.metadata (1.5 kB)\n",
      "Downloading pysam-0.22.0-cp310-cp310-manylinux_2_28_x86_64.whl (21.9 MB)\n",
      "\u001b[2K   \u001b[38;2;114;156;31m━━━━━━━━━━━━━━━━━━━━━━━━━━━━━━━━━━━━━━━━\u001b[0m \u001b[32m21.9/21.9 MB\u001b[0m \u001b[31m36.4 MB/s\u001b[0m eta \u001b[36m0:00:00\u001b[0mm eta \u001b[36m0:00:01\u001b[0m0:01\u001b[0m:01\u001b[0m\n",
      "\u001b[?25hInstalling collected packages: pysam\n",
      "Successfully installed pysam-0.22.0\n",
      "\n",
      "\u001b[1m[\u001b[0m\u001b[34;49mnotice\u001b[0m\u001b[1;39;49m]\u001b[0m\u001b[39;49m A new release of pip is available: \u001b[0m\u001b[31;49m23.2.1\u001b[0m\u001b[39;49m -> \u001b[0m\u001b[32;49m23.3.1\u001b[0m\n",
      "\u001b[1m[\u001b[0m\u001b[34;49mnotice\u001b[0m\u001b[1;39;49m]\u001b[0m\u001b[39;49m To update, run: \u001b[0m\u001b[32;49mpython3 -m pip install --upgrade pip\u001b[0m\n",
      "Note: you may need to restart the kernel to use updated packages.\n"
     ]
    }
   ],
   "source": [
    "pip install pysam"
   ]
  },
  {
   "cell_type": "code",
   "execution_count": 66,
   "id": "ceaab7de",
   "metadata": {},
   "outputs": [
    {
     "name": "stderr",
     "output_type": "stream",
     "text": [
      "[E::hts_open_format] Failed to open file \"/home/mvernier/Téléchargements/Galaxy14-[BAM-to-SAM_on_data_13__converted_SAM].sam\" : Permission denied\n"
     ]
    },
    {
     "ename": "PermissionError",
     "evalue": "[Errno 13] could not open alignment file `/home/mvernier/Téléchargements/Galaxy14-[BAM-to-SAM_on_data_13__converted_SAM].sam`: Permission denied",
     "output_type": "error",
     "traceback": [
      "\u001b[0;31m---------------------------------------------------------------------------\u001b[0m",
      "\u001b[0;31mPermissionError\u001b[0m                           Traceback (most recent call last)",
      "\u001b[0;32m/tmp/ipykernel_19042/1009353395.py\u001b[0m in \u001b[0;36m<module>\u001b[0;34m\u001b[0m\n\u001b[1;32m      6\u001b[0m \u001b[0;34m\u001b[0m\u001b[0m\n\u001b[1;32m      7\u001b[0m \u001b[0;31m# Ouvrir le fichier SAM en mode lecture\u001b[0m\u001b[0;34m\u001b[0m\u001b[0;34m\u001b[0m\u001b[0m\n\u001b[0;32m----> 8\u001b[0;31m \u001b[0msamfile\u001b[0m \u001b[0;34m=\u001b[0m \u001b[0mpysam\u001b[0m\u001b[0;34m.\u001b[0m\u001b[0mAlignmentFile\u001b[0m\u001b[0;34m(\u001b[0m\u001b[0mfichier_sam\u001b[0m\u001b[0;34m,\u001b[0m \u001b[0;34m\"r\"\u001b[0m\u001b[0;34m)\u001b[0m\u001b[0;34m\u001b[0m\u001b[0;34m\u001b[0m\u001b[0m\n\u001b[0m\u001b[1;32m      9\u001b[0m \u001b[0;34m\u001b[0m\u001b[0m\n\u001b[1;32m     10\u001b[0m \u001b[0;31m# Parcourir les alignements dans le fichier SAM\u001b[0m\u001b[0;34m\u001b[0m\u001b[0;34m\u001b[0m\u001b[0m\n",
      "\u001b[0;32m~/.local/lib/python3.10/site-packages/pysam/libcalignmentfile.pyx\u001b[0m in \u001b[0;36mpysam.libcalignmentfile.AlignmentFile.__cinit__\u001b[0;34m()\u001b[0m\n",
      "\u001b[0;32m~/.local/lib/python3.10/site-packages/pysam/libcalignmentfile.pyx\u001b[0m in \u001b[0;36mpysam.libcalignmentfile.AlignmentFile._open\u001b[0;34m()\u001b[0m\n",
      "\u001b[0;31mPermissionError\u001b[0m: [Errno 13] could not open alignment file `/home/mvernier/Téléchargements/Galaxy14-[BAM-to-SAM_on_data_13__converted_SAM].sam`: Permission denied"
     ]
    }
   ],
   "source": [
    "#Methode avec le fichier sam\n",
    "import pysam\n",
    "\n",
    "# Chemin vers le fichier SAM\n",
    "fichier_sam = \"/home/mvernier/Téléchargements/Galaxy14-[BAM-to-SAM_on_data_13__converted_SAM].sam\"\n",
    "\n",
    "# Ouvrir le fichier SAM en mode lecture\n",
    "samfile = pysam.AlignmentFile(fichier_sam, \"r\")\n",
    "\n",
    "# Parcourir les alignements dans le fichier SAM\n",
    "tableau_de_donnees = []\n",
    "\n",
    "for alignement in samfile:\n",
    "    ligne = {\n",
    "        \"QNAME\": alignement.query_name,\n",
    "        \"FLAG\": alignement.flag,\n",
    "        \"RNAME\": alignement.reference_name,\n",
    "        \"POS\": alignement.reference_start,\n",
    "        \"MAPQ\": alignement.mapping_quality,\n",
    "        \"CIGAR\": alignement.cigarstring,\n",
    "        \"RNEXT\": alignement.next_reference_name,\n",
    "        \"PNEXT\": alignement.next_reference_start,\n",
    "        \"TLEN\": alignement.template_length,\n",
    "        \"SEQ\": alignement.query_sequence,\n",
    "        \"QUAL\": alignement.query_qualities,\n",
    "    }\n",
    "    tableau_de_donnees.append(ligne)\n",
    "\n",
    "# Fermer le fichier SAM\n",
    "samfile.close()\n",
    "\n",
    "# Vous pouvez maintenant utiliser le tableau de données comme bon vous semble\n",
    "for ligne in tableau_de_donnees:\n",
    "    print(ligne)"
   ]
  },
  {
   "cell_type": "code",
   "execution_count": null,
   "id": "364ba0f4",
   "metadata": {},
   "outputs": [],
   "source": [
    "#methode avec directement le fichier bam\n",
    "import pysam\n",
    "bam = pysam.AlignmentFile(\"/home/mvernier/Documents/2023-2024/omique2/projet/single_Pfal_dat.bam\", \"rb\")\n",
    "tab=[]\n",
    "\n",
    "for alignment in bam:\n",
    "    read_name = alignment.query_name\n",
    "    reference_name = bam.getrname(alignment.reference_id)\n",
    "    position = alignment.reference_start\n",
    "    mapping_quality = alignment.mapping_quality\n",
    "    \n",
    "    tab.append(position)\n",
    "    \n",
    "bam.close()\n",
    "#print(tab)"
   ]
  },
  {
   "cell_type": "code",
   "execution_count": null,
   "id": "4999cfd4",
   "metadata": {},
   "outputs": [],
   "source": [
    "print(tab[:10])"
   ]
  },
  {
   "cell_type": "code",
   "execution_count": null,
   "id": "007ad7af",
   "metadata": {},
   "outputs": [],
   "source": [
    "error=0\n",
    "for i in range(5):\n",
    "    if (tab[i]!=align[i][\"alignement\"][0][0]):\n",
    "        error+=1\n",
    "pourcentage_erreur=error/5*100\n",
    "print(\"Le pourcentage d'erreur est \"+str(pourcentage_erreur)+\"%\")"
   ]
  }
 ],
 "metadata": {
  "kernelspec": {
   "display_name": "Python 3 (ipykernel)",
   "language": "python",
   "name": "python3"
  },
  "language_info": {
   "codemirror_mode": {
    "name": "ipython",
    "version": 3
   },
   "file_extension": ".py",
   "mimetype": "text/x-python",
   "name": "python",
   "nbconvert_exporter": "python",
   "pygments_lexer": "ipython3",
   "version": "3.10.12"
  }
 },
 "nbformat": 4,
 "nbformat_minor": 5
}
