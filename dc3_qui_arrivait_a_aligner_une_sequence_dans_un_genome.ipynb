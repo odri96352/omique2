{
 "cells": [
  {
   "cell_type": "markdown",
   "id": "b5e82a2c",
   "metadata": {},
   "source": [
    "# Développement d’une solution de mapping de données de séquençage à haut-débit sur un génome de référence"
   ]
  },
  {
   "cell_type": "markdown",
   "id": "9ba5f51b",
   "metadata": {},
   "source": [
    "### Mise en place d'un algorithme permettant de chercher un mot de longueur fixe dans un texte"
   ]
  },
  {
   "cell_type": "markdown",
   "id": "e0a91cb8",
   "metadata": {},
   "source": [
    "### Plan du notebook:\n",
    "1/ Prise en main de Biopython  \n",
    "2/ Implémentation d'un algorithme \"Difference Cover size 3\" pour construire une table de suffixe à partir d'un génome en un temps linéaire  \n",
    "3/ Trouver la transformée de Burrows-Wheeler   \n",
    "4/ Recherche d'un mot dans un texte grâce à la transformée de Burrows-Wheeler  \n",
    "5/ Importation des données expérimentales     \n",
    "6/ Créer et aligner les kmers de nos reads  "
   ]
  },
  {
   "cell_type": "markdown",
   "id": "fe6f1e10",
   "metadata": {},
   "source": [
    "## 1/ Biopython"
   ]
  },
  {
   "cell_type": "markdown",
   "id": "38e8c197",
   "metadata": {},
   "source": [
    "Importation des fichiers, tests des informations générales des fichiers."
   ]
  },
  {
   "cell_type": "code",
   "execution_count": 1,
   "id": "71bfc888",
   "metadata": {},
   "outputs": [
    {
     "name": "stdout",
     "output_type": "stream",
     "text": [
      "Defaulting to user installation because normal site-packages is not writeable\n",
      "Requirement already satisfied: pysam in /home/azarkua/.local/lib/python3.10/site-packages (0.22.0)\n",
      "\n",
      "\u001b[1m[\u001b[0m\u001b[34;49mnotice\u001b[0m\u001b[1;39;49m]\u001b[0m\u001b[39;49m A new release of pip is available: \u001b[0m\u001b[31;49m23.2.1\u001b[0m\u001b[39;49m -> \u001b[0m\u001b[32;49m23.3.1\u001b[0m\n",
      "\u001b[1m[\u001b[0m\u001b[34;49mnotice\u001b[0m\u001b[1;39;49m]\u001b[0m\u001b[39;49m To update, run: \u001b[0m\u001b[32;49mpython3 -m pip install --upgrade pip\u001b[0m\n",
      "Note: you may need to restart the kernel to use updated packages.\n"
     ]
    }
   ],
   "source": [
    "pip install pysam"
   ]
  },
  {
   "cell_type": "code",
   "execution_count": 2,
   "id": "63868023",
   "metadata": {},
   "outputs": [],
   "source": [
    "from Bio import SeqIO\n",
    "from collections import Counter\n",
    "import time\n",
    "import matplotlib.pyplot as plt\n",
    "import pstats\n",
    "import cProfile\n",
    "import copy\n",
    "import math\n",
    "import pysam"
   ]
  },
  {
   "cell_type": "code",
   "execution_count": 3,
   "id": "6149957a",
   "metadata": {},
   "outputs": [],
   "source": [
    "path_to_genome_file=\"/home/azarkua/Documents/2023-2024/omiques2/developement/omique2/genome.fna\"\n",
    "path_to_reads_file=\"/home/azarkua/Documents/2023-2024/omiques2/developement/omique2/reads.fq\""
   ]
  },
  {
   "cell_type": "markdown",
   "id": "0bdf54b0",
   "metadata": {},
   "source": [
    "path_to_genome_file=\"/home/mvernier/Documents/2023-2024/omique2/projet/GCF_000002765.5_GCA_000002765_genomic.fna\"\n",
    "path_to_reads_file=\"/home/mvernier/Documents/2023-2024/omique2/projet/single_Pfal_dat.fq\""
   ]
  },
  {
   "cell_type": "code",
   "execution_count": 4,
   "id": "ef73a1e6",
   "metadata": {},
   "outputs": [],
   "source": [
    "genome=[]\n",
    "nucleotide_genome=0\n",
    "for seq_record in SeqIO.parse(path_to_genome_file, \"fasta\"):\n",
    "    genome.append(seq_record)\n",
    "    nucleotide_genome+=len(seq_record.seq)"
   ]
  },
  {
   "cell_type": "code",
   "execution_count": 5,
   "id": "aef5a3e9",
   "metadata": {},
   "outputs": [
    {
     "name": "stdout",
     "output_type": "stream",
     "text": [
      "Informations contenues dans un élément de 'genome'.\n",
      "ID: NC_004325.2\n",
      "Name: NC_004325.2\n",
      "Description: NC_004325.2 Plasmodium falciparum 3D7 genome assembly, chromosome: 1\n",
      "Number of features: 0\n",
      "Seq('TGAACCCTaaaacctaaaccctaaaccctaaaccctgaaccctaaaccctgaac...agg')\n"
     ]
    }
   ],
   "source": [
    "print(\"Informations contenues dans un élément de 'genome'.\")\n",
    "print(genome[0])"
   ]
  },
  {
   "cell_type": "code",
   "execution_count": 6,
   "id": "b2880ec2",
   "metadata": {},
   "outputs": [
    {
     "name": "stdout",
     "output_type": "stream",
     "text": [
      "Notre génome contient 15 séquences (14 chromosomes et 1 plasmide) et est constitué de 23326872 nucléotides.\n"
     ]
    }
   ],
   "source": [
    "print(\"Notre génome contient \"+str(len(genome))+\" séquences (\"+ str(len(genome)-1) +\" chromosomes et 1 plasmide) et est constitué de \"+str(nucleotide_genome)+\" nucléotides.\")"
   ]
  },
  {
   "cell_type": "code",
   "execution_count": 7,
   "id": "92d6fa3e",
   "metadata": {},
   "outputs": [],
   "source": [
    "reads=[]\n",
    "nucleotide_reads=0\n",
    "for seq_record in SeqIO.parse(path_to_reads_file, \"fastq\"):\n",
    "    reads.append(seq_record)\n",
    "    nucleotide_reads+=len(seq_record.seq)\n",
    "    #if len(seq_record.seq)!= 100:\n",
    "    #    print(\"False\")"
   ]
  },
  {
   "cell_type": "code",
   "execution_count": 8,
   "id": "8950178e",
   "metadata": {},
   "outputs": [
    {
     "name": "stdout",
     "output_type": "stream",
     "text": [
      "Informations contenues dans un élément de 'reads'.\n",
      "ID: NC_004325.2-99990\n",
      "Name: NC_004325.2-99990\n",
      "Description: NC_004325.2-99990\n",
      "Number of features: 0\n",
      "Per letter annotation for: phred_quality\n",
      "Seq('TCTTTTAACATACCTAAGAAGGAATACATTTTACACTTTACCTATTATTTATTC...ATA')\n"
     ]
    }
   ],
   "source": [
    "print(\"Informations contenues dans un élément de 'reads'.\")\n",
    "print(reads[10])"
   ]
  },
  {
   "cell_type": "code",
   "execution_count": 9,
   "id": "daf7f246",
   "metadata": {},
   "outputs": [
    {
     "name": "stdout",
     "output_type": "stream",
     "text": [
      "Nous avons 1500000 reads qui contiennent 150000000 nucléotides.\n",
      "Chaque read a une longueur de 100 nucléotide.\n"
     ]
    }
   ],
   "source": [
    "print(\"Nous avons \"+str(len(reads))+\" reads qui contiennent \"+str(nucleotide_reads)+\" nucléotides.\")\n",
    "print(\"Chaque read a une longueur de \"+str(int(nucleotide_reads/len(reads)))+\" nucléotide.\")"
   ]
  },
  {
   "cell_type": "markdown",
   "id": "51210559",
   "metadata": {},
   "source": [
    "## 2/ DC3\n",
    "### Première étape de DC3: division des positions de notre génome, tri des positions"
   ]
  },
  {
   "cell_type": "code",
   "execution_count": 10,
   "id": "7166cabb",
   "metadata": {},
   "outputs": [],
   "source": [
    "def asciiDC3 (seq) : \n",
    "    \"\"\"\n",
    "    Create sequence of ascii equivalent of each element of given list parameter.\n",
    "    Add three sentinel numbers necessary for DC3 algorithm.\n",
    "    \n",
    "    Args:\n",
    "        seq (list of str): list of elements to transform\n",
    "    \n",
    "    Return:\n",
    "        (list of int)\n",
    "    \"\"\"\n",
    "    asc=[]\n",
    "    for i in seq : \n",
    "        asc.append(ord(i))\n",
    "    \n",
    "    return asc+[0,0,0]"
   ]
  },
  {
   "cell_type": "markdown",
   "id": "13dc9fd0",
   "metadata": {},
   "source": [
    "##### Complexité:\n",
    "Posons n, la taille de notre séquence d'ADN. Ainsi, en parlant d'une complexité de $O(n)$, on a une complexité linéaire selon la taille de la séquence fournie.\n",
    "Parcourir la séquence 1 fois implique que asciiDC3 a une compléxité $O(n)$."
   ]
  },
  {
   "cell_type": "code",
   "execution_count": 11,
   "id": "c807cbc7",
   "metadata": {},
   "outputs": [],
   "source": [
    "def position1_2 (asc):\n",
    "    \"\"\"\n",
    "    Create list of positions not multiple of 3\n",
    "    \n",
    "    Args:\n",
    "        asc (list of int): sequence we want to extract a suffix array from\n",
    "    \n",
    "    Return:\n",
    "         ind1+ind2 (list of int): list of positions not multiple of 3\n",
    "    \"\"\"\n",
    "    ind1=[]\n",
    "    ind2=[]\n",
    "    for k in range(len(asc)-2):\n",
    "        #attention on a peut etre fait de la merde ici, pas sure du -2\n",
    "        if k%3==1 :\n",
    "            ind1.append(k)\n",
    "        if k%3==2:\n",
    "            ind2.append(k)\n",
    "    # dans le cas où T a un nombre d'élément multiple de 3, r12 ne contiendra pas le triplet [0,0,0].\n",
    "    # Or, la fonction, \"removesentinel\" retire 1 élément notre suffix table, pour justement se débarrasser de [0,0,0]\n",
    "    # J'ai donc décider de rajouter artificiellement [0,0,0] dans les cas où il n'est pas déjà là.\n",
    "    if len(asc)%3==0:\n",
    "        ind1.append(len(asc)-1-2)\n",
    "        \n",
    "    return ind1+ind2"
   ]
  },
  {
   "cell_type": "markdown",
   "id": "1277ec13",
   "metadata": {},
   "source": [
    "##### Complexité:\n",
    "Parcourir la séquence 1 fois implique que position1_2 a une compléxité $O(n)$, n étant la longueur de la séquence "
   ]
  },
  {
   "cell_type": "code",
   "execution_count": 12,
   "id": "983e5cfc",
   "metadata": {},
   "outputs": [],
   "source": [
    "def radix_with_p12(p,t):\n",
    "    \"\"\"\n",
    "    Creates a list of couples containing:\n",
    "    - sequences of three elements from \"t\" staring from positions in parameter \"p\"\n",
    "    - the position p\n",
    "    \n",
    "    Args : \n",
    "        p (list of int): list of positions not multiple of 3 \n",
    "        t (list of int): sequence we want to extract a suffix array from\n",
    "    \n",
    "    Return : \n",
    "        r (list of list): list of triplets and their starting positions\n",
    "    \n",
    "    \"\"\"\n",
    "    r=[]\n",
    "    for i in range(len(p)):\n",
    "        index=p[i]\n",
    "        r.append([[t[index],t[index+1], t[index+2]],index])\n",
    "    return r"
   ]
  },
  {
   "cell_type": "markdown",
   "id": "a021a4e8",
   "metadata": {},
   "source": [
    "##### Complexité:\n",
    "Parcourir la séquence 1 fois implique que radix_with_p12 a une compléxité $O(n)$, n étant la longueur de la séquence "
   ]
  },
  {
   "cell_type": "code",
   "execution_count": 13,
   "id": "862523e6",
   "metadata": {},
   "outputs": [],
   "source": [
    "def sort_with_p12(array, alphabet, column_number):\n",
    "    \"\"\"\n",
    "    Sorts parameter \"array\" using Radix Sort\n",
    "    \n",
    "    Args:\n",
    "        array (list of list): list of triplets and their positions.\n",
    "        \n",
    "        alphabet (dictionnary): alphabet of our array. Ouput of function \"alphabetT\" or \"alphabetR0_with_p12\"\n",
    "        \n",
    "        columnNumber (int): number of last column of the lists in our paramater \"array\". \n",
    "                                    for r12, columnNumber=2\n",
    "                                    for r0, columnNumber=1\n",
    "    \n",
    "    Return:\n",
    "        array (list of list) : sorted list of triplets and their positions\n",
    "\n",
    "    \"\"\"\n",
    "    if len(array) == 0:\n",
    "        return array\n",
    "    # Perform counting sort on each column, starting at the last\n",
    "\n",
    "    column = column_number\n",
    "    while column>=0: \n",
    "        array = counting_sort_by_digit_with_p12(array, alphabet, column)\n",
    "        column-=1 #Switches column in array\n",
    "\n",
    "    return array\n",
    "\n",
    "def counting_sort_by_digit_with_p12(array, alphabet, column):\n",
    "    \"\"\"\n",
    "    Sorts parameter \"array\" using Counting Sort\n",
    "    \n",
    "    Args:\n",
    "        array (list of list): list of triplets and their positions.\n",
    "        \n",
    "        alphabet (dictionnary): alphabet of our array.O uput of function \"alphabetT\" or \"alphabetR0_with_p12\"\n",
    "        \n",
    "        columnNumber (int): number of last column of the lists in our paramater \"array\". \n",
    "                                    for r12, columnNumber=2\n",
    "                                    for r0, columnNumber=1\n",
    "    \n",
    "    Return:\n",
    "        array (list of list) : sorted list of triplets and their positions according to column number \"column\"\n",
    "\n",
    "    \"\"\"\n",
    "    count_index = -1\n",
    "    count = [0] * len(alphabet)\n",
    "    output = [None] * len(array)\n",
    "\n",
    "  # Count frequencies\n",
    "    for i in range(0, len(array)):\n",
    "        count_index = alphabet[array[i][0][column]]\n",
    "        count[count_index] += 1\n",
    "\n",
    "  # Compute cumulates\n",
    "    for i in range(1, len(alphabet)):\n",
    "        count[i] += count[i - 1]\n",
    "\n",
    "  # Move records\n",
    "    for i in range(len(array) - 1, -1, -1):\n",
    "        count_index = alphabet[array[i][0][column]]\n",
    "        count[count_index] -= 1\n",
    "        output[count[count_index]] = array[i]\n",
    "       \n",
    "    return output"
   ]
  },
  {
   "cell_type": "markdown",
   "id": "1339537d",
   "metadata": {},
   "source": [
    "##### Complexité:\n",
    "\"sort\" et \"CountingSortByDigits\" réalisent ensemble un tri du type \"radix sort\".\n",
    "\"Radix sort\" a donc une complexité de: $O(d*n)$, avec d=3 le nombre de colonnes et n est la taille de array (ici la taille de r12 ou r0)."
   ]
  },
  {
   "cell_type": "code",
   "execution_count": 14,
   "id": "b13f245e",
   "metadata": {},
   "outputs": [],
   "source": [
    "def triplets_are_equal(a,b):\n",
    "    \"\"\"\n",
    "    Checks if a and b have the same elements.\n",
    "    \n",
    "    Args:\n",
    "        a (list of int) \n",
    "        \n",
    "        b (list of int)\n",
    "\n",
    "    Return:\n",
    "        (bool): True if the triplets are equal, False if not\n",
    "\n",
    "    \"\"\"\n",
    "    for i in range(len(a)):\n",
    "        if a[i]!=b[i]:\n",
    "            return False\n",
    "    return True\n",
    "\n",
    "\n",
    "def ordre_with_p12(r12_p12_sorted, use_index_12=False):\n",
    "    \"\"\"\n",
    "    Returns the order of each element of parameter \"R12p12sorted\".\n",
    "    If use_index_12 is set to \"True\", it also returns a dictionnary, with the position of the triplet\n",
    "    as a key, and its order as element.\n",
    "    \n",
    "    Example: \n",
    "        ordre_with_p12([ [ [0,0,0],1], [ [0,0,0],4], [ [0,0,1],7])=[1,1,2]\n",
    "        \n",
    "        ordre_with_p12([ [ [0,0,0],1], [ [0,0,0],4], [ [0,0,1],7], use_index_12=True)= [ [1,1,2], {1:1,4:1,7:2} ]\n",
    "    \n",
    "    args : \n",
    "        r12_p12_sorted (list) : list of triplets with their position in the sequence, ordered \n",
    "        \n",
    "        use_index_12 (boolean) : True if you want a dictionnary back\n",
    "        \n",
    "    return : \n",
    "        if use_index_12=True : \n",
    "            order (list of int) :  order of each element of parameter \"r12_p12_sorted\"\n",
    "            \n",
    "            repetition (boolean) : If two triplets have the same ordre, \"repetition\"=True\n",
    "            \n",
    "            indexdict (dictionary) :keys are the positions p12 and elements are the order of the positions \n",
    "        \n",
    "        if use_index_12=False : \n",
    "            order (list of int): order of each element of parameter \"r12_p12_sorted\"\n",
    "    \"\"\"\n",
    "    # nous renovie la liste order du genre (1,2,2,3,4,4,5)  et un booléen indiquant s'il y a répétition\n",
    "    index=1\n",
    "    repetition=False\n",
    "    order=[1]\n",
    "    \n",
    "    if use_index_12:\n",
    "        index_dict={r12_p12_sorted[0][1]:1}\n",
    "        \n",
    "    for i in range(1, len(r12_p12_sorted)): \n",
    "        if triplets_are_equal(r12_p12_sorted[i-1][0], r12_p12_sorted[i][0]):\n",
    "            order.append(index)\n",
    "            repetition=True\n",
    "        else : \n",
    "            index+=1\n",
    "            order.append(index)\n",
    "            \n",
    "        if use_index_12:\n",
    "            index_dict[r12_p12_sorted[i][1]]=order[i]\n",
    "    if use_index_12:\n",
    "        return order, repetition, index_dict\n",
    "    else: \n",
    "        return order\n",
    "            "
   ]
  },
  {
   "cell_type": "markdown",
   "id": "6c90f10e",
   "metadata": {},
   "source": [
    "##### Complexité:\n",
    "triplets_are_equal a une complexité de $O(1)$ donc ordre_with_p12 a une complexité de $O(n)$ à cause la boucle for, n étant la taille de r12_p12_sorted. "
   ]
  },
  {
   "cell_type": "code",
   "execution_count": 15,
   "id": "992507a1",
   "metadata": {},
   "outputs": [],
   "source": [
    "def alphabetT(T):\n",
    "    \"\"\"\n",
    "    Returns a dictionnary with the order of each \"letter\" constituting the parameter T.\n",
    "    \n",
    "    Example: \n",
    "        alphabetT([4,9,14,67])={4:0, 9:1, 14:2, 67:3}\n",
    "    \n",
    "    Args:\n",
    "        T (list of int): the sequence we want a suffix array from\n",
    "    \n",
    "    Return:\n",
    "        dic (dictionnary) : order of each \"letter\" constituting the parameter T\n",
    "\n",
    "    \"\"\"\n",
    "\n",
    "    dic={}\n",
    "    a=[]\n",
    "    for i in range(len(T)):\n",
    "        a.append(T[i])\n",
    "    a.sort() \n",
    "    \n",
    "    for element in a:\n",
    "        if not (element in dic):\n",
    "            dic[element]=len(dic)\n",
    "    return dic"
   ]
  },
  {
   "cell_type": "code",
   "execution_count": 16,
   "id": "51c44263",
   "metadata": {},
   "outputs": [],
   "source": [
    "def alphabet_r0_with_p12(r0_p0):\n",
    "    \"\"\"\n",
    "    Returns a dictionnary with the order of each \"letter\" constituting the parameter r0_p0.\n",
    "    Similar to the function alphabetT, coded specifically for the output of function position0_R0_p0\n",
    "    \n",
    "    Example: \n",
    "        alphabet_r0_with_p12([[[65, 14], 0], [[67, 11], 3]]) = {11: 0, 14: 1, 65: 2, 67: 3}\n",
    "    \n",
    "    Args:\n",
    "        r0_p0 (list of list): list of couples and their position in the sequence we want a suffix array from.\n",
    "                             output of function position0_R0_p0\n",
    "                             [ [couple], position multiple of 3]\n",
    "    \n",
    "    Return:\n",
    "        dic (dictionnary) : order of each \"letter\" constituting the parameter r0_p0\n",
    "\n",
    "    \"\"\"\n",
    "    \n",
    "    dic={}\n",
    "    a=[]\n",
    "    for column in range(2):\n",
    "        for i in range(len(r0_p0)):\n",
    "            a.append(r0_p0[i][0][column])\n",
    "    a.sort() \n",
    "    \n",
    "    for element in a:\n",
    "        if not (element in dic):\n",
    "            dic[element]=len(dic)\n",
    "    return dic"
   ]
  },
  {
   "cell_type": "markdown",
   "id": "374adf16",
   "metadata": {},
   "source": [
    "##### Complexité:\n",
    "alphabetT a une complexité de $O(n)$(n étant la taille de 'T') car la fonction parcourt toute la séquence une fois. Il en est de même pour alphabetR0_with_p12, car la seconde boucle for n'est que de taille 2. "
   ]
  },
  {
   "cell_type": "markdown",
   "id": "a2237070",
   "metadata": {},
   "source": [
    "### Deuxième étape de DC3: utilisation des premières positions triées pour construire second groupe de positions"
   ]
  },
  {
   "cell_type": "code",
   "execution_count": 17,
   "id": "a616f4b5",
   "metadata": {},
   "outputs": [],
   "source": [
    "def Tprime_with_p12(p12, index_dict):\n",
    "    \"\"\"\n",
    "    Return a list of the order of each element of p12.\n",
    "    The list will be the new sequence from which we want to extract a suffix array.\n",
    "    \n",
    "    Args : \n",
    "        p12 (list of int) : positions not multiple of 3\n",
    "        \n",
    "        index_dict (dictionnary) : keys are the positions p12 and elements are the order of the positions \n",
    "        \n",
    "    Return :\n",
    "        t(list of int): order of each element of p12\n",
    "    \"\"\"\n",
    "    t=[]\n",
    "    for p in p12:\n",
    "        t.append(index_dict[p])\n",
    "    return t"
   ]
  },
  {
   "cell_type": "markdown",
   "id": "301ce172",
   "metadata": {},
   "source": [
    "##### Complexité:\n",
    "Parcourir la liste des positions p12 une fois implique que Tprime_with_p12 a une compléxité $O(n)$, n étant la taille de p12."
   ]
  },
  {
   "cell_type": "code",
   "execution_count": 18,
   "id": "679e86bf",
   "metadata": {},
   "outputs": [],
   "source": [
    "def position0_R0_p0(T, index_12_dict):\n",
    "    \"\"\"\n",
    "    Returns:\n",
    "    -list of positions multiples of 3\n",
    "    -list of lists, composed of: 1/ [element at position multiple of 3, order of the element at next position]\n",
    "                                2/ position multiple of 3\n",
    "    Args : \n",
    "        T (list of int) : sequence for which we are looking to extract the suffix array. \n",
    "                        It must contain the three sentinel numbers\n",
    "        \n",
    "        index_12_dict (dictionary) : dictionary which contains the positions of p12 as key and their order as elements\n",
    "        \n",
    "    Return :\n",
    "        position (list): all positions multiple of 3\n",
    "        \n",
    "        R (list of list): lists each position with the elements at the next position\n",
    "\n",
    "    \"\"\"\n",
    "    position=[]\n",
    "    R=[]\n",
    "    for i in range(len(T)-3): \n",
    "        if i%3==0:\n",
    "            position.append(i)\n",
    "            if i+1<len(T)-3:\n",
    "                R.append([[T[i],index_12_dict[i+1]],position[-1]])\n",
    "            else:\n",
    "                R.append([[T[i],1],position[-1]]) \n",
    "    return position, R"
   ]
  },
  {
   "cell_type": "markdown",
   "id": "84b828f3",
   "metadata": {},
   "source": [
    "##### Complexité:\n",
    "Parcourir notre séquence initiale 1 fois implique que position0_R0_p0 a une compléxité $O(n)$, n étant la taille de 'T'-3. La tache \"chercher le rang de la position suivante\" a une complexité de $O(1)$ car on cherche une clé dans un dictionnaire."
   ]
  },
  {
   "cell_type": "markdown",
   "id": "c75ddd35",
   "metadata": {},
   "source": [
    "### Troisième étape de DC3: combiner les positions triées pour trouver le suffix array."
   ]
  },
  {
   "cell_type": "code",
   "execution_count": 19,
   "id": "83cfeabf",
   "metadata": {},
   "outputs": [],
   "source": [
    "def merge_with_p12(Tfinal, r0_p0_sorted, index_12_dict) :\n",
    "    \"\"\"\n",
    "    Constructs a list of the positions in the right order to construct the suffix table of parameter \"Tfinale\"\n",
    "    \n",
    "    Args : \n",
    "        Tfinal(list of int) : sequence for which we want to create a suffix table \n",
    "        \n",
    "        r0_p0_sorted(list of list) : sorted output of positionR0P0 \n",
    "        \n",
    "        index_12_dict(dictionary):  dictionary which contains the positions of p12 as key and their order as elements\n",
    "    \n",
    "    Return : \n",
    "        liste (list of int) : positions in the right order to construct the suffix table \n",
    "    \"\"\"\n",
    "\n",
    "    index_12_dict_keys=list(index_12_dict.keys())\n",
    "    liste=[]\n",
    "    A=0\n",
    "    B=0\n",
    "    while A<len(r0_p0_sorted) and B<len(index_12_dict_keys):\n",
    "        a=r0_p0_sorted[A][1]\n",
    "        b=index_12_dict_keys[B]\n",
    "        if Tfinal[a]!=Tfinal[b] :\n",
    "            minimum=min(Tfinal[a], Tfinal[b])\n",
    "            \n",
    "            if minimum == Tfinal[a]:\n",
    "                A+=1\n",
    "                liste.append(a)\n",
    "            else: \n",
    "                B+=1\n",
    "                liste.append(b)\n",
    "\n",
    "        else :\n",
    "            if b%3==1 : \n",
    "                longueur=len(liste)\n",
    "                i=0\n",
    "                if index_12_dict[a+1]<index_12_dict[b+1]:\n",
    "                    liste.append(a)\n",
    "                    A+=1\n",
    "                else:\n",
    "                    liste.append(b)\n",
    "                \n",
    "                    B+=1\n",
    "                    \n",
    "                    \n",
    "            elif b%3==2 :\n",
    "            \n",
    "                if Tfinal[a+1]!=Tfinal[b+1] :\n",
    "                   \n",
    "                    minimum=min(Tfinal[a+1], Tfinal[b+1])\n",
    "                    if minimum == Tfinal[a+1]:\n",
    "                        A+=1\n",
    "                    \n",
    "                        liste.append(a)\n",
    "                    else: \n",
    "                        B+=1\n",
    "                        \n",
    "                        liste.append(b)\n",
    "\n",
    "                else:\n",
    "                  \n",
    "                    if index_12_dict[a+2]<index_12_dict[b+2]:\n",
    "                        liste.append(a)\n",
    "                        A+=1\n",
    "                    else:\n",
    "                        liste.append(b)\n",
    "                        B+=1\n",
    "                        \n",
    "\n",
    "    if A==len(r0_p0_sorted):\n",
    "\n",
    "        for i in range(B,len(index_12_dict_keys)):\n",
    "            liste.append(index_12_dict_keys[i])\n",
    "                \n",
    "    if B==len(index_12_dict_keys):\n",
    "\n",
    "        for i in range(A, len(r0_p0_sorted)):\n",
    "            liste.append(r0_p0_sorted[i][1])\n",
    "\n",
    "    return liste"
   ]
  },
  {
   "cell_type": "markdown",
   "id": "235324b1",
   "metadata": {},
   "source": [
    "##### Complexité:\n",
    "Notre fonction est constitué d'une \"boucle while\", puis de deux \"boucles for\". Mais une seule des deux \"boucles for\" sera parcourue, car elles sont précédées par des tests conditionnels: si un \"if\" est entré, le second ne pourra pas l'être.  \n",
    "La \"boucle while\" suivit de n'importe laquelle des deux \"boucles for\" ne parcourt que n éléments, n étant la taille de 'r0_p0_sorted'. Les boucles ne sont pas imbriquées les unes dans les autres, et dans la \"boucle while\", seules des opérations de complexité $O(1)$ prennent place.\n",
    "Donc merge_with_p12 a une complexité de $O(n)$."
   ]
  },
  {
   "cell_type": "code",
   "execution_count": 20,
   "id": "5357493c",
   "metadata": {},
   "outputs": [],
   "source": [
    "def remove_sentinel(index):\n",
    "    \"\"\"\n",
    "    Return our suffix array without the position of the three sentinels numbers\n",
    "    \n",
    "    Args : \n",
    "        index (list of int) : list of indexes \n",
    "        \n",
    "    Return :\n",
    "        index[1:](list of int) : list of indexes without the sentinels\n",
    "    \n",
    "    \"\"\"\n",
    "    return index[1:]"
   ]
  },
  {
   "cell_type": "markdown",
   "id": "d679e6c1",
   "metadata": {},
   "source": [
    "##### Complexité\n",
    "removesentinel a une complexité temporelle de $0(1)$."
   ]
  },
  {
   "cell_type": "code",
   "execution_count": 21,
   "id": "cf1426fb",
   "metadata": {},
   "outputs": [],
   "source": [
    "def resumeHigherOrder_with_p12(index_012_prime, P12):\n",
    "    \"\"\"\n",
    "    Returns a dictionnary with positions not multiple of 3 \"P12\" as key, and their order with \n",
    "    the positions of the suffix array \"index012prime\" as elements. It is used to create a new \"index_12_dict\" \n",
    "    element\n",
    "    \n",
    "    Args : \n",
    "        index012prime (list of int) : suffix array of the positions not multiple of 3\n",
    "        \n",
    "        P12 (list of int) : positions not multiple of 3\n",
    "    \n",
    "    Return : \n",
    "        output (dictionnary) : positions not multiple of 3 \"P12\" as key, and their order with the positions of the suffix array \"index012prime\" as elements.\n",
    "    \"\"\"\n",
    "    output={}\n",
    "    for i in range(len(index_012_prime)):\n",
    "        output[P12[index_012_prime[i]]]=i\n",
    "        \n",
    "    return output"
   ]
  },
  {
   "cell_type": "markdown",
   "id": "fcc53ec5",
   "metadata": {},
   "source": [
    "##### Complexité\n",
    "resumeHigherOrder_with_p12 parcourt chaque élément de index_012_prime, qui est constitué de 2/3 des éléments de notre séquence d'ADN initiale de taille n. \n",
    "La fonction est donc de complexité $0(n)$."
   ]
  },
  {
   "cell_type": "markdown",
   "id": "337a7274",
   "metadata": {},
   "source": [
    "### Dernière étape de DC3: assemblage final de la récursion."
   ]
  },
  {
   "cell_type": "code",
   "execution_count": 22,
   "id": "c6a79b12",
   "metadata": {},
   "outputs": [],
   "source": [
    "def almost_dc3_with_p12(T):\n",
    "    \"\"\"\n",
    "    Return the suffix array of the sequence T\n",
    "    \n",
    "    Args : \n",
    "        T (list of int) : list of int corresponding to the ascii code of the initial sequence\n",
    "        \n",
    "    Return : \n",
    "        index_012 (list of int) : positions in order to construct the suffix array of T\n",
    "    \"\"\"\n",
    "    \n",
    "    column_number=2\n",
    "    p12=position1_2(T)\n",
    "    r12=radix_with_p12(p12,T)\n",
    "    alphabet_T=alphabetT(T)\n",
    "    r12_sorted=sort_with_p12(r12, alphabet_T, column_number)    \n",
    "    order12,repetition, index_12_dict=ordre_with_p12(r12_sorted, True)\n",
    "    if repetition:\n",
    "        Tprim=Tprime_with_p12(p12, index_12_dict)+[0,0,0]\n",
    "        index_012=almost_dc3_with_p12(Tprim)\n",
    "        index_12_dict=resumeHigherOrder_with_p12(index_012, p12)\n",
    "    p0,r0_p0=position0_R0_p0(T, index_12_dict)\n",
    "    alphabet_r0=alphabet_r0_with_p12(r0_p0)\n",
    "    r0_sorted=sort_with_p12(r0_p0,alphabet_r0 ,column_number-1)\n",
    "    index_012=remove_sentinel(merge_with_p12(T, r0_sorted, index_12_dict))\n",
    "    \n",
    "    return index_012\n",
    "   \n",
    "    \n",
    "    "
   ]
  },
  {
   "cell_type": "markdown",
   "id": "700190ab",
   "metadata": {},
   "source": [
    "##### Complexité\n",
    "almost_dc3_with_p12 est une fonction récursive dont chaque sous fonction a une complexité au pire linéaire.\n",
    "Elle est donc de complexité $0(n)$, n étant la taille de la séquence 'T'."
   ]
  },
  {
   "cell_type": "markdown",
   "id": "1a1b29c2",
   "metadata": {},
   "source": [
    "#### Testons le code avec l'exemple du cours"
   ]
  },
  {
   "cell_type": "code",
   "execution_count": 23,
   "id": "56a19fcd",
   "metadata": {},
   "outputs": [
    {
     "name": "stdout",
     "output_type": "stream",
     "text": [
      "[8, 0, 3, 6, 9, 1, 4, 7, 2, 5]\n",
      "La fonction pour trouver le suffix array de S a pris 0.0001685619354248047 secondes.\n"
     ]
    }
   ],
   "source": [
    "S=\"abcabcacab\"\n",
    "start=time.time()\n",
    "T=almost_dc3_with_p12(asciiDC3(S))\n",
    "end=time.time()\n",
    "column_number=2\n",
    "print(T)\n",
    "print(\"La fonction pour trouver le suffix array de S a pris \"+str(end-start)+\" secondes.\")"
   ]
  },
  {
   "cell_type": "markdown",
   "id": "4eaf1a2c",
   "metadata": {},
   "source": [
    "#### Testons le code avec le génome"
   ]
  },
  {
   "cell_type": "markdown",
   "id": "d589cce0",
   "metadata": {},
   "source": [
    "Suffix table du premier chromosome"
   ]
  },
  {
   "cell_type": "code",
   "execution_count": 24,
   "id": "e2b39d26",
   "metadata": {},
   "outputs": [
    {
     "name": "stdout",
     "output_type": "stream",
     "text": [
      "Pour le premier chromosome, il nous faut 17.118040084838867 secondes pour calculer sa suffix table.\n",
      "Le premier chromosome a une taille de 640851 nucléotides.\n"
     ]
    }
   ],
   "source": [
    "start=time.time()\n",
    "almost_dc3_with_p12(asciiDC3(genome[0].seq.upper()))\n",
    "end=time.time()\n",
    "print(\"Pour le premier chromosome, il nous faut \"+str(end-start)+\" secondes pour calculer sa suffix table.\")\n",
    "print(\"Le premier chromosome a une taille de \"+str(len(genome[0].seq.upper()))+\" nucléotides.\")"
   ]
  },
  {
   "cell_type": "code",
   "execution_count": 25,
   "id": "3f7b3440",
   "metadata": {},
   "outputs": [
    {
     "name": "stdout",
     "output_type": "stream",
     "text": [
      "Il nous faut 211.94798851013184 secondes pour calculer la suffix table de 5 chromosome.\n",
      "En moyenne, il nous faut donc 30.278284072875977 secondes pour calculer la suffix table d'un chromosome.\n",
      "Nos 7 chromosomes ont une taille de 5199971 nucléotides.\n"
     ]
    }
   ],
   "source": [
    "start0=time.time()\n",
    "suffix_array_0=almost_dc3_with_p12(asciiDC3(genome[0].seq.upper()))\n",
    "t0=time.time()\n",
    "suffix_array_1=almost_dc3_with_p12(asciiDC3(genome[1].seq.upper()))\n",
    "t1=time.time()\n",
    "suffix_array_2=almost_dc3_with_p12(asciiDC3(genome[2].seq.upper()))\n",
    "t2=time.time()\n",
    "suffix_array_3=almost_dc3_with_p12(asciiDC3(genome[3].seq.upper()))\n",
    "t3=time.time()\n",
    "suffix_array_4=almost_dc3_with_p12(asciiDC3(genome[4].seq.upper()))\n",
    "t4=time.time()\n",
    "suffix_array_5=almost_dc3_with_p12(asciiDC3(genome[5].seq.upper()))\n",
    "t5=time.time()\n",
    "suffix_array_6=almost_dc3_with_p12(asciiDC3(genome[6].seq.upper()))\n",
    "end=time.time()\n",
    "print(\"Il nous faut \"+str(end-start)+\" secondes pour calculer la suffix table de 5 chromosome.\")\n",
    "print(\"En moyenne, il nous faut donc \"+str((end-start)/7)+\" secondes pour calculer la suffix table d'un chromosome.\")\n",
    "print(\"Nos 7 chromosomes ont une taille de \"+str(len(genome[0].seq.upper())+len(genome[1].seq.upper())+len(genome[2].seq.upper())+len(genome[3].seq.upper())+len(genome[4].seq.upper()))+\" nucléotides.\")"
   ]
  },
  {
   "cell_type": "markdown",
   "id": "a28802a2",
   "metadata": {},
   "source": [
    "Visualisons la complexité de la fonction codant pour dc3:"
   ]
  },
  {
   "cell_type": "code",
   "execution_count": 26,
   "id": "3d4b8319",
   "metadata": {},
   "outputs": [
    {
     "data": {
      "image/png": "[encoded data removed]",
      "text/plain": [
       "<Figure size 432x288 with 1 Axes>"
      ]
     },
     "metadata": {
      "needs_background": "light"
     },
     "output_type": "display_data"
    }
   ],
   "source": [
    "plt.plot([len(genome[0].seq.upper()), len(genome[1].seq.upper()), len(genome[2].seq.upper()),len(genome[3].seq.upper()), len(genome[4].seq.upper()), len(genome[5].seq.upper()), len(genome[6].seq.upper())], [t0-start0,t1-t0, t2-t1, t3-t2,t4-t3,t5-t4, end-t5], 'ro')\n",
    "plt.show()"
   ]
  },
  {
   "cell_type": "markdown",
   "id": "5e839251",
   "metadata": {},
   "source": [
    "On observe des linéarités discontinues: la complexité semble linéaire entre le 2eme et 4eme chromosome, ainsi qu'entre le 5eme et le 7eme."
   ]
  },
  {
   "cell_type": "markdown",
   "id": "bb10b263",
   "metadata": {},
   "source": [
    "Mesurons le temps que prend chaque sous fonction de notre algorithme DC3 grâce à la bibliothèque cProfile."
   ]
  },
  {
   "cell_type": "code",
   "execution_count": 27,
   "id": "a111f300",
   "metadata": {},
   "outputs": [
    {
     "name": "stdout",
     "output_type": "stream",
     "text": [
      "Fri Nov 10 21:02:30 2023    dc3_stats\n",
      "\n",
      "         21257127 function calls (21257121 primitive calls) in 17.860 seconds\n",
      "\n",
      "   Ordered by: cumulative time\n",
      "\n",
      "   ncalls  tottime  percall  cumtime  percall filename:lineno(function)\n",
      "        1    0.000    0.000   17.860   17.860 {built-in method builtins.exec}\n",
      "        1    0.279    0.279   17.859   17.859 <string>:1(<module>)\n",
      "      7/1    0.681    0.097   17.391   17.391 /tmp/ipykernel_36096/3977718216.py:1(almost_dc3_with_p12)\n",
      "       14    0.096    0.007    5.279    0.377 /tmp/ipykernel_36096/2430097404.py:1(sort_with_p12)\n",
      "       35    5.182    0.148    5.182    0.148 /tmp/ipykernel_36096/2430097404.py:29(counting_sort_by_digit_with_p12)\n",
      "        7    3.238    0.463    3.330    0.476 /tmp/ipykernel_36096/3017114688.py:1(position0_R0_p0)\n",
      "        7    2.489    0.356    2.912    0.416 /tmp/ipykernel_36096/3105641319.py:1(merge_with_p12)\n",
      "        7    1.017    0.145    1.746    0.249 /tmp/ipykernel_36096/2535467419.py:20(ordre_with_p12)\n",
      "        7    0.786    0.112    0.848    0.121 /tmp/ipykernel_36096/762813728.py:1(radix_with_p12)\n",
      "        7    0.475    0.068    0.774    0.111 /tmp/ipykernel_36096/2356060223.py:1(alphabet_r0_with_p12)\n",
      "        7    0.403    0.058    0.704    0.101 /tmp/ipykernel_36096/3536684344.py:1(alphabetT)\n",
      "  1206689    0.603    0.000    0.664    0.000 /tmp/ipykernel_36096/2535467419.py:1(triplets_are_equal)\n",
      " 11463619    0.575    0.000    0.575    0.000 {method 'append' of 'list' objects}\n",
      "  7301050    0.407    0.000    0.407    0.000 {built-in method builtins.len}\n",
      "        7    0.336    0.048    0.394    0.056 /tmp/ipykernel_36096/3476465919.py:1(position1_2)\n",
      "        6    0.382    0.064    0.382    0.064 /tmp/ipykernel_36096/2870284556.py:1(resumeHigherOrder_with_p12)\n",
      "       14    0.370    0.026    0.370    0.026 {method 'sort' of 'list' objects}\n",
      "        6    0.265    0.044    0.320    0.053 /tmp/ipykernel_36096/3446150077.py:1(Tprime_with_p12)\n",
      "        1    0.129    0.129    0.188    0.188 /tmp/ipykernel_36096/4151255859.py:1(asciiDC3)\n",
      "   644760    0.094    0.000    0.094    0.000 {built-in method builtins.min}\n",
      "   640851    0.031    0.000    0.031    0.000 {built-in method builtins.ord}\n",
      "        7    0.022    0.003    0.022    0.003 /tmp/ipykernel_36096/3663174410.py:1(remove_sentinel)\n",
      "        1    0.000    0.000    0.000    0.000 /home/azarkua/.local/lib/python3.10/site-packages/Bio/Seq.py:1233(upper)\n",
      "        1    0.000    0.000    0.000    0.000 {method 'upper' of 'bytes' objects}\n",
      "        1    0.000    0.000    0.000    0.000 /home/azarkua/.local/lib/python3.10/site-packages/Bio/Seq.py:466(__iter__)\n",
      "        1    0.000    0.000    0.000    0.000 {method 'decode' of 'bytes' objects}\n",
      "        7    0.000    0.000    0.000    0.000 {method 'keys' of 'dict' objects}\n",
      "        1    0.000    0.000    0.000    0.000 /home/azarkua/.local/lib/python3.10/site-packages/Bio/Seq.py:1961(__init__)\n",
      "        2    0.000    0.000    0.000    0.000 /usr/lib/python3/dist-packages/cycler.py:239(__iter__)\n",
      "        1    0.000    0.000    0.000    0.000 {method 'disable' of '_lsprof.Profiler' objects}\n",
      "        1    0.000    0.000    0.000    0.000 /home/azarkua/.local/lib/python3.10/site-packages/Bio/SeqRecord.py:334(<lambda>)\n",
      "        1    0.000    0.000    0.000    0.000 {built-in method builtins.isinstance}\n",
      "\n",
      "\n"
     ]
    },
    {
     "data": {
      "text/plain": [
       "<pstats.Stats at 0x7ffb652c7910>"
      ]
     },
     "execution_count": 27,
     "metadata": {},
     "output_type": "execute_result"
    }
   ],
   "source": [
    "cProfile.run(\"almost_dc3_with_p12(asciiDC3(genome[0].seq.upper()))\", \"dc3_stats\")\n",
    "p = pstats.Stats(\"dc3_stats\")\n",
    "p.sort_stats(\"cumulative\").print_stats()"
   ]
  },
  {
   "cell_type": "markdown",
   "id": "316d6bac",
   "metadata": {},
   "source": [
    "On constate que les fonctions les plus consommatrices en temps, sont les fonctions de tri, et le fonctions initiales de séparation des positions."
   ]
  },
  {
   "cell_type": "markdown",
   "id": "fbc43e49",
   "metadata": {},
   "source": [
    "## 3/ Transformée de Burrow-Wheeler"
   ]
  },
  {
   "cell_type": "code",
   "execution_count": 28,
   "id": "ee199ee7",
   "metadata": {},
   "outputs": [],
   "source": [
    "def BWT_suffix_table(T,end_of_string=False):\n",
    "    \"\"\"\n",
    "    Compute the BWT by calcultating the suffix_table of parameter 'T'\n",
    "    \n",
    "    Args:\n",
    "        T (str): string\n",
    "        end_of_string (char): end of string character to append\n",
    "    \n",
    "    Return:\n",
    "        bwt (str): BWT\n",
    "    \"\"\"\n",
    "    if end_of_string==False:\n",
    "        T += '!'\n",
    "    suffix_array=almost_dc3_with_p12(asciiDC3(T)) \n",
    "    bwt = \"\"\n",
    "    for i in suffix_array:\n",
    "        bwt += T[i-1]\n",
    "    return(bwt)\n",
    "\n",
    "def BWT(T, suffix_table,end_of_string=False):\n",
    "    \"\"\"\n",
    "    Compute the BWT without calculating the suffix table\n",
    "    \n",
    "    Args:\n",
    "        T (str): string\n",
    "        end_of_string (char): end of string character to append\n",
    "        suffix_table (list of int): suffix table of parameter 'T'\n",
    "    \n",
    "    Return:\n",
    "        bwt (str): BWT\n",
    "    \"\"\"\n",
    "    if end_of_string==False:\n",
    "        T += '!'\n",
    "    bwt = \"\"\n",
    "    for i in suffix_table:\n",
    "        bwt += T[i-1]\n",
    "    return(bwt)"
   ]
  },
  {
   "cell_type": "markdown",
   "id": "b73c1dc5",
   "metadata": {},
   "source": [
    "# ATTENTION !!!! dans BWT, tu dois enlever end_of_string et toujours mettre des séquences avec un ! à la fin"
   ]
  },
  {
   "cell_type": "markdown",
   "id": "020d2a41",
   "metadata": {},
   "source": [
    "##### Complexité : \n",
    "BWT_suffix_table utilise almost_dc3_with_p12 (qui a une complexité de $0(n)$, n étant la taille de 'T') et une boucle for qui parcourt suffix array (ce qui donne une compléxité de $0(m)$, m étant la taille de 'suffix_array'). Elle ajoute un élément à la fin de notre séquence d'ADN, qui sera donc de taille n+1.\n",
    "Cela revient donc à une complexité de $0(n+1+m)$. Comme 'suffix_array' est la table de suffixe de T, elle est donc aussi de taille n. On a donc une complexité de $0(2n+1))$\n",
    "\n",
    "BWT parcourt seulement 'suffix_table', elle a donc une complexité de $0(n)$, avec n la taille de la séquence T donnée en paramètre."
   ]
  },
  {
   "cell_type": "markdown",
   "id": "99481c90",
   "metadata": {},
   "source": [
    "### Cherchons la transformée de Burrow-Wheeler d'un string simple"
   ]
  },
  {
   "cell_type": "code",
   "execution_count": 29,
   "id": "50ee964b",
   "metadata": {
    "scrolled": true
   },
   "outputs": [],
   "source": [
    "test_2='ATGCTAGCTGCCCTGATCTCTCTGA!'\n",
    "suffix_array_2_with_p12=almost_dc3_with_p12(asciiDC3(test_2)) "
   ]
  },
  {
   "cell_type": "markdown",
   "id": "5c865d7e",
   "metadata": {},
   "source": [
    "Visualisons la suffix table ainsi que la BWT de la séquence \"test_2\""
   ]
  },
  {
   "cell_type": "code",
   "execution_count": 30,
   "id": "2d06b591",
   "metadata": {},
   "outputs": [],
   "source": [
    "def print_suffix_table(sequence, sf, visualize_bwt=False):\n",
    "    '''\n",
    "    Allows visualisation of the suffix_table (parameter sf) of the given sequence (parameter sequence).\n",
    "    If visualize_bwt is set to True, every line of the suffix_table starts with the corresponding\n",
    "    letter of the BWT of parameter \"sequence\".\n",
    "    \n",
    "    Args:\n",
    "        sequence(list of string) : Letter sequence from which we calculated the bwt and suffix table\n",
    "        sf (list of int): positions in \"sequence\" of the first letter of every line of the suffix table\n",
    "        visualize_bwt (bool): allows vizualisation of the BWT if set to \"True\"\n",
    "    \n",
    "    Return:\n",
    "        None\n",
    "    '''\n",
    "    for i in range(len(sf)):\n",
    "        if visualize_bwt:\n",
    "            print(str(sequence[sf[i]-1])+\"-\"+str(sequence[sf[i]:]))\n",
    "        else:\n",
    "            print(str(sequence[sf[i]:]))\n",
    "    return"
   ]
  },
  {
   "cell_type": "markdown",
   "id": "8a191aea",
   "metadata": {},
   "source": [
    "##### Complexité : \n",
    "print_suffix_table parcourt 'sf', elle a donc une complexité de $0(n)$, n étant la taille de la sequence donnée en paramètre. "
   ]
  },
  {
   "cell_type": "code",
   "execution_count": 31,
   "id": "dffe1a95",
   "metadata": {},
   "outputs": [
    {
     "name": "stdout",
     "output_type": "stream",
     "text": [
      "A-!\n",
      "G-A!\n",
      "T-AGCTGCCCTGATCTCTCTGA!\n",
      "G-ATCTCTCTGA!\n",
      "!-ATGCTAGCTGCCCTGATCTCTCTGA!\n",
      "G-CCCTGATCTCTCTGA!\n",
      "C-CCTGATCTCTCTGA!\n",
      "G-CTAGCTGCCCTGATCTCTCTGA!\n",
      "T-CTCTCTGA!\n",
      "T-CTCTGA!\n",
      "T-CTGA!\n",
      "C-CTGATCTCTCTGA!\n",
      "G-CTGCCCTGATCTCTCTGA!\n",
      "T-GA!\n",
      "T-GATCTCTCTGA!\n",
      "T-GCCCTGATCTCTCTGA!\n",
      "T-GCTAGCTGCCCTGATCTCTCTGA!\n",
      "A-GCTGCCCTGATCTCTCTGA!\n",
      "C-TAGCTGCCCTGATCTCTCTGA!\n",
      "A-TCTCTCTGA!\n",
      "C-TCTCTGA!\n",
      "C-TCTGA!\n",
      "C-TGA!\n",
      "C-TGATCTCTCTGA!\n",
      "C-TGCCCTGATCTCTCTGA!\n",
      "A-TGCTAGCTGCCCTGATCTCTCTGA!\n"
     ]
    }
   ],
   "source": [
    "# On visualise à la fois la suffix table, et en première position à gauche, la BWT\n",
    "print_suffix_table(test_2,suffix_array_2_with_p12, visualize_bwt=True)"
   ]
  },
  {
   "cell_type": "markdown",
   "id": "d951740a",
   "metadata": {},
   "source": [
    "### Appliquons la transformée de Burrow-Wheeler à notre génome de référence"
   ]
  },
  {
   "cell_type": "code",
   "execution_count": 32,
   "id": "e856d22b",
   "metadata": {},
   "outputs": [
    {
     "name": "stdout",
     "output_type": "stream",
     "text": [
      "Calculer la transformée de Burrow-Wheeler de notre chromosome 1 prend 0.7128598690032959 secondes.\n"
     ]
    }
   ],
   "source": [
    "# Comme nous avons calculé les tables de suffixe précédemment, nous les incluons comme paramètre dans \n",
    "# notre calcul de BWT\n",
    "start=time.time()\n",
    "bwt_T=BWT(genome[0].seq.upper(),suffix_array_0)\n",
    "end=time.time()\n",
    "print(\"Calculer la transformée de Burrow-Wheeler de notre chromosome 1 prend \"+str(end-start)+\" secondes.\")"
   ]
  },
  {
   "cell_type": "markdown",
   "id": "6bb32ed0",
   "metadata": {},
   "source": [
    "Mesurons le temps que chaque sous fonction de la fonction \"BWT_suffix_table\" prend:"
   ]
  },
  {
   "cell_type": "code",
   "execution_count": 33,
   "id": "c34d8171",
   "metadata": {},
   "outputs": [
    {
     "data": {
      "image/png": "[encoded data removed]",
      "text/plain": [
       "<Figure size 432x288 with 1 Axes>"
      ]
     },
     "metadata": {
      "needs_background": "light"
     },
     "output_type": "display_data"
    }
   ],
   "source": [
    "start=time.time()\n",
    "bwt_T=BWT(genome[0].seq.upper(),suffix_array_0)\n",
    "t0=time.time()\n",
    "bwt_T=BWT(genome[1].seq.upper(),suffix_array_1)\n",
    "t1=time.time()\n",
    "bwt_T=BWT(genome[2].seq.upper(),suffix_array_2)\n",
    "t2=time.time()\n",
    "bwt_T=BWT(genome[3].seq.upper(),suffix_array_3)\n",
    "t3=time.time()\n",
    "bwt_T=BWT(genome[4].seq.upper(),suffix_array_4)\n",
    "t4=time.time()\n",
    "bwt_T=BWT(genome[5].seq.upper(),suffix_array_5)\n",
    "t5=time.time()\n",
    "bwt_T=BWT(genome[6].seq.upper(),suffix_array_6)\n",
    "end=time.time()\n",
    "plt.plot([len(genome[0].seq.upper()), len(genome[1].seq.upper()), len(genome[2].seq.upper()),len(genome[3].seq.upper()), len(genome[4].seq.upper()), len(genome[5].seq.upper()), len(genome[6].seq.upper())], [t0-start,t1-t0, t2-t1, t3-t2,t4-t3,t5-t4, end-t5], 'ro')\n",
    "plt.show()"
   ]
  },
  {
   "cell_type": "markdown",
   "id": "27136fcc",
   "metadata": {},
   "source": [
    "On observe bien une fonction de complexité temporelle linéaire"
   ]
  },
  {
   "cell_type": "markdown",
   "id": "f7e607d3",
   "metadata": {},
   "source": [
    "## 4/ Cherchons un pattern dans une séquence grâce à la transformée de Burrow-Wheeler"
   ]
  },
  {
   "cell_type": "code",
   "execution_count": 34,
   "id": "4af714ba",
   "metadata": {},
   "outputs": [],
   "source": [
    "def new_suffix_table_positions_faster(BWT,pattern_letter, position_in_BWT, occurence_index, counts):\n",
    "    '''\n",
    "    Takes a list (parameter \"position_in_BWT\") of positions of letters in the BWT, \n",
    "    checks if those letters are equal to \"pattern_letter\", \n",
    "    and returns the positions in the BWT \n",
    "    of the letters that came right before those in \"position_in_BWT\" thats passed the check.\n",
    "    \n",
    "    Args:\n",
    "        BWT (list of string): Burrows-Wheeler transform of a sequence\n",
    "        pattern_letter (string): letter we want the elements of \"position_in_BWT\" to be equal to\n",
    "        position_in_BWT (list of int): list of positions of elements of the BWT to be studied\n",
    "        occurence_index (list of int): output of the function \"occurence_indexer\"\n",
    "        counts (dict): keys are each distinct letter of BWT, \n",
    "                       elements are how many times each letter appears\n",
    "    \n",
    "    Return:\n",
    "        output (list of int): new positions of elements of the BWT we want to study\n",
    "    '''\n",
    "    # Counter({'T': 3, 'A': 2, 'B': 2, 'C': 2, '!': 1})\n",
    "    output=[]\n",
    "    letter_and_occurence=[]\n",
    "    for i in range(len(position_in_BWT)):\n",
    "        if BWT[position_in_BWT[i]]==pattern_letter:\n",
    "            letter_and_occurence=[BWT[position_in_BWT[i]],occurence_index[position_in_BWT[i]]]\n",
    "            letter=letter_and_occurence[0]\n",
    "            occurence=letter_and_occurence[1]\n",
    "            new_position_to_evaluate=occurence + sum([counts[char] for char in counts if char < letter])\n",
    "            output.append(new_position_to_evaluate)\n",
    "    return output\n",
    "\n",
    "def initialize_suffix_table_positions(counts, pattern_letter):\n",
    "    '''\n",
    "    Finds the all the positions in the suffix table, of the letter \"pattern_letter\"\n",
    "    \n",
    "    Args:\n",
    "        counts (dict): keys are each distinct letter of BWT, \n",
    "                       elements are how many times each letter appears\n",
    "        pattern_letter (string): letter we are searching positions for\n",
    "    \n",
    "    Return:\n",
    "        (list of int): all the positions occupied by the letter \"pattern_letter\"\n",
    "                       in the suffix table\n",
    "    '''\n",
    "    start=sum([counts[char] for char in counts if char < pattern_letter])\n",
    "    end=start+counts[pattern_letter]\n",
    "    return [i for i in range(start, end)]\n"
   ]
  },
  {
   "cell_type": "markdown",
   "id": "a5fc872b",
   "metadata": {},
   "source": [
    "##### Complexité  \"new_suffix_table_positions_faster\": \n",
    "La fonction \"new_suffix_table_positions_faster\" parcourt le paramètre 'position_in_BWT' et dans la compréhension de liste, elle parcourt le paramètre 'counts'. Dans le cas où la séquence est un chromosome, 'counts' a une taille de 5. Elle a donc une complexité de $0(n+5)$ avec n la taille de 'position_in_BWT'. "
   ]
  },
  {
   "cell_type": "markdown",
   "id": "4ce4c0a3",
   "metadata": {},
   "source": [
    "##### Complexité  de \"initialize_suffix_table_positions\": \n",
    "La fonction parcourt deux fois le paramètre \"counts\" (de taille 5 dans le cas où la séquence est un chromosome), somme chaque élément de cette liste (liste qui est donc de taille 4 dans le pire des cas), et termine en parcourant la différence entre les variables \"start\" et \"end\" . C'est de la taille de la somme de tous les éléments de \"counts\".\n",
    "\n",
    "Dans le cas où on travaille avec un chromosome de notre génome, elle est donc de complexité $0(n)$, avec n=taille du chromosome."
   ]
  },
  {
   "cell_type": "code",
   "execution_count": 35,
   "id": "273247d4",
   "metadata": {},
   "outputs": [],
   "source": [
    "def occurrence_indexer(S):\n",
    "    '''\n",
    "    Returns a list of size len(S), from which each element i is the number of time S[i]\n",
    "    has appeared in the sub-sequence S[:i-1].\n",
    "    \n",
    "    Args:\n",
    "        S (list of string): sequence from which we want to count occurences\n",
    "    \n",
    "    Return:\n",
    "        K (list of int): occurence of each element of S\n",
    "    '''\n",
    "    K = []\n",
    "    last_index = {}\n",
    "    for s in S:\n",
    "        if s not in last_index: \n",
    "            last_index[s] = 0\n",
    "        K.append(last_index[s])\n",
    "        last_index[s] += 1\n",
    "    return(K)"
   ]
  },
  {
   "cell_type": "markdown",
   "id": "f70aea66",
   "metadata": {},
   "source": [
    "##### Complexité  de \"occurrence_indexer\": \n",
    "Elle est de complexité $0(n)$, avec n=taille de S"
   ]
  },
  {
   "cell_type": "code",
   "execution_count": 36,
   "id": "8b52c069",
   "metadata": {},
   "outputs": [],
   "source": [
    "def find_patterns_in_sequence_faster(sf, BWT, pattern):\n",
    "    '''\n",
    "        Aligns \"pattern\" in the sequence (from which we calculated \n",
    "        the parameters \"BWT\" and the suffix table \"sf\"). Returns all the \n",
    "        starting positions of the alignments found.\n",
    "\n",
    "    Args:\n",
    "        sf (list of int): suffix table of the sequence we want to find pattern in\n",
    "        BWT (list of string): BWT of the sequence we want to find pattern in\n",
    "        pattern (string): pattern we want to find in the sequence\n",
    "    \n",
    "    Return:\n",
    "        output (list of int): starting positions of all the alignments found\n",
    "    '''\n",
    "    output=[]\n",
    "    occurence_index = occurrence_indexer(BWT)\n",
    "    counts = Counter(BWT)\n",
    "    index=len(pattern)-1\n",
    "    pattern_letter=pattern[index]\n",
    "    \n",
    "    suffix_table_positions=initialize_suffix_table_positions(counts, pattern_letter)\n",
    "    while index>0 and len(suffix_table_positions)>0:\n",
    "        index-=1\n",
    "        pattern_letter=pattern[index]\n",
    "        suffix_table_positions=new_suffix_table_positions_faster(BWT,pattern_letter,suffix_table_positions,occurence_index,counts) \n",
    "        \n",
    "    for i in range(len(suffix_table_positions)):\n",
    "        output.append(sf[suffix_table_positions[i]])\n",
    "        \n",
    "    return output\n",
    "\n",
    "def find_patterns_in_sequence_faster_with_dc3(sequence, pattern, sequence_has_end_character=False):\n",
    "    '''\n",
    "        Aligns \"pattern\" in the sequence by calculating it's suffix table\n",
    "        and BWT. Returns all the \n",
    "        starting positions of the alignments found.\n",
    "\n",
    "    Args:\n",
    "        sequence (string): sequence where we want to align \"pattern\"\n",
    "        sequence_has_end_character (bool): if \"True\", we add \"!\" at the end of \"sequence\"\n",
    "        pattern (string): pattern we want to find in the sequence\n",
    "    \n",
    "    Return:\n",
    "        output (list of int): starting positions of all the alignments found\n",
    "    '''\n",
    "    output=[]\n",
    "    # adding an end character\n",
    "    if sequence_has_end_character==False:\n",
    "        sequence += '!'\n",
    "    \n",
    "    # computing the dc3\n",
    "    sf=almost_dc3_with_p12(asciiDC3(sequence)) \n",
    "    \n",
    "    #Computing the BWT\n",
    "    BWT = \"\"\n",
    "    for i in sf:\n",
    "        BWT += sequence[i-1]\n",
    "    \n",
    "    output=[]\n",
    "    occurence_index = occurrence_indexer(BWT)\n",
    "    counts = Counter(BWT)\n",
    "    index=len(pattern)-1\n",
    "    pattern_letter=pattern[index]\n",
    "    \n",
    "    suffix_table_positions=initialize_suffix_table_positions(counts, pattern_letter)\n",
    "    while index>0 and len(suffix_table_positions)>0:\n",
    "        index-=1\n",
    "        pattern_letter=pattern[index]\n",
    "        suffix_table_positions=new_suffix_table_positions_faster(BWT,pattern_letter,suffix_table_positions,occurence_index,counts) \n",
    "        \n",
    "    for i in range(len(suffix_table_positions)):\n",
    "        output.append(sf[suffix_table_positions[i]])\n",
    "        \n",
    "    return output"
   ]
  },
  {
   "cell_type": "markdown",
   "id": "68e92f22",
   "metadata": {},
   "source": [
    "##### Complexité  de \"find_patterns_in_sequence_faster\": \n",
    " Les fonctions \"Counter\", \"occurence_indexer\", \"initialize_suffix_table_positions\", sont de complexité $0(n)$, avec n= taille de la séquence dans laquelle on cherche le pattern.\n",
    " \n",
    " La boucle while parcourt le paramètre \"pattern\" dont la taille est au pire des cas égale à n. Dans la boucle while, on trouve \"new_suffix_table_positions_faster\" de complexité $0(n)$.\n",
    " La boucle for parcourt toutes les positions d'alignement trouvées par la fonction, donc elle parcourt au pire n éléments.\n",
    " \n",
    " La fonction est donc de complexité $0(n²)$.\n",
    "."
   ]
  },
  {
   "cell_type": "markdown",
   "id": "0621a42a",
   "metadata": {},
   "source": [
    "##### Complexité  de \"find_patterns_in_sequence_faster_with_dc3\": \n",
    "La fonction diffère de find_patterns_in_sequence_faster par le fait qu'elle calcule la suffix table et la BWT de la séquence dans laquelle on veut aligner le pattern.\n",
    "\n",
    "Ces deux fonctions sont linéaires, la complexité reste $0(n²)$."
   ]
  },
  {
   "cell_type": "markdown",
   "id": "0ca1529c",
   "metadata": {},
   "source": [
    "### Cherchons un pattern simple dans un texte simple"
   ]
  },
  {
   "cell_type": "code",
   "execution_count": 37,
   "id": "efbbfe6e",
   "metadata": {},
   "outputs": [
    {
     "name": "stdout",
     "output_type": "stream",
     "text": [
      "Le pattern est à la positions [22, 6] du texte simple\n",
      "A la position 22 du texte simple, la séquence est GHIJKL\n",
      "A la position 6 du texte simple, la séquence est GHIJKL\n"
     ]
    }
   ],
   "source": [
    "texte_simple='ABCDEFGHIJKLMNOPABCDEFGHIJKLMNOP!'\n",
    "pattern_simple='GHIJK'\n",
    "\n",
    "#Calculons la suffix table du texte \n",
    "sf=almost_dc3_with_p12(asciiDC3(texte_simple))\n",
    "\n",
    "# Alignons le pattern dans le texte\n",
    "positions_of_pattern=find_patterns_in_sequence_faster_with_dc3(texte_simple, pattern_simple, sequence_has_end_character=True)\n",
    "print(\"Le pattern est à la positions \"+str(positions_of_pattern)+\" du texte simple\")\n",
    "\n",
    "# Montrons que l'alignement est juste\n",
    "for p in positions_of_pattern:\n",
    "    print(\"A la position \"+str(p)+\" du texte simple, la séquence est \"+str(texte_simple[p:p+6]))"
   ]
  },
  {
   "cell_type": "markdown",
   "id": "f90fab65",
   "metadata": {},
   "source": [
    "## 5/  Importation des données expérimentales"
   ]
  },
  {
   "cell_type": "code",
   "execution_count": 38,
   "id": "d641c437",
   "metadata": {},
   "outputs": [],
   "source": [
    "#Importation du fichier BAM\n",
    "bam=pysam.AlignmentFile(\"/home/azarkua/Documents/2023-2024/omiques2/developement/omique2/single_Pfal_dat.bam\", \"rb\")\n",
    "#bam = pysam.AlignmentFile(\"/home/mvernier/Documents/2023-2024/omique2/projet/single_Pfal_dat.bam\", \"rb\")\n",
    "\n",
    "donnees_experimentales=[]\n",
    "for alignment in bam:\n",
    "    read_name = alignment.query_name\n",
    "    reference_name = bam.getrname(alignment.reference_id)\n",
    "    position = alignment.reference_start\n",
    "    mapping_quality = alignment.mapping_quality\n",
    "    \n",
    "    donnees_experimentales.append(position)\n",
    "    \n",
    "bam.close()"
   ]
  },
  {
   "cell_type": "markdown",
   "id": "2e058481",
   "metadata": {},
   "source": [
    "## 6/ Créer et aligner les kmers de nos reads"
   ]
  },
  {
   "cell_type": "code",
   "execution_count": 39,
   "id": "e6cadc01",
   "metadata": {},
   "outputs": [],
   "source": [
    "def kmer(sequence, longueur):\n",
    "    '''\n",
    "        Creates kmers of size \"longueur\" from \"sequence\"\n",
    "\n",
    "    Args:\n",
    "        sequence (string): sequence we want to create kmers from\n",
    "        longueur (int): size of kmers\n",
    "    \n",
    "    Return:\n",
    "        kmer (list of string): list of all the kmers\n",
    "    '''\n",
    "    n = len(sequence)\n",
    "    kmer=[]\n",
    "    for i in range(n-longueur+1):\n",
    "        kmer.append(sequence[i:i+longueur])\n",
    "    return kmer\n",
    "    "
   ]
  },
  {
   "cell_type": "markdown",
   "id": "38ca117f",
   "metadata": {},
   "source": [
    "##### Complexité : \n",
    "kmer parcourt 'sequence'-longueur+1, elle a donc une complexité de $0(n)$ avec n=taille de 'sequence'-longueur+1"
   ]
  },
  {
   "cell_type": "raw",
   "id": "79c36408",
   "metadata": {},
   "source": [
    "def position_with_suffix_table(liste_kmer, genome):\n",
    "\n",
    "    output=[]\n",
    "    for i in range(len(liste_kmer)):\n",
    "        output.append(find_patterns_in_sequence_faster_with_dc3(genom, liste_kmer[i],sequence_has_end_character=True))\n",
    "    return output"
   ]
  },
  {
   "cell_type": "code",
   "execution_count": 40,
   "id": "6b31e2ec",
   "metadata": {},
   "outputs": [],
   "source": [
    "def position(liste_kmer, bwt, suffix_table):\n",
    "    '''\n",
    "        Return all the position that each kmer takes in the genome.\n",
    "    Args : \n",
    "        liste_kmer (list of string) : list of kmer\n",
    "        bwt(string): burrow wheeler transform of the genome in which we want to find the kmers \n",
    "        suffix_table(list of int): suffix table of the genome in which we want to find the kmers \n",
    "    Return : \n",
    "        output (list of list of int) : list of all the position that each kmers takes in the genome \n",
    "    '''\n",
    "    output=[]\n",
    "    for i in range(len(liste_kmer)):\n",
    "        output.append(find_patterns_in_sequence_faster(suffix_table, bwt, liste_kmer[i]))\n",
    "    return output"
   ]
  },
  {
   "cell_type": "markdown",
   "id": "79ee3877",
   "metadata": {},
   "source": [
    "##### Complexité : \n",
    "position_with_suffix_table parcourt 'liste_kmer' et utilise 'find_patterns_in_sequence_with_dc3' (qui a une complexité de ?), elle a donc une complexité de $0()$\n",
    "\n",
    "position parcourt 'liste_kmer' et utilise 'find_patterns_in_sequence_with_dc3' (qui a une complexité de ?), elle a donc une complexité de $0()$\n",
    "\n",
    "position_sorted parcourt 'liste_kmer' et utilise 'find_patterns_in_sequence_with_dc3' (qui a une complexité de ?) et 'sorted' (qui a une complexité $0(nlogn)$, n étant la taille de la séquence fournie), elle a donc une complexité de $0()$"
   ]
  },
  {
   "cell_type": "code",
   "execution_count": 41,
   "id": "7397f269",
   "metadata": {},
   "outputs": [],
   "source": [
    "def complementaire_inverse(sequence):\n",
    "    '''\n",
    "        The function return the inverse complementary of the sequence \n",
    "    \n",
    "    Args : \n",
    "        sequence(String): sequence \n",
    "        \n",
    "    Return : \n",
    "        ''.join(ci) (String): inverse complementary of the sequence \n",
    "    '''\n",
    "    ci = []\n",
    "    for i in range(len(sequence) - 1, -1, -1):\n",
    "        if sequence[i] == 'A':\n",
    "            ci.append('T')\n",
    "        elif sequence[i] == 'T':\n",
    "            ci.append('A')\n",
    "        elif sequence[i] == 'C':\n",
    "            ci.append('G')\n",
    "        elif sequence[i] == 'G':\n",
    "            ci.append('C')\n",
    "    return ''.join(ci)"
   ]
  },
  {
   "cell_type": "markdown",
   "id": "b7daaceb",
   "metadata": {},
   "source": [
    "##### Complexité : \n",
    "complementaire_inverse parcourt 'sequence' et utilise 'join' qui a une complexité linéaire,  elle a donc une complexité $0(n²)$, n étant la taille de 'sequence'"
   ]
  },
  {
   "cell_type": "markdown",
   "id": "c978427e",
   "metadata": {},
   "source": [
    "## Première approche d'alignement: rapide mais qui ne gère pas les cas complexes \n",
    "Nos kmers sont de taille 10.\n",
    "On aligne les kmers du débuts et de la fin du read.\n",
    "Puis on assemble les kmers dont les alignements sont espacés de la taille du read ( plus ou moins un taux d'erreur à fixer).\n",
    "\n",
    "Dans le cas où le read a une mutation/ déletion/ insertion dans ses nucléotides initiaux ou finaux, on prends les kmers du début et de la fin, décalés d'une longueur de 10.\n",
    "\n",
    "Dans le cas où aucun alignement n'est trouvé, on recommence avec le complémentaire inverse du génome. "
   ]
  },
  {
   "cell_type": "code",
   "execution_count": 73,
   "id": "bbfe987e",
   "metadata": {},
   "outputs": [],
   "source": [
    "def assembler_premier_kmer(positions, nb_de_kmer_a_aligner):\n",
    "    \"\"\"\n",
    "    Return the positions of kmer in position 1  in the genome that have passed the following test : \n",
    "    we check if the following kmer are aligned \n",
    "    \n",
    "    \n",
    "    Example : \n",
    "    position taken by first kmer  [0, 20, 50]\n",
    "    position taken by second kmer [1, 21] ---> the algorithm removes \"50\" from the starting positions\n",
    "    position taken by third kmer  [2] -------> the algorithm removes \"20 from the starting positions\"\n",
    "    \n",
    "    assembler_premier_kmer(positions, 3)=[0]\n",
    "    \n",
    "    Beware : The positions needs to be sorted for this function to work\n",
    "    \n",
    "    Args : \n",
    "        positions(list of list of int) : list of all the positions of the kmers in the genome \n",
    "        nb_kmer_a_aligner(int): number of kmers we want to be aligned \n",
    "        \n",
    "    Return : \n",
    "        positions_initiales(list of list of int): the positions of kmer in position 1  in the genome that \n",
    "                                                  have passed the test\n",
    "    \"\"\"\n",
    "\n",
    "    positions_initiales=positions[0]\n",
    "\n",
    "    for i in range(1,nb_de_kmer_a_aligner):\n",
    "        current_kmer_positions=positions[i]\n",
    "        index_1=0\n",
    "        index_2=0\n",
    "        new_initial_positions=copy.deepcopy(positions_initiales)\n",
    "        \n",
    "        while index_1<len(positions_initiales) and index_2<len(current_kmer_positions):\n",
    "\n",
    "            while positions_initiales[index_1]+i>current_kmer_positions[index_2] and index_2+1<len(current_kmer_positions):\n",
    "                index_2+=1\n",
    "            if positions_initiales[index_1]+i!=current_kmer_positions[index_2]:\n",
    "                new_initial_positions.remove(positions_initiales[index_1])\n",
    "                index_1+=1\n",
    "            else:\n",
    "\n",
    "                index_1+=1\n",
    "                \n",
    "        positions_initiales=new_initial_positions\n",
    "                     \n",
    "    return positions_initiales\n",
    "\n",
    "def assembler_dernier_kmer(positions, nb_de_kmer_a_aligner):\n",
    "    \"\"\"\n",
    "\n",
    "    This function is the same as 'assembler_premier_kmer' but starting from the last kmer and \n",
    "    we want the previous kmers to be aligned \n",
    "    \n",
    "    Example:\n",
    "    position taken by last kmer        [2, 20, 50]\n",
    "    position taken by second last kmer [1, 19] ---> the algorithm removes \"50\" from the final positions\n",
    "    position taken by third last kmer  [0] -------> the algorithm removes \"20 from the final positions\"\n",
    "    \n",
    "    assembler_premier_kmer(positions, 3)=[2]\n",
    "    \n",
    "    Beware : The positions needs to be sorted for this function to work\n",
    "    \n",
    "    \n",
    "    \"\"\"\n",
    "\n",
    "    positions_finales=positions[-1]\n",
    "    for i in range(1,nb_de_kmer_a_aligner):\n",
    "        current_kmer_positions=positions[-1-i]\n",
    "        index_1=len(positions_finales)-1\n",
    "        index_2=len(current_kmer_positions)-1\n",
    "        new_final_positions=copy.deepcopy(positions_finales)\n",
    "        \n",
    "        while index_1>=0 and index_2>=0:\n",
    "\n",
    "            while positions_finales[index_1]-i<current_kmer_positions[index_2] and index_2>=0:\n",
    "                index_2-=1\n",
    "            if positions_finales[index_1]-i!=current_kmer_positions[index_2]:\n",
    "                new_final_positions.remove(positions_finales[index_1])\n",
    "                index_1-=1\n",
    "            else:\n",
    "\n",
    "                index_1-=1\n",
    "                \n",
    "        positions_finales=new_final_positions\n",
    "                     \n",
    "    return positions_finales"
   ]
  },
  {
   "cell_type": "code",
   "execution_count": 43,
   "id": "11b984d6",
   "metadata": {},
   "outputs": [],
   "source": [
    "def aligner_un_read_faster(read, taille_kmer, positions, nb_de_kmer_a_aligner, erreurs, decalage):\n",
    "    '''\n",
    "    Finds the positions in the first kmer that are at the distance of the size of the read \n",
    "    (taking a given amount of mistakes into account: of value parameter \"erreurs\") of the finals kmers. \n",
    "    It can take into account a given gap (parameter \"decalage\")\n",
    "    \n",
    "    Args : \n",
    "        read(string): read\n",
    "        taille_kmer(int): size of the kmers\n",
    "        positions(list of list of int): positions of the kmers in the genome \n",
    "        nb_de_kmer_a_aligner(int): number of kmer we want to aligne with the functions 'assembler_premier_kmer'\n",
    "                                   and 'assembler_dernier_kmer'\n",
    "        erreurs(int): number of mistakes we allow\n",
    "        decalage(int): the \"initial kmer\" and \"final kmer\" have a gap of size \"decalage\"\n",
    "                       from the first and last kmer of our read.\n",
    "    Return : \n",
    "        output(list of int): all the positions of the fist kmer at the correct distance from the last kmer\n",
    "    '''\n",
    "    positions_initiales=assembler_premier_kmer(positions, nb_de_kmer_a_aligner)\n",
    "    positions_finales=assembler_dernier_kmer(positions, nb_de_kmer_a_aligner)\n",
    "\n",
    "    output=[]\n",
    "    for i in range(len(positions_initiales)):\n",
    "        one_align=0\n",
    "        for j in range(len(positions_finales)):\n",
    "            if positions_initiales[i]+(len(read)-2*decalage-taille_kmer)-erreurs<=positions_finales[j]<=positions_initiales[i]+(len(read)-2*decalage-taille_kmer)+erreurs:\n",
    "                one_align+=1\n",
    "        if one_align>0:\n",
    "            output.append(positions_initiales[i])\n",
    "            \n",
    "    return output\n",
    "\n",
    "def aligner_un_read_avec_mutation(read, taille_kmer, liste_kmer, bwt, suffix_table, comp_inv_bwt, comp_inv_suffix_table,nb_de_kmer_a_aligner, erreurs, complementaire=False):\n",
    "    '''\n",
    "    \n",
    "    \n",
    "    '''\n",
    "    if complementaire:\n",
    "        BWT=comp_inv_bwt\n",
    "        sf=comp_inv_suffix_table\n",
    "    else:\n",
    "        BWT=bwt\n",
    "        sf=suffix_table\n",
    "    positions= position_partial_sorted(liste_kmer, BWT, sf, nb_de_kmer_a_aligner, 0)\n",
    "    output=aligner_un_read_faster(read, taille_kmer, positions, nb_de_kmer_a_aligner, erreurs,0)\n",
    "    if len(output)!=1:\n",
    "        # si on obtient pas la position initiale à partir du premier et dernier kmer, c'est probablement dû à une\n",
    "        # mutation sur les premiers/derniers nucléotides du read\n",
    "        \n",
    "        #on décale nos recherches sur le 10eme premier kmer et 10e kmer avant la fin.\n",
    "        positions= position_partial_sorted(liste_kmer, BWT, sf, nb_de_kmer_a_aligner, 10)\n",
    "        output=aligner_un_read_faster(read, taille_kmer, positions, nb_de_kmer_a_aligner, erreurs, 10)\n",
    "        # si rien ne marche, on essaie d'aligner au complémentaire\n",
    "        if len(output)!=1 and complementaire==False:\n",
    "            output=aligner_un_read_avec_mutation(read, taille_kmer, liste_kmer, bwt, suffix_table, comp_inv_bwt, comp_inv_suffix_table, nb_de_kmer_a_aligner, erreurs, complementaire=True)\n",
    "        elif len(output)!=1 and complementaire==True:\n",
    "            return [-1]\n",
    "        else:\n",
    "            output[0]-=taille_kmer\n",
    "    return output"
   ]
  },
  {
   "cell_type": "code",
   "execution_count": 44,
   "id": "804fd8e3",
   "metadata": {},
   "outputs": [],
   "source": [
    "def position_partial_sorted(liste_kmer, bwt, suffix_table, nb_kmer, decalage):\n",
    "    debut=[]\n",
    "    fin=[0 for i in range(nb_kmer)]\n",
    "    for i in range(nb_kmer):\n",
    "        debut.append(sorted(find_patterns_in_sequence_faster(suffix_table, bwt, liste_kmer[decalage+i])))\n",
    "        fin[-1-i]=sorted(find_patterns_in_sequence_faster(suffix_table, bwt, liste_kmer[-1-decalage-i]))\n",
    "    return debut+fin"
   ]
  },
  {
   "cell_type": "markdown",
   "id": "39c20584",
   "metadata": {},
   "source": [
    "### Testons notre méthode d'alignement avec le premier read"
   ]
  },
  {
   "cell_type": "code",
   "execution_count": 45,
   "id": "6d76f6e1",
   "metadata": {},
   "outputs": [],
   "source": [
    "current_read=reads[1].seq.upper()\n",
    "current_genome=genome[0].seq.upper()\n",
    "comp_inv_current_genome=complementaire_inverse(genome[0].seq.upper())"
   ]
  },
  {
   "cell_type": "code",
   "execution_count": 46,
   "id": "0fdc2b19",
   "metadata": {},
   "outputs": [],
   "source": [
    "sf=almost_dc3_with_p12(asciiDC3(current_genome+\"!\")) \n",
    "# suffix table du 1er chromosome\n",
    "bwt=BWT(current_genome+\"!\", sf, True)\n",
    "comp_inv_sf=almost_dc3_with_p12(asciiDC3(comp_inv_current_genome+\"!\"))\n",
    "# suffix table du complémentaire inverse du 1er chromosome\n",
    "comp_inv_bwt=BWT(comp_inv_current_genome+\"!\", sf, True)"
   ]
  },
  {
   "cell_type": "markdown",
   "id": "936cc4cc",
   "metadata": {},
   "source": [
    "Calcul de tous les kmers"
   ]
  },
  {
   "cell_type": "code",
   "execution_count": 47,
   "id": "9500fb94",
   "metadata": {},
   "outputs": [],
   "source": [
    "liste_kmer=kmer(current_read, 10)"
   ]
  },
  {
   "cell_type": "markdown",
   "id": "aad02bc1",
   "metadata": {},
   "source": [
    "Alignement de notre read"
   ]
  },
  {
   "cell_type": "code",
   "execution_count": 48,
   "id": "804ebb65",
   "metadata": {},
   "outputs": [],
   "source": [
    "position_initiale_read=aligner_un_read_avec_mutation(current_read, 10, liste_kmer, bwt,sf, comp_inv_bwt, comp_inv_sf, 3, 2)"
   ]
  },
  {
   "cell_type": "code",
   "execution_count": 49,
   "id": "ca32f2aa",
   "metadata": {},
   "outputs": [
    {
     "name": "stdout",
     "output_type": "stream",
     "text": [
      "position initiale proposée par l'algorithme\n",
      "143900\n",
      "Le read est: \n",
      "TATATCTTTAAAATGATGTTGCAAATTTATTGAACATGTTAATAAATCATCCTGTTCATTTTGTATGTCTACTAAATTATGTAACGTATCCTCTTCTTCA\n",
      "Les 100 nucléotides de notre genome à la position 143900 est:\n",
      "TATATCTTTAAAATGATGTTGCAAATTTATTGAACATGTTAATAAATCATCCTGTTCATTTTGTATGTCTACTAAATTATGTAACGTATCCTTTTCTTCA\n"
     ]
    }
   ],
   "source": [
    "print(\"position initiale proposée par l'algorithme\")\n",
    "print(position_initiale_read[0])\n",
    "print(\"Le read est: \")\n",
    "print(current_read)\n",
    "print(\"Les 100 nucléotides de notre genome à la position \"+str(position_initiale_read[0])+\" est:\")\n",
    "print(current_genome[position_initiale_read[0]:position_initiale_read[0]+len(current_read)])"
   ]
  },
  {
   "cell_type": "markdown",
   "id": "ba7d0232",
   "metadata": {},
   "source": [
    "Alignons 100 reads pour voir le taux d'erreur"
   ]
  },
  {
   "cell_type": "code",
   "execution_count": 50,
   "id": "041d3853",
   "metadata": {},
   "outputs": [
    {
     "ename": "KeyboardInterrupt",
     "evalue": "",
     "output_type": "error",
     "traceback": [
      "\u001b[0;31m---------------------------------------------------------------------------\u001b[0m",
      "\u001b[0;31mKeyboardInterrupt\u001b[0m                         Traceback (most recent call last)",
      "\u001b[0;32m/tmp/ipykernel_36096/2796850528.py\u001b[0m in \u001b[0;36m<module>\u001b[0;34m\u001b[0m\n\u001b[1;32m      3\u001b[0m \u001b[0;32mfor\u001b[0m \u001b[0mi\u001b[0m \u001b[0;32min\u001b[0m \u001b[0mrange\u001b[0m\u001b[0;34m(\u001b[0m\u001b[0;36m100\u001b[0m\u001b[0;34m)\u001b[0m\u001b[0;34m:\u001b[0m\u001b[0;34m\u001b[0m\u001b[0;34m\u001b[0m\u001b[0m\n\u001b[1;32m      4\u001b[0m     \u001b[0mliste_kmer\u001b[0m\u001b[0;34m=\u001b[0m\u001b[0mkmer\u001b[0m\u001b[0;34m(\u001b[0m\u001b[0mreads\u001b[0m\u001b[0;34m[\u001b[0m\u001b[0mi\u001b[0m\u001b[0;34m]\u001b[0m\u001b[0;34m.\u001b[0m\u001b[0mseq\u001b[0m\u001b[0;34m.\u001b[0m\u001b[0mupper\u001b[0m\u001b[0;34m(\u001b[0m\u001b[0;34m)\u001b[0m\u001b[0;34m,\u001b[0m \u001b[0;36m10\u001b[0m\u001b[0;34m)\u001b[0m\u001b[0;34m\u001b[0m\u001b[0;34m\u001b[0m\u001b[0m\n\u001b[0;32m----> 5\u001b[0;31m     \u001b[0malign_reads\u001b[0m\u001b[0;34m.\u001b[0m\u001b[0mappend\u001b[0m\u001b[0;34m(\u001b[0m\u001b[0;34m{\u001b[0m\u001b[0;34m\"read\"\u001b[0m\u001b[0;34m:\u001b[0m \u001b[0mi\u001b[0m\u001b[0;34m,\u001b[0m \u001b[0;34m\"alignement\"\u001b[0m\u001b[0;34m:\u001b[0m\u001b[0maligner_un_read_avec_mutation\u001b[0m\u001b[0;34m(\u001b[0m\u001b[0mreads\u001b[0m\u001b[0;34m[\u001b[0m\u001b[0mi\u001b[0m\u001b[0;34m]\u001b[0m\u001b[0;34m.\u001b[0m\u001b[0mseq\u001b[0m\u001b[0;34m.\u001b[0m\u001b[0mupper\u001b[0m\u001b[0;34m(\u001b[0m\u001b[0;34m)\u001b[0m\u001b[0;34m,\u001b[0m \u001b[0;36m10\u001b[0m\u001b[0;34m,\u001b[0m \u001b[0mliste_kmer\u001b[0m\u001b[0;34m,\u001b[0m \u001b[0mbwt\u001b[0m\u001b[0;34m,\u001b[0m \u001b[0msf\u001b[0m\u001b[0;34m,\u001b[0m \u001b[0mcomp_inv_bwt\u001b[0m\u001b[0;34m,\u001b[0m \u001b[0mcomp_inv_sf\u001b[0m\u001b[0;34m,\u001b[0m\u001b[0;36m3\u001b[0m\u001b[0;34m,\u001b[0m \u001b[0;36m2\u001b[0m\u001b[0;34m)\u001b[0m\u001b[0;34m}\u001b[0m\u001b[0;34m)\u001b[0m\u001b[0;34m\u001b[0m\u001b[0;34m\u001b[0m\u001b[0m\n\u001b[0m\u001b[1;32m      6\u001b[0m \u001b[0mend\u001b[0m\u001b[0;34m=\u001b[0m\u001b[0mtime\u001b[0m\u001b[0;34m.\u001b[0m\u001b[0mtime\u001b[0m\u001b[0;34m(\u001b[0m\u001b[0;34m)\u001b[0m\u001b[0;34m\u001b[0m\u001b[0;34m\u001b[0m\u001b[0m\n\u001b[1;32m      7\u001b[0m \u001b[0mprint\u001b[0m\u001b[0;34m(\u001b[0m\u001b[0;34m\"Aligner 100 reads prend \"\u001b[0m\u001b[0;34m+\u001b[0m \u001b[0mstr\u001b[0m\u001b[0;34m(\u001b[0m\u001b[0mend\u001b[0m\u001b[0;34m-\u001b[0m\u001b[0mstart\u001b[0m\u001b[0;34m)\u001b[0m\u001b[0;34m)\u001b[0m\u001b[0;34m\u001b[0m\u001b[0;34m\u001b[0m\u001b[0m\n",
      "\u001b[0;32m/tmp/ipykernel_36096/3948583188.py\u001b[0m in \u001b[0;36maligner_un_read_avec_mutation\u001b[0;34m(read, taille_kmer, liste_kmer, bwt, suffix_table, comp_inv_bwt, comp_inv_suffix_table, nb_de_kmer_a_aligner, erreurs, complementaire)\u001b[0m\n\u001b[1;32m     22\u001b[0m         \u001b[0mBWT\u001b[0m\u001b[0;34m=\u001b[0m\u001b[0mbwt\u001b[0m\u001b[0;34m\u001b[0m\u001b[0;34m\u001b[0m\u001b[0m\n\u001b[1;32m     23\u001b[0m         \u001b[0msf\u001b[0m\u001b[0;34m=\u001b[0m\u001b[0msuffix_table\u001b[0m\u001b[0;34m\u001b[0m\u001b[0;34m\u001b[0m\u001b[0m\n\u001b[0;32m---> 24\u001b[0;31m     \u001b[0mpositions\u001b[0m\u001b[0;34m=\u001b[0m \u001b[0mposition_partial_sorted\u001b[0m\u001b[0;34m(\u001b[0m\u001b[0mliste_kmer\u001b[0m\u001b[0;34m,\u001b[0m \u001b[0mBWT\u001b[0m\u001b[0;34m,\u001b[0m \u001b[0msf\u001b[0m\u001b[0;34m,\u001b[0m \u001b[0mnb_de_kmer_a_aligner\u001b[0m\u001b[0;34m,\u001b[0m \u001b[0;36m0\u001b[0m\u001b[0;34m)\u001b[0m\u001b[0;34m\u001b[0m\u001b[0;34m\u001b[0m\u001b[0m\n\u001b[0m\u001b[1;32m     25\u001b[0m     \u001b[0moutput\u001b[0m\u001b[0;34m=\u001b[0m\u001b[0maligner_un_read_faster\u001b[0m\u001b[0;34m(\u001b[0m\u001b[0mread\u001b[0m\u001b[0;34m,\u001b[0m \u001b[0mtaille_kmer\u001b[0m\u001b[0;34m,\u001b[0m \u001b[0mpositions\u001b[0m\u001b[0;34m,\u001b[0m \u001b[0mnb_de_kmer_a_aligner\u001b[0m\u001b[0;34m,\u001b[0m \u001b[0merreurs\u001b[0m\u001b[0;34m,\u001b[0m\u001b[0;36m0\u001b[0m\u001b[0;34m)\u001b[0m\u001b[0;34m\u001b[0m\u001b[0;34m\u001b[0m\u001b[0m\n\u001b[1;32m     26\u001b[0m     \u001b[0;32mif\u001b[0m \u001b[0mlen\u001b[0m\u001b[0;34m(\u001b[0m\u001b[0moutput\u001b[0m\u001b[0;34m)\u001b[0m\u001b[0;34m!=\u001b[0m\u001b[0;36m1\u001b[0m\u001b[0;34m:\u001b[0m\u001b[0;34m\u001b[0m\u001b[0;34m\u001b[0m\u001b[0m\n",
      "\u001b[0;32m/tmp/ipykernel_36096/2625266179.py\u001b[0m in \u001b[0;36mposition_partial_sorted\u001b[0;34m(liste_kmer, bwt, suffix_table, nb_kmer, decalage)\u001b[0m\n\u001b[1;32m      3\u001b[0m     \u001b[0mfin\u001b[0m\u001b[0;34m=\u001b[0m\u001b[0;34m[\u001b[0m\u001b[0;36m0\u001b[0m \u001b[0;32mfor\u001b[0m \u001b[0mi\u001b[0m \u001b[0;32min\u001b[0m \u001b[0mrange\u001b[0m\u001b[0;34m(\u001b[0m\u001b[0mnb_kmer\u001b[0m\u001b[0;34m)\u001b[0m\u001b[0;34m]\u001b[0m\u001b[0;34m\u001b[0m\u001b[0;34m\u001b[0m\u001b[0m\n\u001b[1;32m      4\u001b[0m     \u001b[0;32mfor\u001b[0m \u001b[0mi\u001b[0m \u001b[0;32min\u001b[0m \u001b[0mrange\u001b[0m\u001b[0;34m(\u001b[0m\u001b[0mnb_kmer\u001b[0m\u001b[0;34m)\u001b[0m\u001b[0;34m:\u001b[0m\u001b[0;34m\u001b[0m\u001b[0;34m\u001b[0m\u001b[0m\n\u001b[0;32m----> 5\u001b[0;31m         \u001b[0mdebut\u001b[0m\u001b[0;34m.\u001b[0m\u001b[0mappend\u001b[0m\u001b[0;34m(\u001b[0m\u001b[0msorted\u001b[0m\u001b[0;34m(\u001b[0m\u001b[0mfind_patterns_in_sequence_faster\u001b[0m\u001b[0;34m(\u001b[0m\u001b[0msuffix_table\u001b[0m\u001b[0;34m,\u001b[0m \u001b[0mbwt\u001b[0m\u001b[0;34m,\u001b[0m \u001b[0mliste_kmer\u001b[0m\u001b[0;34m[\u001b[0m\u001b[0mdecalage\u001b[0m\u001b[0;34m+\u001b[0m\u001b[0mi\u001b[0m\u001b[0;34m]\u001b[0m\u001b[0;34m)\u001b[0m\u001b[0;34m)\u001b[0m\u001b[0;34m)\u001b[0m\u001b[0;34m\u001b[0m\u001b[0;34m\u001b[0m\u001b[0m\n\u001b[0m\u001b[1;32m      6\u001b[0m         \u001b[0mfin\u001b[0m\u001b[0;34m[\u001b[0m\u001b[0;34m-\u001b[0m\u001b[0;36m1\u001b[0m\u001b[0;34m-\u001b[0m\u001b[0mi\u001b[0m\u001b[0;34m]\u001b[0m\u001b[0;34m=\u001b[0m\u001b[0msorted\u001b[0m\u001b[0;34m(\u001b[0m\u001b[0mfind_patterns_in_sequence_faster\u001b[0m\u001b[0;34m(\u001b[0m\u001b[0msuffix_table\u001b[0m\u001b[0;34m,\u001b[0m \u001b[0mbwt\u001b[0m\u001b[0;34m,\u001b[0m \u001b[0mliste_kmer\u001b[0m\u001b[0;34m[\u001b[0m\u001b[0;34m-\u001b[0m\u001b[0;36m1\u001b[0m\u001b[0;34m-\u001b[0m\u001b[0mdecalage\u001b[0m\u001b[0;34m-\u001b[0m\u001b[0mi\u001b[0m\u001b[0;34m]\u001b[0m\u001b[0;34m)\u001b[0m\u001b[0;34m)\u001b[0m\u001b[0;34m\u001b[0m\u001b[0;34m\u001b[0m\u001b[0m\n\u001b[1;32m      7\u001b[0m     \u001b[0;32mreturn\u001b[0m \u001b[0mdebut\u001b[0m\u001b[0;34m+\u001b[0m\u001b[0mfin\u001b[0m\u001b[0;34m\u001b[0m\u001b[0;34m\u001b[0m\u001b[0m\n",
      "\u001b[0;32m/tmp/ipykernel_36096/3910972299.py\u001b[0m in \u001b[0;36mfind_patterns_in_sequence_faster\u001b[0;34m(sf, BWT, pattern)\u001b[0m\n\u001b[1;32m     23\u001b[0m         \u001b[0mindex\u001b[0m\u001b[0;34m-=\u001b[0m\u001b[0;36m1\u001b[0m\u001b[0;34m\u001b[0m\u001b[0;34m\u001b[0m\u001b[0m\n\u001b[1;32m     24\u001b[0m         \u001b[0mpattern_letter\u001b[0m\u001b[0;34m=\u001b[0m\u001b[0mpattern\u001b[0m\u001b[0;34m[\u001b[0m\u001b[0mindex\u001b[0m\u001b[0;34m]\u001b[0m\u001b[0;34m\u001b[0m\u001b[0;34m\u001b[0m\u001b[0m\n\u001b[0;32m---> 25\u001b[0;31m         \u001b[0msuffix_table_positions\u001b[0m\u001b[0;34m=\u001b[0m\u001b[0mnew_suffix_table_positions_faster\u001b[0m\u001b[0;34m(\u001b[0m\u001b[0mBWT\u001b[0m\u001b[0;34m,\u001b[0m\u001b[0mpattern_letter\u001b[0m\u001b[0;34m,\u001b[0m\u001b[0msuffix_table_positions\u001b[0m\u001b[0;34m,\u001b[0m\u001b[0moccurence_index\u001b[0m\u001b[0;34m,\u001b[0m\u001b[0mcounts\u001b[0m\u001b[0;34m)\u001b[0m\u001b[0;34m\u001b[0m\u001b[0;34m\u001b[0m\u001b[0m\n\u001b[0m\u001b[1;32m     26\u001b[0m \u001b[0;34m\u001b[0m\u001b[0m\n\u001b[1;32m     27\u001b[0m     \u001b[0;32mfor\u001b[0m \u001b[0mi\u001b[0m \u001b[0;32min\u001b[0m \u001b[0mrange\u001b[0m\u001b[0;34m(\u001b[0m\u001b[0mlen\u001b[0m\u001b[0;34m(\u001b[0m\u001b[0msuffix_table_positions\u001b[0m\u001b[0;34m)\u001b[0m\u001b[0;34m)\u001b[0m\u001b[0;34m:\u001b[0m\u001b[0;34m\u001b[0m\u001b[0;34m\u001b[0m\u001b[0m\n",
      "\u001b[0;32m/tmp/ipykernel_36096/4115671182.py\u001b[0m in \u001b[0;36mnew_suffix_table_positions_faster\u001b[0;34m(BWT, pattern_letter, position_in_BWT, occurence_index, counts)\u001b[0m\n\u001b[1;32m     25\u001b[0m             \u001b[0mletter\u001b[0m\u001b[0;34m=\u001b[0m\u001b[0mletter_and_occurence\u001b[0m\u001b[0;34m[\u001b[0m\u001b[0;36m0\u001b[0m\u001b[0;34m]\u001b[0m\u001b[0;34m\u001b[0m\u001b[0;34m\u001b[0m\u001b[0m\n\u001b[1;32m     26\u001b[0m             \u001b[0moccurence\u001b[0m\u001b[0;34m=\u001b[0m\u001b[0mletter_and_occurence\u001b[0m\u001b[0;34m[\u001b[0m\u001b[0;36m1\u001b[0m\u001b[0;34m]\u001b[0m\u001b[0;34m\u001b[0m\u001b[0;34m\u001b[0m\u001b[0m\n\u001b[0;32m---> 27\u001b[0;31m             \u001b[0mnew_position_to_evaluate\u001b[0m\u001b[0;34m=\u001b[0m\u001b[0moccurence\u001b[0m \u001b[0;34m+\u001b[0m \u001b[0msum\u001b[0m\u001b[0;34m(\u001b[0m\u001b[0;34m[\u001b[0m\u001b[0mcounts\u001b[0m\u001b[0;34m[\u001b[0m\u001b[0mchar\u001b[0m\u001b[0;34m]\u001b[0m \u001b[0;32mfor\u001b[0m \u001b[0mchar\u001b[0m \u001b[0;32min\u001b[0m \u001b[0mcounts\u001b[0m \u001b[0;32mif\u001b[0m \u001b[0mchar\u001b[0m \u001b[0;34m<\u001b[0m \u001b[0mletter\u001b[0m\u001b[0;34m]\u001b[0m\u001b[0;34m)\u001b[0m\u001b[0;34m\u001b[0m\u001b[0;34m\u001b[0m\u001b[0m\n\u001b[0m\u001b[1;32m     28\u001b[0m             \u001b[0moutput\u001b[0m\u001b[0;34m.\u001b[0m\u001b[0mappend\u001b[0m\u001b[0;34m(\u001b[0m\u001b[0mnew_position_to_evaluate\u001b[0m\u001b[0;34m)\u001b[0m\u001b[0;34m\u001b[0m\u001b[0;34m\u001b[0m\u001b[0m\n\u001b[1;32m     29\u001b[0m     \u001b[0;32mreturn\u001b[0m \u001b[0moutput\u001b[0m\u001b[0;34m\u001b[0m\u001b[0;34m\u001b[0m\u001b[0m\n",
      "\u001b[0;31mKeyboardInterrupt\u001b[0m: "
     ]
    }
   ],
   "source": [
    "start=time.time()\n",
    "align_reads=[]\n",
    "for i in range(100):\n",
    "    liste_kmer=kmer(reads[i].seq.upper(), 10)\n",
    "    align_reads.append({\"read\": i, \"alignement\":aligner_un_read_avec_mutation(reads[i].seq.upper(), 10, liste_kmer, bwt, sf, comp_inv_bwt, comp_inv_sf,3, 2)})\n",
    "end=time.time()\n",
    "print(\"Aligner 100 reads prend \"+ str(end-start))"
   ]
  },
  {
   "cell_type": "markdown",
   "id": "f4bf4579",
   "metadata": {},
   "source": [
    "Les alignements proposés sont:"
   ]
  },
  {
   "cell_type": "code",
   "execution_count": 51,
   "id": "83e7361d",
   "metadata": {},
   "outputs": [
    {
     "name": "stdout",
     "output_type": "stream",
     "text": [
      "[{'read': 0, 'alignement': [-1]}, {'read': 1, 'alignement': [143900]}, {'read': 2, 'alignement': [471737]}, {'read': 3, 'alignement': [65426]}, {'read': 4, 'alignement': [-1]}]\n"
     ]
    }
   ],
   "source": [
    "print(align_reads[:5])"
   ]
  },
  {
   "cell_type": "markdown",
   "id": "b0d111cf",
   "metadata": {},
   "source": [
    "Calculons le taux d'erreur"
   ]
  },
  {
   "cell_type": "code",
   "execution_count": 52,
   "id": "bcd95cd1",
   "metadata": {},
   "outputs": [
    {
     "name": "stdout",
     "output_type": "stream",
     "text": [
      "Le pourcentage d'erreur est 53.84615384615385%\n"
     ]
    }
   ],
   "source": [
    "error=0\n",
    "for i in range(len(align_reads)):\n",
    "    if (donnees_experimentales[i]!=align_reads[i][\"alignement\"][0]):\n",
    "        error+=1\n",
    "pourcentage_erreur=(error/len(align_reads))*100\n",
    "print(\"Le pourcentage d'erreur est \"+str(pourcentage_erreur)+\"%\")"
   ]
  },
  {
   "cell_type": "markdown",
   "id": "92432832",
   "metadata": {},
   "source": [
    "## Seconde approche d'alignement: lente mais juste \n",
    "\n",
    "On assemble tous les kmers un par uns à la suite.   \n",
    "Dans le cas d'une mutation, on continue l'alignement à partir du dixième kmer plus loin.  \n",
    "Si aucun alignement n'est trouvé, on s'interesse au complémentaire inverse du read."
   ]
  },
  {
   "cell_type": "code",
   "execution_count": 53,
   "id": "6b313a23",
   "metadata": {},
   "outputs": [],
   "source": [
    "def assembler_des_kmers(numero_du_kmer, position_ds_genome,longueur, liste_position_kmers):\n",
    "    compteur_de_kmer=1 #compte le nb de kmers qu'on arrive à aligner\n",
    "    last_position=0\n",
    "    i=numero_du_kmer+1\n",
    "    difference=1\n",
    "    \n",
    "    while i<len(liste_position_kmers):\n",
    "        j=0\n",
    "        previous_compteur=compteur_de_kmer\n",
    "        k=0\n",
    "        while j<len(liste_position_kmers[i]) and compteur_de_kmer==previous_compteur:\n",
    "            # on ne quitte pas la boucle while tant qu'on a pas réussi\n",
    "            # à aligner un kmer, où qu'on a pas parcouru la liste des positions prises par le kmer\n",
    "            if position_ds_genome+difference==liste_position_kmers[i][j]:\n",
    "                compteur_de_kmer+=1\n",
    "                last_position=liste_position_kmers[i][j]\n",
    "            j+=1\n",
    "            \n",
    "        if compteur_de_kmer==previous_compteur:\n",
    "            # si on a pas réussi à aligner ce kmer\n",
    "            i+=longueur\n",
    "            # on continue l'alignement à partir du kmer 10 positions plus loin\n",
    "            difference+=longueur\n",
    "            if  i>= len(liste_position_kmers):\n",
    "                # on vérifie que 10 positions plus loin on aie pas atteint la fin de notre read\n",
    "                return [[position_ds_genome,last_position+longueur],compteur_de_kmer]\n",
    "            else:\n",
    "                \n",
    "                #on teste si l'absence d'alignement est du à un mutation\n",
    "                k=0\n",
    "\n",
    "                while k<len(liste_position_kmers[i]) and compteur_de_kmer==previous_compteur:\n",
    "                    if position_ds_genome+difference==liste_position_kmers[i][k]:\n",
    "                        compteur_de_kmer+=1\n",
    "                        last_position=liste_position_kmers[i][k]\n",
    "                    k+=1\n",
    "\n",
    "\n",
    "\n",
    "                if compteur_de_kmer==previous_compteur:\n",
    "                    ###cas d'une insertion\n",
    "                    difference-=1\n",
    "                    l=0\n",
    "                    while l<len(liste_position_kmers[i]) and compteur_de_kmer==previous_compteur:\n",
    "\n",
    "                        if position_ds_genome+difference==liste_position_kmers[i][l]:\n",
    "                            compteur_de_kmer+=1\n",
    "                            last_position=liste_position_kmers[i][l]\n",
    "                        l+=1\n",
    "\n",
    "                    if compteur_de_kmer==previous_compteur:\n",
    "                        ###cas d'une déletions\n",
    "                        difference+=1\n",
    "                        i-=1\n",
    "                        m=0\n",
    "                        while m<len(liste_position_kmers[i]) and compteur_de_kmer==previous_compteur:\n",
    "\n",
    "                            if position_ds_genome+difference==liste_position_kmers[i][m]:\n",
    "                                compteur_de_kmer+=1\n",
    "                                last_position=liste_position_kmers[i][m]\n",
    "                            m+=1\n",
    "\n",
    "                        if compteur_de_kmer==previous_compteur:\n",
    "                            ### cas où l'alignement est terminé\n",
    "                            return [[position_ds_genome,last_position+longueur],compteur_de_kmer]\n",
    "\n",
    "        i+=1\n",
    "        difference+=1   \n",
    "        \n",
    "    return [[position_ds_genome,last_position+longueur],compteur_de_kmer]"
   ]
  },
  {
   "cell_type": "code",
   "execution_count": 54,
   "id": "b2ce986e",
   "metadata": {},
   "outputs": [],
   "source": [
    "def alignement_maximum_de_kmer(liste_position_kmers, longueur):\n",
    "    output=[[0,0],0]\n",
    "    maximum=0\n",
    "    for i in range(longueur+1):\n",
    "        current_kmer=liste_position_kmers[i]\n",
    "        for p in current_kmer:\n",
    "            alignement=assembler_des_kmers(i, p, longueur, liste_position_kmers)\n",
    "            if maximum<alignement[1]:\n",
    "                output=alignement\n",
    "                maximum=alignement[1]\n",
    "    return output"
   ]
  },
  {
   "cell_type": "markdown",
   "id": "03d87bda",
   "metadata": {},
   "source": [
    "##### Complexité : \n",
    "alignement_maximum_de_kmer parcourt 'longueur'+1 et 'current_kmer' et utilise 'assembler_des_kmers'(qui a une complexité $0()$, elle a donc une complexité $0()$"
   ]
  },
  {
   "cell_type": "code",
   "execution_count": 55,
   "id": "86062fd9",
   "metadata": {},
   "outputs": [],
   "source": [
    "def align_read(chromosome, reads_list, longueur_kmer):\n",
    "    sf=almost_dc3_with_p12(asciiDC3(chromosome))\n",
    "    bwt=BWT(chromosome, sf)\n",
    "    output=[]\n",
    "    \n",
    "    for i in range(len(reads_list)): # on parcourt la liste de toutes les positions des kmers\n",
    "        liste_de_kmer=kmer(reads_list[i].seq.upper(), longueur_kmer)\n",
    "        position=[]\n",
    "        for j in range(len(liste_de_kmer)):\n",
    "            # on démarre notre recherche d'alignement à partir des 10 premiers\n",
    "            # kmers, pour anticiper le cas où une SNP se trouve au début du read\n",
    "            position.append(find_patterns_in_sequence_faster(sf,bwt, liste_de_kmer[j]))\n",
    "        \n",
    "        alignment=alignement_maximum_de_kmer(position, longueur_kmer)\n",
    "        \n",
    "        \n",
    "        if (alignment[0][1]-alignment[0][0])<30:\n",
    "            # si l'alignement est trop mauvais\n",
    "            # on cherche à aligner le complémentaire inverse\n",
    "            liste_de_kmer=kmer(complementaire_inverse(reads_list[i].seq.upper()), longueur_kmer)\n",
    "            position=[]\n",
    "            for j in range(len(liste_de_kmer)):\n",
    "                position.append(find_patterns_in_sequence_faster(sf,bwt, liste_de_kmer[j]))\n",
    "                \n",
    "            alignment=alignement_maximum_de_kmer(position, longueur_kmer)\n",
    "            \n",
    "        # on crée un immense liste avec tous les alignements trouvés        \n",
    "        output.append({\"read\":i, \"alignement\":alignment})\n",
    "    return output\n",
    "        "
   ]
  },
  {
   "cell_type": "markdown",
   "id": "3f3a8750",
   "metadata": {},
   "source": [
    "##### Complexité :\n",
    "align_read parcourt 'reads_list', 'liste_kmer' utilise almost_dc3_with_p12, asciiDC3, BWT, kmer, find_patterns_in_sequence_faster, alignement_maximum_de_kmer et dans le pire des cas (si on doit chercher dans le complémentaire inverse) utilise aussi complementaire_inverse, find_patterns_in_sequence_faster, alignement_maximum_de_kmer et reparcourt liste_de_kmer. "
   ]
  },
  {
   "cell_type": "markdown",
   "id": "43776d37",
   "metadata": {},
   "source": [
    "### Testons notre algorithme sur le premier read:"
   ]
  },
  {
   "cell_type": "code",
   "execution_count": 68,
   "id": "b171914b",
   "metadata": {},
   "outputs": [],
   "source": [
    "premier_chr=genome[0].seq.upper()+\"!\"\n",
    "sf=almost_dc3_with_p12(asciiDC3(premier_chr)) # suffix table du 1er chromosome\n",
    "bwt=BWT(premier_chr, sf, True)"
   ]
  },
  {
   "cell_type": "code",
   "execution_count": 69,
   "id": "f7c42a89",
   "metadata": {},
   "outputs": [
    {
     "name": "stdout",
     "output_type": "stream",
     "text": [
      "[{'read': 0, 'alignement': [[131734, 131834], 81]}, {'read': 1, 'alignement': [[143900, 143992], 83]}, {'read': 2, 'alignement': [[471737, 471837], 91]}]\n",
      "Aligner 5 reads prend 94.90097427368164\n"
     ]
    }
   ],
   "source": [
    "start=time.time()\n",
    "align=align_read(premier_chr,reads[:3], 10)\n",
    "end=time.time()\n",
    "print(align)\n",
    "print(\"Aligner 5 reads prend \"+str(end-start))"
   ]
  },
  {
   "cell_type": "code",
   "execution_count": 70,
   "id": "49677892",
   "metadata": {},
   "outputs": [
    {
     "name": "stdout",
     "output_type": "stream",
     "text": [
      "[{'read': 0, 'alignement': [[131734, 131834], 81]}, {'read': 1, 'alignement': [[143900, 143992], 83]}, {'read': 2, 'alignement': [[471737, 471837], 91]}]\n"
     ]
    }
   ],
   "source": [
    "print(align)"
   ]
  },
  {
   "cell_type": "code",
   "execution_count": 71,
   "id": "bba916e0",
   "metadata": {},
   "outputs": [
    {
     "name": "stdout",
     "output_type": "stream",
     "text": [
      "[131734, 143900, 471737, 65426, 152677]\n"
     ]
    }
   ],
   "source": [
    "print(donnees_experimentales[:5])"
   ]
  },
  {
   "cell_type": "code",
   "execution_count": 72,
   "id": "007ad7af",
   "metadata": {},
   "outputs": [
    {
     "name": "stdout",
     "output_type": "stream",
     "text": [
      "131734\n",
      "131734\n",
      "143900\n",
      "143900\n",
      "471737\n",
      "471737\n",
      "Le pourcentage d'erreur est 0.0%\n"
     ]
    }
   ],
   "source": [
    "error=0\n",
    "for i in range(len(align)):\n",
    "    print(donnees_experimentales[i])\n",
    "    print(align[i][\"alignement\"][0][0])\n",
    "    if (donnees_experimentales[i]!=align[i][\"alignement\"][0][0]):\n",
    "        error+=1\n",
    "pourcentage_erreur=(error/len(align))*100\n",
    "print(\"Le pourcentage d'erreur est \"+str(pourcentage_erreur)+\"%\")"
   ]
  },
  {
   "cell_type": "markdown",
   "id": "a62d5460",
   "metadata": {},
   "source": [
    "### Visualisation des reads"
   ]
  },
  {
   "cell_type": "code",
   "execution_count": null,
   "id": "18649f8f",
   "metadata": {},
   "outputs": [],
   "source": [
    "def check_for_mutation(index, read_decalage,genome_decalage, read,genome):\n",
    "    return read[read_decalage+index+1]==genome[genome_decalage+index+1]\n",
    "\n",
    "\n",
    "def check_for_deletion(index, read_decalage, genome_decalage, read,genome):\n",
    "    return read[read_decalage+index]==genome[genome_decalage+index+1]\n",
    "\n",
    "def check_for_addition(index, read_decalage, genome_decalage, read,genome):\n",
    "    return read[read_decalage+index+1]==genome[genome_decalage+index]\n",
    "\n",
    "def compare_read_and_genome(position_in_genome, read,genome):\n",
    "    read_decalage=0\n",
    "    genome_decalage=position_in_genome\n",
    "    str_read=\"\"\n",
    "    str_genome=\"\"\n",
    "    i=0\n",
    "    while i+read_decalage<len(read):\n",
    "        if read[read_decalage+i]!=genome[genome_decalage+i]:\n",
    "            if check_for_mutation(i, read_decalage,genome_decalage, read,genome):\n",
    "                str_read+=\"*\"+read[read_decalage+i]+\"*\"\n",
    "                str_genome+=\"*\"+genome[genome_decalage+i]+\"*\"\n",
    "                i+=1\n",
    "                \n",
    "            elif check_for_deletion(i, read_decalage,genome_decalage, read,genome):\n",
    "                str_read+=\"-\"\n",
    "                str_genome+=genome[genome_decalage+i]\n",
    "                genome_decalage+=1\n",
    "                i+=1\n",
    "                \n",
    "            elif check_for_addition(i, read_decalage, genome_decalage, read,genome):\n",
    "                str_read+=read[read_decalage+i]\n",
    "                str_genome+=\"+\"+genome[genome_decalage+i]\n",
    "                i+=1\n",
    "                read_decalage+=1\n",
    "                \n",
    "            else:\n",
    "                i+=1\n",
    "                print(\"Nous observons plus d'une erreur d'alignement à la suite qui se suivent entre les positions \"+str(genome_decalage+i-1)+\" et \"+str(genome_decalage+i))\n",
    "        else:\n",
    "            str_read+=read[read_decalage+i]\n",
    "            str_genome+=genome[genome_decalage+i]\n",
    "            i+=1\n",
    "            \n",
    "    print(\"read\")\n",
    "    print(str_read)\n",
    "        \n",
    "    print(\"genome\")\n",
    "    print(str_genome)\n",
    "    return"
   ]
  },
  {
   "cell_type": "markdown",
   "id": "c9e46378",
   "metadata": {},
   "source": [
    "#### Testons notre algorithme sur un exemple "
   ]
  },
  {
   "cell_type": "code",
   "execution_count": null,
   "id": "96ead068",
   "metadata": {},
   "outputs": [],
   "source": [
    "current_read=reads[1].seq.upper()\n",
    "current_genome=genome[0].seq.upper()\n",
    "starting_position=143900"
   ]
  },
  {
   "cell_type": "markdown",
   "id": "c43da50c",
   "metadata": {},
   "source": [
    "Les fonctions suivantes nous permettent de visualiser les zones de SNP"
   ]
  },
  {
   "cell_type": "code",
   "execution_count": null,
   "id": "6c68ba00",
   "metadata": {},
   "outputs": [],
   "source": [
    "compare_read_and_genome(starting_position,current_read,current_genome)"
   ]
  },
  {
   "cell_type": "code",
   "execution_count": null,
   "id": "91487c3d",
   "metadata": {},
   "outputs": [],
   "source": [
    "cProfile.run(\"align_read(premier_chr,reads[5:10], 10)\", \"pattern_matching_stats\")\n",
    "p = pstats.Stats(\"pattern_matching_stats\")\n",
    "p.sort_stats(\"cumulative\").print_stats()"
   ]
  },
  {
   "cell_type": "markdown",
   "id": "60780f09",
   "metadata": {},
   "source": [
    "### Comparaison des résultats théoriques avec les résultats expérimentaux"
   ]
  },
  {
   "cell_type": "markdown",
   "id": "747168a4",
   "metadata": {},
   "source": [
    "### Analyse de la qualité des séquences "
   ]
  },
  {
   "attachments": {
    "Capture%20d%E2%80%99%C3%A9cran%20du%202023-11-09%2015-44-16.png": {
     "image/png": "[encoded data removed]"
    }
   },
   "cell_type": "markdown",
   "id": "499b7b2c",
   "metadata": {},
   "source": [
    "\n",
    "![Capture%20d%E2%80%99%C3%A9cran%20du%202023-11-09%2015-44-16.png](attachment:Capture%20d%E2%80%99%C3%A9cran%20du%202023-11-09%2015-44-16.png)"
   ]
  },
  {
   "cell_type": "markdown",
   "id": "33263beb",
   "metadata": {},
   "source": [
    "Nous pouvons voir grâce à FastQC que la qualité de nos séquence est plutôt bonne, malgré une légère diminution de la qualité en début et fin des reads. Il ne semble pas opportun de modifier nos reads."
   ]
  },
  {
   "cell_type": "raw",
   "id": "ab1e0f59",
   "metadata": {},
   "source": [
    "f = open(\"read_positions_5_11.txt\", \"w\")\n",
    "for i in range(len(align)):\n",
    "    f.write(str(align[i]['alignement'][0][0])+\"\\n\")\n",
    "f.close()"
   ]
  }
 ],
 "metadata": {
  "kernelspec": {
   "display_name": "Python 3 (ipykernel)",
   "language": "python",
   "name": "python3"
  },
  "language_info": {
   "codemirror_mode": {
    "name": "ipython",
    "version": 3
   },
   "file_extension": ".py",
   "mimetype": "text/x-python",
   "name": "python",
   "nbconvert_exporter": "python",
   "pygments_lexer": "ipython3",
   "version": "3.10.12"
  }
 },
 "nbformat": 4,
 "nbformat_minor": 5
}
