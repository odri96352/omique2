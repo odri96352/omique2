{
 "cells": [
  {
   "cell_type": "markdown",
   "id": "cdb689bb",
   "metadata": {},
   "source": [
    "# STEP 1 "
   ]
  },
  {
   "cell_type": "code",
   "execution_count": 1,
   "id": "bf52a3d6",
   "metadata": {},
   "outputs": [
    {
     "name": "stderr",
     "output_type": "stream",
     "text": [
      "/usr/lib/python3/dist-packages/scipy/__init__.py:146: UserWarning: A NumPy version >=1.17.3 and <1.25.0 is required for this version of SciPy (detected version 1.26.1\n",
      "  warnings.warn(f\"A NumPy version >={np_minversion} and <{np_maxversion}\"\n"
     ]
    }
   ],
   "source": [
    "import time\n",
    "import matplotlib.pyplot as plt\n",
    "import pandas as pd\n",
    "import seaborn as sns"
   ]
  },
  {
   "cell_type": "code",
   "execution_count": 2,
   "id": "7166cabb",
   "metadata": {},
   "outputs": [],
   "source": [
    "def asciiDC3 (seq) : \n",
    "    asc=[]\n",
    "    for i in seq : \n",
    "        asc.append(ord(i))\n",
    "    \n",
    "    return asc+[0,0,0]"
   ]
  },
  {
   "cell_type": "code",
   "execution_count": 63,
   "id": "c807cbc7",
   "metadata": {},
   "outputs": [],
   "source": [
    "def position1_2 (asc):\n",
    "    ind1=[]\n",
    "    ind2=[]\n",
    "    for k in range(len(asc)-2):\n",
    "        #attention on a peut etre fait de la merde ici, pas sure du -2\n",
    "        if k%3==1 :\n",
    "            ind1.append(k)\n",
    "        if k%3==2:\n",
    "            ind2.append(k)\n",
    "    # dans le cas où T a un nombre d'élément multiple de 3, r12 ne contiendra pas le triplet [0,0,0].\n",
    "    # Or, la fonction, \"removesentinel\" retire 1 élément notre suffix table, pour justement se débarrasser de [0,0,0]\n",
    "    # J'ai donc décider de rajouter artificiellement [0,0,0] dans les cas où il n'est pas déjà là.\n",
    "    if len(asc)%3==0:\n",
    "        ind1.append(len(asc)-1-2)\n",
    "        \n",
    "    return ind1+ind2"
   ]
  },
  {
   "cell_type": "markdown",
   "id": "9f5495d1",
   "metadata": {},
   "source": [
    "99 98 97 0     0 0\n",
    "0  1  2 3      4 5\n",
    "\n",
    "p1= 1 [98 97 0]\n",
    "p2= 2\n"
   ]
  },
  {
   "cell_type": "code",
   "execution_count": 4,
   "id": "19ad5e5c",
   "metadata": {},
   "outputs": [
    {
     "name": "stdout",
     "output_type": "stream",
     "text": [
      "18\n"
     ]
    }
   ],
   "source": [
    "print(len([2, 17, 7, 5, 4, 3, 12, 9, 6, 8, 10, 13, 14, 12, 11, 16, 15, 1, 0, 0, 0])-3)"
   ]
  },
  {
   "cell_type": "code",
   "execution_count": 5,
   "id": "e229e576",
   "metadata": {},
   "outputs": [
    {
     "name": "stdout",
     "output_type": "stream",
     "text": [
      "[1, 4, 7, 10, 13, 16, 18, 2, 5, 8, 11, 14, 17]\n"
     ]
    }
   ],
   "source": [
    "print(position1_2([2, 17, 7, 5, 4, 3, 12, 9, 6, 8, 10, 13, 14, 12, 11, 16, 15, 1, 0, 0, 0]))"
   ]
  },
  {
   "cell_type": "code",
   "execution_count": 6,
   "id": "2071f6d0",
   "metadata": {},
   "outputs": [],
   "source": [
    "def radix (p, t):\n",
    "    r=[]\n",
    "    for i in range(len(p)):\n",
    "        index=p[i]\n",
    "        r.append([t[index],t[index+1], t[index+2]])\n",
    "    return r"
   ]
  },
  {
   "cell_type": "code",
   "execution_count": 82,
   "id": "983e5cfc",
   "metadata": {},
   "outputs": [],
   "source": [
    "def radix_with_p12(p,t):\n",
    "    r=[]\n",
    "    for i in range(len(p)):\n",
    "        index=p[i]\n",
    "        r.append([[t[index],t[index+1], t[index+2]],index])\n",
    "    return r"
   ]
  },
  {
   "cell_type": "code",
   "execution_count": 89,
   "id": "862523e6",
   "metadata": {},
   "outputs": [],
   "source": [
    "def sort_with_p12(array, alphabet, columnNumber):\n",
    "    #print(\"array\")\n",
    "    #print(array)\n",
    "    #print(\"alphabet\")\n",
    "    #print(alphabet)\n",
    "    if len(array) == 0:\n",
    "        return array\n",
    "\n",
    "  # Perform counting sort on each column, starting at the last\n",
    "\n",
    "    column = columnNumber\n",
    "    while column>=0: # nous on met \"tant que l'indice est supérieur à 3\"\n",
    "        array = countingSortByDigit_with_p12(array, alphabet, column)\n",
    "        column-=1 #change de colonne dans ton tableau\n",
    "\n",
    "    return array\n",
    "\n",
    "def countingSortByDigit_with_p12(array, alphabet, column):\n",
    "    \"\"\"\n",
    "    ici possibleNumbers= nombre de chiffres possibles. Nous n'avons que 4 nombres (0,97,98,99)\n",
    "    \"\"\"\n",
    "\n",
    "    countIndex = -1\n",
    "    count = [0] * len(alphabet)\n",
    "    output = [None] * len(array)\n",
    "\n",
    "  # Count frequencies\n",
    "    for i in range(0, len(array)):\n",
    "        #print(\"i \"+str(i))\n",
    "        #print(\"array[i] \"+ str(array[i]))\n",
    "        #print(\"column \"+str(column))\n",
    "        \n",
    "        countIndex = alphabet[array[i][0][column]]\n",
    "        count[countIndex] += 1\n",
    "\n",
    "  # Compute cumulates\n",
    "    for i in range(1, len(alphabet)):\n",
    "        count[i] += count[i - 1]\n",
    "\n",
    "  # Move records\n",
    "    for i in range(len(array) - 1, -1, -1):\n",
    "        countIndex = alphabet[array[i][0][column]]\n",
    "        count[countIndex] -= 1\n",
    "        output[count[countIndex]] = array[i]\n",
    "       \n",
    "    return output"
   ]
  },
  {
   "cell_type": "code",
   "execution_count": 171,
   "id": "b13f245e",
   "metadata": {},
   "outputs": [],
   "source": [
    "def triplets_are_equal(a,b):\n",
    "    for i in range(len(a)):\n",
    "        if a[i]!=b[i]:\n",
    "            return False\n",
    "    return True\n",
    "\n",
    "\n",
    "def ordre_with_p12(R12p12sorted, use_index_12=False):\n",
    "    # nous renovie la liste order du genre (1,2,2,3,4,4,5)  et un booléen indiquant s'il y a répétition\n",
    "    index=1\n",
    "    repetition=False\n",
    "    order=[1]\n",
    "    \n",
    "    if use_index_12:\n",
    "        indexdict={R12p12sorted[0][1]:1}\n",
    "        \n",
    "    for i in range(1, len(R12p12sorted)): \n",
    "        if triplets_are_equal(R12p12sorted[i-1][0], R12p12sorted[i][0]):\n",
    "            order.append(index)\n",
    "            repetition=True\n",
    "        else : \n",
    "            index+=1\n",
    "            order.append(index)\n",
    "            \n",
    "        if use_index_12:\n",
    "            indexdict[R12p12sorted[i][1]]=order[i]\n",
    "    if use_index_12:\n",
    "        return order, repetition, indexdict\n",
    "    else: \n",
    "        return order\n",
    "            "
   ]
  },
  {
   "cell_type": "code",
   "execution_count": 125,
   "id": "51c44263",
   "metadata": {},
   "outputs": [],
   "source": [
    "def alphabetR0_with_p12(R0p0):\n",
    "    ### à changer pcq c laid\n",
    "    dic={}\n",
    "    a=[]\n",
    "    for column in range(2):\n",
    "        for i in range(len(R0p0)):\n",
    "            a.append(R0p0[i][0][column])\n",
    "    a.sort() ## MDR CE SORT EST A CHANGER SERGIO VA NOUS TUER\n",
    "    \n",
    "    for element in a:\n",
    "        if not (element in dic):\n",
    "            dic[element]=len(dic)\n",
    "    return dic"
   ]
  },
  {
   "cell_type": "code",
   "execution_count": 178,
   "id": "a616f4b5",
   "metadata": {},
   "outputs": [],
   "source": [
    "def Tprime_with_p12(p12, indexdict):\n",
    "    t=[]\n",
    "    for p in p12:\n",
    "        t.append(indexdict[p])\n",
    "    return t"
   ]
  },
  {
   "cell_type": "code",
   "execution_count": 190,
   "id": "679e86bf",
   "metadata": {},
   "outputs": [],
   "source": [
    "def position0_R0_p0(T, index12dict):\n",
    "    #attention T se finit avec trois 0\n",
    "    position=[]\n",
    "    R=[]\n",
    "    for i in range(len(T)-3): #on ne prend pas en compte les trois 0 sentinelle\n",
    "        if i%3==0:\n",
    "            position.append(i)\n",
    "            if i+1<len(T)-3:\n",
    "                R.append([[T[i],index12dict[i+1]],position[-1]])\n",
    "            else:\n",
    "                R.append([[T[i],1],position[-1]]) # car les sentinelles sont forcément les 1ères dans l'ordre alphabétique\n",
    "    return position, R"
   ]
  },
  {
   "cell_type": "code",
   "execution_count": 159,
   "id": "83cfeabf",
   "metadata": {},
   "outputs": [],
   "source": [
    "def merge_with_p12(Tfinal, r0p0sorted, r12p12sorted, index12dict) : \n",
    "    liste=[]\n",
    "    A=0\n",
    "    B=0\n",
    "    while A<len(r0p0sorted) and B<len(r12p12sorted):\n",
    "        #print(\"rentre dans le while\")\n",
    "        a=r0p0sorted[A][1]\n",
    "        b=r12p12sorted[B][1]\n",
    "        if Tfinal[a]!=Tfinal[b] :\n",
    "            minimum=min(Tfinal[a], Tfinal[b])\n",
    "            \n",
    "            if minimum == Tfinal[a]:\n",
    "                #print(\"a= \"+str(a)+\", b= \"+str(b)+\", on append le \"+str(a))\n",
    "                A+=1\n",
    "                liste.append(a)\n",
    "            else: \n",
    "                #print(\"a= \"+str(a)+\", b= \"+str(b)+\", on append le \"+str(b))\n",
    "                B+=1\n",
    "                liste.append(b)\n",
    "\n",
    "        else :\n",
    "            if b%3==1 : \n",
    "                #print(str(b)+\" est congru à 1 modulo 3\")\n",
    "                longueur=len(liste)\n",
    "                #print(\"l'objet liste est pour l'instant constitué de: \")\n",
    "                #print(liste)\n",
    "                i=0\n",
    "                #print(\"on compare les positions de \"+str(a+1)+\" et \"+str(b+1))\n",
    "                #print(\"index12dict[\" +str(a+1)+\"]= \")\n",
    "                #print(index12dict[a+1])\n",
    "                #print(\"index12dict[\" +str(b+1)+\"]= \")\n",
    "                #print(index12dict[b+1])\n",
    "                if index12dict[a+1]<index12dict[b+1]:\n",
    "                    liste.append(a)\n",
    "                    #print(\"on append \"+ str(a))\n",
    "                    A+=1\n",
    "                else:\n",
    "                    liste.append(b)\n",
    "                    #print(\"on append \"+ str(b))\n",
    "                    B+=1\n",
    "                    \n",
    "                    \n",
    "            elif b%3==2 :\n",
    "                #print(str(b)+\"est congru à 2 modulo 3\")\n",
    "                if Tfinal[a+1]!=Tfinal[b+1] :\n",
    "                    minimum=min(Tfinal[a], Tfinal[b])\n",
    "                    if minimum == Tfinal[a]:\n",
    "                        A+=1\n",
    "                        liste.append(a)\n",
    "                    else: \n",
    "                        B+=1\n",
    "                        liste.append(b)\n",
    "\n",
    "                else:\n",
    "                    if index12dict[a+2]<index12dict[b+2]:\n",
    "                        liste.append(a)\n",
    "                        A+=1\n",
    "                    else:\n",
    "                        liste.append(b)\n",
    "                        B+=1\n",
    "                        \n",
    "        #print(\"plus dans la boucle while\")\n",
    "        #print(\"A \"+str(A))\n",
    "        #print(\"B \"+str(B))\n",
    "        if A==len(r0p0sorted):\n",
    "            #print(\"on concatène les index12\")\n",
    "            for i in range(B,len(r12p12sorted)):\n",
    "                liste.append(r12p12sorted[i][1])\n",
    "                \n",
    "        if B==len(r12p12sorted):\n",
    "            #print(\"on concatène les index0\")\n",
    "            for i in range(A, len(r0p0sorted)):\n",
    "                liste+=r0p0sorted[i][1]\n",
    "\n",
    "    return liste"
   ]
  },
  {
   "cell_type": "markdown",
   "id": "1a1b29c2",
   "metadata": {},
   "source": [
    "### test zone avec test 2"
   ]
  },
  {
   "cell_type": "code",
   "execution_count": 116,
   "id": "497f5ea2",
   "metadata": {},
   "outputs": [
    {
     "name": "stdout",
     "output_type": "stream",
     "text": [
      "[[[84, 71, 67], 1], [[84, 65, 71], 4], [[67, 84, 71], 7], [[67, 67, 67], 10], [[84, 71, 65], 13], [[84, 67, 84], 16], [[67, 84, 67], 19], [[84, 71, 65], 22], [[33, 0, 0], 25], [[71, 67, 84], 2], [[65, 71, 67], 5], [[84, 71, 67], 8], [[67, 67, 84], 11], [[71, 65, 84], 14], [[67, 84, 67], 17], [[84, 67, 84], 20], [[71, 65, 33], 23], [[0, 0, 0], 26]]\n"
     ]
    }
   ],
   "source": [
    "test_2='ATGCTAGCTGCCCTGATCTCTCTGA!'\n",
    "p12_test_2=[1, 4, 7, 10, 13, 16, 19, 22, 25, 2, 5, 8, 11, 14, 17, 20, 23, 26]\n",
    "r12_test_2=[[84, 71, 67], [84, 65, 71], [67, 84, 71], [67, 67, 67], [84, 71, 65], [84, 67, 84], [67, 84, 67], [84, 71, 65], [33, 0, 0], [71, 67, 84], [65, 71, 67], [84, 71, 67], [67, 67, 84], [71, 65, 84], [67, 84, 67], [84, 67, 84], [71, 65, 33], [0, 0, 0]]\n",
    "alphabet_test_2={0: 0, 33: 1, 65: 2, 67: 3, 71: 4, 84: 5}\n",
    "\n",
    "\n",
    "r12_p12_test_2=radix_with_p12(p12_test_2,asciiDC3(test_2))\n",
    "print(r12_p12_test_2)\n",
    "\n"
   ]
  },
  {
   "cell_type": "code",
   "execution_count": 117,
   "id": "1e1bea1a",
   "metadata": {},
   "outputs": [
    {
     "name": "stdout",
     "output_type": "stream",
     "text": [
      "[[[0, 0, 0], 26], [[33, 0, 0], 25], [[65, 71, 67], 5], [[67, 67, 67], 10], [[67, 67, 84], 11], [[67, 84, 67], 19], [[67, 84, 67], 17], [[67, 84, 71], 7], [[71, 65, 33], 23], [[71, 65, 84], 14], [[71, 67, 84], 2], [[84, 65, 71], 4], [[84, 67, 84], 16], [[84, 67, 84], 20], [[84, 71, 65], 13], [[84, 71, 65], 22], [[84, 71, 67], 1], [[84, 71, 67], 8]]\n"
     ]
    }
   ],
   "source": [
    "r12_p12_sorted=sort_with_p12(r12_p12_test_2, alphabet_test_2, 2)\n",
    "print(r12_p12_sorted)"
   ]
  },
  {
   "cell_type": "code",
   "execution_count": 118,
   "id": "c852ec63",
   "metadata": {},
   "outputs": [
    {
     "name": "stdout",
     "output_type": "stream",
     "text": [
      "[67, 84, 67]\n",
      "[67, 84, 67]\n",
      "True\n",
      "[1, 2, 3, 4, 5, 6, 6, 7, 8, 9, 10, 11, 12, 12, 13, 13, 14, 14]\n",
      "{26: 1, 25: 2, 5: 3, 10: 4, 11: 5, 19: 6, 17: 7, 7: 8, 23: 9, 14: 10, 2: 11, 4: 12, 16: 13, 20: 14, 13: 15, 22: 16, 1: 17, 8: 18}\n"
     ]
    }
   ],
   "source": [
    "print(r12_p12_sorted[5][0])\n",
    "print(r12_p12_sorted[6][0])\n",
    "print(triplets_are_equal(r12_p12_sorted[5][0],r12_p12_sorted[6][0]))\n",
    "ordre_test_2, repetition, indexdict_test_2=ordre_with_p12(r12_p12_sorted, True)\n",
    "print(ordre_test_2)\n",
    "print(indexdict_test_2)"
   ]
  },
  {
   "cell_type": "code",
   "execution_count": 127,
   "id": "c45e82ed",
   "metadata": {},
   "outputs": [
    {
     "name": "stdout",
     "output_type": "stream",
     "text": [
      "[0, 3, 6, 9, 12, 15, 18, 21, 24]\n",
      "[[[65, 17], 0], [[67, 12], 3], [[71, 8], 6], [[71, 4], 9], [[67, 15], 12], [[65, 13], 15], [[84, 6], 18], [[67, 16], 21], [[65, 2], 24]]\n",
      "{2: 0, 4: 1, 6: 2, 8: 3, 12: 4, 13: 5, 15: 6, 16: 7, 17: 8, 65: 9, 67: 10, 71: 11, 84: 12}\n",
      "[[[65, 2], 24], [[65, 13], 15], [[65, 17], 0], [[67, 12], 3], [[67, 15], 12], [[67, 16], 21], [[71, 4], 9], [[71, 8], 6], [[84, 6], 18]]\n"
     ]
    }
   ],
   "source": [
    "p0, R0_p0_test_2=position0_R0_p0(asciiDC3(test_2), indexdict_test_2)\n",
    "\n",
    "print(p0)\n",
    "print(R0_p0_test_2)\n",
    "\n",
    "alphabet_r0_test_2=alphabetR0_with_p12(R0_p0_test_2)\n",
    "print(alphabet_r0_test_2)\n",
    "    \n",
    "r0p0sorted=sort_with_p12(R0_p0_test_2,alphabet_r0_test_2 ,1)\n",
    "print(r0p0sorted)\n",
    "\n",
    "order0=ordre_with_p12(r0p0sorted)\n",
    "    "
   ]
  },
  {
   "cell_type": "markdown",
   "id": "6817fdf1",
   "metadata": {},
   "source": [
    "### test zone avec abcabcabc"
   ]
  },
  {
   "cell_type": "code",
   "execution_count": 186,
   "id": "56a19fcd",
   "metadata": {},
   "outputs": [
    {
     "name": "stdout",
     "output_type": "stream",
     "text": [
      "[97, 98, 99, 97, 98, 99, 97, 99, 97, 98, 0, 0, 0]\n"
     ]
    }
   ],
   "source": [
    "S=\"abcabcacab\"\n",
    "T=asciiDC3(S)\n",
    "columnnumber=2\n",
    "print(T)\n"
   ]
  },
  {
   "cell_type": "code",
   "execution_count": 187,
   "id": "c148b266",
   "metadata": {},
   "outputs": [
    {
     "name": "stdout",
     "output_type": "stream",
     "text": [
      "[1, 4, 7, 10, 2, 5, 8]\n",
      "[[[98, 99, 97], 1], [[98, 99, 97], 4], [[99, 97, 98], 7], [[0, 0, 0], 10], [[99, 97, 98], 2], [[99, 97, 99], 5], [[97, 98, 0], 8]]\n",
      "[[[0, 0, 0], 10], [[97, 98, 0], 8], [[98, 99, 97], 1], [[98, 99, 97], 4], [[99, 97, 98], 7], [[99, 97, 98], 2], [[99, 97, 99], 5]]\n",
      "[1, 2, 3, 3, 4, 4, 5]\n",
      "True\n",
      "{10: 1, 8: 2, 1: 3, 4: 3, 7: 4, 2: 4, 5: 5}\n",
      "[3, 3, 4, 1, 4, 5, 2]\n"
     ]
    },
    {
     "data": {
      "text/plain": [
       "[3, 3, 4, 1, 4, 5, 2, 0, 0, 0]"
      ]
     },
     "execution_count": 187,
     "metadata": {},
     "output_type": "execute_result"
    }
   ],
   "source": [
    "p12=position1_2(T)\n",
    "print(p12)\n",
    "R12=radix_with_p12(p12, T)\n",
    "print(R12)\n",
    "alph=alphabetT(T)\n",
    "alph\n",
    "Rs12= sort_with_p12(R12, alph, columnnumber)\n",
    "print(Rs12)\n",
    "\n",
    "use_index12=True\n",
    "order12, boolean, index12dict =ordre_with_p12(Rs12,use_index12)\n",
    "print(order12)\n",
    "print(boolean)\n",
    "print(index12dict)\n",
    "\n",
    "tprime=Tprime_with_p12(p12, index12dict)\n",
    "print(tprime)\n",
    "\n",
    "tprime=tprime+[0,0,0]\n",
    "tprime"
   ]
  },
  {
   "cell_type": "code",
   "execution_count": 188,
   "id": "dca6db52",
   "metadata": {},
   "outputs": [
    {
     "name": "stdout",
     "output_type": "stream",
     "text": [
      "[1, 4, 7, 2, 5]\n",
      "[[[3, 4, 1], 1], [[4, 5, 2], 4], [[0, 0, 0], 7], [[4, 1, 4], 2], [[5, 2, 0], 5]]\n",
      "{0: 0, 1: 1, 2: 2, 3: 3, 4: 4, 5: 5}\n",
      "[[[0, 0, 0], 7], [[3, 4, 1], 1], [[4, 1, 4], 2], [[4, 5, 2], 4], [[5, 2, 0], 5]]\n",
      "[1, 2, 3, 4, 5]\n",
      "False\n",
      "{7: 1, 1: 2, 2: 3, 4: 4, 5: 5}\n"
     ]
    }
   ],
   "source": [
    "p12prime=position1_2(tprime)\n",
    "print(p12prime)\n",
    "R12prime=radix_with_p12(p12prime, tprime)\n",
    "print(R12prime)\n",
    "alphprime=alphabetT(tprime)\n",
    "print(alphprime)\n",
    "Rs12prime= sort_with_p12(R12prime, alphprime, columnnumber)\n",
    "print(Rs12prime)\n",
    "\n",
    "order12prime, boolean, index12primedict =ordre_with_p12(Rs12prime, True)\n",
    "print(order12prime)\n",
    "print(boolean)\n",
    "print(index12primedict)"
   ]
  },
  {
   "cell_type": "code",
   "execution_count": 191,
   "id": "2d4df4de",
   "metadata": {},
   "outputs": [
    {
     "name": "stdout",
     "output_type": "stream",
     "text": [
      "[0, 3, 6]\n",
      "[[[3, 2], 0], [[1, 4], 3], [[2, 1], 6]]\n"
     ]
    }
   ],
   "source": [
    "p0prime, r0prime=position0_R0_p0(tprime, index12primedict)\n",
    "print(p0prime)\n",
    "print(r0prime)"
   ]
  },
  {
   "cell_type": "code",
   "execution_count": 152,
   "id": "c6f7f9a0",
   "metadata": {},
   "outputs": [
    {
     "name": "stdout",
     "output_type": "stream",
     "text": [
      "{1: 0, 2: 1, 3: 2, 4: 3}\n",
      "[[[1, 4], 3], [[2, 1], 6], [[3, 2], 0]]\n",
      "rentre dans le while\n",
      "a= 3, b= 7, on append le 7\n",
      "plus dans la boucle while\n",
      "A 0\n",
      "B 1\n",
      "rentre dans le while\n",
      "a= 3, b= 1, on append le 3\n",
      "plus dans la boucle while\n",
      "A 1\n",
      "B 1\n",
      "rentre dans le while\n",
      "a= 6, b= 1, on append le 6\n",
      "plus dans la boucle while\n",
      "A 2\n",
      "B 1\n",
      "rentre dans le while\n",
      "1 est congru à 1 modulo 3\n",
      "l'objet liste est pour l'instant constitué de: \n",
      "[7, 3, 6]\n",
      "on compare les positions de 1 et 2\n",
      "index12dict[1]= \n",
      "2\n",
      "index12dict[2]= \n",
      "3\n",
      "on append 0\n",
      "plus dans la boucle while\n",
      "A 3\n",
      "B 1\n",
      "on concatène les index12\n"
     ]
    },
    {
     "data": {
      "text/plain": [
       "[7, 3, 6, 0, 1, 2, 4, 5]"
      ]
     },
     "execution_count": 152,
     "metadata": {},
     "output_type": "execute_result"
    }
   ],
   "source": [
    "alph0prime=alphabetR0_with_p12(r0prime)\n",
    "print(alph0prime)\n",
    "r0sprime= sort_with_p12(r0prime, alph0prime, columnnumber-1)\n",
    "print(r0sprime)\n",
    "\n",
    "index120prime=merge_with_p12(tprime, r0sprime, Rs12prime, index12primedict)\n",
    "index120prime"
   ]
  },
  {
   "cell_type": "code",
   "execution_count": 7,
   "id": "ff2522e2",
   "metadata": {},
   "outputs": [],
   "source": [
    "def sort(array,index, alphabet, columnNumber):\n",
    "    #print(\"array\")\n",
    "    #print(array)\n",
    "    #print(\"alphabet\")\n",
    "    #print(alphabet)\n",
    "    if len(array) == 0:\n",
    "        return array\n",
    "\n",
    "  # Perform counting sort on each column, starting at the last\n",
    "\n",
    "    column = columnNumber\n",
    "    while column>=0: # nous on met \"tant que l'indice est supérieur à 3\"\n",
    "        array, index = countingSortByDigit(array,index, alphabet, column)\n",
    "        column-=1 #change de colonne dans ton tableau\n",
    "\n",
    "    return array, index\n",
    "\n",
    "def countingSortByDigit(array, index, alphabet, column):\n",
    "    \"\"\"\n",
    "    ici possibleNumbers= nombre de chiffres possibles. Nous n'avons que 4 nombres (0,97,98,99)\n",
    "    \"\"\"\n",
    "\n",
    "    countIndex = -1\n",
    "    count = [0] * len(alphabet)\n",
    "    output = [None] * len(array)\n",
    "    outputIndex= [0] * len(array)\n",
    "\n",
    "  # Count frequencies\n",
    "    for i in range(0, len(array)):\n",
    "        #print(\"i \"+str(i))\n",
    "        #print(\"array[i] \"+ str(array[i]))\n",
    "        #print(\"column \"+str(column))\n",
    "        \n",
    "        countIndex = alphabet[array[i][column]]\n",
    "        count[countIndex] += 1\n",
    "\n",
    "  # Compute cumulates\n",
    "    for i in range(1, len(alphabet)):\n",
    "        count[i] += count[i - 1]\n",
    "\n",
    "  # Move records\n",
    "    for i in range(len(array) - 1, -1, -1):\n",
    "        countIndex = alphabet[array[i][column]]\n",
    "        count[countIndex] -= 1\n",
    "        output[count[countIndex]] = array[i]\n",
    "        outputIndex[count[countIndex]]=index[i]\n",
    "       \n",
    "    return output, outputIndex"
   ]
  },
  {
   "cell_type": "code",
   "execution_count": 8,
   "id": "55b65873",
   "metadata": {},
   "outputs": [],
   "source": [
    "def ordre(R, index12, use_index_12=False):\n",
    "    # nous renovie la liste order du genre (1,2,2,3,4,4,5)  et un booléen indiquant s'il y a répétition\n",
    "    index=1\n",
    "    repetition=False\n",
    "    order=[1]\n",
    "    \n",
    "    if use_index_12:\n",
    "        indexdict={index12[0]:1}\n",
    "        \n",
    "    for i in range(1, len(R)): \n",
    "        if R[i-1]==R[i] : \n",
    "            order.append(index)\n",
    "            repetition=True\n",
    "        else : \n",
    "            index+=1\n",
    "            order.append(index)\n",
    "            \n",
    "        if use_index_12:\n",
    "            indexdict[index12[i]]=i+1\n",
    "    if use_index_12:\n",
    "        return order, repetition, indexdict\n",
    "    else: \n",
    "        return order, repetition\n",
    "            "
   ]
  },
  {
   "cell_type": "code",
   "execution_count": 9,
   "id": "1e0182be",
   "metadata": {},
   "outputs": [],
   "source": [
    "def Tprime(ordre, p12, indexdict):\n",
    "    t=[]\n",
    "    for p in p12:\n",
    "        t.append(ordre[indexdict[p]-1])\n",
    "    return t"
   ]
  },
  {
   "cell_type": "code",
   "execution_count": 10,
   "id": "3ff79b30",
   "metadata": {},
   "outputs": [],
   "source": [
    "def alphabetT(T):\n",
    "    ### à changer pcq c laid\n",
    "    dic={}\n",
    "    a=[]\n",
    "    for i in range(len(T)):\n",
    "        a.append(T[i])\n",
    "    a.sort() ## MDR CE SORT EST A CHANGER SERGIO VA NOUS TUER\n",
    "    \n",
    "    for element in a:\n",
    "        if not (element in dic):\n",
    "            dic[element]=len(dic)\n",
    "    return dic"
   ]
  },
  {
   "cell_type": "code",
   "execution_count": 11,
   "id": "4c0cc3b4",
   "metadata": {},
   "outputs": [],
   "source": [
    "def alphabetR0(R0):\n",
    "    ### à changer pcq c laid\n",
    "    dic={}\n",
    "    a=[]\n",
    "    for column in range(2):\n",
    "        for i in range(len(R0)):\n",
    "            a.append(R0[i][column])\n",
    "    a.sort() ## MDR CE SORT EST A CHANGER SERGIO VA NOUS TUER\n",
    "    \n",
    "    for element in a:\n",
    "        if not (element in dic):\n",
    "            dic[element]=len(dic)\n",
    "    return dic"
   ]
  },
  {
   "cell_type": "markdown",
   "id": "d2b7826f",
   "metadata": {},
   "source": [
    "## Testons nos fonctions sur un string simple"
   ]
  },
  {
   "cell_type": "code",
   "execution_count": 12,
   "id": "a0c3bfb7",
   "metadata": {},
   "outputs": [
    {
     "name": "stdout",
     "output_type": "stream",
     "text": [
      "[97, 98, 99, 97, 98, 99, 97, 99, 97, 98, 0, 0, 0]\n"
     ]
    }
   ],
   "source": [
    "S=\"abcabcacab\"\n",
    "T=asciiDC3(S)\n",
    "columnnumber=2\n",
    "print(T)\n"
   ]
  },
  {
   "cell_type": "code",
   "execution_count": 13,
   "id": "29307afc",
   "metadata": {},
   "outputs": [
    {
     "name": "stdout",
     "output_type": "stream",
     "text": [
      "[1, 4, 7, 10, 2, 5, 8]\n"
     ]
    }
   ],
   "source": [
    "p12=position1_2(T)\n",
    "print(p12)"
   ]
  },
  {
   "cell_type": "code",
   "execution_count": 14,
   "id": "92a6e443",
   "metadata": {},
   "outputs": [
    {
     "name": "stdout",
     "output_type": "stream",
     "text": [
      "[[98, 99, 97], [98, 99, 97], [99, 97, 98], [0, 0, 0], [99, 97, 98], [99, 97, 99], [97, 98, 0]]\n"
     ]
    }
   ],
   "source": [
    "R12=radix(p12, T)\n",
    "print(R12)"
   ]
  },
  {
   "cell_type": "code",
   "execution_count": 15,
   "id": "668ef633",
   "metadata": {},
   "outputs": [
    {
     "data": {
      "text/plain": [
       "{0: 0, 97: 1, 98: 2, 99: 3}"
      ]
     },
     "execution_count": 15,
     "metadata": {},
     "output_type": "execute_result"
    }
   ],
   "source": [
    "alph=alphabetT(T)\n",
    "alph"
   ]
  },
  {
   "cell_type": "code",
   "execution_count": 16,
   "id": "55af202e",
   "metadata": {},
   "outputs": [
    {
     "name": "stdout",
     "output_type": "stream",
     "text": [
      "[[0, 0, 0], [97, 98, 0], [98, 99, 97], [98, 99, 97], [99, 97, 98], [99, 97, 98], [99, 97, 99]]\n",
      "[10, 8, 1, 4, 7, 2, 5]\n"
     ]
    }
   ],
   "source": [
    "Rs12, index12= sort(R12,p12, alph, columnnumber)\n",
    "print(Rs12)\n",
    "print(index12)"
   ]
  },
  {
   "cell_type": "code",
   "execution_count": 17,
   "id": "a1730103",
   "metadata": {},
   "outputs": [
    {
     "name": "stdout",
     "output_type": "stream",
     "text": [
      "[1, 2, 3, 3, 4, 4, 5]\n",
      "True\n",
      "{10: 1, 8: 2, 1: 3, 4: 4, 7: 5, 2: 6, 5: 7}\n"
     ]
    }
   ],
   "source": [
    "use_index12=True\n",
    "order12, boolean, index12dict =ordre(Rs12, index12,use_index12)\n",
    "print(order12)\n",
    "print(boolean)\n",
    "print(index12dict)"
   ]
  },
  {
   "cell_type": "code",
   "execution_count": 18,
   "id": "1fe48a08",
   "metadata": {},
   "outputs": [
    {
     "data": {
      "text/plain": [
       "{0: 0, 97: 1, 98: 2, 99: 3}"
      ]
     },
     "execution_count": 18,
     "metadata": {},
     "output_type": "execute_result"
    }
   ],
   "source": [
    "alph =alphabetT(T)\n",
    "alph"
   ]
  },
  {
   "cell_type": "code",
   "execution_count": 19,
   "id": "c8262ba3",
   "metadata": {},
   "outputs": [
    {
     "name": "stdout",
     "output_type": "stream",
     "text": [
      "[3, 3, 4, 1, 4, 5, 2]\n"
     ]
    }
   ],
   "source": [
    "tprime=Tprime(order12, p12, index12dict)\n",
    "print(tprime)"
   ]
  },
  {
   "cell_type": "code",
   "execution_count": 20,
   "id": "f4f7320e",
   "metadata": {},
   "outputs": [
    {
     "data": {
      "text/plain": [
       "[3, 3, 4, 1, 4, 5, 2, 0, 0, 0]"
      ]
     },
     "execution_count": 20,
     "metadata": {},
     "output_type": "execute_result"
    }
   ],
   "source": [
    "tprime=tprime+[0,0,0]\n",
    "tprime"
   ]
  },
  {
   "cell_type": "markdown",
   "id": "a669874f",
   "metadata": {},
   "source": [
    "### On répète les opérations jusqu'à avoir aucun charactère répété dans T⁽n⁾"
   ]
  },
  {
   "cell_type": "code",
   "execution_count": 21,
   "id": "40531a5c",
   "metadata": {},
   "outputs": [
    {
     "name": "stdout",
     "output_type": "stream",
     "text": [
      "[1, 4, 7, 2, 5]\n",
      "[[3, 4, 1], [4, 5, 2], [0, 0, 0], [4, 1, 4], [5, 2, 0]]\n",
      "{0: 0, 1: 1, 2: 2, 3: 3, 4: 4, 5: 5}\n",
      "[[0, 0, 0], [3, 4, 1], [4, 1, 4], [4, 5, 2], [5, 2, 0]]\n",
      "[7, 1, 2, 4, 5]\n",
      "[1, 2, 3, 4, 5]\n",
      "False\n",
      "{7: 1, 1: 2, 2: 3, 4: 4, 5: 5}\n"
     ]
    }
   ],
   "source": [
    "p12prime=position1_2(tprime)\n",
    "print(p12prime)\n",
    "R12prime=radix(p12prime, tprime)\n",
    "print(R12prime)\n",
    "alphprime=alphabetT(tprime)\n",
    "print(alphprime)\n",
    "Rs12prime, index12prime= sort(R12prime,p12prime, alphprime, columnnumber)\n",
    "print(Rs12prime)\n",
    "print(index12prime)\n",
    "order12prime, boolean, index12primedict =ordre(Rs12prime, index12prime, True)\n",
    "print(order12prime)\n",
    "print(boolean)\n",
    "print(index12primedict)"
   ]
  },
  {
   "cell_type": "markdown",
   "id": "c1ab13fc",
   "metadata": {},
   "source": [
    "# STEP 2 "
   ]
  },
  {
   "cell_type": "code",
   "execution_count": 22,
   "id": "a0cf8c51",
   "metadata": {},
   "outputs": [],
   "source": [
    "import copy"
   ]
  },
  {
   "cell_type": "code",
   "execution_count": 23,
   "id": "cfd8c139",
   "metadata": {},
   "outputs": [],
   "source": [
    "def position0_R0(T, index12dict):\n",
    "    #attention T se finit avec trois 0\n",
    "    position=[]\n",
    "    R=[]\n",
    "    for i in range(len(T)-3): #on ne prend pas en compte les trois 0 sentinelle\n",
    "        if i%3==0:\n",
    "            position.append(i)\n",
    "            if i+1<len(T)-3:\n",
    "                R.append([T[i],index12dict[i+1]])\n",
    "            else:\n",
    "                R.append([T[i],1]) # car les sentinelles sont forcément les 1ères dans l'ordre alphabétique\n",
    "    return position, R"
   ]
  },
  {
   "cell_type": "markdown",
   "id": "59467f64",
   "metadata": {},
   "source": [
    "# Testons notre fonction avec le string T"
   ]
  },
  {
   "cell_type": "code",
   "execution_count": 24,
   "id": "5a00ae34",
   "metadata": {},
   "outputs": [
    {
     "name": "stdout",
     "output_type": "stream",
     "text": [
      "[7, 1, 2, 4, 5]\n",
      "{7: 1, 1: 2, 2: 3, 4: 4, 5: 5}\n",
      "[3, 3, 4, 1, 4, 5, 2, 0, 0, 0]\n"
     ]
    }
   ],
   "source": [
    "print(index12prime)\n",
    "print(index12primedict)\n",
    "print(tprime)"
   ]
  },
  {
   "cell_type": "code",
   "execution_count": 25,
   "id": "cb54ba24",
   "metadata": {},
   "outputs": [
    {
     "name": "stdout",
     "output_type": "stream",
     "text": [
      "[0, 3, 6]\n",
      "[[3, 2], [1, 4], [2, 1]]\n"
     ]
    }
   ],
   "source": [
    "p0prime, r0prime=position0_R0(tprime, index12primedict)\n",
    "print(p0prime)\n",
    "print(r0prime)"
   ]
  },
  {
   "cell_type": "markdown",
   "id": "8f9976b0",
   "metadata": {},
   "source": [
    "# STEP 3"
   ]
  },
  {
   "cell_type": "code",
   "execution_count": 26,
   "id": "590120c0",
   "metadata": {},
   "outputs": [],
   "source": [
    "def merge(Tfinal, index_0, index12, index12dict) : \n",
    "    liste=[]\n",
    "    A=0\n",
    "    B=0\n",
    "    while A<len(index_0) and B<len(index12):\n",
    "        #print(\"rentre dans le while\")\n",
    "        a=index_0[A]\n",
    "        b=index12[B]\n",
    "        if Tfinal[a]!=Tfinal[b] :\n",
    "            minimum=min(Tfinal[a], Tfinal[b])\n",
    "            \n",
    "            if minimum == Tfinal[a]:\n",
    "                #print(\"a= \"+str(a)+\", b= \"+str(b)+\", on append le \"+str(a))\n",
    "                A+=1\n",
    "                liste.append(a)\n",
    "            else: \n",
    "                #print(\"a= \"+str(a)+\", b= \"+str(b)+\", on append le \"+str(b))\n",
    "                B+=1\n",
    "                liste.append(b)\n",
    "\n",
    "        else :\n",
    "            if b%3==1 : \n",
    "                #print(str(b)+\" est congru à 1 modulo 3\")\n",
    "                longueur=len(liste)\n",
    "                i=0\n",
    "                if index12dict[a+1]<index12dict[b+1]:\n",
    "                    liste.append(a)\n",
    "                    A+=1\n",
    "                else:\n",
    "                    liste.append(b)\n",
    "                    B+=1\n",
    "                    \n",
    "                    \n",
    "            elif b%3==2 :\n",
    "                #print(str(b)+\"est congru à 2 modulo 3\")\n",
    "                if Tfinal[a+1]!=Tfinal[b+1] :\n",
    "                    minimum=min(Tfinal[a], Tfinal[b])\n",
    "                    if minimum == Tfinal[a]:\n",
    "                        A+=1\n",
    "                        liste.append(a)\n",
    "                    else: \n",
    "                        B+=1\n",
    "                        liste.append(b)\n",
    "\n",
    "                else:\n",
    "                    if index12dict[a+2]<index12dict[b+2]:\n",
    "                        liste.append(a)\n",
    "                        A+=1\n",
    "                    else:\n",
    "                        liste.append(b)\n",
    "                        B+=1\n",
    "                        \n",
    "\n",
    "        #print(\"A \"+str(A))\n",
    "        #print(\"B \"+str(B))\n",
    "        if A==len(index_0):\n",
    "            liste+=index12[B:]\n",
    "                \n",
    "        if B==len(index12):\n",
    "            liste+=index_0[A:]\n",
    "\n",
    "    return liste"
   ]
  },
  {
   "cell_type": "code",
   "execution_count": 27,
   "id": "524072a3",
   "metadata": {},
   "outputs": [],
   "source": [
    "def removesentinel(index):\n",
    "    return index[1:]"
   ]
  },
  {
   "cell_type": "code",
   "execution_count": 28,
   "id": "2ece5a17",
   "metadata": {},
   "outputs": [],
   "source": [
    "def resumeHigherOrder(index012prime, P12):\n",
    "    output=[]\n",
    "    for element in index012prime:\n",
    "        output.append(P12[element])\n",
    "        \n",
    "    return output"
   ]
  },
  {
   "cell_type": "markdown",
   "id": "2f5e3a27",
   "metadata": {},
   "source": [
    "### Testons notre fonction avec le string T"
   ]
  },
  {
   "cell_type": "code",
   "execution_count": 29,
   "id": "752a73c6",
   "metadata": {},
   "outputs": [
    {
     "name": "stdout",
     "output_type": "stream",
     "text": [
      "{1: 0, 2: 1, 3: 2, 4: 3}\n"
     ]
    }
   ],
   "source": [
    "alph0prime=alphabetR0(r0prime)\n",
    "print(alph0prime)"
   ]
  },
  {
   "cell_type": "code",
   "execution_count": 30,
   "id": "90da47af",
   "metadata": {},
   "outputs": [
    {
     "name": "stdout",
     "output_type": "stream",
     "text": [
      "[[1, 4], [2, 1], [3, 2]]\n",
      "[3, 6, 0]\n"
     ]
    }
   ],
   "source": [
    "r0sprime, index0prime= sort(r0prime,p0prime, alph0prime, columnnumber-1)\n",
    "print(r0sprime)\n",
    "print(index0prime)"
   ]
  },
  {
   "cell_type": "code",
   "execution_count": 31,
   "id": "89faa792",
   "metadata": {},
   "outputs": [
    {
     "name": "stdout",
     "output_type": "stream",
     "text": [
      "[3, 3, 4, 1, 4, 5, 2, 0, 0, 0]\n",
      "[3, 6, 0]\n",
      "[7, 1, 2, 4, 5]\n"
     ]
    }
   ],
   "source": [
    "print(tprime)\n",
    "print(index0prime)\n",
    "print(index12prime)"
   ]
  },
  {
   "cell_type": "code",
   "execution_count": 32,
   "id": "7403bd52",
   "metadata": {},
   "outputs": [
    {
     "data": {
      "text/plain": [
       "[7, 3, 6, 0, 1, 2, 4, 5]"
      ]
     },
     "execution_count": 32,
     "metadata": {},
     "output_type": "execute_result"
    }
   ],
   "source": [
    "index120prime=merge(tprime, index0prime, index12prime, index12primedict)\n",
    "index120prime"
   ]
  },
  {
   "cell_type": "markdown",
   "id": "337a7274",
   "metadata": {},
   "source": [
    "# Assemblage final"
   ]
  },
  {
   "cell_type": "code",
   "execution_count": 156,
   "id": "be736539",
   "metadata": {},
   "outputs": [],
   "source": [
    "def almost_dc3_with_p12(T):\n",
    "    # T est une liste de int\n",
    "\n",
    "    \n",
    "    columnNumber=2\n",
    "    p12=position1_2(T)\n",
    "    \n",
    "\n",
    "    r12=radix_with_p12(p12,T)\n",
    "\n",
    "\n",
    "    alphabet_T=alphabetT(T)\n",
    "    \n",
    "    \n",
    "    r12sorted=sort_with_p12(r12, alphabet_T, columnNumber)\n",
    "    \n",
    "    use_index_12=True\n",
    "    order12,repetition, index12dict=ordre_with_p12(r12sorted, use_index_12)\n",
    "\n",
    "    \n",
    "\n",
    "    if repetition:\n",
    "\n",
    "        \n",
    "        Tprim=Tprime_with_p12(p12, index12dict)+[0,0,0]\n",
    "\n",
    "        index012=almost_dc3_with_p12(Tprim)\n",
    "\n",
    "\n",
    "        index12=resumeHigherOrder(index012, p12)\n",
    "\n",
    "\n",
    "    p0,r0p0=position0_R0_p0(T, index12dict)\n",
    "\n",
    "    alphabet_r0=alphabetR0_with_p12(r0p0)\n",
    "\n",
    "    \n",
    "    r0p0sorted=sort_with_p12(r0p0,alphabet_r0 ,columnNumber-1)\n",
    "\n",
    "\n",
    "    #order0=ordre(r0sorted, index12)\n",
    "    \n",
    "\n",
    "    index012=removesentinel(merge_with_p12(T, r0p0sorted, r12sorted, index12dict))\n",
    "\n",
    "\n",
    "    return index012\n",
    "   \n",
    "    \n",
    "    "
   ]
  },
  {
   "cell_type": "code",
   "execution_count": 180,
   "id": "7740ad6f",
   "metadata": {},
   "outputs": [],
   "source": [
    "def almost_dc3_with_p12_debugg(T):\n",
    "    # T est une liste de int\n",
    "\n",
    "    \n",
    "    columnNumber=2\n",
    "    p12=position1_2(T)\n",
    "    \n",
    "    print(\"p12\")\n",
    "    print(p12)\n",
    "    print(\"taille de p12 avant récursion\")\n",
    "    print(len(p12))\n",
    "    print(\"\\n\")\n",
    "    \n",
    "    r12=radix_with_p12(p12,T)\n",
    "    print(\"r12\")\n",
    "    print(r12)\n",
    "    print(\"\\n\")\n",
    "\n",
    "    alphabet_T=alphabetT(T)\n",
    "    print(\"alphabet de T\")\n",
    "    print(alphabet_T)\n",
    "    \n",
    "    r12sorted=sort_with_p12(r12, alphabet_T, columnNumber)\n",
    "    print(\"r12sorted\")\n",
    "    print(r12sorted)\n",
    "    print(\"\\n\")\n",
    "    \n",
    "    order12,repetition, index12dict=ordre_with_p12(r12sorted, True)\n",
    "    print(\"order12\")\n",
    "    print(order12)\n",
    "    print(\"index12dict\")\n",
    "    print(index12dict)\n",
    "    print(\"entre-t-on dans la boucle de répétition?\")\n",
    "    print(repetition)\n",
    "    print(\"\\n\")\n",
    "    \n",
    "\n",
    "    if repetition:\n",
    "\n",
    "        \n",
    "        Tprim=Tprime_with_p12(p12, index12dict)+[0,0,0]\n",
    "        print(\"tprime\")\n",
    "        print(Tprim)\n",
    "        print(\"taille de tprime\")\n",
    "        print(len(Tprim))\n",
    "        print(\"\\n\")\n",
    "        \n",
    "        index012=almost_dc3_with_p12_debugg(Tprim)\n",
    "        print(\"index012\")\n",
    "        print(index012)\n",
    "        print(\"taille de index012\")\n",
    "        print(len(index012))\n",
    "        print(\"\\n\")\n",
    "\n",
    "        index12=resumeHigherOrder(index012, p12)\n",
    "        print(\"resume higher order index12\")\n",
    "        print(index12)\n",
    "        print(\"taille de index12 après retour à taille initiale\")\n",
    "        print(len(index12))\n",
    "        print(\"\\n\")\n",
    "\n",
    "    p0,r0p0=position0_R0_p0(T, index12dict)\n",
    "    print(\"r0p0\")\n",
    "    print(r0p0)\n",
    "    print(\"taille de r0p0\")\n",
    "    print(len(r0p0))\n",
    "    print(\"\\n\")\n",
    "\n",
    "    alphabet_r0=alphabetR0_with_p12(r0p0)\n",
    "    print(\"alphabet_r0\")\n",
    "    print(alphabet_r0)\n",
    "    print(\"\\n\")\n",
    "    \n",
    "    r0sorted=sort_with_p12(r0p0,alphabet_r0 ,columnNumber-1)\n",
    "    print(\"r0sorted\")\n",
    "    print(r0sorted)\n",
    "    print(\"taille de r0sorted\")\n",
    "    print(len(r0sorted))\n",
    "    print(\"\\n\")\n",
    "\n",
    "    #order0=ordre(r0sorted, index12)\n",
    "    \n",
    "    temp=merge_with_p12(T, r0sorted, r12sorted, index12dict)\n",
    "    print(\"taille de temp\")\n",
    "    print(len(temp))\n",
    "    \n",
    "    index012=removesentinel(merge_with_p12(T, r0sorted, r12sorted, index12dict))\n",
    "    print(\"taille après la fonction removesentinel\")\n",
    "    print(len(index012))\n",
    "    print(\"index012\")\n",
    "    print(index012)\n",
    "    print(\"\\n\")\n",
    "\n",
    "    return index012\n",
    "   \n",
    "    \n",
    "    "
   ]
  },
  {
   "cell_type": "code",
   "execution_count": 129,
   "id": "2a0fc778",
   "metadata": {},
   "outputs": [],
   "source": [
    "def almost_dc3(T):\n",
    "    # T est une liste de int\n",
    "\n",
    "    \n",
    "    columnNumber=2\n",
    "    p12=position1_2(T)\n",
    "    \n",
    "\n",
    "    r12=radix(p12,T)\n",
    "\n",
    "\n",
    "    alphabet_T=alphabetT(T)\n",
    "    \n",
    "    \n",
    "    r12sorted, index12=sort(r12, p12, alphabet_T, columnNumber)\n",
    "    \n",
    "    use_index_12=True\n",
    "    order12,repetition, index12dict=ordre(r12sorted, index12, use_index_12)\n",
    "\n",
    "    \n",
    "\n",
    "    if repetition:\n",
    "\n",
    "        \n",
    "        Tprim=Tprime(order12, p12, index12dict)+[0,0,0]\n",
    "\n",
    "        index012=almost_dc3(Tprim)\n",
    "\n",
    "\n",
    "        index12=resumeHigherOrder(index012, p12)\n",
    "\n",
    "\n",
    "    p0,r0=position0_R0(T, index12dict)\n",
    "\n",
    "    alphabet_r0=alphabetR0(r0)\n",
    "\n",
    "    \n",
    "    r0sorted, index0=sort(r0,p0,alphabet_r0 ,columnNumber-1)\n",
    "\n",
    "\n",
    "    #order0=ordre(r0sorted, index12)\n",
    "    \n",
    "\n",
    "    index012=removesentinel(merge(T, index0, index12, index12dict))\n",
    "\n",
    "\n",
    "    return index012\n",
    "   \n",
    "    \n",
    "    "
   ]
  },
  {
   "cell_type": "code",
   "execution_count": 128,
   "id": "3f84fb7e",
   "metadata": {},
   "outputs": [],
   "source": [
    "def almost_dc3_debugg(T):\n",
    "    # T est une liste de int\n",
    "\n",
    "    \n",
    "    columnNumber=2\n",
    "    p12=position1_2(T)\n",
    "    \n",
    "    print(\"p12\")\n",
    "    print(p12)\n",
    "    print(\"taille de p12 avant récursion\")\n",
    "    print(len(p12))\n",
    "    print(\"\\n\")\n",
    "    \n",
    "    r12=radix(p12,T)\n",
    "    print(\"r12\")\n",
    "    print(r12)\n",
    "    print(\"\\n\")\n",
    "\n",
    "    alphabet_T=alphabetT(T)\n",
    "    print(\"alphabet de T\")\n",
    "    print(alphabet_T)\n",
    "    \n",
    "    r12sorted, index12=sort(r12, p12, alphabet_T, columnNumber)\n",
    "    print(\"r12sorted\")\n",
    "    print(r12sorted)\n",
    "    print(\"index12\")\n",
    "    print(index12)\n",
    "    print(\"taille de index12 avant récursion\")\n",
    "    print(len(index12))\n",
    "    print(\"\\n\")\n",
    "    \n",
    "    order12,repetition, index12dict=ordre(r12sorted,index12, True)\n",
    "    print(\"order12\")\n",
    "    print(order12)\n",
    "    print(\"index12dict\")\n",
    "    print(index12dict)\n",
    "    print(\"entre-t-on dans la boucle de répétition?\")\n",
    "    print(repetition)\n",
    "    print(\"\\n\")\n",
    "    \n",
    "\n",
    "    if repetition:\n",
    "\n",
    "        \n",
    "        Tprim=Tprime(order12, p12, index12dict)+[0,0,0]\n",
    "        print(\"tprime\")\n",
    "        print(Tprim)\n",
    "        print(\"taille de tprime\")\n",
    "        print(len(Tprim))\n",
    "        print(\"\\n\")\n",
    "        \n",
    "        index012=almost_dc3(Tprim)\n",
    "        print(\"index012\")\n",
    "        print(index012)\n",
    "        print(\"taille de index012\")\n",
    "        print(len(index012))\n",
    "        print(\"\\n\")\n",
    "\n",
    "        index12=resumeHigherOrder(index012, p12)\n",
    "        print(\"resume higher order index12\")\n",
    "        print(index12)\n",
    "        print(\"taille de index12 après retour à taille initiale\")\n",
    "        print(len(index12))\n",
    "        print(\"\\n\")\n",
    "\n",
    "    p0,r0=position0_R0(T, index12dict)\n",
    "    print(\"p0\")\n",
    "    print(p0)\n",
    "    print(\"taille de p0\")\n",
    "    print(len(p0))\n",
    "    print(\"\\n\")\n",
    "    \n",
    "    print(\"r0\")\n",
    "    print(r0)\n",
    "    print(\"\\n\")\n",
    "    alphabet_r0=alphabetR0(r0)\n",
    "\n",
    "    \n",
    "    r0sorted, index0=sort(r0,p0,alphabet_r0 ,columnNumber-1)\n",
    "    print(\"index0\")\n",
    "    print(index0)\n",
    "    print(\"taille de index0\")\n",
    "    print(len(index0))\n",
    "    print(\"\\n\")\n",
    "\n",
    "    #order0=ordre(r0sorted, index12)\n",
    "    \n",
    "    temp=merge(T, index0, index12, index12dict)\n",
    "    print(\"taille de temp\")\n",
    "    print(len(temp))\n",
    "    \n",
    "    index012=removesentinel(merge(T, index0, index12,index12dict))\n",
    "    print(\"taille après la fonction removesentinel\")\n",
    "    print(len(index012))\n",
    "    print(\"index012\")\n",
    "    print(index012)\n",
    "    print(\"\\n\")\n",
    "\n",
    "    return index012\n",
    "   \n",
    "    \n",
    "    "
   ]
  },
  {
   "cell_type": "markdown",
   "id": "d8c6bbd0",
   "metadata": {},
   "source": [
    "### Testons notre fonction avec le string T"
   ]
  },
  {
   "cell_type": "code",
   "execution_count": 154,
   "id": "581d921b",
   "metadata": {},
   "outputs": [
    {
     "data": {
      "text/plain": [
       "[8, 0, 3, 6, 9, 1, 4, 7, 2, 5]"
      ]
     },
     "execution_count": 154,
     "metadata": {},
     "output_type": "execute_result"
    }
   ],
   "source": [
    "almost_dc3(T)"
   ]
  },
  {
   "cell_type": "code",
   "execution_count": 181,
   "id": "953336b0",
   "metadata": {},
   "outputs": [
    {
     "data": {
      "text/plain": [
       "[8, 0, 3, 6, 9, 1, 4, 7, 2, 5]"
      ]
     },
     "execution_count": 181,
     "metadata": {},
     "output_type": "execute_result"
    }
   ],
   "source": [
    "almost_dc3_with_p12(T)"
   ]
  },
  {
   "cell_type": "markdown",
   "id": "4eaf1a2c",
   "metadata": {},
   "source": [
    "## Test avec biopython \n"
   ]
  },
  {
   "cell_type": "code",
   "execution_count": 36,
   "id": "63868023",
   "metadata": {},
   "outputs": [
    {
     "name": "stdout",
     "output_type": "stream",
     "text": [
      "Defaulting to user installation because normal site-packages is not writeable\n",
      "Requirement already satisfied: biopython in /home/azarkua/.local/lib/python3.10/site-packages (1.81)\n",
      "Requirement already satisfied: numpy in /home/azarkua/.local/lib/python3.10/site-packages (from biopython) (1.26.1)\n",
      "\n",
      "\u001b[1m[\u001b[0m\u001b[34;49mnotice\u001b[0m\u001b[1;39;49m]\u001b[0m\u001b[39;49m A new release of pip is available: \u001b[0m\u001b[31;49m23.2.1\u001b[0m\u001b[39;49m -> \u001b[0m\u001b[32;49m23.3.1\u001b[0m\n",
      "\u001b[1m[\u001b[0m\u001b[34;49mnotice\u001b[0m\u001b[1;39;49m]\u001b[0m\u001b[39;49m To update, run: \u001b[0m\u001b[32;49mpython3 -m pip install --upgrade pip\u001b[0m\n",
      "Note: you may need to restart the kernel to use updated packages.\n"
     ]
    }
   ],
   "source": [
    "pip install biopython"
   ]
  },
  {
   "cell_type": "code",
   "execution_count": 37,
   "id": "82f449fb",
   "metadata": {},
   "outputs": [
    {
     "name": "stdout",
     "output_type": "stream",
     "text": [
      "[SeqRecord(seq=Seq('tgaaccctaaaccctaaaccctaaaccctaaacccctaaaccctaaaccctgaa...gtt'), id='NC_037283.1', name='NC_037283.1', description='NC_037283.1 Plasmodium falciparum 3D7 genome assembly, chromosome: 14', dbxrefs=[]), SeqRecord(seq=Seq('ATGATAAAATTTTTAAAACCTAAAATAAAAATATTAAAAAAATTAAATATACCT...ATT'), id='NC_036769.1', name='NC_036769.1', description='NC_036769.1 Plasmodium falciparum strain 3D7, apicoplast', dbxrefs=[])]\n"
     ]
    }
   ],
   "source": [
    "from Bio import SeqIO\n",
    "genome=[]\n",
    "nucleotide_genome=0\n",
    "for seq_record in SeqIO.parse(\"/home/azarkua/Documents/2023-2024/omiques2/developement/omique2/genome.fna\", \"fasta\"):\n",
    "    genome.append(seq_record)\n",
    "    nucleotide_genome+=len(seq_record.seq)\n",
    "print(genome[13:])"
   ]
  },
  {
   "cell_type": "code",
   "execution_count": 38,
   "id": "6bb2b6a0",
   "metadata": {},
   "outputs": [
    {
     "name": "stdout",
     "output_type": "stream",
     "text": [
      "[SeqRecord(seq=Seq('TTTCCTTTTTAAGCGTTTTATTTTTTAATAAAAAAAATATAGTATTATATAGTA...TAA'), id='NC_004325.2-100000', name='NC_004325.2-100000', description='NC_004325.2-100000', dbxrefs=[])]\n"
     ]
    }
   ],
   "source": [
    "reads=[]\n",
    "nucleotide_reads=0\n",
    "for seq_record in SeqIO.parse(\"/home/azarkua/Documents/2023-2024/omiques2/developement/omique2/reads.fq\", \"fastq\"):\n",
    "    reads.append(seq_record)\n",
    "    nucleotide_reads+=len(seq_record.seq)\n",
    "    #if len(seq_record.seq)!= 100:\n",
    "    #    print(\"False\")\n",
    "print(reads[:1])"
   ]
  },
  {
   "cell_type": "code",
   "execution_count": 39,
   "id": "b8ec5679",
   "metadata": {},
   "outputs": [
    {
     "name": "stdout",
     "output_type": "stream",
     "text": [
      "236775\n"
     ]
    },
    {
     "data": {
      "text/plain": [
       "Seq('CCCTGAACCC')"
      ]
     },
     "execution_count": 39,
     "metadata": {},
     "output_type": "execute_result"
    }
   ],
   "source": [
    "temp=genome[1].seq.upper()\n",
    "print(len(temp)//4)\n",
    "temp[50:60]"
   ]
  },
  {
   "cell_type": "markdown",
   "id": "d589cce0",
   "metadata": {},
   "source": [
    "Pour l'instant, notre code met environ 2min d'attente pour faire la suffix table de 25 000 nucléotides."
   ]
  },
  {
   "cell_type": "code",
   "execution_count": 40,
   "id": "097a7edc",
   "metadata": {},
   "outputs": [],
   "source": [
    "T=asciiDC3(temp)\n",
    "#print(T)"
   ]
  },
  {
   "cell_type": "code",
   "execution_count": 41,
   "id": "e2b39d26",
   "metadata": {},
   "outputs": [
    {
     "name": "stdout",
     "output_type": "stream",
     "text": [
      "[947101, 129, 939, 5790, 5997, 6315, 6540, 6642, 6666, 6669, 6714, 6774, 6927, 6960, 7116, 7203, 7404, 7617, 7650, 7695, 7758, 7893, 8019, 8046, 8382, 8547, 8823, 8835, 8913, 8946, 8991, 9105, 9234, 19266, 22410, 22440, 22605, 22863, 23121, 23124, 23151, 23154, 23157, 23160, 23163, 23166, 23169, 23172, 23193, 23202, 23220, 23223, 23229, 23232, 23235, 23238, 23241, 23244, 23247, 23250, 23268, 23271, 23274, 23295, 23298, 23322, 23325, 23328, 23352, 23370, 23373, 23391, 23394, 23457, 23964, 23994, 24231, 24405, 24408, 24420, 24606, 24609, 24612, 24777, 24786, 24789, 24852, 24927, 25314, 25332, 25368, 25542, 25548, 25806, 25839, 25842, 25845, 25851, 25854, 25872]\n"
     ]
    }
   ],
   "source": [
    "suffix_array=almost_dc3(T)\n",
    "print(suffix_array[:100])\n",
    "#print(timemeasuring)"
   ]
  },
  {
   "cell_type": "markdown",
   "id": "bb10b263",
   "metadata": {},
   "source": [
    "## Mesurer le temps que prend notre fonction"
   ]
  },
  {
   "cell_type": "code",
   "execution_count": 42,
   "id": "a9e9e985",
   "metadata": {},
   "outputs": [],
   "source": [
    "import pstats\n",
    "import cProfile"
   ]
  },
  {
   "cell_type": "code",
   "execution_count": 43,
   "id": "a111f300",
   "metadata": {},
   "outputs": [
    {
     "name": "stdout",
     "output_type": "stream",
     "text": [
      "Wed Nov  1 22:54:25 2023    dc3_stats\n",
      "\n",
      "         32003816 function calls (32003811 primitive calls) in 22.600 seconds\n",
      "\n",
      "   Ordered by: cumulative time\n",
      "\n",
      "   ncalls  tottime  percall  cumtime  percall filename:lineno(function)\n",
      "        1    0.000    0.000   22.600   22.600 {built-in method builtins.exec}\n",
      "        1    0.223    0.223   22.600   22.600 <string>:1(<module>)\n",
      "      6/1    0.703    0.117   22.377   22.377 /tmp/ipykernel_25457/1646075479.py:1(almost_dc3)\n",
      "       12    0.184    0.015    7.331    0.611 /tmp/ipykernel_25457/1511205218.py:1(sort)\n",
      "       30    7.147    0.238    7.147    0.238 /tmp/ipykernel_25457/1511205218.py:18(countingSortByDigit)\n",
      "        6    3.122    0.520    4.049    0.675 /tmp/ipykernel_25457/3410804580.py:1(merge)\n",
      "        6    3.447    0.574    3.530    0.588 /tmp/ipykernel_25457/17099699.py:1(radix)\n",
      "       12    1.495    0.125    1.619    0.135 /tmp/ipykernel_25457/1085424926.py:1(ordre)\n",
      "        6    0.990    0.165    1.122    0.187 /tmp/ipykernel_25457/937691433.py:1(position0_R0)\n",
      "        6    0.602    0.100    1.061    0.177 /tmp/ipykernel_25457/150808864.py:1(alphabetT)\n",
      "        6    0.577    0.096    0.985    0.164 /tmp/ipykernel_25457/105602121.py:1(alphabetR0)\n",
      " 17748321    0.858    0.000    0.858    0.000 {method 'append' of 'list' objects}\n",
      "        5    0.612    0.122    0.687    0.137 /tmp/ipykernel_25457/3874466238.py:1(Tprime)\n",
      "        5    0.597    0.119    0.674    0.135 /tmp/ipykernel_25457/471862931.py:1(resumeHigherOrder)\n",
      " 12284529    0.673    0.000    0.673    0.000 {built-in method builtins.len}\n",
      "        6    0.496    0.083    0.576    0.096 /tmp/ipykernel_25457/3648738200.py:1(position1_2)\n",
      "       12    0.555    0.046    0.555    0.046 {method 'sort' of 'list' objects}\n",
      "  1970839    0.279    0.000    0.279    0.000 {built-in method builtins.min}\n",
      "        6    0.039    0.007    0.039    0.007 /tmp/ipykernel_25457/3946746901.py:1(removesentinel)\n",
      "        1    0.000    0.000    0.000    0.000 {method 'disable' of '_lsprof.Profiler' objects}\n",
      "\n",
      "\n"
     ]
    },
    {
     "data": {
      "text/plain": [
       "<pstats.Stats at 0x7f8f46a05180>"
      ]
     },
     "execution_count": 43,
     "metadata": {},
     "output_type": "execute_result"
    }
   ],
   "source": [
    "cProfile.run(\"almost_dc3(T)\", \"dc3_stats\")\n",
    "p = pstats.Stats(\"dc3_stats\")\n",
    "p.sort_stats(\"cumulative\").print_stats()"
   ]
  },
  {
   "cell_type": "markdown",
   "id": "24a18c05",
   "metadata": {},
   "source": [
    "### Idées d'optimisation  \n",
    "-réussir à ne plus faire appel aux fonctions \"alphabet\"  "
   ]
  },
  {
   "cell_type": "markdown",
   "id": "fbc43e49",
   "metadata": {},
   "source": [
    "### BWT à l'aide de notre suffix table"
   ]
  },
  {
   "cell_type": "code",
   "execution_count": 44,
   "id": "ee199ee7",
   "metadata": {},
   "outputs": [],
   "source": [
    "def BWT_suffix_table(T,end_of_string=\"$\"):\n",
    "    \"\"\"\n",
    "    Compute the BWT from the suffix table\n",
    "    \n",
    "    Args:\n",
    "        T (str): string\n",
    "        end_of_string (char): end of string character to append\n",
    "    \n",
    "    Return:\n",
    "        bwt (str): BWT\n",
    "    \"\"\"\n",
    "    T += end_of_string\n",
    "    suffix_array=almost_dc3(asciiDC3(T)) \n",
    "    bwt = \"\"\n",
    "    for i in suffix_array:\n",
    "        bwt += T[i-1]\n",
    "    return(bwt)"
   ]
  },
  {
   "cell_type": "code",
   "execution_count": 45,
   "id": "2ecff22e",
   "metadata": {},
   "outputs": [],
   "source": [
    "def run_length_encoding(S):\n",
    "    \"\"\"\n",
    "    Encode sequence using the Run Length method\n",
    "    \n",
    "    Args:\n",
    "        text (str): string to be shifted\n",
    "    \n",
    "    Return:\n",
    "        str: run length\n",
    "    \"\"\"\n",
    "    encoded_S= \"\"\n",
    "    i=0\n",
    "    number=1\n",
    "    while i<len(S):\n",
    "        encoded_S+=S[i]\n",
    "        i+=1\n",
    "        while i<len(S) and S[i-1]==S[i]:\n",
    "            number+=1\n",
    "            i+=1\n",
    "        if number>1:\n",
    "            encoded_S+=str(number)\n",
    "        number=1\n",
    "    return encoded_S"
   ]
  },
  {
   "cell_type": "markdown",
   "id": "99481c90",
   "metadata": {},
   "source": [
    "#### Testons notre fonction"
   ]
  },
  {
   "cell_type": "code",
   "execution_count": 46,
   "id": "398a93d2",
   "metadata": {},
   "outputs": [
    {
     "name": "stdout",
     "output_type": "stream",
     "text": [
      "[4, 0, 6, 2, 8, 5, 1, 10, 7, 3, 9]\n",
      "GT$CCGAATAAA\n"
     ]
    }
   ],
   "source": [
    "test = \"ACATACAGATG\"\n",
    "suffix_array=almost_dc3(asciiDC3(test)) \n",
    "print(suffix_array)\n",
    "print(BWT_suffix_table(test))"
   ]
  },
  {
   "cell_type": "code",
   "execution_count": 182,
   "id": "50ee964b",
   "metadata": {
    "scrolled": true
   },
   "outputs": [
    {
     "name": "stdout",
     "output_type": "stream",
     "text": [
      "p12\n",
      "[1, 4, 7, 10, 13, 16, 19, 22, 25, 2, 5, 8, 11, 14, 17, 20, 23, 26]\n",
      "taille de p12 avant récursion\n",
      "18\n",
      "\n",
      "\n",
      "r12\n",
      "[[[84, 71, 67], 1], [[84, 65, 71], 4], [[67, 84, 71], 7], [[67, 67, 67], 10], [[84, 71, 65], 13], [[84, 67, 84], 16], [[67, 84, 67], 19], [[84, 71, 65], 22], [[33, 0, 0], 25], [[71, 67, 84], 2], [[65, 71, 67], 5], [[84, 71, 67], 8], [[67, 67, 84], 11], [[71, 65, 84], 14], [[67, 84, 67], 17], [[84, 67, 84], 20], [[71, 65, 33], 23], [[0, 0, 0], 26]]\n",
      "\n",
      "\n",
      "alphabet de T\n",
      "{0: 0, 33: 1, 65: 2, 67: 3, 71: 4, 84: 5}\n",
      "r12sorted\n",
      "[[[0, 0, 0], 26], [[33, 0, 0], 25], [[65, 71, 67], 5], [[67, 67, 67], 10], [[67, 67, 84], 11], [[67, 84, 67], 19], [[67, 84, 67], 17], [[67, 84, 71], 7], [[71, 65, 33], 23], [[71, 65, 84], 14], [[71, 67, 84], 2], [[84, 65, 71], 4], [[84, 67, 84], 16], [[84, 67, 84], 20], [[84, 71, 65], 13], [[84, 71, 65], 22], [[84, 71, 67], 1], [[84, 71, 67], 8]]\n",
      "\n",
      "\n",
      "order12\n",
      "[1, 2, 3, 4, 5, 6, 6, 7, 8, 9, 10, 11, 12, 12, 13, 13, 14, 14]\n",
      "index12dict\n",
      "{26: 1, 25: 2, 5: 3, 10: 4, 11: 5, 19: 6, 17: 6, 7: 7, 23: 8, 14: 9, 2: 10, 4: 11, 16: 12, 20: 12, 13: 13, 22: 13, 1: 14, 8: 14}\n",
      "entre-t-on dans la boucle de répétition?\n",
      "True\n",
      "\n",
      "\n",
      "tprime\n",
      "[14, 11, 7, 4, 13, 12, 6, 13, 2, 10, 3, 14, 5, 9, 6, 12, 8, 1, 0, 0, 0]\n",
      "taille de tprime\n",
      "21\n",
      "\n",
      "\n",
      "p12\n",
      "[1, 4, 7, 10, 13, 16, 18, 2, 5, 8, 11, 14, 17]\n",
      "taille de p12 avant récursion\n",
      "13\n",
      "\n",
      "\n",
      "r12\n",
      "[[[11, 7, 4], 1], [[13, 12, 6], 4], [[13, 2, 10], 7], [[3, 14, 5], 10], [[9, 6, 12], 13], [[8, 1, 0], 16], [[0, 0, 0], 18], [[7, 4, 13], 2], [[12, 6, 13], 5], [[2, 10, 3], 8], [[14, 5, 9], 11], [[6, 12, 8], 14], [[1, 0, 0], 17]]\n",
      "\n",
      "\n",
      "alphabet de T\n",
      "{0: 0, 1: 1, 2: 2, 3: 3, 4: 4, 5: 5, 6: 6, 7: 7, 8: 8, 9: 9, 10: 10, 11: 11, 12: 12, 13: 13, 14: 14}\n",
      "r12sorted\n",
      "[[[0, 0, 0], 18], [[1, 0, 0], 17], [[2, 10, 3], 8], [[3, 14, 5], 10], [[6, 12, 8], 14], [[7, 4, 13], 2], [[8, 1, 0], 16], [[9, 6, 12], 13], [[11, 7, 4], 1], [[12, 6, 13], 5], [[13, 2, 10], 7], [[13, 12, 6], 4], [[14, 5, 9], 11]]\n",
      "\n",
      "\n",
      "order12\n",
      "[1, 2, 3, 4, 5, 6, 7, 8, 9, 10, 11, 12, 13]\n",
      "index12dict\n",
      "{18: 1, 17: 2, 8: 3, 10: 4, 14: 5, 2: 6, 16: 7, 13: 8, 1: 9, 5: 10, 7: 11, 4: 12, 11: 13}\n",
      "entre-t-on dans la boucle de répétition?\n",
      "False\n",
      "\n",
      "\n",
      "r0p0\n",
      "[[[14, 9], 0], [[4, 12], 3], [[6, 11], 6], [[10, 4], 9], [[5, 8], 12], [[12, 7], 15]]\n",
      "taille de r0p0\n",
      "6\n",
      "\n",
      "\n",
      "alphabet_r0\n",
      "{4: 0, 5: 1, 6: 2, 7: 3, 8: 4, 9: 5, 10: 6, 11: 7, 12: 8, 14: 9}\n",
      "\n",
      "\n",
      "r0sorted\n",
      "[[[4, 12], 3], [[5, 8], 12], [[6, 11], 6], [[10, 4], 9], [[12, 7], 15], [[14, 9], 0]]\n",
      "taille de r0sorted\n",
      "6\n",
      "\n",
      "\n",
      "taille de temp\n",
      "19\n",
      "taille après la fonction removesentinel\n",
      "18\n",
      "index012\n",
      "[17, 8, 10, 3, 12, 6, 14, 2, 16, 13, 9, 1, 15, 5, 7, 4, 0, 11]\n",
      "\n",
      "\n",
      "index012\n",
      "[17, 8, 10, 3, 12, 6, 14, 2, 16, 13, 9, 1, 15, 5, 7, 4, 0, 11]\n",
      "taille de index012\n",
      "18\n",
      "\n",
      "\n",
      "resume higher order index12\n",
      "[26, 25, 5, 10, 11, 19, 17, 7, 23, 14, 2, 4, 20, 16, 22, 13, 1, 8]\n",
      "taille de index12 après retour à taille initiale\n",
      "18\n",
      "\n",
      "\n",
      "r0p0\n",
      "[[[65, 14], 0], [[67, 11], 3], [[71, 7], 6], [[71, 4], 9], [[67, 13], 12], [[65, 12], 15], [[84, 6], 18], [[67, 13], 21], [[65, 2], 24]]\n",
      "taille de r0p0\n",
      "9\n",
      "\n",
      "\n",
      "alphabet_r0\n",
      "{2: 0, 4: 1, 6: 2, 7: 3, 11: 4, 12: 5, 13: 6, 14: 7, 65: 8, 67: 9, 71: 10, 84: 11}\n",
      "\n",
      "\n",
      "r0sorted\n",
      "[[[65, 2], 24], [[65, 12], 15], [[65, 14], 0], [[67, 11], 3], [[67, 13], 12], [[67, 13], 21], [[71, 4], 9], [[71, 7], 6], [[84, 6], 18]]\n",
      "taille de r0sorted\n",
      "9\n",
      "\n",
      "\n",
      "taille de temp\n",
      "27\n",
      "taille après la fonction removesentinel\n",
      "26\n",
      "index012\n",
      "[25, 24, 15, 0, 5, 10, 3, 12, 21, 11, 19, 17, 7, 9, 6, 23, 14, 2, 4, 16, 18, 20, 13, 22, 1, 8]\n",
      "\n",
      "\n",
      "[25, 24, 15, 0, 5, 10, 3, 12, 21, 11, 19, 17, 7, 9, 6, 23, 14, 2, 4, 18, 20, 16, 22, 13, 1, 8]\n",
      "[25, 24, 15, 0, 5, 10, 3, 12, 21, 11, 19, 17, 7, 9, 6, 23, 14, 2, 4, 16, 18, 20, 13, 22, 1, 8]\n"
     ]
    }
   ],
   "source": [
    "test_2='ATGCTAGCTGCCCTGATCTCTCTGA!'\n",
    "suffix_array_2_with_p12=almost_dc3_with_p12_debugg(asciiDC3(test_2)) \n",
    "suffix_array_2=almost_dc3(asciiDC3(test_2)) \n",
    "print(suffix_array_2)\n",
    "print(suffix_array_2_with_p12)\n"
   ]
  },
  {
   "cell_type": "code",
   "execution_count": 183,
   "id": "ce9a205c",
   "metadata": {},
   "outputs": [
    {
     "name": "stdout",
     "output_type": "stream",
     "text": [
      "! True\n",
      "A! True\n",
      "ATCTCTCTGA! True\n",
      "ATGCTAGCTGCCCTGATCTCTCTGA! True\n",
      "AGCTGCCCTGATCTCTCTGA! True\n",
      "CCCTGATCTCTCTGA! True\n",
      "CTAGCTGCCCTGATCTCTCTGA! True\n",
      "CTGATCTCTCTGA! True\n",
      "CTGA! True\n",
      "CCTGATCTCTCTGA! True\n",
      "CTCTGA! True\n",
      "CTCTCTGA! True\n",
      "CTGCCCTGATCTCTCTGA! True\n",
      "GCCCTGATCTCTCTGA! True\n",
      "GCTGCCCTGATCTCTCTGA! True\n",
      "GA! True\n",
      "GATCTCTCTGA! True\n",
      "GCTAGCTGCCCTGATCTCTCTGA! True\n",
      "TAGCTGCCCTGATCTCTCTGA! True\n",
      "TCTCTCTGA! False\n",
      "TCTCTGA! False\n",
      "TCTGA! False\n",
      "TGATCTCTCTGA! False\n",
      "TGA! False\n",
      "TGCTAGCTGCCCTGATCTCTCTGA! True\n",
      "TGCCCTGATCTCTCTGA! True\n"
     ]
    }
   ],
   "source": [
    "for i in range(len(suffix_array_2_with_p12)):\n",
    "    print(test_2[suffix_array_2_with_p12[i]:],test_2[suffix_array_2[i]:]==test_2[suffix_array_2_with_p12[i]:])\n",
    "  "
   ]
  },
  {
   "cell_type": "code",
   "execution_count": 68,
   "id": "5041b980",
   "metadata": {},
   "outputs": [
    {
     "name": "stdout",
     "output_type": "stream",
     "text": [
      "False\n",
      "26\n",
      "29\n"
     ]
    }
   ],
   "source": [
    "test_2='ATGCTAGCTGCCCTGATCTCTCTGA!'\n",
    "print(len(asciiDC3(test_2))%3==0)\n",
    "print(len(test_2))\n",
    "print(len(asciiDC3(test_2)))"
   ]
  },
  {
   "cell_type": "code",
   "execution_count": 73,
   "id": "9f9ec04f",
   "metadata": {},
   "outputs": [
    {
     "name": "stdout",
     "output_type": "stream",
     "text": [
      "71\n"
     ]
    }
   ],
   "source": [
    "print(ord(\"G\"))"
   ]
  },
  {
   "cell_type": "code",
   "execution_count": 75,
   "id": "327c01f0",
   "metadata": {},
   "outputs": [
    {
     "name": "stdout",
     "output_type": "stream",
     "text": [
      "p12\n",
      "[1, 4, 7, 10, 13, 16, 19, 22, 25, 2, 5, 8, 11, 14, 17, 20, 23, 26]\n",
      "taille de p12 avant récursion\n",
      "18\n",
      "\n",
      "\n",
      "r12\n",
      "[[84, 71, 67], [84, 65, 71], [67, 84, 71], [67, 67, 67], [84, 71, 65], [84, 67, 84], [67, 84, 67], [84, 71, 65], [33, 0, 0], [71, 67, 84], [65, 71, 67], [84, 71, 67], [67, 67, 84], [71, 65, 84], [67, 84, 67], [84, 67, 84], [71, 65, 33], [0, 0, 0]]\n",
      "\n",
      "\n",
      "alphabet de T\n",
      "{0: 0, 33: 1, 65: 2, 67: 3, 71: 4, 84: 5}\n",
      "r12sorted\n",
      "[[0, 0, 0], [33, 0, 0], [65, 71, 67], [67, 67, 67], [67, 67, 84], [67, 84, 67], [67, 84, 67], [67, 84, 71], [71, 65, 33], [71, 65, 84], [71, 67, 84], [84, 65, 71], [84, 67, 84], [84, 67, 84], [84, 71, 65], [84, 71, 65], [84, 71, 67], [84, 71, 67]]\n",
      "index12\n",
      "[26, 25, 5, 10, 11, 19, 17, 7, 23, 14, 2, 4, 16, 20, 13, 22, 1, 8]\n",
      "taille de index12 avant récursion\n",
      "18\n",
      "\n",
      "\n",
      "order12\n",
      "[1, 2, 3, 4, 5, 6, 6, 7, 8, 9, 10, 11, 12, 12, 13, 13, 14, 14]\n",
      "index12dict\n",
      "{26: 1, 25: 2, 5: 3, 10: 4, 11: 5, 19: 6, 17: 7, 7: 8, 23: 9, 14: 10, 2: 11, 4: 12, 16: 13, 20: 14, 13: 15, 22: 16, 1: 17, 8: 18}\n",
      "entre-t-on dans la boucle de répétition?\n",
      "True\n",
      "\n",
      "\n",
      "tprime\n",
      "[14, 11, 7, 4, 13, 12, 6, 13, 2, 10, 3, 14, 5, 9, 6, 12, 8, 1, 0, 0, 0]\n",
      "taille de tprime\n",
      "21\n",
      "\n",
      "\n",
      "index012\n",
      "[17, 8, 10, 3, 12, 6, 14, 2, 16, 13, 9, 1, 15, 5, 7, 4, 0, 11]\n",
      "taille de index012\n",
      "18\n",
      "\n",
      "\n",
      "resume higher order index12\n",
      "[26, 25, 5, 10, 11, 19, 17, 7, 23, 14, 2, 4, 20, 16, 22, 13, 1, 8]\n",
      "taille de index12 après retour à taille initiale\n",
      "18\n",
      "\n",
      "\n",
      "p0\n",
      "[0, 3, 6, 9, 12, 15, 18, 21, 24]\n",
      "taille de p0\n",
      "9\n",
      "\n",
      "\n",
      "r0\n",
      "[[65, 17], [67, 12], [71, 8], [71, 4], [67, 15], [65, 13], [84, 6], [67, 16], [65, 2]]\n",
      "\n",
      "\n",
      "index0\n",
      "[24, 15, 0, 3, 12, 21, 9, 6, 18]\n",
      "taille de index0\n",
      "9\n",
      "\n",
      "\n",
      "taille de temp\n",
      "27\n",
      "taille après la fonction removesentinel\n",
      "26\n",
      "index012\n",
      "[25, 24, 15, 0, 5, 10, 3, 12, 21, 11, 19, 17, 7, 9, 6, 23, 14, 2, 4, 18, 20, 16, 22, 13, 1, 8]\n",
      "\n",
      "\n"
     ]
    },
    {
     "data": {
      "text/plain": [
       "[25,\n",
       " 24,\n",
       " 15,\n",
       " 0,\n",
       " 5,\n",
       " 10,\n",
       " 3,\n",
       " 12,\n",
       " 21,\n",
       " 11,\n",
       " 19,\n",
       " 17,\n",
       " 7,\n",
       " 9,\n",
       " 6,\n",
       " 23,\n",
       " 14,\n",
       " 2,\n",
       " 4,\n",
       " 18,\n",
       " 20,\n",
       " 16,\n",
       " 22,\n",
       " 13,\n",
       " 1,\n",
       " 8]"
      ]
     },
     "execution_count": 75,
     "metadata": {},
     "output_type": "execute_result"
    }
   ],
   "source": [
    "test_2='ATGCTAGCTGCCCTGATCTCTCTGA!'\n",
    "almost_dc3_debugg(asciiDC3(test_2))"
   ]
  },
  {
   "cell_type": "code",
   "execution_count": null,
   "id": "04eb18f8",
   "metadata": {},
   "outputs": [],
   "source": [
    "print(BWT_suffix_table(test_2))"
   ]
  },
  {
   "cell_type": "code",
   "execution_count": null,
   "id": "2d180ff4",
   "metadata": {},
   "outputs": [],
   "source": [
    "print(run_length_encoding(BWT_suffix_table(test)))"
   ]
  },
  {
   "cell_type": "markdown",
   "id": "d951740a",
   "metadata": {},
   "source": [
    "BWT sur notre génome"
   ]
  },
  {
   "cell_type": "code",
   "execution_count": null,
   "id": "e856d22b",
   "metadata": {},
   "outputs": [],
   "source": [
    "bwt_T=BWT_suffix_table(genome[1].seq.upper(),end_of_string=\"$\")\n",
    "print(run_length_encoding(bwt_T)[:100])"
   ]
  },
  {
   "cell_type": "markdown",
   "id": "6bb32ed0",
   "metadata": {},
   "source": [
    "Mesurons le temps que l'opération prend"
   ]
  },
  {
   "cell_type": "code",
   "execution_count": null,
   "id": "a352f194",
   "metadata": {},
   "outputs": [],
   "source": [
    "cProfile.run(\"run_length_encoding(BWT_suffix_table(genome[1].seq.upper(),end_of_string='$'))\", \"bwt_stats\")\n",
    "p = pstats.Stats(\"bwt_stats\")\n",
    "p.sort_stats(\"cumulative\").print_stats()"
   ]
  },
  {
   "cell_type": "markdown",
   "id": "f7e607d3",
   "metadata": {},
   "source": [
    "## String search with BWT"
   ]
  },
  {
   "cell_type": "markdown",
   "id": "e0cd292c",
   "metadata": {},
   "source": [
    "version du prof"
   ]
  },
  {
   "cell_type": "code",
   "execution_count": null,
   "id": "f232b782",
   "metadata": {},
   "outputs": [],
   "source": [
    "from collections import Counter"
   ]
  },
  {
   "cell_type": "code",
   "execution_count": null,
   "id": "ef34da91",
   "metadata": {},
   "outputs": [],
   "source": [
    "def last2first(counts,k,X):\n",
    "    return k + sum([counts[char] for char in counts if char < X])\n",
    "    \n",
    "def get_first_occurrence(L,X):\n",
    "    for i,l in enumerate(L):\n",
    "        if l == X:\n",
    "            return(i)\n",
    "        \n",
    "def occurrence_indexer(S):\n",
    "    K = []\n",
    "    last_index = {}\n",
    "    for s in S:\n",
    "        if s not in last_index: \n",
    "            last_index[s] = 0\n",
    "        K.append(last_index[s])\n",
    "        last_index[s] += 1\n",
    "    return(K)\n",
    "    \n",
    "    \n",
    "def pattern_matching_BWT(S,pattern):\n",
    "    \"\"\"\n",
    "    Search a patter in a String using the BWT\n",
    "    \n",
    "    Args:\n",
    "        S (str): string\n",
    "        pattern (str): pattern\n",
    "    \n",
    "    Return:\n",
    "        bool: true if the pattern is in the string    \n",
    "    \"\"\"\n",
    "    L = BWT_suffix_table(S)\n",
    "    K = occurrence_indexer(L)\n",
    "    counts = Counter(L)\n",
    "    e = 0\n",
    "    f = len(L)\n",
    "    i = len(pattern) - 1\n",
    "    while e < f and i >= 0:\n",
    "        X = pattern[i]\n",
    "        first_occurence_in_L_ef = get_first_occurrence(L[e:f],X)\n",
    "        if first_occurence_in_L_ef is None:\n",
    "            return False\n",
    "        else:\n",
    "            r = first_occurence_in_L_ef+e\n",
    "\n",
    "        last_occurence_in_L_ef = get_first_occurrence(L[e:f][::-1],X)\n",
    "        if last_occurence_in_L_ef is None:\n",
    "            return False\n",
    "        else:\n",
    "            s = f-last_occurence_in_L_ef-1\n",
    "\n",
    "\n",
    "        \n",
    "        \n",
    "        e = last2first(counts,K[r],X)\n",
    "        f = last2first(counts,K[s],X)+1\n",
    "        i -= 1\n",
    "\n",
    "    \n",
    "    return(i<0)\n"
   ]
  },
  {
   "cell_type": "code",
   "execution_count": null,
   "id": "3ec918a9",
   "metadata": {},
   "outputs": [],
   "source": [
    "def last2first(counts,k,X):\n",
    "    return k + sum([counts[char] for char in counts if char < X])\n",
    "    \n",
    "def get_first_occurrence(L,X):\n",
    "    for i,l in enumerate(L):\n",
    "        if l == X:\n",
    "            return(i)\n",
    "        \n",
    "def occurrence_indexer(S):\n",
    "    K = []\n",
    "    last_index = {}\n",
    "    for s in S:\n",
    "        if s not in last_index: \n",
    "            last_index[s] = 0\n",
    "        K.append(last_index[s])\n",
    "        last_index[s] += 1\n",
    "    return(K)\n",
    "    \n",
    "    \n",
    "def pattern_matching_BWT_debugg(S,pattern):\n",
    "    \"\"\"\n",
    "    Search a patter in a String using the BWT\n",
    "    \n",
    "    Args:\n",
    "        S (str): string\n",
    "        pattern (str): pattern\n",
    "    \n",
    "    Return:\n",
    "        bool: true if the pattern is in the string    \n",
    "    \"\"\"\n",
    "    L = BWT_suffix_table(S)\n",
    "    K = occurrence_indexer(L)\n",
    "    counts = Counter(L)\n",
    "    e = 0\n",
    "    f = len(L)\n",
    "    i = len(pattern) - 1\n",
    "    while e < f and i >= 0:\n",
    "        X = pattern[i]\n",
    "        first_occurence_in_L_ef = get_first_occurrence(L[e:f],X)\n",
    "        if first_occurence_in_L_ef is None:\n",
    "            return False\n",
    "        else:\n",
    "            r = first_occurence_in_L_ef+e\n",
    "        print(\"first_occurence_in_L_ef\")\n",
    "        print(first_occurence_in_L_ef)\n",
    "        print(\"L[e:f]\")\n",
    "        print(L[e:f])\n",
    "        print(\"r\")\n",
    "        print(r)\n",
    "        print(\"X\")\n",
    "        print(X)\n",
    "        print(\"L[r]\")\n",
    "        print(L[r])\n",
    "        \n",
    "        last_occurence_in_L_ef = get_first_occurrence(L[e:f][::-1],X)\n",
    "        if last_occurence_in_L_ef is None:\n",
    "            return False\n",
    "        else:\n",
    "            s = f-last_occurence_in_L_ef-1\n",
    "        print(\"last_occurence_in_L_ef\")\n",
    "        print(last_occurence_in_L_ef)\n",
    "        print(\"L[e:f]\")\n",
    "        print(L[e:f])\n",
    "        print(\"s\")\n",
    "        print(s)\n",
    "        print(\"X\")\n",
    "        print(X)\n",
    "        print(\"L[s]\")\n",
    "        print(L[s])\n",
    "        \n",
    "        \n",
    "        \n",
    "        e = last2first(counts,K[r],X)\n",
    "        f = last2first(counts,K[s],X)+1\n",
    "        i -= 1\n",
    "        \n",
    "        print(\"r\")\n",
    "        print(r)\n",
    "        print(\"s\")\n",
    "        print(s)\n",
    "        print(\"e\")\n",
    "        print(e)\n",
    "        print(\"f\")\n",
    "        print(f)\n",
    "    \n",
    "    return(i<0)\n"
   ]
  },
  {
   "cell_type": "markdown",
   "id": "1180945c",
   "metadata": {},
   "source": [
    "ma version"
   ]
  },
  {
   "cell_type": "code",
   "execution_count": null,
   "id": "a3232b1b",
   "metadata": {},
   "outputs": [],
   "source": [
    "def localisation_count(bwt):\n",
    "    \"\"\" renvoie un tableau T tel que T[i] renvoie combien de fois bwt[i] est apparu dans bwt[:i]\n",
    "    \"\"\"\n",
    "    localisation=[0 for i in range(len(bwt))]\n",
    "    count=[0 for i in range(5)]\n",
    "    for i in range(len(bwt)):\n",
    "        if bwt[i]=='$':\n",
    "            count[0]+=1\n",
    "            localisation[i]=count[0]\n",
    "            \n",
    "        elif bwt[i]=='A':\n",
    "            count[1]+=1\n",
    "            localisation[i]=count[1]\n",
    "            \n",
    "        elif bwt[i]=='C':\n",
    "            count[2]+=1\n",
    "            localisation[i]=count[2]\n",
    "            \n",
    "        elif bwt[i]=='G':\n",
    "            count[3]+=1\n",
    "            localisation[i]=count[3]\n",
    "            \n",
    "        elif bwt[i]=='T':\n",
    "            count[4]+=1\n",
    "            localisation[i]=count[4]\n",
    "            \n",
    "    return localisation, count\n",
    "\n",
    "def left_corresponding_letter(letter, alphabet, bwt, count, localisation, bwt_index):\n",
    "        occurence=localisation[bwt_index]\n",
    "        #find the position i in the first column\n",
    "        position=sum(count[:alphabet[letter]])+occurence\n",
    "        #find the letter on position i in the last column\n",
    "        letter=bwt[position-1]\n",
    "        return letter, position-1\n",
    "    \n",
    "def pattern_matching_BWT_moi(S,pattern):\n",
    "    \"\"\"\n",
    "    Search a patter in a String using the BWT\n",
    "    \n",
    "    Args:\n",
    "        S (str): string\n",
    "        pattern (str): pattern\n",
    "    \n",
    "    Return:\n",
    "        bool: true if the pattern is in the string    \n",
    "    \"\"\"\n",
    "    pattern_in_S = False\n",
    "    bwt=BWT_suffix_table(S)\n",
    "    print(\"bwt\")\n",
    "    print(bwt)\n",
    "    localisation, count= localisation_count(bwt)\n",
    "    \n",
    "    i=len(pattern)-1 #position de la dernière lettre du pattern\n",
    "    alphabet={'$':0, 'A':1,'C':2,'G':3, 'T':4}\n",
    "    la=[]\n",
    "    lb=[]\n",
    "    \n",
    "    \n",
    "    letter=pattern[i]\n",
    "    # initialisation des \"lettres intéressantes\"\n",
    "    for j in range(len(bwt)):\n",
    "        if bwt[j]==letter:\n",
    "            la.append(j)\n",
    "            #print(\"la initialisation\")\n",
    "            #print(la)\n",
    "    while i!=0:\n",
    "        letter=pattern[i]\n",
    "        #print(\"on est à la lettre \"+str(i)+ \" du pattern, qui est \"+ str(letter))\n",
    "        i-=1\n",
    "        k=0\n",
    "        #print(\"les positions des lettres interessantes sont: \")\n",
    "        #print(la)\n",
    "        # on cherche les élèments qui correspondent à la lettre suivante de notre pattern\n",
    "        for k in range(len(la)):\n",
    "            index=la[k]\n",
    "            right_letter=letter\n",
    "            letter, position=left_corresponding_letter(right_letter, alphabet, bwt, count, localisation, index)\n",
    "            \n",
    "            if letter==pattern[i]:\n",
    "                lb.append(position)\n",
    "                #print(\"la lettre suivante (qui est \"+ str(letter)+\") est à la position \"+ str(position))\n",
    "    \n",
    "            if not lb:\n",
    "                #print(\"aucune lettre du texte ne correspond à la lettre suivante\")\n",
    "                return pattern_in_S\n",
    "        la=lb\n",
    "        lb=[]\n",
    "                \n",
    "        #on vérifie que la liste n'est pas vide\n",
    "        \n",
    "    \n",
    "    pattern_in_S=True\n",
    "    \n",
    "    return pattern_in_S, la"
   ]
  },
  {
   "cell_type": "markdown",
   "id": "0ca1529c",
   "metadata": {},
   "source": [
    "#### Testons notre fonction"
   ]
  },
  {
   "cell_type": "code",
   "execution_count": null,
   "id": "efbbfe6e",
   "metadata": {},
   "outputs": [],
   "source": [
    "test"
   ]
  },
  {
   "cell_type": "code",
   "execution_count": null,
   "id": "f5b8f0ea",
   "metadata": {},
   "outputs": [],
   "source": [
    "pattern_matching_BWT(test,'CATAC')"
   ]
  },
  {
   "cell_type": "code",
   "execution_count": null,
   "id": "4a12383e",
   "metadata": {},
   "outputs": [],
   "source": [
    "localisation_count(BWT_suffix_table(test))"
   ]
  },
  {
   "cell_type": "code",
   "execution_count": null,
   "id": "569a50f1",
   "metadata": {},
   "outputs": [],
   "source": [
    "Counter(BWT_suffix_table(test))"
   ]
  },
  {
   "cell_type": "code",
   "execution_count": null,
   "id": "88f20d8f",
   "metadata": {},
   "outputs": [],
   "source": [
    "pattern_matching_BWT_moi(test,'CATAC')"
   ]
  },
  {
   "cell_type": "code",
   "execution_count": null,
   "id": "c87aeff0",
   "metadata": {},
   "outputs": [],
   "source": [
    "pattern_matching_BWT(test,'CATAC')"
   ]
  },
  {
   "cell_type": "code",
   "execution_count": null,
   "id": "872d1a0c",
   "metadata": {},
   "outputs": [],
   "source": [
    "pattern=genome[1].seq.upper()[:10]\n",
    "pattern"
   ]
  },
  {
   "cell_type": "code",
   "execution_count": null,
   "id": "d5f1e782",
   "metadata": {},
   "outputs": [],
   "source": [
    "genome[1].seq.upper()"
   ]
  },
  {
   "cell_type": "code",
   "execution_count": null,
   "id": "014733e7",
   "metadata": {},
   "outputs": [],
   "source": [
    "pattern_matching_BWT('ATGCTAGCTGCCCTGATCTCTCTGA','GCTAGC')"
   ]
  },
  {
   "cell_type": "code",
   "execution_count": null,
   "id": "48c22a3e",
   "metadata": {},
   "outputs": [],
   "source": [
    "cProfile.run(\"pattern_matching_BWT(genome[1].seq.upper(),pattern)\", \"pattern_matching_stats\")\n",
    "p = pstats.Stats(\"pattern_matching_stats\")\n",
    "p.sort_stats(\"cumulative\").print_stats()"
   ]
  },
  {
   "cell_type": "code",
   "execution_count": null,
   "id": "6f974fac",
   "metadata": {},
   "outputs": [],
   "source": [
    "pattern_matching_BWT_moi(test,'CATAC')"
   ]
  },
  {
   "cell_type": "markdown",
   "id": "966c1775",
   "metadata": {},
   "source": [
    "### Première tentative de mesure du temps que prend dc3 (qui ne marche pas)"
   ]
  },
  {
   "cell_type": "markdown",
   "id": "7318d198",
   "metadata": {},
   "source": [
    "Mais j'y ai investi trop de temps pour le supprimer"
   ]
  },
  {
   "cell_type": "markdown",
   "id": "c5333689",
   "metadata": {},
   "source": [
    "i assume that when a function ends, an other function begins"
   ]
  },
  {
   "cell_type": "code",
   "execution_count": null,
   "id": "320c7e15",
   "metadata": {},
   "outputs": [],
   "source": [
    "      #time variables\n",
    "t0=[] #starting times of every recursion of almost_dc3\n",
    "timep12=[] \n",
    "timer12=[]\n",
    "timealphabet=[]\n",
    "timesort=[]\n",
    "timeorder=[]\n",
    "trep=[]\n",
    "timeTprime=[]\n",
    "tBeforeHigherOrder=[]\n",
    "timeresumeHigherOrder=[]\n",
    "tBeforeP0=[]\n",
    "timeposition0_R0=[]\n",
    "timealphabetR0=[]\n",
    "    \n",
    "timelist=[t0,timep12,timer12,timealphabet,timesort,timeorder,trep,timeTprime,tBeforeHigherOrder,timeresumeHigherOrder,tBeforeP0,timeposition0_R0,timealphabetR0]\n"
   ]
  },
  {
   "cell_type": "code",
   "execution_count": null,
   "id": "c77931cb",
   "metadata": {},
   "outputs": [],
   "source": [
    "def almost_dc3_time_measuring(T):\n",
    "    \n",
    "    t0.append(time.time())\n",
    "    # T est une liste de int\n",
    "    columnNumber=2\n",
    "    p12=position1_2(T)\n",
    "    \n",
    "    print(\"p12\")\n",
    "    print(p12)\n",
    "    print(\"taille de p12 avant récursion\")\n",
    "    print(len(p12))\n",
    "    \n",
    "    timep12.append(time.time()-t0[-1])\n",
    "    \n",
    "    r12=radix(p12,T)\n",
    "    timer12.append(time.time()-timep12[-1])\n",
    "    \n",
    "    alphabet_T=alphabetT(T)\n",
    "    timealphabet.append(time.time()-timer12[-1])\n",
    "    \n",
    "    r12sorted, index12=sort(r12, p12, alphabet_T, columnNumber)\n",
    "    timesort.append(time.time()-timealphabet[-1])\n",
    "    \n",
    "    order12,repetition=ordre(r12sorted)\n",
    "    timeorder.append(time.time()-timesort[-1])\n",
    "    \n",
    "    if repetition:\n",
    "        trep.append(time.time())\n",
    "        \n",
    "        Tprim=Tprime(order12, p12, index12)+[0,0,0]\n",
    "        timeTprime.append(time.time()-trep[-1])\n",
    "        \n",
    "        index012=almost_dc3(Tprim)\n",
    "        \n",
    "        tBeforeHigherOrder.append(time.time())\n",
    "        index12=resumeHigherOrder(index012, p12)\n",
    "        timeresumeHigherOrder.append(time.time()-tBeforeHigherOrder[-1])\n",
    "    \n",
    "    print(\"taille de p12 après récursion\")\n",
    "    print(len(p12))\n",
    "    \n",
    "    tBeforeP0.append(time.time())\n",
    "    p0,r0=position0_R0(T, index12)\n",
    "    timeposition0_R0.append(time.time()-tBeforeP0[-1])\n",
    "    \n",
    "    alphabet_r0=alphabetR0(r0)\n",
    "    timealphabetR0.append(time.time()-timeposition0_R0[-1])\n",
    "    \n",
    "    r0sorted, index0=sort(r0,p0,alphabet_r0 ,columnNumber-1)\n",
    "    #i dont measure time here\n",
    "    \n",
    "    order0=ordre(r0sorted)\n",
    "    #i dont measure time here\n",
    "    \n",
    "    index012=removesentinel(merge(T, index0, index12))\n",
    "    #i dont measure time here\n",
    "\n",
    "    return index012, timelist\n",
    "   \n",
    "    \n",
    "    "
   ]
  },
  {
   "cell_type": "code",
   "execution_count": null,
   "id": "43ac63b3",
   "metadata": {},
   "outputs": [],
   "source": [
    "length_repeating_loop=len(timeTprime)\n",
    "timeTprime+=[0*i for i in range(len(t0)-length_repeating_loop)]\n",
    "timeresumeHigherOrder+=[0*i for i in range(len(t0)-length_repeating_loop)]"
   ]
  },
  {
   "cell_type": "code",
   "execution_count": null,
   "id": "fa6456c5",
   "metadata": {},
   "outputs": [],
   "source": [
    "time_measuring=pd.DataFrame({'p12':timep12, \n",
    "                             'r12':timer12, \n",
    "                             'alphabet':timealphabet, \n",
    "                             'sort':timesort, \n",
    "                             'order':timeorder, \n",
    "                             'Tprime':timeTprime, \n",
    "                             'HigherOrder':timeresumeHigherOrder, \n",
    "                             'P0':timeposition0_R0, \n",
    "                             'alphabetRO':timealphabetR0})"
   ]
  },
  {
   "cell_type": "code",
   "execution_count": null,
   "id": "47a655e8",
   "metadata": {},
   "outputs": [],
   "source": [
    "time_measuring"
   ]
  },
  {
   "cell_type": "code",
   "execution_count": null,
   "id": "975528cd",
   "metadata": {},
   "outputs": [],
   "source": [
    "time_measuring_melted = pd.melt(time_measuring)"
   ]
  },
  {
   "cell_type": "code",
   "execution_count": null,
   "id": "8c610784",
   "metadata": {},
   "outputs": [],
   "source": [
    "sns.boxplot(x='variable', y='value', data=time_measuring_melted)"
   ]
  }
 ],
 "metadata": {
  "kernelspec": {
   "display_name": "Python 3 (ipykernel)",
   "language": "python",
   "name": "python3"
  },
  "language_info": {
   "codemirror_mode": {
    "name": "ipython",
    "version": 3
   },
   "file_extension": ".py",
   "mimetype": "text/x-python",
   "name": "python",
   "nbconvert_exporter": "python",
   "pygments_lexer": "ipython3",
   "version": "3.10.12"
  }
 },
 "nbformat": 4,
 "nbformat_minor": 5
}
